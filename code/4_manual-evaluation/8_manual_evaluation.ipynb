{
 "cells": [
  {
   "cell_type": "code",
   "execution_count": 4,
   "metadata": {},
   "outputs": [
    {
     "name": "stdout",
     "output_type": "stream",
     "text": [
      "C:\\Users\\elba_ro\\Documents\\dlr_projects\\repository-synergy\\code\n"
     ]
    },
    {
     "name": "stderr",
     "output_type": "stream",
     "text": [
      "[nltk_data] Downloading package wordnet to\n",
      "[nltk_data]     C:\\Users\\elba_ro\\AppData\\Roaming\\nltk_data...\n",
      "[nltk_data]   Package wordnet is already up-to-date!\n"
     ]
    }
   ],
   "source": [
    "import pandas as pd\n",
    "import numpy as np\n",
    "import itertools\n",
    "from collections import Counter\n",
    "import krippendorff\n",
    "import scipy\n",
    "import scipy.stats as stats\n",
    "import seaborn as sns\n",
    "import matplotlib.pyplot as plt\n",
    "import importlib, os\n",
    "import sklearn\n",
    "\n",
    "current_dir = os.getcwd()\n",
    "%cd ..\n",
    "import textmining\n",
    "from textmining import text_miner\n",
    "importlib.reload(textmining.text_miner)\n",
    "os.chdir(current_dir)\n",
    "\n",
    "\n",
    "%matplotlib inline\n",
    "\n",
    "sns.reset_defaults()\n",
    "sns.set(\n",
    "    rc={'figure.figsize':(4,2)}, \n",
    "    style=\"white\" # nicer layout\n",
    ")"
   ]
  },
  {
   "cell_type": "markdown",
   "metadata": {},
   "source": [
    "# Get Results "
   ]
  },
  {
   "cell_type": "code",
   "execution_count": 5,
   "metadata": {},
   "outputs": [],
   "source": [
    "eval_root = '../../data/evaluation/manual/results'\n",
    "\n",
    "annotations= '{}/reposynergy.annotation.csv'.format(eval_root)\n",
    "repo_pairs = '{}/repositorypiar_with_bert_uncased.csv'.format(eval_root)#'{}/reposynergy.repositorypair.csv'.format(eval_root)\n",
    "repo_pairs_scores = '{}/repositorypair_score_with_bert_uncased_score.csv'.format(eval_root)#'{}/reposynergy.repositorypair_scores.csv'.format(eval_root)\n",
    "users      = '{}/reposynergy.user.csv'.format(eval_root)"
   ]
  },
  {
   "cell_type": "code",
   "execution_count": 6,
   "metadata": {},
   "outputs": [],
   "source": [
    "# remove dummy annotations\n",
    "batch1_user_ids = [8, 12, 10]\n",
    "batch2_user_ids = [11,13,15]\n",
    "batch3_user_ids = [19, 16, 20] \n",
    "#[(19, 16, 20), (19, 16, 14), (19, 20, 14), (16, 20, 14)]\n",
    "valid_users= batch1_user_ids +batch2_user_ids +batch3_user_ids\n"
   ]
  },
  {
   "cell_type": "code",
   "execution_count": 7,
   "metadata": {},
   "outputs": [],
   "source": [
    "# get all data: annotations, pairs, and pair scores\n",
    "annotations_df= pd.read_csv(annotations)\n",
    "annotations_df = annotations_df[annotations_df['user_id'].isin(valid_users)].copy()\n",
    "\n",
    "repo_pairs_df = pd.read_csv(repo_pairs)\n",
    "repo_pairs_df.set_index('id', inplace=True)\n",
    "repo_pairs_scores_df = pd.read_csv(repo_pairs_scores)\n",
    "\n",
    "\n",
    "users_df      = pd.read_csv(users)\n",
    "users_df.set_index('id', inplace=True)\n",
    "\n"
   ]
  },
  {
   "cell_type": "code",
   "execution_count": 8,
   "metadata": {},
   "outputs": [],
   "source": [
    "# Add mapped synergy\n",
    "def _synergy_map(row):\n",
    "    map_syn = {1:-1, 2:0, 3:1, 4:2}\n",
    "    row['synergy_map'] = map_syn[row['synergy']]\n",
    "    return row\n",
    "\n",
    "def _abstract_synergy_map(row):\n",
    "    map_syn = {1:0, 2:1, 3:2, 4:2}\n",
    "    row['synergy_abstract'] = map_syn[row['synergy']]\n",
    "    return row\n",
    "\n",
    "def _yn_synergy_map(row):\n",
    "    map_syn = {1:0, 2:1, 3:1, 4:1}\n",
    "    row['synergy_yn'] = map_syn[row['synergy']]\n",
    "    return row\n",
    "annotations_df=annotations_df.apply(_synergy_map, axis=1)\n",
    "annotations_df=annotations_df.apply(_abstract_synergy_map, axis=1)\n",
    "annotations_df=annotations_df.apply(_yn_synergy_map, axis=1)"
   ]
  },
  {
   "cell_type": "code",
   "execution_count": 126,
   "metadata": {},
   "outputs": [],
   "source": [
    "# Get Jaccard Score for each pair\n",
    "def get_repo_readme(url):\n",
    "    folder = \"../../data/readme_files\"\n",
    "    path = '{}/{}.md'.format(folder, '.'.join(url.split('/')[-2:]))\n",
    "    data = None#\n",
    "\n",
    "    with open(path, 'r', encoding=\"utf8\") as file:\n",
    "        data = file.read()\n",
    "\n",
    "    return data\n",
    "\n",
    "def jaccard_similarity(text1, text2):\n",
    "    intersection = set(text1).intersection(set(text2))\n",
    "    union = set(text1).union(set(text2))\n",
    "    return len(intersection)/len(union)\n",
    "\n",
    "def _get_jaccard_sim(row):\n",
    "    readme1 = get_repo_readme(row[\"repo_url1\"])\n",
    "    readme2 = get_repo_readme(row[\"repo_url2\"])\n",
    "    \n",
    "    readme1 = text_miner.preprocess(readme1, stem_lemma=2)['lemmas']\n",
    "    readme2 = text_miner.preprocess(readme2, stem_lemma=2)['lemmas']\n",
    "    \n",
    "    row['jaccard'] =  jaccard_similarity(readme1, readme2)\n",
    "    return row\n",
    "repo_pairs_scores_df = repo_pairs_scores_df.apply(_get_jaccard_sim, axis=1)\n",
    "repo_pairs_df = repo_pairs_df.apply(_get_jaccard_sim, axis=1)"
   ]
  },
  {
   "cell_type": "code",
   "execution_count": 9,
   "metadata": {},
   "outputs": [],
   "source": [
    "def join_all_dfs(df):\n",
    "    ann_df = df.copy()\n",
    "    ann_df['repopair_id'] = ann_df['repository_pair_id']\n",
    "    ann_df['u_id'] = ann_df['user_id']\n",
    "    \n",
    "    \n",
    "    ann_df = ann_df.set_index('repopair_id').join(repo_pairs_df, how='inner', lsuffix='repopair_').copy()\n",
    "    ann_df = ann_df.set_index('u_id').join(users_df, how='inner', lsuffix='users_')\n",
    "    return ann_df\n",
    "data_df = join_all_dfs(annotations_df)\n",
    "data_df = data_df[data_df['user_id'].isin(valid_users)].copy()"
   ]
  },
  {
   "cell_type": "code",
   "execution_count": 10,
   "metadata": {},
   "outputs": [
    {
     "data": {
      "text/html": [
       "<div>\n",
       "<style scoped>\n",
       "    .dataframe tbody tr th:only-of-type {\n",
       "        vertical-align: middle;\n",
       "    }\n",
       "\n",
       "    .dataframe tbody tr th {\n",
       "        vertical-align: top;\n",
       "    }\n",
       "\n",
       "    .dataframe thead th {\n",
       "        text-align: right;\n",
       "    }\n",
       "</style>\n",
       "<table border=\"1\" class=\"dataframe\">\n",
       "  <thead>\n",
       "    <tr style=\"text-align: right;\">\n",
       "      <th></th>\n",
       "      <th>algorithm</th>\n",
       "      <th>synergy</th>\n",
       "    </tr>\n",
       "  </thead>\n",
       "  <tbody>\n",
       "    <tr>\n",
       "      <th>8</th>\n",
       "      <td>random</td>\n",
       "      <td>1</td>\n",
       "    </tr>\n",
       "    <tr>\n",
       "      <th>8</th>\n",
       "      <td>d02</td>\n",
       "      <td>1</td>\n",
       "    </tr>\n",
       "    <tr>\n",
       "      <th>8</th>\n",
       "      <td>random</td>\n",
       "      <td>1</td>\n",
       "    </tr>\n",
       "    <tr>\n",
       "      <th>8</th>\n",
       "      <td>random</td>\n",
       "      <td>3</td>\n",
       "    </tr>\n",
       "    <tr>\n",
       "      <th>8</th>\n",
       "      <td>d02</td>\n",
       "      <td>1</td>\n",
       "    </tr>\n",
       "    <tr>\n",
       "      <th>...</th>\n",
       "      <td>...</td>\n",
       "      <td>...</td>\n",
       "    </tr>\n",
       "    <tr>\n",
       "      <th>20</th>\n",
       "      <td>d00</td>\n",
       "      <td>3</td>\n",
       "    </tr>\n",
       "    <tr>\n",
       "      <th>20</th>\n",
       "      <td>d02</td>\n",
       "      <td>4</td>\n",
       "    </tr>\n",
       "    <tr>\n",
       "      <th>20</th>\n",
       "      <td>d00</td>\n",
       "      <td>4</td>\n",
       "    </tr>\n",
       "    <tr>\n",
       "      <th>20</th>\n",
       "      <td>d00</td>\n",
       "      <td>1</td>\n",
       "    </tr>\n",
       "    <tr>\n",
       "      <th>20</th>\n",
       "      <td>d00</td>\n",
       "      <td>3</td>\n",
       "    </tr>\n",
       "  </tbody>\n",
       "</table>\n",
       "<p>270 rows × 2 columns</p>\n",
       "</div>"
      ],
      "text/plain": [
       "   algorithm  synergy\n",
       "8     random        1\n",
       "8        d02        1\n",
       "8     random        1\n",
       "8     random        3\n",
       "8        d02        1\n",
       "..       ...      ...\n",
       "20       d00        3\n",
       "20       d02        4\n",
       "20       d00        4\n",
       "20       d00        1\n",
       "20       d00        3\n",
       "\n",
       "[270 rows x 2 columns]"
      ]
     },
     "execution_count": 10,
     "metadata": {},
     "output_type": "execute_result"
    }
   ],
   "source": [
    "data_df[['algorithm', 'synergy']]"
   ]
  },
  {
   "cell_type": "markdown",
   "metadata": {},
   "source": [
    "# 1. Interannotator agreement"
   ]
  },
  {
   "cell_type": "code",
   "execution_count": 129,
   "metadata": {},
   "outputs": [
    {
     "name": "stdout",
     "output_type": "stream",
     "text": [
      "90\n",
      "90\n",
      "90\n",
      "90\n",
      "90\n",
      "90\n"
     ]
    }
   ],
   "source": [
    "batch1_annotations = annotations_df[annotations_df['user_id'].isin(batch1_user_ids)].copy()\n",
    "batch2_annotations = annotations_df[annotations_df['user_id'].isin(batch2_user_ids)].copy()\n",
    "batch3_annotations = annotations_df[annotations_df['user_id'].isin(batch3_user_ids)].copy()\n",
    "\n",
    "d00_annotations = data_df[data_df['algorithm'] == 'd00'].copy()\n",
    "d02_annotations = data_df[data_df['algorithm'] == 'd02'].copy()\n",
    "random_annotations = data_df[data_df['algorithm'] == 'random'].copy()\n",
    "\n",
    "print(len(batch1_annotations))\n",
    "print(len(batch2_annotations))\n",
    "print(len(batch3_annotations))\n",
    "\n",
    "print(len(d00_annotations))\n",
    "print(len(d02_annotations))\n",
    "print(len(random_annotations))"
   ]
  },
  {
   "cell_type": "code",
   "execution_count": 130,
   "metadata": {},
   "outputs": [],
   "source": [
    "save_cols = ['a_id', 'user_id', 'repository_pair_id', 'synergy',\n",
    "       'direction', 'explanation', 'synergy_map', 'synergy_abstract', 'repo_description1',\n",
    "       'repo_description2', 'score', 'username', 'batch']"
   ]
  },
  {
   "cell_type": "code",
   "execution_count": 131,
   "metadata": {},
   "outputs": [],
   "source": [
    "d00_annotations[save_cols].sort_values('repository_pair_id').to_csv('{}/d00_evaluation.csv'.format(eval_root))\n",
    "d02_annotations[save_cols].sort_values('repository_pair_id').to_csv('{}/d02_evaluation.csv'.format(eval_root))\n",
    "random_annotations[save_cols].sort_values('repository_pair_id').to_csv('{}/random_evaluation.csv'.format(eval_root))"
   ]
  },
  {
   "cell_type": "code",
   "execution_count": 132,
   "metadata": {},
   "outputs": [
    {
     "name": "stdout",
     "output_type": "stream",
     "text": [
      "Krippendorf's\n",
      "Batch 1: 0.02516281823564248\n",
      "Batch 2: -0.19049815498154987\n",
      "Batch 3: -0.025233132199670827\n",
      "all annotations:  -0.07324247189702371\n",
      "\n",
      "MAJORITY\n",
      "Batch 1: 0.97\n",
      "Batch 2: 0.73\n",
      "Batch 3: 0.93\n",
      "all annotations:  0.88\n",
      "\n",
      "FULL\n",
      "Batch 1:  0.4\n",
      "Batch 2:  0.17\n",
      "Batch 3:  0.33\n",
      "all annotations:  0.3\n"
     ]
    }
   ],
   "source": [
    "# helper \n",
    "def pad_2d_array(lst):\n",
    "    pad = len(max(lst, key=len))\n",
    "    return np.array([i + [0]*(pad-len(i)) for i in lst])\n",
    "\n",
    "def _get_value_counts(df, var = 'synergy'):\n",
    "    synergy_value_counts = [] # this array will contain X arrays where X is the number of articles.\n",
    "                           # each x contains N elements where N is the number of distinct theses selected by annotators\n",
    "                           # each element is the count of annotators that selected a speicifc thesis\n",
    "\n",
    "    for repo_pair_id, group in df.groupby(['repository_pair_id']): # for each article, we will have 1 array, X\n",
    "\n",
    "        synergy_list = group[var].tolist() # 5 theses , a thesis can be 2 segments\n",
    "\n",
    "        value_counts = list(Counter(synergy_list).values())\n",
    "        synergy_value_counts.append(value_counts)\n",
    "        \n",
    "    return synergy_value_counts\n",
    "\n",
    "def calculate_kripp_agreement(df, var='synergy'):\n",
    "    synergy_value_counts = _get_value_counts(df, var=var)\n",
    "    padded = pad_2d_array(synergy_value_counts)\n",
    "    \n",
    "    agreement = krippendorff.alpha(value_counts=padded, level_of_measurement='nominal')\n",
    "    return agreement\n",
    "\n",
    "def calculate_majority_agreement(df, threshold= 2, var='synergy'):\n",
    "    synergy_value_counts = _get_value_counts(df, var=var)\n",
    "\n",
    "    maxes = [max(x) for x in synergy_value_counts]\n",
    "    maj = round(((sum(i >= threshold for i in maxes))/len(synergy_value_counts)), 2)\n",
    "    return maj\n",
    "\n",
    "print('Krippendorf\\'s')\n",
    "print('Batch 1:' , calculate_kripp_agreement(batch1_annotations, var='synergy'))\n",
    "print('Batch 2:' , calculate_kripp_agreement(batch2_annotations, var='synergy'))\n",
    "print('Batch 3:' , calculate_kripp_agreement(batch3_annotations, var='synergy'))\n",
    "print('all annotations: ', calculate_kripp_agreement(annotations_df, var='synergy'))\n",
    "print()\n",
    "print('MAJORITY')\n",
    "print('Batch 1:' , calculate_majority_agreement(batch1_annotations))\n",
    "print('Batch 2:' , calculate_majority_agreement(batch2_annotations))\n",
    "print('Batch 3:' , calculate_majority_agreement(batch3_annotations))\n",
    "print('all annotations: ', calculate_majority_agreement(annotations_df))\n",
    "print()\n",
    "print('FULL')\n",
    "print('Batch 1: ', calculate_majority_agreement(batch1_annotations, threshold=3))\n",
    "print('Batch 2: ', calculate_majority_agreement(batch2_annotations, threshold=3))\n",
    "print('Batch 3: ', calculate_majority_agreement(batch3_annotations, threshold=3))\n",
    "print('all annotations: ', calculate_majority_agreement(annotations_df, threshold=3))"
   ]
  },
  {
   "cell_type": "code",
   "execution_count": 170,
   "metadata": {},
   "outputs": [
    {
     "data": {
      "text/plain": [
       "Index(['a_id', 'user_id', 'repository_pair_id', 'annotation_date', 'synergy',\n",
       "       'direction', 'explanation', 'synergy_map', 'synergy_abstract',\n",
       "       'synergy_yn', 'repo_url1', 'repo_url2', 'repo_description1',\n",
       "       'repo_description2', 'score', 'is_random', 'algorithm', 'batchusers_',\n",
       "       'jaccard', 'password', 'last_login', 'is_superuser', 'username',\n",
       "       'first_name', 'last_name', 'email', 'is_staff', 'is_active',\n",
       "       'date_joined', 'batch'],\n",
       "      dtype='object')"
      ]
     },
     "execution_count": 170,
     "metadata": {},
     "output_type": "execute_result"
    }
   ],
   "source": [
    "d00_annotations.columns"
   ]
  },
  {
   "cell_type": "code",
   "execution_count": 174,
   "metadata": {},
   "outputs": [
    {
     "name": "stdout",
     "output_type": "stream",
     "text": [
      "Krippendorf's\n",
      "d00: 0.04761904761904767\n",
      "d02: -0.09486057955166749\n",
      "random: 0.19143413367942896\n",
      "all annotations:  -0.0065898403867805655\n",
      "\n",
      "Krippendorf's yes no\n",
      "d00: 0.07867494824016552\n",
      "d02: 0.10725308641975306\n",
      "random: 0.22660427807486627\n",
      "all annotations:  0.0796895861148198\n",
      "\n",
      "MAJORITY\n",
      "d00: 0.8\n",
      "d02: 0.83\n",
      "random: 1.0\n",
      "all annotations:  0.88\n",
      "\n",
      "FULL\n",
      "d00:  0.2\n",
      "d02:  0.2\n",
      "Brandom:  0.5\n",
      "all annotations:  0.3\n",
      "\n",
      "MAJORITY yes no\n",
      "d00: 1.0\n",
      "d02: 1.0\n",
      "random: 1.0\n",
      "all annotations:  1.0\n",
      "\n",
      "FULL yes no\n",
      "d00:  0.5\n",
      "d02:  0.57\n",
      "random:  0.57\n",
      "all annotations:  0.54\n",
      "\n",
      "d00:  0.8\n",
      "d02:  0.87\n",
      "random:  1.0\n",
      "all annotations:  0.89\n",
      "\n",
      "d00:  0.17\n",
      "d02:  0.3\n",
      "random:  0.5\n",
      "all annotations:  0.32\n"
     ]
    }
   ],
   "source": [
    "\n",
    "print('Krippendorf\\'s')\n",
    "print('d00:' , calculate_kripp_agreement(d00_annotations, var='synergy_abstract'))\n",
    "print('d02:' , calculate_kripp_agreement(d02_annotations, var='synergy_abstract'))\n",
    "print('random:' , calculate_kripp_agreement(random_annotations, var='synergy_abstract'))\n",
    "print('all annotations: ', calculate_kripp_agreement(annotations_df, var='synergy_abstract'))\n",
    "print()\n",
    "print('Krippendorf\\'s yes no')\n",
    "print('d00:' , calculate_kripp_agreement(d00_annotations, var='synergy_yn'))\n",
    "print('d02:' , calculate_kripp_agreement(d02_annotations, var='synergy_yn'))\n",
    "print('random:' , calculate_kripp_agreement(random_annotations, var='synergy_yn'))\n",
    "print('all annotations: ', calculate_kripp_agreement(annotations_df, var='synergy_yn'))\n",
    "print()\n",
    "print('MAJORITY')\n",
    "print('d00:' , calculate_majority_agreement(d00_annotations))\n",
    "print('d02:' , calculate_majority_agreement(d02_annotations))\n",
    "print('random:' , calculate_majority_agreement(random_annotations))\n",
    "print('all annotations: ', calculate_majority_agreement(annotations_df))\n",
    "print()\n",
    "print('FULL')\n",
    "print('d00: ', calculate_majority_agreement(d00_annotations, threshold=3))\n",
    "print('d02: ', calculate_majority_agreement(d02_annotations, threshold=3))\n",
    "print('Brandom: ', calculate_majority_agreement(random_annotations, threshold=3))\n",
    "print('all annotations: ', calculate_majority_agreement(annotations_df, threshold=3))\n",
    "\n",
    "print()\n",
    "print('MAJORITY yes no')\n",
    "print('d00:' , calculate_majority_agreement(d00_annotations, var='synergy_yn'))\n",
    "print('d02:' , calculate_majority_agreement(d02_annotations, var='synergy_yn'))\n",
    "print('random:' , calculate_majority_agreement(random_annotations, var='synergy_yn'))\n",
    "print('all annotations: ', calculate_majority_agreement(annotations_df, var='synergy_yn'))\n",
    "print()\n",
    "print('FULL yes no')\n",
    "print('d00: ', calculate_majority_agreement(d00_annotations, threshold=3, var='synergy_yn'))\n",
    "print('d02: ', calculate_majority_agreement(d02_annotations, threshold=3, var='synergy_yn'))\n",
    "print('random: ', calculate_majority_agreement(random_annotations, threshold=3, var='synergy_yn'))\n",
    "print('all annotations: ', calculate_majority_agreement(annotations_df, threshold=3, var='synergy_yn'))\n",
    "\n",
    "\n",
    "\n",
    "\n",
    "print()\n",
    "print('d00: ', calculate_majority_agreement(d00_annotations, threshold=2, var='direction'))\n",
    "print('d02: ', calculate_majority_agreement(d02_annotations, threshold=2, var='direction'))\n",
    "print('random: ', calculate_majority_agreement(random_annotations, threshold=2, var='direction'))\n",
    "print('all annotations: ', calculate_majority_agreement(annotations_df, threshold=2, var='direction'))\n",
    "\n",
    "print()\n",
    "print('d00: ', calculate_majority_agreement(d00_annotations, threshold=3, var='direction'))\n",
    "print('d02: ', calculate_majority_agreement(d02_annotations, threshold=3, var='direction'))\n",
    "print('random: ', calculate_majority_agreement(random_annotations, threshold=3, var='direction'))\n",
    "print('all annotations: ', calculate_majority_agreement(annotations_df, threshold=3, var='direction'))"
   ]
  },
  {
   "cell_type": "markdown",
   "metadata": {},
   "source": [
    "# 2. df for each algorithm / Significance Tests"
   ]
  },
  {
   "cell_type": "markdown",
   "metadata": {},
   "source": [
    "## DATA as it is"
   ]
  },
  {
   "cell_type": "code",
   "execution_count": 11,
   "metadata": {},
   "outputs": [
    {
     "name": "stdout",
     "output_type": "stream",
     "text": [
      "270\n"
     ]
    },
    {
     "data": {
      "text/plain": [
       "Index(['a_id', 'user_id', 'repository_pair_id', 'annotation_date', 'synergy',\n",
       "       'direction', 'explanation', 'synergy_map', 'synergy_abstract',\n",
       "       'synergy_yn', 'repo_url1', 'repo_url2', 'repo_description1',\n",
       "       'repo_description2', 'score', 'is_random', 'algorithm', 'batchusers_',\n",
       "       'bert_uncased_sim', 'password', 'last_login', 'is_superuser',\n",
       "       'username', 'first_name', 'last_name', 'email', 'is_staff', 'is_active',\n",
       "       'date_joined', 'batch'],\n",
       "      dtype='object')"
      ]
     },
     "execution_count": 11,
     "metadata": {},
     "output_type": "execute_result"
    }
   ],
   "source": [
    "# ALGORITHMS\n",
    "#data_df = join_all_dfs(annotations_df)\n",
    "print(len(data_df))\n",
    "algorithms = data_df['algorithm'].unique()\n",
    "data_df.columns"
   ]
  },
  {
   "cell_type": "code",
   "execution_count": 135,
   "metadata": {},
   "outputs": [
    {
     "data": {
      "text/html": [
       "<div>\n",
       "<style scoped>\n",
       "    .dataframe tbody tr th:only-of-type {\n",
       "        vertical-align: middle;\n",
       "    }\n",
       "\n",
       "    .dataframe tbody tr th {\n",
       "        vertical-align: top;\n",
       "    }\n",
       "\n",
       "    .dataframe thead th {\n",
       "        text-align: right;\n",
       "    }\n",
       "</style>\n",
       "<table border=\"1\" class=\"dataframe\">\n",
       "  <thead>\n",
       "    <tr style=\"text-align: right;\">\n",
       "      <th>synergy_map</th>\n",
       "      <th>-1</th>\n",
       "      <th>0</th>\n",
       "      <th>1</th>\n",
       "      <th>2</th>\n",
       "      <th>All</th>\n",
       "    </tr>\n",
       "    <tr>\n",
       "      <th>algorithm</th>\n",
       "      <th></th>\n",
       "      <th></th>\n",
       "      <th></th>\n",
       "      <th></th>\n",
       "      <th></th>\n",
       "    </tr>\n",
       "  </thead>\n",
       "  <tbody>\n",
       "    <tr>\n",
       "      <th>d00</th>\n",
       "      <td>31</td>\n",
       "      <td>12</td>\n",
       "      <td>25</td>\n",
       "      <td>22</td>\n",
       "      <td>90</td>\n",
       "    </tr>\n",
       "    <tr>\n",
       "      <th>d02</th>\n",
       "      <td>38</td>\n",
       "      <td>15</td>\n",
       "      <td>25</td>\n",
       "      <td>12</td>\n",
       "      <td>90</td>\n",
       "    </tr>\n",
       "    <tr>\n",
       "      <th>random</th>\n",
       "      <td>69</td>\n",
       "      <td>6</td>\n",
       "      <td>11</td>\n",
       "      <td>4</td>\n",
       "      <td>90</td>\n",
       "    </tr>\n",
       "    <tr>\n",
       "      <th>All</th>\n",
       "      <td>138</td>\n",
       "      <td>33</td>\n",
       "      <td>61</td>\n",
       "      <td>38</td>\n",
       "      <td>270</td>\n",
       "    </tr>\n",
       "  </tbody>\n",
       "</table>\n",
       "</div>"
      ],
      "text/plain": [
       "synergy_map   -1   0   1   2  All\n",
       "algorithm                        \n",
       "d00           31  12  25  22   90\n",
       "d02           38  15  25  12   90\n",
       "random        69   6  11   4   90\n",
       "All          138  33  61  38  270"
      ]
     },
     "execution_count": 135,
     "metadata": {},
     "output_type": "execute_result"
    }
   ],
   "source": [
    "pd.crosstab(data_df.algorithm, data_df.synergy_map,margins=True)"
   ]
  },
  {
   "cell_type": "code",
   "execution_count": 136,
   "metadata": {},
   "outputs": [
    {
     "data": {
      "text/html": [
       "<div>\n",
       "<style scoped>\n",
       "    .dataframe tbody tr th:only-of-type {\n",
       "        vertical-align: middle;\n",
       "    }\n",
       "\n",
       "    .dataframe tbody tr th {\n",
       "        vertical-align: top;\n",
       "    }\n",
       "\n",
       "    .dataframe thead th {\n",
       "        text-align: right;\n",
       "    }\n",
       "</style>\n",
       "<table border=\"1\" class=\"dataframe\">\n",
       "  <thead>\n",
       "    <tr style=\"text-align: right;\">\n",
       "      <th>synergy_abstract</th>\n",
       "      <th>0</th>\n",
       "      <th>1</th>\n",
       "      <th>2</th>\n",
       "      <th>All</th>\n",
       "    </tr>\n",
       "    <tr>\n",
       "      <th>algorithm</th>\n",
       "      <th></th>\n",
       "      <th></th>\n",
       "      <th></th>\n",
       "      <th></th>\n",
       "    </tr>\n",
       "  </thead>\n",
       "  <tbody>\n",
       "    <tr>\n",
       "      <th>d00</th>\n",
       "      <td>31</td>\n",
       "      <td>12</td>\n",
       "      <td>47</td>\n",
       "      <td>90</td>\n",
       "    </tr>\n",
       "    <tr>\n",
       "      <th>d02</th>\n",
       "      <td>38</td>\n",
       "      <td>15</td>\n",
       "      <td>37</td>\n",
       "      <td>90</td>\n",
       "    </tr>\n",
       "    <tr>\n",
       "      <th>random</th>\n",
       "      <td>69</td>\n",
       "      <td>6</td>\n",
       "      <td>15</td>\n",
       "      <td>90</td>\n",
       "    </tr>\n",
       "    <tr>\n",
       "      <th>All</th>\n",
       "      <td>138</td>\n",
       "      <td>33</td>\n",
       "      <td>99</td>\n",
       "      <td>270</td>\n",
       "    </tr>\n",
       "  </tbody>\n",
       "</table>\n",
       "</div>"
      ],
      "text/plain": [
       "synergy_abstract    0   1   2  All\n",
       "algorithm                         \n",
       "d00                31  12  47   90\n",
       "d02                38  15  37   90\n",
       "random             69   6  15   90\n",
       "All               138  33  99  270"
      ]
     },
     "execution_count": 136,
     "metadata": {},
     "output_type": "execute_result"
    }
   ],
   "source": [
    "pd.crosstab(data_df.algorithm, data_df.synergy_abstract,margins=True)"
   ]
  },
  {
   "cell_type": "code",
   "execution_count": 137,
   "metadata": {},
   "outputs": [
    {
     "data": {
      "text/html": [
       "<div>\n",
       "<style scoped>\n",
       "    .dataframe tbody tr th:only-of-type {\n",
       "        vertical-align: middle;\n",
       "    }\n",
       "\n",
       "    .dataframe tbody tr th {\n",
       "        vertical-align: top;\n",
       "    }\n",
       "\n",
       "    .dataframe thead th {\n",
       "        text-align: right;\n",
       "    }\n",
       "</style>\n",
       "<table border=\"1\" class=\"dataframe\">\n",
       "  <thead>\n",
       "    <tr style=\"text-align: right;\">\n",
       "      <th>synergy_yn</th>\n",
       "      <th>0</th>\n",
       "      <th>1</th>\n",
       "      <th>All</th>\n",
       "    </tr>\n",
       "    <tr>\n",
       "      <th>algorithm</th>\n",
       "      <th></th>\n",
       "      <th></th>\n",
       "      <th></th>\n",
       "    </tr>\n",
       "  </thead>\n",
       "  <tbody>\n",
       "    <tr>\n",
       "      <th>d00</th>\n",
       "      <td>31</td>\n",
       "      <td>59</td>\n",
       "      <td>90</td>\n",
       "    </tr>\n",
       "    <tr>\n",
       "      <th>d02</th>\n",
       "      <td>38</td>\n",
       "      <td>52</td>\n",
       "      <td>90</td>\n",
       "    </tr>\n",
       "    <tr>\n",
       "      <th>random</th>\n",
       "      <td>69</td>\n",
       "      <td>21</td>\n",
       "      <td>90</td>\n",
       "    </tr>\n",
       "    <tr>\n",
       "      <th>All</th>\n",
       "      <td>138</td>\n",
       "      <td>132</td>\n",
       "      <td>270</td>\n",
       "    </tr>\n",
       "  </tbody>\n",
       "</table>\n",
       "</div>"
      ],
      "text/plain": [
       "synergy_yn    0    1  All\n",
       "algorithm                \n",
       "d00          31   59   90\n",
       "d02          38   52   90\n",
       "random       69   21   90\n",
       "All         138  132  270"
      ]
     },
     "execution_count": 137,
     "metadata": {},
     "output_type": "execute_result"
    }
   ],
   "source": [
    "pd.crosstab(data_df.algorithm, data_df.synergy_yn,margins=True)"
   ]
  },
  {
   "cell_type": "code",
   "execution_count": 138,
   "metadata": {},
   "outputs": [],
   "source": [
    "random_df =  data_df[data_df['algorithm'] == 'random' ]\n",
    "d02_df =  data_df[data_df['algorithm'] == 'd02' ]\n",
    "d00_df =  data_df[data_df['algorithm'] == 'd00' ]"
   ]
  },
  {
   "cell_type": "code",
   "execution_count": 139,
   "metadata": {},
   "outputs": [
    {
     "name": "stdout",
     "output_type": "stream",
     "text": [
      "random:  -0.56\n",
      "d02:  0.12\n",
      "d00:  0.42\n",
      "random:  1.44\n",
      "d02:  2.12\n",
      "d00:  2.42\n"
     ]
    }
   ],
   "source": [
    "print('random: ', round(random_df['synergy_map'].mean(), 2))\n",
    "print('d02: ', round(d02_df['synergy_map'].mean(), 2))\n",
    "print('d00: ', round(d00_df['synergy_map'].mean(), 2))\n",
    "\n",
    "print('random: ', round(random_df['synergy'].mean(), 2))\n",
    "print('d02: ', round(d02_df['synergy'].mean(), 2))\n",
    "print('d00: ', round(d00_df['synergy'].mean(), 2))"
   ]
  },
  {
   "cell_type": "code",
   "execution_count": 140,
   "metadata": {},
   "outputs": [
    {
     "data": {
      "text/plain": [
       "count    90.000000\n",
       "mean      1.444444\n",
       "std       0.875524\n",
       "min       1.000000\n",
       "25%       1.000000\n",
       "50%       1.000000\n",
       "75%       1.000000\n",
       "max       4.000000\n",
       "Name: synergy, dtype: float64"
      ]
     },
     "execution_count": 140,
     "metadata": {},
     "output_type": "execute_result"
    }
   ],
   "source": [
    "random_df['synergy'].describe()"
   ]
  },
  {
   "cell_type": "code",
   "execution_count": 141,
   "metadata": {},
   "outputs": [
    {
     "data": {
      "text/plain": [
       "count    90.000000\n",
       "mean      2.422222\n",
       "std       1.199042\n",
       "min       1.000000\n",
       "25%       1.000000\n",
       "50%       3.000000\n",
       "75%       3.000000\n",
       "max       4.000000\n",
       "Name: synergy, dtype: float64"
      ]
     },
     "execution_count": 141,
     "metadata": {},
     "output_type": "execute_result"
    }
   ],
   "source": [
    "d00_df['synergy'].describe()"
   ]
  },
  {
   "cell_type": "code",
   "execution_count": 142,
   "metadata": {},
   "outputs": [
    {
     "data": {
      "text/plain": [
       "count    90.000000\n",
       "mean      2.122222\n",
       "std       1.109993\n",
       "min       1.000000\n",
       "25%       1.000000\n",
       "50%       2.000000\n",
       "75%       3.000000\n",
       "max       4.000000\n",
       "Name: synergy, dtype: float64"
      ]
     },
     "execution_count": 142,
     "metadata": {},
     "output_type": "execute_result"
    }
   ],
   "source": [
    "d02_df['synergy'].describe()"
   ]
  },
  {
   "cell_type": "code",
   "execution_count": 143,
   "metadata": {},
   "outputs": [
    {
     "data": {
      "text/plain": [
       "Index(['a_id', 'user_id', 'repository_pair_id', 'annotation_date', 'synergy',\n",
       "       'direction', 'explanation', 'synergy_map', 'synergy_abstract',\n",
       "       'synergy_yn', 'repo_url1', 'repo_url2', 'repo_description1',\n",
       "       'repo_description2', 'score', 'is_random', 'algorithm', 'batchusers_',\n",
       "       'jaccard', 'password', 'last_login', 'is_superuser', 'username',\n",
       "       'first_name', 'last_name', 'email', 'is_staff', 'is_active',\n",
       "       'date_joined', 'batch'],\n",
       "      dtype='object')"
      ]
     },
     "execution_count": 143,
     "metadata": {},
     "output_type": "execute_result"
    }
   ],
   "source": [
    "data_df.columns#[['algorithm', 'synergy']]"
   ]
  },
  {
   "cell_type": "code",
   "execution_count": 144,
   "metadata": {},
   "outputs": [
    {
     "name": "stdout",
     "output_type": "stream",
     "text": [
      "data has 270 instances\n",
      "bonforrini_threshold:  0.016666666666666666\n"
     ]
    },
    {
     "data": {
      "text/html": [
       "<div>\n",
       "<style scoped>\n",
       "    .dataframe tbody tr th:only-of-type {\n",
       "        vertical-align: middle;\n",
       "    }\n",
       "\n",
       "    .dataframe tbody tr th {\n",
       "        vertical-align: top;\n",
       "    }\n",
       "\n",
       "    .dataframe thead th {\n",
       "        text-align: right;\n",
       "    }\n",
       "</style>\n",
       "<table border=\"1\" class=\"dataframe\">\n",
       "  <thead>\n",
       "    <tr style=\"text-align: right;\">\n",
       "      <th></th>\n",
       "      <th>random d02</th>\n",
       "      <th>random d00</th>\n",
       "      <th>d02 d00</th>\n",
       "    </tr>\n",
       "    <tr>\n",
       "      <th>feature</th>\n",
       "      <th></th>\n",
       "      <th></th>\n",
       "      <th></th>\n",
       "    </tr>\n",
       "  </thead>\n",
       "  <tbody>\n",
       "    <tr>\n",
       "      <th>synergy</th>\n",
       "      <td>-0.3</td>\n",
       "      <td>-0.39</td>\n",
       "      <td>NaN</td>\n",
       "    </tr>\n",
       "  </tbody>\n",
       "</table>\n",
       "</div>"
      ],
      "text/plain": [
       "         random d02  random d00  d02 d00\n",
       "feature                                 \n",
       "synergy        -0.3       -0.39      NaN"
      ]
     },
     "execution_count": 144,
     "metadata": {},
     "output_type": "execute_result"
    }
   ],
   "source": [
    "from textmining import significance_testing as st\n",
    "significance = st.significance(data_df, features = ['synergy'], save=True, desc='significance_evaluations',independent_var='algorithm' )\n",
    "significance\n"
   ]
  },
  {
   "cell_type": "code",
   "execution_count": 145,
   "metadata": {},
   "outputs": [
    {
     "data": {
      "text/plain": [
       "Index(['a_id', 'user_id', 'repository_pair_id', 'annotation_date', 'synergy',\n",
       "       'direction', 'explanation', 'synergy_map', 'synergy_abstract',\n",
       "       'synergy_yn', 'repo_url1', 'repo_url2', 'repo_description1',\n",
       "       'repo_description2', 'score', 'is_random', 'algorithm', 'batchusers_',\n",
       "       'jaccard', 'password', 'last_login', 'is_superuser', 'username',\n",
       "       'first_name', 'last_name', 'email', 'is_staff', 'is_active',\n",
       "       'date_joined', 'batch'],\n",
       "      dtype='object')"
      ]
     },
     "execution_count": 145,
     "metadata": {},
     "output_type": "execute_result"
    }
   ],
   "source": [
    "data_df.columns"
   ]
  },
  {
   "cell_type": "code",
   "execution_count": 12,
   "metadata": {},
   "outputs": [],
   "source": [
    "data_df['bert_scaled'] = sklearn.preprocessing.minmax_scale(data_df['bert_uncased_sim'] , feature_range=(1, 4),  axis=0, copy=True)\n",
    "#data_df['score_scaled'] = sklearn.preprocessing.minmax_scale(data_df['jaccard'] , feature_range=(1, 4),  axis=0, copy=True)"
   ]
  },
  {
   "cell_type": "code",
   "execution_count": 13,
   "metadata": {},
   "outputs": [
    {
     "data": {
      "image/png": "[encoded data removed]",
      "text/plain": [
       "<Figure size 400x200 with 1 Axes>"
      ]
     },
     "metadata": {},
     "output_type": "display_data"
    }
   ],
   "source": [
    "sns.lineplot('repository_pair_id', 'bert_scaled', hue=\"synergy\", data=data_df, sort=True)\n",
    "plt.show()"
   ]
  },
  {
   "cell_type": "code",
   "execution_count": 148,
   "metadata": {},
   "outputs": [
    {
     "data": {
      "text/plain": [
       "Index(['Unnamed: 0', 'id', 'repo_url1', 'repo_url2', 'repo_description1',\n",
       "       'repo_description2', 'score', 'is_random', 'algorithm', 'batch',\n",
       "       'score_nmf_mult', 'score_nmf_rwr_d00', 'score_nmf_rwr_d01',\n",
       "       'score_nmf_rwr_d02', 'score_nmf_rwr_d03', 'score_nmf_rwr_d05',\n",
       "       'score_lda_rwr_d00', 'score_lda_rwr_d01', 'score_lda_rwr_d02',\n",
       "       'score_lda_rwr_d03', 'score_lda_rwr_d05', 'jaccard'],\n",
       "      dtype='object')"
      ]
     },
     "execution_count": 148,
     "metadata": {},
     "output_type": "execute_result"
    }
   ],
   "source": [
    "\n",
    "repo_pairs_scores_df.columns\n",
    "#sns.boxplot('algorithm', 'score_scaled', hue=\"synergy\", data=data_df)\n",
    "#plt.show()\n"
   ]
  },
  {
   "cell_type": "markdown",
   "metadata": {},
   "source": [
    "## DATA majority"
   ]
  },
  {
   "cell_type": "code",
   "execution_count": 14,
   "metadata": {},
   "outputs": [],
   "source": [
    "def _add_majority_annotations(row, annotations):\n",
    "    #synergy_map = {1: -1, 2: 0, 3: 1, 4: 2}\n",
    "    direction_map = {0: 'None', 12: 'repo1 can benefit from repo2', 21: 'repo2 can benefit from repo1',\n",
    "                     2: 'both can benefit from each others'}\n",
    "\n",
    "    repo_id = row.id\n",
    "\n",
    "    repo_annotations = annotations[annotations['repository_pair_id'] == repo_id].copy()  \n",
    "\n",
    "    if (repo_annotations) is not None :\n",
    "        annotations = [x for x in   list(repo_annotations['synergy'].values)]\n",
    "        directions = [x for x in   list(repo_annotations['direction'].values)]\n",
    "        \n",
    "        row['synergy_majority'] = max(annotations,key=annotations.count)\n",
    "        \n",
    "        row['has_majority'] = True if max(Counter(annotations).values()) >=2 else False\n",
    "        \n",
    "        row['direction_majority'] = max(directions,key=annotations.count) if  max(Counter(directions).values()) >=2 else 2\n",
    "        row['has_majority_direction'] = True if max(Counter(directions).values()) >=2 else False\n",
    "        row['directions'] = directions\n",
    "        \n",
    "        row['synergy_avg'] = round(np.mean(annotations))\n",
    "\n",
    "    return row"
   ]
  },
  {
   "cell_type": "code",
   "execution_count": 15,
   "metadata": {},
   "outputs": [],
   "source": [
    "repo_pairs_ann_df = repo_pairs_scores_df.apply(_add_majority_annotations, axis=1, args=(data_df,))\n",
    "repo_pairs_ann_df.head()\n",
    "repo_pairs_ann_df.drop(columns=['Unnamed: 0'], axis=1, inplace=True)"
   ]
  },
  {
   "cell_type": "code",
   "execution_count": 16,
   "metadata": {},
   "outputs": [
    {
     "name": "stdout",
     "output_type": "stream",
     "text": [
      "True     80\n",
      "False    10\n",
      "Name: has_majority_direction, dtype: int64\n",
      "True     79\n",
      "False    11\n",
      "Name: has_majority, dtype: int64\n"
     ]
    }
   ],
   "source": [
    "print(repo_pairs_ann_df.has_majority_direction.value_counts())\n",
    "print(repo_pairs_ann_df.has_majority.value_counts())\n"
   ]
  },
  {
   "cell_type": "code",
   "execution_count": 17,
   "metadata": {},
   "outputs": [
    {
     "data": {
      "text/html": [
       "<div>\n",
       "<style scoped>\n",
       "    .dataframe tbody tr th:only-of-type {\n",
       "        vertical-align: middle;\n",
       "    }\n",
       "\n",
       "    .dataframe tbody tr th {\n",
       "        vertical-align: top;\n",
       "    }\n",
       "\n",
       "    .dataframe thead th {\n",
       "        text-align: right;\n",
       "    }\n",
       "</style>\n",
       "<table border=\"1\" class=\"dataframe\">\n",
       "  <thead>\n",
       "    <tr style=\"text-align: right;\">\n",
       "      <th></th>\n",
       "      <th>repo_description1</th>\n",
       "      <th>repo_description2</th>\n",
       "      <th>algorithm</th>\n",
       "      <th>direction_majority</th>\n",
       "      <th>synergy_majority</th>\n",
       "    </tr>\n",
       "  </thead>\n",
       "  <tbody>\n",
       "    <tr>\n",
       "      <th>10</th>\n",
       "      <td>Flexible and scalable Django authorization backend for unified per object permission management</td>\n",
       "      <td>Core common behaviors for Django models, e.g. Timestamps, Publishing, Authoring, Editing and more.</td>\n",
       "      <td>d00</td>\n",
       "      <td>2</td>\n",
       "      <td>4</td>\n",
       "    </tr>\n",
       "    <tr>\n",
       "      <th>54</th>\n",
       "      <td>Restricted Boltzmann Machines in Python.</td>\n",
       "      <td>ETH Robustness Analyzer for Deep Neural Networks</td>\n",
       "      <td>d00</td>\n",
       "      <td>2</td>\n",
       "      <td>4</td>\n",
       "    </tr>\n",
       "    <tr>\n",
       "      <th>65</th>\n",
       "      <td>PiCheckVoltage is a project for the Raspberry Pi intended to provide a mean to check voltage of a battery pack which is used to power electronic assemblies connected to the Raspberry Pi, and execute scripts depending on battery level.</td>\n",
       "      <td>balena-sense</td>\n",
       "      <td>d00</td>\n",
       "      <td>21</td>\n",
       "      <td>4</td>\n",
       "    </tr>\n",
       "    <tr>\n",
       "      <th>76</th>\n",
       "      <td>✍️ An intelligent system that takes a single document and classifies different writing styles within the document using stylometric analysis. The classification is done using K-Means Clustering. Moreover, a detailed description is given in Readme.md. The</td>\n",
       "      <td>Text classification using Naive Bayes and Elasticsearch</td>\n",
       "      <td>d00</td>\n",
       "      <td>21</td>\n",
       "      <td>4</td>\n",
       "    </tr>\n",
       "    <tr>\n",
       "      <th>87</th>\n",
       "      <td>Python Wrapper for NVD3 - It's time for beautiful charts</td>\n",
       "      <td>Awesome React Native UI components updated daily</td>\n",
       "      <td>d00</td>\n",
       "      <td>2</td>\n",
       "      <td>4</td>\n",
       "    </tr>\n",
       "  </tbody>\n",
       "</table>\n",
       "</div>"
      ],
      "text/plain": [
       "                                                                                                                                                                                                                                                  repo_description1  \\\n",
       "10                                                                                                                                                                  Flexible and scalable Django authorization backend for unified per object permission management   \n",
       "54                                                                                                                                                                                                                         Restricted Boltzmann Machines in Python.   \n",
       "65                       PiCheckVoltage is a project for the Raspberry Pi intended to provide a mean to check voltage of a battery pack which is used to power electronic assemblies connected to the Raspberry Pi, and execute scripts depending on battery level.   \n",
       "76  ✍️ An intelligent system that takes a single document and classifies different writing styles within the document using stylometric analysis. The classification is done using K-Means Clustering. Moreover, a detailed description is given in Readme.md. The    \n",
       "87                                                                                                                                                                                                         Python Wrapper for NVD3 - It's time for beautiful charts   \n",
       "\n",
       "                                                                                     repo_description2  \\\n",
       "10  Core common behaviors for Django models, e.g. Timestamps, Publishing, Authoring, Editing and more.   \n",
       "54                                                    ETH Robustness Analyzer for Deep Neural Networks   \n",
       "65                                                                                        balena-sense   \n",
       "76                                             Text classification using Naive Bayes and Elasticsearch   \n",
       "87                                                    Awesome React Native UI components updated daily   \n",
       "\n",
       "   algorithm  direction_majority  synergy_majority  \n",
       "10       d00                   2                 4  \n",
       "54       d00                   2                 4  \n",
       "65       d00                  21                 4  \n",
       "76       d00                  21                 4  \n",
       "87       d00                   2                 4  "
      ]
     },
     "execution_count": 17,
     "metadata": {},
     "output_type": "execute_result"
    }
   ],
   "source": [
    "pd.options.display.max_rows\n",
    "pd.set_option('display.max_colwidth', None)\n",
    "\n",
    "\n",
    "temp = repo_pairs_ann_df[(repo_pairs_ann_df.has_majority == True) \n",
    "                         & (repo_pairs_ann_df.synergy_avg == 4)\n",
    "                         & (repo_pairs_ann_df.algorithm == 'd00')\n",
    "                         & (repo_pairs_ann_df.has_majority_direction == True)][['repo_description1', \n",
    "                                                                        'repo_description2'  ,\n",
    "                                                                       'algorithm', 'direction_majority', \n",
    "                                                                               'synergy_majority']].copy()\n",
    "#print(temp.to_latex(index=False))  \n",
    "\n",
    "temp"
   ]
  },
  {
   "cell_type": "code",
   "execution_count": 153,
   "metadata": {},
   "outputs": [
    {
     "data": {
      "text/plain": [
       "Index(['id', 'repo_url1', 'repo_url2', 'repo_description1',\n",
       "       'repo_description2', 'score', 'is_random', 'algorithm', 'batch',\n",
       "       'score_nmf_mult', 'score_nmf_rwr_d00', 'score_nmf_rwr_d01',\n",
       "       'score_nmf_rwr_d02', 'score_nmf_rwr_d03', 'score_nmf_rwr_d05',\n",
       "       'score_lda_rwr_d00', 'score_lda_rwr_d01', 'score_lda_rwr_d02',\n",
       "       'score_lda_rwr_d03', 'score_lda_rwr_d05', 'jaccard', 'synergy_majority',\n",
       "       'has_majority', 'direction_majority', 'has_majority_direction',\n",
       "       'directions', 'synergy_avg'],\n",
       "      dtype='object')"
      ]
     },
     "execution_count": 153,
     "metadata": {},
     "output_type": "execute_result"
    }
   ],
   "source": [
    "repo_pairs_ann_df.columns"
   ]
  },
  {
   "cell_type": "code",
   "execution_count": 18,
   "metadata": {},
   "outputs": [],
   "source": [
    "repo_pairs_ann_df['score_bert_scaled'] = sklearn.preprocessing.minmax_scale(repo_pairs_ann_df['bert_uncased_sim'] , feature_range=(1, 4),  axis=0, copy=True)\n",
    "repo_pairs_ann_df['score_lda_rwr_d00_scaled'] = sklearn.preprocessing.minmax_scale(repo_pairs_ann_df['score_lda_rwr_d00'] , feature_range=(1, 4),  axis=0, copy=True)\n",
    "repo_pairs_ann_df['score_lda_rwr_d02_scaled'] = sklearn.preprocessing.minmax_scale(repo_pairs_ann_df['score_lda_rwr_d02'] , feature_range=(1, 4),  axis=0, copy=True)\n",
    "\n",
    "\n"
   ]
  },
  {
   "cell_type": "code",
   "execution_count": 19,
   "metadata": {},
   "outputs": [
    {
     "data": {
      "text/html": [
       "<div>\n",
       "<style scoped>\n",
       "    .dataframe tbody tr th:only-of-type {\n",
       "        vertical-align: middle;\n",
       "    }\n",
       "\n",
       "    .dataframe tbody tr th {\n",
       "        vertical-align: top;\n",
       "    }\n",
       "\n",
       "    .dataframe thead th {\n",
       "        text-align: right;\n",
       "    }\n",
       "</style>\n",
       "<table border=\"1\" class=\"dataframe\">\n",
       "  <thead>\n",
       "    <tr style=\"text-align: right;\">\n",
       "      <th></th>\n",
       "      <th>Unnamed: 0.1</th>\n",
       "      <th>id</th>\n",
       "      <th>repo_url1</th>\n",
       "      <th>repo_url2</th>\n",
       "      <th>repo_description1</th>\n",
       "      <th>repo_description2</th>\n",
       "      <th>score</th>\n",
       "      <th>is_random</th>\n",
       "      <th>algorithm</th>\n",
       "      <th>batch</th>\n",
       "      <th>...</th>\n",
       "      <th>bert_uncased_sim</th>\n",
       "      <th>synergy_majority</th>\n",
       "      <th>has_majority</th>\n",
       "      <th>direction_majority</th>\n",
       "      <th>has_majority_direction</th>\n",
       "      <th>directions</th>\n",
       "      <th>synergy_avg</th>\n",
       "      <th>score_bert_scaled</th>\n",
       "      <th>score_lda_rwr_d00_scaled</th>\n",
       "      <th>score_lda_rwr_d02_scaled</th>\n",
       "    </tr>\n",
       "  </thead>\n",
       "  <tbody>\n",
       "    <tr>\n",
       "      <th>0</th>\n",
       "      <td>0</td>\n",
       "      <td>1</td>\n",
       "      <td>https://api.github.com/repos/dashayushman/TAC-GAN</td>\n",
       "      <td>https://api.github.com/repos/entropy1337/infernal-twin</td>\n",
       "      <td>Text Conditioned Auxiliary Classifier Generative Adversarial Network</td>\n",
       "      <td>wireless hacking - This is automated wireless hacking tool</td>\n",
       "      <td>0.000000</td>\n",
       "      <td>True</td>\n",
       "      <td>random</td>\n",
       "      <td>1</td>\n",
       "      <td>...</td>\n",
       "      <td>0.772640</td>\n",
       "      <td>1</td>\n",
       "      <td>True</td>\n",
       "      <td>0</td>\n",
       "      <td>True</td>\n",
       "      <td>[0, 0, 0]</td>\n",
       "      <td>1.0</td>\n",
       "      <td>3.103438</td>\n",
       "      <td>1.000000</td>\n",
       "      <td>1.059542</td>\n",
       "    </tr>\n",
       "    <tr>\n",
       "      <th>1</th>\n",
       "      <td>1</td>\n",
       "      <td>2</td>\n",
       "      <td>https://api.github.com/repos/EugenioDelfa/Smali-CFGs</td>\n",
       "      <td>https://api.github.com/repos/plinss/acmebot</td>\n",
       "      <td>Smali Control Flow Graph's</td>\n",
       "      <td>Certificate manager bot using ACME protocol</td>\n",
       "      <td>0.001523</td>\n",
       "      <td>False</td>\n",
       "      <td>d02</td>\n",
       "      <td>1</td>\n",
       "      <td>...</td>\n",
       "      <td>0.808424</td>\n",
       "      <td>1</td>\n",
       "      <td>True</td>\n",
       "      <td>0</td>\n",
       "      <td>True</td>\n",
       "      <td>[0, 0, 0]</td>\n",
       "      <td>1.0</td>\n",
       "      <td>3.245185</td>\n",
       "      <td>3.573288</td>\n",
       "      <td>3.111039</td>\n",
       "    </tr>\n",
       "    <tr>\n",
       "      <th>2</th>\n",
       "      <td>2</td>\n",
       "      <td>3</td>\n",
       "      <td>https://api.github.com/repos/4pr0n/rip</td>\n",
       "      <td>https://api.github.com/repos/vzhong/embeddings</td>\n",
       "      <td>album ripper</td>\n",
       "      <td>Pretrained Embeddings</td>\n",
       "      <td>0.000000</td>\n",
       "      <td>True</td>\n",
       "      <td>random</td>\n",
       "      <td>1</td>\n",
       "      <td>...</td>\n",
       "      <td>0.241637</td>\n",
       "      <td>1</td>\n",
       "      <td>True</td>\n",
       "      <td>0</td>\n",
       "      <td>True</td>\n",
       "      <td>[0, 0, 0]</td>\n",
       "      <td>1.0</td>\n",
       "      <td>1.000000</td>\n",
       "      <td>1.048503</td>\n",
       "      <td>1.143865</td>\n",
       "    </tr>\n",
       "    <tr>\n",
       "      <th>3</th>\n",
       "      <td>3</td>\n",
       "      <td>4</td>\n",
       "      <td>https://api.github.com/repos/progrium/skypipe</td>\n",
       "      <td>https://api.github.com/repos/marcy-terui/lamvery</td>\n",
       "      <td>A magic pipe in the sky for the command line</td>\n",
       "      <td>Function based deploy and management tool for AWS Lambda.</td>\n",
       "      <td>0.000000</td>\n",
       "      <td>True</td>\n",
       "      <td>random</td>\n",
       "      <td>1</td>\n",
       "      <td>...</td>\n",
       "      <td>0.879565</td>\n",
       "      <td>3</td>\n",
       "      <td>True</td>\n",
       "      <td>21</td>\n",
       "      <td>True</td>\n",
       "      <td>[21, 12, 21]</td>\n",
       "      <td>3.0</td>\n",
       "      <td>3.526993</td>\n",
       "      <td>1.233526</td>\n",
       "      <td>1.259896</td>\n",
       "    </tr>\n",
       "    <tr>\n",
       "      <th>4</th>\n",
       "      <td>4</td>\n",
       "      <td>5</td>\n",
       "      <td>https://api.github.com/repos/weiweihuanghuang/Work-Sans</td>\n",
       "      <td>https://api.github.com/repos/googlei18n/corpuscrawler</td>\n",
       "      <td>A grotesque sans.</td>\n",
       "      <td>Crawler for linguistic corpora</td>\n",
       "      <td>0.001432</td>\n",
       "      <td>False</td>\n",
       "      <td>d02</td>\n",
       "      <td>1</td>\n",
       "      <td>...</td>\n",
       "      <td>0.756321</td>\n",
       "      <td>1</td>\n",
       "      <td>True</td>\n",
       "      <td>0</td>\n",
       "      <td>True</td>\n",
       "      <td>[0, 0, 0]</td>\n",
       "      <td>1.0</td>\n",
       "      <td>3.038795</td>\n",
       "      <td>2.598521</td>\n",
       "      <td>2.886069</td>\n",
       "    </tr>\n",
       "  </tbody>\n",
       "</table>\n",
       "<p>5 rows × 31 columns</p>\n",
       "</div>"
      ],
      "text/plain": [
       "   Unnamed: 0.1  id                                                repo_url1  \\\n",
       "0             0   1        https://api.github.com/repos/dashayushman/TAC-GAN   \n",
       "1             1   2     https://api.github.com/repos/EugenioDelfa/Smali-CFGs   \n",
       "2             2   3                   https://api.github.com/repos/4pr0n/rip   \n",
       "3             3   4            https://api.github.com/repos/progrium/skypipe   \n",
       "4             4   5  https://api.github.com/repos/weiweihuanghuang/Work-Sans   \n",
       "\n",
       "                                                repo_url2  \\\n",
       "0  https://api.github.com/repos/entropy1337/infernal-twin   \n",
       "1             https://api.github.com/repos/plinss/acmebot   \n",
       "2          https://api.github.com/repos/vzhong/embeddings   \n",
       "3        https://api.github.com/repos/marcy-terui/lamvery   \n",
       "4   https://api.github.com/repos/googlei18n/corpuscrawler   \n",
       "\n",
       "                                                      repo_description1  \\\n",
       "0  Text Conditioned Auxiliary Classifier Generative Adversarial Network   \n",
       "1                                            Smali Control Flow Graph's   \n",
       "2                                                          album ripper   \n",
       "3                          A magic pipe in the sky for the command line   \n",
       "4                                                     A grotesque sans.   \n",
       "\n",
       "                                            repo_description2     score  \\\n",
       "0  wireless hacking - This is automated wireless hacking tool  0.000000   \n",
       "1                 Certificate manager bot using ACME protocol  0.001523   \n",
       "2                                       Pretrained Embeddings  0.000000   \n",
       "3   Function based deploy and management tool for AWS Lambda.  0.000000   \n",
       "4                              Crawler for linguistic corpora  0.001432   \n",
       "\n",
       "   is_random algorithm  batch  ...  bert_uncased_sim  synergy_majority  \\\n",
       "0       True    random      1  ...          0.772640                 1   \n",
       "1      False       d02      1  ...          0.808424                 1   \n",
       "2       True    random      1  ...          0.241637                 1   \n",
       "3       True    random      1  ...          0.879565                 3   \n",
       "4      False       d02      1  ...          0.756321                 1   \n",
       "\n",
       "   has_majority  direction_majority  has_majority_direction    directions  \\\n",
       "0          True                   0                    True     [0, 0, 0]   \n",
       "1          True                   0                    True     [0, 0, 0]   \n",
       "2          True                   0                    True     [0, 0, 0]   \n",
       "3          True                  21                    True  [21, 12, 21]   \n",
       "4          True                   0                    True     [0, 0, 0]   \n",
       "\n",
       "   synergy_avg  score_bert_scaled  score_lda_rwr_d00_scaled  \\\n",
       "0          1.0           3.103438                  1.000000   \n",
       "1          1.0           3.245185                  3.573288   \n",
       "2          1.0           1.000000                  1.048503   \n",
       "3          3.0           3.526993                  1.233526   \n",
       "4          1.0           3.038795                  2.598521   \n",
       "\n",
       "   score_lda_rwr_d02_scaled  \n",
       "0                  1.059542  \n",
       "1                  3.111039  \n",
       "2                  1.143865  \n",
       "3                  1.259896  \n",
       "4                  2.886069  \n",
       "\n",
       "[5 rows x 31 columns]"
      ]
     },
     "execution_count": 19,
     "metadata": {},
     "output_type": "execute_result"
    }
   ],
   "source": [
    "repo_pairs_ann_df.head()"
   ]
  },
  {
   "cell_type": "code",
   "execution_count": 20,
   "metadata": {},
   "outputs": [],
   "source": [
    "import pandas as pd\n",
    "lf_repo_pairs_ann_df = repo_pairs_ann_df[['id',  'synergy_avg',\n",
    "                         'score_lda_rwr_d00_scaled',\n",
    "                         'score_lda_rwr_d02_scaled',\n",
    "                         'score_bert_scaled']].copy()\n",
    "lf_repo_pairs_ann_df = pd.wide_to_long(lf_repo_pairs_ann_df, 'score', i='id', j='algorithm',sep='_', suffix='\\w+')\n",
    "lf_repo_pairs_ann_df.reset_index(inplace=True)\n"
   ]
  },
  {
   "cell_type": "code",
   "execution_count": 21,
   "metadata": {},
   "outputs": [
    {
     "data": {
      "image/png": "[encoded data removed]",
      "text/plain": [
       "<Figure size 400x200 with 1 Axes>"
      ]
     },
     "metadata": {},
     "output_type": "display_data"
    }
   ],
   "source": [
    "\n",
    "\n",
    "sns.boxplot('synergy_avg', 'score', hue='algorithm', data=lf_repo_pairs_ann_df)\n",
    "plt.show()"
   ]
  },
  {
   "cell_type": "code",
   "execution_count": 22,
   "metadata": {},
   "outputs": [
    {
     "data": {
      "image/png": "[encoded data removed]",
      "text/plain": [
       "<Figure size 700x400 with 1 Axes>"
      ]
     },
     "metadata": {},
     "output_type": "display_data"
    }
   ],
   "source": [
    "\n",
    "sns.reset_defaults()\n",
    "sns.set(\n",
    "    rc={'figure.figsize':(7,4)}, \n",
    "    #style=\"white\" # nicer layout\n",
    ")\n",
    "plt.ylim(0.9, 4.1)\n",
    "sns.regplot(x=\"bert_uncased_sim\", y=\"synergy_avg\", data=repo_pairs_ann_df)\n",
    "plt.show()"
   ]
  },
  {
   "cell_type": "code",
   "execution_count": 23,
   "metadata": {},
   "outputs": [
    {
     "data": {
      "text/plain": [
       "True     74\n",
       "False     5\n",
       "Name: has_majority_direction, dtype: int64"
      ]
     },
     "execution_count": 23,
     "metadata": {},
     "output_type": "execute_result"
    }
   ],
   "source": [
    "\n",
    "majority_df = repo_pairs_ann_df[repo_pairs_ann_df.has_majority == True].copy()\n",
    "majority_df.has_majority.value_counts()\n",
    "majority_df.has_majority_direction.value_counts()\n"
   ]
  },
  {
   "cell_type": "markdown",
   "metadata": {},
   "source": [
    "## Correlations Algo vs Manual eval"
   ]
  },
  {
   "cell_type": "code",
   "execution_count": 24,
   "metadata": {},
   "outputs": [],
   "source": [
    "algorithms = ['score_nmf_mult', 'score_nmf_rwr_d00', 'score_nmf_rwr_d01',\n",
    "       'score_nmf_rwr_d02', 'score_nmf_rwr_d03', 'score_nmf_rwr_d05',\n",
    "       'score_lda_rwr_d00', 'score_lda_rwr_d01', 'score_lda_rwr_d02',\n",
    "       'score_lda_rwr_d03', 'score_lda_rwr_d05', 'bert_uncased_sim']\n",
    "manual = ['synergy_avg']#['synergy_avg'] #['synergy_majority',\n"
   ]
  },
  {
   "cell_type": "code",
   "execution_count": 25,
   "metadata": {},
   "outputs": [],
   "source": [
    "\n",
    "def calculate_correlations(df, alpha=0.05):\n",
    "\n",
    "    print(\"Correlation between: \\n\")\n",
    "    dv_pairs = list(itertools.product(algorithms, manual))\n",
    "    \n",
    "    for dv_pair in dv_pairs:\n",
    "        corr, p_val = scipy.stats.spearmanr(df[dv_pair[0]], df[dv_pair[1]]) # you can use spearmanr\n",
    "        if p_val < alpha:\n",
    "            print('{}: is {:04.2f} with {} p_value at {} ({:f})'.format(\n",
    "                 str(dv_pair), corr, \n",
    "                 'significant', \n",
    "                  alpha,\n",
    "                 p_val))\n",
    "        \n",
    "        \n",
    "    ######Format for heatmap    \n",
    "    \n",
    "    res= []\n",
    "    for var1 in algorithms:\n",
    "        row_res={}\n",
    "        \n",
    "        \n",
    "        for var2 in manual:\n",
    "            corr, p_val = scipy.stats.spearmanr(df[var1], df[var2]) #\n",
    "            if p_val >= alpha:\n",
    "                print(var1, var2)\n",
    "            else:\n",
    "                row_res['Algorithms'] = var1\n",
    "                row_res[var2] = round(corr, 2)\n",
    "        \n",
    "        if 'Algorithms' in row_res.keys(): res.append(row_res)\n",
    "    res_df = pd.DataFrame(res)\n",
    "    res_df.set_index('Algorithms', inplace=True)\n",
    "    \n",
    "    return res_df"
   ]
  },
  {
   "cell_type": "code",
   "execution_count": 26,
   "metadata": {},
   "outputs": [
    {
     "name": "stdout",
     "output_type": "stream",
     "text": [
      "Correlation between: \n",
      "\n",
      "('score_nmf_mult', 'synergy_avg'): is 0.27 with significant p_value at 0.05 (0.010058)\n",
      "('score_nmf_rwr_d00', 'synergy_avg'): is 0.51 with significant p_value at 0.05 (0.000000)\n",
      "('score_nmf_rwr_d01', 'synergy_avg'): is 0.43 with significant p_value at 0.05 (0.000028)\n",
      "('score_nmf_rwr_d02', 'synergy_avg'): is 0.28 with significant p_value at 0.05 (0.007056)\n",
      "('score_lda_rwr_d00', 'synergy_avg'): is 0.30 with significant p_value at 0.05 (0.004579)\n",
      "('score_lda_rwr_d01', 'synergy_avg'): is 0.29 with significant p_value at 0.05 (0.006373)\n",
      "('score_lda_rwr_d02', 'synergy_avg'): is 0.28 with significant p_value at 0.05 (0.007093)\n",
      "('score_lda_rwr_d03', 'synergy_avg'): is 0.28 with significant p_value at 0.05 (0.007664)\n",
      "score_nmf_rwr_d03 synergy_avg\n",
      "score_nmf_rwr_d05 synergy_avg\n",
      "score_lda_rwr_d05 synergy_avg\n",
      "bert_uncased_sim synergy_avg\n"
     ]
    }
   ],
   "source": [
    "corr_df =calculate_correlations(repo_pairs_ann_df)"
   ]
  },
  {
   "cell_type": "code",
   "execution_count": null,
   "metadata": {},
   "outputs": [],
   "source": [
    "repo_pairs_ann_df.columns"
   ]
  },
  {
   "cell_type": "code",
   "execution_count": 27,
   "metadata": {},
   "outputs": [
    {
     "name": "stdout",
     "output_type": "stream",
     "text": [
      "Correlation between: \n",
      "\n",
      "('score_nmf_mult', 'synergy_avg'): is 0.27 with significant p_value at 0.05 (0.010058)\n",
      "('score_nmf_rwr_d00', 'synergy_avg'): is 0.51 with significant p_value at 0.05 (0.000000)\n",
      "('score_nmf_rwr_d01', 'synergy_avg'): is 0.43 with significant p_value at 0.05 (0.000028)\n",
      "('score_nmf_rwr_d02', 'synergy_avg'): is 0.28 with significant p_value at 0.05 (0.007056)\n",
      "('score_lda_rwr_d00', 'synergy_avg'): is 0.30 with significant p_value at 0.05 (0.004579)\n",
      "('score_lda_rwr_d01', 'synergy_avg'): is 0.29 with significant p_value at 0.05 (0.006373)\n",
      "('score_lda_rwr_d02', 'synergy_avg'): is 0.28 with significant p_value at 0.05 (0.007093)\n",
      "('score_lda_rwr_d03', 'synergy_avg'): is 0.28 with significant p_value at 0.05 (0.007664)\n",
      "score_nmf_rwr_d03 synergy_avg\n",
      "score_nmf_rwr_d05 synergy_avg\n",
      "score_lda_rwr_d05 synergy_avg\n",
      "bert_uncased_sim synergy_avg\n"
     ]
    },
    {
     "data": {
      "text/html": [
       "<div>\n",
       "<style scoped>\n",
       "    .dataframe tbody tr th:only-of-type {\n",
       "        vertical-align: middle;\n",
       "    }\n",
       "\n",
       "    .dataframe tbody tr th {\n",
       "        vertical-align: top;\n",
       "    }\n",
       "\n",
       "    .dataframe thead th {\n",
       "        text-align: right;\n",
       "    }\n",
       "</style>\n",
       "<table border=\"1\" class=\"dataframe\">\n",
       "  <thead>\n",
       "    <tr style=\"text-align: right;\">\n",
       "      <th></th>\n",
       "      <th>synergy_avg</th>\n",
       "    </tr>\n",
       "    <tr>\n",
       "      <th>Algorithms</th>\n",
       "      <th></th>\n",
       "    </tr>\n",
       "  </thead>\n",
       "  <tbody>\n",
       "    <tr>\n",
       "      <th>score_nmf_mult</th>\n",
       "      <td>0.27</td>\n",
       "    </tr>\n",
       "    <tr>\n",
       "      <th>score_nmf_rwr_d00</th>\n",
       "      <td>0.51</td>\n",
       "    </tr>\n",
       "    <tr>\n",
       "      <th>score_nmf_rwr_d01</th>\n",
       "      <td>0.43</td>\n",
       "    </tr>\n",
       "    <tr>\n",
       "      <th>score_nmf_rwr_d02</th>\n",
       "      <td>0.28</td>\n",
       "    </tr>\n",
       "    <tr>\n",
       "      <th>score_lda_rwr_d00</th>\n",
       "      <td>0.30</td>\n",
       "    </tr>\n",
       "    <tr>\n",
       "      <th>score_lda_rwr_d01</th>\n",
       "      <td>0.29</td>\n",
       "    </tr>\n",
       "    <tr>\n",
       "      <th>score_lda_rwr_d02</th>\n",
       "      <td>0.28</td>\n",
       "    </tr>\n",
       "    <tr>\n",
       "      <th>score_lda_rwr_d03</th>\n",
       "      <td>0.28</td>\n",
       "    </tr>\n",
       "  </tbody>\n",
       "</table>\n",
       "</div>"
      ],
      "text/plain": [
       "                   synergy_avg\n",
       "Algorithms                    \n",
       "score_nmf_mult            0.27\n",
       "score_nmf_rwr_d00         0.51\n",
       "score_nmf_rwr_d01         0.43\n",
       "score_nmf_rwr_d02         0.28\n",
       "score_lda_rwr_d00         0.30\n",
       "score_lda_rwr_d01         0.29\n",
       "score_lda_rwr_d02         0.28\n",
       "score_lda_rwr_d03         0.28"
      ]
     },
     "execution_count": 27,
     "metadata": {},
     "output_type": "execute_result"
    }
   ],
   "source": [
    "calculate_correlations(repo_pairs_ann_df)"
   ]
  },
  {
   "cell_type": "code",
   "execution_count": 28,
   "metadata": {},
   "outputs": [],
   "source": [
    "corr_df.sort_values('synergy_avg', ascending=False, inplace=True)"
   ]
  },
  {
   "cell_type": "code",
   "execution_count": 29,
   "metadata": {},
   "outputs": [
    {
     "data": {
      "image/png": "[encoded data removed]",
      "text/plain": [
       "<Figure size 700x400 with 2 Axes>"
      ]
     },
     "metadata": {},
     "output_type": "display_data"
    }
   ],
   "source": [
    "#matrix = np.triu(corr_df)\n",
    "\n",
    "ax = sns.heatmap(corr_df, cmap=\"YlGnBu\", annot=True)#, mask=matrix)\n",
    "\n",
    "labels_maps = {'persuasion_scores': 'Persuasive', 'reasonable_scores': 'Reasonable',\n",
    " 'self_contained_scores': 'Self Contained', 'thesis_scores':'Thesis Indicative', \n",
    "  'overall_scores':'Overall'}\n",
    "labels_x = [item.get_text() for item in ax.get_xticklabels()]\n",
    "#labels_x = [labels_maps[x] for x in labels_x]\n",
    "\n",
    "labels_y = [item.get_text() for item in ax.get_yticklabels()]\n",
    "\n",
    "#labels_y = [labels_maps[x] for x in labels_y]\n",
    "\n",
    "ax.set_xticklabels(labels_x, rotation=45, ha=\"right\")\n",
    "ax.set_yticklabels(labels_y)\n",
    "\n",
    "plt.show()"
   ]
  },
  {
   "cell_type": "markdown",
   "metadata": {},
   "source": [
    "# 3. Directions"
   ]
  },
  {
   "cell_type": "markdown",
   "metadata": {},
   "source": [
    "## All data "
   ]
  },
  {
   "cell_type": "code",
   "execution_count": null,
   "metadata": {},
   "outputs": [],
   "source": [
    "pd.crosstab(data_df['algorithm'], data_df['direction'],margins=True)"
   ]
  },
  {
   "cell_type": "code",
   "execution_count": null,
   "metadata": {},
   "outputs": [],
   "source": [
    "pd.crosstab(data_df['direction'], data_df['synergy'],margins=True).T"
   ]
  },
  {
   "cell_type": "code",
   "execution_count": null,
   "metadata": {},
   "outputs": [],
   "source": [
    "pd.crosstab([data_df['algorithm'], data_df['synergy']], data_df['direction'],margins=True)"
   ]
  },
  {
   "cell_type": "markdown",
   "metadata": {},
   "source": [
    "## Majority"
   ]
  },
  {
   "cell_type": "code",
   "execution_count": 166,
   "metadata": {},
   "outputs": [
    {
     "data": {
      "text/html": [
       "<div>\n",
       "<style scoped>\n",
       "    .dataframe tbody tr th:only-of-type {\n",
       "        vertical-align: middle;\n",
       "    }\n",
       "\n",
       "    .dataframe tbody tr th {\n",
       "        vertical-align: top;\n",
       "    }\n",
       "\n",
       "    .dataframe thead th {\n",
       "        text-align: right;\n",
       "    }\n",
       "</style>\n",
       "<table border=\"1\" class=\"dataframe\">\n",
       "  <thead>\n",
       "    <tr style=\"text-align: right;\">\n",
       "      <th>synergy_avg</th>\n",
       "      <th>1.0</th>\n",
       "      <th>2.0</th>\n",
       "      <th>3.0</th>\n",
       "      <th>4.0</th>\n",
       "      <th>All</th>\n",
       "    </tr>\n",
       "    <tr>\n",
       "      <th>algorithm</th>\n",
       "      <th></th>\n",
       "      <th></th>\n",
       "      <th></th>\n",
       "      <th></th>\n",
       "      <th></th>\n",
       "    </tr>\n",
       "  </thead>\n",
       "  <tbody>\n",
       "    <tr>\n",
       "      <th>d00</th>\n",
       "      <td>5</td>\n",
       "      <td>12</td>\n",
       "      <td>7</td>\n",
       "      <td>6</td>\n",
       "      <td>30</td>\n",
       "    </tr>\n",
       "    <tr>\n",
       "      <th>d02</th>\n",
       "      <td>8</td>\n",
       "      <td>12</td>\n",
       "      <td>9</td>\n",
       "      <td>1</td>\n",
       "      <td>30</td>\n",
       "    </tr>\n",
       "    <tr>\n",
       "      <th>random</th>\n",
       "      <td>20</td>\n",
       "      <td>8</td>\n",
       "      <td>2</td>\n",
       "      <td>0</td>\n",
       "      <td>30</td>\n",
       "    </tr>\n",
       "    <tr>\n",
       "      <th>All</th>\n",
       "      <td>33</td>\n",
       "      <td>32</td>\n",
       "      <td>18</td>\n",
       "      <td>7</td>\n",
       "      <td>90</td>\n",
       "    </tr>\n",
       "  </tbody>\n",
       "</table>\n",
       "</div>"
      ],
      "text/plain": [
       "synergy_avg  1.0  2.0  3.0  4.0  All\n",
       "algorithm                           \n",
       "d00            5   12    7    6   30\n",
       "d02            8   12    9    1   30\n",
       "random        20    8    2    0   30\n",
       "All           33   32   18    7   90"
      ]
     },
     "execution_count": 166,
     "metadata": {},
     "output_type": "execute_result"
    }
   ],
   "source": [
    "pd.crosstab(repo_pairs_ann_df['algorithm'], repo_pairs_ann_df['synergy_avg'],margins=True)"
   ]
  },
  {
   "cell_type": "code",
   "execution_count": 167,
   "metadata": {},
   "outputs": [
    {
     "data": {
      "text/html": [
       "<div>\n",
       "<style scoped>\n",
       "    .dataframe tbody tr th:only-of-type {\n",
       "        vertical-align: middle;\n",
       "    }\n",
       "\n",
       "    .dataframe tbody tr th {\n",
       "        vertical-align: top;\n",
       "    }\n",
       "\n",
       "    .dataframe thead th {\n",
       "        text-align: right;\n",
       "    }\n",
       "</style>\n",
       "<table border=\"1\" class=\"dataframe\">\n",
       "  <thead>\n",
       "    <tr style=\"text-align: right;\">\n",
       "      <th></th>\n",
       "      <th>direction_majority</th>\n",
       "      <th>0</th>\n",
       "      <th>2</th>\n",
       "      <th>12</th>\n",
       "      <th>21</th>\n",
       "      <th>All</th>\n",
       "    </tr>\n",
       "    <tr>\n",
       "      <th>algorithm</th>\n",
       "      <th>synergy_avg</th>\n",
       "      <th></th>\n",
       "      <th></th>\n",
       "      <th></th>\n",
       "      <th></th>\n",
       "      <th></th>\n",
       "    </tr>\n",
       "  </thead>\n",
       "  <tbody>\n",
       "    <tr>\n",
       "      <th rowspan=\"4\" valign=\"top\">d00</th>\n",
       "      <th>1.0</th>\n",
       "      <td>4</td>\n",
       "      <td>1</td>\n",
       "      <td>0</td>\n",
       "      <td>0</td>\n",
       "      <td>5</td>\n",
       "    </tr>\n",
       "    <tr>\n",
       "      <th>2.0</th>\n",
       "      <td>4</td>\n",
       "      <td>6</td>\n",
       "      <td>2</td>\n",
       "      <td>0</td>\n",
       "      <td>12</td>\n",
       "    </tr>\n",
       "    <tr>\n",
       "      <th>3.0</th>\n",
       "      <td>0</td>\n",
       "      <td>3</td>\n",
       "      <td>1</td>\n",
       "      <td>3</td>\n",
       "      <td>7</td>\n",
       "    </tr>\n",
       "    <tr>\n",
       "      <th>4.0</th>\n",
       "      <td>0</td>\n",
       "      <td>4</td>\n",
       "      <td>0</td>\n",
       "      <td>2</td>\n",
       "      <td>6</td>\n",
       "    </tr>\n",
       "    <tr>\n",
       "      <th rowspan=\"4\" valign=\"top\">d02</th>\n",
       "      <th>1.0</th>\n",
       "      <td>7</td>\n",
       "      <td>1</td>\n",
       "      <td>0</td>\n",
       "      <td>0</td>\n",
       "      <td>8</td>\n",
       "    </tr>\n",
       "    <tr>\n",
       "      <th>2.0</th>\n",
       "      <td>5</td>\n",
       "      <td>4</td>\n",
       "      <td>2</td>\n",
       "      <td>1</td>\n",
       "      <td>12</td>\n",
       "    </tr>\n",
       "    <tr>\n",
       "      <th>3.0</th>\n",
       "      <td>0</td>\n",
       "      <td>7</td>\n",
       "      <td>0</td>\n",
       "      <td>2</td>\n",
       "      <td>9</td>\n",
       "    </tr>\n",
       "    <tr>\n",
       "      <th>4.0</th>\n",
       "      <td>0</td>\n",
       "      <td>1</td>\n",
       "      <td>0</td>\n",
       "      <td>0</td>\n",
       "      <td>1</td>\n",
       "    </tr>\n",
       "    <tr>\n",
       "      <th rowspan=\"3\" valign=\"top\">random</th>\n",
       "      <th>1.0</th>\n",
       "      <td>15</td>\n",
       "      <td>2</td>\n",
       "      <td>1</td>\n",
       "      <td>2</td>\n",
       "      <td>20</td>\n",
       "    </tr>\n",
       "    <tr>\n",
       "      <th>2.0</th>\n",
       "      <td>6</td>\n",
       "      <td>1</td>\n",
       "      <td>0</td>\n",
       "      <td>1</td>\n",
       "      <td>8</td>\n",
       "    </tr>\n",
       "    <tr>\n",
       "      <th>3.0</th>\n",
       "      <td>0</td>\n",
       "      <td>0</td>\n",
       "      <td>0</td>\n",
       "      <td>2</td>\n",
       "      <td>2</td>\n",
       "    </tr>\n",
       "    <tr>\n",
       "      <th>All</th>\n",
       "      <th></th>\n",
       "      <td>41</td>\n",
       "      <td>30</td>\n",
       "      <td>6</td>\n",
       "      <td>13</td>\n",
       "      <td>90</td>\n",
       "    </tr>\n",
       "  </tbody>\n",
       "</table>\n",
       "</div>"
      ],
      "text/plain": [
       "direction_majority      0   2  12  21  All\n",
       "algorithm synergy_avg                     \n",
       "d00       1.0           4   1   0   0    5\n",
       "          2.0           4   6   2   0   12\n",
       "          3.0           0   3   1   3    7\n",
       "          4.0           0   4   0   2    6\n",
       "d02       1.0           7   1   0   0    8\n",
       "          2.0           5   4   2   1   12\n",
       "          3.0           0   7   0   2    9\n",
       "          4.0           0   1   0   0    1\n",
       "random    1.0          15   2   1   2   20\n",
       "          2.0           6   1   0   1    8\n",
       "          3.0           0   0   0   2    2\n",
       "All                    41  30   6  13   90"
      ]
     },
     "execution_count": 167,
     "metadata": {},
     "output_type": "execute_result"
    }
   ],
   "source": [
    "pd.crosstab([repo_pairs_ann_df['algorithm'], repo_pairs_ann_df['synergy_avg']], repo_pairs_ann_df['direction_majority'],margins=True)"
   ]
  },
  {
   "cell_type": "code",
   "execution_count": 2,
   "metadata": {},
   "outputs": [],
   "source": [
    "# plotting \n",
    "import matplotlib.pyplot as plt\n",
    "\n",
    "%matplotlib inline\n",
    "\n",
    "sns.reset_defaults()\n",
    "sns.set(\n",
    "    rc={'figure.figsize':(8,5)}, \n",
    "    #style=\"white\" # nicer layout\n",
    ")"
   ]
  },
  {
   "cell_type": "code",
   "execution_count": 14,
   "metadata": {},
   "outputs": [],
   "source": [
    "discovery_rate_df = pd.read_csv('../../data/evaluation/manual/discovery_rates.csv')\n",
    "res_lda_rwr02  = pd.read_csv('../../data/evaluation/stargazing_eval_lda_rwr_d02.csv')"
   ]
  },
  {
   "cell_type": "code",
   "execution_count": 15,
   "metadata": {},
   "outputs": [],
   "source": [
    "discovery_rate_df.set_index('Unnamed: 0', inplace=True)\n",
    "res_lda_rwr02.set_index('Unnamed: 1', inplace=True)"
   ]
  },
  {
   "cell_type": "code",
   "execution_count": 16,
   "metadata": {},
   "outputs": [
    {
     "data": {
      "image/png": "[encoded data removed]",
      "text/plain": [
       "<Figure size 800x500 with 1 Axes>"
      ]
     },
     "metadata": {},
     "output_type": "display_data"
    }
   ],
   "source": [
    "plt.plot(res_lda_rwr02[\"rank\"], res_lda_rwr02.source.astype(\"str\"), 'o', )\n",
    "plt.title(\"LDA - Random Walk Ranking, d=0.2. (median = \" + np.round(np.median(res_lda_rwr02[\"rank\"]), 2).astype(\"str\") + \")\")\n",
    "plt.xlabel(\"Relative Rank of Starred Repository\")\n",
    "plt.ylabel(\"Starred Repository ID\")\n",
    "plt.show()\n"
   ]
  },
  {
   "cell_type": "code",
   "execution_count": 17,
   "metadata": {},
   "outputs": [
    {
     "data": {
      "text/plain": [
       "0.05556393244873342"
      ]
     },
     "execution_count": 17,
     "metadata": {},
     "output_type": "execute_result"
    }
   ],
   "source": [
    "res_lda_rwr02['rank'].min()"
   ]
  },
  {
   "cell_type": "code",
   "execution_count": 18,
   "metadata": {},
   "outputs": [],
   "source": [
    "res_lda_rwr02['rank_round'] = round(res_lda_rwr02['rank']*100)\n",
    "\n",
    "\n",
    "def add_top(row):\n",
    "    if row['rank_round'] <=20:\n",
    "        row['Top Ranking']= '0-20'\n",
    "    elif row['rank_round'] <=30:\n",
    "        row['Top Ranking']= 30\n",
    "    elif row['rank_round'] <=40:\n",
    "        row['Top Ranking']= 40\n",
    "    elif row['rank_round'] <=50:\n",
    "        row['Top Ranking']= 50\n",
    "    elif row['rank_round'] <=60:\n",
    "        row['Top Ranking']= 60\n",
    "    elif row['rank_round'] <=70:\n",
    "        row['Top Ranking']= 70\n",
    "    elif row['rank_round'] <=80:\n",
    "        row['Top Ranking']= 80\n",
    "    elif row['rank_round'] <=90:\n",
    "        row['Top Ranking']= 90\n",
    "    else:\n",
    "        row['Top Ranking']= 100\n",
    "    return row\n",
    "\n",
    "res_lda_rwr02 = res_lda_rwr02.apply(add_top, axis=1)"
   ]
  },
  {
   "cell_type": "code",
   "execution_count": 19,
   "metadata": {},
   "outputs": [
    {
     "data": {
      "text/html": [
       "<div>\n",
       "<style scoped>\n",
       "    .dataframe tbody tr th:only-of-type {\n",
       "        vertical-align: middle;\n",
       "    }\n",
       "\n",
       "    .dataframe tbody tr th {\n",
       "        vertical-align: top;\n",
       "    }\n",
       "\n",
       "    .dataframe thead th {\n",
       "        text-align: right;\n",
       "    }\n",
       "</style>\n",
       "<table border=\"1\" class=\"dataframe\">\n",
       "  <thead>\n",
       "    <tr style=\"text-align: right;\">\n",
       "      <th></th>\n",
       "      <th>source</th>\n",
       "      <th>source.1</th>\n",
       "      <th>target</th>\n",
       "      <th>rank</th>\n",
       "      <th>rank_round</th>\n",
       "      <th>Top Ranking</th>\n",
       "    </tr>\n",
       "    <tr>\n",
       "      <th>Unnamed: 1</th>\n",
       "      <th></th>\n",
       "      <th></th>\n",
       "      <th></th>\n",
       "      <th></th>\n",
       "      <th></th>\n",
       "      <th></th>\n",
       "    </tr>\n",
       "  </thead>\n",
       "  <tbody>\n",
       "    <tr>\n",
       "      <th>0</th>\n",
       "      <td>2.0</td>\n",
       "      <td>2.0</td>\n",
       "      <td>9314.0</td>\n",
       "      <td>0.331574</td>\n",
       "      <td>33.0</td>\n",
       "      <td>40</td>\n",
       "    </tr>\n",
       "    <tr>\n",
       "      <th>0</th>\n",
       "      <td>7.0</td>\n",
       "      <td>7.0</td>\n",
       "      <td>5907.0</td>\n",
       "      <td>0.094692</td>\n",
       "      <td>9.0</td>\n",
       "      <td>0-20</td>\n",
       "    </tr>\n",
       "    <tr>\n",
       "      <th>1</th>\n",
       "      <td>7.0</td>\n",
       "      <td>7.0</td>\n",
       "      <td>10363.0</td>\n",
       "      <td>0.108866</td>\n",
       "      <td>11.0</td>\n",
       "      <td>0-20</td>\n",
       "    </tr>\n",
       "    <tr>\n",
       "      <th>2</th>\n",
       "      <td>7.0</td>\n",
       "      <td>7.0</td>\n",
       "      <td>4151.0</td>\n",
       "      <td>0.235977</td>\n",
       "      <td>24.0</td>\n",
       "      <td>30</td>\n",
       "    </tr>\n",
       "    <tr>\n",
       "      <th>3</th>\n",
       "      <td>7.0</td>\n",
       "      <td>7.0</td>\n",
       "      <td>2036.0</td>\n",
       "      <td>0.294934</td>\n",
       "      <td>29.0</td>\n",
       "      <td>30</td>\n",
       "    </tr>\n",
       "  </tbody>\n",
       "</table>\n",
       "</div>"
      ],
      "text/plain": [
       "            source  source.1   target      rank  rank_round Top Ranking\n",
       "Unnamed: 1                                                             \n",
       "0              2.0       2.0   9314.0  0.331574        33.0          40\n",
       "0              7.0       7.0   5907.0  0.094692         9.0        0-20\n",
       "1              7.0       7.0  10363.0  0.108866        11.0        0-20\n",
       "2              7.0       7.0   4151.0  0.235977        24.0          30\n",
       "3              7.0       7.0   2036.0  0.294934        29.0          30"
      ]
     },
     "execution_count": 19,
     "metadata": {},
     "output_type": "execute_result"
    }
   ],
   "source": [
    "res_lda_rwr02.head()"
   ]
  },
  {
   "cell_type": "code",
   "execution_count": 20,
   "metadata": {},
   "outputs": [
    {
     "data": {
      "text/plain": [
       "(0.20722876, 0.47763224, 0.63711608)"
      ]
     },
     "execution_count": 20,
     "metadata": {},
     "output_type": "execute_result"
    }
   ],
   "source": [
    "sns.color_palette(\"mako_r\", 1)[0]"
   ]
  },
  {
   "cell_type": "code",
   "execution_count": 21,
   "metadata": {},
   "outputs": [
    {
     "data": {
      "image/png": "[encoded data removed]",
      "text/plain": [
       "<Figure size 800x500 with 2 Axes>"
      ]
     },
     "metadata": {},
     "output_type": "display_data"
    }
   ],
   "source": [
    "import matplotlib.pyplot as plt\n",
    "from matplotlib.gridspec import GridSpec\n",
    "import numpy as np\n",
    "\n",
    "x = res_lda_rwr02['rank']#np.random.randn(1000)\n",
    "y = res_lda_rwr02['source']#\n",
    "\n",
    "fig = plt.figure()\n",
    "\n",
    "gs = GridSpec(5,4)\n",
    "\n",
    "ax_joint = fig.add_subplot(gs[1:5,0:4])\n",
    "ax_marg_x = fig.add_subplot(gs[0,0:4])\n",
    "\n",
    "ax_joint.plot(res_lda_rwr02[\"rank\"], res_lda_rwr02.source.astype(\"str\"), 'o', color=sns.color_palette(\"mako_r\", 5)[1])\n",
    "ax_marg_x.hist(x, color=sns.color_palette(\"mako_r\", 1)[0])\n",
    "\n",
    "# Turn off tick labels on marginals\n",
    "plt.setp(ax_marg_x.get_xticklabels(), visible=False)\n",
    "\n",
    "# Set labels on joint\n",
    "#ax_joint.set_title(\"LDA - Random Walk Ranking, d=0.2. (median = \" + np.round(np.median(res_lda_rwr02[\"rank\"]), 2).astype(\"str\") + \")\")\n",
    "ax_joint.set_xlabel(\"Relative Rank of Starred Repository\")\n",
    "ax_joint.set_ylabel(\"Starred Repository ID\")\n",
    "# Set labels on marginals\n",
    "#ax_marg_x.set_ylabel('# of Repositories')\n",
    "plt.show()"
   ]
  },
  {
   "cell_type": "code",
   "execution_count": 24,
   "metadata": {},
   "outputs": [
    {
     "data": {
      "text/plain": [
       "array(['score_lda_rwr_d00', 'score_lda_rwr_d01', 'score_lda_rwr_d02',\n",
       "       'score_lda_rwr_d03', 'score_lda_rwr_d05'], dtype=object)"
      ]
     },
     "execution_count": 24,
     "metadata": {},
     "output_type": "execute_result"
    }
   ],
   "source": [
    "discovery_rate_df.algorithm.unique()"
   ]
  },
  {
   "cell_type": "code",
   "execution_count": 26,
   "metadata": {},
   "outputs": [
    {
     "data": {
      "image/png": "[encoded data removed]",
      "text/plain": [
       "<Figure size 800x500 with 1 Axes>"
      ]
     },
     "metadata": {},
     "output_type": "display_data"
    }
   ],
   "source": [
    "#palette = sns.color_palette(\"mako_r\", 4)\n",
    "plt.close(\"all\")\n",
    "ax = sns.lineplot(x=\"top_p\", y=\"discovery_rate\", data=discovery_rate_df, hue=\"algorithm\", style=\"algorithm\", \n",
    "                  markers=True, dashes=False)#,palette=palette)\n",
    "#for algo, algo_df in discovery_rate_df.groupby('algorithm'):ax\n",
    "ax.set_xlabel(r'$P_{top}$')\n",
    "ax.set_ylabel(r'Discovery Rate ( $Dr(P_{top})$ )')\n",
    "\n",
    "\n",
    "# check axes and find which is have legend\n",
    "\n",
    "plt.legend(title=r'Jumping Probability $d$', loc='best',\n",
    "           labels=[r'$d~=~0.0$', r'$d~=~0.1$', r'$d~=~0.2$', r'$d~=~0.3$', r'$d~=~0.5$'])   \n",
    "plt.title(r'LDA Random Walk Ranking with different Jumping Probability $d$')\n",
    "#ax.set_('d')\n",
    "plt.show()"
   ]
  },
  {
   "cell_type": "code",
   "execution_count": null,
   "metadata": {},
   "outputs": [],
   "source": [
    "repo_pairs_scores_df.columns"
   ]
  },
  {
   "cell_type": "code",
   "execution_count": null,
   "metadata": {},
   "outputs": [],
   "source": [
    "all_repos = pd.read_csv('../../data/processed/final_repo_english_whatwhy.csv')\n",
    "len(all_repos)"
   ]
  },
  {
   "cell_type": "code",
   "execution_count": null,
   "metadata": {},
   "outputs": [],
   "source": [
    "len(all_repos.url_readme.unique())"
   ]
  },
  {
   "cell_type": "code",
   "execution_count": null,
   "metadata": {},
   "outputs": [],
   "source": []
  },
  {
   "cell_type": "code",
   "execution_count": null,
   "metadata": {},
   "outputs": [],
   "source": [
    "\n"
   ]
  },
  {
   "cell_type": "code",
   "execution_count": null,
   "metadata": {},
   "outputs": [],
   "source": [
    "\n",
    "    "
   ]
  },
  {
   "cell_type": "code",
   "execution_count": null,
   "metadata": {},
   "outputs": [],
   "source": [
    "repo_pairs_scores_df = repo_pairs_scores_df.apply(_get_jaccard_sim, axis=1)"
   ]
  },
  {
   "cell_type": "code",
   "execution_count": null,
   "metadata": {},
   "outputs": [],
   "source": [
    "repo_pairs_scores_df.describe()"
   ]
  },
  {
   "cell_type": "code",
   "execution_count": null,
   "metadata": {},
   "outputs": [],
   "source": [
    "repo_pairs_ann_df"
   ]
  },
  {
   "cell_type": "code",
   "execution_count": 121,
   "metadata": {},
   "outputs": [],
   "source": [
    "\n",
    "\n",
    "explanation_df = annotations_df[annotations_df.explanation.notnull()]\n",
    "explanation_df =explanation_df[['a_id', 'user_id', 'repository_pair_id',  'synergy',\n",
    "       'direction', 'explanation',  'synergy_yn']]"
   ]
  },
  {
   "cell_type": "code",
   "execution_count": 122,
   "metadata": {},
   "outputs": [
    {
     "data": {
      "text/html": [
       "<div>\n",
       "<style scoped>\n",
       "    .dataframe tbody tr th:only-of-type {\n",
       "        vertical-align: middle;\n",
       "    }\n",
       "\n",
       "    .dataframe tbody tr th {\n",
       "        vertical-align: top;\n",
       "    }\n",
       "\n",
       "    .dataframe thead th {\n",
       "        text-align: right;\n",
       "    }\n",
       "</style>\n",
       "<table border=\"1\" class=\"dataframe\">\n",
       "  <thead>\n",
       "    <tr style=\"text-align: right;\">\n",
       "      <th></th>\n",
       "      <th>a_id</th>\n",
       "      <th>user_id</th>\n",
       "      <th>repository_pair_id</th>\n",
       "      <th>synergy</th>\n",
       "      <th>direction</th>\n",
       "      <th>explanation</th>\n",
       "      <th>synergy_yn</th>\n",
       "    </tr>\n",
       "  </thead>\n",
       "  <tbody>\n",
       "    <tr>\n",
       "      <th>134</th>\n",
       "      <td>135</td>\n",
       "      <td>12</td>\n",
       "      <td>1</td>\n",
       "      <td>1</td>\n",
       "      <td>0</td>\n",
       "      <td>image generation from text vs. testing wireless security.\\r\\noperate on different type of information: natural language vs. bit streams</td>\n",
       "      <td>0</td>\n",
       "    </tr>\n",
       "    <tr>\n",
       "      <th>240</th>\n",
       "      <td>241</td>\n",
       "      <td>10</td>\n",
       "      <td>1</td>\n",
       "      <td>1</td>\n",
       "      <td>0</td>\n",
       "      <td>Maybe at some point in the future something like Repo 1 could be used to generate visualizations for the wireless scanning in Repo 2. But this is far too speculative to consider it a real synergy, in my view.</td>\n",
       "      <td>0</td>\n",
       "    </tr>\n",
       "    <tr>\n",
       "      <th>135</th>\n",
       "      <td>136</td>\n",
       "      <td>12</td>\n",
       "      <td>2</td>\n",
       "      <td>1</td>\n",
       "      <td>0</td>\n",
       "      <td>visualize program code vs. maintain certificates</td>\n",
       "      <td>0</td>\n",
       "    </tr>\n",
       "    <tr>\n",
       "      <th>241</th>\n",
       "      <td>242</td>\n",
       "      <td>10</td>\n",
       "      <td>2</td>\n",
       "      <td>1</td>\n",
       "      <td>0</td>\n",
       "      <td>I cannot see most of the Readme for Repository 1 in the annotation UI. From what I can gather: Repo1 generates control flow graphs for Java code, Repo2 is implemented in Python.</td>\n",
       "      <td>0</td>\n",
       "    </tr>\n",
       "    <tr>\n",
       "      <th>136</th>\n",
       "      <td>137</td>\n",
       "      <td>12</td>\n",
       "      <td>3</td>\n",
       "      <td>1</td>\n",
       "      <td>0</td>\n",
       "      <td>image scraping for some websites vs. word embedding provider</td>\n",
       "      <td>0</td>\n",
       "    </tr>\n",
       "    <tr>\n",
       "      <th>...</th>\n",
       "      <td>...</td>\n",
       "      <td>...</td>\n",
       "      <td>...</td>\n",
       "      <td>...</td>\n",
       "      <td>...</td>\n",
       "      <td>...</td>\n",
       "      <td>...</td>\n",
       "    </tr>\n",
       "    <tr>\n",
       "      <th>258</th>\n",
       "      <td>259</td>\n",
       "      <td>19</td>\n",
       "      <td>88</td>\n",
       "      <td>4</td>\n",
       "      <td>2</td>\n",
       "      <td>There are some Repositories who combine Recat and NVD3, so this would be a good idea for python, too.</td>\n",
       "      <td>1</td>\n",
       "    </tr>\n",
       "    <tr>\n",
       "      <th>101</th>\n",
       "      <td>102</td>\n",
       "      <td>16</td>\n",
       "      <td>88</td>\n",
       "      <td>4</td>\n",
       "      <td>2</td>\n",
       "      <td>Web applications using Python as backend and React as front end can leverage these libraries for better data visualizations in Python.</td>\n",
       "      <td>1</td>\n",
       "    </tr>\n",
       "    <tr>\n",
       "      <th>259</th>\n",
       "      <td>260</td>\n",
       "      <td>19</td>\n",
       "      <td>89</td>\n",
       "      <td>1</td>\n",
       "      <td>0</td>\n",
       "      <td>Autospec helps you to create RPM´s and pdfcropmargins crops PDF´s, there is no synergy.</td>\n",
       "      <td>0</td>\n",
       "    </tr>\n",
       "    <tr>\n",
       "      <th>133</th>\n",
       "      <td>134</td>\n",
       "      <td>20</td>\n",
       "      <td>90</td>\n",
       "      <td>3</td>\n",
       "      <td>12</td>\n",
       "      <td>Add google maps support additionally to STL Files</td>\n",
       "      <td>1</td>\n",
       "    </tr>\n",
       "    <tr>\n",
       "      <th>260</th>\n",
       "      <td>261</td>\n",
       "      <td>19</td>\n",
       "      <td>90</td>\n",
       "      <td>1</td>\n",
       "      <td>0</td>\n",
       "      <td>I cant see that there is a synergy</td>\n",
       "      <td>0</td>\n",
       "    </tr>\n",
       "  </tbody>\n",
       "</table>\n",
       "<p>206 rows × 7 columns</p>\n",
       "</div>"
      ],
      "text/plain": [
       "     a_id  user_id  repository_pair_id  synergy  direction  \\\n",
       "134   135       12                   1        1          0   \n",
       "240   241       10                   1        1          0   \n",
       "135   136       12                   2        1          0   \n",
       "241   242       10                   2        1          0   \n",
       "136   137       12                   3        1          0   \n",
       "..    ...      ...                 ...      ...        ...   \n",
       "258   259       19                  88        4          2   \n",
       "101   102       16                  88        4          2   \n",
       "259   260       19                  89        1          0   \n",
       "133   134       20                  90        3         12   \n",
       "260   261       19                  90        1          0   \n",
       "\n",
       "                                                                                                                                                                                                          explanation  \\\n",
       "134                                                                           image generation from text vs. testing wireless security.\\r\\noperate on different type of information: natural language vs. bit streams   \n",
       "240  Maybe at some point in the future something like Repo 1 could be used to generate visualizations for the wireless scanning in Repo 2. But this is far too speculative to consider it a real synergy, in my view.   \n",
       "135                                                                                                                                                                  visualize program code vs. maintain certificates   \n",
       "241                                I cannot see most of the Readme for Repository 1 in the annotation UI. From what I can gather: Repo1 generates control flow graphs for Java code, Repo2 is implemented in Python.    \n",
       "136                                                                                                                                                      image scraping for some websites vs. word embedding provider   \n",
       "..                                                                                                                                                                                                                ...   \n",
       "258                                                                                                             There are some Repositories who combine Recat and NVD3, so this would be a good idea for python, too.   \n",
       "101                                                                           Web applications using Python as backend and React as front end can leverage these libraries for better data visualizations in Python.    \n",
       "259                                                                                                                           Autospec helps you to create RPM´s and pdfcropmargins crops PDF´s, there is no synergy.   \n",
       "133                                                                                                                                                                 Add google maps support additionally to STL Files   \n",
       "260                                                                                                                                                                                I cant see that there is a synergy   \n",
       "\n",
       "     synergy_yn  \n",
       "134           0  \n",
       "240           0  \n",
       "135           0  \n",
       "241           0  \n",
       "136           0  \n",
       "..          ...  \n",
       "258           1  \n",
       "101           1  \n",
       "259           0  \n",
       "133           1  \n",
       "260           0  \n",
       "\n",
       "[206 rows x 7 columns]"
      ]
     },
     "execution_count": 122,
     "metadata": {},
     "output_type": "execute_result"
    }
   ],
   "source": [
    "explanation_df.sort_values('repository_pair_id')"
   ]
  },
  {
   "cell_type": "code",
   "execution_count": 123,
   "metadata": {},
   "outputs": [
    {
     "data": {
      "text/plain": [
       "206"
      ]
     },
     "execution_count": 123,
     "metadata": {},
     "output_type": "execute_result"
    }
   ],
   "source": [
    "len(explanation_df)"
   ]
  },
  {
   "cell_type": "code",
   "execution_count": 125,
   "metadata": {},
   "outputs": [],
   "source": [
    "explanation_df.to_csv('../../data/cleaned_explanation.csv')"
   ]
  },
  {
   "cell_type": "code",
   "execution_count": null,
   "metadata": {},
   "outputs": [],
   "source": []
  }
 ],
 "metadata": {
  "kernelspec": {
   "display_name": "Python 3",
   "language": "python",
   "name": "python3"
  },
  "language_info": {
   "codemirror_mode": {
    "name": "ipython",
    "version": 3
   },
   "file_extension": ".py",
   "mimetype": "text/x-python",
   "name": "python",
   "nbconvert_exporter": "python",
   "pygments_lexer": "ipython3",
   "version": "3.7.3"
  }
 },
 "nbformat": 4,
 "nbformat_minor": 4
}
