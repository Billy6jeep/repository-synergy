{
 "cells": [
  {
   "cell_type": "code",
   "execution_count": 2,
   "metadata": {
    "ExecutionTime": {
     "end_time": "2020-04-22T12:12:23.229156Z",
     "start_time": "2020-04-22T12:12:21.039262Z"
    },
    "provenance": [
     {
      "end_time": "Unknown",
      "execution_time": "Unknown",
      "outputs": [],
      "source": "",
      "start_time": "Unknown"
     },
     {
      "end_time": "2020-04-14T08:05:16.363Z",
      "execution_time": "5.47s",
      "outputs": [],
      "source": "import pandas as pd\nimport numpy as np\n#import ranking_functions as rf\n#import importlib\n#from scipy.sparse import csr_matrix\n#importlib.reload(rf)\n\n#features_nmf = np.loadtxt(\"../data/feature_extraction/nmf/nmf_document_topics_45.csv\", \n                         # skiprows=1, delimiter=\",\", usecols=range(2,47))\n#features_lda = np.loadtxt(\"../data/feature_extraction/lda/ldamallet_document_topics_45.csv\", \n                          #skiprows=1, delimiter=\",\", usecols=range(2,47))\nrepository_info = pd.read_csv(\"final_repo_english_whatwhy.csv\")\n#features_lda = pd.read_csv(\"../data/feature_extraction/...).to_numpy()\n#features_embedding = pd.read_csv(\"../data/feature_extraction/...).to_numpy()",
      "start_time": "2020-04-14T08:05:10.896Z"
     },
     {
      "end_time": "2020-04-22T11:28:48.502Z",
      "execution_time": "2.08s",
      "outputs": [],
      "source": "import pandas as pd\nimport numpy as np\n#import ranking_functions as rf\n#import importlib\n#from scipy.sparse import csr_matrix\n#importlib.reload(rf)\n\n#features_nmf = np.loadtxt(\"../data/feature_extraction/nmf/nmf_document_topics_45.csv\", \n                         # skiprows=1, delimiter=\",\", usecols=range(2,47))\n#features_lda = np.loadtxt(\"../data/feature_extraction/lda/ldamallet_document_topics_45.csv\", \n                          #skiprows=1, delimiter=\",\", usecols=range(2,47))\nrepository_info = pd.read_csv(\"final_repo_english_whatwhy.csv\")\n#features_lda = pd.read_csv(\"../data/feature_extraction/...).to_numpy()\n#features_embedding = pd.read_csv(\"../data/feature_extraction/...).to_numpy()",
      "start_time": "2020-04-22T11:28:46.423Z"
     },
     {
      "end_time": "2020-04-22T12:12:23.229Z",
      "execution_time": "2.19s",
      "outputs": [],
      "source": "import pandas as pd\nimport numpy as np\n#import ranking_functions as rf\n#import importlib\n#from scipy.sparse import csr_matrix\n#importlib.reload(rf)\n\n#features_nmf = np.loadtxt(\"../data/feature_extraction/nmf/nmf_document_topics_45.csv\", \n                         # skiprows=1, delimiter=\",\", usecols=range(2,47))\n#features_lda = np.loadtxt(\"../data/feature_extraction/lda/ldamallet_document_topics_45.csv\", \n                          #skiprows=1, delimiter=\",\", usecols=range(2,47))\nrepository_info = pd.read_csv(\"final_repo_english_whatwhy.csv\")\n#features_lda = pd.read_csv(\"../data/feature_extraction/...).to_numpy()\n#features_embedding = pd.read_csv(\"../data/feature_extraction/...).to_numpy()",
      "start_time": "2020-04-22T12:12:21.039Z"
     }
    ]
   },
   "outputs": [],
   "source": [
    "import pandas as pd\n",
    "import numpy as np\n",
    "import pickle\n",
    "repository_info = pd.read_csv(\"../../data/processed/final_repo_english_whatwhy.csv\")"
   ]
  },
  {
   "cell_type": "markdown",
   "metadata": {
    "provenance": [
     {
      "last_modified": "2020-04-23T14:39:06.035Z",
      "source": "# Export rankings for user study"
     }
    ]
   },
   "source": [
    "# Export rankings for user study"
   ]
  },
  {
   "cell_type": "markdown",
   "metadata": {
    "provenance": [
     {
      "last_modified": "2020-04-23T14:39:06.035Z",
      "source": "## Top 500 pairs"
     }
    ]
   },
   "source": [
    "## Top 500 pairs"
   ]
  },
  {
   "cell_type": "code",
   "execution_count": 4,
   "metadata": {
    "ExecutionTime": {
     "end_time": "2020-04-14T09:04:12.378334Z",
     "start_time": "2020-04-14T09:02:34.796624Z"
    },
    "provenance": [
     {
      "end_time": "2020-04-14T08:21:17.120Z",
      "execution_time": "229ms",
      "outputs": [
       {
        "ename": "NameError",
        "evalue": "name 'pickle' is not defined",
        "output_type": "error",
        "traceback": [
         "\u001b[1;31m---------------------------------------------------------------------------\u001b[0m",
         "\u001b[1;31mNameError\u001b[0m                                 Traceback (most recent call last)",
         "\u001b[1;32m<ipython-input-2-916c39ad1ced>\u001b[0m in \u001b[0;36m<module>\u001b[1;34m\u001b[0m\n\u001b[0;32m      1\u001b[0m \u001b[1;32mwith\u001b[0m \u001b[0mopen\u001b[0m\u001b[1;33m(\u001b[0m\u001b[1;34m\"C:/Users/heck_ti/Documents/rep_mining/ranking_lda_85_mult.pickle\"\u001b[0m\u001b[1;33m,\u001b[0m \u001b[1;34m\"rb\"\u001b[0m\u001b[1;33m)\u001b[0m \u001b[1;32mas\u001b[0m \u001b[0mf\u001b[0m\u001b[1;33m:\u001b[0m\u001b[1;33m\u001b[0m\u001b[1;33m\u001b[0m\u001b[0m\n\u001b[1;32m----> 2\u001b[1;33m     \u001b[0mranking_lda_multiplicative\u001b[0m \u001b[1;33m=\u001b[0m \u001b[0mpickle\u001b[0m\u001b[1;33m.\u001b[0m\u001b[0mload\u001b[0m\u001b[1;33m(\u001b[0m\u001b[0mf\u001b[0m\u001b[1;33m)\u001b[0m\u001b[1;33m\u001b[0m\u001b[1;33m\u001b[0m\u001b[0m\n\u001b[0m\u001b[0;32m      3\u001b[0m pd.DataFrame(\n\u001b[0;32m      4\u001b[0m     {\n\u001b[0;32m      5\u001b[0m         \u001b[1;34m\"repo_url1\"\u001b[0m \u001b[1;33m:\u001b[0m \u001b[0mrepository_info\u001b[0m\u001b[1;33m.\u001b[0m\u001b[0murl\u001b[0m\u001b[1;33m.\u001b[0m\u001b[0mvalues\u001b[0m\u001b[1;33m[\u001b[0m\u001b[0mranking_lda_multiplicative\u001b[0m\u001b[1;33m[\u001b[0m\u001b[1;36m0\u001b[0m\u001b[1;33m]\u001b[0m\u001b[1;33m[\u001b[0m\u001b[1;36m0\u001b[0m\u001b[1;33m:\u001b[0m\u001b[1;36m500\u001b[0m\u001b[1;33m]\u001b[0m\u001b[1;33m]\u001b[0m\u001b[1;33m,\u001b[0m\u001b[1;33m\u001b[0m\u001b[1;33m\u001b[0m\u001b[0m\n",
         "\u001b[1;31mNameError\u001b[0m: name 'pickle' is not defined"
        ]
       }
      ],
      "source": "with open(\"C:/Users/heck_ti/Documents/rep_mining/ranking_lda_85_mult.pickle\", \"rb\") as f:\n    ranking_lda_multiplicative = pickle.load(f)\npd.DataFrame(\n    {\n        \"repo_url1\" : repository_info.url.values[ranking_lda_multiplicative[0][0:500]], \n        \"repo_description1\" : repository_info.description.values[ranking_lda_multiplicative[0][0:500]],\n        \"repo_url2\" : repository_info.url.values[ranking_lda_multiplicative[1][0:500]], \n        \"repo_description2\" : repository_info.description.values[ranking_lda_multiplicative[1][0:500]],\n        \"score\" : ranking_lda_multiplicative[2][0:500]\n    }\n).to_csv(\"lda_multiplicative_top500.csv\")\nwith open(\"C:/Users/heck_ti/Documents/rep_mining/ranking_nmf_85_rwr02.pickle\", \"rb\") as f:\n    ranking_nmf_rwr_d02 = pickle.load(f)\npd.DataFrame(\n    {\n        \"repo_url1\" : repository_info.url.values[ranking_nmf_rwr_d02[0][0:500]], \n        \"repo_description1\" : repository_info.description.values[ranking_nmf_rwr_d02[0][0:500]],\n        \"repo_url2\" : repository_info.url.values[ranking_nmf_rwr_d02[1][0:500]], \n        \"repo_description2\" : repository_info.description.values[ranking_nmf_rwr_d02[1][0:500]],\n        \"score\" : ranking_nmf_rwr_d02[2][0:500]\n    }\n).to_csv(\"nmf_rwr_d02_top500.csv\")\nwith open(\"C:/Users/heck_ti/Documents/rep_mining/ranking_nmf_85_rwr05.pickle\", \"rb\") as f:\n    ranking_nmf_rwr_d05 = pickle.load(f)\npd.DataFrame(\n    {\n        \"repo_url1\" : repository_info.url.values[ranking_nmf_rwr_d05[0][0:500]], \n        \"repo_description1\" : repository_info.description.values[ranking_nmf_rwr_d05[0][0:500]],\n        \"repo_url2\" : repository_info.url.values[ranking_nmf_rwr_d05[1][0:500]], \n        \"repo_description2\" : repository_info.description.values[ranking_nmf_rwr_d05[1][0:500]],\n        \"score\" : ranking_nmf_rwr_d05[2][0:500]\n    }\n).to_csv(\"nmf_rwr_d05_top500.csv\")\nwith open(\"C:/Users/heck_ti/Documents/rep_mining/ranking_nmf_85_rwr08.pickle\", \"rb\") as f:\n    ranking_nmf_rwr_d08 = pickle.load(f)\npd.DataFrame(\n    {\n        \"repo_url1\" : repository_info.url.values[ranking_nmf_rwr_d08[0][0:500]], \n        \"repo_description1\" : repository_info.description.values[ranking_nmf_rwr_d08[0][0:500]],\n        \"repo_url2\" : repository_info.url.values[ranking_nmf_rwr_d08[1][0:500]], \n        \"repo_description2\" : repository_info.description.values[ranking_nmf_rwr_d08[1][0:500]],\n        \"score\" : ranking_nmf_rwr_d08[2][0:500]\n    }\n).to_csv(\"nmf_rwr_d08_top500.csv\")\nwith open(\"C:/Users/heck_ti/Documents/rep_mining/ranking_lda_85_rwr02.pickle\", \"rb\") as f:\n    ranking_lda_rwr_d02 = pickle.load(f)\npd.DataFrame(\n    {\n        \"repo_url1\" : repository_info.url.values[ranking_lda_rwr_d02[0][0:500]], \n        \"repo_description1\" : repository_info.description.values[ranking_lda_rwr_d02[0][0:500]],\n        \"repo_url2\" : repository_info.url.values[ranking_lda_rwr_d02[1][0:500]], \n        \"repo_description2\" : repository_info.description.values[ranking_lda_rwr_d02[1][0:500]],\n        \"score\" : ranking_lda_rwr_d02[2][0:500]\n    }\n).to_csv(\"lda_rwr_d02_top500.csv\")\nwith open(\"C:/Users/heck_ti/Documents/rep_mining/ranking_lda_85_rwr05.pickle\", \"rb\") as f:\n    ranking_lda_rwr_d05 = pickle.load(f)\npd.DataFrame(\n    {\n        \"repo_url1\" : repository_info.url.values[ranking_lda_rwr_d05[0][0:500]], \n        \"repo_description1\" : repository_info.description.values[ranking_lda_rwr_d05[0][0:500]],\n        \"repo_url2\" : repository_info.url.values[ranking_lda_rwr_d05[1][0:500]], \n        \"repo_description2\" : repository_info.description.values[ranking_lda_rwr_d05[1][0:500]],\n        \"score\" : ranking_lda_rwr_d05[2][0:500]\n    }\n).to_csv(\"lda_rwr_d05_top500.csv\")\nwith open(\"C:/Users/heck_ti/Documents/rep_mining/ranking_lda_85_rwr08.pickle\", \"rb\") as f:\n    ranking_lda_rwr_d08 = pickle.load(f)\npd.DataFrame(\n    {\n        \"repo_url1\" : repository_info.url.values[ranking_lda_rwr_d08[0][0:500]], \n        \"repo_description1\" : repository_info.description.values[ranking_lda_rwr_d08[0][0:500]],\n        \"repo_url2\" : repository_info.url.values[ranking_lda_rwr_d08[1][0:500]], \n        \"repo_description2\" : repository_info.description.values[ranking_lda_rwr_d08[1][0:500]],\n        \"score\" : ranking_lda_rwr_d08[2][0:500]\n    }\n).to_csv(\"lda_rwr_d08_top500.csv\")",
      "start_time": "2020-04-14T08:21:16.891Z"
     },
     {
      "end_time": "2020-04-14T08:23:44.771Z",
      "execution_time": "2m 9s",
      "outputs": [],
      "source": "import pickle\n\nwith open(\"C:/Users/heck_ti/Documents/rep_mining/ranking_lda_85_mult.pickle\", \"rb\") as f:\n    ranking_lda_multiplicative = pickle.load(f)\npd.DataFrame(\n    {\n        \"repo_url1\" : repository_info.url.values[ranking_lda_multiplicative[0][0:500]], \n        \"repo_description1\" : repository_info.description.values[ranking_lda_multiplicative[0][0:500]],\n        \"repo_url2\" : repository_info.url.values[ranking_lda_multiplicative[1][0:500]], \n        \"repo_description2\" : repository_info.description.values[ranking_lda_multiplicative[1][0:500]],\n        \"score\" : ranking_lda_multiplicative[2][0:500]\n    }\n).to_csv(\"lda_multiplicative_top500.csv\")\nwith open(\"C:/Users/heck_ti/Documents/rep_mining/ranking_nmf_85_rwr02.pickle\", \"rb\") as f:\n    ranking_nmf_rwr_d02 = pickle.load(f)\npd.DataFrame(\n    {\n        \"repo_url1\" : repository_info.url.values[ranking_nmf_rwr_d02[0][0:500]], \n        \"repo_description1\" : repository_info.description.values[ranking_nmf_rwr_d02[0][0:500]],\n        \"repo_url2\" : repository_info.url.values[ranking_nmf_rwr_d02[1][0:500]], \n        \"repo_description2\" : repository_info.description.values[ranking_nmf_rwr_d02[1][0:500]],\n        \"score\" : ranking_nmf_rwr_d02[2][0:500]\n    }\n).to_csv(\"nmf_rwr_d02_top500.csv\")\nwith open(\"C:/Users/heck_ti/Documents/rep_mining/ranking_nmf_85_rwr05.pickle\", \"rb\") as f:\n    ranking_nmf_rwr_d05 = pickle.load(f)\npd.DataFrame(\n    {\n        \"repo_url1\" : repository_info.url.values[ranking_nmf_rwr_d05[0][0:500]], \n        \"repo_description1\" : repository_info.description.values[ranking_nmf_rwr_d05[0][0:500]],\n        \"repo_url2\" : repository_info.url.values[ranking_nmf_rwr_d05[1][0:500]], \n        \"repo_description2\" : repository_info.description.values[ranking_nmf_rwr_d05[1][0:500]],\n        \"score\" : ranking_nmf_rwr_d05[2][0:500]\n    }\n).to_csv(\"nmf_rwr_d05_top500.csv\")\nwith open(\"C:/Users/heck_ti/Documents/rep_mining/ranking_nmf_85_rwr08.pickle\", \"rb\") as f:\n    ranking_nmf_rwr_d08 = pickle.load(f)\npd.DataFrame(\n    {\n        \"repo_url1\" : repository_info.url.values[ranking_nmf_rwr_d08[0][0:500]], \n        \"repo_description1\" : repository_info.description.values[ranking_nmf_rwr_d08[0][0:500]],\n        \"repo_url2\" : repository_info.url.values[ranking_nmf_rwr_d08[1][0:500]], \n        \"repo_description2\" : repository_info.description.values[ranking_nmf_rwr_d08[1][0:500]],\n        \"score\" : ranking_nmf_rwr_d08[2][0:500]\n    }\n).to_csv(\"nmf_rwr_d08_top500.csv\")\nwith open(\"C:/Users/heck_ti/Documents/rep_mining/ranking_lda_85_rwr02.pickle\", \"rb\") as f:\n    ranking_lda_rwr_d02 = pickle.load(f)\npd.DataFrame(\n    {\n        \"repo_url1\" : repository_info.url.values[ranking_lda_rwr_d02[0][0:500]], \n        \"repo_description1\" : repository_info.description.values[ranking_lda_rwr_d02[0][0:500]],\n        \"repo_url2\" : repository_info.url.values[ranking_lda_rwr_d02[1][0:500]], \n        \"repo_description2\" : repository_info.description.values[ranking_lda_rwr_d02[1][0:500]],\n        \"score\" : ranking_lda_rwr_d02[2][0:500]\n    }\n).to_csv(\"lda_rwr_d02_top500.csv\")\nwith open(\"C:/Users/heck_ti/Documents/rep_mining/ranking_lda_85_rwr05.pickle\", \"rb\") as f:\n    ranking_lda_rwr_d05 = pickle.load(f)\npd.DataFrame(\n    {\n        \"repo_url1\" : repository_info.url.values[ranking_lda_rwr_d05[0][0:500]], \n        \"repo_description1\" : repository_info.description.values[ranking_lda_rwr_d05[0][0:500]],\n        \"repo_url2\" : repository_info.url.values[ranking_lda_rwr_d05[1][0:500]], \n        \"repo_description2\" : repository_info.description.values[ranking_lda_rwr_d05[1][0:500]],\n        \"score\" : ranking_lda_rwr_d05[2][0:500]\n    }\n).to_csv(\"lda_rwr_d05_top500.csv\")\nwith open(\"C:/Users/heck_ti/Documents/rep_mining/ranking_lda_85_rwr08.pickle\", \"rb\") as f:\n    ranking_lda_rwr_d08 = pickle.load(f)\npd.DataFrame(\n    {\n        \"repo_url1\" : repository_info.url.values[ranking_lda_rwr_d08[0][0:500]], \n        \"repo_description1\" : repository_info.description.values[ranking_lda_rwr_d08[0][0:500]],\n        \"repo_url2\" : repository_info.url.values[ranking_lda_rwr_d08[1][0:500]], \n        \"repo_description2\" : repository_info.description.values[ranking_lda_rwr_d08[1][0:500]],\n        \"score\" : ranking_lda_rwr_d08[2][0:500]\n    }\n).to_csv(\"lda_rwr_d08_top500.csv\")",
      "start_time": "2020-04-14T08:21:35.754Z"
     },
     {
      "end_time": "2020-04-14T09:04:12.378Z",
      "execution_time": "1m 37.6s",
      "outputs": [],
      "source": "import pickle\n\nwith open(\"C:/Users/heck_ti/Documents/rep_mining/ranking_lda_45_mult.pickle\", \"rb\") as f:\n    ranking_lda_multiplicative = pickle.load(f)\npd.DataFrame(\n    {\n        \"repo_url1\" : repository_info.url.values[ranking_lda_multiplicative[0][0:500]], \n        \"repo_description1\" : repository_info.description.values[ranking_lda_multiplicative[0][0:500]],\n        \"repo_url2\" : repository_info.url.values[ranking_lda_multiplicative[1][0:500]], \n        \"repo_description2\" : repository_info.description.values[ranking_lda_multiplicative[1][0:500]],\n        \"score\" : ranking_lda_multiplicative[2][0:500]\n    }\n).to_csv(\"lda_multiplicative_top500.csv\")\nwith open(\"C:/Users/heck_ti/Documents/rep_mining/ranking_nmf_45_rwr02.pickle\", \"rb\") as f:\n    ranking_nmf_rwr_d02 = pickle.load(f)\npd.DataFrame(\n    {\n        \"repo_url1\" : repository_info.url.values[ranking_nmf_rwr_d02[0][0:500]], \n        \"repo_description1\" : repository_info.description.values[ranking_nmf_rwr_d02[0][0:500]],\n        \"repo_url2\" : repository_info.url.values[ranking_nmf_rwr_d02[1][0:500]], \n        \"repo_description2\" : repository_info.description.values[ranking_nmf_rwr_d02[1][0:500]],\n        \"score\" : ranking_nmf_rwr_d02[2][0:500]\n    }\n).to_csv(\"nmf_rwr_d02_top500.csv\")\nwith open(\"C:/Users/heck_ti/Documents/rep_mining/ranking_nmf_45_rwr05.pickle\", \"rb\") as f:\n    ranking_nmf_rwr_d05 = pickle.load(f)\npd.DataFrame(\n    {\n        \"repo_url1\" : repository_info.url.values[ranking_nmf_rwr_d05[0][0:500]], \n        \"repo_description1\" : repository_info.description.values[ranking_nmf_rwr_d05[0][0:500]],\n        \"repo_url2\" : repository_info.url.values[ranking_nmf_rwr_d05[1][0:500]], \n        \"repo_description2\" : repository_info.description.values[ranking_nmf_rwr_d05[1][0:500]],\n        \"score\" : ranking_nmf_rwr_d05[2][0:500]\n    }\n).to_csv(\"nmf_rwr_d05_top500.csv\")\nwith open(\"C:/Users/heck_ti/Documents/rep_mining/ranking_nmf_45_rwr08.pickle\", \"rb\") as f:\n    ranking_nmf_rwr_d08 = pickle.load(f)\npd.DataFrame(\n    {\n        \"repo_url1\" : repository_info.url.values[ranking_nmf_rwr_d08[0][0:500]], \n        \"repo_description1\" : repository_info.description.values[ranking_nmf_rwr_d08[0][0:500]],\n        \"repo_url2\" : repository_info.url.values[ranking_nmf_rwr_d08[1][0:500]], \n        \"repo_description2\" : repository_info.description.values[ranking_nmf_rwr_d08[1][0:500]],\n        \"score\" : ranking_nmf_rwr_d08[2][0:500]\n    }\n).to_csv(\"nmf_rwr_d08_top500.csv\")\nwith open(\"C:/Users/heck_ti/Documents/rep_mining/ranking_lda_45_rwr02.pickle\", \"rb\") as f:\n    ranking_lda_rwr_d02 = pickle.load(f)\npd.DataFrame(\n    {\n        \"repo_url1\" : repository_info.url.values[ranking_lda_rwr_d02[0][0:500]], \n        \"repo_description1\" : repository_info.description.values[ranking_lda_rwr_d02[0][0:500]],\n        \"repo_url2\" : repository_info.url.values[ranking_lda_rwr_d02[1][0:500]], \n        \"repo_description2\" : repository_info.description.values[ranking_lda_rwr_d02[1][0:500]],\n        \"score\" : ranking_lda_rwr_d02[2][0:500]\n    }\n).to_csv(\"lda_rwr_d02_top500.csv\")\nwith open(\"C:/Users/heck_ti/Documents/rep_mining/ranking_lda_45_rwr05.pickle\", \"rb\") as f:\n    ranking_lda_rwr_d05 = pickle.load(f)\npd.DataFrame(\n    {\n        \"repo_url1\" : repository_info.url.values[ranking_lda_rwr_d05[0][0:500]], \n        \"repo_description1\" : repository_info.description.values[ranking_lda_rwr_d05[0][0:500]],\n        \"repo_url2\" : repository_info.url.values[ranking_lda_rwr_d05[1][0:500]], \n        \"repo_description2\" : repository_info.description.values[ranking_lda_rwr_d05[1][0:500]],\n        \"score\" : ranking_lda_rwr_d05[2][0:500]\n    }\n).to_csv(\"lda_rwr_d05_top500.csv\")\nwith open(\"C:/Users/heck_ti/Documents/rep_mining/ranking_lda_45_rwr08.pickle\", \"rb\") as f:\n    ranking_lda_rwr_d08 = pickle.load(f)\npd.DataFrame(\n    {\n        \"repo_url1\" : repository_info.url.values[ranking_lda_rwr_d08[0][0:500]], \n        \"repo_description1\" : repository_info.description.values[ranking_lda_rwr_d08[0][0:500]],\n        \"repo_url2\" : repository_info.url.values[ranking_lda_rwr_d08[1][0:500]], \n        \"repo_description2\" : repository_info.description.values[ranking_lda_rwr_d08[1][0:500]],\n        \"score\" : ranking_lda_rwr_d08[2][0:500]\n    }\n).to_csv(\"lda_rwr_d08_top500.csv\")",
      "start_time": "2020-04-14T09:02:34.796Z"
     }
    ]
   },
   "outputs": [],
   "source": [
    "with open(\"../../rankings/ranking_nmf_45_mult.pickle\", \"rb\") as f:\n",
    "    ranking_nmf_multiplicative = pickle.load(f)\n",
    "pd.DataFrame(\n",
    "    {\n",
    "        \"repo_url1\" : repository_info.url.values[ranking_nmf_multiplicative[0][0:500]], \n",
    "        \"repo_description1\" : repository_info.description.values[ranking_nmf_multiplicative[0][0:500]],\n",
    "        \"repo_url2\" : repository_info.url.values[ranking_nmf_multiplicative[1][0:500]], \n",
    "        \"repo_description2\" : repository_info.description.values[ranking_nmf_multiplicative[1][0:500]],\n",
    "        \"score\" : ranking_nmf_multiplicative[2][0:500]\n",
    "    }\n",
    ").to_csv(\"../../data/evaluation/user_study/nmf_multiplicative_top500.csv\")\n",
    "with open(\"../../rankings/ranking_lda_45_mult.pickle\", \"rb\") as f:\n",
    "    ranking_lda_multiplicative = pickle.load(f)\n",
    "pd.DataFrame(\n",
    "    {\n",
    "        \"repo_url1\" : repository_info.url.values[ranking_lda_multiplicative[0][0:500]], \n",
    "        \"repo_description1\" : repository_info.description.values[ranking_lda_multiplicative[0][0:500]],\n",
    "        \"repo_url2\" : repository_info.url.values[ranking_lda_multiplicative[1][0:500]], \n",
    "        \"repo_description2\" : repository_info.description.values[ranking_lda_multiplicative[1][0:500]],\n",
    "        \"score\" : ranking_lda_multiplicative[2][0:500]\n",
    "    }\n",
    ").to_csv(\"../../data/evaluation/user_study/lda_multiplicative_top500.csv\")\n",
    "\n",
    "with open(\"../../rankings/ranking_nmf_45_rwr00.pickle\", \"rb\") as f:\n",
    "    ranking_nmf_rwr_d00 = pickle.load(f)\n",
    "pd.DataFrame(\n",
    "    {\n",
    "        \"repo_url1\" : repository_info.url.values[ranking_nmf_rwr_d00[0][0:500]], \n",
    "        \"repo_description1\" : repository_info.description.values[ranking_nmf_rwr_d00[0][0:500]],\n",
    "        \"repo_url2\" : repository_info.url.values[ranking_nmf_rwr_d00[1][0:500]], \n",
    "        \"repo_description2\" : repository_info.description.values[ranking_nmf_rwr_d00[1][0:500]],\n",
    "        \"score\" : ranking_nmf_rwr_d00[2][0:500]\n",
    "    }\n",
    ").to_csv(\"../../data/evaluation/user_study/nmf_rwr_d00_top500.csv\")\n",
    "with open(\"../../rankings/ranking_nmf_45_rwr01.pickle\", \"rb\") as f:\n",
    "    ranking_nmf_rwr_d01 = pickle.load(f)\n",
    "pd.DataFrame(\n",
    "    {\n",
    "        \"repo_url1\" : repository_info.url.values[ranking_nmf_rwr_d01[0][0:500]], \n",
    "        \"repo_description1\" : repository_info.description.values[ranking_nmf_rwr_d01[0][0:500]],\n",
    "        \"repo_url2\" : repository_info.url.values[ranking_nmf_rwr_d01[1][0:500]], \n",
    "        \"repo_description2\" : repository_info.description.values[ranking_nmf_rwr_d01[1][0:500]],\n",
    "        \"score\" : ranking_nmf_rwr_d01[2][0:500]\n",
    "    }\n",
    ").to_csv(\"../../data/evaluation/user_study/nmf_rwr_d02_top500.csv\")\n",
    "with open(\"../../rankings/ranking_nmf_45_rwr02.pickle\", \"rb\") as f:\n",
    "    ranking_nmf_rwr_d02 = pickle.load(f)\n",
    "pd.DataFrame(\n",
    "    {\n",
    "        \"repo_url1\" : repository_info.url.values[ranking_nmf_rwr_d02[0][0:500]], \n",
    "        \"repo_description1\" : repository_info.description.values[ranking_nmf_rwr_d02[0][0:500]],\n",
    "        \"repo_url2\" : repository_info.url.values[ranking_nmf_rwr_d02[1][0:500]], \n",
    "        \"repo_description2\" : repository_info.description.values[ranking_nmf_rwr_d02[1][0:500]],\n",
    "        \"score\" : ranking_nmf_rwr_d02[2][0:500]\n",
    "    }\n",
    ").to_csv(\"../../data/evaluation/user_study/nmf_rwr_d02_top500.csv\")\n",
    "with open(\"../../rankings/ranking_nmf_45_rwr03.pickle\", \"rb\") as f:\n",
    "    ranking_nmf_rwr_d03 = pickle.load(f)\n",
    "pd.DataFrame(\n",
    "    {\n",
    "        \"repo_url1\" : repository_info.url.values[ranking_nmf_rwr_d03[0][0:500]], \n",
    "        \"repo_description1\" : repository_info.description.values[ranking_nmf_rwr_d03[0][0:500]],\n",
    "        \"repo_url2\" : repository_info.url.values[ranking_nmf_rwr_d03[1][0:500]], \n",
    "        \"repo_description2\" : repository_info.description.values[ranking_nmf_rwr_d03[1][0:500]],\n",
    "        \"score\" : ranking_nmf_rwr_d03[2][0:500]\n",
    "    }\n",
    ").to_csv(\"../../data/evaluation/user_study/nmf_rwr_d03_top500.csv\")\n",
    "with open(\"../../rankings/ranking_nmf_45_rwr05.pickle\", \"rb\") as f:\n",
    "    ranking_nmf_rwr_d05 = pickle.load(f)\n",
    "pd.DataFrame(\n",
    "    {\n",
    "        \"repo_url1\" : repository_info.url.values[ranking_nmf_rwr_d05[0][0:500]], \n",
    "        \"repo_description1\" : repository_info.description.values[ranking_nmf_rwr_d05[0][0:500]],\n",
    "        \"repo_url2\" : repository_info.url.values[ranking_nmf_rwr_d05[1][0:500]], \n",
    "        \"repo_description2\" : repository_info.description.values[ranking_nmf_rwr_d05[1][0:500]],\n",
    "        \"score\" : ranking_nmf_rwr_d05[2][0:500]\n",
    "    }\n",
    ").to_csv(\"../../data/evaluation/user_study/nmf_rwr_d05_top500.csv\")\n",
    "with open(\"../../rankings/ranking_nmf_45_rwr08.pickle\", \"rb\") as f:\n",
    "    ranking_nmf_rwr_d08 = pickle.load(f)\n",
    "pd.DataFrame(\n",
    "    {\n",
    "        \"repo_url1\" : repository_info.url.values[ranking_nmf_rwr_d08[0][0:500]], \n",
    "        \"repo_description1\" : repository_info.description.values[ranking_nmf_rwr_d08[0][0:500]],\n",
    "        \"repo_url2\" : repository_info.url.values[ranking_nmf_rwr_d08[1][0:500]], \n",
    "        \"repo_description2\" : repository_info.description.values[ranking_nmf_rwr_d08[1][0:500]],\n",
    "        \"score\" : ranking_nmf_rwr_d08[2][0:500]\n",
    "    }\n",
    ").to_csv(\"../../data/evaluation/user_study/nmf_rwr_d08_top500.csv\")\n",
    "\n",
    "with open(\"../../rankings/ranking_lda_45_rwr00.pickle\", \"rb\") as f:\n",
    "    ranking_lda_rwr_d00 = pickle.load(f)\n",
    "pd.DataFrame(\n",
    "    {\n",
    "        \"repo_url1\" : repository_info.url.values[ranking_lda_rwr_d00[0][0:500]], \n",
    "        \"repo_description1\" : repository_info.description.values[ranking_lda_rwr_d00[0][0:500]],\n",
    "        \"repo_url2\" : repository_info.url.values[ranking_lda_rwr_d00[1][0:500]], \n",
    "        \"repo_description2\" : repository_info.description.values[ranking_lda_rwr_d00[1][0:500]],\n",
    "        \"score\" : ranking_lda_rwr_d00[2][0:500]\n",
    "    }\n",
    ").to_csv(\"../../data/evaluation/user_study/lda_rwr_d00_top500.csv\")\n",
    "with open(\"../../rankings/ranking_lda_45_rwr01.pickle\", \"rb\") as f:\n",
    "    ranking_lda_rwr_d01 = pickle.load(f)\n",
    "pd.DataFrame(\n",
    "    {\n",
    "        \"repo_url1\" : repository_info.url.values[ranking_lda_rwr_d01[0][0:500]], \n",
    "        \"repo_description1\" : repository_info.description.values[ranking_lda_rwr_d01[0][0:500]],\n",
    "        \"repo_url2\" : repository_info.url.values[ranking_lda_rwr_d01[1][0:500]], \n",
    "        \"repo_description2\" : repository_info.description.values[ranking_lda_rwr_d01[1][0:500]],\n",
    "        \"score\" : ranking_lda_rwr_d01[2][0:500]\n",
    "    }\n",
    ").to_csv(\"../../data/evaluation/user_study/lda_rwr_d01_top500.csv\")\n",
    "with open(\"../../rankings/ranking_lda_45_rwr02.pickle\", \"rb\") as f:\n",
    "    ranking_lda_rwr_d02 = pickle.load(f)\n",
    "pd.DataFrame(\n",
    "    {\n",
    "        \"repo_url1\" : repository_info.url.values[ranking_lda_rwr_d02[0][0:500]], \n",
    "        \"repo_description1\" : repository_info.description.values[ranking_lda_rwr_d02[0][0:500]],\n",
    "        \"repo_url2\" : repository_info.url.values[ranking_lda_rwr_d02[1][0:500]], \n",
    "        \"repo_description2\" : repository_info.description.values[ranking_lda_rwr_d02[1][0:500]],\n",
    "        \"score\" : ranking_lda_rwr_d02[2][0:500]\n",
    "    }\n",
    ").to_csv(\"../../data/evaluation/user_study/lda_rwr_d02_top500.csv\")\n",
    "with open(\"../../rankings/ranking_lda_45_rwr03.pickle\", \"rb\") as f:\n",
    "    ranking_lda_rwr_d03 = pickle.load(f)\n",
    "pd.DataFrame(\n",
    "    {\n",
    "        \"repo_url1\" : repository_info.url.values[ranking_lda_rwr_d03[0][0:500]], \n",
    "        \"repo_description1\" : repository_info.description.values[ranking_lda_rwr_d03[0][0:500]],\n",
    "        \"repo_url2\" : repository_info.url.values[ranking_lda_rwr_d03[1][0:500]], \n",
    "        \"repo_description2\" : repository_info.description.values[ranking_lda_rwr_d03[1][0:500]],\n",
    "        \"score\" : ranking_lda_rwr_d03[2][0:500]\n",
    "    }\n",
    ").to_csv(\"../../data/evaluation/user_study/lda_rwr_d03_top500.csv\")\n",
    "with open(\"../../rankings/ranking_lda_45_rwr05.pickle\", \"rb\") as f:\n",
    "    ranking_lda_rwr_d05 = pickle.load(f)\n",
    "pd.DataFrame(\n",
    "    {\n",
    "        \"repo_url1\" : repository_info.url.values[ranking_lda_rwr_d05[0][0:500]], \n",
    "        \"repo_description1\" : repository_info.description.values[ranking_lda_rwr_d05[0][0:500]],\n",
    "        \"repo_url2\" : repository_info.url.values[ranking_lda_rwr_d05[1][0:500]], \n",
    "        \"repo_description2\" : repository_info.description.values[ranking_lda_rwr_d05[1][0:500]],\n",
    "        \"score\" : ranking_lda_rwr_d05[2][0:500]\n",
    "    }\n",
    ").to_csv(\"../../data/evaluation/user_study/lda_rwr_d05_top500.csv\")\n",
    "with open(\"../../rankings/ranking_lda_45_rwr08.pickle\", \"rb\") as f:\n",
    "    ranking_lda_rwr_d08 = pickle.load(f)\n",
    "pd.DataFrame(\n",
    "    {\n",
    "        \"repo_url1\" : repository_info.url.values[ranking_lda_rwr_d08[0][0:500]], \n",
    "        \"repo_description1\" : repository_info.description.values[ranking_lda_rwr_d08[0][0:500]],\n",
    "        \"repo_url2\" : repository_info.url.values[ranking_lda_rwr_d08[1][0:500]], \n",
    "        \"repo_description2\" : repository_info.description.values[ranking_lda_rwr_d08[1][0:500]],\n",
    "        \"score\" : ranking_lda_rwr_d08[2][0:500]\n",
    "    }\n",
    ").to_csv(\"../../data/evaluation/user_study/lda_rwr_d08_top500.csv\")"
   ]
  },
  {
   "cell_type": "markdown",
   "metadata": {},
   "source": [
    "## Top 6 repository $r_2$ for top 100 repository $r_1$"
   ]
  },
  {
   "cell_type": "code",
   "execution_count": 30,
   "metadata": {
    "ExecutionTime": {
     "end_time": "2020-04-22T13:45:42.135161Z",
     "start_time": "2020-04-22T13:33:50.270107Z"
    },
    "provenance": [
     {
      "end_time": "Unknown",
      "execution_time": "Unknown",
      "outputs": [],
      "source": "",
      "start_time": "Unknown"
     },
     {
      "end_time": "2020-04-22T12:53:28.149Z",
      "execution_time": "1m 2.36s",
      "outputs": [],
      "source": "import pickle\nbatch_size = repository_info.shape[0]\n\ntop_selections = [i * 20 + k for i in range(0,10) for k in range(0,5)]\n\nwith open(\"C:/Users/heck_ti/Documents/rep_mining/ranking_nmf_45_mult.pickle\", \"rb\") as f:\n    ranking_nmf_multiplicative = pickle.load(f)\npd.DataFrame(\n    {\n        \"repo_url1\" : repository_info.url.values[ranking_nmf_multiplicative[0][top_selections]], \n        \"repo_description1\" : repository_info.description.values[ranking_nmf_multiplicative[0][top_selections]],\n        \"repo_url2\" : repository_info.url.values[ranking_nmf_multiplicative[1][top_selections]], \n        \"repo_description2\" : repository_info.description.values[ranking_nmf_multiplicative[1][top_selections]],\n        \"score\" : ranking_nmf_multiplicative[2][top_selections]\n    }\n).to_csv(\"nmf_multiplicative_top5_per_repo.csv\")\n\nwith open(\"C:/Users/heck_ti/Documents/rep_mining/ranking_lda_45_mult.pickle\", \"rb\") as f:\n    ranking_lda_multiplicative = pickle.load(f)\npd.DataFrame(\n    {\n        \"repo_url1\" : repository_info.url.values[ranking_lda_multiplicative[0][top_selections]], \n        \"repo_description1\" : repository_info.description.values[ranking_lda_multiplicative[0][top_selections]],\n        \"repo_url2\" : repository_info.url.values[ranking_lda_multiplicative[1][top_selections]], \n        \"repo_description2\" : repository_info.description.values[ranking_lda_multiplicative[1][top_selections]],\n        \"score\" : ranking_lda_multiplicative[2][top_selections]\n    }\n).to_csv(\"lda_multiplicative_top5_per_repo.csv\")\nwith open(\"C:/Users/heck_ti/Documents/rep_mining/ranking_nmf_45_rwr02.pickle\", \"rb\") as f:\n    ranking_nmf_rwr_d02 = pickle.load(f)\npd.DataFrame(\n    {\n        \"repo_url1\" : repository_info.url.values[ranking_nmf_rwr_d02[0][top_selections]], \n        \"repo_description1\" : repository_info.description.values[ranking_nmf_rwr_d02[0][top_selections]],\n        \"repo_url2\" : repository_info.url.values[ranking_nmf_rwr_d02[1][top_selections]], \n        \"repo_description2\" : repository_info.description.values[ranking_nmf_rwr_d02[1][top_selections]],\n        \"score\" : ranking_nmf_rwr_d02[2][top_selections]\n    }\n).to_csv(\"nmf_rwr_d02_top5_per_repo.csv\")\nwith open(\"C:/Users/heck_ti/Documents/rep_mining/ranking_nmf_45_rwr05.pickle\", \"rb\") as f:\n    ranking_nmf_rwr_d05 = pickle.load(f)\npd.DataFrame(\n    {\n        \"repo_url1\" : repository_info.url.values[ranking_nmf_rwr_d05[0][top_selections]], \n        \"repo_description1\" : repository_info.description.values[ranking_nmf_rwr_d05[0][top_selections]],\n        \"repo_url2\" : repository_info.url.values[ranking_nmf_rwr_d05[1][top_selections]], \n        \"repo_description2\" : repository_info.description.values[ranking_nmf_rwr_d05[1][top_selections]],\n        \"score\" : ranking_nmf_rwr_d05[2][top_selections]\n    }\n).to_csv(\"nmf_rwr_d05_top5_per_repo.csv\")\nwith open(\"C:/Users/heck_ti/Documents/rep_mining/ranking_nmf_45_rwr08.pickle\", \"rb\") as f:\n    ranking_nmf_rwr_d08 = pickle.load(f)\npd.DataFrame(\n    {\n        \"repo_url1\" : repository_info.url.values[ranking_nmf_rwr_d08[0][top_selections]], \n        \"repo_description1\" : repository_info.description.values[ranking_nmf_rwr_d08[0][top_selections]],\n        \"repo_url2\" : repository_info.url.values[ranking_nmf_rwr_d08[1][top_selections]], \n        \"repo_description2\" : repository_info.description.values[ranking_nmf_rwr_d08[1][top_selections]],\n        \"score\" : ranking_nmf_rwr_d08[2][top_selections]\n    }\n).to_csv(\"nmf_rwr_d08_top5_per_repo.csv\")\nwith open(\"C:/Users/heck_ti/Documents/rep_mining/ranking_lda_45_rwr02.pickle\", \"rb\") as f:\n    ranking_lda_rwr_d02 = pickle.load(f)\npd.DataFrame(\n    {\n        \"repo_url1\" : repository_info.url.values[ranking_lda_rwr_d02[0][top_selections]], \n        \"repo_description1\" : repository_info.description.values[ranking_lda_rwr_d02[0][top_selections]],\n        \"repo_url2\" : repository_info.url.values[ranking_lda_rwr_d02[1][top_selections]], \n        \"repo_description2\" : repository_info.description.values[ranking_lda_rwr_d02[1][top_selections]],\n        \"score\" : ranking_lda_rwr_d02[2][top_selections]\n    }\n).to_csv(\"lda_rwr_d02_top5_per_repo.csv\")\nwith open(\"C:/Users/heck_ti/Documents/rep_mining/ranking_lda_45_rwr05.pickle\", \"rb\") as f:\n    ranking_lda_rwr_d05 = pickle.load(f)\npd.DataFrame(\n    {\n        \"repo_url1\" : repository_info.url.values[ranking_lda_rwr_d05[0][top_selections]], \n        \"repo_description1\" : repository_info.description.values[ranking_lda_rwr_d05[0][top_selections]],\n        \"repo_url2\" : repository_info.url.values[ranking_lda_rwr_d05[1][top_selections]], \n        \"repo_description2\" : repository_info.description.values[ranking_lda_rwr_d05[1][top_selections]],\n        \"score\" : ranking_lda_rwr_d05[2][top_selections]\n    }\n).to_csv(\"lda_rwr_d05_top5_per_repo.csv\")\nwith open(\"C:/Users/heck_ti/Documents/rep_mining/ranking_lda_45_rwr08.pickle\", \"rb\") as f:\n    ranking_lda_rwr_d08 = pickle.load(f)\npd.DataFrame(\n    {\n        \"repo_url1\" : repository_info.url.values[ranking_lda_rwr_d08[0][top_selections]], \n        \"repo_description1\" : repository_info.description.values[ranking_lda_rwr_d08[0][top_selections]],\n        \"repo_url2\" : repository_info.url.values[ranking_lda_rwr_d08[1][top_selections]], \n        \"repo_description2\" : repository_info.description.values[ranking_lda_rwr_d08[1][top_selections]],\n        \"score\" : ranking_lda_rwr_d08[2][top_selections]\n    }\n).to_csv(\"lda_rwr_d08_top5_per_repo.csv\")",
      "start_time": "2020-04-22T12:52:25.793Z"
     },
     {
      "end_time": "2020-04-22T13:27:33.936Z",
      "execution_time": "9.99s",
      "outputs": [
       {
        "ename": "ValueError",
        "evalue": "arrays must all be same length",
        "output_type": "error",
        "traceback": [
         "\u001b[1;31m---------------------------------------------------------------------------\u001b[0m",
         "\u001b[1;31mValueError\u001b[0m                                Traceback (most recent call last)",
         "\u001b[1;32m<ipython-input-28-bc14fdfaf99c>\u001b[0m in \u001b[0;36m<module>\u001b[1;34m\u001b[0m\n\u001b[0;32m      9\u001b[0m         \u001b[1;34m\"repo_url2\"\u001b[0m \u001b[1;33m:\u001b[0m \u001b[0mrepository_info\u001b[0m\u001b[1;33m.\u001b[0m\u001b[0murl\u001b[0m\u001b[1;33m.\u001b[0m\u001b[0mvalues\u001b[0m\u001b[1;33m[\u001b[0m\u001b[0mranking_nmf_multiplicative\u001b[0m\u001b[1;33m[\u001b[0m\u001b[1;36m1\u001b[0m\u001b[1;33m]\u001b[0m\u001b[1;33m[\u001b[0m\u001b[0mtop_selections\u001b[0m\u001b[1;33m]\u001b[0m\u001b[1;33m]\u001b[0m\u001b[1;33m,\u001b[0m\u001b[1;33m\u001b[0m\u001b[1;33m\u001b[0m\u001b[0m\n\u001b[0;32m     10\u001b[0m         \u001b[1;34m\"repo_description2\"\u001b[0m \u001b[1;33m:\u001b[0m \u001b[0mrepository_info\u001b[0m\u001b[1;33m.\u001b[0m\u001b[0mdescription\u001b[0m\u001b[1;33m.\u001b[0m\u001b[0mvalues\u001b[0m\u001b[1;33m[\u001b[0m\u001b[0mranking_nmf_multiplicative\u001b[0m\u001b[1;33m[\u001b[0m\u001b[1;36m1\u001b[0m\u001b[1;33m]\u001b[0m\u001b[1;33m[\u001b[0m\u001b[0mtop_selections\u001b[0m\u001b[1;33m]\u001b[0m\u001b[1;33m]\u001b[0m\u001b[1;33m,\u001b[0m\u001b[1;33m\u001b[0m\u001b[1;33m\u001b[0m\u001b[0m\n\u001b[1;32m---> 11\u001b[1;33m         \u001b[1;34m\"score\"\u001b[0m \u001b[1;33m:\u001b[0m \u001b[0mranking_nmf_multiplicative\u001b[0m\u001b[1;33m[\u001b[0m\u001b[1;36m2\u001b[0m\u001b[1;33m]\u001b[0m\u001b[1;33m[\u001b[0m\u001b[0mtop_selections\u001b[0m\u001b[1;33m]\u001b[0m\u001b[1;33m\u001b[0m\u001b[1;33m\u001b[0m\u001b[0m\n\u001b[0m\u001b[0;32m     12\u001b[0m     }\n\u001b[0;32m     13\u001b[0m ).groupby(\"repo_url1\").head(6).reset_index(drop=True).to_csv(\"lda_multiplicative_top6_per_repo.csv\")\n",
         "\u001b[1;32m~\\AppData\\Roaming\\Python\\Python37\\site-packages\\pandas\\core\\frame.py\u001b[0m in \u001b[0;36m__init__\u001b[1;34m(self, data, index, columns, dtype, copy)\u001b[0m\n\u001b[0;32m    409\u001b[0m             )\n\u001b[0;32m    410\u001b[0m         \u001b[1;32melif\u001b[0m \u001b[0misinstance\u001b[0m\u001b[1;33m(\u001b[0m\u001b[0mdata\u001b[0m\u001b[1;33m,\u001b[0m \u001b[0mdict\u001b[0m\u001b[1;33m)\u001b[0m\u001b[1;33m:\u001b[0m\u001b[1;33m\u001b[0m\u001b[1;33m\u001b[0m\u001b[0m\n\u001b[1;32m--> 411\u001b[1;33m             \u001b[0mmgr\u001b[0m \u001b[1;33m=\u001b[0m \u001b[0minit_dict\u001b[0m\u001b[1;33m(\u001b[0m\u001b[0mdata\u001b[0m\u001b[1;33m,\u001b[0m \u001b[0mindex\u001b[0m\u001b[1;33m,\u001b[0m \u001b[0mcolumns\u001b[0m\u001b[1;33m,\u001b[0m \u001b[0mdtype\u001b[0m\u001b[1;33m=\u001b[0m\u001b[0mdtype\u001b[0m\u001b[1;33m)\u001b[0m\u001b[1;33m\u001b[0m\u001b[1;33m\u001b[0m\u001b[0m\n\u001b[0m\u001b[0;32m    412\u001b[0m         \u001b[1;32melif\u001b[0m \u001b[0misinstance\u001b[0m\u001b[1;33m(\u001b[0m\u001b[0mdata\u001b[0m\u001b[1;33m,\u001b[0m \u001b[0mma\u001b[0m\u001b[1;33m.\u001b[0m\u001b[0mMaskedArray\u001b[0m\u001b[1;33m)\u001b[0m\u001b[1;33m:\u001b[0m\u001b[1;33m\u001b[0m\u001b[1;33m\u001b[0m\u001b[0m\n\u001b[0;32m    413\u001b[0m             \u001b[1;32mimport\u001b[0m \u001b[0mnumpy\u001b[0m\u001b[1;33m.\u001b[0m\u001b[0mma\u001b[0m\u001b[1;33m.\u001b[0m\u001b[0mmrecords\u001b[0m \u001b[1;32mas\u001b[0m \u001b[0mmrecords\u001b[0m\u001b[1;33m\u001b[0m\u001b[1;33m\u001b[0m\u001b[0m\n",
         "\u001b[1;32m~\\AppData\\Roaming\\Python\\Python37\\site-packages\\pandas\\core\\internals\\construction.py\u001b[0m in \u001b[0;36minit_dict\u001b[1;34m(data, index, columns, dtype)\u001b[0m\n\u001b[0;32m    255\u001b[0m             \u001b[0marr\u001b[0m \u001b[1;32mif\u001b[0m \u001b[1;32mnot\u001b[0m \u001b[0mis_datetime64tz_dtype\u001b[0m\u001b[1;33m(\u001b[0m\u001b[0marr\u001b[0m\u001b[1;33m)\u001b[0m \u001b[1;32melse\u001b[0m \u001b[0marr\u001b[0m\u001b[1;33m.\u001b[0m\u001b[0mcopy\u001b[0m\u001b[1;33m(\u001b[0m\u001b[1;33m)\u001b[0m \u001b[1;32mfor\u001b[0m \u001b[0marr\u001b[0m \u001b[1;32min\u001b[0m \u001b[0marrays\u001b[0m\u001b[1;33m\u001b[0m\u001b[1;33m\u001b[0m\u001b[0m\n\u001b[0;32m    256\u001b[0m         ]\n\u001b[1;32m--> 257\u001b[1;33m     \u001b[1;32mreturn\u001b[0m \u001b[0marrays_to_mgr\u001b[0m\u001b[1;33m(\u001b[0m\u001b[0marrays\u001b[0m\u001b[1;33m,\u001b[0m \u001b[0mdata_names\u001b[0m\u001b[1;33m,\u001b[0m \u001b[0mindex\u001b[0m\u001b[1;33m,\u001b[0m \u001b[0mcolumns\u001b[0m\u001b[1;33m,\u001b[0m \u001b[0mdtype\u001b[0m\u001b[1;33m=\u001b[0m\u001b[0mdtype\u001b[0m\u001b[1;33m)\u001b[0m\u001b[1;33m\u001b[0m\u001b[1;33m\u001b[0m\u001b[0m\n\u001b[0m\u001b[0;32m    258\u001b[0m \u001b[1;33m\u001b[0m\u001b[0m\n\u001b[0;32m    259\u001b[0m \u001b[1;33m\u001b[0m\u001b[0m\n",
         "\u001b[1;32m~\\AppData\\Roaming\\Python\\Python37\\site-packages\\pandas\\core\\internals\\construction.py\u001b[0m in \u001b[0;36marrays_to_mgr\u001b[1;34m(arrays, arr_names, index, columns, dtype)\u001b[0m\n\u001b[0;32m     75\u001b[0m     \u001b[1;31m# figure out the index, if necessary\u001b[0m\u001b[1;33m\u001b[0m\u001b[1;33m\u001b[0m\u001b[1;33m\u001b[0m\u001b[0m\n\u001b[0;32m     76\u001b[0m     \u001b[1;32mif\u001b[0m \u001b[0mindex\u001b[0m \u001b[1;32mis\u001b[0m \u001b[1;32mNone\u001b[0m\u001b[1;33m:\u001b[0m\u001b[1;33m\u001b[0m\u001b[1;33m\u001b[0m\u001b[0m\n\u001b[1;32m---> 77\u001b[1;33m         \u001b[0mindex\u001b[0m \u001b[1;33m=\u001b[0m \u001b[0mextract_index\u001b[0m\u001b[1;33m(\u001b[0m\u001b[0marrays\u001b[0m\u001b[1;33m)\u001b[0m\u001b[1;33m\u001b[0m\u001b[1;33m\u001b[0m\u001b[0m\n\u001b[0m\u001b[0;32m     78\u001b[0m     \u001b[1;32melse\u001b[0m\u001b[1;33m:\u001b[0m\u001b[1;33m\u001b[0m\u001b[1;33m\u001b[0m\u001b[0m\n\u001b[0;32m     79\u001b[0m         \u001b[0mindex\u001b[0m \u001b[1;33m=\u001b[0m \u001b[0mensure_index\u001b[0m\u001b[1;33m(\u001b[0m\u001b[0mindex\u001b[0m\u001b[1;33m)\u001b[0m\u001b[1;33m\u001b[0m\u001b[1;33m\u001b[0m\u001b[0m\n",
         "\u001b[1;32m~\\AppData\\Roaming\\Python\\Python37\\site-packages\\pandas\\core\\internals\\construction.py\u001b[0m in \u001b[0;36mextract_index\u001b[1;34m(data)\u001b[0m\n\u001b[0;32m    366\u001b[0m             \u001b[0mlengths\u001b[0m \u001b[1;33m=\u001b[0m \u001b[0mlist\u001b[0m\u001b[1;33m(\u001b[0m\u001b[0mset\u001b[0m\u001b[1;33m(\u001b[0m\u001b[0mraw_lengths\u001b[0m\u001b[1;33m)\u001b[0m\u001b[1;33m)\u001b[0m\u001b[1;33m\u001b[0m\u001b[1;33m\u001b[0m\u001b[0m\n\u001b[0;32m    367\u001b[0m             \u001b[1;32mif\u001b[0m \u001b[0mlen\u001b[0m\u001b[1;33m(\u001b[0m\u001b[0mlengths\u001b[0m\u001b[1;33m)\u001b[0m \u001b[1;33m>\u001b[0m \u001b[1;36m1\u001b[0m\u001b[1;33m:\u001b[0m\u001b[1;33m\u001b[0m\u001b[1;33m\u001b[0m\u001b[0m\n\u001b[1;32m--> 368\u001b[1;33m                 \u001b[1;32mraise\u001b[0m \u001b[0mValueError\u001b[0m\u001b[1;33m(\u001b[0m\u001b[1;34m\"arrays must all be same length\"\u001b[0m\u001b[1;33m)\u001b[0m\u001b[1;33m\u001b[0m\u001b[1;33m\u001b[0m\u001b[0m\n\u001b[0m\u001b[0;32m    369\u001b[0m \u001b[1;33m\u001b[0m\u001b[0m\n\u001b[0;32m    370\u001b[0m             \u001b[1;32mif\u001b[0m \u001b[0mhave_dicts\u001b[0m\u001b[1;33m:\u001b[0m\u001b[1;33m\u001b[0m\u001b[1;33m\u001b[0m\u001b[0m\n",
         "\u001b[1;31mValueError\u001b[0m: arrays must all be same length"
        ]
       }
      ],
      "source": "import pickle\n\nwith open(\"C:/Users/heck_ti/Documents/rep_mining/ranking_nmf_45_mult.pickle\", \"rb\") as f:\n    ranking_nmf_multiplicative = pickle.load(f)\npd.DataFrame(\n    {\n        \"repo_url1\" : repository_info.url.values[ranking_nmf_multiplicative[0]], \n        \"repo_description1\" : repository_info.description.values[ranking_nmf_multiplicative[0]],\n        \"repo_url2\" : repository_info.url.values[ranking_nmf_multiplicative[1][top_selections]], \n        \"repo_description2\" : repository_info.description.values[ranking_nmf_multiplicative[1][top_selections]],\n        \"score\" : ranking_nmf_multiplicative[2][top_selections]\n    }\n).groupby(\"repo_url1\").head(6).reset_index(drop=True).to_csv(\"lda_multiplicative_top6_per_repo.csv\")\n\nwith open(\"C:/Users/heck_ti/Documents/rep_mining/ranking_lda_45_mult.pickle\", \"rb\") as f:\n    ranking_lda_multiplicative = pickle.load(f)\npd.DataFrame(\n    {\n        \"repo_url1\" : repository_info.url.values[ranking_lda_multiplicative[0][top_selections]], \n        \"repo_description1\" : repository_info.description.values[ranking_lda_multiplicative[0][top_selections]],\n        \"repo_url2\" : repository_info.url.values[ranking_lda_multiplicative[1][top_selections]], \n        \"repo_description2\" : repository_info.description.values[ranking_lda_multiplicative[1][top_selections]],\n        \"score\" : ranking_lda_multiplicative[2][top_selections]\n    }\n).groupby(\"repo_url1\").head(6).reset_index(drop=True).to_csv(\"lda_multiplicative_top6_per_repo.csv\")\n\nwith open(\"C:/Users/heck_ti/Documents/rep_mining/ranking_nmf_45_rwr02.pickle\", \"rb\") as f:\n    ranking_nmf_rwr_d02 = pickle.load(f)\npd.DataFrame(\n    {\n        \"repo_url1\" : repository_info.url.values[ranking_nmf_rwr_d02[0][top_selections]], \n        \"repo_description1\" : repository_info.description.values[ranking_nmf_rwr_d02[0][top_selections]],\n        \"repo_url2\" : repository_info.url.values[ranking_nmf_rwr_d02[1][top_selections]], \n        \"repo_description2\" : repository_info.description.values[ranking_nmf_rwr_d02[1][top_selections]],\n        \"score\" : ranking_nmf_rwr_d02[2][top_selections]\n    }\n).groupby(\"repo_url1\").head(6).reset_index(drop=True).to_csv(\"nmf_rwr_d02_top6_per_repo.csv\")\n\nwith open(\"C:/Users/heck_ti/Documents/rep_mining/ranking_nmf_45_rwr05.pickle\", \"rb\") as f:\n    ranking_nmf_rwr_d05 = pickle.load(f)\npd.DataFrame(\n    {\n        \"repo_url1\" : repository_info.url.values[ranking_nmf_rwr_d05[0][top_selections]], \n        \"repo_description1\" : repository_info.description.values[ranking_nmf_rwr_d05[0][top_selections]],\n        \"repo_url2\" : repository_info.url.values[ranking_nmf_rwr_d05[1][top_selections]], \n        \"repo_description2\" : repository_info.description.values[ranking_nmf_rwr_d05[1][top_selections]],\n        \"score\" : ranking_nmf_rwr_d05[2][top_selections]\n    }\n).groupby(\"repo_url1\").head(6).reset_index(drop=True).to_csv(\"nmf_rwr_d05_top6_per_repo.csv\")\n\nwith open(\"C:/Users/heck_ti/Documents/rep_mining/ranking_nmf_45_rwr08.pickle\", \"rb\") as f:\n    ranking_nmf_rwr_d08 = pickle.load(f)\npd.DataFrame(\n    {\n        \"repo_url1\" : repository_info.url.values[ranking_nmf_rwr_d08[0][top_selections]], \n        \"repo_description1\" : repository_info.description.values[ranking_nmf_rwr_d08[0][top_selections]],\n        \"repo_url2\" : repository_info.url.values[ranking_nmf_rwr_d08[1][top_selections]], \n        \"repo_description2\" : repository_info.description.values[ranking_nmf_rwr_d08[1][top_selections]],\n        \"score\" : ranking_nmf_rwr_d08[2][top_selections]\n    }\n).groupby(\"repo_url1\").head(6).reset_index(drop=True).to_csv(\"nmf_rwr_d08_top6_per_repo.csv\")\n\nwith open(\"C:/Users/heck_ti/Documents/rep_mining/ranking_lda_45_rwr02.pickle\", \"rb\") as f:\n    ranking_lda_rwr_d02 = pickle.load(f)\npd.DataFrame(\n    {\n        \"repo_url1\" : repository_info.url.values[ranking_lda_rwr_d02[0][top_selections]], \n        \"repo_description1\" : repository_info.description.values[ranking_lda_rwr_d02[0][top_selections]],\n        \"repo_url2\" : repository_info.url.values[ranking_lda_rwr_d02[1][top_selections]], \n        \"repo_description2\" : repository_info.description.values[ranking_lda_rwr_d02[1][top_selections]],\n        \"score\" : ranking_lda_rwr_d02[2][top_selections]\n    }\n).groupby(\"repo_url1\").head(6).reset_index(drop=True).to_csv(\"lda_rwr_d02_top6_per_repo.csv\")\n\nwith open(\"C:/Users/heck_ti/Documents/rep_mining/ranking_lda_45_rwr05.pickle\", \"rb\") as f:\n    ranking_lda_rwr_d05 = pickle.load(f)\npd.DataFrame(\n    {\n        \"repo_url1\" : repository_info.url.values[ranking_lda_rwr_d05[0][top_selections]], \n        \"repo_description1\" : repository_info.description.values[ranking_lda_rwr_d05[0][top_selections]],\n        \"repo_url2\" : repository_info.url.values[ranking_lda_rwr_d05[1][top_selections]], \n        \"repo_description2\" : repository_info.description.values[ranking_lda_rwr_d05[1][top_selections]],\n        \"score\" : ranking_lda_rwr_d05[2][top_selections]\n    }\n).groupby(\"repo_url1\").head(6).reset_index(drop=True).to_csv(\"lda_rwr_d05_top6_per_repo.csv\")\n\nwith open(\"C:/Users/heck_ti/Documents/rep_mining/ranking_lda_45_rwr08.pickle\", \"rb\") as f:\n    ranking_lda_rwr_d08 = pickle.load(f)\npd.DataFrame(\n    {\n        \"repo_url1\" : repository_info.url.values[ranking_lda_rwr_d08[0][top_selections]], \n        \"repo_description1\" : repository_info.description.values[ranking_lda_rwr_d08[0][top_selections]],\n        \"repo_url2\" : repository_info.url.values[ranking_lda_rwr_d08[1][top_selections]], \n        \"repo_description2\" : repository_info.description.values[ranking_lda_rwr_d08[1][top_selections]],\n        \"score\" : ranking_lda_rwr_d08[2][top_selections]\n    }\n).groupby(\"repo_url1\").head(6).reset_index(drop=True).to_csv(\"lda_rwr_d08_top6_per_repo.csv\")",
      "start_time": "2020-04-22T13:27:23.945Z"
     },
     {
      "end_time": "2020-04-22T13:31:59.764Z",
      "execution_time": "2m 52s",
      "outputs": [
       {
        "ename": "PermissionError",
        "evalue": "[Errno 13] Permission denied: 'lda_multiplicative_top6_per_repo.csv'",
        "output_type": "error",
        "traceback": [
         "\u001b[1;31m---------------------------------------------------------------------------\u001b[0m",
         "\u001b[1;31mPermissionError\u001b[0m                           Traceback (most recent call last)",
         "\u001b[1;32m<ipython-input-29-9dff517ccddf>\u001b[0m in \u001b[0;36m<module>\u001b[1;34m\u001b[0m\n\u001b[0;32m     23\u001b[0m         \u001b[1;34m\"score\"\u001b[0m \u001b[1;33m:\u001b[0m \u001b[0mranking_lda_multiplicative\u001b[0m\u001b[1;33m[\u001b[0m\u001b[1;36m2\u001b[0m\u001b[1;33m]\u001b[0m\u001b[1;33m\u001b[0m\u001b[1;33m\u001b[0m\u001b[0m\n\u001b[0;32m     24\u001b[0m     }\n\u001b[1;32m---> 25\u001b[1;33m ).groupby(\"repo_url1\").head(6).reset_index(drop=True).to_csv(\"lda_multiplicative_top6_per_repo.csv\")\n\u001b[0m\u001b[0;32m     26\u001b[0m \u001b[1;33m\u001b[0m\u001b[0m\n\u001b[0;32m     27\u001b[0m \u001b[1;32mwith\u001b[0m \u001b[0mopen\u001b[0m\u001b[1;33m(\u001b[0m\u001b[1;34m\"C:/Users/heck_ti/Documents/rep_mining/ranking_nmf_45_rwr02.pickle\"\u001b[0m\u001b[1;33m,\u001b[0m \u001b[1;34m\"rb\"\u001b[0m\u001b[1;33m)\u001b[0m \u001b[1;32mas\u001b[0m \u001b[0mf\u001b[0m\u001b[1;33m:\u001b[0m\u001b[1;33m\u001b[0m\u001b[1;33m\u001b[0m\u001b[0m\n",
         "\u001b[1;32m~\\AppData\\Roaming\\Python\\Python37\\site-packages\\pandas\\core\\generic.py\u001b[0m in \u001b[0;36mto_csv\u001b[1;34m(self, path_or_buf, sep, na_rep, float_format, columns, header, index, index_label, mode, encoding, compression, quoting, quotechar, line_terminator, chunksize, date_format, doublequote, escapechar, decimal)\u001b[0m\n\u001b[0;32m   3226\u001b[0m             \u001b[0mdecimal\u001b[0m\u001b[1;33m=\u001b[0m\u001b[0mdecimal\u001b[0m\u001b[1;33m,\u001b[0m\u001b[1;33m\u001b[0m\u001b[1;33m\u001b[0m\u001b[0m\n\u001b[0;32m   3227\u001b[0m         )\n\u001b[1;32m-> 3228\u001b[1;33m         \u001b[0mformatter\u001b[0m\u001b[1;33m.\u001b[0m\u001b[0msave\u001b[0m\u001b[1;33m(\u001b[0m\u001b[1;33m)\u001b[0m\u001b[1;33m\u001b[0m\u001b[1;33m\u001b[0m\u001b[0m\n\u001b[0m\u001b[0;32m   3229\u001b[0m \u001b[1;33m\u001b[0m\u001b[0m\n\u001b[0;32m   3230\u001b[0m         \u001b[1;32mif\u001b[0m \u001b[0mpath_or_buf\u001b[0m \u001b[1;32mis\u001b[0m \u001b[1;32mNone\u001b[0m\u001b[1;33m:\u001b[0m\u001b[1;33m\u001b[0m\u001b[1;33m\u001b[0m\u001b[0m\n",
         "\u001b[1;32m~\\AppData\\Roaming\\Python\\Python37\\site-packages\\pandas\\io\\formats\\csvs.py\u001b[0m in \u001b[0;36msave\u001b[1;34m(self)\u001b[0m\n\u001b[0;32m    181\u001b[0m                 \u001b[0mself\u001b[0m\u001b[1;33m.\u001b[0m\u001b[0mmode\u001b[0m\u001b[1;33m,\u001b[0m\u001b[1;33m\u001b[0m\u001b[1;33m\u001b[0m\u001b[0m\n\u001b[0;32m    182\u001b[0m                 \u001b[0mencoding\u001b[0m\u001b[1;33m=\u001b[0m\u001b[0mself\u001b[0m\u001b[1;33m.\u001b[0m\u001b[0mencoding\u001b[0m\u001b[1;33m,\u001b[0m\u001b[1;33m\u001b[0m\u001b[1;33m\u001b[0m\u001b[0m\n\u001b[1;32m--> 183\u001b[1;33m                 \u001b[0mcompression\u001b[0m\u001b[1;33m=\u001b[0m\u001b[0mself\u001b[0m\u001b[1;33m.\u001b[0m\u001b[0mcompression\u001b[0m\u001b[1;33m,\u001b[0m\u001b[1;33m\u001b[0m\u001b[1;33m\u001b[0m\u001b[0m\n\u001b[0m\u001b[0;32m    184\u001b[0m             )\n\u001b[0;32m    185\u001b[0m             \u001b[0mclose\u001b[0m \u001b[1;33m=\u001b[0m \u001b[1;32mTrue\u001b[0m\u001b[1;33m\u001b[0m\u001b[1;33m\u001b[0m\u001b[0m\n",
         "\u001b[1;32m~\\AppData\\Roaming\\Python\\Python37\\site-packages\\pandas\\io\\common.py\u001b[0m in \u001b[0;36m_get_handle\u001b[1;34m(path_or_buf, mode, encoding, compression, memory_map, is_text)\u001b[0m\n\u001b[0;32m    397\u001b[0m         \u001b[1;32mif\u001b[0m \u001b[0mencoding\u001b[0m\u001b[1;33m:\u001b[0m\u001b[1;33m\u001b[0m\u001b[1;33m\u001b[0m\u001b[0m\n\u001b[0;32m    398\u001b[0m             \u001b[1;31m# Encoding\u001b[0m\u001b[1;33m\u001b[0m\u001b[1;33m\u001b[0m\u001b[1;33m\u001b[0m\u001b[0m\n\u001b[1;32m--> 399\u001b[1;33m             \u001b[0mf\u001b[0m \u001b[1;33m=\u001b[0m \u001b[0mopen\u001b[0m\u001b[1;33m(\u001b[0m\u001b[0mpath_or_buf\u001b[0m\u001b[1;33m,\u001b[0m \u001b[0mmode\u001b[0m\u001b[1;33m,\u001b[0m \u001b[0mencoding\u001b[0m\u001b[1;33m=\u001b[0m\u001b[0mencoding\u001b[0m\u001b[1;33m,\u001b[0m \u001b[0mnewline\u001b[0m\u001b[1;33m=\u001b[0m\u001b[1;34m\"\"\u001b[0m\u001b[1;33m)\u001b[0m\u001b[1;33m\u001b[0m\u001b[1;33m\u001b[0m\u001b[0m\n\u001b[0m\u001b[0;32m    400\u001b[0m         \u001b[1;32melif\u001b[0m \u001b[0mis_text\u001b[0m\u001b[1;33m:\u001b[0m\u001b[1;33m\u001b[0m\u001b[1;33m\u001b[0m\u001b[0m\n\u001b[0;32m    401\u001b[0m             \u001b[1;31m# No explicit encoding\u001b[0m\u001b[1;33m\u001b[0m\u001b[1;33m\u001b[0m\u001b[1;33m\u001b[0m\u001b[0m\n",
         "\u001b[1;31mPermissionError\u001b[0m: [Errno 13] Permission denied: 'lda_multiplicative_top6_per_repo.csv'"
        ]
       }
      ],
      "source": "import pickle\n\nwith open(\"C:/Users/heck_ti/Documents/rep_mining/ranking_nmf_45_mult.pickle\", \"rb\") as f:\n    ranking_nmf_multiplicative = pickle.load(f)\npd.DataFrame(\n    {\n        \"repo_url1\" : repository_info.url.values[ranking_nmf_multiplicative[0]], \n        \"repo_description1\" : repository_info.description.values[ranking_nmf_multiplicative[0]],\n        \"repo_url2\" : repository_info.url.values[ranking_nmf_multiplicative[1]], \n        \"repo_description2\" : repository_info.description.values[ranking_nmf_multiplicative[1]],\n        \"score\" : ranking_nmf_multiplicative[2]\n    }\n).groupby(\"repo_url1\").head(6).reset_index(drop=True).to_csv(\"lda_multiplicative_top6_per_repo.csv\")\n\nwith open(\"C:/Users/heck_ti/Documents/rep_mining/ranking_lda_45_mult.pickle\", \"rb\") as f:\n    ranking_lda_multiplicative = pickle.load(f)\npd.DataFrame(\n    {\n        \"repo_url1\" : repository_info.url.values[ranking_lda_multiplicative[0]], \n        \"repo_description1\" : repository_info.description.values[ranking_lda_multiplicative[0]],\n        \"repo_url2\" : repository_info.url.values[ranking_lda_multiplicative[1]], \n        \"repo_description2\" : repository_info.description.values[ranking_lda_multiplicative[1]],\n        \"score\" : ranking_lda_multiplicative[2]\n    }\n).groupby(\"repo_url1\").head(6).reset_index(drop=True).to_csv(\"lda_multiplicative_top6_per_repo.csv\")\n\nwith open(\"C:/Users/heck_ti/Documents/rep_mining/ranking_nmf_45_rwr02.pickle\", \"rb\") as f:\n    ranking_nmf_rwr_d02 = pickle.load(f)\npd.DataFrame(\n    {\n        \"repo_url1\" : repository_info.url.values[ranking_nmf_rwr_d02[0]], \n        \"repo_description1\" : repository_info.description.values[ranking_nmf_rwr_d02[0]],\n        \"repo_url2\" : repository_info.url.values[ranking_nmf_rwr_d02[1]], \n        \"repo_description2\" : repository_info.description.values[ranking_nmf_rwr_d02[1]],\n        \"score\" : ranking_nmf_rwr_d02[2]\n    }\n).groupby(\"repo_url1\").head(6).reset_index(drop=True).to_csv(\"nmf_rwr_d02_top6_per_repo.csv\")\n\nwith open(\"C:/Users/heck_ti/Documents/rep_mining/ranking_nmf_45_rwr05.pickle\", \"rb\") as f:\n    ranking_nmf_rwr_d05 = pickle.load(f)\npd.DataFrame(\n    {\n        \"repo_url1\" : repository_info.url.values[ranking_nmf_rwr_d05[0]], \n        \"repo_description1\" : repository_info.description.values[ranking_nmf_rwr_d05[0]],\n        \"repo_url2\" : repository_info.url.values[ranking_nmf_rwr_d05[1]], \n        \"repo_description2\" : repository_info.description.values[ranking_nmf_rwr_d05[1]],\n        \"score\" : ranking_nmf_rwr_d05[2]\n    }\n).groupby(\"repo_url1\").head(6).reset_index(drop=True).to_csv(\"nmf_rwr_d05_top6_per_repo.csv\")\n\nwith open(\"C:/Users/heck_ti/Documents/rep_mining/ranking_nmf_45_rwr08.pickle\", \"rb\") as f:\n    ranking_nmf_rwr_d08 = pickle.load(f)\npd.DataFrame(\n    {\n        \"repo_url1\" : repository_info.url.values[ranking_nmf_rwr_d08[0]], \n        \"repo_description1\" : repository_info.description.values[ranking_nmf_rwr_d08[0]],\n        \"repo_url2\" : repository_info.url.values[ranking_nmf_rwr_d08[1]], \n        \"repo_description2\" : repository_info.description.values[ranking_nmf_rwr_d08[1]],\n        \"score\" : ranking_nmf_rwr_d08[2]\n    }\n).groupby(\"repo_url1\").head(6).reset_index(drop=True).to_csv(\"nmf_rwr_d08_top6_per_repo.csv\")\n\nwith open(\"C:/Users/heck_ti/Documents/rep_mining/ranking_lda_45_rwr02.pickle\", \"rb\") as f:\n    ranking_lda_rwr_d02 = pickle.load(f)\npd.DataFrame(\n    {\n        \"repo_url1\" : repository_info.url.values[ranking_lda_rwr_d02[0]], \n        \"repo_description1\" : repository_info.description.values[ranking_lda_rwr_d02[0]],\n        \"repo_url2\" : repository_info.url.values[ranking_lda_rwr_d02[1]], \n        \"repo_description2\" : repository_info.description.values[ranking_lda_rwr_d02[1]],\n        \"score\" : ranking_lda_rwr_d02[2]\n    }\n).groupby(\"repo_url1\").head(6).reset_index(drop=True).to_csv(\"lda_rwr_d02_top6_per_repo.csv\")\n\nwith open(\"C:/Users/heck_ti/Documents/rep_mining/ranking_lda_45_rwr05.pickle\", \"rb\") as f:\n    ranking_lda_rwr_d05 = pickle.load(f)\npd.DataFrame(\n    {\n        \"repo_url1\" : repository_info.url.values[ranking_lda_rwr_d05[0]], \n        \"repo_description1\" : repository_info.description.values[ranking_lda_rwr_d05[0]],\n        \"repo_url2\" : repository_info.url.values[ranking_lda_rwr_d05[1]], \n        \"repo_description2\" : repository_info.description.values[ranking_lda_rwr_d05[1]],\n        \"score\" : ranking_lda_rwr_d05[2]\n    }\n).groupby(\"repo_url1\").head(6).reset_index(drop=True).to_csv(\"lda_rwr_d05_top6_per_repo.csv\")\n\nwith open(\"C:/Users/heck_ti/Documents/rep_mining/ranking_lda_45_rwr08.pickle\", \"rb\") as f:\n    ranking_lda_rwr_d08 = pickle.load(f)\npd.DataFrame(\n    {\n        \"repo_url1\" : repository_info.url.values[ranking_lda_rwr_d08[0]], \n        \"repo_description1\" : repository_info.description.values[ranking_lda_rwr_d08[0]],\n        \"repo_url2\" : repository_info.url.values[ranking_lda_rwr_d08[1]], \n        \"repo_description2\" : repository_info.description.values[ranking_lda_rwr_d08[1]],\n        \"score\" : ranking_lda_rwr_d08[2]\n    }\n).groupby(\"repo_url1\").head(6).reset_index(drop=True).to_csv(\"lda_rwr_d08_top6_per_repo.csv\")",
      "start_time": "2020-04-22T13:29:07.407Z"
     },
     {
      "end_time": "2020-04-22T13:45:42.135Z",
      "execution_time": "11m 52s",
      "outputs": [],
      "source": "import pickle\n\nwith open(\"C:/Users/heck_ti/Documents/rep_mining/ranking_nmf_45_mult.pickle\", \"rb\") as f:\n    ranking_nmf_multiplicative = pickle.load(f)\npd.DataFrame(\n    {\n        \"repo_url1\" : repository_info.url.values[ranking_nmf_multiplicative[0]], \n        \"repo_description1\" : repository_info.description.values[ranking_nmf_multiplicative[0]],\n        \"repo_url2\" : repository_info.url.values[ranking_nmf_multiplicative[1]], \n        \"repo_description2\" : repository_info.description.values[ranking_nmf_multiplicative[1]],\n        \"score\" : ranking_nmf_multiplicative[2]\n    }\n).groupby(\"repo_url1\").head(6).reset_index(drop=True).to_csv(\"nmf_multiplicative_top6_per_repo.csv\")\n\nwith open(\"C:/Users/heck_ti/Documents/rep_mining/ranking_lda_45_mult.pickle\", \"rb\") as f:\n    ranking_lda_multiplicative = pickle.load(f)\npd.DataFrame(\n    {\n        \"repo_url1\" : repository_info.url.values[ranking_lda_multiplicative[0]], \n        \"repo_description1\" : repository_info.description.values[ranking_lda_multiplicative[0]],\n        \"repo_url2\" : repository_info.url.values[ranking_lda_multiplicative[1]], \n        \"repo_description2\" : repository_info.description.values[ranking_lda_multiplicative[1]],\n        \"score\" : ranking_lda_multiplicative[2]\n    }\n).groupby(\"repo_url1\").head(6).reset_index(drop=True).to_csv(\"lda_multiplicative_top6_per_repo.csv\")\n\nwith open(\"C:/Users/heck_ti/Documents/rep_mining/ranking_nmf_45_rwr02.pickle\", \"rb\") as f:\n    ranking_nmf_rwr_d02 = pickle.load(f)\npd.DataFrame(\n    {\n        \"repo_url1\" : repository_info.url.values[ranking_nmf_rwr_d02[0]], \n        \"repo_description1\" : repository_info.description.values[ranking_nmf_rwr_d02[0]],\n        \"repo_url2\" : repository_info.url.values[ranking_nmf_rwr_d02[1]], \n        \"repo_description2\" : repository_info.description.values[ranking_nmf_rwr_d02[1]],\n        \"score\" : ranking_nmf_rwr_d02[2]\n    }\n).groupby(\"repo_url1\").head(6).reset_index(drop=True).to_csv(\"nmf_rwr_d02_top6_per_repo.csv\")\n\nwith open(\"C:/Users/heck_ti/Documents/rep_mining/ranking_nmf_45_rwr05.pickle\", \"rb\") as f:\n    ranking_nmf_rwr_d05 = pickle.load(f)\npd.DataFrame(\n    {\n        \"repo_url1\" : repository_info.url.values[ranking_nmf_rwr_d05[0]], \n        \"repo_description1\" : repository_info.description.values[ranking_nmf_rwr_d05[0]],\n        \"repo_url2\" : repository_info.url.values[ranking_nmf_rwr_d05[1]], \n        \"repo_description2\" : repository_info.description.values[ranking_nmf_rwr_d05[1]],\n        \"score\" : ranking_nmf_rwr_d05[2]\n    }\n).groupby(\"repo_url1\").head(6).reset_index(drop=True).to_csv(\"nmf_rwr_d05_top6_per_repo.csv\")\n\nwith open(\"C:/Users/heck_ti/Documents/rep_mining/ranking_nmf_45_rwr08.pickle\", \"rb\") as f:\n    ranking_nmf_rwr_d08 = pickle.load(f)\npd.DataFrame(\n    {\n        \"repo_url1\" : repository_info.url.values[ranking_nmf_rwr_d08[0]], \n        \"repo_description1\" : repository_info.description.values[ranking_nmf_rwr_d08[0]],\n        \"repo_url2\" : repository_info.url.values[ranking_nmf_rwr_d08[1]], \n        \"repo_description2\" : repository_info.description.values[ranking_nmf_rwr_d08[1]],\n        \"score\" : ranking_nmf_rwr_d08[2]\n    }\n).groupby(\"repo_url1\").head(6).reset_index(drop=True).to_csv(\"nmf_rwr_d08_top6_per_repo.csv\")\n\nwith open(\"C:/Users/heck_ti/Documents/rep_mining/ranking_lda_45_rwr02.pickle\", \"rb\") as f:\n    ranking_lda_rwr_d02 = pickle.load(f)\npd.DataFrame(\n    {\n        \"repo_url1\" : repository_info.url.values[ranking_lda_rwr_d02[0]], \n        \"repo_description1\" : repository_info.description.values[ranking_lda_rwr_d02[0]],\n        \"repo_url2\" : repository_info.url.values[ranking_lda_rwr_d02[1]], \n        \"repo_description2\" : repository_info.description.values[ranking_lda_rwr_d02[1]],\n        \"score\" : ranking_lda_rwr_d02[2]\n    }\n).groupby(\"repo_url1\").head(6).reset_index(drop=True).to_csv(\"lda_rwr_d02_top6_per_repo.csv\")\n\nwith open(\"C:/Users/heck_ti/Documents/rep_mining/ranking_lda_45_rwr05.pickle\", \"rb\") as f:\n    ranking_lda_rwr_d05 = pickle.load(f)\npd.DataFrame(\n    {\n        \"repo_url1\" : repository_info.url.values[ranking_lda_rwr_d05[0]], \n        \"repo_description1\" : repository_info.description.values[ranking_lda_rwr_d05[0]],\n        \"repo_url2\" : repository_info.url.values[ranking_lda_rwr_d05[1]], \n        \"repo_description2\" : repository_info.description.values[ranking_lda_rwr_d05[1]],\n        \"score\" : ranking_lda_rwr_d05[2]\n    }\n).groupby(\"repo_url1\").head(6).reset_index(drop=True).to_csv(\"lda_rwr_d05_top6_per_repo.csv\")\n\nwith open(\"C:/Users/heck_ti/Documents/rep_mining/ranking_lda_45_rwr08.pickle\", \"rb\") as f:\n    ranking_lda_rwr_d08 = pickle.load(f)\npd.DataFrame(\n    {\n        \"repo_url1\" : repository_info.url.values[ranking_lda_rwr_d08[0]], \n        \"repo_description1\" : repository_info.description.values[ranking_lda_rwr_d08[0]],\n        \"repo_url2\" : repository_info.url.values[ranking_lda_rwr_d08[1]], \n        \"repo_description2\" : repository_info.description.values[ranking_lda_rwr_d08[1]],\n        \"score\" : ranking_lda_rwr_d08[2]\n    }\n).groupby(\"repo_url1\").head(6).reset_index(drop=True).to_csv(\"lda_rwr_d08_top6_per_repo.csv\")",
      "start_time": "2020-04-22T13:33:50.270Z"
     }
    ]
   },
   "outputs": [],
   "source": [
    "with open(\"../../rankings/ranking_nmf_45_mult.pickle\", \"rb\") as f:\n",
    "    ranking_nmf_multiplicative = pickle.load(f)\n",
    "pd.DataFrame(\n",
    "    {\n",
    "        \"repo_url1\" : repository_info.url.values[ranking_nmf_multiplicative[0][0:500]], \n",
    "        \"repo_description1\" : repository_info.description.values[ranking_nmf_multiplicative[0][0:500]],\n",
    "        \"repo_url2\" : repository_info.url.values[ranking_nmf_multiplicative[1][0:500]], \n",
    "        \"repo_description2\" : repository_info.description.values[ranking_nmf_multiplicative[1][0:500]],\n",
    "        \"score\" : ranking_nmf_multiplicative[2][0:500]\n",
    "    }\n",
    ").groupby(\"repo_url1\").head(6).reset_index(drop=True).to_csv(\"../../data/evaluation/user_study/nmf_multiplicative_top_6_per_repo.csv\")\n",
    "with open(\"../../rankings/ranking_lda_45_mult.pickle\", \"rb\") as f:\n",
    "    ranking_lda_multiplicative = pickle.load(f)\n",
    "pd.DataFrame(\n",
    "    {\n",
    "        \"repo_url1\" : repository_info.url.values[ranking_lda_multiplicative[0][0:500]], \n",
    "        \"repo_description1\" : repository_info.description.values[ranking_lda_multiplicative[0][0:500]],\n",
    "        \"repo_url2\" : repository_info.url.values[ranking_lda_multiplicative[1][0:500]], \n",
    "        \"repo_description2\" : repository_info.description.values[ranking_lda_multiplicative[1][0:500]],\n",
    "        \"score\" : ranking_lda_multiplicative[2][0:500]\n",
    "    }\n",
    ").groupby(\"repo_url1\").head(6).reset_index(drop=True).to_csv(\"../../data/evaluation/user_study/lda_multiplicative_top_6_per_repo.csv\")\n",
    "\n",
    "with open(\"../../rankings/ranking_nmf_45_rwr00.pickle\", \"rb\") as f:\n",
    "    ranking_nmf_rwr_d00 = pickle.load(f)\n",
    "pd.DataFrame(\n",
    "    {\n",
    "        \"repo_url1\" : repository_info.url.values[ranking_nmf_rwr_d00[0][0:500]], \n",
    "        \"repo_description1\" : repository_info.description.values[ranking_nmf_rwr_d00[0][0:500]],\n",
    "        \"repo_url2\" : repository_info.url.values[ranking_nmf_rwr_d00[1][0:500]], \n",
    "        \"repo_description2\" : repository_info.description.values[ranking_nmf_rwr_d00[1][0:500]],\n",
    "        \"score\" : ranking_nmf_rwr_d00[2][0:500]\n",
    "    }\n",
    ").groupby(\"repo_url1\").head(6).reset_index(drop=True).to_csv(\"../../data/evaluation/user_study/nmf_rwr_d00_top_6_per_repo.csv\")\n",
    "with open(\"../../rankings/ranking_nmf_45_rwr01.pickle\", \"rb\") as f:\n",
    "    ranking_nmf_rwr_d01 = pickle.load(f)\n",
    "pd.DataFrame(\n",
    "    {\n",
    "        \"repo_url1\" : repository_info.url.values[ranking_nmf_rwr_d01[0][0:500]], \n",
    "        \"repo_description1\" : repository_info.description.values[ranking_nmf_rwr_d01[0][0:500]],\n",
    "        \"repo_url2\" : repository_info.url.values[ranking_nmf_rwr_d01[1][0:500]], \n",
    "        \"repo_description2\" : repository_info.description.values[ranking_nmf_rwr_d01[1][0:500]],\n",
    "        \"score\" : ranking_nmf_rwr_d01[2][0:500]\n",
    "    }\n",
    ").groupby(\"repo_url1\").head(6).reset_index(drop=True).to_csv(\"../../data/evaluation/user_study/nmf_rwr_d02_top_6_per_repo.csv\")\n",
    "with open(\"../../rankings/ranking_nmf_45_rwr02.pickle\", \"rb\") as f:\n",
    "    ranking_nmf_rwr_d02 = pickle.load(f)\n",
    "pd.DataFrame(\n",
    "    {\n",
    "        \"repo_url1\" : repository_info.url.values[ranking_nmf_rwr_d02[0][0:500]], \n",
    "        \"repo_description1\" : repository_info.description.values[ranking_nmf_rwr_d02[0][0:500]],\n",
    "        \"repo_url2\" : repository_info.url.values[ranking_nmf_rwr_d02[1][0:500]], \n",
    "        \"repo_description2\" : repository_info.description.values[ranking_nmf_rwr_d02[1][0:500]],\n",
    "        \"score\" : ranking_nmf_rwr_d02[2][0:500]\n",
    "    }\n",
    ").groupby(\"repo_url1\").head(6).reset_index(drop=True).to_csv(\"../../data/evaluation/user_study/nmf_rwr_d02_top_6_per_repo.csv\")\n",
    "with open(\"../../rankings/ranking_nmf_45_rwr03.pickle\", \"rb\") as f:\n",
    "    ranking_nmf_rwr_d03 = pickle.load(f)\n",
    "pd.DataFrame(\n",
    "    {\n",
    "        \"repo_url1\" : repository_info.url.values[ranking_nmf_rwr_d03[0][0:500]], \n",
    "        \"repo_description1\" : repository_info.description.values[ranking_nmf_rwr_d03[0][0:500]],\n",
    "        \"repo_url2\" : repository_info.url.values[ranking_nmf_rwr_d03[1][0:500]], \n",
    "        \"repo_description2\" : repository_info.description.values[ranking_nmf_rwr_d03[1][0:500]],\n",
    "        \"score\" : ranking_nmf_rwr_d03[2][0:500]\n",
    "    }\n",
    ").groupby(\"repo_url1\").head(6).reset_index(drop=True).to_csv(\"../../data/evaluation/user_study/nmf_rwr_d03_top_6_per_repo.csv\")\n",
    "with open(\"../../rankings/ranking_nmf_45_rwr05.pickle\", \"rb\") as f:\n",
    "    ranking_nmf_rwr_d05 = pickle.load(f)\n",
    "pd.DataFrame(\n",
    "    {\n",
    "        \"repo_url1\" : repository_info.url.values[ranking_nmf_rwr_d05[0][0:500]], \n",
    "        \"repo_description1\" : repository_info.description.values[ranking_nmf_rwr_d05[0][0:500]],\n",
    "        \"repo_url2\" : repository_info.url.values[ranking_nmf_rwr_d05[1][0:500]], \n",
    "        \"repo_description2\" : repository_info.description.values[ranking_nmf_rwr_d05[1][0:500]],\n",
    "        \"score\" : ranking_nmf_rwr_d05[2][0:500]\n",
    "    }\n",
    ").groupby(\"repo_url1\").head(6).reset_index(drop=True).to_csv(\"../../data/evaluation/user_study/nmf_rwr_d05_top_6_per_repo.csv\")\n",
    "with open(\"../../rankings/ranking_nmf_45_rwr08.pickle\", \"rb\") as f:\n",
    "    ranking_nmf_rwr_d08 = pickle.load(f)\n",
    "pd.DataFrame(\n",
    "    {\n",
    "        \"repo_url1\" : repository_info.url.values[ranking_nmf_rwr_d08[0][0:500]], \n",
    "        \"repo_description1\" : repository_info.description.values[ranking_nmf_rwr_d08[0][0:500]],\n",
    "        \"repo_url2\" : repository_info.url.values[ranking_nmf_rwr_d08[1][0:500]], \n",
    "        \"repo_description2\" : repository_info.description.values[ranking_nmf_rwr_d08[1][0:500]],\n",
    "        \"score\" : ranking_nmf_rwr_d08[2][0:500]\n",
    "    }\n",
    ").groupby(\"repo_url1\").head(6).reset_index(drop=True).to_csv(\"../../data/evaluation/user_study/nmf_rwr_d08_top_6_per_repo.csv\")\n",
    "\n",
    "with open(\"../../rankings/ranking_lda_45_rwr00.pickle\", \"rb\") as f:\n",
    "    ranking_lda_rwr_d00 = pickle.load(f)\n",
    "pd.DataFrame(\n",
    "    {\n",
    "        \"repo_url1\" : repository_info.url.values[ranking_lda_rwr_d00[0][0:500]], \n",
    "        \"repo_description1\" : repository_info.description.values[ranking_lda_rwr_d00[0][0:500]],\n",
    "        \"repo_url2\" : repository_info.url.values[ranking_lda_rwr_d00[1][0:500]], \n",
    "        \"repo_description2\" : repository_info.description.values[ranking_lda_rwr_d00[1][0:500]],\n",
    "        \"score\" : ranking_lda_rwr_d00[2][0:500]\n",
    "    }\n",
    ").groupby(\"repo_url1\").head(6).reset_index(drop=True).to_csv(\"../../data/evaluation/user_study/lda_rwr_d00_top_6_per_repo.csv\")\n",
    "with open(\"../../rankings/ranking_lda_45_rwr01.pickle\", \"rb\") as f:\n",
    "    ranking_lda_rwr_d01 = pickle.load(f)\n",
    "pd.DataFrame(\n",
    "    {\n",
    "        \"repo_url1\" : repository_info.url.values[ranking_lda_rwr_d01[0][0:500]], \n",
    "        \"repo_description1\" : repository_info.description.values[ranking_lda_rwr_d01[0][0:500]],\n",
    "        \"repo_url2\" : repository_info.url.values[ranking_lda_rwr_d01[1][0:500]], \n",
    "        \"repo_description2\" : repository_info.description.values[ranking_lda_rwr_d01[1][0:500]],\n",
    "        \"score\" : ranking_lda_rwr_d01[2][0:500]\n",
    "    }\n",
    ").groupby(\"repo_url1\").head(6).reset_index(drop=True).to_csv(\"../../data/evaluation/user_study/lda_rwr_d01_top_6_per_repo.csv\")\n",
    "with open(\"../../rankings/ranking_lda_45_rwr02.pickle\", \"rb\") as f:\n",
    "    ranking_lda_rwr_d02 = pickle.load(f)\n",
    "pd.DataFrame(\n",
    "    {\n",
    "        \"repo_url1\" : repository_info.url.values[ranking_lda_rwr_d02[0][0:500]], \n",
    "        \"repo_description1\" : repository_info.description.values[ranking_lda_rwr_d02[0][0:500]],\n",
    "        \"repo_url2\" : repository_info.url.values[ranking_lda_rwr_d02[1][0:500]], \n",
    "        \"repo_description2\" : repository_info.description.values[ranking_lda_rwr_d02[1][0:500]],\n",
    "        \"score\" : ranking_lda_rwr_d02[2][0:500]\n",
    "    }\n",
    ").groupby(\"repo_url1\").head(6).reset_index(drop=True).to_csv(\"../../data/evaluation/user_study/lda_rwr_d02_top_6_per_repo.csv\")\n",
    "with open(\"..rankings/ranking_lda_45_rwr03.pickle\", \"rb\") as f:\n",
    "    ranking_lda_rwr_d03 = pickle.load(f)\n",
    "pd.DataFrame(\n",
    "    {\n",
    "        \"repo_url1\" : repository_info.url.values[ranking_lda_rwr_d03[0][0:500]], \n",
    "        \"repo_description1\" : repository_info.description.values[ranking_lda_rwr_d03[0][0:500]],\n",
    "        \"repo_url2\" : repository_info.url.values[ranking_lda_rwr_d03[1][0:500]], \n",
    "        \"repo_description2\" : repository_info.description.values[ranking_lda_rwr_d03[1][0:500]],\n",
    "        \"score\" : ranking_lda_rwr_d03[2][0:500]\n",
    "    }\n",
    ").groupby(\"repo_url1\").head(6).reset_index(drop=True).to_csv(\"../../data/evaluation/user_study/lda_rwr_d03_top_6_per_repo.csv\")\n",
    "with open(\"../../rankings/ranking_lda_45_rwr05.pickle\", \"rb\") as f:\n",
    "    ranking_lda_rwr_d05 = pickle.load(f)\n",
    "pd.DataFrame(\n",
    "    {\n",
    "        \"repo_url1\" : repository_info.url.values[ranking_lda_rwr_d05[0][0:500]], \n",
    "        \"repo_description1\" : repository_info.description.values[ranking_lda_rwr_d05[0][0:500]],\n",
    "        \"repo_url2\" : repository_info.url.values[ranking_lda_rwr_d05[1][0:500]], \n",
    "        \"repo_description2\" : repository_info.description.values[ranking_lda_rwr_d05[1][0:500]],\n",
    "        \"score\" : ranking_lda_rwr_d05[2][0:500]\n",
    "    }\n",
    ").groupby(\"repo_url1\").head(6).reset_index(drop=True).to_csv(\"../../data/evaluation/user_study/lda_rwr_d05_top_6_per_repo.csv\")\n",
    "with open(\"../../rankings/ranking_lda_45_rwr08.pickle\", \"rb\") as f:\n",
    "    ranking_lda_rwr_d08 = pickle.load(f)\n",
    "pd.DataFrame(\n",
    "    {\n",
    "        \"repo_url1\" : repository_info.url.values[ranking_lda_rwr_d08[0][0:500]], \n",
    "        \"repo_description1\" : repository_info.description.values[ranking_lda_rwr_d08[0][0:500]],\n",
    "        \"repo_url2\" : repository_info.url.values[ranking_lda_rwr_d08[1][0:500]], \n",
    "        \"repo_description2\" : repository_info.description.values[ranking_lda_rwr_d08[1][0:500]],\n",
    "        \"score\" : ranking_lda_rwr_d08[2][0:500]\n",
    "    }\n",
    ").groupby(\"repo_url1\").head(6).reset_index(drop=True).to_csv(\"../../data/evaluation/user_study/lda_rwr_d08_top_6_per_repo.csv\")"
   ]
  }
 ],
 "metadata": {
  "kernelspec": {
   "display_name": "Python 3",
   "language": "python",
   "name": "python3"
  },
  "language_info": {
   "codemirror_mode": {
    "name": "ipython",
    "version": 3
   },
   "file_extension": ".py",
   "mimetype": "text/x-python",
   "name": "python",
   "nbconvert_exporter": "python",
   "pygments_lexer": "ipython3",
   "version": "3.7.3"
  }
 },
 "nbformat": 4,
 "nbformat_minor": 4
}
