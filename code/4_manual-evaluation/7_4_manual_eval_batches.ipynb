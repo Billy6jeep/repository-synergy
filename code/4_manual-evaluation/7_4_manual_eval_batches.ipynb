{
 "cells": [
  {
   "cell_type": "code",
   "execution_count": 7,
   "metadata": {},
   "outputs": [],
   "source": [
    "import pandas as pd\n",
    "import numpy as np   \n",
    " "
   ]
  },
  {
   "cell_type": "markdown",
   "metadata": {},
   "source": [
    "# Get top 25 unique repo pairs based on the best model"
   ]
  },
  {
   "cell_type": "code",
   "execution_count": 2,
   "metadata": {},
   "outputs": [],
   "source": [
    "def sort_repo12(row):\n",
    "    repo12 = [row['repo_url1'].strip(), row['repo_url2'].strip()]\n",
    "    repo12.sort()\n",
    "    \n",
    "    row['repo12'] = '-'.join(repo12)\n",
    "    return row\n",
    "    \n",
    "\n",
    "def clean_and_get_top_pairs(path, top):\n",
    "    df = pd.read_csv(path).copy()\n",
    "    df = df.sort_values(by=['score'], ascending=False)\n",
    "    print('original size: ', len(df))\n",
    "\n",
    "    \n",
    "    \n",
    "    df = df.apply(sort_repo12, axis=1)\n",
    "    \n",
    "    \n",
    "    df =df[df['repo_url1'] != df['repo_url2'] ]\n",
    "    print('after dropping pairs with same repos ', len(df))\n",
    "    \n",
    "    df.drop_duplicates(['repo12'], keep='first', inplace=True)\n",
    "    print('dropping duplicate pairs: ', len(df))\n",
    "    \n",
    "    df.drop_duplicates([ 'repo_url2'], keep='first', inplace=True)\n",
    "    print('after dropping duplicate url2 ', len(df))\n",
    "    \n",
    "    df.drop_duplicates(['repo_url1'], keep='first', inplace=True)\n",
    "    print('after dropping duplicate url1 ', len(df))\n",
    "\n",
    "    \n",
    "    df =df.drop([ 'Unnamed: 0'], axis=1)\n",
    "    \n",
    "    if top is not None and top < len(df):\n",
    "        result_df = df[:top].copy()\n",
    "    else: result_df = df.copy()\n",
    "    result_df['is_random'] = False\n",
    "    return result_df\n",
    "\n",
    "def get_top_generated_data(top=30):\n",
    "    lda_rwr_d02 = clean_and_get_top_pairs('../../data/evaluation/manual/lda_rwr_d02_top6_per_repo.csv', top=None)\n",
    "    lda_rwr_d02['algorithm'] = 'd02'\n",
    "    \n",
    "    lda_rwr_d00 = clean_and_get_top_pairs('../../data/evaluation/manual/lda_rwr_d00_top6_per_repo.csv', top=None)\n",
    "    lda_rwr_d00['algorithm'] = 'd00'\n",
    "    \n",
    "    generated_data = pd.concat([lda_rwr_d00, lda_rwr_d02])\n",
    "    generated_data.drop_duplicates(['repo12'], keep=False, inplace=True)\n",
    "    generated_data['algorithm'].value_counts()\n",
    "    generated_data = generated_data.drop([ 'repo12'], axis=1)\n",
    "    \n",
    "    \n",
    "    d00 = (generated_data[generated_data['algorithm'] == 'd00'])[:top]\n",
    "    d02 = (generated_data[generated_data['algorithm'] == 'd02'])[:top]\n",
    "    \n",
    "    #result = pd.concat([d00, d02])\n",
    "    return d00, d02"
   ]
  },
  {
   "cell_type": "code",
   "execution_count": 8,
   "metadata": {},
   "outputs": [
    {
     "name": "stdout",
     "output_type": "stream",
     "text": [
      "original size:  79584\n",
      "after dropping pairs with same repos  79218\n",
      "dropping duplicate pairs:  78717\n",
      "after dropping duplicate url2  322\n",
      "after dropping duplicate url1  219\n",
      "original size:  79584\n",
      "after dropping pairs with same repos  78966\n",
      "dropping duplicate pairs:  78301\n",
      "after dropping duplicate url2  707\n",
      "after dropping duplicate url1  568\n"
     ]
    }
   ],
   "source": [
    "clean_lda_rwr_d02 = clean_and_get_top_pairs('../../data/evaluation/manual/lda_rwr_d02_top6_per_repo.csv', top=None)\n",
    "clean_lda_rwr_d00 = clean_and_get_top_pairs('../../data/evaluation/manual/lda_rwr_d00_top6_per_repo.csv', top=None)\n",
    "clean_lda_rwr_d02.to_csv('../../data/evaluation/manual/cleaned_lda_rwr_d02_top6_per_repo.csv')\n",
    "clean_lda_rwr_d00.to_csv('../../data/evaluation/manual/cleaned_lda_rwr_d00_top6_per_repo.csv')"
   ]
  },
  {
   "cell_type": "code",
   "execution_count": 13,
   "metadata": {},
   "outputs": [
    {
     "data": {
      "text/html": [
       "<div>\n",
       "<style scoped>\n",
       "    .dataframe tbody tr th:only-of-type {\n",
       "        vertical-align: middle;\n",
       "    }\n",
       "\n",
       "    .dataframe tbody tr th {\n",
       "        vertical-align: top;\n",
       "    }\n",
       "\n",
       "    .dataframe thead th {\n",
       "        text-align: right;\n",
       "    }\n",
       "</style>\n",
       "<table border=\"1\" class=\"dataframe\">\n",
       "  <thead>\n",
       "    <tr style=\"text-align: right;\">\n",
       "      <th></th>\n",
       "      <th>Unnamed: 0</th>\n",
       "      <th>repo_url1</th>\n",
       "      <th>repo_description1</th>\n",
       "      <th>repo_url2</th>\n",
       "      <th>repo_description2</th>\n",
       "      <th>score</th>\n",
       "      <th>repo12</th>\n",
       "      <th>is_random</th>\n",
       "    </tr>\n",
       "  </thead>\n",
       "  <tbody>\n",
       "    <tr>\n",
       "      <th>0</th>\n",
       "      <td>2</td>\n",
       "      <td>https://api.github.com/repos/tmrowco/electrici...</td>\n",
       "      <td>A real-time visualisation of the CO2 emissions...</td>\n",
       "      <td>https://api.github.com/repos/limhenry/earthview</td>\n",
       "      <td>Earth View is a collection of the most beautif...</td>\n",
       "      <td>0.003000</td>\n",
       "      <td>https://api.github.com/repos/limhenry/earthvie...</td>\n",
       "      <td>False</td>\n",
       "    </tr>\n",
       "    <tr>\n",
       "      <th>1</th>\n",
       "      <td>12</td>\n",
       "      <td>https://api.github.com/repos/googlei18n/corpus...</td>\n",
       "      <td>Crawler for linguistic corpora</td>\n",
       "      <td>https://api.github.com/repos/tmrowco/electrici...</td>\n",
       "      <td>A real-time visualisation of the CO2 emissions...</td>\n",
       "      <td>0.001884</td>\n",
       "      <td>https://api.github.com/repos/googlei18n/corpus...</td>\n",
       "      <td>False</td>\n",
       "    </tr>\n",
       "    <tr>\n",
       "      <th>2</th>\n",
       "      <td>19</td>\n",
       "      <td>https://api.github.com/repos/chaimleib/interva...</td>\n",
       "      <td>A mutable, self-balancing interval tree. Queri...</td>\n",
       "      <td>https://api.github.com/repos/vineetjohn/daily-...</td>\n",
       "      <td>Solutions to problems sent by dailycodingprobl...</td>\n",
       "      <td>0.001786</td>\n",
       "      <td>https://api.github.com/repos/chaimleib/interva...</td>\n",
       "      <td>False</td>\n",
       "    </tr>\n",
       "    <tr>\n",
       "      <th>3</th>\n",
       "      <td>21</td>\n",
       "      <td>https://api.github.com/repos/mikeorr/Unipath</td>\n",
       "      <td>An object-oriented approach to Python file/dir...</td>\n",
       "      <td>https://api.github.com/repos/abarker/pdfCropMa...</td>\n",
       "      <td>pdfCropMargins -- a program to crop the margin...</td>\n",
       "      <td>0.001757</td>\n",
       "      <td>https://api.github.com/repos/abarker/pdfCropMa...</td>\n",
       "      <td>False</td>\n",
       "    </tr>\n",
       "    <tr>\n",
       "      <th>4</th>\n",
       "      <td>23</td>\n",
       "      <td>https://api.github.com/repos/crazyhottommy/ChI...</td>\n",
       "      <td>ChIP-seq analysis notes from Tommy Tang</td>\n",
       "      <td>https://api.github.com/repos/kcakdemir/HiCPlotter</td>\n",
       "      <td>NaN</td>\n",
       "      <td>0.001752</td>\n",
       "      <td>https://api.github.com/repos/crazyhottommy/ChI...</td>\n",
       "      <td>False</td>\n",
       "    </tr>\n",
       "    <tr>\n",
       "      <th>...</th>\n",
       "      <td>...</td>\n",
       "      <td>...</td>\n",
       "      <td>...</td>\n",
       "      <td>...</td>\n",
       "      <td>...</td>\n",
       "      <td>...</td>\n",
       "      <td>...</td>\n",
       "      <td>...</td>\n",
       "    </tr>\n",
       "    <tr>\n",
       "      <th>214</th>\n",
       "      <td>74582</td>\n",
       "      <td>https://api.github.com/repos/coto/gae-boilerplate</td>\n",
       "      <td>Google App Engine Boilerplate</td>\n",
       "      <td>https://api.github.com/repos/googlemaps/google...</td>\n",
       "      <td>Python client library for Google Maps API Web ...</td>\n",
       "      <td>0.000810</td>\n",
       "      <td>https://api.github.com/repos/coto/gae-boilerpl...</td>\n",
       "      <td>False</td>\n",
       "    </tr>\n",
       "    <tr>\n",
       "      <th>215</th>\n",
       "      <td>75930</td>\n",
       "      <td>https://api.github.com/repos/pwndbg/pwndbg</td>\n",
       "      <td>Makes debugging suck less</td>\n",
       "      <td>https://api.github.com/repos/CleanCut/green</td>\n",
       "      <td>Green is a clean, colorful, fast python test r...</td>\n",
       "      <td>0.000800</td>\n",
       "      <td>https://api.github.com/repos/CleanCut/green-ht...</td>\n",
       "      <td>False</td>\n",
       "    </tr>\n",
       "    <tr>\n",
       "      <th>216</th>\n",
       "      <td>77433</td>\n",
       "      <td>https://api.github.com/repos/potatolondon/djangae</td>\n",
       "      <td>The best way to run Django on Google App Engine</td>\n",
       "      <td>https://api.github.com/repos/GoogleCloudPlatfo...</td>\n",
       "      <td>Data pipeline is a tool to run Data loading pi...</td>\n",
       "      <td>0.000796</td>\n",
       "      <td>https://api.github.com/repos/GoogleCloudPlatfo...</td>\n",
       "      <td>False</td>\n",
       "    </tr>\n",
       "    <tr>\n",
       "      <th>217</th>\n",
       "      <td>77808</td>\n",
       "      <td>https://api.github.com/repos/ankane/s3tk</td>\n",
       "      <td>A security toolkit for Amazon S3</td>\n",
       "      <td>https://api.github.com/repos/ets-labs/python-d...</td>\n",
       "      <td>Python dependency injection framework</td>\n",
       "      <td>0.000795</td>\n",
       "      <td>https://api.github.com/repos/ankane/s3tk-https...</td>\n",
       "      <td>False</td>\n",
       "    </tr>\n",
       "    <tr>\n",
       "      <th>218</th>\n",
       "      <td>79161</td>\n",
       "      <td>https://api.github.com/repos/reuterbal/photobooth</td>\n",
       "      <td>A flexible photobooth software</td>\n",
       "      <td>https://api.github.com/repos/Xaviju/inkscape-o...</td>\n",
       "      <td>Open source icon sets to use as Inkscape symbols</td>\n",
       "      <td>0.000790</td>\n",
       "      <td>https://api.github.com/repos/Xaviju/inkscape-o...</td>\n",
       "      <td>False</td>\n",
       "    </tr>\n",
       "  </tbody>\n",
       "</table>\n",
       "<p>219 rows × 8 columns</p>\n",
       "</div>"
      ],
      "text/plain": [
       "     Unnamed: 0                                          repo_url1  \\\n",
       "0             2  https://api.github.com/repos/tmrowco/electrici...   \n",
       "1            12  https://api.github.com/repos/googlei18n/corpus...   \n",
       "2            19  https://api.github.com/repos/chaimleib/interva...   \n",
       "3            21       https://api.github.com/repos/mikeorr/Unipath   \n",
       "4            23  https://api.github.com/repos/crazyhottommy/ChI...   \n",
       "..          ...                                                ...   \n",
       "214       74582  https://api.github.com/repos/coto/gae-boilerplate   \n",
       "215       75930         https://api.github.com/repos/pwndbg/pwndbg   \n",
       "216       77433  https://api.github.com/repos/potatolondon/djangae   \n",
       "217       77808           https://api.github.com/repos/ankane/s3tk   \n",
       "218       79161  https://api.github.com/repos/reuterbal/photobooth   \n",
       "\n",
       "                                     repo_description1  \\\n",
       "0    A real-time visualisation of the CO2 emissions...   \n",
       "1                       Crawler for linguistic corpora   \n",
       "2    A mutable, self-balancing interval tree. Queri...   \n",
       "3    An object-oriented approach to Python file/dir...   \n",
       "4              ChIP-seq analysis notes from Tommy Tang   \n",
       "..                                                 ...   \n",
       "214                      Google App Engine Boilerplate   \n",
       "215                          Makes debugging suck less   \n",
       "216    The best way to run Django on Google App Engine   \n",
       "217                   A security toolkit for Amazon S3   \n",
       "218                     A flexible photobooth software   \n",
       "\n",
       "                                             repo_url2  \\\n",
       "0      https://api.github.com/repos/limhenry/earthview   \n",
       "1    https://api.github.com/repos/tmrowco/electrici...   \n",
       "2    https://api.github.com/repos/vineetjohn/daily-...   \n",
       "3    https://api.github.com/repos/abarker/pdfCropMa...   \n",
       "4    https://api.github.com/repos/kcakdemir/HiCPlotter   \n",
       "..                                                 ...   \n",
       "214  https://api.github.com/repos/googlemaps/google...   \n",
       "215        https://api.github.com/repos/CleanCut/green   \n",
       "216  https://api.github.com/repos/GoogleCloudPlatfo...   \n",
       "217  https://api.github.com/repos/ets-labs/python-d...   \n",
       "218  https://api.github.com/repos/Xaviju/inkscape-o...   \n",
       "\n",
       "                                     repo_description2     score  \\\n",
       "0    Earth View is a collection of the most beautif...  0.003000   \n",
       "1    A real-time visualisation of the CO2 emissions...  0.001884   \n",
       "2    Solutions to problems sent by dailycodingprobl...  0.001786   \n",
       "3    pdfCropMargins -- a program to crop the margin...  0.001757   \n",
       "4                                                  NaN  0.001752   \n",
       "..                                                 ...       ...   \n",
       "214  Python client library for Google Maps API Web ...  0.000810   \n",
       "215  Green is a clean, colorful, fast python test r...  0.000800   \n",
       "216  Data pipeline is a tool to run Data loading pi...  0.000796   \n",
       "217              Python dependency injection framework  0.000795   \n",
       "218  Open source icon sets to use as Inkscape symbols   0.000790   \n",
       "\n",
       "                                                repo12  is_random  \n",
       "0    https://api.github.com/repos/limhenry/earthvie...      False  \n",
       "1    https://api.github.com/repos/googlei18n/corpus...      False  \n",
       "2    https://api.github.com/repos/chaimleib/interva...      False  \n",
       "3    https://api.github.com/repos/abarker/pdfCropMa...      False  \n",
       "4    https://api.github.com/repos/crazyhottommy/ChI...      False  \n",
       "..                                                 ...        ...  \n",
       "214  https://api.github.com/repos/coto/gae-boilerpl...      False  \n",
       "215  https://api.github.com/repos/CleanCut/green-ht...      False  \n",
       "216  https://api.github.com/repos/GoogleCloudPlatfo...      False  \n",
       "217  https://api.github.com/repos/ankane/s3tk-https...      False  \n",
       "218  https://api.github.com/repos/Xaviju/inkscape-o...      False  \n",
       "\n",
       "[219 rows x 8 columns]"
      ]
     },
     "execution_count": 13,
     "metadata": {},
     "output_type": "execute_result"
    }
   ],
   "source": [
    "pd.read_csv('../../data/evaluation/manual/cleaned_lda_rwr_d02_top6_per_repo.csv')"
   ]
  },
  {
   "cell_type": "code",
   "execution_count": 3,
   "metadata": {},
   "outputs": [
    {
     "name": "stdout",
     "output_type": "stream",
     "text": [
      "original size:  79584\n",
      "after dropping pairs with same repos  79218\n",
      "dropping duplicate pairs:  78717\n",
      "after dropping duplicate url2  322\n",
      "after dropping duplicate url1  219\n",
      "original size:  79584\n",
      "after dropping pairs with same repos  78966\n",
      "dropping duplicate pairs:  78301\n",
      "after dropping duplicate url2  707\n",
      "after dropping duplicate url1  568\n"
     ]
    }
   ],
   "source": [
    "eval_data_00, eval_data_02 = get_top_generated_data(top=30)"
   ]
  },
  {
   "cell_type": "markdown",
   "metadata": {},
   "source": [
    "# Get top 30 unique repo pairs based on the best model"
   ]
  },
  {
   "cell_type": "code",
   "execution_count": 5,
   "metadata": {},
   "outputs": [],
   "source": [
    "all_repos = pd.read_csv('../../data/processed/final_repo_english_whatwhy.csv')\n",
    "\n",
    "d02 = pd.read_csv('../../data/evaluation/manual/lda_rwr_d02_top6_per_repo.csv')\n",
    "d00 = pd.read_csv('../../data/evaluation/manual/lda_rwr_d00_top6_per_repo.csv')"
   ]
  },
  {
   "cell_type": "code",
   "execution_count": 6,
   "metadata": {},
   "outputs": [
    {
     "data": {
      "text/html": [
       "<div>\n",
       "<style scoped>\n",
       "    .dataframe tbody tr th:only-of-type {\n",
       "        vertical-align: middle;\n",
       "    }\n",
       "\n",
       "    .dataframe tbody tr th {\n",
       "        vertical-align: top;\n",
       "    }\n",
       "\n",
       "    .dataframe thead th {\n",
       "        text-align: right;\n",
       "    }\n",
       "</style>\n",
       "<table border=\"1\" class=\"dataframe\">\n",
       "  <thead>\n",
       "    <tr style=\"text-align: right;\">\n",
       "      <th></th>\n",
       "      <th>Unnamed: 0</th>\n",
       "      <th>repo_url1</th>\n",
       "      <th>repo_description1</th>\n",
       "      <th>repo_url2</th>\n",
       "      <th>repo_description2</th>\n",
       "      <th>score</th>\n",
       "    </tr>\n",
       "  </thead>\n",
       "  <tbody>\n",
       "    <tr>\n",
       "      <th>0</th>\n",
       "      <td>0</td>\n",
       "      <td>https://api.github.com/repos/limhenry/earthview</td>\n",
       "      <td>Earth View is a collection of the most beautif...</td>\n",
       "      <td>https://api.github.com/repos/limhenry/earthview</td>\n",
       "      <td>Earth View is a collection of the most beautif...</td>\n",
       "      <td>0.004361</td>\n",
       "    </tr>\n",
       "    <tr>\n",
       "      <th>1</th>\n",
       "      <td>1</td>\n",
       "      <td>https://api.github.com/repos/madhavanmalolan/a...</td>\n",
       "      <td>Awesome React Native UI components updated daily</td>\n",
       "      <td>https://api.github.com/repos/madhavanmalolan/a...</td>\n",
       "      <td>Awesome React Native UI components updated daily</td>\n",
       "      <td>0.003360</td>\n",
       "    </tr>\n",
       "    <tr>\n",
       "      <th>2</th>\n",
       "      <td>2</td>\n",
       "      <td>https://api.github.com/repos/tmrowco/electrici...</td>\n",
       "      <td>A real-time visualisation of the CO2 emissions...</td>\n",
       "      <td>https://api.github.com/repos/limhenry/earthview</td>\n",
       "      <td>Earth View is a collection of the most beautif...</td>\n",
       "      <td>0.003000</td>\n",
       "    </tr>\n",
       "    <tr>\n",
       "      <th>3</th>\n",
       "      <td>3</td>\n",
       "      <td>https://api.github.com/repos/limhenry/earthview</td>\n",
       "      <td>Earth View is a collection of the most beautif...</td>\n",
       "      <td>https://api.github.com/repos/tmrowco/electrici...</td>\n",
       "      <td>A real-time visualisation of the CO2 emissions...</td>\n",
       "      <td>0.002833</td>\n",
       "    </tr>\n",
       "    <tr>\n",
       "      <th>4</th>\n",
       "      <td>4</td>\n",
       "      <td>https://api.github.com/repos/googlei18n/corpus...</td>\n",
       "      <td>Crawler for linguistic corpora</td>\n",
       "      <td>https://api.github.com/repos/limhenry/earthview</td>\n",
       "      <td>Earth View is a collection of the most beautif...</td>\n",
       "      <td>0.002731</td>\n",
       "    </tr>\n",
       "  </tbody>\n",
       "</table>\n",
       "</div>"
      ],
      "text/plain": [
       "   Unnamed: 0                                          repo_url1  \\\n",
       "0           0    https://api.github.com/repos/limhenry/earthview   \n",
       "1           1  https://api.github.com/repos/madhavanmalolan/a...   \n",
       "2           2  https://api.github.com/repos/tmrowco/electrici...   \n",
       "3           3    https://api.github.com/repos/limhenry/earthview   \n",
       "4           4  https://api.github.com/repos/googlei18n/corpus...   \n",
       "\n",
       "                                   repo_description1  \\\n",
       "0  Earth View is a collection of the most beautif...   \n",
       "1   Awesome React Native UI components updated daily   \n",
       "2  A real-time visualisation of the CO2 emissions...   \n",
       "3  Earth View is a collection of the most beautif...   \n",
       "4                     Crawler for linguistic corpora   \n",
       "\n",
       "                                           repo_url2  \\\n",
       "0    https://api.github.com/repos/limhenry/earthview   \n",
       "1  https://api.github.com/repos/madhavanmalolan/a...   \n",
       "2    https://api.github.com/repos/limhenry/earthview   \n",
       "3  https://api.github.com/repos/tmrowco/electrici...   \n",
       "4    https://api.github.com/repos/limhenry/earthview   \n",
       "\n",
       "                                   repo_description2     score  \n",
       "0  Earth View is a collection of the most beautif...  0.004361  \n",
       "1   Awesome React Native UI components updated daily  0.003360  \n",
       "2  Earth View is a collection of the most beautif...  0.003000  \n",
       "3  A real-time visualisation of the CO2 emissions...  0.002833  \n",
       "4  Earth View is a collection of the most beautif...  0.002731  "
      ]
     },
     "execution_count": 6,
     "metadata": {},
     "output_type": "execute_result"
    }
   ],
   "source": [
    "d02.head()"
   ]
  },
  {
   "cell_type": "code",
   "execution_count": 6,
   "metadata": {},
   "outputs": [],
   "source": [
    "num = len(all_repos)"
   ]
  },
  {
   "cell_type": "code",
   "execution_count": 7,
   "metadata": {},
   "outputs": [],
   "source": [
    "def generate_random_pair_indeces():\n",
    "    all_pairs_indeces = []\n",
    "    for pair in range(0, 35): # 25 pairs\n",
    "        indeces = np.random.randint(num, size=(1, 2))\n",
    "        all_pairs_indeces.append(list(indeces[0]))\n",
    "    return all_pairs_indeces\n",
    "    \n",
    "    \n",
    "    "
   ]
  },
  {
   "cell_type": "code",
   "execution_count": 8,
   "metadata": {},
   "outputs": [],
   "source": [
    "all_pairs_indeces = generate_random_pair_indeces()"
   ]
  },
  {
   "cell_type": "code",
   "execution_count": 9,
   "metadata": {},
   "outputs": [],
   "source": [
    "def pair_in_orig(url1, url2, algo_pairs):\n",
    "    match1 = algo_pairs[((algo_pairs['repo_url1'] == url1) & (algo_pairs['repo_url2'] == url2))]\n",
    "    match2 = algo_pairs[((algo_pairs['repo_url2'] == url1) & (algo_pairs['repo_url1'] == url2))]\n",
    "    exist = len(match1) >0 or len(match2)>0\n",
    "    return exist\n",
    "\n",
    "\n",
    "def generate_random_pairs(top=None):\n",
    "    random_list = []\n",
    "    exists = 0\n",
    "    for pair in all_pairs_indeces :\n",
    "        if pair[0] == pair[1]:\n",
    "            print('duplicate')\n",
    "            continue\n",
    "\n",
    "        url1 = all_repos.iloc[pair[0]]['url']\n",
    "        url2 = all_repos.iloc[pair[1]]['url']\n",
    "\n",
    "        repo_pair = {}\n",
    "        if not pair_in_orig(url1, url2, d00) and not pair_in_orig(url1, url2, d02):\n",
    "            repo1 = all_repos.iloc[pair[0]]\n",
    "            repo2 = all_repos.iloc[pair[1]]\n",
    "            \n",
    "            repo_pair['repo_url1'] = repo1['url']\n",
    "            repo_pair['repo_description1'] = repo1['description']\n",
    "\n",
    "            repo_pair['repo_url2'] = repo2['url']\n",
    "            repo_pair['repo_description2'] = repo2['description']\n",
    "            \n",
    "            repo_pair['score'] = 0.0\n",
    "            random_list.append(repo_pair)\n",
    "        else:\n",
    "            exists += 1\n",
    "        \n",
    "    df = pd.DataFrame(random_list)\n",
    "    df['is_random'] = True\n",
    "    df['algorithm'] = 'random'\n",
    "    \n",
    "    if top is not None:\n",
    "        df = df[:top]\n",
    "    return df, exists\n",
    "    \n",
    "    \n",
    "    \n",
    "    \n",
    "    \n",
    "    "
   ]
  },
  {
   "cell_type": "code",
   "execution_count": 10,
   "metadata": {},
   "outputs": [],
   "source": [
    "random_df, exists = generate_random_pairs(top=30)"
   ]
  },
  {
   "cell_type": "code",
   "execution_count": 11,
   "metadata": {},
   "outputs": [],
   "source": [
    "random_df['algorithm'] = 'random'\n"
   ]
  },
  {
   "cell_type": "markdown",
   "metadata": {},
   "source": [
    "# Combine random and top\n"
   ]
  },
  {
   "cell_type": "code",
   "execution_count": 13,
   "metadata": {},
   "outputs": [
    {
     "data": {
      "text/plain": [
       "90"
      ]
     },
     "execution_count": 13,
     "metadata": {},
     "output_type": "execute_result"
    }
   ],
   "source": [
    "manual_eval_data = pd.concat([eval_data_00, eval_data_02, random_df])\n",
    "manual_eval_data['is_random'].value_counts()\n",
    "manual_eval_data = manual_eval_data.apply(sort_repo12, axis=1)\n",
    "len(manual_eval_data['repo12'].unique())"
   ]
  },
  {
   "cell_type": "code",
   "execution_count": 14,
   "metadata": {},
   "outputs": [],
   "source": [
    "## batches\n",
    "\n",
    "batch1 = pd.concat([eval_data_00[:10], eval_data_02[:10], random_df[:10]])\n",
    "batch2 = pd.concat([eval_data_00[10:20], eval_data_02[10:20], random_df[10:20]])\n",
    "batch3 = pd.concat([eval_data_00[-10:], eval_data_02[-10:], random_df[-10:]])\n"
   ]
  },
  {
   "cell_type": "code",
   "execution_count": 15,
   "metadata": {},
   "outputs": [
    {
     "name": "stdout",
     "output_type": "stream",
     "text": [
      "30\n",
      "30\n",
      "30\n"
     ]
    }
   ],
   "source": [
    "print(len(batch1))\n",
    "print(len(batch2))\n",
    "print(len(batch3))"
   ]
  },
  {
   "cell_type": "code",
   "execution_count": 16,
   "metadata": {},
   "outputs": [],
   "source": [
    "from sklearn.utils import shuffle\n",
    "\n",
    "def _start(batch_num, batch_size=30):\n",
    "    return (batch_size*(batch_num-1))+1\n",
    "\n",
    "def _end(batch_num, batch_size=30):\n",
    "    return _start(batch_num, batch_size) + batch_size \n",
    "\n",
    "def shuffle_data(df, batch):\n",
    "    suffled_df  = shuffle(df.copy())\n",
    "    suffled_df['id'] = range(_start(batch), _end(batch))\n",
    "    suffled_df = suffled_df.set_index('id')\n",
    "    return suffled_df\n",
    "\n",
    "batch1= shuffle_data(batch1, 1)\n",
    "batch2= shuffle_data(batch2, 2)\n",
    "batch3= shuffle_data(batch3,3)\n"
   ]
  },
  {
   "cell_type": "code",
   "execution_count": 17,
   "metadata": {},
   "outputs": [],
   "source": [
    "def _replace_empty_desc(row):\n",
    "    if row['repo_description1'].strip() == '':\n",
    "        row['repo_description1'] = (all_repos[all_repos['url'] == row['repo_url1']])['name'].values[0]\n",
    "    if row['repo_description2'].strip() == '':\n",
    "        row['repo_description2'] = (all_repos[all_repos['url'] == row['repo_url2']])['name'].values[0]\n",
    "    \n",
    "    return row\n",
    "\n",
    "\n",
    "def replace_empty_desc(df):\n",
    "    df['repo_description1'].fillna('', inplace=True)\n",
    "    df['repo_description2'].fillna('', inplace=True)\n",
    "    df =df.apply(_replace_empty_desc, axis=1)\n",
    "    return df\n",
    "\n",
    "batch1= replace_empty_desc(batch1)\n",
    "batch2= replace_empty_desc(batch2)\n",
    "batch3= replace_empty_desc(batch3)    "
   ]
  },
  {
   "cell_type": "code",
   "execution_count": 36,
   "metadata": {},
   "outputs": [],
   "source": [
    "batch1['batch'] = 1\n",
    "batch2['batch'] = 2\n",
    "batch3['batch'] = 3"
   ]
  },
  {
   "cell_type": "markdown",
   "metadata": {},
   "source": [
    "## Save batches "
   ]
  },
  {
   "cell_type": "code",
   "execution_count": 37,
   "metadata": {},
   "outputs": [],
   "source": [
    "batch1.reset_index().copy().to_csv('../../data/evaluation/manual/batch1.csv', index=False)\n",
    "batch2.reset_index().copy().to_csv('../../data/evaluation/manual/batch2.csv', index=False)\n",
    "batch3.reset_index().copy().to_csv('../../data/evaluation/manual/batch3.csv', index=False)"
   ]
  },
  {
   "cell_type": "code",
   "execution_count": 38,
   "metadata": {},
   "outputs": [],
   "source": [
    "final = pd.concat([batch1, batch2, batch3])\n",
    "final.reset_index().copy().to_csv('../../data/evaluation/manual/manual_eval_3batches.csv', index=False)"
   ]
  },
  {
   "cell_type": "markdown",
   "metadata": {},
   "source": [
    "## Copy readme files "
   ]
  },
  {
   "cell_type": "code",
   "execution_count": 32,
   "metadata": {},
   "outputs": [],
   "source": [
    "# save readme files under 1 folder\n",
    "from shutil import copyfile, copy\n",
    "\n",
    "def copy_readme(url):\n",
    "    src = '../../data/readme_files/{}.md'.format( '.'.join(url.split('/')[-2:]))\n",
    "    copy(src, '../../annotation-app/data/readme_files/')\n",
    "    \n",
    "def copy_readme_files(batches): # array of dfs\n",
    "    for idx, row in batches.iterrows():\n",
    "        copy_readme(row['repo_url1'])\n",
    "        copy_readme(row['repo_url2'])\n",
    "\n",
    "        \n",
    "\n",
    "        "
   ]
  },
  {
   "cell_type": "code",
   "execution_count": 33,
   "metadata": {},
   "outputs": [],
   "source": [
    "copy_readme_files(final)"
   ]
  },
  {
   "cell_type": "code",
   "execution_count": 30,
   "metadata": {},
   "outputs": [],
   "source": [
    "u1 = list(set(list(final['repo_url1'].values)))\n",
    "u1.extend(list(set(list(final['repo_url2'].values))))"
   ]
  },
  {
   "cell_type": "code",
   "execution_count": 31,
   "metadata": {},
   "outputs": [
    {
     "data": {
      "text/plain": [
       "143"
      ]
     },
     "execution_count": 31,
     "metadata": {},
     "output_type": "execute_result"
    }
   ],
   "source": [
    "len(list(set(u1)))"
   ]
  },
  {
   "cell_type": "code",
   "execution_count": 35,
   "metadata": {},
   "outputs": [
    {
     "data": {
      "text/plain": [
       "90"
      ]
     },
     "execution_count": 35,
     "metadata": {},
     "output_type": "execute_result"
    }
   ],
   "source": [
    "len(final)"
   ]
  },
  {
   "cell_type": "code",
   "execution_count": null,
   "metadata": {},
   "outputs": [],
   "source": []
  }
 ],
 "metadata": {
  "kernelspec": {
   "display_name": "Python 3",
   "language": "python",
   "name": "python3"
  },
  "language_info": {
   "codemirror_mode": {
    "name": "ipython",
    "version": 3
   },
   "file_extension": ".py",
   "mimetype": "text/x-python",
   "name": "python",
   "nbconvert_exporter": "python",
   "pygments_lexer": "ipython3",
   "version": "3.7.3"
  }
 },
 "nbformat": 4,
 "nbformat_minor": 4
}
