{
 "cells": [
  {
   "cell_type": "markdown",
   "metadata": {},
   "source": [
    "# Filter out non English content and Clean text from hyperlinks\n",
    "\n",
    "output:\n",
    " - *data/processed/final_repo_english_whatwhy.csv*\n",
    " \n",
    " \n",
    "## get the language of each text for heading and content"
   ]
  },
  {
   "cell_type": "code",
   "execution_count": 1,
   "metadata": {},
   "outputs": [],
   "source": [
    "import pandas as pd\n",
    "from langdetect import detect\n",
    "import langdetect\n",
    "import numpy as np"
   ]
  },
  {
   "cell_type": "code",
   "execution_count": 2,
   "metadata": {},
   "outputs": [],
   "source": [
    "file_path = '../../data/processed/repositories_with-readme_what-why-code_content.csv'\n"
   ]
  },
  {
   "cell_type": "code",
   "execution_count": 3,
   "metadata": {},
   "outputs": [],
   "source": [
    "df = pd.read_csv(file_path)"
   ]
  },
  {
   "cell_type": "code",
   "execution_count": 5,
   "metadata": {},
   "outputs": [
    {
     "data": {
      "text/plain": [
       "Index(['local_readme_file', 'file_id', 'section_id', 'url_readme',\n",
       "       'heading_markdown', 'abstracted_heading_markdown', 'heading_text',\n",
       "       'abstracted_heading_text', 'heading_level', 'section_code',\n",
       "       'content_text_w_o_tags', 'index', 'id', 'created_at', 'description',\n",
       "       'language', 'name', 'owner_id', 'readme_file_name', 'readme_name',\n",
       "       'readme_words_num', 'updated_at', 'url', 'watchers', 'repo_labels',\n",
       "       'all_languages', 'members_ids', 'members_number', 'topics',\n",
       "       'has_whatwhy'],\n",
       "      dtype='object')"
      ]
     },
     "execution_count": 5,
     "metadata": {},
     "output_type": "execute_result"
    }
   ],
   "source": [
    "df.columns"
   ]
  },
  {
   "cell_type": "code",
   "execution_count": 6,
   "metadata": {},
   "outputs": [],
   "source": [
    "#langs = [detect(x) for x in df['heading_text'].values.tolist() ]\n",
    "\n",
    "def get_natural_languages(df, col):\n",
    "    nls = []\n",
    "    errors = {'empty':0} \n",
    "    for x in df['heading_text'].values.tolist():\n",
    "        try:\n",
    "            if x is not None and (x.strip() != ''):\n",
    "                nls.append(detect(x))\n",
    "            else:\n",
    "                errors['empty'] += 1\n",
    "        except Exception as e:\n",
    "            errors[str(e)] = errors[str(e)]+1 if str(e) in errors.keys() else 1\n",
    "    counts = (pd.Series(nls)).value_counts()\n",
    "    counts = counts.sort_values()\n",
    "    return counts, errors\n",
    "#heading_txt_nl_counter, heading_txt_nl_errors = get_natural_languages(df, 'heading_text')\n",
    "#section_ctx_nl_counter, section_ctx_nl_errors = get_natural_languages(df, 'content_text_w_o_tags')\n",
    "\n"
   ]
  },
  {
   "cell_type": "code",
   "execution_count": 7,
   "metadata": {},
   "outputs": [],
   "source": [
    "\n",
    "def _get_lang(txt):\n",
    "    res = 'EMPTY'\n",
    "    try:\n",
    "        if txt is not None and (txt.strip() != ''):\n",
    "            res =detect(txt)\n",
    "    except Exception as e:\n",
    "         res = str(e).upper()\n",
    "    return res\n",
    "\n",
    "def add_nl(row):\n",
    "    row['heading_lang'] = _get_lang(row['heading_text'])\n",
    "    row['text_lang'] = _get_lang(row['content_text_w_o_tags'])\n",
    "    return row\n",
    "    "
   ]
  },
  {
   "cell_type": "code",
   "execution_count": 8,
   "metadata": {},
   "outputs": [],
   "source": [
    "df = df.apply(add_nl, axis=1)"
   ]
  },
  {
   "cell_type": "code",
   "execution_count": 9,
   "metadata": {},
   "outputs": [
    {
     "data": {
      "text/plain": [
       "16964"
      ]
     },
     "execution_count": 9,
     "metadata": {},
     "output_type": "execute_result"
    }
   ],
   "source": [
    "len(df[df['heading_lang'] == 'en'])"
   ]
  },
  {
   "cell_type": "code",
   "execution_count": 10,
   "metadata": {},
   "outputs": [
    {
     "data": {
      "text/plain": [
       "24993"
      ]
     },
     "execution_count": 10,
     "metadata": {},
     "output_type": "execute_result"
    }
   ],
   "source": [
    "len(df[df['text_lang'] == 'en'])"
   ]
  },
  {
   "cell_type": "code",
   "execution_count": 11,
   "metadata": {},
   "outputs": [
    {
     "data": {
      "text/plain": [
       "3939"
      ]
     },
     "execution_count": 11,
     "metadata": {},
     "output_type": "execute_result"
    }
   ],
   "source": [
    "len(df[df['text_lang'] != 'en'])"
   ]
  },
  {
   "cell_type": "code",
   "execution_count": 12,
   "metadata": {},
   "outputs": [
    {
     "data": {
      "text/plain": [
       "14588"
      ]
     },
     "execution_count": 12,
     "metadata": {},
     "output_type": "execute_result"
    }
   ],
   "source": [
    "len(df[(df['heading_lang'] == 'en') & (df['text_lang'] == 'en')])"
   ]
  },
  {
   "cell_type": "code",
   "execution_count": 13,
   "metadata": {},
   "outputs": [
    {
     "data": {
      "text/plain": [
       "<matplotlib.axes._subplots.AxesSubplot at 0x1e936bf1780>"
      ]
     },
     "execution_count": 13,
     "metadata": {},
     "output_type": "execute_result"
    },
    {
     "data": {
      "image/png": "[encoded data removed]",
      "text/plain": [
       "<Figure size 432x288 with 1 Axes>"
      ]
     },
     "metadata": {
      "needs_background": "light"
     },
     "output_type": "display_data"
    }
   ],
   "source": [
    "df['heading_lang'].value_counts().plot(kind='bar')\n"
   ]
  },
  {
   "cell_type": "code",
   "execution_count": 14,
   "metadata": {},
   "outputs": [
    {
     "data": {
      "text/plain": [
       "<matplotlib.axes._subplots.AxesSubplot at 0x1e9317899b0>"
      ]
     },
     "execution_count": 14,
     "metadata": {},
     "output_type": "execute_result"
    },
    {
     "data": {
      "image/png": "[encoded data removed]",
      "text/plain": [
       "<Figure size 432x288 with 1 Axes>"
      ]
     },
     "metadata": {
      "needs_background": "light"
     },
     "output_type": "display_data"
    }
   ],
   "source": [
    "df['text_lang'].value_counts().plot(kind='bar')\n"
   ]
  },
  {
   "cell_type": "code",
   "execution_count": 15,
   "metadata": {},
   "outputs": [],
   "source": [
    "en_df = df[df['text_lang'] == 'en']"
   ]
  },
  {
   "cell_type": "code",
   "execution_count": null,
   "metadata": {},
   "outputs": [],
   "source": [
    "#en_df.to_csv('../../data/processed/repository-sections_with-readme_what-why-code_content_en.csv')\n"
   ]
  },
  {
   "cell_type": "markdown",
   "metadata": {},
   "source": [
    "## Combining what why in one section"
   ]
  },
  {
   "cell_type": "code",
   "execution_count": 6,
   "metadata": {},
   "outputs": [],
   "source": [
    "\n",
    "\n",
    "#'../data/repositories_with-readme_what-why-code_content_en.csv'\n",
    "#repository-sections_with-readme_what-why-code_content_en.csv\n",
    "en_sec_df = pd.read_csv('../data/processed/repository-sections_with-readme_what-why-code_content_en.csv')"
   ]
  },
  {
   "cell_type": "code",
   "execution_count": 7,
   "metadata": {},
   "outputs": [
    {
     "data": {
      "text/plain": [
       "24988"
      ]
     },
     "execution_count": 7,
     "metadata": {},
     "output_type": "execute_result"
    }
   ],
   "source": [
    "len(en_sec_df['url'].unique())\n",
    "len(en_sec_df)"
   ]
  },
  {
   "cell_type": "code",
   "execution_count": 20,
   "metadata": {},
   "outputs": [
    {
     "data": {
      "text/plain": [
       "Index(['Unnamed: 0', 'local_readme_file', 'file_id', 'section_id',\n",
       "       'url_readme', 'heading_markdown', 'abstracted_heading_markdown',\n",
       "       'heading_text', 'abstracted_heading_text', 'heading_level',\n",
       "       'section_code', 'content_text_w_o_tags', 'index', 'id', 'created_at',\n",
       "       'description', 'language', 'name', 'owner_id', 'readme_file_name',\n",
       "       'readme_name', 'readme_words_num', 'updated_at', 'url', 'watchers',\n",
       "       'repo_labels', 'all_languages', 'members_ids', 'members_number',\n",
       "       'topics', 'has_whatwhy', 'heading_lang', 'text_lang'],\n",
       "      dtype='object')"
      ]
     },
     "execution_count": 20,
     "metadata": {},
     "output_type": "execute_result"
    }
   ],
   "source": [
    "en_sec_df.columns"
   ]
  },
  {
   "cell_type": "code",
   "execution_count": 21,
   "metadata": {},
   "outputs": [],
   "source": [
    "cols_per_repo = ['local_readme_file', 'file_id', 'url_readme','created_at',\n",
    "                 'language', 'name',  'owner_id', 'updated_at', 'url', 'watchers', \n",
    "                 'members_number', 'repo_labels', 'all_languages', 'topics', 'description',\n",
    "                 'members_ids'\n",
    "        ]\n",
    "# , repo_labels, all_languages, members_ids\n",
    "\n",
    "\n",
    "cols_to_combine = ['content_text_w_o_tags', 'section_id'  ]\n",
    "all_cols = cols_per_repo.copy()\n",
    "all_cols.extend(cols_to_combine)\n"
   ]
  },
  {
   "cell_type": "code",
   "execution_count": 22,
   "metadata": {},
   "outputs": [],
   "source": [
    "en_df =en_sec_df[all_cols].copy()\n",
    "en_df['content_text_w_o_tags'].fillna('', inplace=True)\n",
    "en_df['repo_labels'].fillna('', inplace=True)\n",
    "en_df['all_languages'].fillna('', inplace=True)\n",
    "en_df['topics'].fillna('', inplace=True)\n",
    "en_df['description'].fillna('', inplace=True)\n",
    "en_df['members_ids'].fillna('', inplace=True)\n"
   ]
  },
  {
   "cell_type": "code",
   "execution_count": 23,
   "metadata": {},
   "outputs": [],
   "source": [
    "english_repo_df = en_df.groupby(cols_per_repo, as_index = False).agg({'content_text_w_o_tags': '\\n'.join, 'section_id': list,\n",
    "                                                 \n",
    "                                                          })"
   ]
  },
  {
   "cell_type": "code",
   "execution_count": 24,
   "metadata": {},
   "outputs": [
    {
     "data": {
      "text/plain": [
       "13264"
      ]
     },
     "execution_count": 24,
     "metadata": {},
     "output_type": "execute_result"
    }
   ],
   "source": [
    "len(english_repo_df)"
   ]
  },
  {
   "cell_type": "code",
   "execution_count": 26,
   "metadata": {},
   "outputs": [
    {
     "data": {
      "text/plain": [
       "13264"
      ]
     },
     "execution_count": 26,
     "metadata": {},
     "output_type": "execute_result"
    }
   ],
   "source": [
    "len(english_repo_df.file_id.unique())"
   ]
  },
  {
   "cell_type": "code",
   "execution_count": 236,
   "metadata": {},
   "outputs": [],
   "source": [
    "#english_repo_df.to_csv('../data/processed/final_repo_english_whatwhy.csv', index=False)"
   ]
  },
  {
   "cell_type": "markdown",
   "metadata": {},
   "source": [
    "## Preprocessing"
   ]
  },
  {
   "cell_type": "code",
   "execution_count": 27,
   "metadata": {},
   "outputs": [],
   "source": [
    "import re\n",
    "#english_repo_df = pd.read_csv('../data/processed/final_repo_english_whatwhy.csv', index_col='file_id')\n",
    "english_repo_df['content_clean'] = english_repo_df['content_text_w_o_tags'].map(lambda x: re.sub(r'\\<(http|https)://(.*?)\\>', '', x))\n",
    "english_repo_df['content_clean'] = english_repo_df['content_clean'].map(lambda x: re.sub(r'(http|https)://(.*?)\\ ', '', x))\n",
    "english_repo_df['content_clean'] = english_repo_df['content_clean'].map(lambda x: x.lower())\n",
    "english_repo_df['content_clean'] = english_repo_df['content_clean'].map(lambda x: x.strip())"
   ]
  },
  {
   "cell_type": "code",
   "execution_count": 29,
   "metadata": {},
   "outputs": [],
   "source": [
    "# save\n",
    "english_repo_df.to_csv('../../data/processed/final_repo_english_whatwhy.csv', index=False)\n"
   ]
  },
  {
   "cell_type": "code",
   "execution_count": 4,
   "metadata": {},
   "outputs": [],
   "source": [
    "en_ = pd.read_csv('../../data/processed/final_repo_english_whatwhy.csv', index_col='file_id')\n",
    "#len(pd.read_csv('../data/processed/final_repo_english_whatwhy.csv', index_col='file_id'))"
   ]
  },
  {
   "cell_type": "code",
   "execution_count": 5,
   "metadata": {},
   "outputs": [
    {
     "data": {
      "text/html": [
       "<div>\n",
       "<style scoped>\n",
       "    .dataframe tbody tr th:only-of-type {\n",
       "        vertical-align: middle;\n",
       "    }\n",
       "\n",
       "    .dataframe tbody tr th {\n",
       "        vertical-align: top;\n",
       "    }\n",
       "\n",
       "    .dataframe thead th {\n",
       "        text-align: right;\n",
       "    }\n",
       "</style>\n",
       "<table border=\"1\" class=\"dataframe\">\n",
       "  <thead>\n",
       "    <tr style=\"text-align: right;\">\n",
       "      <th></th>\n",
       "      <th>local_readme_file</th>\n",
       "      <th>url_readme</th>\n",
       "      <th>created_at</th>\n",
       "      <th>language</th>\n",
       "      <th>name</th>\n",
       "      <th>owner_id</th>\n",
       "      <th>updated_at</th>\n",
       "      <th>url</th>\n",
       "      <th>watchers</th>\n",
       "      <th>members_number</th>\n",
       "      <th>repo_labels</th>\n",
       "      <th>all_languages</th>\n",
       "      <th>topics</th>\n",
       "      <th>description</th>\n",
       "      <th>members_ids</th>\n",
       "      <th>content_text_w_o_tags</th>\n",
       "      <th>section_id</th>\n",
       "      <th>content_clean</th>\n",
       "    </tr>\n",
       "    <tr>\n",
       "      <th>file_id</th>\n",
       "      <th></th>\n",
       "      <th></th>\n",
       "      <th></th>\n",
       "      <th></th>\n",
       "      <th></th>\n",
       "      <th></th>\n",
       "      <th></th>\n",
       "      <th></th>\n",
       "      <th></th>\n",
       "      <th></th>\n",
       "      <th></th>\n",
       "      <th></th>\n",
       "      <th></th>\n",
       "      <th></th>\n",
       "      <th></th>\n",
       "      <th></th>\n",
       "      <th></th>\n",
       "      <th></th>\n",
       "    </tr>\n",
       "  </thead>\n",
       "  <tbody>\n",
       "    <tr>\n",
       "      <th>3</th>\n",
       "      <td>00111000.Imports-in-Python.md</td>\n",
       "      <td>https://github.com/00111000/Imports-in-Python</td>\n",
       "      <td>2017-08-02 05:43:22</td>\n",
       "      <td>Python</td>\n",
       "      <td>Imports-in-Python</td>\n",
       "      <td>9595141</td>\n",
       "      <td>2019-04-26 04:28:08</td>\n",
       "      <td>https://api.github.com/repos/00111000/Imports-...</td>\n",
       "      <td>194</td>\n",
       "      <td>0</td>\n",
       "      <td>NaN</td>\n",
       "      <td>NaN</td>\n",
       "      <td>NaN</td>\n",
       "      <td>:snake: A guide on how importing works in Python.</td>\n",
       "      <td>NaN</td>\n",
       "      <td>Relative imports - specific location of the mo...</td>\n",
       "      <td>[6]</td>\n",
       "      <td>relative imports - specific location of the mo...</td>\n",
       "    </tr>\n",
       "    <tr>\n",
       "      <th>5</th>\n",
       "      <td>0101.pipetools.md</td>\n",
       "      <td>https://github.com/0101/pipetools</td>\n",
       "      <td>2012-09-25 18:42:03</td>\n",
       "      <td>Python</td>\n",
       "      <td>pipetools</td>\n",
       "      <td>411138</td>\n",
       "      <td>2019-05-22 09:32:08</td>\n",
       "      <td>https://api.github.com/repos/0101/pipetools</td>\n",
       "      <td>80</td>\n",
       "      <td>1</td>\n",
       "      <td>bug, duplicate, enhancement, invalid, question...</td>\n",
       "      <td>css, python</td>\n",
       "      <td>NaN</td>\n",
       "      <td>Functional plumbing for Python</td>\n",
       "      <td>411138</td>\n",
       "      <td>Complete documentation in full color &lt;http:// ...</td>\n",
       "      <td>[1, 2]</td>\n",
       "      <td>complete documentation in full color _.  .. im...</td>\n",
       "    </tr>\n",
       "    <tr>\n",
       "      <th>7</th>\n",
       "      <td>01org.CeTune.md</td>\n",
       "      <td>https://github.com/01org/CeTune</td>\n",
       "      <td>2015-02-12 02:57:45</td>\n",
       "      <td>Python</td>\n",
       "      <td>CeTune</td>\n",
       "      <td>16283</td>\n",
       "      <td>2019-04-25 15:56:19</td>\n",
       "      <td>https://api.github.com/repos/01org/CeTune</td>\n",
       "      <td>101</td>\n",
       "      <td>0</td>\n",
       "      <td>bug, enhancement, new feature</td>\n",
       "      <td>css, html, javascript, python, shell</td>\n",
       "      <td>NaN</td>\n",
       "      <td>NaN</td>\n",
       "      <td>NaN</td>\n",
       "      <td>CeTune is a toolkit/framework to deploy, benc...</td>\n",
       "      <td>[1, 9]</td>\n",
       "      <td>cetune is a toolkit/framework to deploy, bench...</td>\n",
       "    </tr>\n",
       "    <tr>\n",
       "      <th>8</th>\n",
       "      <td>01org.virtual-storage-manager.md</td>\n",
       "      <td>https://github.com/01org/virtual-storage-manager</td>\n",
       "      <td>2014-08-15 15:26:19</td>\n",
       "      <td>Python</td>\n",
       "      <td>virtual-storage-manager</td>\n",
       "      <td>16283</td>\n",
       "      <td>2019-02-17 20:40:28</td>\n",
       "      <td>https://api.github.com/repos/01org/virtual-sto...</td>\n",
       "      <td>172</td>\n",
       "      <td>12</td>\n",
       "      <td>bug, duplicate, enhancement, help wanted, inva...</td>\n",
       "      <td>css, erlang, html, javascript, makefile, pytho...</td>\n",
       "      <td>NaN</td>\n",
       "      <td>NaN</td>\n",
       "      <td>1860856, 4658018, 4673989, 5556435, 5983651, 5...</td>\n",
       "      <td>Travis CI: @abstr_hyperlink  @abstr_image  Vir...</td>\n",
       "      <td>[1]</td>\n",
       "      <td>travis ci: @abstr_hyperlink  @abstr_image  vir...</td>\n",
       "    </tr>\n",
       "    <tr>\n",
       "      <th>9</th>\n",
       "      <td>05bit.peewee-async.md</td>\n",
       "      <td>https://github.com/05bit/peewee-async</td>\n",
       "      <td>2014-09-27 22:15:28</td>\n",
       "      <td>Python</td>\n",
       "      <td>peewee-async</td>\n",
       "      <td>131314</td>\n",
       "      <td>2019-05-31 02:28:31</td>\n",
       "      <td>https://api.github.com/repos/05bit/peewee-async</td>\n",
       "      <td>526</td>\n",
       "      <td>0</td>\n",
       "      <td>bug, duplicate, enhancement, help wanted, inva...</td>\n",
       "      <td>python</td>\n",
       "      <td>NaN</td>\n",
       "      <td>Asynchronous interface for peewee ORM powered ...</td>\n",
       "      <td>NaN</td>\n",
       "      <td>Asynchronous interface for @abstr_hyperlink OR...</td>\n",
       "      <td>[1, 3]</td>\n",
       "      <td>asynchronous interface for @abstr_hyperlink or...</td>\n",
       "    </tr>\n",
       "    <tr>\n",
       "      <th>...</th>\n",
       "      <td>...</td>\n",
       "      <td>...</td>\n",
       "      <td>...</td>\n",
       "      <td>...</td>\n",
       "      <td>...</td>\n",
       "      <td>...</td>\n",
       "      <td>...</td>\n",
       "      <td>...</td>\n",
       "      <td>...</td>\n",
       "      <td>...</td>\n",
       "      <td>...</td>\n",
       "      <td>...</td>\n",
       "      <td>...</td>\n",
       "      <td>...</td>\n",
       "      <td>...</td>\n",
       "      <td>...</td>\n",
       "      <td>...</td>\n",
       "      <td>...</td>\n",
       "    </tr>\n",
       "    <tr>\n",
       "      <th>20581</th>\n",
       "      <td>zzh8829.yolov3-tf2.md</td>\n",
       "      <td>https://github.com/zzh8829/yolov3-tf2</td>\n",
       "      <td>2019-04-03 17:57:49</td>\n",
       "      <td>Python</td>\n",
       "      <td>yolov3-tf2</td>\n",
       "      <td>663221</td>\n",
       "      <td>2019-05-30 22:58:46</td>\n",
       "      <td>https://api.github.com/repos/zzh8829/yolov3-tf2</td>\n",
       "      <td>170</td>\n",
       "      <td>0</td>\n",
       "      <td>bug, duplicate, enhancement, good first issue,...</td>\n",
       "      <td>etag, python</td>\n",
       "      <td>NaN</td>\n",
       "      <td>YoloV3 Implemented in Tensorflow 2.0</td>\n",
       "      <td>NaN</td>\n",
       "      <td>[x] TensorFlow @abstr_number . @abstr_number ...</td>\n",
       "      <td>[2, 18]</td>\n",
       "      <td>[x] tensorflow @abstr_number . @abstr_number  ...</td>\n",
       "    </tr>\n",
       "    <tr>\n",
       "      <th>20585</th>\n",
       "      <td>zzw922cn.Automatic_Speech_Recognition.md</td>\n",
       "      <td>https://github.com/zzw922cn/Automatic_Speech_R...</td>\n",
       "      <td>2016-11-13 03:51:07</td>\n",
       "      <td>Python</td>\n",
       "      <td>Automatic_Speech_Recognition</td>\n",
       "      <td>8018789</td>\n",
       "      <td>2019-05-31 08:29:43</td>\n",
       "      <td>https://api.github.com/repos/zzw922cn/Automati...</td>\n",
       "      <td>2567</td>\n",
       "      <td>3</td>\n",
       "      <td>question, toWatch</td>\n",
       "      <td>NaN</td>\n",
       "      <td>NaN</td>\n",
       "      <td>End-to-end automatic speech recognition from s...</td>\n",
       "      <td>11907885, 30406942, 30684796</td>\n",
       "      <td>End-to-end automatic speech recognition system...</td>\n",
       "      <td>[1, 8, 12, 14]</td>\n",
       "      <td>end-to-end automatic speech recognition system...</td>\n",
       "    </tr>\n",
       "    <tr>\n",
       "      <th>20586</th>\n",
       "      <td>zzz24512653.CommunityDetection.md</td>\n",
       "      <td>https://github.com/zzz24512653/CommunityDetection</td>\n",
       "      <td>2015-03-22 15:00:23</td>\n",
       "      <td>Python</td>\n",
       "      <td>CommunityDetection</td>\n",
       "      <td>7483319</td>\n",
       "      <td>2019-05-29 02:43:39</td>\n",
       "      <td>https://api.github.com/repos/zzz24512653/Commu...</td>\n",
       "      <td>159</td>\n",
       "      <td>0</td>\n",
       "      <td>NaN</td>\n",
       "      <td>css, java, python, scala, xslt</td>\n",
       "      <td>NaN</td>\n",
       "      <td>Implements of community detection algorithms</td>\n",
       "      <td>NaN</td>\n",
       "      <td>@abstr_number . Community structure in social ...</td>\n",
       "      <td>[12]</td>\n",
       "      <td>@abstr_number . community structure in social ...</td>\n",
       "    </tr>\n",
       "    <tr>\n",
       "      <th>20588</th>\n",
       "      <td>zzzeek.mako.md</td>\n",
       "      <td>https://github.com/zzzeek/mako</td>\n",
       "      <td>2013-05-22 00:54:51</td>\n",
       "      <td>Python</td>\n",
       "      <td>mako</td>\n",
       "      <td>300186</td>\n",
       "      <td>2019-05-31 10:52:06</td>\n",
       "      <td>https://api.github.com/repos/zzzeek/mako</td>\n",
       "      <td>174</td>\n",
       "      <td>2</td>\n",
       "      <td>NaN</td>\n",
       "      <td>html, mako, python</td>\n",
       "      <td>NaN</td>\n",
       "      <td>Mirror of Mako Templates for Python</td>\n",
       "      <td>4680519, 47663343</td>\n",
       "      <td>=========================   Mako is a template...</td>\n",
       "      <td>[1, 3]</td>\n",
       "      <td>=========================   mako is a template...</td>\n",
       "    </tr>\n",
       "    <tr>\n",
       "      <th>20589</th>\n",
       "      <td>zzzeek.sqlalchemy.md</td>\n",
       "      <td>https://github.com/zzzeek/sqlalchemy</td>\n",
       "      <td>2013-05-25 20:05:42</td>\n",
       "      <td>Python</td>\n",
       "      <td>sqlalchemy</td>\n",
       "      <td>300186</td>\n",
       "      <td>2019-05-31 04:25:42</td>\n",
       "      <td>https://api.github.com/repos/zzzeek/sqlalchemy</td>\n",
       "      <td>3285</td>\n",
       "      <td>3</td>\n",
       "      <td>NaN</td>\n",
       "      <td>c, python</td>\n",
       "      <td>NaN</td>\n",
       "      <td>Mirror of SQLAlchemy</td>\n",
       "      <td>4659549, 4680519, 47663343</td>\n",
       "      <td>SQLAlchemy is the Python SQL toolkit and Objec...</td>\n",
       "      <td>[2]</td>\n",
       "      <td>sqlalchemy is the python sql toolkit and objec...</td>\n",
       "    </tr>\n",
       "  </tbody>\n",
       "</table>\n",
       "<p>13264 rows × 18 columns</p>\n",
       "</div>"
      ],
      "text/plain": [
       "                                local_readme_file  \\\n",
       "file_id                                             \n",
       "3                   00111000.Imports-in-Python.md   \n",
       "5                               0101.pipetools.md   \n",
       "7                                 01org.CeTune.md   \n",
       "8                01org.virtual-storage-manager.md   \n",
       "9                           05bit.peewee-async.md   \n",
       "...                                           ...   \n",
       "20581                       zzh8829.yolov3-tf2.md   \n",
       "20585    zzw922cn.Automatic_Speech_Recognition.md   \n",
       "20586           zzz24512653.CommunityDetection.md   \n",
       "20588                              zzzeek.mako.md   \n",
       "20589                        zzzeek.sqlalchemy.md   \n",
       "\n",
       "                                                url_readme  \\\n",
       "file_id                                                      \n",
       "3            https://github.com/00111000/Imports-in-Python   \n",
       "5                        https://github.com/0101/pipetools   \n",
       "7                          https://github.com/01org/CeTune   \n",
       "8         https://github.com/01org/virtual-storage-manager   \n",
       "9                    https://github.com/05bit/peewee-async   \n",
       "...                                                    ...   \n",
       "20581                https://github.com/zzh8829/yolov3-tf2   \n",
       "20585    https://github.com/zzw922cn/Automatic_Speech_R...   \n",
       "20586    https://github.com/zzz24512653/CommunityDetection   \n",
       "20588                       https://github.com/zzzeek/mako   \n",
       "20589                 https://github.com/zzzeek/sqlalchemy   \n",
       "\n",
       "                  created_at language                          name  owner_id  \\\n",
       "file_id                                                                         \n",
       "3        2017-08-02 05:43:22   Python             Imports-in-Python   9595141   \n",
       "5        2012-09-25 18:42:03   Python                     pipetools    411138   \n",
       "7        2015-02-12 02:57:45   Python                        CeTune     16283   \n",
       "8        2014-08-15 15:26:19   Python       virtual-storage-manager     16283   \n",
       "9        2014-09-27 22:15:28   Python                  peewee-async    131314   \n",
       "...                      ...      ...                           ...       ...   \n",
       "20581    2019-04-03 17:57:49   Python                    yolov3-tf2    663221   \n",
       "20585    2016-11-13 03:51:07   Python  Automatic_Speech_Recognition   8018789   \n",
       "20586    2015-03-22 15:00:23   Python            CommunityDetection   7483319   \n",
       "20588    2013-05-22 00:54:51   Python                          mako    300186   \n",
       "20589    2013-05-25 20:05:42   Python                    sqlalchemy    300186   \n",
       "\n",
       "                  updated_at  \\\n",
       "file_id                        \n",
       "3        2019-04-26 04:28:08   \n",
       "5        2019-05-22 09:32:08   \n",
       "7        2019-04-25 15:56:19   \n",
       "8        2019-02-17 20:40:28   \n",
       "9        2019-05-31 02:28:31   \n",
       "...                      ...   \n",
       "20581    2019-05-30 22:58:46   \n",
       "20585    2019-05-31 08:29:43   \n",
       "20586    2019-05-29 02:43:39   \n",
       "20588    2019-05-31 10:52:06   \n",
       "20589    2019-05-31 04:25:42   \n",
       "\n",
       "                                                       url  watchers  \\\n",
       "file_id                                                                \n",
       "3        https://api.github.com/repos/00111000/Imports-...       194   \n",
       "5              https://api.github.com/repos/0101/pipetools        80   \n",
       "7                https://api.github.com/repos/01org/CeTune       101   \n",
       "8        https://api.github.com/repos/01org/virtual-sto...       172   \n",
       "9          https://api.github.com/repos/05bit/peewee-async       526   \n",
       "...                                                    ...       ...   \n",
       "20581      https://api.github.com/repos/zzh8829/yolov3-tf2       170   \n",
       "20585    https://api.github.com/repos/zzw922cn/Automati...      2567   \n",
       "20586    https://api.github.com/repos/zzz24512653/Commu...       159   \n",
       "20588             https://api.github.com/repos/zzzeek/mako       174   \n",
       "20589       https://api.github.com/repos/zzzeek/sqlalchemy      3285   \n",
       "\n",
       "         members_number                                        repo_labels  \\\n",
       "file_id                                                                      \n",
       "3                     0                                                NaN   \n",
       "5                     1  bug, duplicate, enhancement, invalid, question...   \n",
       "7                     0                      bug, enhancement, new feature   \n",
       "8                    12  bug, duplicate, enhancement, help wanted, inva...   \n",
       "9                     0  bug, duplicate, enhancement, help wanted, inva...   \n",
       "...                 ...                                                ...   \n",
       "20581                 0  bug, duplicate, enhancement, good first issue,...   \n",
       "20585                 3                                  question, toWatch   \n",
       "20586                 0                                                NaN   \n",
       "20588                 2                                                NaN   \n",
       "20589                 3                                                NaN   \n",
       "\n",
       "                                             all_languages topics  \\\n",
       "file_id                                                             \n",
       "3                                                      NaN    NaN   \n",
       "5                                              css, python    NaN   \n",
       "7                     css, html, javascript, python, shell    NaN   \n",
       "8        css, erlang, html, javascript, makefile, pytho...    NaN   \n",
       "9                                                   python    NaN   \n",
       "...                                                    ...    ...   \n",
       "20581                                         etag, python    NaN   \n",
       "20585                                                  NaN    NaN   \n",
       "20586                       css, java, python, scala, xslt    NaN   \n",
       "20588                                   html, mako, python    NaN   \n",
       "20589                                            c, python    NaN   \n",
       "\n",
       "                                               description  \\\n",
       "file_id                                                      \n",
       "3        :snake: A guide on how importing works in Python.   \n",
       "5                           Functional plumbing for Python   \n",
       "7                                                      NaN   \n",
       "8                                                      NaN   \n",
       "9        Asynchronous interface for peewee ORM powered ...   \n",
       "...                                                    ...   \n",
       "20581                 YoloV3 Implemented in Tensorflow 2.0   \n",
       "20585    End-to-end automatic speech recognition from s...   \n",
       "20586         Implements of community detection algorithms   \n",
       "20588                  Mirror of Mako Templates for Python   \n",
       "20589                                 Mirror of SQLAlchemy   \n",
       "\n",
       "                                               members_ids  \\\n",
       "file_id                                                      \n",
       "3                                                      NaN   \n",
       "5                                                   411138   \n",
       "7                                                      NaN   \n",
       "8        1860856, 4658018, 4673989, 5556435, 5983651, 5...   \n",
       "9                                                      NaN   \n",
       "...                                                    ...   \n",
       "20581                                                  NaN   \n",
       "20585                         11907885, 30406942, 30684796   \n",
       "20586                                                  NaN   \n",
       "20588                                    4680519, 47663343   \n",
       "20589                           4659549, 4680519, 47663343   \n",
       "\n",
       "                                     content_text_w_o_tags      section_id  \\\n",
       "file_id                                                                      \n",
       "3        Relative imports - specific location of the mo...             [6]   \n",
       "5        Complete documentation in full color <http:// ...          [1, 2]   \n",
       "7         CeTune is a toolkit/framework to deploy, benc...          [1, 9]   \n",
       "8        Travis CI: @abstr_hyperlink  @abstr_image  Vir...             [1]   \n",
       "9        Asynchronous interface for @abstr_hyperlink OR...          [1, 3]   \n",
       "...                                                    ...             ...   \n",
       "20581     [x] TensorFlow @abstr_number . @abstr_number ...         [2, 18]   \n",
       "20585    End-to-end automatic speech recognition system...  [1, 8, 12, 14]   \n",
       "20586    @abstr_number . Community structure in social ...            [12]   \n",
       "20588    =========================   Mako is a template...          [1, 3]   \n",
       "20589    SQLAlchemy is the Python SQL toolkit and Objec...             [2]   \n",
       "\n",
       "                                             content_clean  \n",
       "file_id                                                     \n",
       "3        relative imports - specific location of the mo...  \n",
       "5        complete documentation in full color _.  .. im...  \n",
       "7        cetune is a toolkit/framework to deploy, bench...  \n",
       "8        travis ci: @abstr_hyperlink  @abstr_image  vir...  \n",
       "9        asynchronous interface for @abstr_hyperlink or...  \n",
       "...                                                    ...  \n",
       "20581    [x] tensorflow @abstr_number . @abstr_number  ...  \n",
       "20585    end-to-end automatic speech recognition system...  \n",
       "20586    @abstr_number . community structure in social ...  \n",
       "20588    =========================   mako is a template...  \n",
       "20589    sqlalchemy is the python sql toolkit and objec...  \n",
       "\n",
       "[13264 rows x 18 columns]"
      ]
     },
     "execution_count": 5,
     "metadata": {},
     "output_type": "execute_result"
    }
   ],
   "source": [
    "en_"
   ]
  }
 ],
 "metadata": {
  "kernelspec": {
   "display_name": "Python 3",
   "language": "python",
   "name": "python3"
  },
  "language_info": {
   "codemirror_mode": {
    "name": "ipython",
    "version": 3
   },
   "file_extension": ".py",
   "mimetype": "text/x-python",
   "name": "python",
   "nbconvert_exporter": "python",
   "pygments_lexer": "ipython3",
   "version": "3.7.3"
  }
 },
 "nbformat": 4,
 "nbformat_minor": 4
}
