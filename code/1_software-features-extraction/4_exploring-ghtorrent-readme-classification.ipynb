{
 "cells": [
  {
   "cell_type": "markdown",
   "metadata": {},
   "source": [
    "# Processing classifications from [READMECLassifier](https://github.com/gprana/READMEClassifier)\n",
    "we used the readme classifier project to label each readme file section. We followed the instruction stated in the readme file (under Use Case 3: Training Model on Existing Data and Classifying New Files (More Detailed Breakdown)).\n",
    "\n",
    "The result of the classification is saved under - here we use the repositories' readme files in *data/processed/repositories_with-readme.csv* :\n",
    "    \n",
    "  - section code *data/ghtorrent_readme_classifications/ghtorrent_section_codes.csv*\n",
    "  - *data/ghtorrent_readme_classifications/ghtorrent_file_codes.csv*\n",
    "    \n",
    "    \n",
    "out:\n",
    "\n",
    " - csv file of repos containing WhatWhy sections: *data/processed/repositories_with-readme_what-why-code.csv*\n",
    " - statistics about headlines in readme files: *data/readme_files_stats/{}.csv*"
   ]
  },
  {
   "cell_type": "code",
   "execution_count": 1,
   "metadata": {},
   "outputs": [],
   "source": [
    "import pandas as pd\n",
    "import numpy as np\n",
    "import matplotlib.pyplot as plt"
   ]
  },
  {
   "cell_type": "code",
   "execution_count": 5,
   "metadata": {},
   "outputs": [],
   "source": [
    "readme_section_classifications_path = '../../data/ghtorrent_readme_classifications/ghtorrent_section_codes.csv'\n",
    "readme_file_classifications_path = '../../data/ghtorrent_readme_classifications/ghtorrent_file_codes.csv'\n",
    "dataset_path = '../../data/processed/repositories_with-readme.csv'\n",
    "out_data = '../../data/readme_files_stats/{}.csv'\n",
    "\n",
    "mapping = {1: 'WhatWhy', 3: 'How', 4:'When', 5:'Who', 6:'References',7:'Contribution',8:'Other'}\n",
    "codes = list(mapping.values())\n"
   ]
  },
  {
   "cell_type": "markdown",
   "metadata": {},
   "source": [
    "### Load dataset from *data/processed/repositories_with-readme.csv*"
   ]
  },
  {
   "cell_type": "code",
   "execution_count": 6,
   "metadata": {},
   "outputs": [],
   "source": [
    "dataset_df = pd.read_csv(dataset_path)"
   ]
  },
  {
   "cell_type": "markdown",
   "metadata": {},
   "source": [
    "### Load readme classsification"
   ]
  },
  {
   "cell_type": "code",
   "execution_count": 7,
   "metadata": {},
   "outputs": [],
   "source": [
    "readme_section_classifications_df = pd.read_csv(readme_section_classifications_path, encoding='utf-8')"
   ]
  },
  {
   "cell_type": "code",
   "execution_count": 10,
   "metadata": {},
   "outputs": [
    {
     "data": {
      "text/html": [
       "<div>\n",
       "<style scoped>\n",
       "    .dataframe tbody tr th:only-of-type {\n",
       "        vertical-align: middle;\n",
       "    }\n",
       "\n",
       "    .dataframe tbody tr th {\n",
       "        vertical-align: top;\n",
       "    }\n",
       "\n",
       "    .dataframe thead th {\n",
       "        text-align: right;\n",
       "    }\n",
       "</style>\n",
       "<table border=\"1\" class=\"dataframe\">\n",
       "  <thead>\n",
       "    <tr style=\"text-align: right;\">\n",
       "      <th></th>\n",
       "      <th>heading_markdown</th>\n",
       "    </tr>\n",
       "  </thead>\n",
       "  <tbody>\n",
       "    <tr>\n",
       "      <th>##</th>\n",
       "      <td>4066</td>\n",
       "    </tr>\n",
       "    <tr>\n",
       "      <th>## Installation</th>\n",
       "      <td>3454</td>\n",
       "    </tr>\n",
       "    <tr>\n",
       "      <th>## Usage</th>\n",
       "      <td>2546</td>\n",
       "    </tr>\n",
       "    <tr>\n",
       "      <th>## License</th>\n",
       "      <td>2228</td>\n",
       "    </tr>\n",
       "    <tr>\n",
       "      <th>#</th>\n",
       "      <td>1485</td>\n",
       "    </tr>\n",
       "  </tbody>\n",
       "</table>\n",
       "</div>"
      ],
      "text/plain": [
       "                 heading_markdown\n",
       "##                           4066\n",
       "## Installation              3454\n",
       "## Usage                     2546\n",
       "## License                   2228\n",
       "#                            1485"
      ]
     },
     "execution_count": 10,
     "metadata": {},
     "output_type": "execute_result"
    }
   ],
   "source": [
    "headings_counts_df = get_headings_counts(readme_section_classifications_df, 'headings_value_counts')\n",
    "headings_counts_df.head()"
   ]
  },
  {
   "cell_type": "markdown",
   "metadata": {},
   "source": [
    "### Extract section codes "
   ]
  },
  {
   "cell_type": "code",
   "execution_count": 11,
   "metadata": {},
   "outputs": [],
   "source": [
    "def extract_section_codes(row):\n",
    "    mapping = {1: 'WhatWhy', 3: 'How', 4:'When', 5:'Who', 6:'References',7:'Contribution',8:'Other'}\n",
    "    codes = str(row['section_code']).strip()\n",
    "\n",
    "    for c in codes.split(','):\n",
    "\n",
    "        if c.isdigit() and c != 'nan':\n",
    "            row[mapping[int(c)]] = 1\n",
    "    return row"
   ]
  },
  {
   "cell_type": "code",
   "execution_count": 12,
   "metadata": {},
   "outputs": [],
   "source": [
    "readme_section_classifications_df = readme_section_classifications_df.apply(extract_section_codes, axis=1)\n"
   ]
  },
  {
   "cell_type": "markdown",
   "metadata": {},
   "source": [
    "### Get only WhatWhy codes"
   ]
  },
  {
   "cell_type": "code",
   "execution_count": 13,
   "metadata": {},
   "outputs": [],
   "source": [
    "readme_whatwhy_df = readme_section_classifications_df[ readme_section_classifications_df['WhatWhy'] == 1]\n",
    "\n"
   ]
  },
  {
   "cell_type": "code",
   "execution_count": 16,
   "metadata": {},
   "outputs": [
    {
     "data": {
      "text/html": [
       "<div>\n",
       "<style scoped>\n",
       "    .dataframe tbody tr th:only-of-type {\n",
       "        vertical-align: middle;\n",
       "    }\n",
       "\n",
       "    .dataframe tbody tr th {\n",
       "        vertical-align: top;\n",
       "    }\n",
       "\n",
       "    .dataframe thead th {\n",
       "        text-align: right;\n",
       "    }\n",
       "</style>\n",
       "<table border=\"1\" class=\"dataframe\">\n",
       "  <thead>\n",
       "    <tr style=\"text-align: right;\">\n",
       "      <th></th>\n",
       "      <th>heading_markdown</th>\n",
       "    </tr>\n",
       "  </thead>\n",
       "  <tbody>\n",
       "    <tr>\n",
       "      <th>## Features</th>\n",
       "      <td>946</td>\n",
       "    </tr>\n",
       "    <tr>\n",
       "      <th>## Introduction</th>\n",
       "      <td>457</td>\n",
       "    </tr>\n",
       "    <tr>\n",
       "      <th>## Overview</th>\n",
       "      <td>434</td>\n",
       "    </tr>\n",
       "    <tr>\n",
       "      <th># Features</th>\n",
       "      <td>245</td>\n",
       "    </tr>\n",
       "    <tr>\n",
       "      <th>## About</th>\n",
       "      <td>216</td>\n",
       "    </tr>\n",
       "  </tbody>\n",
       "</table>\n",
       "</div>"
      ],
      "text/plain": [
       "                 heading_markdown\n",
       "## Features                   946\n",
       "## Introduction               457\n",
       "## Overview                   434\n",
       "# Features                    245\n",
       "## About                      216"
      ]
     },
     "execution_count": 16,
     "metadata": {},
     "output_type": "execute_result"
    }
   ],
   "source": [
    "whatwhy_headings_counts_df = get_headings_counts(readme_whatwhy_df, 'headings_whatwhy_value_counts')\n",
    "whatwhy_headings_counts_df.head()"
   ]
  },
  {
   "cell_type": "markdown",
   "metadata": {},
   "source": [
    "### general overview of readme codes"
   ]
  },
  {
   "cell_type": "code",
   "execution_count": 17,
   "metadata": {},
   "outputs": [],
   "source": [
    "def get_general_stats(df, desc):\n",
    "    \n",
    "    print()\n",
    "    print(desc)\n",
    "    print()\n",
    "    print('unique headings: ', len(df['heading_markdown'].unique()), \n",
    "          ' with total of ', len(df), ' headings.')\n",
    "    \n",
    "    print('found headings in ', len(df['local_readme_file'].unique()), \n",
    "          ' readme files out of ', len(dataset_df), '.')\n",
    "    \n",
    "def get_headings_counts(df, filename=None):  \n",
    "    heading_md_vc = df['heading_markdown'].value_counts().to_frame()\n",
    "    if filename is not None:\n",
    "        heading_md_vc.reset_index().to_csv(out_data.format(filename))\n",
    "    return heading_md_vc\n",
    "    \n",
    "def get_dstr(df):\n",
    "    codes_num = []\n",
    "    files_num = []\n",
    "    print('total number of sections in ', len(df['file_id'].unique()), ' repositories: ', len(df))\n",
    "    for code in codes:\n",
    "        code_df = df[ df[code] == 1]\n",
    "        codes_num.append(len(code_df))\n",
    "        files_num.append((len(code_df['file_id'].unique())))\n",
    "        print(code, ': ', len(code_df), 'in ', len(code_df['file_id'].unique()), 'files')\n",
    "    return codes_num, files_num\n",
    "    \n",
    "\n",
    "def plot_bar_x(label, vals, title):\n",
    "    # this is for plotting purpose\n",
    "    index = np.arange(len(label))\n",
    "    plt.bar(index, vals)\n",
    "    plt.xlabel('Code', fontsize=14)\n",
    "    plt.ylabel('Occurrence', fontsize=14)\n",
    "    plt.xticks(index, label, fontsize=14, rotation=30)\n",
    "    plt.title(title)\n",
    "    plt.show()"
   ]
  },
  {
   "cell_type": "code",
   "execution_count": 18,
   "metadata": {},
   "outputs": [
    {
     "name": "stdout",
     "output_type": "stream",
     "text": [
      "\n",
      "ALL\n",
      "\n",
      "unique headings:  100855  with total of  169521  headings.\n",
      "found headings in  19797  readme files out of  20590 .\n",
      "\n",
      "WHATWHY\n",
      "\n",
      "unique headings:  21701  with total of  28932  headings.\n",
      "found headings in  14065  readme files out of  20590 .\n"
     ]
    }
   ],
   "source": [
    "get_general_stats(readme_section_classifications_df, 'ALL')\n",
    "get_general_stats(readme_whatwhy_df, 'WHATWHY')\n",
    "\n"
   ]
  },
  {
   "cell_type": "code",
   "execution_count": 19,
   "metadata": {},
   "outputs": [
    {
     "name": "stdout",
     "output_type": "stream",
     "text": [
      "DISTRIBUTION OF ALL SECTIONS IN README\n",
      "++++++++++++++++++++++++++++++++++++++\n",
      "total number of sections in  19797  repositories:  169521\n",
      "WhatWhy :  28932 in  14065 files\n",
      "How :  88662 in  16968 files\n",
      "When :  8929 in  4980 files\n",
      "Who :  9894 in  7127 files\n",
      "References :  27206 in  12365 files\n",
      "Contribution :  3067 in  2803 files\n",
      "Other :  901 in  729 files\n"
     ]
    },
    {
     "data": {
      "image/png": "[encoded data removed]",
      "text/plain": [
       "<Figure size 432x288 with 1 Axes>"
      ]
     },
     "metadata": {
      "needs_background": "light"
     },
     "output_type": "display_data"
    },
    {
     "data": {
      "image/png": "[encoded data removed]",
      "text/plain": [
       "<Figure size 432x288 with 1 Axes>"
      ]
     },
     "metadata": {
      "needs_background": "light"
     },
     "output_type": "display_data"
    }
   ],
   "source": [
    "print('DISTRIBUTION OF ALL SECTIONS IN README')\n",
    "print('++++++++++++++++++++++++++++++++++++++')\n",
    "codes_num, files_num = get_dstr(readme_section_classifications_df)\n",
    "\n",
    "plot_bar_x(codes, codes_num, 'Distribution of Readme sections categories')\n",
    "plot_bar_x(codes, files_num, 'Distribution of codes in the data')"
   ]
  },
  {
   "cell_type": "code",
   "execution_count": 20,
   "metadata": {},
   "outputs": [
    {
     "name": "stdout",
     "output_type": "stream",
     "text": [
      "DISTRIBUTION OF ALL WHATWHY IN README\n",
      "++++++++++++++++++++++++++++++++++++++\n",
      "total number of sections in  14065  repositories:  28932\n",
      "WhatWhy :  28932 in  14065 files\n",
      "How :  6044 in  4488 files\n",
      "When :  663 in  602 files\n",
      "Who :  612 in  576 files\n",
      "References :  5758 in  4457 files\n",
      "Contribution :  32 in  32 files\n",
      "Other :  59 in  52 files\n"
     ]
    },
    {
     "data": {
      "image/png": "[encoded data removed]",
      "text/plain": [
       "<Figure size 432x288 with 1 Axes>"
      ]
     },
     "metadata": {
      "needs_background": "light"
     },
     "output_type": "display_data"
    },
    {
     "data": {
      "image/png": "[encoded data removed]",
      "text/plain": [
       "<Figure size 432x288 with 1 Axes>"
      ]
     },
     "metadata": {
      "needs_background": "light"
     },
     "output_type": "display_data"
    }
   ],
   "source": [
    "print('DISTRIBUTION OF ALL WHATWHY IN README')\n",
    "print('++++++++++++++++++++++++++++++++++++++')\n",
    "codes_num, files_num = get_dstr(readme_whatwhy_df)\n",
    "\n",
    "plot_bar_x(codes, codes_num, 'Distribution of Readme sections categories')\n",
    "plot_bar_x(codes, files_num, 'Distribution of codes in the data')"
   ]
  },
  {
   "cell_type": "code",
   "execution_count": 21,
   "metadata": {},
   "outputs": [],
   "source": [
    "# readme_whatwhy_df[codes].sum().plot(kind='bar', title='Other *codes* for sections classified as What/Why', rot=45)\n",
    "# readme_section_classifications_df[codes].sum().plot(kind='bar', title='codes for sections ', rot=45)"
   ]
  },
  {
   "cell_type": "code",
   "execution_count": 22,
   "metadata": {},
   "outputs": [
    {
     "data": {
      "text/html": [
       "<div>\n",
       "<style scoped>\n",
       "    .dataframe tbody tr th:only-of-type {\n",
       "        vertical-align: middle;\n",
       "    }\n",
       "\n",
       "    .dataframe tbody tr th {\n",
       "        vertical-align: top;\n",
       "    }\n",
       "\n",
       "    .dataframe thead th {\n",
       "        text-align: right;\n",
       "    }\n",
       "</style>\n",
       "<table border=\"1\" class=\"dataframe\">\n",
       "  <thead>\n",
       "    <tr style=\"text-align: right;\">\n",
       "      <th></th>\n",
       "      <th>Contribution</th>\n",
       "      <th>How</th>\n",
       "      <th>Other</th>\n",
       "      <th>References</th>\n",
       "      <th>WhatWhy</th>\n",
       "      <th>When</th>\n",
       "      <th>Who</th>\n",
       "      <th>file_id</th>\n",
       "      <th>heading_markdown</th>\n",
       "      <th>local_readme_file</th>\n",
       "      <th>section_code</th>\n",
       "      <th>section_id</th>\n",
       "    </tr>\n",
       "  </thead>\n",
       "  <tbody>\n",
       "    <tr>\n",
       "      <th>4</th>\n",
       "      <td>NaN</td>\n",
       "      <td>NaN</td>\n",
       "      <td>NaN</td>\n",
       "      <td>NaN</td>\n",
       "      <td>1.0</td>\n",
       "      <td>NaN</td>\n",
       "      <td>NaN</td>\n",
       "      <td>3</td>\n",
       "      <td># Imports in Python</td>\n",
       "      <td>00111000.Imports-in-Python.md</td>\n",
       "      <td>1</td>\n",
       "      <td>1</td>\n",
       "    </tr>\n",
       "    <tr>\n",
       "      <th>9</th>\n",
       "      <td>NaN</td>\n",
       "      <td>NaN</td>\n",
       "      <td>NaN</td>\n",
       "      <td>NaN</td>\n",
       "      <td>1.0</td>\n",
       "      <td>NaN</td>\n",
       "      <td>NaN</td>\n",
       "      <td>3</td>\n",
       "      <td>### Relative vs. Absolute Imports</td>\n",
       "      <td>00111000.Imports-in-Python.md</td>\n",
       "      <td>-,1</td>\n",
       "      <td>6</td>\n",
       "    </tr>\n",
       "    <tr>\n",
       "      <th>33</th>\n",
       "      <td>NaN</td>\n",
       "      <td>NaN</td>\n",
       "      <td>NaN</td>\n",
       "      <td>1.0</td>\n",
       "      <td>1.0</td>\n",
       "      <td>NaN</td>\n",
       "      <td>NaN</td>\n",
       "      <td>5</td>\n",
       "      <td># Pipetools</td>\n",
       "      <td>0101.pipetools.md</td>\n",
       "      <td>1,6</td>\n",
       "      <td>1</td>\n",
       "    </tr>\n",
       "    <tr>\n",
       "      <th>34</th>\n",
       "      <td>NaN</td>\n",
       "      <td>NaN</td>\n",
       "      <td>NaN</td>\n",
       "      <td>NaN</td>\n",
       "      <td>1.0</td>\n",
       "      <td>NaN</td>\n",
       "      <td>NaN</td>\n",
       "      <td>5</td>\n",
       "      <td>## Why?</td>\n",
       "      <td>0101.pipetools.md</td>\n",
       "      <td>1</td>\n",
       "      <td>2</td>\n",
       "    </tr>\n",
       "    <tr>\n",
       "      <th>43</th>\n",
       "      <td>NaN</td>\n",
       "      <td>NaN</td>\n",
       "      <td>NaN</td>\n",
       "      <td>NaN</td>\n",
       "      <td>1.0</td>\n",
       "      <td>NaN</td>\n",
       "      <td>NaN</td>\n",
       "      <td>7</td>\n",
       "      <td>#### Functionality Description</td>\n",
       "      <td>01org.CeTune.md</td>\n",
       "      <td>1</td>\n",
       "      <td>1</td>\n",
       "    </tr>\n",
       "  </tbody>\n",
       "</table>\n",
       "</div>"
      ],
      "text/plain": [
       "    Contribution  How  Other  References  WhatWhy  When  Who  file_id  \\\n",
       "4            NaN  NaN    NaN         NaN      1.0   NaN  NaN        3   \n",
       "9            NaN  NaN    NaN         NaN      1.0   NaN  NaN        3   \n",
       "33           NaN  NaN    NaN         1.0      1.0   NaN  NaN        5   \n",
       "34           NaN  NaN    NaN         NaN      1.0   NaN  NaN        5   \n",
       "43           NaN  NaN    NaN         NaN      1.0   NaN  NaN        7   \n",
       "\n",
       "                     heading_markdown              local_readme_file  \\\n",
       "4                 # Imports in Python  00111000.Imports-in-Python.md   \n",
       "9   ### Relative vs. Absolute Imports  00111000.Imports-in-Python.md   \n",
       "33                        # Pipetools              0101.pipetools.md   \n",
       "34                            ## Why?              0101.pipetools.md   \n",
       "43     #### Functionality Description                01org.CeTune.md   \n",
       "\n",
       "   section_code  section_id  \n",
       "4             1           1  \n",
       "9           -,1           6  \n",
       "33          1,6           1  \n",
       "34            1           2  \n",
       "43            1           1  "
      ]
     },
     "execution_count": 22,
     "metadata": {},
     "output_type": "execute_result"
    }
   ],
   "source": [
    "##\n",
    "readme_whatwhy_df.head()"
   ]
  },
  {
   "cell_type": "code",
   "execution_count": 23,
   "metadata": {},
   "outputs": [
    {
     "data": {
      "text/html": [
       "<div>\n",
       "<style scoped>\n",
       "    .dataframe tbody tr th:only-of-type {\n",
       "        vertical-align: middle;\n",
       "    }\n",
       "\n",
       "    .dataframe tbody tr th {\n",
       "        vertical-align: top;\n",
       "    }\n",
       "\n",
       "    .dataframe thead th {\n",
       "        text-align: right;\n",
       "    }\n",
       "</style>\n",
       "<table border=\"1\" class=\"dataframe\">\n",
       "  <thead>\n",
       "    <tr style=\"text-align: right;\">\n",
       "      <th></th>\n",
       "      <th>id</th>\n",
       "      <th>created_at</th>\n",
       "      <th>description</th>\n",
       "      <th>language</th>\n",
       "      <th>name</th>\n",
       "      <th>owner_id</th>\n",
       "      <th>readme_file_name</th>\n",
       "      <th>readme_name</th>\n",
       "      <th>readme_words_num</th>\n",
       "      <th>updated_at</th>\n",
       "      <th>url</th>\n",
       "      <th>watchers</th>\n",
       "      <th>repo_labels</th>\n",
       "      <th>all_languages</th>\n",
       "      <th>members_ids</th>\n",
       "      <th>members_number</th>\n",
       "      <th>topics</th>\n",
       "    </tr>\n",
       "  </thead>\n",
       "  <tbody>\n",
       "    <tr>\n",
       "      <th>0</th>\n",
       "      <td>58952</td>\n",
       "      <td>2011-01-08 14:28:13</td>\n",
       "      <td>Small and simple gravatar usage in Flask.</td>\n",
       "      <td>Python</td>\n",
       "      <td>Flask-Gravatar</td>\n",
       "      <td>144927</td>\n",
       "      <td>zzzsochi.Flask-Gravatar</td>\n",
       "      <td>NaN</td>\n",
       "      <td>300.0</td>\n",
       "      <td>2019-03-09 15:56:32</td>\n",
       "      <td>https://api.github.com/repos/zzzsochi/Flask-Gr...</td>\n",
       "      <td>75</td>\n",
       "      <td>NaN</td>\n",
       "      <td>python, shell</td>\n",
       "      <td>621452</td>\n",
       "      <td>1</td>\n",
       "      <td>NaN</td>\n",
       "    </tr>\n",
       "    <tr>\n",
       "      <th>1</th>\n",
       "      <td>3844721</td>\n",
       "      <td>2013-05-25 20:05:42</td>\n",
       "      <td>Mirror of SQLAlchemy</td>\n",
       "      <td>Python</td>\n",
       "      <td>sqlalchemy</td>\n",
       "      <td>300186</td>\n",
       "      <td>zzzeek.sqlalchemy</td>\n",
       "      <td>NaN</td>\n",
       "      <td>770.0</td>\n",
       "      <td>2019-05-31 04:25:42</td>\n",
       "      <td>https://api.github.com/repos/zzzeek/sqlalchemy</td>\n",
       "      <td>3285</td>\n",
       "      <td>NaN</td>\n",
       "      <td>c, python</td>\n",
       "      <td>4659549, 4680519, 47663343</td>\n",
       "      <td>3</td>\n",
       "      <td>NaN</td>\n",
       "    </tr>\n",
       "    <tr>\n",
       "      <th>2</th>\n",
       "      <td>3782043</td>\n",
       "      <td>2013-05-22 00:54:51</td>\n",
       "      <td>Mirror of Mako Templates for Python</td>\n",
       "      <td>Python</td>\n",
       "      <td>mako</td>\n",
       "      <td>300186</td>\n",
       "      <td>zzzeek.mako</td>\n",
       "      <td>NaN</td>\n",
       "      <td>257.0</td>\n",
       "      <td>2019-05-31 10:52:06</td>\n",
       "      <td>https://api.github.com/repos/zzzeek/mako</td>\n",
       "      <td>174</td>\n",
       "      <td>NaN</td>\n",
       "      <td>html, mako, python</td>\n",
       "      <td>4680519, 47663343</td>\n",
       "      <td>2</td>\n",
       "      <td>NaN</td>\n",
       "    </tr>\n",
       "    <tr>\n",
       "      <th>3</th>\n",
       "      <td>3834946</td>\n",
       "      <td>2013-05-22 21:37:41</td>\n",
       "      <td>Github mirror of Alembic</td>\n",
       "      <td>Python</td>\n",
       "      <td>alembic</td>\n",
       "      <td>300186</td>\n",
       "      <td>zzzeek.alembic</td>\n",
       "      <td>NaN</td>\n",
       "      <td>799.0</td>\n",
       "      <td>2019-05-31 13:37:38</td>\n",
       "      <td>https://api.github.com/repos/zzzeek/alembic</td>\n",
       "      <td>431</td>\n",
       "      <td>NaN</td>\n",
       "      <td>mako, python</td>\n",
       "      <td>4680519, 47663343</td>\n",
       "      <td>2</td>\n",
       "      <td>NaN</td>\n",
       "    </tr>\n",
       "    <tr>\n",
       "      <th>4</th>\n",
       "      <td>17809005</td>\n",
       "      <td>2015-03-22 15:00:23</td>\n",
       "      <td>Implements of community detection algorithms</td>\n",
       "      <td>Python</td>\n",
       "      <td>CommunityDetection</td>\n",
       "      <td>7483319</td>\n",
       "      <td>zzz24512653.CommunityDetection</td>\n",
       "      <td>NaN</td>\n",
       "      <td>117.0</td>\n",
       "      <td>2019-05-29 02:43:39</td>\n",
       "      <td>https://api.github.com/repos/zzz24512653/Commu...</td>\n",
       "      <td>159</td>\n",
       "      <td>NaN</td>\n",
       "      <td>css, java, python, scala, xslt</td>\n",
       "      <td>NaN</td>\n",
       "      <td>0</td>\n",
       "      <td>NaN</td>\n",
       "    </tr>\n",
       "  </tbody>\n",
       "</table>\n",
       "</div>"
      ],
      "text/plain": [
       "         id           created_at  \\\n",
       "0     58952  2011-01-08 14:28:13   \n",
       "1   3844721  2013-05-25 20:05:42   \n",
       "2   3782043  2013-05-22 00:54:51   \n",
       "3   3834946  2013-05-22 21:37:41   \n",
       "4  17809005  2015-03-22 15:00:23   \n",
       "\n",
       "                                    description language                name  \\\n",
       "0     Small and simple gravatar usage in Flask.   Python      Flask-Gravatar   \n",
       "1                          Mirror of SQLAlchemy   Python          sqlalchemy   \n",
       "2           Mirror of Mako Templates for Python   Python                mako   \n",
       "3                      Github mirror of Alembic   Python             alembic   \n",
       "4  Implements of community detection algorithms   Python  CommunityDetection   \n",
       "\n",
       "   owner_id                readme_file_name readme_name  readme_words_num  \\\n",
       "0    144927         zzzsochi.Flask-Gravatar         NaN             300.0   \n",
       "1    300186               zzzeek.sqlalchemy         NaN             770.0   \n",
       "2    300186                     zzzeek.mako         NaN             257.0   \n",
       "3    300186                  zzzeek.alembic         NaN             799.0   \n",
       "4   7483319  zzz24512653.CommunityDetection         NaN             117.0   \n",
       "\n",
       "            updated_at                                                url  \\\n",
       "0  2019-03-09 15:56:32  https://api.github.com/repos/zzzsochi/Flask-Gr...   \n",
       "1  2019-05-31 04:25:42     https://api.github.com/repos/zzzeek/sqlalchemy   \n",
       "2  2019-05-31 10:52:06           https://api.github.com/repos/zzzeek/mako   \n",
       "3  2019-05-31 13:37:38        https://api.github.com/repos/zzzeek/alembic   \n",
       "4  2019-05-29 02:43:39  https://api.github.com/repos/zzz24512653/Commu...   \n",
       "\n",
       "   watchers repo_labels                   all_languages  \\\n",
       "0        75         NaN                   python, shell   \n",
       "1      3285         NaN                       c, python   \n",
       "2       174         NaN              html, mako, python   \n",
       "3       431         NaN                    mako, python   \n",
       "4       159         NaN  css, java, python, scala, xslt   \n",
       "\n",
       "                  members_ids  members_number topics  \n",
       "0                      621452               1    NaN  \n",
       "1  4659549, 4680519, 47663343               3    NaN  \n",
       "2           4680519, 47663343               2    NaN  \n",
       "3           4680519, 47663343               2    NaN  \n",
       "4                         NaN               0    NaN  "
      ]
     },
     "execution_count": 23,
     "metadata": {},
     "output_type": "execute_result"
    }
   ],
   "source": [
    "dataset_df.head()"
   ]
  },
  {
   "cell_type": "code",
   "execution_count": 24,
   "metadata": {},
   "outputs": [],
   "source": [
    "readme_file_names_whatwhy = list(readme_whatwhy_df['local_readme_file'].values)\n",
    "def set_repo_has_whatwhy(row, readme_names_lst):\n",
    "    md_name = row['readme_file_name'] + '.md'\n",
    "    row['has_whatwhy'] = False\n",
    "    if md_name in readme_names_lst:\n",
    "        row['has_whatwhy'] = True\n",
    "    return row"
   ]
  },
  {
   "cell_type": "code",
   "execution_count": 25,
   "metadata": {},
   "outputs": [],
   "source": [
    "dataset_onlywhatwhy_df = dataset_df.apply(set_repo_has_whatwhy, args=(readme_file_names_whatwhy,), axis=1)"
   ]
  },
  {
   "cell_type": "code",
   "execution_count": 26,
   "metadata": {},
   "outputs": [
    {
     "data": {
      "text/plain": [
       "14065"
      ]
     },
     "execution_count": 26,
     "metadata": {},
     "output_type": "execute_result"
    }
   ],
   "source": [
    "len(dataset_onlywhatwhy_df[dataset_onlywhatwhy_df['has_whatwhy'] == True])"
   ]
  },
  {
   "cell_type": "code",
   "execution_count": 27,
   "metadata": {},
   "outputs": [],
   "source": [
    "dataset_onlywhatwhy_df = dataset_onlywhatwhy_df[dataset_onlywhatwhy_df['has_whatwhy'] == True]"
   ]
  },
  {
   "cell_type": "code",
   "execution_count": 28,
   "metadata": {},
   "outputs": [],
   "source": [
    "# save\n",
    "#dataset_onlywhatwhy_df.reset_index().to_csv('../../data/processed/repositories_with-readme_what-why-code.csv', encoding=\"utf-8\", index=False)"
   ]
  }
 ],
 "metadata": {
  "kernelspec": {
   "display_name": "Python 3",
   "language": "python",
   "name": "python3"
  },
  "language_info": {
   "codemirror_mode": {
    "name": "ipython",
    "version": 3
   },
   "file_extension": ".py",
   "mimetype": "text/x-python",
   "name": "python",
   "nbconvert_exporter": "python",
   "pygments_lexer": "ipython3",
   "version": "3.7.3"
  }
 },
 "nbformat": 4,
 "nbformat_minor": 4
}
