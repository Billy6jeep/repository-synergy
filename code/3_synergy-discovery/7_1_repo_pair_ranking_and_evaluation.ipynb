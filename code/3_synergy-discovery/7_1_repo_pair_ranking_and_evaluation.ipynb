{
 "cells": [
  {
   "cell_type": "code",
   "execution_count": 1,
   "metadata": {
    "ExecutionTime": {
     "end_time": "2020-04-23T13:33:49.048609Z",
     "start_time": "2020-04-23T13:30:50.432891Z"
    },
    "provenance": [
     {
      "end_time": "Unknown",
      "execution_time": "Unknown",
      "outputs": [],
      "source": "import pandas as pd\nimport numpy as np\nimport ranking_functions as rf\n\nfeatures_nmf = pd.read_csv(\"../data/feature_extraction/nmf_document_topics_50.csv\").to_numpy()\nrepository_info = pd.read_csv(\"../data/processed/repositories_with-readme_what-why-code_content.csv\")\n#features_lda = pd.read_csv(\"../data/feature_extraction/...).to_numpy()\n#features_embedding = pd.read_csv(\"../data/feature_extraction/...).to_numpy()",
      "start_time": "Unknown"
     },
     {
      "end_time": "2020-03-24T15:08:54.554Z",
      "execution_time": "13m 18s",
      "outputs": [],
      "source": "import pandas as pd\nimport numpy as np\nimport ranking_functions as rf\nimport importlib\n\nimportlib.reload(rf)\n\nfeatures_nmf = pd.read_csv(\"../data/feature_extraction/nmf_document_topics_50.csv\").to_numpy()\nrepository_info = pd.read_csv(\"../data/processed/repositories_with-readme_what-why-code_content.csv\")\n#features_lda = pd.read_csv(\"../data/feature_extraction/...).to_numpy()\n#features_embedding = pd.read_csv(\"../data/feature_extraction/...).to_numpy()",
      "start_time": "2020-03-24T14:55:36.288Z"
     },
     {
      "end_time": "2020-03-24T16:24:43.361Z",
      "execution_time": "1m 44.8s",
      "outputs": [],
      "source": "import pandas as pd\nimport numpy as np\nimport ranking_functions as rf\nimport importlib\n\nimportlib.reload(rf)\n\nfeatures_nmf = pd.read_csv(\"../data/feature_extraction/nmf_document_topics_50.csv\").to_numpy()\nrepository_info = pd.read_csv(\"../data/processed/repositories_with-readme_what-why-code_content.csv\")\n#features_lda = pd.read_csv(\"../data/feature_extraction/...).to_numpy()\n#features_embedding = pd.read_csv(\"../data/feature_extraction/...).to_numpy()",
      "start_time": "2020-03-24T16:22:58.559Z"
     },
     {
      "end_time": "2020-03-25T09:18:13.139Z",
      "execution_time": "2m 27s",
      "outputs": [],
      "source": "import pandas as pd\nimport numpy as np\nimport ranking_functions as rf\nimport importlib\nfrom scipy.sparse import csr_matrix\nimportlib.reload(rf)\n\nfeatures_nmf = csr_matrix(pd.read_csv(\"../data/feature_extraction/nmf_document_topics_50.csv\").to_numpy())\nrepository_info = pd.read_csv(\"../data/processed/repositories_with-readme_what-why-code_content.csv\")\n#features_lda = pd.read_csv(\"../data/feature_extraction/...).to_numpy()\n#features_embedding = pd.read_csv(\"../data/feature_extraction/...).to_numpy()",
      "start_time": "2020-03-25T09:15:45.767Z"
     },
     {
      "end_time": "2020-03-25T09:28:27.945Z",
      "execution_time": "3m 2s",
      "outputs": [],
      "source": "import pandas as pd\nimport numpy as np\nimport ranking_functions as rf\nimport importlib\nfrom scipy.sparse import csr_matrix\nimportlib.reload(rf)\n\nfeatures_nmf = csr_matrix(pd.read_csv(\"../data/feature_extraction/nmf_document_topics_50.csv\").to_numpy())\nrepository_info = pd.read_csv(\"../data/processed/repositories_with-readme_what-why-code_content.csv\")\n#features_lda = pd.read_csv(\"../data/feature_extraction/...).to_numpy()\n#features_embedding = pd.read_csv(\"../data/feature_extraction/...).to_numpy()",
      "start_time": "2020-03-25T09:25:25.471Z"
     },
     {
      "end_time": "2020-04-06T12:00:40.985Z",
      "execution_time": "7ms",
      "outputs": [
       {
        "ename": "SyntaxError",
        "evalue": "invalid syntax (<ipython-input-1-f030cdb8f6d2>, line 8)",
        "output_type": "error",
        "traceback": [
         "\u001b[1;36m  File \u001b[1;32m\"<ipython-input-1-f030cdb8f6d2>\"\u001b[1;36m, line \u001b[1;32m8\u001b[0m\n\u001b[1;33m    features_nmf = np.loadtxt(\"../data/feature_extraction/nmf_document_topics_45.csv\", usecols=range(2:51))\u001b[0m\n\u001b[1;37m                                                                                                      ^\u001b[0m\n\u001b[1;31mSyntaxError\u001b[0m\u001b[1;31m:\u001b[0m invalid syntax\n"
        ]
       }
      ],
      "source": "import pandas as pd\nimport numpy as np\nimport ranking_functions as rf\nimport importlib\nfrom scipy.sparse import csr_matrix\nimportlib.reload(rf)\n\nfeatures_nmf = np.loadtxt(\"../data/feature_extraction/nmf_document_topics_45.csv\", usecols=range(2:51))\nfeatures_lda = np.load(\"../data/feature_extraction/nmf_document_topics_45.csv\", usecols=range(2:51))\nrepository_info = pd.read_csv(\"../data/processed/final_repo_english_whatwhy.csv\")\n#features_lda = pd.read_csv(\"../data/feature_extraction/...).to_numpy()\n#features_embedding = pd.read_csv(\"../data/feature_extraction/...).to_numpy()",
      "start_time": "2020-04-06T12:00:40.978Z"
     },
     {
      "end_time": "2020-04-06T12:01:15.635Z",
      "execution_time": "16.1s",
      "outputs": [
       {
        "name": "stderr",
        "output_type": "stream",
        "text": "ERROR:root:Internal Python error in the inspect module.\nBelow is the traceback from this internal error.\n\n"
       },
       {
        "name": "stdout",
        "output_type": "stream",
        "text": "ranking_functions.py -i <repo-feature matrix (csv)> -o <outputfile> -d <jumping probability (rwr only)> -r <ranking function [rwr|multiplicative (default)]>\nTraceback (most recent call last):\n  File \"H:\\Forschung\\Repository_Mining\\repo-miner\\notebooks\\ranking_functions.py\", line 48, in <module>\n    opts, args = getopt.getopt(sys.argv[1:],\"hi:o:r:d:\",[\"ifile=\",\"ofile=\",\"rfun\"])\n  File \"C:\\Users\\heck_ti\\AppData\\Local\\Continuum\\anaconda3\\lib\\getopt.py\", line 95, in getopt\n    opts, args = do_shorts(opts, args[0][1:], shortopts, args[1:])\n  File \"C:\\Users\\heck_ti\\AppData\\Local\\Continuum\\anaconda3\\lib\\getopt.py\", line 195, in do_shorts\n    if short_has_arg(opt, shortopts):\n  File \"C:\\Users\\heck_ti\\AppData\\Local\\Continuum\\anaconda3\\lib\\getopt.py\", line 211, in short_has_arg\n    raise GetoptError(_('option -%s not recognized') % opt, opt)\ngetopt.GetoptError: option -f not recognized\n\nDuring handling of the above exception, another exception occurred:\n\nTraceback (most recent call last):\n  File \"C:\\Users\\heck_ti\\AppData\\Roaming\\Python\\Python37\\site-packages\\IPython\\core\\interactiveshell.py\", line 3331, in run_code\n    exec(code_obj, self.user_global_ns, self.user_ns)\n  File \"<ipython-input-2-35b797c14631>\", line 3, in <module>\n    import ranking_functions as rf\n  File \"H:\\Forschung\\Repository_Mining\\repo-miner\\notebooks\\ranking_functions.py\", line 51, in <module>\n    sys.exit(2)\nSystemExit: 2\n\nDuring handling of the above exception, another exception occurred:\n\nTraceback (most recent call last):\n  File \"C:\\Users\\heck_ti\\AppData\\Roaming\\Python\\Python37\\site-packages\\IPython\\core\\ultratb.py\", line 1151, in get_records\n    return _fixed_getinnerframes(etb, number_of_lines_of_context, tb_offset)\n  File \"C:\\Users\\heck_ti\\AppData\\Roaming\\Python\\Python37\\site-packages\\IPython\\core\\ultratb.py\", line 319, in wrapped\n    return f(*args, **kwargs)\n  File \"C:\\Users\\heck_ti\\AppData\\Roaming\\Python\\Python37\\site-packages\\IPython\\core\\ultratb.py\", line 353, in _fixed_getinnerframes\n    records = fix_frame_records_filenames(inspect.getinnerframes(etb, context))\n  File \"C:\\Users\\heck_ti\\AppData\\Local\\Continuum\\anaconda3\\lib\\inspect.py\", line 1502, in getinnerframes\n    frameinfo = (tb.tb_frame,) + getframeinfo(tb, context)\nAttributeError: 'tuple' object has no attribute 'tb_frame'\n"
       },
       {
        "ename": "SystemExit",
        "evalue": "2",
        "output_type": "error",
        "traceback": [
         "An exception has occurred, use %tb to see the full traceback.\n",
         "\u001b[1;31m---------------------------------------------------------------------------\u001b[0m",
         "\nDuring handling of the above exception, another exception occurred:\n",
         "\u001b[1;31mSystemExit\u001b[0m\u001b[1;31m:\u001b[0m 2\n"
        ]
       },
       {
        "name": "stderr",
        "output_type": "stream",
        "text": "C:\\Users\\heck_ti\\AppData\\Roaming\\Python\\Python37\\site-packages\\IPython\\core\\interactiveshell.py:3339: UserWarning: To exit: use 'exit', 'quit', or Ctrl-D.\n  warn(\"To exit: use 'exit', 'quit', or Ctrl-D.\", stacklevel=1)\n"
       }
      ],
      "source": "import pandas as pd\nimport numpy as np\nimport ranking_functions as rf\nimport importlib\nfrom scipy.sparse import csr_matrix\nimportlib.reload(rf)\n\nfeatures_nmf = np.loadtxt(\"../data/feature_extraction/nmf_document_topics_45.csv\", usecols=range(2,51))\nfeatures_lda = np.load(\"../data/feature_extraction/nmf_document_topics_45.csv\", usecols=range(2,51))\nrepository_info = pd.read_csv(\"../data/processed/final_repo_english_whatwhy.csv\")\n#features_lda = pd.read_csv(\"../data/feature_extraction/...).to_numpy()\n#features_embedding = pd.read_csv(\"../data/feature_extraction/...).to_numpy()",
      "start_time": "2020-04-06T12:00:59.509Z"
     },
     {
      "end_time": "2020-04-06T12:04:04.988Z",
      "execution_time": "6.25s",
      "outputs": [
       {
        "ename": "OSError",
        "evalue": "../data/feature_extraction/nmf_document_topics_45.csv not found.",
        "output_type": "error",
        "traceback": [
         "\u001b[1;31m---------------------------------------------------------------------------\u001b[0m",
         "\u001b[1;31mOSError\u001b[0m                                   Traceback (most recent call last)",
         "\u001b[1;32m<ipython-input-3-35b797c14631>\u001b[0m in \u001b[0;36m<module>\u001b[1;34m\u001b[0m\n\u001b[0;32m      6\u001b[0m \u001b[0mimportlib\u001b[0m\u001b[1;33m.\u001b[0m\u001b[0mreload\u001b[0m\u001b[1;33m(\u001b[0m\u001b[0mrf\u001b[0m\u001b[1;33m)\u001b[0m\u001b[1;33m\u001b[0m\u001b[1;33m\u001b[0m\u001b[0m\n\u001b[0;32m      7\u001b[0m \u001b[1;33m\u001b[0m\u001b[0m\n\u001b[1;32m----> 8\u001b[1;33m \u001b[0mfeatures_nmf\u001b[0m \u001b[1;33m=\u001b[0m \u001b[0mnp\u001b[0m\u001b[1;33m.\u001b[0m\u001b[0mloadtxt\u001b[0m\u001b[1;33m(\u001b[0m\u001b[1;34m\"../data/feature_extraction/nmf_document_topics_45.csv\"\u001b[0m\u001b[1;33m,\u001b[0m \u001b[0musecols\u001b[0m\u001b[1;33m=\u001b[0m\u001b[0mrange\u001b[0m\u001b[1;33m(\u001b[0m\u001b[1;36m2\u001b[0m\u001b[1;33m,\u001b[0m\u001b[1;36m51\u001b[0m\u001b[1;33m)\u001b[0m\u001b[1;33m)\u001b[0m\u001b[1;33m\u001b[0m\u001b[1;33m\u001b[0m\u001b[0m\n\u001b[0m\u001b[0;32m      9\u001b[0m \u001b[0mfeatures_lda\u001b[0m \u001b[1;33m=\u001b[0m \u001b[0mnp\u001b[0m\u001b[1;33m.\u001b[0m\u001b[0mload\u001b[0m\u001b[1;33m(\u001b[0m\u001b[1;34m\"../data/feature_extraction/nmf_document_topics_45.csv\"\u001b[0m\u001b[1;33m,\u001b[0m \u001b[0musecols\u001b[0m\u001b[1;33m=\u001b[0m\u001b[0mrange\u001b[0m\u001b[1;33m(\u001b[0m\u001b[1;36m2\u001b[0m\u001b[1;33m,\u001b[0m\u001b[1;36m51\u001b[0m\u001b[1;33m)\u001b[0m\u001b[1;33m)\u001b[0m\u001b[1;33m\u001b[0m\u001b[1;33m\u001b[0m\u001b[0m\n\u001b[0;32m     10\u001b[0m \u001b[0mrepository_info\u001b[0m \u001b[1;33m=\u001b[0m \u001b[0mpd\u001b[0m\u001b[1;33m.\u001b[0m\u001b[0mread_csv\u001b[0m\u001b[1;33m(\u001b[0m\u001b[1;34m\"../data/processed/final_repo_english_whatwhy.csv\"\u001b[0m\u001b[1;33m)\u001b[0m\u001b[1;33m\u001b[0m\u001b[1;33m\u001b[0m\u001b[0m\n",
         "\u001b[1;32m~\\AppData\\Roaming\\Python\\Python37\\site-packages\\numpy\\lib\\npyio.py\u001b[0m in \u001b[0;36mloadtxt\u001b[1;34m(fname, dtype, comments, delimiter, converters, skiprows, usecols, unpack, ndmin, encoding, max_rows)\u001b[0m\n\u001b[0;32m    979\u001b[0m             \u001b[0mfname\u001b[0m \u001b[1;33m=\u001b[0m \u001b[0mos_fspath\u001b[0m\u001b[1;33m(\u001b[0m\u001b[0mfname\u001b[0m\u001b[1;33m)\u001b[0m\u001b[1;33m\u001b[0m\u001b[1;33m\u001b[0m\u001b[0m\n\u001b[0;32m    980\u001b[0m         \u001b[1;32mif\u001b[0m \u001b[0m_is_string_like\u001b[0m\u001b[1;33m(\u001b[0m\u001b[0mfname\u001b[0m\u001b[1;33m)\u001b[0m\u001b[1;33m:\u001b[0m\u001b[1;33m\u001b[0m\u001b[1;33m\u001b[0m\u001b[0m\n\u001b[1;32m--> 981\u001b[1;33m             \u001b[0mfh\u001b[0m \u001b[1;33m=\u001b[0m \u001b[0mnp\u001b[0m\u001b[1;33m.\u001b[0m\u001b[0mlib\u001b[0m\u001b[1;33m.\u001b[0m\u001b[0m_datasource\u001b[0m\u001b[1;33m.\u001b[0m\u001b[0mopen\u001b[0m\u001b[1;33m(\u001b[0m\u001b[0mfname\u001b[0m\u001b[1;33m,\u001b[0m \u001b[1;34m'rt'\u001b[0m\u001b[1;33m,\u001b[0m \u001b[0mencoding\u001b[0m\u001b[1;33m=\u001b[0m\u001b[0mencoding\u001b[0m\u001b[1;33m)\u001b[0m\u001b[1;33m\u001b[0m\u001b[1;33m\u001b[0m\u001b[0m\n\u001b[0m\u001b[0;32m    982\u001b[0m             \u001b[0mfencoding\u001b[0m \u001b[1;33m=\u001b[0m \u001b[0mgetattr\u001b[0m\u001b[1;33m(\u001b[0m\u001b[0mfh\u001b[0m\u001b[1;33m,\u001b[0m \u001b[1;34m'encoding'\u001b[0m\u001b[1;33m,\u001b[0m \u001b[1;34m'latin1'\u001b[0m\u001b[1;33m)\u001b[0m\u001b[1;33m\u001b[0m\u001b[1;33m\u001b[0m\u001b[0m\n\u001b[0;32m    983\u001b[0m             \u001b[0mfh\u001b[0m \u001b[1;33m=\u001b[0m \u001b[0miter\u001b[0m\u001b[1;33m(\u001b[0m\u001b[0mfh\u001b[0m\u001b[1;33m)\u001b[0m\u001b[1;33m\u001b[0m\u001b[1;33m\u001b[0m\u001b[0m\n",
         "\u001b[1;32m~\\AppData\\Roaming\\Python\\Python37\\site-packages\\numpy\\lib\\_datasource.py\u001b[0m in \u001b[0;36mopen\u001b[1;34m(path, mode, destpath, encoding, newline)\u001b[0m\n\u001b[0;32m    267\u001b[0m \u001b[1;33m\u001b[0m\u001b[0m\n\u001b[0;32m    268\u001b[0m     \u001b[0mds\u001b[0m \u001b[1;33m=\u001b[0m \u001b[0mDataSource\u001b[0m\u001b[1;33m(\u001b[0m\u001b[0mdestpath\u001b[0m\u001b[1;33m)\u001b[0m\u001b[1;33m\u001b[0m\u001b[1;33m\u001b[0m\u001b[0m\n\u001b[1;32m--> 269\u001b[1;33m     \u001b[1;32mreturn\u001b[0m \u001b[0mds\u001b[0m\u001b[1;33m.\u001b[0m\u001b[0mopen\u001b[0m\u001b[1;33m(\u001b[0m\u001b[0mpath\u001b[0m\u001b[1;33m,\u001b[0m \u001b[0mmode\u001b[0m\u001b[1;33m,\u001b[0m \u001b[0mencoding\u001b[0m\u001b[1;33m=\u001b[0m\u001b[0mencoding\u001b[0m\u001b[1;33m,\u001b[0m \u001b[0mnewline\u001b[0m\u001b[1;33m=\u001b[0m\u001b[0mnewline\u001b[0m\u001b[1;33m)\u001b[0m\u001b[1;33m\u001b[0m\u001b[1;33m\u001b[0m\u001b[0m\n\u001b[0m\u001b[0;32m    270\u001b[0m \u001b[1;33m\u001b[0m\u001b[0m\n\u001b[0;32m    271\u001b[0m \u001b[1;33m\u001b[0m\u001b[0m\n",
         "\u001b[1;32m~\\AppData\\Roaming\\Python\\Python37\\site-packages\\numpy\\lib\\_datasource.py\u001b[0m in \u001b[0;36mopen\u001b[1;34m(self, path, mode, encoding, newline)\u001b[0m\n\u001b[0;32m    621\u001b[0m                                       encoding=encoding, newline=newline)\n\u001b[0;32m    622\u001b[0m         \u001b[1;32melse\u001b[0m\u001b[1;33m:\u001b[0m\u001b[1;33m\u001b[0m\u001b[1;33m\u001b[0m\u001b[0m\n\u001b[1;32m--> 623\u001b[1;33m             \u001b[1;32mraise\u001b[0m \u001b[0mIOError\u001b[0m\u001b[1;33m(\u001b[0m\u001b[1;34m\"%s not found.\"\u001b[0m \u001b[1;33m%\u001b[0m \u001b[0mpath\u001b[0m\u001b[1;33m)\u001b[0m\u001b[1;33m\u001b[0m\u001b[1;33m\u001b[0m\u001b[0m\n\u001b[0m\u001b[0;32m    624\u001b[0m \u001b[1;33m\u001b[0m\u001b[0m\n\u001b[0;32m    625\u001b[0m \u001b[1;33m\u001b[0m\u001b[0m\n",
         "\u001b[1;31mOSError\u001b[0m: ../data/feature_extraction/nmf_document_topics_45.csv not found."
        ]
       }
      ],
      "source": "import pandas as pd\nimport numpy as np\nimport ranking_functions as rf\nimport importlib\nfrom scipy.sparse import csr_matrix\nimportlib.reload(rf)\n\nfeatures_nmf = np.loadtxt(\"../data/feature_extraction/nmf_document_topics_45.csv\", usecols=range(2,51))\nfeatures_lda = np.load(\"../data/feature_extraction/nmf_document_topics_45.csv\", usecols=range(2,51))\nrepository_info = pd.read_csv(\"../data/processed/final_repo_english_whatwhy.csv\")\n#features_lda = pd.read_csv(\"../data/feature_extraction/...).to_numpy()\n#features_embedding = pd.read_csv(\"../data/feature_extraction/...).to_numpy()",
      "start_time": "2020-04-06T12:03:58.740Z"
     },
     {
      "end_time": "2020-04-06T12:30:40.121Z",
      "execution_time": "1.82s",
      "outputs": [
       {
        "ename": "OSError",
        "evalue": "../data/feature_extraction/nmf_document_topics_45.csv not found.",
        "output_type": "error",
        "traceback": [
         "\u001b[1;31m---------------------------------------------------------------------------\u001b[0m",
         "\u001b[1;31mOSError\u001b[0m                                   Traceback (most recent call last)",
         "\u001b[1;32m<ipython-input-4-0850a15427bd>\u001b[0m in \u001b[0;36m<module>\u001b[1;34m\u001b[0m\n\u001b[0;32m      6\u001b[0m \u001b[0mimportlib\u001b[0m\u001b[1;33m.\u001b[0m\u001b[0mreload\u001b[0m\u001b[1;33m(\u001b[0m\u001b[0mrf\u001b[0m\u001b[1;33m)\u001b[0m\u001b[1;33m\u001b[0m\u001b[1;33m\u001b[0m\u001b[0m\n\u001b[0;32m      7\u001b[0m \u001b[1;33m\u001b[0m\u001b[0m\n\u001b[1;32m----> 8\u001b[1;33m \u001b[0mfeatures_nmf\u001b[0m \u001b[1;33m=\u001b[0m \u001b[0mnp\u001b[0m\u001b[1;33m.\u001b[0m\u001b[0mloadtxt\u001b[0m\u001b[1;33m(\u001b[0m\u001b[1;34m\"../data/feature_extraction/nmf_document_topics_45.csv\"\u001b[0m\u001b[1;33m,\u001b[0m \u001b[0mdelimiter\u001b[0m\u001b[1;33m=\u001b[0m\u001b[1;34m\",\"\u001b[0m\u001b[1;33m,\u001b[0m \u001b[0musecols\u001b[0m\u001b[1;33m=\u001b[0m\u001b[0mrange\u001b[0m\u001b[1;33m(\u001b[0m\u001b[1;36m2\u001b[0m\u001b[1;33m,\u001b[0m\u001b[1;36m51\u001b[0m\u001b[1;33m)\u001b[0m\u001b[1;33m)\u001b[0m\u001b[1;33m\u001b[0m\u001b[1;33m\u001b[0m\u001b[0m\n\u001b[0m\u001b[0;32m      9\u001b[0m \u001b[0mfeatures_lda\u001b[0m \u001b[1;33m=\u001b[0m \u001b[0mnp\u001b[0m\u001b[1;33m.\u001b[0m\u001b[0mloadtxt\u001b[0m\u001b[1;33m(\u001b[0m\u001b[1;34m\"../data/feature_extraction/nmf_document_topics_45.csv\"\u001b[0m\u001b[1;33m,\u001b[0m \u001b[0mdelimiter\u001b[0m\u001b[1;33m=\u001b[0m\u001b[1;34m\",\"\u001b[0m\u001b[1;33m,\u001b[0m \u001b[0musecols\u001b[0m\u001b[1;33m=\u001b[0m\u001b[0mrange\u001b[0m\u001b[1;33m(\u001b[0m\u001b[1;36m2\u001b[0m\u001b[1;33m,\u001b[0m\u001b[1;36m51\u001b[0m\u001b[1;33m)\u001b[0m\u001b[1;33m)\u001b[0m\u001b[1;33m\u001b[0m\u001b[1;33m\u001b[0m\u001b[0m\n\u001b[0;32m     10\u001b[0m \u001b[0mrepository_info\u001b[0m \u001b[1;33m=\u001b[0m \u001b[0mpd\u001b[0m\u001b[1;33m.\u001b[0m\u001b[0mread_csv\u001b[0m\u001b[1;33m(\u001b[0m\u001b[1;34m\"../data/processed/final_repo_english_whatwhy.csv\"\u001b[0m\u001b[1;33m)\u001b[0m\u001b[1;33m\u001b[0m\u001b[1;33m\u001b[0m\u001b[0m\n",
         "\u001b[1;32m~\\AppData\\Roaming\\Python\\Python37\\site-packages\\numpy\\lib\\npyio.py\u001b[0m in \u001b[0;36mloadtxt\u001b[1;34m(fname, dtype, comments, delimiter, converters, skiprows, usecols, unpack, ndmin, encoding, max_rows)\u001b[0m\n\u001b[0;32m    979\u001b[0m             \u001b[0mfname\u001b[0m \u001b[1;33m=\u001b[0m \u001b[0mos_fspath\u001b[0m\u001b[1;33m(\u001b[0m\u001b[0mfname\u001b[0m\u001b[1;33m)\u001b[0m\u001b[1;33m\u001b[0m\u001b[1;33m\u001b[0m\u001b[0m\n\u001b[0;32m    980\u001b[0m         \u001b[1;32mif\u001b[0m \u001b[0m_is_string_like\u001b[0m\u001b[1;33m(\u001b[0m\u001b[0mfname\u001b[0m\u001b[1;33m)\u001b[0m\u001b[1;33m:\u001b[0m\u001b[1;33m\u001b[0m\u001b[1;33m\u001b[0m\u001b[0m\n\u001b[1;32m--> 981\u001b[1;33m             \u001b[0mfh\u001b[0m \u001b[1;33m=\u001b[0m \u001b[0mnp\u001b[0m\u001b[1;33m.\u001b[0m\u001b[0mlib\u001b[0m\u001b[1;33m.\u001b[0m\u001b[0m_datasource\u001b[0m\u001b[1;33m.\u001b[0m\u001b[0mopen\u001b[0m\u001b[1;33m(\u001b[0m\u001b[0mfname\u001b[0m\u001b[1;33m,\u001b[0m \u001b[1;34m'rt'\u001b[0m\u001b[1;33m,\u001b[0m \u001b[0mencoding\u001b[0m\u001b[1;33m=\u001b[0m\u001b[0mencoding\u001b[0m\u001b[1;33m)\u001b[0m\u001b[1;33m\u001b[0m\u001b[1;33m\u001b[0m\u001b[0m\n\u001b[0m\u001b[0;32m    982\u001b[0m             \u001b[0mfencoding\u001b[0m \u001b[1;33m=\u001b[0m \u001b[0mgetattr\u001b[0m\u001b[1;33m(\u001b[0m\u001b[0mfh\u001b[0m\u001b[1;33m,\u001b[0m \u001b[1;34m'encoding'\u001b[0m\u001b[1;33m,\u001b[0m \u001b[1;34m'latin1'\u001b[0m\u001b[1;33m)\u001b[0m\u001b[1;33m\u001b[0m\u001b[1;33m\u001b[0m\u001b[0m\n\u001b[0;32m    983\u001b[0m             \u001b[0mfh\u001b[0m \u001b[1;33m=\u001b[0m \u001b[0miter\u001b[0m\u001b[1;33m(\u001b[0m\u001b[0mfh\u001b[0m\u001b[1;33m)\u001b[0m\u001b[1;33m\u001b[0m\u001b[1;33m\u001b[0m\u001b[0m\n",
         "\u001b[1;32m~\\AppData\\Roaming\\Python\\Python37\\site-packages\\numpy\\lib\\_datasource.py\u001b[0m in \u001b[0;36mopen\u001b[1;34m(path, mode, destpath, encoding, newline)\u001b[0m\n\u001b[0;32m    267\u001b[0m \u001b[1;33m\u001b[0m\u001b[0m\n\u001b[0;32m    268\u001b[0m     \u001b[0mds\u001b[0m \u001b[1;33m=\u001b[0m \u001b[0mDataSource\u001b[0m\u001b[1;33m(\u001b[0m\u001b[0mdestpath\u001b[0m\u001b[1;33m)\u001b[0m\u001b[1;33m\u001b[0m\u001b[1;33m\u001b[0m\u001b[0m\n\u001b[1;32m--> 269\u001b[1;33m     \u001b[1;32mreturn\u001b[0m \u001b[0mds\u001b[0m\u001b[1;33m.\u001b[0m\u001b[0mopen\u001b[0m\u001b[1;33m(\u001b[0m\u001b[0mpath\u001b[0m\u001b[1;33m,\u001b[0m \u001b[0mmode\u001b[0m\u001b[1;33m,\u001b[0m \u001b[0mencoding\u001b[0m\u001b[1;33m=\u001b[0m\u001b[0mencoding\u001b[0m\u001b[1;33m,\u001b[0m \u001b[0mnewline\u001b[0m\u001b[1;33m=\u001b[0m\u001b[0mnewline\u001b[0m\u001b[1;33m)\u001b[0m\u001b[1;33m\u001b[0m\u001b[1;33m\u001b[0m\u001b[0m\n\u001b[0m\u001b[0;32m    270\u001b[0m \u001b[1;33m\u001b[0m\u001b[0m\n\u001b[0;32m    271\u001b[0m \u001b[1;33m\u001b[0m\u001b[0m\n",
         "\u001b[1;32m~\\AppData\\Roaming\\Python\\Python37\\site-packages\\numpy\\lib\\_datasource.py\u001b[0m in \u001b[0;36mopen\u001b[1;34m(self, path, mode, encoding, newline)\u001b[0m\n\u001b[0;32m    621\u001b[0m                                       encoding=encoding, newline=newline)\n\u001b[0;32m    622\u001b[0m         \u001b[1;32melse\u001b[0m\u001b[1;33m:\u001b[0m\u001b[1;33m\u001b[0m\u001b[1;33m\u001b[0m\u001b[0m\n\u001b[1;32m--> 623\u001b[1;33m             \u001b[1;32mraise\u001b[0m \u001b[0mIOError\u001b[0m\u001b[1;33m(\u001b[0m\u001b[1;34m\"%s not found.\"\u001b[0m \u001b[1;33m%\u001b[0m \u001b[0mpath\u001b[0m\u001b[1;33m)\u001b[0m\u001b[1;33m\u001b[0m\u001b[1;33m\u001b[0m\u001b[0m\n\u001b[0m\u001b[0;32m    624\u001b[0m \u001b[1;33m\u001b[0m\u001b[0m\n\u001b[0;32m    625\u001b[0m \u001b[1;33m\u001b[0m\u001b[0m\n",
         "\u001b[1;31mOSError\u001b[0m: ../data/feature_extraction/nmf_document_topics_45.csv not found."
        ]
       }
      ],
      "source": "import pandas as pd\nimport numpy as np\nimport ranking_functions as rf\nimport importlib\nfrom scipy.sparse import csr_matrix\nimportlib.reload(rf)\n\nfeatures_nmf = np.loadtxt(\"../data/feature_extraction/nmf_document_topics_45.csv\", delimiter=\",\", usecols=range(2,51))\nfeatures_lda = np.loadtxt(\"../data/feature_extraction/nmf_document_topics_45.csv\", delimiter=\",\", usecols=range(2,51))\nrepository_info = pd.read_csv(\"../data/processed/final_repo_english_whatwhy.csv\")\n#features_lda = pd.read_csv(\"../data/feature_extraction/...).to_numpy()\n#features_embedding = pd.read_csv(\"../data/feature_extraction/...).to_numpy()",
      "start_time": "2020-04-06T12:30:38.303Z"
     },
     {
      "end_time": "2020-04-06T12:31:42.293Z",
      "execution_time": "1.20s",
      "outputs": [
       {
        "ename": "OSError",
        "evalue": "data/feature_extraction/nmf_document_topics_45.csv not found.",
        "output_type": "error",
        "traceback": [
         "\u001b[1;31m---------------------------------------------------------------------------\u001b[0m",
         "\u001b[1;31mOSError\u001b[0m                                   Traceback (most recent call last)",
         "\u001b[1;32m<ipython-input-5-a32f8abf73cd>\u001b[0m in \u001b[0;36m<module>\u001b[1;34m\u001b[0m\n\u001b[0;32m      6\u001b[0m \u001b[0mimportlib\u001b[0m\u001b[1;33m.\u001b[0m\u001b[0mreload\u001b[0m\u001b[1;33m(\u001b[0m\u001b[0mrf\u001b[0m\u001b[1;33m)\u001b[0m\u001b[1;33m\u001b[0m\u001b[1;33m\u001b[0m\u001b[0m\n\u001b[0;32m      7\u001b[0m \u001b[1;33m\u001b[0m\u001b[0m\n\u001b[1;32m----> 8\u001b[1;33m \u001b[0mfeatures_nmf\u001b[0m \u001b[1;33m=\u001b[0m \u001b[0mnp\u001b[0m\u001b[1;33m.\u001b[0m\u001b[0mloadtxt\u001b[0m\u001b[1;33m(\u001b[0m\u001b[1;34m\"data/feature_extraction/nmf_document_topics_45.csv\"\u001b[0m\u001b[1;33m,\u001b[0m \u001b[0mdelimiter\u001b[0m\u001b[1;33m=\u001b[0m\u001b[1;34m\",\"\u001b[0m\u001b[1;33m,\u001b[0m \u001b[0musecols\u001b[0m\u001b[1;33m=\u001b[0m\u001b[0mrange\u001b[0m\u001b[1;33m(\u001b[0m\u001b[1;36m2\u001b[0m\u001b[1;33m,\u001b[0m\u001b[1;36m51\u001b[0m\u001b[1;33m)\u001b[0m\u001b[1;33m)\u001b[0m\u001b[1;33m\u001b[0m\u001b[1;33m\u001b[0m\u001b[0m\n\u001b[0m\u001b[0;32m      9\u001b[0m \u001b[0mfeatures_lda\u001b[0m \u001b[1;33m=\u001b[0m \u001b[0mnp\u001b[0m\u001b[1;33m.\u001b[0m\u001b[0mloadtxt\u001b[0m\u001b[1;33m(\u001b[0m\u001b[1;34m\"data/feature_extraction/nmf_document_topics_45.csv\"\u001b[0m\u001b[1;33m,\u001b[0m \u001b[0mdelimiter\u001b[0m\u001b[1;33m=\u001b[0m\u001b[1;34m\",\"\u001b[0m\u001b[1;33m,\u001b[0m \u001b[0musecols\u001b[0m\u001b[1;33m=\u001b[0m\u001b[0mrange\u001b[0m\u001b[1;33m(\u001b[0m\u001b[1;36m2\u001b[0m\u001b[1;33m,\u001b[0m\u001b[1;36m51\u001b[0m\u001b[1;33m)\u001b[0m\u001b[1;33m)\u001b[0m\u001b[1;33m\u001b[0m\u001b[1;33m\u001b[0m\u001b[0m\n\u001b[0;32m     10\u001b[0m \u001b[0mrepository_info\u001b[0m \u001b[1;33m=\u001b[0m \u001b[0mpd\u001b[0m\u001b[1;33m.\u001b[0m\u001b[0mread_csv\u001b[0m\u001b[1;33m(\u001b[0m\u001b[1;34m\"../data/processed/final_repo_english_whatwhy.csv\"\u001b[0m\u001b[1;33m)\u001b[0m\u001b[1;33m\u001b[0m\u001b[1;33m\u001b[0m\u001b[0m\n",
         "\u001b[1;32m~\\AppData\\Roaming\\Python\\Python37\\site-packages\\numpy\\lib\\npyio.py\u001b[0m in \u001b[0;36mloadtxt\u001b[1;34m(fname, dtype, comments, delimiter, converters, skiprows, usecols, unpack, ndmin, encoding, max_rows)\u001b[0m\n\u001b[0;32m    979\u001b[0m             \u001b[0mfname\u001b[0m \u001b[1;33m=\u001b[0m \u001b[0mos_fspath\u001b[0m\u001b[1;33m(\u001b[0m\u001b[0mfname\u001b[0m\u001b[1;33m)\u001b[0m\u001b[1;33m\u001b[0m\u001b[1;33m\u001b[0m\u001b[0m\n\u001b[0;32m    980\u001b[0m         \u001b[1;32mif\u001b[0m \u001b[0m_is_string_like\u001b[0m\u001b[1;33m(\u001b[0m\u001b[0mfname\u001b[0m\u001b[1;33m)\u001b[0m\u001b[1;33m:\u001b[0m\u001b[1;33m\u001b[0m\u001b[1;33m\u001b[0m\u001b[0m\n\u001b[1;32m--> 981\u001b[1;33m             \u001b[0mfh\u001b[0m \u001b[1;33m=\u001b[0m \u001b[0mnp\u001b[0m\u001b[1;33m.\u001b[0m\u001b[0mlib\u001b[0m\u001b[1;33m.\u001b[0m\u001b[0m_datasource\u001b[0m\u001b[1;33m.\u001b[0m\u001b[0mopen\u001b[0m\u001b[1;33m(\u001b[0m\u001b[0mfname\u001b[0m\u001b[1;33m,\u001b[0m \u001b[1;34m'rt'\u001b[0m\u001b[1;33m,\u001b[0m \u001b[0mencoding\u001b[0m\u001b[1;33m=\u001b[0m\u001b[0mencoding\u001b[0m\u001b[1;33m)\u001b[0m\u001b[1;33m\u001b[0m\u001b[1;33m\u001b[0m\u001b[0m\n\u001b[0m\u001b[0;32m    982\u001b[0m             \u001b[0mfencoding\u001b[0m \u001b[1;33m=\u001b[0m \u001b[0mgetattr\u001b[0m\u001b[1;33m(\u001b[0m\u001b[0mfh\u001b[0m\u001b[1;33m,\u001b[0m \u001b[1;34m'encoding'\u001b[0m\u001b[1;33m,\u001b[0m \u001b[1;34m'latin1'\u001b[0m\u001b[1;33m)\u001b[0m\u001b[1;33m\u001b[0m\u001b[1;33m\u001b[0m\u001b[0m\n\u001b[0;32m    983\u001b[0m             \u001b[0mfh\u001b[0m \u001b[1;33m=\u001b[0m \u001b[0miter\u001b[0m\u001b[1;33m(\u001b[0m\u001b[0mfh\u001b[0m\u001b[1;33m)\u001b[0m\u001b[1;33m\u001b[0m\u001b[1;33m\u001b[0m\u001b[0m\n",
         "\u001b[1;32m~\\AppData\\Roaming\\Python\\Python37\\site-packages\\numpy\\lib\\_datasource.py\u001b[0m in \u001b[0;36mopen\u001b[1;34m(path, mode, destpath, encoding, newline)\u001b[0m\n\u001b[0;32m    267\u001b[0m \u001b[1;33m\u001b[0m\u001b[0m\n\u001b[0;32m    268\u001b[0m     \u001b[0mds\u001b[0m \u001b[1;33m=\u001b[0m \u001b[0mDataSource\u001b[0m\u001b[1;33m(\u001b[0m\u001b[0mdestpath\u001b[0m\u001b[1;33m)\u001b[0m\u001b[1;33m\u001b[0m\u001b[1;33m\u001b[0m\u001b[0m\n\u001b[1;32m--> 269\u001b[1;33m     \u001b[1;32mreturn\u001b[0m \u001b[0mds\u001b[0m\u001b[1;33m.\u001b[0m\u001b[0mopen\u001b[0m\u001b[1;33m(\u001b[0m\u001b[0mpath\u001b[0m\u001b[1;33m,\u001b[0m \u001b[0mmode\u001b[0m\u001b[1;33m,\u001b[0m \u001b[0mencoding\u001b[0m\u001b[1;33m=\u001b[0m\u001b[0mencoding\u001b[0m\u001b[1;33m,\u001b[0m \u001b[0mnewline\u001b[0m\u001b[1;33m=\u001b[0m\u001b[0mnewline\u001b[0m\u001b[1;33m)\u001b[0m\u001b[1;33m\u001b[0m\u001b[1;33m\u001b[0m\u001b[0m\n\u001b[0m\u001b[0;32m    270\u001b[0m \u001b[1;33m\u001b[0m\u001b[0m\n\u001b[0;32m    271\u001b[0m \u001b[1;33m\u001b[0m\u001b[0m\n",
         "\u001b[1;32m~\\AppData\\Roaming\\Python\\Python37\\site-packages\\numpy\\lib\\_datasource.py\u001b[0m in \u001b[0;36mopen\u001b[1;34m(self, path, mode, encoding, newline)\u001b[0m\n\u001b[0;32m    621\u001b[0m                                       encoding=encoding, newline=newline)\n\u001b[0;32m    622\u001b[0m         \u001b[1;32melse\u001b[0m\u001b[1;33m:\u001b[0m\u001b[1;33m\u001b[0m\u001b[1;33m\u001b[0m\u001b[0m\n\u001b[1;32m--> 623\u001b[1;33m             \u001b[1;32mraise\u001b[0m \u001b[0mIOError\u001b[0m\u001b[1;33m(\u001b[0m\u001b[1;34m\"%s not found.\"\u001b[0m \u001b[1;33m%\u001b[0m \u001b[0mpath\u001b[0m\u001b[1;33m)\u001b[0m\u001b[1;33m\u001b[0m\u001b[1;33m\u001b[0m\u001b[0m\n\u001b[0m\u001b[0;32m    624\u001b[0m \u001b[1;33m\u001b[0m\u001b[0m\n\u001b[0;32m    625\u001b[0m \u001b[1;33m\u001b[0m\u001b[0m\n",
         "\u001b[1;31mOSError\u001b[0m: data/feature_extraction/nmf_document_topics_45.csv not found."
        ]
       }
      ],
      "source": "import pandas as pd\nimport numpy as np\nimport ranking_functions as rf\nimport importlib\nfrom scipy.sparse import csr_matrix\nimportlib.reload(rf)\n\nfeatures_nmf = np.loadtxt(\"data/feature_extraction/nmf_document_topics_45.csv\", delimiter=\",\", usecols=range(2,51))\nfeatures_lda = np.loadtxt(\"data/feature_extraction/nmf_document_topics_45.csv\", delimiter=\",\", usecols=range(2,51))\nrepository_info = pd.read_csv(\"../data/processed/final_repo_english_whatwhy.csv\")\n#features_lda = pd.read_csv(\"../data/feature_extraction/...).to_numpy()\n#features_embedding = pd.read_csv(\"../data/feature_extraction/...).to_numpy()",
      "start_time": "2020-04-06T12:31:41.094Z"
     },
     {
      "end_time": "2020-04-06T12:33:18.713Z",
      "execution_time": "2.59s",
      "outputs": [
       {
        "ename": "IndexError",
        "evalue": "list index out of range",
        "output_type": "error",
        "traceback": [
         "\u001b[1;31m---------------------------------------------------------------------------\u001b[0m",
         "\u001b[1;31mIndexError\u001b[0m                                Traceback (most recent call last)",
         "\u001b[1;32m<ipython-input-7-fb6d95d79faa>\u001b[0m in \u001b[0;36m<module>\u001b[1;34m\u001b[0m\n\u001b[0;32m      6\u001b[0m \u001b[0mimportlib\u001b[0m\u001b[1;33m.\u001b[0m\u001b[0mreload\u001b[0m\u001b[1;33m(\u001b[0m\u001b[0mrf\u001b[0m\u001b[1;33m)\u001b[0m\u001b[1;33m\u001b[0m\u001b[1;33m\u001b[0m\u001b[0m\n\u001b[0;32m      7\u001b[0m \u001b[1;33m\u001b[0m\u001b[0m\n\u001b[1;32m----> 8\u001b[1;33m \u001b[0mfeatures_nmf\u001b[0m \u001b[1;33m=\u001b[0m \u001b[0mnp\u001b[0m\u001b[1;33m.\u001b[0m\u001b[0mloadtxt\u001b[0m\u001b[1;33m(\u001b[0m\u001b[1;34m\"../data/feature_extraction/nmf/nmf_document_topics_45.csv\"\u001b[0m\u001b[1;33m,\u001b[0m \u001b[0mdelimiter\u001b[0m\u001b[1;33m=\u001b[0m\u001b[1;34m\",\"\u001b[0m\u001b[1;33m,\u001b[0m \u001b[0musecols\u001b[0m\u001b[1;33m=\u001b[0m\u001b[0mrange\u001b[0m\u001b[1;33m(\u001b[0m\u001b[1;36m2\u001b[0m\u001b[1;33m,\u001b[0m\u001b[1;36m51\u001b[0m\u001b[1;33m)\u001b[0m\u001b[1;33m)\u001b[0m\u001b[1;33m\u001b[0m\u001b[1;33m\u001b[0m\u001b[0m\n\u001b[0m\u001b[0;32m      9\u001b[0m \u001b[0mfeatures_lda\u001b[0m \u001b[1;33m=\u001b[0m \u001b[0mnp\u001b[0m\u001b[1;33m.\u001b[0m\u001b[0mloadtxt\u001b[0m\u001b[1;33m(\u001b[0m\u001b[1;34m\"../data/feature_extraction/lda/ldamallet_document_topics_45.csv\"\u001b[0m\u001b[1;33m,\u001b[0m \u001b[0mdelimiter\u001b[0m\u001b[1;33m=\u001b[0m\u001b[1;34m\",\"\u001b[0m\u001b[1;33m,\u001b[0m \u001b[0musecols\u001b[0m\u001b[1;33m=\u001b[0m\u001b[0mrange\u001b[0m\u001b[1;33m(\u001b[0m\u001b[1;36m2\u001b[0m\u001b[1;33m,\u001b[0m\u001b[1;36m51\u001b[0m\u001b[1;33m)\u001b[0m\u001b[1;33m)\u001b[0m\u001b[1;33m\u001b[0m\u001b[1;33m\u001b[0m\u001b[0m\n\u001b[0;32m     10\u001b[0m \u001b[0mrepository_info\u001b[0m \u001b[1;33m=\u001b[0m \u001b[0mpd\u001b[0m\u001b[1;33m.\u001b[0m\u001b[0mread_csv\u001b[0m\u001b[1;33m(\u001b[0m\u001b[1;34m\"../data/processed/final_repo_english_whatwhy.csv\"\u001b[0m\u001b[1;33m)\u001b[0m\u001b[1;33m\u001b[0m\u001b[1;33m\u001b[0m\u001b[0m\n",
         "\u001b[1;32m~\\AppData\\Roaming\\Python\\Python37\\site-packages\\numpy\\lib\\npyio.py\u001b[0m in \u001b[0;36mloadtxt\u001b[1;34m(fname, dtype, comments, delimiter, converters, skiprows, usecols, unpack, ndmin, encoding, max_rows)\u001b[0m\n\u001b[0;32m   1157\u001b[0m         \u001b[1;31m# converting the data\u001b[0m\u001b[1;33m\u001b[0m\u001b[1;33m\u001b[0m\u001b[1;33m\u001b[0m\u001b[0m\n\u001b[0;32m   1158\u001b[0m         \u001b[0mX\u001b[0m \u001b[1;33m=\u001b[0m \u001b[1;32mNone\u001b[0m\u001b[1;33m\u001b[0m\u001b[1;33m\u001b[0m\u001b[0m\n\u001b[1;32m-> 1159\u001b[1;33m         \u001b[1;32mfor\u001b[0m \u001b[0mx\u001b[0m \u001b[1;32min\u001b[0m \u001b[0mread_data\u001b[0m\u001b[1;33m(\u001b[0m\u001b[0m_loadtxt_chunksize\u001b[0m\u001b[1;33m)\u001b[0m\u001b[1;33m:\u001b[0m\u001b[1;33m\u001b[0m\u001b[1;33m\u001b[0m\u001b[0m\n\u001b[0m\u001b[0;32m   1160\u001b[0m             \u001b[1;32mif\u001b[0m \u001b[0mX\u001b[0m \u001b[1;32mis\u001b[0m \u001b[1;32mNone\u001b[0m\u001b[1;33m:\u001b[0m\u001b[1;33m\u001b[0m\u001b[1;33m\u001b[0m\u001b[0m\n\u001b[0;32m   1161\u001b[0m                 \u001b[0mX\u001b[0m \u001b[1;33m=\u001b[0m \u001b[0mnp\u001b[0m\u001b[1;33m.\u001b[0m\u001b[0marray\u001b[0m\u001b[1;33m(\u001b[0m\u001b[0mx\u001b[0m\u001b[1;33m,\u001b[0m \u001b[0mdtype\u001b[0m\u001b[1;33m)\u001b[0m\u001b[1;33m\u001b[0m\u001b[1;33m\u001b[0m\u001b[0m\n",
         "\u001b[1;32m~\\AppData\\Roaming\\Python\\Python37\\site-packages\\numpy\\lib\\npyio.py\u001b[0m in \u001b[0;36mread_data\u001b[1;34m(chunk_size)\u001b[0m\n\u001b[0;32m   1078\u001b[0m                 \u001b[1;32mcontinue\u001b[0m\u001b[1;33m\u001b[0m\u001b[1;33m\u001b[0m\u001b[0m\n\u001b[0;32m   1079\u001b[0m             \u001b[1;32mif\u001b[0m \u001b[0musecols\u001b[0m\u001b[1;33m:\u001b[0m\u001b[1;33m\u001b[0m\u001b[1;33m\u001b[0m\u001b[0m\n\u001b[1;32m-> 1080\u001b[1;33m                 \u001b[0mvals\u001b[0m \u001b[1;33m=\u001b[0m \u001b[1;33m[\u001b[0m\u001b[0mvals\u001b[0m\u001b[1;33m[\u001b[0m\u001b[0mj\u001b[0m\u001b[1;33m]\u001b[0m \u001b[1;32mfor\u001b[0m \u001b[0mj\u001b[0m \u001b[1;32min\u001b[0m \u001b[0musecols\u001b[0m\u001b[1;33m]\u001b[0m\u001b[1;33m\u001b[0m\u001b[1;33m\u001b[0m\u001b[0m\n\u001b[0m\u001b[0;32m   1081\u001b[0m             \u001b[1;32mif\u001b[0m \u001b[0mlen\u001b[0m\u001b[1;33m(\u001b[0m\u001b[0mvals\u001b[0m\u001b[1;33m)\u001b[0m \u001b[1;33m!=\u001b[0m \u001b[0mN\u001b[0m\u001b[1;33m:\u001b[0m\u001b[1;33m\u001b[0m\u001b[1;33m\u001b[0m\u001b[0m\n\u001b[0;32m   1082\u001b[0m                 \u001b[0mline_num\u001b[0m \u001b[1;33m=\u001b[0m \u001b[0mi\u001b[0m \u001b[1;33m+\u001b[0m \u001b[0mskiprows\u001b[0m \u001b[1;33m+\u001b[0m \u001b[1;36m1\u001b[0m\u001b[1;33m\u001b[0m\u001b[1;33m\u001b[0m\u001b[0m\n",
         "\u001b[1;32m~\\AppData\\Roaming\\Python\\Python37\\site-packages\\numpy\\lib\\npyio.py\u001b[0m in \u001b[0;36m<listcomp>\u001b[1;34m(.0)\u001b[0m\n\u001b[0;32m   1078\u001b[0m                 \u001b[1;32mcontinue\u001b[0m\u001b[1;33m\u001b[0m\u001b[1;33m\u001b[0m\u001b[0m\n\u001b[0;32m   1079\u001b[0m             \u001b[1;32mif\u001b[0m \u001b[0musecols\u001b[0m\u001b[1;33m:\u001b[0m\u001b[1;33m\u001b[0m\u001b[1;33m\u001b[0m\u001b[0m\n\u001b[1;32m-> 1080\u001b[1;33m                 \u001b[0mvals\u001b[0m \u001b[1;33m=\u001b[0m \u001b[1;33m[\u001b[0m\u001b[0mvals\u001b[0m\u001b[1;33m[\u001b[0m\u001b[0mj\u001b[0m\u001b[1;33m]\u001b[0m \u001b[1;32mfor\u001b[0m \u001b[0mj\u001b[0m \u001b[1;32min\u001b[0m \u001b[0musecols\u001b[0m\u001b[1;33m]\u001b[0m\u001b[1;33m\u001b[0m\u001b[1;33m\u001b[0m\u001b[0m\n\u001b[0m\u001b[0;32m   1081\u001b[0m             \u001b[1;32mif\u001b[0m \u001b[0mlen\u001b[0m\u001b[1;33m(\u001b[0m\u001b[0mvals\u001b[0m\u001b[1;33m)\u001b[0m \u001b[1;33m!=\u001b[0m \u001b[0mN\u001b[0m\u001b[1;33m:\u001b[0m\u001b[1;33m\u001b[0m\u001b[1;33m\u001b[0m\u001b[0m\n\u001b[0;32m   1082\u001b[0m                 \u001b[0mline_num\u001b[0m \u001b[1;33m=\u001b[0m \u001b[0mi\u001b[0m \u001b[1;33m+\u001b[0m \u001b[0mskiprows\u001b[0m \u001b[1;33m+\u001b[0m \u001b[1;36m1\u001b[0m\u001b[1;33m\u001b[0m\u001b[1;33m\u001b[0m\u001b[0m\n",
         "\u001b[1;31mIndexError\u001b[0m: list index out of range"
        ]
       }
      ],
      "source": "import pandas as pd\nimport numpy as np\nimport ranking_functions as rf\nimport importlib\nfrom scipy.sparse import csr_matrix\nimportlib.reload(rf)\n\nfeatures_nmf = np.loadtxt(\"../data/feature_extraction/nmf/nmf_document_topics_45.csv\", delimiter=\",\", usecols=range(2,51))\nfeatures_lda = np.loadtxt(\"../data/feature_extraction/lda/ldamallet_document_topics_45.csv\", delimiter=\",\", usecols=range(2,51))\nrepository_info = pd.read_csv(\"../data/processed/final_repo_english_whatwhy.csv\")\n#features_lda = pd.read_csv(\"../data/feature_extraction/...).to_numpy()\n#features_embedding = pd.read_csv(\"../data/feature_extraction/...).to_numpy()",
      "start_time": "2020-04-06T12:33:16.119Z"
     },
     {
      "end_time": "2020-04-06T12:39:17.201Z",
      "execution_time": "4m 41s",
      "outputs": [],
      "source": "import pandas as pd\nimport numpy as np\nimport ranking_functions as rf\nimport importlib\nfrom scipy.sparse import csr_matrix\nimportlib.reload(rf)\n\nfeatures_nmf = np.loadtxt(\"../data/feature_extraction/nmf/nmf_document_topics_45.csv\", delimiter=\",\", usecols=range(2,46))\nfeatures_lda = np.loadtxt(\"../data/feature_extraction/lda/ldamallet_document_topics_45.csv\", delimiter=\",\", usecols=range(2,46))\nrepository_info = pd.read_csv(\"../data/processed/final_repo_english_whatwhy.csv\")\n#features_lda = pd.read_csv(\"../data/feature_extraction/...).to_numpy()\n#features_embedding = pd.read_csv(\"../data/feature_extraction/...).to_numpy()",
      "start_time": "2020-04-06T12:34:36.655Z"
     },
     {
      "end_time": "2020-04-06T13:06:07.799Z",
      "execution_time": "6m 19s",
      "outputs": [],
      "source": "import pandas as pd\nimport numpy as np\nimport ranking_functions as rf\nimport importlib\nfrom scipy.sparse import csr_matrix\nimportlib.reload(rf)\n\nfeatures_nmf = np.loadtxt(\"../data/feature_extraction/nmf/nmf_document_topics_45.csv\", \n                          skiprows=1, delimiter=\",\", usecols=range(2,47))\nfeatures_lda = np.loadtxt(\"../data/feature_extraction/lda/ldamallet_document_topics_45.csv\", \n                          skiprows=1, delimiter=\",\", usecols=range(2,47))\nrepository_info = pd.read_csv(\"../data/processed/final_repo_english_whatwhy.csv\")\n#features_lda = pd.read_csv(\"../data/feature_extraction/...).to_numpy()\n#features_embedding = pd.read_csv(\"../data/feature_extraction/...).to_numpy()",
      "start_time": "2020-04-06T12:59:49.095Z"
     },
     {
      "end_time": "2020-04-07T12:08:09.575Z",
      "execution_time": "4m 8s",
      "outputs": [],
      "source": "import pandas as pd\nimport numpy as np\nimport ranking_functions as rf\nimport importlib\nfrom scipy.sparse import csr_matrix\nimportlib.reload(rf)\n\nfeatures_nmf = np.loadtxt(\"../data/feature_extraction/nmf/nmf_document_topics_45.csv\", \n                          skiprows=1, delimiter=\",\", usecols=range(2,47))\nfeatures_lda = np.loadtxt(\"../data/feature_extraction/lda/ldamallet_document_topics_45.csv\", \n                          skiprows=1, delimiter=\",\", usecols=range(2,47))\nrepository_info = pd.read_csv(\"../data/processed/final_repo_english_whatwhy.csv\")\n#features_lda = pd.read_csv(\"../data/feature_extraction/...).to_numpy()\n#features_embedding = pd.read_csv(\"../data/feature_extraction/...).to_numpy()",
      "start_time": "2020-04-07T12:04:01.950Z"
     },
     {
      "end_time": "2020-04-09T14:41:21.811Z",
      "execution_time": "2m 47s",
      "outputs": [],
      "source": "import pandas as pd\nimport numpy as np\nimport ranking_functions as rf\nimport importlib\nfrom scipy.sparse import csr_matrix\nimportlib.reload(rf)\n\nfeatures_nmf = np.loadtxt(\"../data/feature_extraction/nmf/nmf_document_topics_85.csv\", \n                          skiprows=1, delimiter=\",\", usecols=range(2,47))\nfeatures_lda = np.loadtxt(\"../data/feature_extraction/lda/ldamallet_document_topics_85.csv\", \n                          skiprows=1, delimiter=\",\", usecols=range(2,47))\nrepository_info = pd.read_csv(\"../data/processed/final_repo_english_whatwhy.csv\")\n#features_lda = pd.read_csv(\"../data/feature_extraction/...).to_numpy()\n#features_embedding = pd.read_csv(\"../data/feature_extraction/...).to_numpy()",
      "start_time": "2020-04-09T14:38:34.888Z"
     },
     {
      "end_time": "2020-04-23T13:33:49.048Z",
      "execution_time": "2m 59s",
      "outputs": [],
      "source": "import pandas as pd\nimport numpy as np\nimport ranking_functions as rf\nimport importlib\nfrom scipy.sparse import csr_matrix\nimportlib.reload(rf)\n\nfeatures_nmf = np.loadtxt(\"../data/feature_extraction/nmf/nmf_document_topics_45.csv\", \n                          skiprows=1, delimiter=\",\", usecols=range(2,47))\nfeatures_lda = np.loadtxt(\"../data/feature_extraction/lda/ldamallet_document_topics_45.csv\", \n                          skiprows=1, delimiter=\",\", usecols=range(2,47))\nrepository_info = pd.read_csv(\"../data/processed/final_repo_english_whatwhy.csv\")",
      "start_time": "2020-04-23T13:30:50.432Z"
     }
    ]
   },
   "outputs": [
    {
     "name": "stdout",
     "output_type": "stream",
     "text": [
      "C:\\Users\\elba_ro\\Documents\\dlr_projects\\repository-synergy\\code\n"
     ]
    }
   ],
   "source": [
    "import pandas as pd\n",
    "import numpy as np\n",
    "import importlib\n",
    "import os\n",
    "\n",
    "current_dir = os.getcwd()\n",
    "%cd ..\n",
    "import textmining.ranking_functions as rf\n",
    "importlib.reload(rf)\n",
    "os.chdir(current_dir)\n",
    "\n",
    "from scipy.sparse import csr_matrix\n",
    "\n"
   ]
  },
  {
   "cell_type": "code",
   "execution_count": 2,
   "metadata": {},
   "outputs": [
    {
     "ename": "OSError",
     "evalue": "../../data/feature_extraction/nmf/nmf_document_topics_45.csv not found.",
     "output_type": "error",
     "traceback": [
      "\u001b[1;31m---------------------------------------------------------------------------\u001b[0m",
      "\u001b[1;31mOSError\u001b[0m                                   Traceback (most recent call last)",
      "\u001b[1;32m<ipython-input-2-6c56ba24b9b0>\u001b[0m in \u001b[0;36m<module>\u001b[1;34m\u001b[0m\n\u001b[0;32m      1\u001b[0m \u001b[1;31m# NOTE: UNZIP the folder ../../data/feature_extraction before loading\u001b[0m\u001b[1;33m\u001b[0m\u001b[1;33m\u001b[0m\u001b[1;33m\u001b[0m\u001b[0m\n\u001b[0;32m      2\u001b[0m features_nmf = np.loadtxt(\"../../data/feature_extraction/nmf/nmf_document_topics_45.csv\", \n\u001b[1;32m----> 3\u001b[1;33m                           skiprows=1, delimiter=\",\", usecols=range(2,47))\n\u001b[0m\u001b[0;32m      4\u001b[0m features_lda = np.loadtxt(\"../../data/feature_extraction/lda/ldamallet_document_topics_45.csv\", \n\u001b[0;32m      5\u001b[0m                           skiprows=1, delimiter=\",\", usecols=range(2,47))\n",
      "\u001b[1;32mc:\\programdata\\miniconda3\\lib\\site-packages\\numpy\\lib\\npyio.py\u001b[0m in \u001b[0;36mloadtxt\u001b[1;34m(fname, dtype, comments, delimiter, converters, skiprows, usecols, unpack, ndmin, encoding, max_rows)\u001b[0m\n\u001b[0;32m    959\u001b[0m             \u001b[0mfname\u001b[0m \u001b[1;33m=\u001b[0m \u001b[0mos_fspath\u001b[0m\u001b[1;33m(\u001b[0m\u001b[0mfname\u001b[0m\u001b[1;33m)\u001b[0m\u001b[1;33m\u001b[0m\u001b[1;33m\u001b[0m\u001b[0m\n\u001b[0;32m    960\u001b[0m         \u001b[1;32mif\u001b[0m \u001b[0m_is_string_like\u001b[0m\u001b[1;33m(\u001b[0m\u001b[0mfname\u001b[0m\u001b[1;33m)\u001b[0m\u001b[1;33m:\u001b[0m\u001b[1;33m\u001b[0m\u001b[1;33m\u001b[0m\u001b[0m\n\u001b[1;32m--> 961\u001b[1;33m             \u001b[0mfh\u001b[0m \u001b[1;33m=\u001b[0m \u001b[0mnp\u001b[0m\u001b[1;33m.\u001b[0m\u001b[0mlib\u001b[0m\u001b[1;33m.\u001b[0m\u001b[0m_datasource\u001b[0m\u001b[1;33m.\u001b[0m\u001b[0mopen\u001b[0m\u001b[1;33m(\u001b[0m\u001b[0mfname\u001b[0m\u001b[1;33m,\u001b[0m \u001b[1;34m'rt'\u001b[0m\u001b[1;33m,\u001b[0m \u001b[0mencoding\u001b[0m\u001b[1;33m=\u001b[0m\u001b[0mencoding\u001b[0m\u001b[1;33m)\u001b[0m\u001b[1;33m\u001b[0m\u001b[1;33m\u001b[0m\u001b[0m\n\u001b[0m\u001b[0;32m    962\u001b[0m             \u001b[0mfencoding\u001b[0m \u001b[1;33m=\u001b[0m \u001b[0mgetattr\u001b[0m\u001b[1;33m(\u001b[0m\u001b[0mfh\u001b[0m\u001b[1;33m,\u001b[0m \u001b[1;34m'encoding'\u001b[0m\u001b[1;33m,\u001b[0m \u001b[1;34m'latin1'\u001b[0m\u001b[1;33m)\u001b[0m\u001b[1;33m\u001b[0m\u001b[1;33m\u001b[0m\u001b[0m\n\u001b[0;32m    963\u001b[0m             \u001b[0mfh\u001b[0m \u001b[1;33m=\u001b[0m \u001b[0miter\u001b[0m\u001b[1;33m(\u001b[0m\u001b[0mfh\u001b[0m\u001b[1;33m)\u001b[0m\u001b[1;33m\u001b[0m\u001b[1;33m\u001b[0m\u001b[0m\n",
      "\u001b[1;32mc:\\programdata\\miniconda3\\lib\\site-packages\\numpy\\lib\\_datasource.py\u001b[0m in \u001b[0;36mopen\u001b[1;34m(path, mode, destpath, encoding, newline)\u001b[0m\n\u001b[0;32m    193\u001b[0m \u001b[1;33m\u001b[0m\u001b[0m\n\u001b[0;32m    194\u001b[0m     \u001b[0mds\u001b[0m \u001b[1;33m=\u001b[0m \u001b[0mDataSource\u001b[0m\u001b[1;33m(\u001b[0m\u001b[0mdestpath\u001b[0m\u001b[1;33m)\u001b[0m\u001b[1;33m\u001b[0m\u001b[1;33m\u001b[0m\u001b[0m\n\u001b[1;32m--> 195\u001b[1;33m     \u001b[1;32mreturn\u001b[0m \u001b[0mds\u001b[0m\u001b[1;33m.\u001b[0m\u001b[0mopen\u001b[0m\u001b[1;33m(\u001b[0m\u001b[0mpath\u001b[0m\u001b[1;33m,\u001b[0m \u001b[0mmode\u001b[0m\u001b[1;33m,\u001b[0m \u001b[0mencoding\u001b[0m\u001b[1;33m=\u001b[0m\u001b[0mencoding\u001b[0m\u001b[1;33m,\u001b[0m \u001b[0mnewline\u001b[0m\u001b[1;33m=\u001b[0m\u001b[0mnewline\u001b[0m\u001b[1;33m)\u001b[0m\u001b[1;33m\u001b[0m\u001b[1;33m\u001b[0m\u001b[0m\n\u001b[0m\u001b[0;32m    196\u001b[0m \u001b[1;33m\u001b[0m\u001b[0m\n\u001b[0;32m    197\u001b[0m \u001b[1;33m\u001b[0m\u001b[0m\n",
      "\u001b[1;32mc:\\programdata\\miniconda3\\lib\\site-packages\\numpy\\lib\\_datasource.py\u001b[0m in \u001b[0;36mopen\u001b[1;34m(self, path, mode, encoding, newline)\u001b[0m\n\u001b[0;32m    533\u001b[0m                                       encoding=encoding, newline=newline)\n\u001b[0;32m    534\u001b[0m         \u001b[1;32melse\u001b[0m\u001b[1;33m:\u001b[0m\u001b[1;33m\u001b[0m\u001b[1;33m\u001b[0m\u001b[0m\n\u001b[1;32m--> 535\u001b[1;33m             \u001b[1;32mraise\u001b[0m \u001b[0mIOError\u001b[0m\u001b[1;33m(\u001b[0m\u001b[1;34m\"%s not found.\"\u001b[0m \u001b[1;33m%\u001b[0m \u001b[0mpath\u001b[0m\u001b[1;33m)\u001b[0m\u001b[1;33m\u001b[0m\u001b[1;33m\u001b[0m\u001b[0m\n\u001b[0m\u001b[0;32m    536\u001b[0m \u001b[1;33m\u001b[0m\u001b[0m\n\u001b[0;32m    537\u001b[0m \u001b[1;33m\u001b[0m\u001b[0m\n",
      "\u001b[1;31mOSError\u001b[0m: ../../data/feature_extraction/nmf/nmf_document_topics_45.csv not found."
     ]
    }
   ],
   "source": [
    "# NOTE: UNZIP the folder ../../data/feature_extraction before loading \n",
    "features_nmf = np.loadtxt(\"../../data/feature_extraction/nmf/nmf_document_topics_45.csv\", \n",
    "                          skiprows=1, delimiter=\",\", usecols=range(2,47))\n",
    "features_lda = np.loadtxt(\"../../data/feature_extraction/lda/ldamallet_document_topics_45.csv\", \n",
    "                          skiprows=1, delimiter=\",\", usecols=range(2,47))\n",
    "repository_info = pd.read_csv(\"../../data/processed/final_repo_english_whatwhy.csv\")"
   ]
  },
  {
   "cell_type": "markdown",
   "metadata": {
    "provenance": [
     {
      "last_modified": "2020-03-24T13:59:49.347Z",
      "source": "# Ranking of repository pairs"
     },
     {
      "last_modified": "2020-03-24T16:20:50.575Z",
      "source": "# Ranking of repository pairs"
     },
     {
      "last_modified": "2020-03-24T16:21:47.207Z",
      "source": "# Ranking of repository pairs"
     },
     {
      "last_modified": "2020-03-24T16:21:55.987Z",
      "source": "# Ranking of repository pairs"
     },
     {
      "last_modified": "2020-04-06T12:00:25.482Z",
      "source": "# Ranking of repository pairs"
     },
     {
      "last_modified": "2020-04-06T12:00:56.100Z",
      "source": "# Ranking of repository pairs"
     },
     {
      "last_modified": "2020-04-06T12:30:36.125Z",
      "source": "# Ranking of repository pairs"
     },
     {
      "last_modified": "2020-04-06T12:31:39.245Z",
      "source": "# Ranking of repository pairs"
     },
     {
      "last_modified": "2020-04-06T12:33:14.552Z",
      "source": "# Ranking of repository pairs"
     },
     {
      "last_modified": "2020-04-06T12:34:34.425Z",
      "source": "# Ranking of repository pairs"
     },
     {
      "last_modified": "2020-04-06T12:59:47.165Z",
      "source": "# Ranking of repository pairs"
     },
     {
      "last_modified": "2020-04-06T13:24:51.145Z",
      "source": "# Ranking of repository pairs"
     },
     {
      "last_modified": "2020-04-06T13:25:07.686Z",
      "source": "# Ranking of repository pairs"
     },
     {
      "last_modified": "2020-04-06T13:26:59.305Z",
      "source": "# Ranking of repository pairs"
     },
     {
      "last_modified": "2020-04-06T13:27:17.765Z",
      "source": "# Ranking of repository pairs"
     },
     {
      "last_modified": "2020-04-06T13:29:00.700Z",
      "source": "# Ranking of repository pairs"
     },
     {
      "last_modified": "2020-04-06T13:33:45.945Z",
      "source": "# Ranking of repository pairs"
     },
     {
      "last_modified": "2020-04-06T13:34:33.354Z",
      "source": "# Ranking of repository pairs"
     },
     {
      "last_modified": "2020-04-06T13:35:13.305Z",
      "source": "# Ranking of repository pairs"
     },
     {
      "last_modified": "2020-04-06T13:40:52.266Z",
      "source": "# Ranking of repository pairs"
     },
     {
      "last_modified": "2020-04-06T13:42:46.605Z",
      "source": "# Ranking of repository pairs"
     },
     {
      "last_modified": "2020-04-06T13:43:18.425Z",
      "source": "# Ranking of repository pairs"
     },
     {
      "last_modified": "2020-04-06T13:43:40.785Z",
      "source": "# Ranking of repository pairs"
     },
     {
      "last_modified": "2020-04-06T13:44:19.445Z",
      "source": "# Ranking of repository pairs"
     },
     {
      "last_modified": "2020-04-06T13:45:53.054Z",
      "source": "# Ranking of repository pairs"
     },
     {
      "last_modified": "2020-04-06T13:50:01.461Z",
      "source": "# Ranking of repository pairs"
     },
     {
      "last_modified": "2020-04-06T13:50:34.565Z",
      "source": "# Ranking of repository pairs"
     },
     {
      "last_modified": "2020-04-06T14:05:27.513Z",
      "source": "# Ranking of repository pairs"
     },
     {
      "last_modified": "2020-04-06T14:07:25.685Z",
      "source": "# Ranking of repository pairs"
     },
     {
      "last_modified": "2020-04-06T14:10:25.293Z",
      "source": "# Ranking of repository pairs"
     },
     {
      "last_modified": "2020-04-06T14:15:20.405Z",
      "source": "# Ranking of repository pairs"
     },
     {
      "last_modified": "2020-04-06T14:22:36.373Z",
      "source": "# Ranking of repository pairs"
     },
     {
      "last_modified": "2020-04-06T14:22:59.573Z",
      "source": "# Ranking of repository pairs"
     },
     {
      "last_modified": "2020-04-06T14:29:38.386Z",
      "source": "# Ranking of repository pairs"
     },
     {
      "last_modified": "2020-04-06T14:30:31.915Z",
      "source": "# Ranking of repository pairs"
     },
     {
      "last_modified": "2020-04-06T14:31:28.845Z",
      "source": "# Ranking of repository pairs"
     },
     {
      "last_modified": "2020-04-06T14:31:43.913Z",
      "source": "# Ranking of repository pairs"
     },
     {
      "last_modified": "2020-04-06T14:33:43.145Z",
      "source": "# Ranking of repository pairs"
     },
     {
      "last_modified": "2020-04-06T14:41:48.269Z",
      "source": "# Ranking of repository pairs"
     },
     {
      "last_modified": "2020-04-06T14:48:42.313Z",
      "source": "# Ranking of repository pairs"
     },
     {
      "last_modified": "2020-04-06T14:51:08.073Z",
      "source": "# Ranking of repository pairs"
     },
     {
      "last_modified": "2020-04-06T14:52:48.245Z",
      "source": "# Ranking of repository pairs"
     },
     {
      "last_modified": "2020-04-06T14:54:04.105Z",
      "source": "# Ranking of repository pairs"
     },
     {
      "last_modified": "2020-04-06T14:55:31.025Z",
      "source": "# Ranking of repository pairs"
     },
     {
      "last_modified": "2020-04-06T15:02:21.425Z",
      "source": "# Ranking of repository pairs"
     },
     {
      "last_modified": "2020-04-06T15:09:04.497Z",
      "source": "# Ranking of repository pairs"
     },
     {
      "last_modified": "2020-04-06T15:09:51.225Z",
      "source": "# Ranking of repository pairs"
     },
     {
      "last_modified": "2020-04-06T15:14:35.645Z",
      "source": "# Ranking of repository pairs"
     },
     {
      "last_modified": "2020-04-06T15:16:11.321Z",
      "source": "# Ranking of repository pairs"
     },
     {
      "last_modified": "2020-04-06T15:26:29.957Z",
      "source": "# Ranking of repository pairs"
     },
     {
      "last_modified": "2020-04-06T15:41:08.226Z",
      "source": "# Ranking of repository pairs"
     },
     {
      "last_modified": "2020-04-07T10:02:39.252Z",
      "source": "# Ranking of repository pairs"
     },
     {
      "last_modified": "2020-04-07T10:13:10.792Z",
      "source": "# Ranking of repository pairs"
     },
     {
      "last_modified": "2020-04-07T10:22:12.388Z",
      "source": "# Ranking of repository pairs"
     },
     {
      "last_modified": "2020-04-07T10:22:46.260Z",
      "source": "# Ranking of repository pairs"
     },
     {
      "last_modified": "2020-04-07T10:24:47.912Z",
      "source": "# Ranking of repository pairs"
     },
     {
      "last_modified": "2020-04-07T10:30:15.612Z",
      "source": "# Ranking of repository pairs"
     },
     {
      "last_modified": "2020-04-07T10:33:18.279Z",
      "source": "# Ranking of repository pairs"
     },
     {
      "last_modified": "2020-04-07T12:03:35.370Z",
      "source": "# Ranking of repository pairs"
     },
     {
      "last_modified": "2020-04-07T12:17:59.040Z",
      "source": "# Ranking of repository pairs"
     },
     {
      "last_modified": "2020-04-07T12:54:33.132Z",
      "source": "# Ranking of repository pairs"
     },
     {
      "last_modified": "2020-04-07T13:46:09.011Z",
      "source": "# Ranking of repository pairs"
     },
     {
      "last_modified": "2020-04-07T14:03:27.879Z",
      "source": "# Ranking of repository pairs"
     },
     {
      "last_modified": "2020-04-07T14:04:38.831Z",
      "source": "# Ranking of repository pairs"
     },
     {
      "last_modified": "2020-04-07T14:19:13.779Z",
      "source": "# Ranking of repository pairs"
     },
     {
      "last_modified": "2020-04-08T11:33:25.208Z",
      "source": "# Ranking of repository pairs"
     }
    ]
   },
   "source": [
    "# Ranking of repository pairs"
   ]
  },
  {
   "cell_type": "markdown",
   "metadata": {
    "provenance": [
     {
      "last_modified": "2020-03-24T13:59:49.347Z",
      "source": "## Multiplicative ranking"
     },
     {
      "last_modified": "2020-03-24T16:20:50.575Z",
      "source": "## Multiplicative ranking"
     },
     {
      "last_modified": "2020-03-24T16:21:47.207Z",
      "source": "## Multiplicative ranking"
     },
     {
      "last_modified": "2020-03-24T16:21:55.987Z",
      "source": "## Multiplicative ranking"
     },
     {
      "last_modified": "2020-04-06T12:00:25.482Z",
      "source": "## Multiplicative ranking"
     },
     {
      "last_modified": "2020-04-06T12:00:56.100Z",
      "source": "## Multiplicative ranking"
     },
     {
      "last_modified": "2020-04-06T12:30:36.125Z",
      "source": "## Multiplicative ranking"
     },
     {
      "last_modified": "2020-04-06T12:31:39.245Z",
      "source": "## Multiplicative ranking"
     },
     {
      "last_modified": "2020-04-06T12:33:14.552Z",
      "source": "## Multiplicative ranking"
     },
     {
      "last_modified": "2020-04-06T12:34:34.425Z",
      "source": "## Multiplicative ranking"
     },
     {
      "last_modified": "2020-04-06T12:59:47.165Z",
      "source": "## Multiplicative ranking"
     },
     {
      "last_modified": "2020-04-06T13:24:51.145Z",
      "source": "## Multiplicative ranking"
     },
     {
      "last_modified": "2020-04-06T13:25:07.686Z",
      "source": "## Multiplicative ranking"
     },
     {
      "last_modified": "2020-04-06T13:26:59.305Z",
      "source": "## Multiplicative ranking"
     },
     {
      "last_modified": "2020-04-06T13:27:17.765Z",
      "source": "## Multiplicative ranking"
     },
     {
      "last_modified": "2020-04-06T13:29:00.700Z",
      "source": "## Multiplicative ranking"
     },
     {
      "last_modified": "2020-04-06T13:33:45.945Z",
      "source": "## Multiplicative ranking"
     },
     {
      "last_modified": "2020-04-06T13:34:33.354Z",
      "source": "## Multiplicative ranking"
     },
     {
      "last_modified": "2020-04-06T13:35:13.305Z",
      "source": "## Multiplicative ranking"
     },
     {
      "last_modified": "2020-04-06T13:40:52.266Z",
      "source": "## Multiplicative ranking"
     },
     {
      "last_modified": "2020-04-06T13:42:46.605Z",
      "source": "## Multiplicative ranking"
     },
     {
      "last_modified": "2020-04-06T13:43:18.425Z",
      "source": "## Multiplicative ranking"
     },
     {
      "last_modified": "2020-04-06T13:43:40.785Z",
      "source": "## Multiplicative ranking"
     },
     {
      "last_modified": "2020-04-06T13:44:19.445Z",
      "source": "## Multiplicative ranking"
     },
     {
      "last_modified": "2020-04-06T13:45:53.054Z",
      "source": "## Multiplicative ranking"
     },
     {
      "last_modified": "2020-04-06T13:50:01.461Z",
      "source": "## Multiplicative ranking"
     },
     {
      "last_modified": "2020-04-06T13:50:34.565Z",
      "source": "## Multiplicative ranking"
     },
     {
      "last_modified": "2020-04-06T14:05:27.513Z",
      "source": "## Multiplicative ranking"
     },
     {
      "last_modified": "2020-04-06T14:07:25.685Z",
      "source": "## Multiplicative ranking"
     },
     {
      "last_modified": "2020-04-06T14:10:25.293Z",
      "source": "## Multiplicative ranking"
     },
     {
      "last_modified": "2020-04-06T14:15:20.405Z",
      "source": "## Multiplicative ranking"
     },
     {
      "last_modified": "2020-04-06T14:22:36.373Z",
      "source": "## Multiplicative ranking"
     },
     {
      "last_modified": "2020-04-06T14:22:59.573Z",
      "source": "## Multiplicative ranking"
     },
     {
      "last_modified": "2020-04-06T14:29:38.386Z",
      "source": "## Multiplicative ranking"
     },
     {
      "last_modified": "2020-04-06T14:30:31.915Z",
      "source": "## Multiplicative ranking"
     },
     {
      "last_modified": "2020-04-06T14:31:28.845Z",
      "source": "## Multiplicative ranking"
     },
     {
      "last_modified": "2020-04-06T14:31:43.913Z",
      "source": "## Multiplicative ranking"
     },
     {
      "last_modified": "2020-04-06T14:33:43.145Z",
      "source": "## Multiplicative ranking"
     },
     {
      "last_modified": "2020-04-06T14:41:48.269Z",
      "source": "## Multiplicative ranking"
     },
     {
      "last_modified": "2020-04-06T14:48:42.313Z",
      "source": "## Multiplicative ranking"
     },
     {
      "last_modified": "2020-04-06T14:51:08.073Z",
      "source": "## Multiplicative ranking"
     },
     {
      "last_modified": "2020-04-06T14:52:48.245Z",
      "source": "## Multiplicative ranking"
     },
     {
      "last_modified": "2020-04-06T14:54:04.105Z",
      "source": "## Multiplicative ranking"
     },
     {
      "last_modified": "2020-04-06T14:55:31.025Z",
      "source": "## Multiplicative ranking"
     },
     {
      "last_modified": "2020-04-06T15:02:21.425Z",
      "source": "## Multiplicative ranking"
     },
     {
      "last_modified": "2020-04-06T15:09:04.497Z",
      "source": "## Multiplicative ranking"
     },
     {
      "last_modified": "2020-04-06T15:09:51.225Z",
      "source": "## Multiplicative ranking"
     },
     {
      "last_modified": "2020-04-06T15:14:35.645Z",
      "source": "## Multiplicative ranking"
     },
     {
      "last_modified": "2020-04-06T15:16:11.321Z",
      "source": "## Multiplicative ranking"
     },
     {
      "last_modified": "2020-04-06T15:26:29.957Z",
      "source": "## Multiplicative ranking"
     },
     {
      "last_modified": "2020-04-06T15:41:08.226Z",
      "source": "## Multiplicative ranking"
     },
     {
      "last_modified": "2020-04-07T10:02:39.252Z",
      "source": "## Multiplicative ranking"
     },
     {
      "last_modified": "2020-04-07T10:13:10.792Z",
      "source": "## Multiplicative ranking"
     },
     {
      "last_modified": "2020-04-07T10:22:12.388Z",
      "source": "## Multiplicative ranking"
     },
     {
      "last_modified": "2020-04-07T10:22:46.260Z",
      "source": "## Multiplicative ranking"
     },
     {
      "last_modified": "2020-04-07T10:24:47.912Z",
      "source": "## Multiplicative ranking"
     },
     {
      "last_modified": "2020-04-07T10:30:15.612Z",
      "source": "## Multiplicative ranking"
     },
     {
      "last_modified": "2020-04-07T10:33:18.279Z",
      "source": "## Multiplicative ranking"
     },
     {
      "last_modified": "2020-04-07T12:03:35.370Z",
      "source": "## Multiplicative ranking"
     },
     {
      "last_modified": "2020-04-07T12:17:59.040Z",
      "source": "## Multiplicative ranking"
     },
     {
      "last_modified": "2020-04-07T12:54:33.132Z",
      "source": "## Multiplicative ranking"
     },
     {
      "last_modified": "2020-04-07T13:46:09.011Z",
      "source": "## Multiplicative ranking"
     },
     {
      "last_modified": "2020-04-07T14:03:27.879Z",
      "source": "## Multiplicative ranking"
     },
     {
      "last_modified": "2020-04-07T14:04:38.831Z",
      "source": "## Multiplicative ranking"
     },
     {
      "last_modified": "2020-04-07T14:19:13.779Z",
      "source": "## Multiplicative ranking"
     },
     {
      "last_modified": "2020-04-08T11:33:25.208Z",
      "source": "## Multiplicative ranking"
     }
    ]
   },
   "source": [
    "## Multiplicative ranking"
   ]
  },
  {
   "cell_type": "code",
   "execution_count": null,
   "metadata": {
    "ExecutionTime": {
     "end_time": "2020-04-09T14:43:36.680190Z",
     "start_time": "2020-04-09T14:41:21.811678Z"
    },
    "provenance": [
     {
      "end_time": "Unknown",
      "execution_time": "Unknown",
      "outputs": [
       {
        "name": "stderr",
        "output_type": "stream",
        "text": "H:\\Forschung\\Repository_Mining\\repo-miner\\notebooks\\ranking_functions.py:10: RuntimeWarning: invalid value encountered in true_divide\n  return (X.T / np.sum(X, axis=1)).T\n"
       }
      ],
      "source": "ranking_nmf_multiplicative = rf.rank_repositories(features_nmf, rf.rank_repositories_multiplicative)",
      "start_time": "Unknown"
     },
     {
      "end_time": "2020-03-25T08:35:38.157Z",
      "execution_time": "16h 8m 42s",
      "outputs": [
       {
        "name": "stderr",
        "output_type": "stream",
        "text": "H:\\Forschung\\Repository_Mining\\repo-miner\\notebooks\\ranking_functions.py:10: RuntimeWarning: invalid value encountered in true_divide\n  return np.nan_to_num((X.T / np.sum(X, axis=1)).T)\n"
       },
       {
        "ename": "MemoryError",
        "evalue": "",
        "output_type": "error",
        "traceback": [
         "\u001b[1;31m---------------------------------------------------------------------------\u001b[0m",
         "\u001b[1;31mMemoryError\u001b[0m                               Traceback (most recent call last)",
         "\u001b[1;32m<ipython-input-3-55ca1912e2b7>\u001b[0m in \u001b[0;36m<module>\u001b[1;34m\u001b[0m\n\u001b[1;32m----> 1\u001b[1;33m \u001b[0mranking_nmf_multiplicative\u001b[0m \u001b[1;33m=\u001b[0m \u001b[0mrf\u001b[0m\u001b[1;33m.\u001b[0m\u001b[0mrank_repositories\u001b[0m\u001b[1;33m(\u001b[0m\u001b[0mfeatures_nmf\u001b[0m\u001b[1;33m,\u001b[0m \u001b[0mrf\u001b[0m\u001b[1;33m.\u001b[0m\u001b[0mrank_repositories_multiplicative\u001b[0m\u001b[1;33m)\u001b[0m\u001b[1;33m\u001b[0m\u001b[1;33m\u001b[0m\u001b[0m\n\u001b[0m",
         "\u001b[1;32mH:\\Forschung\\Repository_Mining\\repo-miner\\notebooks\\ranking_functions.py\u001b[0m in \u001b[0;36mrank_repositories\u001b[1;34m(repo_feature_matrix, ranking_function, **kwargs)\u001b[0m\n\u001b[0;32m     26\u001b[0m     \u001b[0mcouplings\u001b[0m \u001b[1;33m=\u001b[0m \u001b[0mranking_function\u001b[0m\u001b[1;33m(\u001b[0m\u001b[0mX\u001b[0m\u001b[1;33m,\u001b[0m \u001b[0mXneg\u001b[0m\u001b[1;33m,\u001b[0m \u001b[0mM\u001b[0m\u001b[1;33m,\u001b[0m \u001b[0mO\u001b[0m\u001b[1;33m,\u001b[0m \u001b[1;33m**\u001b[0m\u001b[0mkwargs\u001b[0m\u001b[1;33m)\u001b[0m\u001b[1;33m\u001b[0m\u001b[1;33m\u001b[0m\u001b[0m\n\u001b[0;32m     27\u001b[0m     return [(np.floor(i / couplings.shape[1]), i % couplings.shape[1]) \n\u001b[1;32m---> 28\u001b[1;33m             for i in (-couplings).argsort(axis=None)]\n\u001b[0m",
         "\u001b[1;32mH:\\Forschung\\Repository_Mining\\repo-miner\\notebooks\\ranking_functions.py\u001b[0m in \u001b[0;36m<listcomp>\u001b[1;34m(.0)\u001b[0m\n\u001b[0;32m     26\u001b[0m     \u001b[0mcouplings\u001b[0m \u001b[1;33m=\u001b[0m \u001b[0mranking_function\u001b[0m\u001b[1;33m(\u001b[0m\u001b[0mX\u001b[0m\u001b[1;33m,\u001b[0m \u001b[0mXneg\u001b[0m\u001b[1;33m,\u001b[0m \u001b[0mM\u001b[0m\u001b[1;33m,\u001b[0m \u001b[0mO\u001b[0m\u001b[1;33m,\u001b[0m \u001b[1;33m**\u001b[0m\u001b[0mkwargs\u001b[0m\u001b[1;33m)\u001b[0m\u001b[1;33m\u001b[0m\u001b[1;33m\u001b[0m\u001b[0m\n\u001b[0;32m     27\u001b[0m     return [(np.floor(i / couplings.shape[1]), i % couplings.shape[1]) \n\u001b[1;32m---> 28\u001b[1;33m             for i in (-couplings).argsort(axis=None)]\n\u001b[0m",
         "\u001b[1;31mMemoryError\u001b[0m: "
        ]
       }
      ],
      "source": "ranking_nmf_multiplicative = rf.rank_repositories(features_nmf, rf.rank_repositories_multiplicative)",
      "start_time": "2020-03-24T16:26:56.178Z"
     },
     {
      "end_time": "2020-03-25T09:19:57.722Z",
      "execution_time": "1.78s",
      "outputs": [
       {
        "ename": "ValueError",
        "evalue": "operands could not be broadcast together with shapes (51,28932) (28932,1) ",
        "output_type": "error",
        "traceback": [
         "\u001b[1;31m---------------------------------------------------------------------------\u001b[0m",
         "\u001b[1;31mValueError\u001b[0m                                Traceback (most recent call last)",
         "\u001b[1;32m<ipython-input-7-55ca1912e2b7>\u001b[0m in \u001b[0;36m<module>\u001b[1;34m\u001b[0m\n\u001b[1;32m----> 1\u001b[1;33m \u001b[0mranking_nmf_multiplicative\u001b[0m \u001b[1;33m=\u001b[0m \u001b[0mrf\u001b[0m\u001b[1;33m.\u001b[0m\u001b[0mrank_repositories\u001b[0m\u001b[1;33m(\u001b[0m\u001b[0mfeatures_nmf\u001b[0m\u001b[1;33m,\u001b[0m \u001b[0mrf\u001b[0m\u001b[1;33m.\u001b[0m\u001b[0mrank_repositories_multiplicative\u001b[0m\u001b[1;33m)\u001b[0m\u001b[1;33m\u001b[0m\u001b[1;33m\u001b[0m\u001b[0m\n\u001b[0m",
         "\u001b[1;32mH:\\Forschung\\Repository_Mining\\repo-miner\\notebooks\\ranking_functions.py\u001b[0m in \u001b[0;36mrank_repositories\u001b[1;34m(repo_feature_matrix, ranking_function, **kwargs)\u001b[0m\n\u001b[0;32m     19\u001b[0m \u001b[1;33m\u001b[0m\u001b[0m\n\u001b[0;32m     20\u001b[0m \u001b[1;32mdef\u001b[0m \u001b[0mrank_repositories\u001b[0m\u001b[1;33m(\u001b[0m\u001b[0mrepo_feature_matrix\u001b[0m\u001b[1;33m,\u001b[0m \u001b[0mranking_function\u001b[0m\u001b[1;33m,\u001b[0m \u001b[1;33m**\u001b[0m\u001b[0mkwargs\u001b[0m\u001b[1;33m)\u001b[0m\u001b[1;33m:\u001b[0m\u001b[1;33m\u001b[0m\u001b[1;33m\u001b[0m\u001b[0m\n\u001b[1;32m---> 21\u001b[1;33m     \u001b[0mX\u001b[0m \u001b[1;33m=\u001b[0m \u001b[0mnormalise_matrix\u001b[0m\u001b[1;33m(\u001b[0m\u001b[0mrepo_feature_matrix\u001b[0m\u001b[1;33m)\u001b[0m\u001b[1;33m\u001b[0m\u001b[1;33m\u001b[0m\u001b[0m\n\u001b[0m\u001b[0;32m     22\u001b[0m     \u001b[0mM\u001b[0m \u001b[1;33m=\u001b[0m \u001b[0mnormalise_matrix\u001b[0m\u001b[1;33m(\u001b[0m\u001b[0mrepo_feature_matrix\u001b[0m\u001b[1;33m.\u001b[0m\u001b[0mT\u001b[0m\u001b[1;33m.\u001b[0m\u001b[0mdot\u001b[0m\u001b[1;33m(\u001b[0m\u001b[0mrepo_feature_matrix\u001b[0m\u001b[1;33m)\u001b[0m\u001b[1;33m)\u001b[0m\u001b[1;33m\u001b[0m\u001b[1;33m\u001b[0m\u001b[0m\n\u001b[0;32m     23\u001b[0m     \u001b[0mXneg\u001b[0m \u001b[1;33m=\u001b[0m \u001b[1;36m1\u001b[0m \u001b[1;33m-\u001b[0m \u001b[0mX\u001b[0m\u001b[1;33m\u001b[0m\u001b[1;33m\u001b[0m\u001b[0m\n",
         "\u001b[1;32mH:\\Forschung\\Repository_Mining\\repo-miner\\notebooks\\ranking_functions.py\u001b[0m in \u001b[0;36mnormalise_matrix\u001b[1;34m(X)\u001b[0m\n\u001b[0;32m      8\u001b[0m \u001b[1;33m\u001b[0m\u001b[0m\n\u001b[0;32m      9\u001b[0m \u001b[1;32mdef\u001b[0m \u001b[0mnormalise_matrix\u001b[0m\u001b[1;33m(\u001b[0m\u001b[0mX\u001b[0m\u001b[1;33m)\u001b[0m\u001b[1;33m:\u001b[0m\u001b[1;33m\u001b[0m\u001b[1;33m\u001b[0m\u001b[0m\n\u001b[1;32m---> 10\u001b[1;33m     \u001b[1;32mreturn\u001b[0m \u001b[0mnp\u001b[0m\u001b[1;33m.\u001b[0m\u001b[0mnan_to_num\u001b[0m\u001b[1;33m(\u001b[0m\u001b[1;33m(\u001b[0m\u001b[0mX\u001b[0m\u001b[1;33m.\u001b[0m\u001b[0mT\u001b[0m \u001b[1;33m/\u001b[0m \u001b[0mnp\u001b[0m\u001b[1;33m.\u001b[0m\u001b[0msum\u001b[0m\u001b[1;33m(\u001b[0m\u001b[0mX\u001b[0m\u001b[1;33m,\u001b[0m \u001b[0maxis\u001b[0m\u001b[1;33m=\u001b[0m\u001b[1;36m1\u001b[0m\u001b[1;33m)\u001b[0m\u001b[1;33m)\u001b[0m\u001b[1;33m.\u001b[0m\u001b[0mT\u001b[0m\u001b[1;33m)\u001b[0m\u001b[1;33m\u001b[0m\u001b[1;33m\u001b[0m\u001b[0m\n\u001b[0m\u001b[0;32m     11\u001b[0m \u001b[1;33m\u001b[0m\u001b[0m\n\u001b[0;32m     12\u001b[0m \u001b[1;32mdef\u001b[0m \u001b[0mrank_repositories_multiplicative\u001b[0m\u001b[1;33m(\u001b[0m\u001b[0mX\u001b[0m\u001b[1;33m,\u001b[0m \u001b[0mXneg\u001b[0m\u001b[1;33m,\u001b[0m \u001b[0mM\u001b[0m\u001b[1;33m,\u001b[0m \u001b[0mO\u001b[0m\u001b[1;33m)\u001b[0m\u001b[1;33m:\u001b[0m\u001b[1;33m\u001b[0m\u001b[1;33m\u001b[0m\u001b[0m\n",
         "\u001b[1;32m~\\AppData\\Roaming\\Python\\Python37\\site-packages\\scipy\\sparse\\base.py\u001b[0m in \u001b[0;36m__truediv__\u001b[1;34m(self, other)\u001b[0m\n\u001b[0;32m    618\u001b[0m \u001b[1;33m\u001b[0m\u001b[0m\n\u001b[0;32m    619\u001b[0m     \u001b[1;32mdef\u001b[0m \u001b[0m__truediv__\u001b[0m\u001b[1;33m(\u001b[0m\u001b[0mself\u001b[0m\u001b[1;33m,\u001b[0m \u001b[0mother\u001b[0m\u001b[1;33m)\u001b[0m\u001b[1;33m:\u001b[0m\u001b[1;33m\u001b[0m\u001b[1;33m\u001b[0m\u001b[0m\n\u001b[1;32m--> 620\u001b[1;33m         \u001b[1;32mreturn\u001b[0m \u001b[0mself\u001b[0m\u001b[1;33m.\u001b[0m\u001b[0m_divide\u001b[0m\u001b[1;33m(\u001b[0m\u001b[0mother\u001b[0m\u001b[1;33m,\u001b[0m \u001b[0mtrue_divide\u001b[0m\u001b[1;33m=\u001b[0m\u001b[1;32mTrue\u001b[0m\u001b[1;33m)\u001b[0m\u001b[1;33m\u001b[0m\u001b[1;33m\u001b[0m\u001b[0m\n\u001b[0m\u001b[0;32m    621\u001b[0m \u001b[1;33m\u001b[0m\u001b[0m\n\u001b[0;32m    622\u001b[0m     \u001b[1;32mdef\u001b[0m \u001b[0m__div__\u001b[0m\u001b[1;33m(\u001b[0m\u001b[0mself\u001b[0m\u001b[1;33m,\u001b[0m \u001b[0mother\u001b[0m\u001b[1;33m)\u001b[0m\u001b[1;33m:\u001b[0m\u001b[1;33m\u001b[0m\u001b[1;33m\u001b[0m\u001b[0m\n",
         "\u001b[1;32m~\\AppData\\Roaming\\Python\\Python37\\site-packages\\scipy\\sparse\\base.py\u001b[0m in \u001b[0;36m_divide\u001b[1;34m(self, other, true_divide, rdivide)\u001b[0m\n\u001b[0;32m    597\u001b[0m             \u001b[1;32mif\u001b[0m \u001b[1;32mnot\u001b[0m \u001b[0mrdivide\u001b[0m\u001b[1;33m:\u001b[0m\u001b[1;33m\u001b[0m\u001b[1;33m\u001b[0m\u001b[0m\n\u001b[0;32m    598\u001b[0m                 \u001b[1;32mif\u001b[0m \u001b[0mtrue_divide\u001b[0m\u001b[1;33m:\u001b[0m\u001b[1;33m\u001b[0m\u001b[1;33m\u001b[0m\u001b[0m\n\u001b[1;32m--> 599\u001b[1;33m                     \u001b[1;32mreturn\u001b[0m \u001b[0mnp\u001b[0m\u001b[1;33m.\u001b[0m\u001b[0mtrue_divide\u001b[0m\u001b[1;33m(\u001b[0m\u001b[0mself\u001b[0m\u001b[1;33m.\u001b[0m\u001b[0mtodense\u001b[0m\u001b[1;33m(\u001b[0m\u001b[1;33m)\u001b[0m\u001b[1;33m,\u001b[0m \u001b[0mother\u001b[0m\u001b[1;33m)\u001b[0m\u001b[1;33m\u001b[0m\u001b[1;33m\u001b[0m\u001b[0m\n\u001b[0m\u001b[0;32m    600\u001b[0m                 \u001b[1;32melse\u001b[0m\u001b[1;33m:\u001b[0m\u001b[1;33m\u001b[0m\u001b[1;33m\u001b[0m\u001b[0m\n\u001b[0;32m    601\u001b[0m                     \u001b[1;32mreturn\u001b[0m \u001b[0mnp\u001b[0m\u001b[1;33m.\u001b[0m\u001b[0mdivide\u001b[0m\u001b[1;33m(\u001b[0m\u001b[0mself\u001b[0m\u001b[1;33m.\u001b[0m\u001b[0mtodense\u001b[0m\u001b[1;33m(\u001b[0m\u001b[1;33m)\u001b[0m\u001b[1;33m,\u001b[0m \u001b[0mother\u001b[0m\u001b[1;33m)\u001b[0m\u001b[1;33m\u001b[0m\u001b[1;33m\u001b[0m\u001b[0m\n",
         "\u001b[1;31mValueError\u001b[0m: operands could not be broadcast together with shapes (51,28932) (28932,1) "
        ]
       }
      ],
      "source": "ranking_nmf_multiplicative = rf.rank_repositories(features_nmf, rf.rank_repositories_multiplicative)",
      "start_time": "2020-03-25T09:19:55.939Z"
     },
     {
      "end_time": "2020-03-25T10:01:37.925Z",
      "execution_time": "1m 48.8s",
      "outputs": [
       {
        "name": "stderr",
        "output_type": "stream",
        "text": "C:\\Users\\heck_ti\\AppData\\Roaming\\Python\\Python37\\site-packages\\scipy\\sparse\\base.py:599: RuntimeWarning: invalid value encountered in true_divide\n  return np.true_divide(self.todense(), other)\nC:\\Users\\heck_ti\\AppData\\Roaming\\Python\\Python37\\site-packages\\scipy\\sparse\\base.py:599: RuntimeWarning: invalid value encountered in true_divide\n  return np.true_divide(self.todense(), other)\n"
       },
       {
        "ename": "ValueError",
        "evalue": "shapes (28932,51) and (28932,51) not aligned: 51 (dim 1) != 28932 (dim 0)",
        "output_type": "error",
        "traceback": [
         "\u001b[1;31m---------------------------------------------------------------------------\u001b[0m",
         "\u001b[1;31mValueError\u001b[0m                                Traceback (most recent call last)",
         "\u001b[1;32m<ipython-input-11-55ca1912e2b7>\u001b[0m in \u001b[0;36m<module>\u001b[1;34m\u001b[0m\n\u001b[1;32m----> 1\u001b[1;33m \u001b[0mranking_nmf_multiplicative\u001b[0m \u001b[1;33m=\u001b[0m \u001b[0mrf\u001b[0m\u001b[1;33m.\u001b[0m\u001b[0mrank_repositories\u001b[0m\u001b[1;33m(\u001b[0m\u001b[0mfeatures_nmf\u001b[0m\u001b[1;33m,\u001b[0m \u001b[0mrf\u001b[0m\u001b[1;33m.\u001b[0m\u001b[0mrank_repositories_multiplicative\u001b[0m\u001b[1;33m)\u001b[0m\u001b[1;33m\u001b[0m\u001b[1;33m\u001b[0m\u001b[0m\n\u001b[0m",
         "\u001b[1;32mH:\\Forschung\\Repository_Mining\\repo-miner\\notebooks\\ranking_functions.py\u001b[0m in \u001b[0;36mrank_repositories\u001b[1;34m(repo_feature_matrix, ranking_function, **kwargs)\u001b[0m\n\u001b[0;32m     25\u001b[0m     \u001b[0mO\u001b[0m \u001b[1;33m=\u001b[0m \u001b[0mnormalise_matrix\u001b[0m\u001b[1;33m(\u001b[0m\u001b[0mrepo_feature_matrix\u001b[0m\u001b[1;33m.\u001b[0m\u001b[0mdot\u001b[0m\u001b[1;33m(\u001b[0m\u001b[0mrepo_feature_matrix\u001b[0m\u001b[1;33m.\u001b[0m\u001b[0mT\u001b[0m\u001b[1;33m)\u001b[0m\u001b[1;33m)\u001b[0m\u001b[1;33m\u001b[0m\u001b[1;33m\u001b[0m\u001b[0m\n\u001b[0;32m     26\u001b[0m \u001b[1;33m\u001b[0m\u001b[0m\n\u001b[1;32m---> 27\u001b[1;33m     \u001b[0mcouplings\u001b[0m \u001b[1;33m=\u001b[0m \u001b[0mranking_function\u001b[0m\u001b[1;33m(\u001b[0m\u001b[0mX\u001b[0m\u001b[1;33m,\u001b[0m \u001b[0mXneg\u001b[0m\u001b[1;33m,\u001b[0m \u001b[0mM\u001b[0m\u001b[1;33m,\u001b[0m \u001b[0mO\u001b[0m\u001b[1;33m,\u001b[0m \u001b[1;33m**\u001b[0m\u001b[0mkwargs\u001b[0m\u001b[1;33m)\u001b[0m\u001b[1;33m\u001b[0m\u001b[1;33m\u001b[0m\u001b[0m\n\u001b[0m\u001b[0;32m     28\u001b[0m     return [(np.floor(i / couplings.shape[1]), i % couplings.shape[1]) \n\u001b[0;32m     29\u001b[0m             for i in (-couplings).argsort(axis=None)]\n",
         "\u001b[1;32mH:\\Forschung\\Repository_Mining\\repo-miner\\notebooks\\ranking_functions.py\u001b[0m in \u001b[0;36mrank_repositories_multiplicative\u001b[1;34m(X, Xneg, M, O)\u001b[0m\n\u001b[0;32m     13\u001b[0m \u001b[1;32mdef\u001b[0m \u001b[0mrank_repositories_multiplicative\u001b[0m\u001b[1;33m(\u001b[0m\u001b[0mX\u001b[0m\u001b[1;33m,\u001b[0m \u001b[0mXneg\u001b[0m\u001b[1;33m,\u001b[0m \u001b[0mM\u001b[0m\u001b[1;33m,\u001b[0m \u001b[0mO\u001b[0m\u001b[1;33m)\u001b[0m\u001b[1;33m:\u001b[0m\u001b[1;33m\u001b[0m\u001b[1;33m\u001b[0m\u001b[0m\n\u001b[0;32m     14\u001b[0m \u001b[1;33m\u001b[0m\u001b[0m\n\u001b[1;32m---> 15\u001b[1;33m     \u001b[1;32mreturn\u001b[0m \u001b[1;33m(\u001b[0m\u001b[0mX\u001b[0m\u001b[1;33m.\u001b[0m\u001b[0mdot\u001b[0m\u001b[1;33m(\u001b[0m\u001b[0mnp\u001b[0m\u001b[1;33m.\u001b[0m\u001b[0mexp\u001b[0m\u001b[1;33m(\u001b[0m\u001b[1;33m-\u001b[0m\u001b[0mM\u001b[0m\u001b[1;33m)\u001b[0m\u001b[1;33m)\u001b[0m \u001b[1;33m*\u001b[0m \u001b[1;33m(\u001b[0m\u001b[0mXneg\u001b[0m\u001b[1;33m)\u001b[0m\u001b[1;33m)\u001b[0m\u001b[1;33m.\u001b[0m\u001b[0mdot\u001b[0m\u001b[1;33m(\u001b[0m\u001b[0mX\u001b[0m\u001b[1;33m.\u001b[0m\u001b[0mT\u001b[0m\u001b[1;33m)\u001b[0m \u001b[1;33m*\u001b[0m \u001b[1;33m(\u001b[0m\u001b[0mO\u001b[0m\u001b[1;33m)\u001b[0m\u001b[1;33m\u001b[0m\u001b[1;33m\u001b[0m\u001b[0m\n\u001b[0m\u001b[0;32m     16\u001b[0m \u001b[1;33m\u001b[0m\u001b[0m\n\u001b[0;32m     17\u001b[0m \u001b[1;32mdef\u001b[0m \u001b[0mrank_repositories_rwr\u001b[0m\u001b[1;33m(\u001b[0m\u001b[0mX\u001b[0m\u001b[1;33m,\u001b[0m \u001b[0mXneg\u001b[0m\u001b[1;33m,\u001b[0m \u001b[0mM\u001b[0m\u001b[1;33m,\u001b[0m \u001b[0mO\u001b[0m\u001b[1;33m,\u001b[0m \u001b[0md\u001b[0m\u001b[1;33m=\u001b[0m\u001b[1;36m0.5\u001b[0m\u001b[1;33m)\u001b[0m\u001b[1;33m:\u001b[0m\u001b[1;33m\u001b[0m\u001b[1;33m\u001b[0m\u001b[0m\n",
         "\u001b[1;32m~\\AppData\\Roaming\\Python\\Python37\\site-packages\\numpy\\matrixlib\\defmatrix.py\u001b[0m in \u001b[0;36m__mul__\u001b[1;34m(self, other)\u001b[0m\n\u001b[0;32m    218\u001b[0m         \u001b[1;32mif\u001b[0m \u001b[0misinstance\u001b[0m\u001b[1;33m(\u001b[0m\u001b[0mother\u001b[0m\u001b[1;33m,\u001b[0m \u001b[1;33m(\u001b[0m\u001b[0mN\u001b[0m\u001b[1;33m.\u001b[0m\u001b[0mndarray\u001b[0m\u001b[1;33m,\u001b[0m \u001b[0mlist\u001b[0m\u001b[1;33m,\u001b[0m \u001b[0mtuple\u001b[0m\u001b[1;33m)\u001b[0m\u001b[1;33m)\u001b[0m \u001b[1;33m:\u001b[0m\u001b[1;33m\u001b[0m\u001b[1;33m\u001b[0m\u001b[0m\n\u001b[0;32m    219\u001b[0m             \u001b[1;31m# This promotes 1-D vectors to row vectors\u001b[0m\u001b[1;33m\u001b[0m\u001b[1;33m\u001b[0m\u001b[1;33m\u001b[0m\u001b[0m\n\u001b[1;32m--> 220\u001b[1;33m             \u001b[1;32mreturn\u001b[0m \u001b[0mN\u001b[0m\u001b[1;33m.\u001b[0m\u001b[0mdot\u001b[0m\u001b[1;33m(\u001b[0m\u001b[0mself\u001b[0m\u001b[1;33m,\u001b[0m \u001b[0masmatrix\u001b[0m\u001b[1;33m(\u001b[0m\u001b[0mother\u001b[0m\u001b[1;33m)\u001b[0m\u001b[1;33m)\u001b[0m\u001b[1;33m\u001b[0m\u001b[1;33m\u001b[0m\u001b[0m\n\u001b[0m\u001b[0;32m    221\u001b[0m         \u001b[1;32mif\u001b[0m \u001b[0misscalar\u001b[0m\u001b[1;33m(\u001b[0m\u001b[0mother\u001b[0m\u001b[1;33m)\u001b[0m \u001b[1;32mor\u001b[0m \u001b[1;32mnot\u001b[0m \u001b[0mhasattr\u001b[0m\u001b[1;33m(\u001b[0m\u001b[0mother\u001b[0m\u001b[1;33m,\u001b[0m \u001b[1;34m'__rmul__'\u001b[0m\u001b[1;33m)\u001b[0m \u001b[1;33m:\u001b[0m\u001b[1;33m\u001b[0m\u001b[1;33m\u001b[0m\u001b[0m\n\u001b[0;32m    222\u001b[0m             \u001b[1;32mreturn\u001b[0m \u001b[0mN\u001b[0m\u001b[1;33m.\u001b[0m\u001b[0mdot\u001b[0m\u001b[1;33m(\u001b[0m\u001b[0mself\u001b[0m\u001b[1;33m,\u001b[0m \u001b[0mother\u001b[0m\u001b[1;33m)\u001b[0m\u001b[1;33m\u001b[0m\u001b[1;33m\u001b[0m\u001b[0m\n",
         "\u001b[1;32m<__array_function__ internals>\u001b[0m in \u001b[0;36mdot\u001b[1;34m(*args, **kwargs)\u001b[0m\n",
         "\u001b[1;31mValueError\u001b[0m: shapes (28932,51) and (28932,51) not aligned: 51 (dim 1) != 28932 (dim 0)"
        ]
       }
      ],
      "source": "ranking_nmf_multiplicative = rf.rank_repositories(features_nmf, rf.rank_repositories_multiplicative)",
      "start_time": "2020-03-25T09:59:49.125Z"
     },
     {
      "end_time": "2020-04-06T13:08:46.211Z",
      "execution_time": "1m 18.9s",
      "outputs": [
       {
        "name": "stdout",
        "output_type": "stream",
        "text": "start\nnormalisation\n"
       },
       {
        "name": "stderr",
        "output_type": "stream",
        "text": "H:\\Forschung\\Repository_Mining\\repo-miner\\notebooks\\ranking_functions.py:13: RuntimeWarning: invalid value encountered in true_divide\n  \n"
       },
       {
        "name": "stdout",
        "output_type": "stream",
        "text": "ranking\ndone in 65.40896272659302 seconds.\n"
       }
      ],
      "source": "ranking_nmf_multiplicative = rf.rank_repositories(features_nmf, rf.rank_repositories_multiplicative)",
      "start_time": "2020-04-06T13:07:27.281Z"
     },
     {
      "end_time": "2020-04-07T10:08:33.809Z",
      "execution_time": "2m 43s",
      "outputs": [
       {
        "name": "stdout",
        "output_type": "stream",
        "text": "start\nnormalisation\n"
       },
       {
        "name": "stderr",
        "output_type": "stream",
        "text": "H:\\Forschung\\Repository_Mining\\repo-miner\\notebooks\\ranking_functions.py:13: RuntimeWarning: invalid value encountered in true_divide\n  \n"
       },
       {
        "name": "stdout",
        "output_type": "stream",
        "text": "ranking\ndone in 134.0661177635193 seconds.\n"
       }
      ],
      "source": "#ranking_nmf_multiplicative = rf.rank_repositories(features_nmf, rf.rank_repositories_multiplicative)\nranking_lda_multiplicative = rf.rank_repositories(features_nmf, rf.rank_repositories_multiplicative)",
      "start_time": "2020-04-07T10:05:50.999Z"
     },
     {
      "end_time": "2020-04-07T10:16:03.379Z",
      "execution_time": "2m 51s",
      "outputs": [
       {
        "name": "stdout",
        "output_type": "stream",
        "text": "start\nnormalisation\nranking\ndone in 144.22697830200195 seconds.\n"
       }
      ],
      "source": "#ranking_nmf_multiplicative = rf.rank_repositories(features_nmf, rf.rank_repositories_multiplicative)\nranking_lda_multiplicative = rf.rank_repositories(features_lda, rf.rank_repositories_multiplicative)",
      "start_time": "2020-04-07T10:13:12.679Z"
     },
     {
      "end_time": "2020-04-07T12:15:21.851Z",
      "execution_time": "5m 38s",
      "outputs": [
       {
        "name": "stdout",
        "output_type": "stream",
        "text": "start\nnormalisation\n"
       },
       {
        "name": "stderr",
        "output_type": "stream",
        "text": "H:\\Forschung\\Repository_Mining\\repo-miner\\notebooks\\ranking_functions.py:13: RuntimeWarning: invalid value encountered in true_divide\n  return np.nan_to_num((X.T / np.sum(X, axis=1)).T)\n"
       },
       {
        "name": "stdout",
        "output_type": "stream",
        "text": "ranking\ndone in 142.04112219810486 seconds.\nstart\nnormalisation\nranking\ndone in 141.6860876083374 seconds.\n"
       }
      ],
      "source": "ranking_nmf_multiplicative = rf.rank_repositories(features_nmf, rf.rank_repositories_multiplicative)\nranking_lda_multiplicative = rf.rank_repositories(features_lda, rf.rank_repositories_multiplicative)",
      "start_time": "2020-04-07T12:09:43.707Z"
     },
     {
      "end_time": "2020-04-09T14:43:36.680Z",
      "execution_time": "2m 15s",
      "outputs": [
       {
        "name": "stdout",
        "output_type": "stream",
        "text": "start\nnormalisation\n"
       },
       {
        "name": "stderr",
        "output_type": "stream",
        "text": "H:\\Forschung\\Repository_Mining\\repo-miner\\notebooks\\ranking_functions.py:13: RuntimeWarning: invalid value encountered in true_divide\n  return np.nan_to_num((X.T / np.sum(X, axis=1)).T)\n"
       },
       {
        "name": "stdout",
        "output_type": "stream",
        "text": "ranking\ndone in 49.87379336357117 seconds.\nstart\nnormalisation\nranking\ndone in 59.18447160720825 seconds.\n"
       }
      ],
      "source": "ranking_nmf_multiplicative = rf.rank_repositories(features_nmf, rf.rank_repositories_multiplicative)\nranking_lda_multiplicative = rf.rank_repositories(features_lda, rf.rank_repositories_multiplicative)",
      "start_time": "2020-04-09T14:41:21.811Z"
     }
    ]
   },
   "outputs": [],
   "source": [
    "ranking_nmf_multiplicative = rf.rank_repositories(features_nmf, rf.rank_repositories_multiplicative)\n",
    "ranking_lda_multiplicative = rf.rank_repositories(features_lda, rf.rank_repositories_multiplicative)"
   ]
  },
  {
   "cell_type": "markdown",
   "metadata": {
    "provenance": [
     {
      "last_modified": "2020-03-24T13:59:49.347Z",
      "source": "### Top 10 repository pairs"
     },
     {
      "last_modified": "2020-03-24T16:20:50.575Z",
      "source": "### Top 10 repository pairs"
     },
     {
      "last_modified": "2020-03-24T16:21:47.207Z",
      "source": "### Top 10 repository pairs"
     },
     {
      "last_modified": "2020-03-24T16:21:55.987Z",
      "source": "### Top 10 repository pairs"
     },
     {
      "last_modified": "2020-04-06T12:00:25.482Z",
      "source": "### Top 10 repository pairs"
     },
     {
      "last_modified": "2020-04-06T12:00:56.100Z",
      "source": "### Top 10 repository pairs"
     },
     {
      "last_modified": "2020-04-06T12:30:36.125Z",
      "source": "### Top 10 repository pairs"
     },
     {
      "last_modified": "2020-04-06T12:31:39.245Z",
      "source": "### Top 10 repository pairs"
     },
     {
      "last_modified": "2020-04-06T12:33:14.552Z",
      "source": "### Top 10 repository pairs"
     },
     {
      "last_modified": "2020-04-06T12:34:34.425Z",
      "source": "### Top 10 repository pairs"
     },
     {
      "last_modified": "2020-04-06T12:59:47.165Z",
      "source": "### Top 10 repository pairs"
     },
     {
      "last_modified": "2020-04-06T13:24:51.145Z",
      "source": "### Top 10 repository pairs"
     },
     {
      "last_modified": "2020-04-06T13:25:07.686Z",
      "source": "### Top 10 repository pairs"
     },
     {
      "last_modified": "2020-04-06T13:26:59.305Z",
      "source": "### Top 10 repository pairs"
     },
     {
      "last_modified": "2020-04-06T13:27:17.765Z",
      "source": "### Top 10 repository pairs"
     },
     {
      "last_modified": "2020-04-06T13:29:00.700Z",
      "source": "### Top 10 repository pairs"
     },
     {
      "last_modified": "2020-04-06T13:33:45.945Z",
      "source": "### Top 10 repository pairs"
     },
     {
      "last_modified": "2020-04-06T13:34:33.354Z",
      "source": "### Top 10 repository pairs"
     },
     {
      "last_modified": "2020-04-06T13:35:13.305Z",
      "source": "### Top 10 repository pairs"
     },
     {
      "last_modified": "2020-04-06T13:40:52.266Z",
      "source": "### Top 10 repository pairs"
     },
     {
      "last_modified": "2020-04-06T13:42:46.605Z",
      "source": "### Top 10 repository pairs"
     },
     {
      "last_modified": "2020-04-06T13:43:18.425Z",
      "source": "### Top 10 repository pairs"
     },
     {
      "last_modified": "2020-04-06T13:43:40.785Z",
      "source": "### Top 10 repository pairs"
     },
     {
      "last_modified": "2020-04-06T13:44:19.445Z",
      "source": "### Top 10 repository pairs"
     },
     {
      "last_modified": "2020-04-06T13:45:53.054Z",
      "source": "### Top 10 repository pairs"
     },
     {
      "last_modified": "2020-04-06T13:50:01.461Z",
      "source": "### Top 10 repository pairs"
     },
     {
      "last_modified": "2020-04-06T13:50:34.565Z",
      "source": "### Top 10 repository pairs"
     },
     {
      "last_modified": "2020-04-06T14:05:27.513Z",
      "source": "### Top 10 repository pairs"
     },
     {
      "last_modified": "2020-04-06T14:07:25.685Z",
      "source": "### Top 10 repository pairs"
     },
     {
      "last_modified": "2020-04-06T14:10:25.293Z",
      "source": "### Top 10 repository pairs"
     },
     {
      "last_modified": "2020-04-06T14:15:20.405Z",
      "source": "### Top 10 repository pairs"
     },
     {
      "last_modified": "2020-04-06T14:22:36.373Z",
      "source": "### Top 10 repository pairs"
     },
     {
      "last_modified": "2020-04-06T14:22:59.573Z",
      "source": "### Top 10 repository pairs"
     },
     {
      "last_modified": "2020-04-06T14:29:38.386Z",
      "source": "### Top 10 repository pairs"
     },
     {
      "last_modified": "2020-04-06T14:30:31.915Z",
      "source": "### Top 10 repository pairs"
     },
     {
      "last_modified": "2020-04-06T14:31:28.845Z",
      "source": "### Top 10 repository pairs"
     },
     {
      "last_modified": "2020-04-06T14:31:43.913Z",
      "source": "### Top 10 repository pairs"
     },
     {
      "last_modified": "2020-04-06T14:33:43.145Z",
      "source": "### Top 10 repository pairs"
     },
     {
      "last_modified": "2020-04-06T14:41:48.269Z",
      "source": "### Top 10 repository pairs"
     },
     {
      "last_modified": "2020-04-06T14:48:42.313Z",
      "source": "### Top 10 repository pairs"
     },
     {
      "last_modified": "2020-04-06T14:51:08.073Z",
      "source": "### Top 10 repository pairs"
     },
     {
      "last_modified": "2020-04-06T14:52:48.245Z",
      "source": "### Top 10 repository pairs"
     },
     {
      "last_modified": "2020-04-06T14:54:04.105Z",
      "source": "### Top 10 repository pairs"
     },
     {
      "last_modified": "2020-04-06T14:55:31.025Z",
      "source": "### Top 10 repository pairs"
     },
     {
      "last_modified": "2020-04-06T15:02:21.425Z",
      "source": "### Top 10 repository pairs"
     },
     {
      "last_modified": "2020-04-06T15:09:04.497Z",
      "source": "### Top 10 repository pairs"
     },
     {
      "last_modified": "2020-04-06T15:09:51.225Z",
      "source": "### Top 10 repository pairs"
     },
     {
      "last_modified": "2020-04-06T15:14:35.645Z",
      "source": "### Top 10 repository pairs"
     },
     {
      "last_modified": "2020-04-06T15:16:11.321Z",
      "source": "### Top 10 repository pairs"
     },
     {
      "last_modified": "2020-04-06T15:26:29.957Z",
      "source": "### Top 10 repository pairs"
     },
     {
      "last_modified": "2020-04-06T15:41:08.226Z",
      "source": "### Top 10 repository pairs"
     },
     {
      "last_modified": "2020-04-07T10:02:39.252Z",
      "source": "### Top 10 repository pairs"
     },
     {
      "last_modified": "2020-04-07T10:13:10.792Z",
      "source": "### Top 10 repository pairs (NMF)"
     },
     {
      "last_modified": "2020-04-07T10:22:12.388Z",
      "source": "### Top 10 repository pairs (NMF)"
     },
     {
      "last_modified": "2020-04-07T10:22:46.260Z",
      "source": "### Top 10 repository pairs (NMF)"
     },
     {
      "last_modified": "2020-04-07T10:24:47.912Z",
      "source": "### Top 10 repository pairs (NMF)"
     },
     {
      "last_modified": "2020-04-07T10:30:15.612Z",
      "source": "### Top 10 repository pairs (NMF)"
     },
     {
      "last_modified": "2020-04-07T10:33:18.279Z",
      "source": "### Top 10 repository pairs (NMF)"
     },
     {
      "last_modified": "2020-04-07T12:03:35.370Z",
      "source": "### Top 10 repository pairs (NMF)"
     },
     {
      "last_modified": "2020-04-07T12:17:59.040Z",
      "source": "### Top 10 repository pairs (NMF)"
     },
     {
      "last_modified": "2020-04-07T12:54:33.132Z",
      "source": "### Top 10 repository pairs (NMF)"
     },
     {
      "last_modified": "2020-04-07T13:46:09.011Z",
      "source": "### Top 10 repository pairs (NMF)"
     },
     {
      "last_modified": "2020-04-07T14:03:27.879Z",
      "source": "### Top 10 repository pairs (NMF)"
     },
     {
      "last_modified": "2020-04-07T14:04:38.831Z",
      "source": "### Top 10 repository pairs (NMF)"
     },
     {
      "last_modified": "2020-04-07T14:19:13.779Z",
      "source": "### Top 10 repository pairs (NMF)"
     },
     {
      "last_modified": "2020-04-08T11:33:25.208Z",
      "source": "### Top 10 repository pairs (NMF)"
     }
    ]
   },
   "source": [
    "### Top 10 repository pairs (NMF)"
   ]
  },
  {
   "cell_type": "code",
   "execution_count": 3,
   "metadata": {
    "ExecutionTime": {
     "end_time": "2020-04-09T14:43:36.710410Z",
     "start_time": "2020-04-09T14:43:36.680190Z"
    },
    "provenance": [
     {
      "end_time": "Unknown",
      "execution_time": "Unknown",
      "outputs": [],
      "source": "pd.DataFrame(\n    [(repository_info.url[i], repository_info.description[i], repository_info.url[j], repository_info.description[j])\n        for i, j in ranking_nmf_multiplicative[0:9]],\n    colums = [\"repo1_url\", \"repo1_description\", \"repo2_url\", \"repo2_description\"]\n)",
      "start_time": "Unknown"
     },
     {
      "end_time": "2020-04-06T13:11:19.865Z",
      "execution_time": "17ms",
      "outputs": [
       {
        "ename": "ValueError",
        "evalue": "too many values to unpack (expected 2)",
        "output_type": "error",
        "traceback": [
         "\u001b[1;31m---------------------------------------------------------------------------\u001b[0m",
         "\u001b[1;31mValueError\u001b[0m                                Traceback (most recent call last)",
         "\u001b[1;32m<ipython-input-16-66934d76f701>\u001b[0m in \u001b[0;36m<module>\u001b[1;34m\u001b[0m\n\u001b[0;32m      1\u001b[0m pd.DataFrame(\n\u001b[0;32m      2\u001b[0m     [(repository_info.url[i], repository_info.description[i], repository_info.url[j], repository_info.description[j])\n\u001b[1;32m----> 3\u001b[1;33m         for i, j in ranking_nmf_multiplicative[0:9]],\n\u001b[0m\u001b[0;32m      4\u001b[0m     \u001b[0mcolums\u001b[0m \u001b[1;33m=\u001b[0m \u001b[1;33m[\u001b[0m\u001b[1;34m\"repo1_url\"\u001b[0m\u001b[1;33m,\u001b[0m \u001b[1;34m\"repo1_description\"\u001b[0m\u001b[1;33m,\u001b[0m \u001b[1;34m\"repo2_url\"\u001b[0m\u001b[1;33m,\u001b[0m \u001b[1;34m\"repo2_description\"\u001b[0m\u001b[1;33m]\u001b[0m\u001b[1;33m\u001b[0m\u001b[1;33m\u001b[0m\u001b[0m\n\u001b[0;32m      5\u001b[0m )\n",
         "\u001b[1;32m<ipython-input-16-66934d76f701>\u001b[0m in \u001b[0;36m<listcomp>\u001b[1;34m(.0)\u001b[0m\n\u001b[0;32m      1\u001b[0m pd.DataFrame(\n\u001b[1;32m----> 2\u001b[1;33m     [(repository_info.url[i], repository_info.description[i], repository_info.url[j], repository_info.description[j])\n\u001b[0m\u001b[0;32m      3\u001b[0m         for i, j in ranking_nmf_multiplicative[0:9]],\n\u001b[0;32m      4\u001b[0m     \u001b[0mcolums\u001b[0m \u001b[1;33m=\u001b[0m \u001b[1;33m[\u001b[0m\u001b[1;34m\"repo1_url\"\u001b[0m\u001b[1;33m,\u001b[0m \u001b[1;34m\"repo1_description\"\u001b[0m\u001b[1;33m,\u001b[0m \u001b[1;34m\"repo2_url\"\u001b[0m\u001b[1;33m,\u001b[0m \u001b[1;34m\"repo2_description\"\u001b[0m\u001b[1;33m]\u001b[0m\u001b[1;33m\u001b[0m\u001b[1;33m\u001b[0m\u001b[0m\n\u001b[0;32m      5\u001b[0m )\n",
         "\u001b[1;31mValueError\u001b[0m: too many values to unpack (expected 2)"
        ]
       }
      ],
      "source": "pd.DataFrame(\n    [(repository_info.url[i], repository_info.description[i], repository_info.url[j], repository_info.description[j])\n        for i, j in ranking_nmf_multiplicative[0:9]],\n    colums = [\"repo1_url\", \"repo1_description\", \"repo2_url\", \"repo2_description\"]\n)",
      "start_time": "2020-04-06T13:11:19.848Z"
     },
     {
      "end_time": "2020-04-06T13:20:35.924Z",
      "execution_time": "9ms",
      "outputs": [
       {
        "ename": "SyntaxError",
        "evalue": "invalid syntax (<ipython-input-17-2d8027fd1ee3>, line 4)",
        "output_type": "error",
        "traceback": [
         "\u001b[1;36m  File \u001b[1;32m\"<ipython-input-17-2d8027fd1ee3>\"\u001b[1;36m, line \u001b[1;32m4\u001b[0m\n\u001b[1;33m    repository_info.url[ranking_nmf_multiplicative[1][0:9]],\u001b[0m\n\u001b[1;37m                  ^\u001b[0m\n\u001b[1;31mSyntaxError\u001b[0m\u001b[1;31m:\u001b[0m invalid syntax\n"
        ]
       }
      ],
      "source": "pd.DataFrame(\n    repository_info.url[ranking_nmf_multiplicative[0][0:9]], \n    repository_info.description[ranking_nmf_multiplicative[0][0:9]]\n    repository_info.url[ranking_nmf_multiplicative[1][0:9]], \n    repository_info.description[ranking_nmf_multiplicative[1][0:9]],\n    ranking_nmf_multiplicative[2][0:9],\n    colums = [\"repo1_url\", \"repo1_description\", \"repo2_url\", \"repo2_description\", \"score\"]\n)",
      "start_time": "2020-04-06T13:20:35.915Z"
     },
     {
      "end_time": "2020-04-06T13:24:53.088Z",
      "execution_time": "13ms",
      "outputs": [
       {
        "ename": "SyntaxError",
        "evalue": "invalid syntax (<ipython-input-20-a0a60ba33342>, line 5)",
        "output_type": "error",
        "traceback": [
         "\u001b[1;36m  File \u001b[1;32m\"<ipython-input-20-a0a60ba33342>\"\u001b[1;36m, line \u001b[1;32m5\u001b[0m\n\u001b[1;33m    \"repo_url2\" : repository_info.url[ranking_nmf_multiplicative[1][0:9]],\u001b[0m\n\u001b[1;37m              ^\u001b[0m\n\u001b[1;31mSyntaxError\u001b[0m\u001b[1;31m:\u001b[0m invalid syntax\n"
        ]
       }
      ],
      "source": "pd.DataFrame(\n    {\n        \"repo_url1\" : repository_info.url[ranking_nmf_multiplicative[0][0:9]], \n        \"repo_description1\" : repository_info.description[ranking_nmf_multiplicative[0][0:9]]\n        \"repo_url2\" : repository_info.url[ranking_nmf_multiplicative[1][0:9]], \n        \"repo_description2\" : repository_info.description[ranking_nmf_multiplicative[1][0:9]],\n        \"score\" : ranking_nmf_multiplicative[2][0:9]\n    }\n)",
      "start_time": "2020-04-06T13:24:53.075Z"
     },
     {
      "end_time": "2020-04-06T13:25:12.492Z",
      "execution_time": "61ms",
      "outputs": [
       {
        "ename": "InvalidIndexError",
        "evalue": "Reindexing only valid with uniquely valued Index objects",
        "output_type": "error",
        "traceback": [
         "\u001b[1;31m---------------------------------------------------------------------------\u001b[0m",
         "\u001b[1;31mInvalidIndexError\u001b[0m                         Traceback (most recent call last)",
         "\u001b[1;32m<ipython-input-21-cba7b110a649>\u001b[0m in \u001b[0;36m<module>\u001b[1;34m\u001b[0m\n\u001b[0;32m      5\u001b[0m         \u001b[1;34m\"repo_url2\"\u001b[0m \u001b[1;33m:\u001b[0m \u001b[0mrepository_info\u001b[0m\u001b[1;33m.\u001b[0m\u001b[0murl\u001b[0m\u001b[1;33m[\u001b[0m\u001b[0mranking_nmf_multiplicative\u001b[0m\u001b[1;33m[\u001b[0m\u001b[1;36m1\u001b[0m\u001b[1;33m]\u001b[0m\u001b[1;33m[\u001b[0m\u001b[1;36m0\u001b[0m\u001b[1;33m:\u001b[0m\u001b[1;36m9\u001b[0m\u001b[1;33m]\u001b[0m\u001b[1;33m]\u001b[0m\u001b[1;33m,\u001b[0m\u001b[1;33m\u001b[0m\u001b[1;33m\u001b[0m\u001b[0m\n\u001b[0;32m      6\u001b[0m         \u001b[1;34m\"repo_description2\"\u001b[0m \u001b[1;33m:\u001b[0m \u001b[0mrepository_info\u001b[0m\u001b[1;33m.\u001b[0m\u001b[0mdescription\u001b[0m\u001b[1;33m[\u001b[0m\u001b[0mranking_nmf_multiplicative\u001b[0m\u001b[1;33m[\u001b[0m\u001b[1;36m1\u001b[0m\u001b[1;33m]\u001b[0m\u001b[1;33m[\u001b[0m\u001b[1;36m0\u001b[0m\u001b[1;33m:\u001b[0m\u001b[1;36m9\u001b[0m\u001b[1;33m]\u001b[0m\u001b[1;33m]\u001b[0m\u001b[1;33m,\u001b[0m\u001b[1;33m\u001b[0m\u001b[1;33m\u001b[0m\u001b[0m\n\u001b[1;32m----> 7\u001b[1;33m         \u001b[1;34m\"score\"\u001b[0m \u001b[1;33m:\u001b[0m \u001b[0mranking_nmf_multiplicative\u001b[0m\u001b[1;33m[\u001b[0m\u001b[1;36m2\u001b[0m\u001b[1;33m]\u001b[0m\u001b[1;33m[\u001b[0m\u001b[1;36m0\u001b[0m\u001b[1;33m:\u001b[0m\u001b[1;36m9\u001b[0m\u001b[1;33m]\u001b[0m\u001b[1;33m\u001b[0m\u001b[1;33m\u001b[0m\u001b[0m\n\u001b[0m\u001b[0;32m      8\u001b[0m     }\n\u001b[0;32m      9\u001b[0m )\n",
         "\u001b[1;32m~\\AppData\\Roaming\\Python\\Python37\\site-packages\\pandas\\core\\frame.py\u001b[0m in \u001b[0;36m__init__\u001b[1;34m(self, data, index, columns, dtype, copy)\u001b[0m\n\u001b[0;32m    409\u001b[0m             )\n\u001b[0;32m    410\u001b[0m         \u001b[1;32melif\u001b[0m \u001b[0misinstance\u001b[0m\u001b[1;33m(\u001b[0m\u001b[0mdata\u001b[0m\u001b[1;33m,\u001b[0m \u001b[0mdict\u001b[0m\u001b[1;33m)\u001b[0m\u001b[1;33m:\u001b[0m\u001b[1;33m\u001b[0m\u001b[1;33m\u001b[0m\u001b[0m\n\u001b[1;32m--> 411\u001b[1;33m             \u001b[0mmgr\u001b[0m \u001b[1;33m=\u001b[0m \u001b[0minit_dict\u001b[0m\u001b[1;33m(\u001b[0m\u001b[0mdata\u001b[0m\u001b[1;33m,\u001b[0m \u001b[0mindex\u001b[0m\u001b[1;33m,\u001b[0m \u001b[0mcolumns\u001b[0m\u001b[1;33m,\u001b[0m \u001b[0mdtype\u001b[0m\u001b[1;33m=\u001b[0m\u001b[0mdtype\u001b[0m\u001b[1;33m)\u001b[0m\u001b[1;33m\u001b[0m\u001b[1;33m\u001b[0m\u001b[0m\n\u001b[0m\u001b[0;32m    412\u001b[0m         \u001b[1;32melif\u001b[0m \u001b[0misinstance\u001b[0m\u001b[1;33m(\u001b[0m\u001b[0mdata\u001b[0m\u001b[1;33m,\u001b[0m \u001b[0mma\u001b[0m\u001b[1;33m.\u001b[0m\u001b[0mMaskedArray\u001b[0m\u001b[1;33m)\u001b[0m\u001b[1;33m:\u001b[0m\u001b[1;33m\u001b[0m\u001b[1;33m\u001b[0m\u001b[0m\n\u001b[0;32m    413\u001b[0m             \u001b[1;32mimport\u001b[0m \u001b[0mnumpy\u001b[0m\u001b[1;33m.\u001b[0m\u001b[0mma\u001b[0m\u001b[1;33m.\u001b[0m\u001b[0mmrecords\u001b[0m \u001b[1;32mas\u001b[0m \u001b[0mmrecords\u001b[0m\u001b[1;33m\u001b[0m\u001b[1;33m\u001b[0m\u001b[0m\n",
         "\u001b[1;32m~\\AppData\\Roaming\\Python\\Python37\\site-packages\\pandas\\core\\internals\\construction.py\u001b[0m in \u001b[0;36minit_dict\u001b[1;34m(data, index, columns, dtype)\u001b[0m\n\u001b[0;32m    255\u001b[0m             \u001b[0marr\u001b[0m \u001b[1;32mif\u001b[0m \u001b[1;32mnot\u001b[0m \u001b[0mis_datetime64tz_dtype\u001b[0m\u001b[1;33m(\u001b[0m\u001b[0marr\u001b[0m\u001b[1;33m)\u001b[0m \u001b[1;32melse\u001b[0m \u001b[0marr\u001b[0m\u001b[1;33m.\u001b[0m\u001b[0mcopy\u001b[0m\u001b[1;33m(\u001b[0m\u001b[1;33m)\u001b[0m \u001b[1;32mfor\u001b[0m \u001b[0marr\u001b[0m \u001b[1;32min\u001b[0m \u001b[0marrays\u001b[0m\u001b[1;33m\u001b[0m\u001b[1;33m\u001b[0m\u001b[0m\n\u001b[0;32m    256\u001b[0m         ]\n\u001b[1;32m--> 257\u001b[1;33m     \u001b[1;32mreturn\u001b[0m \u001b[0marrays_to_mgr\u001b[0m\u001b[1;33m(\u001b[0m\u001b[0marrays\u001b[0m\u001b[1;33m,\u001b[0m \u001b[0mdata_names\u001b[0m\u001b[1;33m,\u001b[0m \u001b[0mindex\u001b[0m\u001b[1;33m,\u001b[0m \u001b[0mcolumns\u001b[0m\u001b[1;33m,\u001b[0m \u001b[0mdtype\u001b[0m\u001b[1;33m=\u001b[0m\u001b[0mdtype\u001b[0m\u001b[1;33m)\u001b[0m\u001b[1;33m\u001b[0m\u001b[1;33m\u001b[0m\u001b[0m\n\u001b[0m\u001b[0;32m    258\u001b[0m \u001b[1;33m\u001b[0m\u001b[0m\n\u001b[0;32m    259\u001b[0m \u001b[1;33m\u001b[0m\u001b[0m\n",
         "\u001b[1;32m~\\AppData\\Roaming\\Python\\Python37\\site-packages\\pandas\\core\\internals\\construction.py\u001b[0m in \u001b[0;36marrays_to_mgr\u001b[1;34m(arrays, arr_names, index, columns, dtype)\u001b[0m\n\u001b[0;32m     75\u001b[0m     \u001b[1;31m# figure out the index, if necessary\u001b[0m\u001b[1;33m\u001b[0m\u001b[1;33m\u001b[0m\u001b[1;33m\u001b[0m\u001b[0m\n\u001b[0;32m     76\u001b[0m     \u001b[1;32mif\u001b[0m \u001b[0mindex\u001b[0m \u001b[1;32mis\u001b[0m \u001b[1;32mNone\u001b[0m\u001b[1;33m:\u001b[0m\u001b[1;33m\u001b[0m\u001b[1;33m\u001b[0m\u001b[0m\n\u001b[1;32m---> 77\u001b[1;33m         \u001b[0mindex\u001b[0m \u001b[1;33m=\u001b[0m \u001b[0mextract_index\u001b[0m\u001b[1;33m(\u001b[0m\u001b[0marrays\u001b[0m\u001b[1;33m)\u001b[0m\u001b[1;33m\u001b[0m\u001b[1;33m\u001b[0m\u001b[0m\n\u001b[0m\u001b[0;32m     78\u001b[0m     \u001b[1;32melse\u001b[0m\u001b[1;33m:\u001b[0m\u001b[1;33m\u001b[0m\u001b[1;33m\u001b[0m\u001b[0m\n\u001b[0;32m     79\u001b[0m         \u001b[0mindex\u001b[0m \u001b[1;33m=\u001b[0m \u001b[0mensure_index\u001b[0m\u001b[1;33m(\u001b[0m\u001b[0mindex\u001b[0m\u001b[1;33m)\u001b[0m\u001b[1;33m\u001b[0m\u001b[1;33m\u001b[0m\u001b[0m\n",
         "\u001b[1;32m~\\AppData\\Roaming\\Python\\Python37\\site-packages\\pandas\\core\\internals\\construction.py\u001b[0m in \u001b[0;36mextract_index\u001b[1;34m(data)\u001b[0m\n\u001b[0;32m    359\u001b[0m \u001b[1;33m\u001b[0m\u001b[0m\n\u001b[0;32m    360\u001b[0m         \u001b[1;32mif\u001b[0m \u001b[0mhave_series\u001b[0m\u001b[1;33m:\u001b[0m\u001b[1;33m\u001b[0m\u001b[1;33m\u001b[0m\u001b[0m\n\u001b[1;32m--> 361\u001b[1;33m             \u001b[0mindex\u001b[0m \u001b[1;33m=\u001b[0m \u001b[0m_union_indexes\u001b[0m\u001b[1;33m(\u001b[0m\u001b[0mindexes\u001b[0m\u001b[1;33m)\u001b[0m\u001b[1;33m\u001b[0m\u001b[1;33m\u001b[0m\u001b[0m\n\u001b[0m\u001b[0;32m    362\u001b[0m         \u001b[1;32melif\u001b[0m \u001b[0mhave_dicts\u001b[0m\u001b[1;33m:\u001b[0m\u001b[1;33m\u001b[0m\u001b[1;33m\u001b[0m\u001b[0m\n\u001b[0;32m    363\u001b[0m             \u001b[0mindex\u001b[0m \u001b[1;33m=\u001b[0m \u001b[0m_union_indexes\u001b[0m\u001b[1;33m(\u001b[0m\u001b[0mindexes\u001b[0m\u001b[1;33m,\u001b[0m \u001b[0msort\u001b[0m\u001b[1;33m=\u001b[0m\u001b[1;32mnot\u001b[0m \u001b[1;33m(\u001b[0m\u001b[0mcompat\u001b[0m\u001b[1;33m.\u001b[0m\u001b[0mPY36\u001b[0m \u001b[1;32mor\u001b[0m \u001b[0mhave_ordered\u001b[0m\u001b[1;33m)\u001b[0m\u001b[1;33m)\u001b[0m\u001b[1;33m\u001b[0m\u001b[1;33m\u001b[0m\u001b[0m\n",
         "\u001b[1;32m~\\AppData\\Roaming\\Python\\Python37\\site-packages\\pandas\\core\\indexes\\api.py\u001b[0m in \u001b[0;36m_union_indexes\u001b[1;34m(indexes, sort)\u001b[0m\n\u001b[0;32m    204\u001b[0m         \u001b[1;32melse\u001b[0m\u001b[1;33m:\u001b[0m\u001b[1;33m\u001b[0m\u001b[1;33m\u001b[0m\u001b[0m\n\u001b[0;32m    205\u001b[0m             \u001b[1;32mfor\u001b[0m \u001b[0mother\u001b[0m \u001b[1;32min\u001b[0m \u001b[0mindexes\u001b[0m\u001b[1;33m[\u001b[0m\u001b[1;36m1\u001b[0m\u001b[1;33m:\u001b[0m\u001b[1;33m]\u001b[0m\u001b[1;33m:\u001b[0m\u001b[1;33m\u001b[0m\u001b[1;33m\u001b[0m\u001b[0m\n\u001b[1;32m--> 206\u001b[1;33m                 \u001b[0mresult\u001b[0m \u001b[1;33m=\u001b[0m \u001b[0mresult\u001b[0m\u001b[1;33m.\u001b[0m\u001b[0munion\u001b[0m\u001b[1;33m(\u001b[0m\u001b[0mother\u001b[0m\u001b[1;33m)\u001b[0m\u001b[1;33m\u001b[0m\u001b[1;33m\u001b[0m\u001b[0m\n\u001b[0m\u001b[0;32m    207\u001b[0m             \u001b[1;32mreturn\u001b[0m \u001b[0mresult\u001b[0m\u001b[1;33m\u001b[0m\u001b[1;33m\u001b[0m\u001b[0m\n\u001b[0;32m    208\u001b[0m     \u001b[1;32melif\u001b[0m \u001b[0mkind\u001b[0m \u001b[1;33m==\u001b[0m \u001b[1;34m\"array\"\u001b[0m\u001b[1;33m:\u001b[0m\u001b[1;33m\u001b[0m\u001b[1;33m\u001b[0m\u001b[0m\n",
         "\u001b[1;32m~\\AppData\\Roaming\\Python\\Python37\\site-packages\\pandas\\core\\indexes\\base.py\u001b[0m in \u001b[0;36munion\u001b[1;34m(self, other, sort)\u001b[0m\n\u001b[0;32m   2517\u001b[0m             \u001b[1;32mreturn\u001b[0m \u001b[0mself\u001b[0m\u001b[1;33m.\u001b[0m\u001b[0m_union_incompatible_dtypes\u001b[0m\u001b[1;33m(\u001b[0m\u001b[0mother\u001b[0m\u001b[1;33m,\u001b[0m \u001b[0msort\u001b[0m\u001b[1;33m=\u001b[0m\u001b[0msort\u001b[0m\u001b[1;33m)\u001b[0m\u001b[1;33m\u001b[0m\u001b[1;33m\u001b[0m\u001b[0m\n\u001b[0;32m   2518\u001b[0m \u001b[1;33m\u001b[0m\u001b[0m\n\u001b[1;32m-> 2519\u001b[1;33m         \u001b[1;32mreturn\u001b[0m \u001b[0mself\u001b[0m\u001b[1;33m.\u001b[0m\u001b[0m_union\u001b[0m\u001b[1;33m(\u001b[0m\u001b[0mother\u001b[0m\u001b[1;33m,\u001b[0m \u001b[0msort\u001b[0m\u001b[1;33m=\u001b[0m\u001b[0msort\u001b[0m\u001b[1;33m)\u001b[0m\u001b[1;33m\u001b[0m\u001b[1;33m\u001b[0m\u001b[0m\n\u001b[0m\u001b[0;32m   2520\u001b[0m \u001b[1;33m\u001b[0m\u001b[0m\n\u001b[0;32m   2521\u001b[0m     \u001b[1;32mdef\u001b[0m \u001b[0m_union\u001b[0m\u001b[1;33m(\u001b[0m\u001b[0mself\u001b[0m\u001b[1;33m,\u001b[0m \u001b[0mother\u001b[0m\u001b[1;33m,\u001b[0m \u001b[0msort\u001b[0m\u001b[1;33m)\u001b[0m\u001b[1;33m:\u001b[0m\u001b[1;33m\u001b[0m\u001b[1;33m\u001b[0m\u001b[0m\n",
         "\u001b[1;32m~\\AppData\\Roaming\\Python\\Python37\\site-packages\\pandas\\core\\indexes\\numeric.py\u001b[0m in \u001b[0;36m_union\u001b[1;34m(self, other, sort)\u001b[0m\n\u001b[0;32m    161\u001b[0m             \u001b[1;32mreturn\u001b[0m \u001b[0mfirst\u001b[0m\u001b[1;33m.\u001b[0m\u001b[0m_union\u001b[0m\u001b[1;33m(\u001b[0m\u001b[0msecond\u001b[0m\u001b[1;33m,\u001b[0m \u001b[0msort\u001b[0m\u001b[1;33m)\u001b[0m\u001b[1;33m\u001b[0m\u001b[1;33m\u001b[0m\u001b[0m\n\u001b[0;32m    162\u001b[0m         \u001b[1;32melse\u001b[0m\u001b[1;33m:\u001b[0m\u001b[1;33m\u001b[0m\u001b[1;33m\u001b[0m\u001b[0m\n\u001b[1;32m--> 163\u001b[1;33m             \u001b[1;32mreturn\u001b[0m \u001b[0msuper\u001b[0m\u001b[1;33m(\u001b[0m\u001b[1;33m)\u001b[0m\u001b[1;33m.\u001b[0m\u001b[0m_union\u001b[0m\u001b[1;33m(\u001b[0m\u001b[0mother\u001b[0m\u001b[1;33m,\u001b[0m \u001b[0msort\u001b[0m\u001b[1;33m)\u001b[0m\u001b[1;33m\u001b[0m\u001b[1;33m\u001b[0m\u001b[0m\n\u001b[0m\u001b[0;32m    164\u001b[0m \u001b[1;33m\u001b[0m\u001b[0m\n\u001b[0;32m    165\u001b[0m \u001b[1;33m\u001b[0m\u001b[0m\n",
         "\u001b[1;32m~\\AppData\\Roaming\\Python\\Python37\\site-packages\\pandas\\core\\indexes\\base.py\u001b[0m in \u001b[0;36m_union\u001b[1;34m(self, other, sort)\u001b[0m\n\u001b[0;32m   2566\u001b[0m                 \u001b[0mresult\u001b[0m\u001b[1;33m.\u001b[0m\u001b[0mextend\u001b[0m\u001b[1;33m(\u001b[0m\u001b[1;33m[\u001b[0m\u001b[0mx\u001b[0m \u001b[1;32mfor\u001b[0m \u001b[0mx\u001b[0m \u001b[1;32min\u001b[0m \u001b[0mrvals\u001b[0m \u001b[1;32mif\u001b[0m \u001b[0mx\u001b[0m \u001b[1;32mnot\u001b[0m \u001b[1;32min\u001b[0m \u001b[0mvalue_set\u001b[0m\u001b[1;33m]\u001b[0m\u001b[1;33m)\u001b[0m\u001b[1;33m\u001b[0m\u001b[1;33m\u001b[0m\u001b[0m\n\u001b[0;32m   2567\u001b[0m         \u001b[1;32melse\u001b[0m\u001b[1;33m:\u001b[0m\u001b[1;33m\u001b[0m\u001b[1;33m\u001b[0m\u001b[0m\n\u001b[1;32m-> 2568\u001b[1;33m             \u001b[0mindexer\u001b[0m \u001b[1;33m=\u001b[0m \u001b[0mself\u001b[0m\u001b[1;33m.\u001b[0m\u001b[0mget_indexer\u001b[0m\u001b[1;33m(\u001b[0m\u001b[0mother\u001b[0m\u001b[1;33m)\u001b[0m\u001b[1;33m\u001b[0m\u001b[1;33m\u001b[0m\u001b[0m\n\u001b[0m\u001b[0;32m   2569\u001b[0m             \u001b[0mindexer\u001b[0m\u001b[1;33m,\u001b[0m \u001b[1;33m=\u001b[0m \u001b[1;33m(\u001b[0m\u001b[0mindexer\u001b[0m \u001b[1;33m==\u001b[0m \u001b[1;33m-\u001b[0m\u001b[1;36m1\u001b[0m\u001b[1;33m)\u001b[0m\u001b[1;33m.\u001b[0m\u001b[0mnonzero\u001b[0m\u001b[1;33m(\u001b[0m\u001b[1;33m)\u001b[0m\u001b[1;33m\u001b[0m\u001b[1;33m\u001b[0m\u001b[0m\n\u001b[0;32m   2570\u001b[0m \u001b[1;33m\u001b[0m\u001b[0m\n",
         "\u001b[1;32m~\\AppData\\Roaming\\Python\\Python37\\site-packages\\pandas\\core\\indexes\\base.py\u001b[0m in \u001b[0;36mget_indexer\u001b[1;34m(self, target, method, limit, tolerance)\u001b[0m\n\u001b[0;32m   2983\u001b[0m         \u001b[1;32mif\u001b[0m \u001b[1;32mnot\u001b[0m \u001b[0mself\u001b[0m\u001b[1;33m.\u001b[0m\u001b[0mis_unique\u001b[0m\u001b[1;33m:\u001b[0m\u001b[1;33m\u001b[0m\u001b[1;33m\u001b[0m\u001b[0m\n\u001b[0;32m   2984\u001b[0m             raise InvalidIndexError(\n\u001b[1;32m-> 2985\u001b[1;33m                 \u001b[1;34m\"Reindexing only valid with uniquely\"\u001b[0m \u001b[1;34m\" valued Index objects\"\u001b[0m\u001b[1;33m\u001b[0m\u001b[1;33m\u001b[0m\u001b[0m\n\u001b[0m\u001b[0;32m   2986\u001b[0m             )\n\u001b[0;32m   2987\u001b[0m \u001b[1;33m\u001b[0m\u001b[0m\n",
         "\u001b[1;31mInvalidIndexError\u001b[0m: Reindexing only valid with uniquely valued Index objects"
        ]
       }
      ],
      "source": "pd.DataFrame(\n    {\n        \"repo_url1\" : repository_info.url[ranking_nmf_multiplicative[0][0:9]], \n        \"repo_description1\" : repository_info.description[ranking_nmf_multiplicative[0][0:9]],\n        \"repo_url2\" : repository_info.url[ranking_nmf_multiplicative[1][0:9]], \n        \"repo_description2\" : repository_info.description[ranking_nmf_multiplicative[1][0:9]],\n        \"score\" : ranking_nmf_multiplicative[2][0:9]\n    }\n)",
      "start_time": "2020-04-06T13:25:12.431Z"
     },
     {
      "end_time": "2020-04-06T13:27:01.193Z",
      "execution_time": "26ms",
      "outputs": [
       {
        "ename": "InvalidIndexError",
        "evalue": "Reindexing only valid with uniquely valued Index objects",
        "output_type": "error",
        "traceback": [
         "\u001b[1;31m---------------------------------------------------------------------------\u001b[0m",
         "\u001b[1;31mInvalidIndexError\u001b[0m                         Traceback (most recent call last)",
         "\u001b[1;32m<ipython-input-23-3804f114d054>\u001b[0m in \u001b[0;36m<module>\u001b[1;34m\u001b[0m\n\u001b[0;32m      4\u001b[0m         \u001b[1;34m\"repo_description1\"\u001b[0m \u001b[1;33m:\u001b[0m \u001b[0mrepository_info\u001b[0m\u001b[1;33m.\u001b[0m\u001b[0mdescription\u001b[0m\u001b[1;33m[\u001b[0m\u001b[0mranking_nmf_multiplicative\u001b[0m\u001b[1;33m[\u001b[0m\u001b[1;36m0\u001b[0m\u001b[1;33m]\u001b[0m\u001b[1;33m[\u001b[0m\u001b[1;36m0\u001b[0m\u001b[1;33m:\u001b[0m\u001b[1;36m9\u001b[0m\u001b[1;33m]\u001b[0m\u001b[1;33m]\u001b[0m\u001b[1;33m,\u001b[0m\u001b[1;33m\u001b[0m\u001b[1;33m\u001b[0m\u001b[0m\n\u001b[0;32m      5\u001b[0m         \u001b[1;34m\"repo_url2\"\u001b[0m \u001b[1;33m:\u001b[0m \u001b[0mrepository_info\u001b[0m\u001b[1;33m.\u001b[0m\u001b[0murl\u001b[0m\u001b[1;33m[\u001b[0m\u001b[0mranking_nmf_multiplicative\u001b[0m\u001b[1;33m[\u001b[0m\u001b[1;36m1\u001b[0m\u001b[1;33m]\u001b[0m\u001b[1;33m[\u001b[0m\u001b[1;36m0\u001b[0m\u001b[1;33m:\u001b[0m\u001b[1;36m9\u001b[0m\u001b[1;33m]\u001b[0m\u001b[1;33m]\u001b[0m\u001b[1;33m,\u001b[0m\u001b[1;33m\u001b[0m\u001b[1;33m\u001b[0m\u001b[0m\n\u001b[1;32m----> 6\u001b[1;33m         \u001b[1;34m\"repo_description2\"\u001b[0m \u001b[1;33m:\u001b[0m \u001b[0mrepository_info\u001b[0m\u001b[1;33m.\u001b[0m\u001b[0mdescription\u001b[0m\u001b[1;33m[\u001b[0m\u001b[0mranking_nmf_multiplicative\u001b[0m\u001b[1;33m[\u001b[0m\u001b[1;36m1\u001b[0m\u001b[1;33m]\u001b[0m\u001b[1;33m[\u001b[0m\u001b[1;36m0\u001b[0m\u001b[1;33m:\u001b[0m\u001b[1;36m9\u001b[0m\u001b[1;33m]\u001b[0m\u001b[1;33m]\u001b[0m\u001b[1;33m\u001b[0m\u001b[1;33m\u001b[0m\u001b[0m\n\u001b[0m\u001b[0;32m      7\u001b[0m     }\n\u001b[0;32m      8\u001b[0m )\n",
         "\u001b[1;32m~\\AppData\\Roaming\\Python\\Python37\\site-packages\\pandas\\core\\frame.py\u001b[0m in \u001b[0;36m__init__\u001b[1;34m(self, data, index, columns, dtype, copy)\u001b[0m\n\u001b[0;32m    409\u001b[0m             )\n\u001b[0;32m    410\u001b[0m         \u001b[1;32melif\u001b[0m \u001b[0misinstance\u001b[0m\u001b[1;33m(\u001b[0m\u001b[0mdata\u001b[0m\u001b[1;33m,\u001b[0m \u001b[0mdict\u001b[0m\u001b[1;33m)\u001b[0m\u001b[1;33m:\u001b[0m\u001b[1;33m\u001b[0m\u001b[1;33m\u001b[0m\u001b[0m\n\u001b[1;32m--> 411\u001b[1;33m             \u001b[0mmgr\u001b[0m \u001b[1;33m=\u001b[0m \u001b[0minit_dict\u001b[0m\u001b[1;33m(\u001b[0m\u001b[0mdata\u001b[0m\u001b[1;33m,\u001b[0m \u001b[0mindex\u001b[0m\u001b[1;33m,\u001b[0m \u001b[0mcolumns\u001b[0m\u001b[1;33m,\u001b[0m \u001b[0mdtype\u001b[0m\u001b[1;33m=\u001b[0m\u001b[0mdtype\u001b[0m\u001b[1;33m)\u001b[0m\u001b[1;33m\u001b[0m\u001b[1;33m\u001b[0m\u001b[0m\n\u001b[0m\u001b[0;32m    412\u001b[0m         \u001b[1;32melif\u001b[0m \u001b[0misinstance\u001b[0m\u001b[1;33m(\u001b[0m\u001b[0mdata\u001b[0m\u001b[1;33m,\u001b[0m \u001b[0mma\u001b[0m\u001b[1;33m.\u001b[0m\u001b[0mMaskedArray\u001b[0m\u001b[1;33m)\u001b[0m\u001b[1;33m:\u001b[0m\u001b[1;33m\u001b[0m\u001b[1;33m\u001b[0m\u001b[0m\n\u001b[0;32m    413\u001b[0m             \u001b[1;32mimport\u001b[0m \u001b[0mnumpy\u001b[0m\u001b[1;33m.\u001b[0m\u001b[0mma\u001b[0m\u001b[1;33m.\u001b[0m\u001b[0mmrecords\u001b[0m \u001b[1;32mas\u001b[0m \u001b[0mmrecords\u001b[0m\u001b[1;33m\u001b[0m\u001b[1;33m\u001b[0m\u001b[0m\n",
         "\u001b[1;32m~\\AppData\\Roaming\\Python\\Python37\\site-packages\\pandas\\core\\internals\\construction.py\u001b[0m in \u001b[0;36minit_dict\u001b[1;34m(data, index, columns, dtype)\u001b[0m\n\u001b[0;32m    255\u001b[0m             \u001b[0marr\u001b[0m \u001b[1;32mif\u001b[0m \u001b[1;32mnot\u001b[0m \u001b[0mis_datetime64tz_dtype\u001b[0m\u001b[1;33m(\u001b[0m\u001b[0marr\u001b[0m\u001b[1;33m)\u001b[0m \u001b[1;32melse\u001b[0m \u001b[0marr\u001b[0m\u001b[1;33m.\u001b[0m\u001b[0mcopy\u001b[0m\u001b[1;33m(\u001b[0m\u001b[1;33m)\u001b[0m \u001b[1;32mfor\u001b[0m \u001b[0marr\u001b[0m \u001b[1;32min\u001b[0m \u001b[0marrays\u001b[0m\u001b[1;33m\u001b[0m\u001b[1;33m\u001b[0m\u001b[0m\n\u001b[0;32m    256\u001b[0m         ]\n\u001b[1;32m--> 257\u001b[1;33m     \u001b[1;32mreturn\u001b[0m \u001b[0marrays_to_mgr\u001b[0m\u001b[1;33m(\u001b[0m\u001b[0marrays\u001b[0m\u001b[1;33m,\u001b[0m \u001b[0mdata_names\u001b[0m\u001b[1;33m,\u001b[0m \u001b[0mindex\u001b[0m\u001b[1;33m,\u001b[0m \u001b[0mcolumns\u001b[0m\u001b[1;33m,\u001b[0m \u001b[0mdtype\u001b[0m\u001b[1;33m=\u001b[0m\u001b[0mdtype\u001b[0m\u001b[1;33m)\u001b[0m\u001b[1;33m\u001b[0m\u001b[1;33m\u001b[0m\u001b[0m\n\u001b[0m\u001b[0;32m    258\u001b[0m \u001b[1;33m\u001b[0m\u001b[0m\n\u001b[0;32m    259\u001b[0m \u001b[1;33m\u001b[0m\u001b[0m\n",
         "\u001b[1;32m~\\AppData\\Roaming\\Python\\Python37\\site-packages\\pandas\\core\\internals\\construction.py\u001b[0m in \u001b[0;36marrays_to_mgr\u001b[1;34m(arrays, arr_names, index, columns, dtype)\u001b[0m\n\u001b[0;32m     75\u001b[0m     \u001b[1;31m# figure out the index, if necessary\u001b[0m\u001b[1;33m\u001b[0m\u001b[1;33m\u001b[0m\u001b[1;33m\u001b[0m\u001b[0m\n\u001b[0;32m     76\u001b[0m     \u001b[1;32mif\u001b[0m \u001b[0mindex\u001b[0m \u001b[1;32mis\u001b[0m \u001b[1;32mNone\u001b[0m\u001b[1;33m:\u001b[0m\u001b[1;33m\u001b[0m\u001b[1;33m\u001b[0m\u001b[0m\n\u001b[1;32m---> 77\u001b[1;33m         \u001b[0mindex\u001b[0m \u001b[1;33m=\u001b[0m \u001b[0mextract_index\u001b[0m\u001b[1;33m(\u001b[0m\u001b[0marrays\u001b[0m\u001b[1;33m)\u001b[0m\u001b[1;33m\u001b[0m\u001b[1;33m\u001b[0m\u001b[0m\n\u001b[0m\u001b[0;32m     78\u001b[0m     \u001b[1;32melse\u001b[0m\u001b[1;33m:\u001b[0m\u001b[1;33m\u001b[0m\u001b[1;33m\u001b[0m\u001b[0m\n\u001b[0;32m     79\u001b[0m         \u001b[0mindex\u001b[0m \u001b[1;33m=\u001b[0m \u001b[0mensure_index\u001b[0m\u001b[1;33m(\u001b[0m\u001b[0mindex\u001b[0m\u001b[1;33m)\u001b[0m\u001b[1;33m\u001b[0m\u001b[1;33m\u001b[0m\u001b[0m\n",
         "\u001b[1;32m~\\AppData\\Roaming\\Python\\Python37\\site-packages\\pandas\\core\\internals\\construction.py\u001b[0m in \u001b[0;36mextract_index\u001b[1;34m(data)\u001b[0m\n\u001b[0;32m    359\u001b[0m \u001b[1;33m\u001b[0m\u001b[0m\n\u001b[0;32m    360\u001b[0m         \u001b[1;32mif\u001b[0m \u001b[0mhave_series\u001b[0m\u001b[1;33m:\u001b[0m\u001b[1;33m\u001b[0m\u001b[1;33m\u001b[0m\u001b[0m\n\u001b[1;32m--> 361\u001b[1;33m             \u001b[0mindex\u001b[0m \u001b[1;33m=\u001b[0m \u001b[0m_union_indexes\u001b[0m\u001b[1;33m(\u001b[0m\u001b[0mindexes\u001b[0m\u001b[1;33m)\u001b[0m\u001b[1;33m\u001b[0m\u001b[1;33m\u001b[0m\u001b[0m\n\u001b[0m\u001b[0;32m    362\u001b[0m         \u001b[1;32melif\u001b[0m \u001b[0mhave_dicts\u001b[0m\u001b[1;33m:\u001b[0m\u001b[1;33m\u001b[0m\u001b[1;33m\u001b[0m\u001b[0m\n\u001b[0;32m    363\u001b[0m             \u001b[0mindex\u001b[0m \u001b[1;33m=\u001b[0m \u001b[0m_union_indexes\u001b[0m\u001b[1;33m(\u001b[0m\u001b[0mindexes\u001b[0m\u001b[1;33m,\u001b[0m \u001b[0msort\u001b[0m\u001b[1;33m=\u001b[0m\u001b[1;32mnot\u001b[0m \u001b[1;33m(\u001b[0m\u001b[0mcompat\u001b[0m\u001b[1;33m.\u001b[0m\u001b[0mPY36\u001b[0m \u001b[1;32mor\u001b[0m \u001b[0mhave_ordered\u001b[0m\u001b[1;33m)\u001b[0m\u001b[1;33m)\u001b[0m\u001b[1;33m\u001b[0m\u001b[1;33m\u001b[0m\u001b[0m\n",
         "\u001b[1;32m~\\AppData\\Roaming\\Python\\Python37\\site-packages\\pandas\\core\\indexes\\api.py\u001b[0m in \u001b[0;36m_union_indexes\u001b[1;34m(indexes, sort)\u001b[0m\n\u001b[0;32m    204\u001b[0m         \u001b[1;32melse\u001b[0m\u001b[1;33m:\u001b[0m\u001b[1;33m\u001b[0m\u001b[1;33m\u001b[0m\u001b[0m\n\u001b[0;32m    205\u001b[0m             \u001b[1;32mfor\u001b[0m \u001b[0mother\u001b[0m \u001b[1;32min\u001b[0m \u001b[0mindexes\u001b[0m\u001b[1;33m[\u001b[0m\u001b[1;36m1\u001b[0m\u001b[1;33m:\u001b[0m\u001b[1;33m]\u001b[0m\u001b[1;33m:\u001b[0m\u001b[1;33m\u001b[0m\u001b[1;33m\u001b[0m\u001b[0m\n\u001b[1;32m--> 206\u001b[1;33m                 \u001b[0mresult\u001b[0m \u001b[1;33m=\u001b[0m \u001b[0mresult\u001b[0m\u001b[1;33m.\u001b[0m\u001b[0munion\u001b[0m\u001b[1;33m(\u001b[0m\u001b[0mother\u001b[0m\u001b[1;33m)\u001b[0m\u001b[1;33m\u001b[0m\u001b[1;33m\u001b[0m\u001b[0m\n\u001b[0m\u001b[0;32m    207\u001b[0m             \u001b[1;32mreturn\u001b[0m \u001b[0mresult\u001b[0m\u001b[1;33m\u001b[0m\u001b[1;33m\u001b[0m\u001b[0m\n\u001b[0;32m    208\u001b[0m     \u001b[1;32melif\u001b[0m \u001b[0mkind\u001b[0m \u001b[1;33m==\u001b[0m \u001b[1;34m\"array\"\u001b[0m\u001b[1;33m:\u001b[0m\u001b[1;33m\u001b[0m\u001b[1;33m\u001b[0m\u001b[0m\n",
         "\u001b[1;32m~\\AppData\\Roaming\\Python\\Python37\\site-packages\\pandas\\core\\indexes\\base.py\u001b[0m in \u001b[0;36munion\u001b[1;34m(self, other, sort)\u001b[0m\n\u001b[0;32m   2517\u001b[0m             \u001b[1;32mreturn\u001b[0m \u001b[0mself\u001b[0m\u001b[1;33m.\u001b[0m\u001b[0m_union_incompatible_dtypes\u001b[0m\u001b[1;33m(\u001b[0m\u001b[0mother\u001b[0m\u001b[1;33m,\u001b[0m \u001b[0msort\u001b[0m\u001b[1;33m=\u001b[0m\u001b[0msort\u001b[0m\u001b[1;33m)\u001b[0m\u001b[1;33m\u001b[0m\u001b[1;33m\u001b[0m\u001b[0m\n\u001b[0;32m   2518\u001b[0m \u001b[1;33m\u001b[0m\u001b[0m\n\u001b[1;32m-> 2519\u001b[1;33m         \u001b[1;32mreturn\u001b[0m \u001b[0mself\u001b[0m\u001b[1;33m.\u001b[0m\u001b[0m_union\u001b[0m\u001b[1;33m(\u001b[0m\u001b[0mother\u001b[0m\u001b[1;33m,\u001b[0m \u001b[0msort\u001b[0m\u001b[1;33m=\u001b[0m\u001b[0msort\u001b[0m\u001b[1;33m)\u001b[0m\u001b[1;33m\u001b[0m\u001b[1;33m\u001b[0m\u001b[0m\n\u001b[0m\u001b[0;32m   2520\u001b[0m \u001b[1;33m\u001b[0m\u001b[0m\n\u001b[0;32m   2521\u001b[0m     \u001b[1;32mdef\u001b[0m \u001b[0m_union\u001b[0m\u001b[1;33m(\u001b[0m\u001b[0mself\u001b[0m\u001b[1;33m,\u001b[0m \u001b[0mother\u001b[0m\u001b[1;33m,\u001b[0m \u001b[0msort\u001b[0m\u001b[1;33m)\u001b[0m\u001b[1;33m:\u001b[0m\u001b[1;33m\u001b[0m\u001b[1;33m\u001b[0m\u001b[0m\n",
         "\u001b[1;32m~\\AppData\\Roaming\\Python\\Python37\\site-packages\\pandas\\core\\indexes\\numeric.py\u001b[0m in \u001b[0;36m_union\u001b[1;34m(self, other, sort)\u001b[0m\n\u001b[0;32m    161\u001b[0m             \u001b[1;32mreturn\u001b[0m \u001b[0mfirst\u001b[0m\u001b[1;33m.\u001b[0m\u001b[0m_union\u001b[0m\u001b[1;33m(\u001b[0m\u001b[0msecond\u001b[0m\u001b[1;33m,\u001b[0m \u001b[0msort\u001b[0m\u001b[1;33m)\u001b[0m\u001b[1;33m\u001b[0m\u001b[1;33m\u001b[0m\u001b[0m\n\u001b[0;32m    162\u001b[0m         \u001b[1;32melse\u001b[0m\u001b[1;33m:\u001b[0m\u001b[1;33m\u001b[0m\u001b[1;33m\u001b[0m\u001b[0m\n\u001b[1;32m--> 163\u001b[1;33m             \u001b[1;32mreturn\u001b[0m \u001b[0msuper\u001b[0m\u001b[1;33m(\u001b[0m\u001b[1;33m)\u001b[0m\u001b[1;33m.\u001b[0m\u001b[0m_union\u001b[0m\u001b[1;33m(\u001b[0m\u001b[0mother\u001b[0m\u001b[1;33m,\u001b[0m \u001b[0msort\u001b[0m\u001b[1;33m)\u001b[0m\u001b[1;33m\u001b[0m\u001b[1;33m\u001b[0m\u001b[0m\n\u001b[0m\u001b[0;32m    164\u001b[0m \u001b[1;33m\u001b[0m\u001b[0m\n\u001b[0;32m    165\u001b[0m \u001b[1;33m\u001b[0m\u001b[0m\n",
         "\u001b[1;32m~\\AppData\\Roaming\\Python\\Python37\\site-packages\\pandas\\core\\indexes\\base.py\u001b[0m in \u001b[0;36m_union\u001b[1;34m(self, other, sort)\u001b[0m\n\u001b[0;32m   2566\u001b[0m                 \u001b[0mresult\u001b[0m\u001b[1;33m.\u001b[0m\u001b[0mextend\u001b[0m\u001b[1;33m(\u001b[0m\u001b[1;33m[\u001b[0m\u001b[0mx\u001b[0m \u001b[1;32mfor\u001b[0m \u001b[0mx\u001b[0m \u001b[1;32min\u001b[0m \u001b[0mrvals\u001b[0m \u001b[1;32mif\u001b[0m \u001b[0mx\u001b[0m \u001b[1;32mnot\u001b[0m \u001b[1;32min\u001b[0m \u001b[0mvalue_set\u001b[0m\u001b[1;33m]\u001b[0m\u001b[1;33m)\u001b[0m\u001b[1;33m\u001b[0m\u001b[1;33m\u001b[0m\u001b[0m\n\u001b[0;32m   2567\u001b[0m         \u001b[1;32melse\u001b[0m\u001b[1;33m:\u001b[0m\u001b[1;33m\u001b[0m\u001b[1;33m\u001b[0m\u001b[0m\n\u001b[1;32m-> 2568\u001b[1;33m             \u001b[0mindexer\u001b[0m \u001b[1;33m=\u001b[0m \u001b[0mself\u001b[0m\u001b[1;33m.\u001b[0m\u001b[0mget_indexer\u001b[0m\u001b[1;33m(\u001b[0m\u001b[0mother\u001b[0m\u001b[1;33m)\u001b[0m\u001b[1;33m\u001b[0m\u001b[1;33m\u001b[0m\u001b[0m\n\u001b[0m\u001b[0;32m   2569\u001b[0m             \u001b[0mindexer\u001b[0m\u001b[1;33m,\u001b[0m \u001b[1;33m=\u001b[0m \u001b[1;33m(\u001b[0m\u001b[0mindexer\u001b[0m \u001b[1;33m==\u001b[0m \u001b[1;33m-\u001b[0m\u001b[1;36m1\u001b[0m\u001b[1;33m)\u001b[0m\u001b[1;33m.\u001b[0m\u001b[0mnonzero\u001b[0m\u001b[1;33m(\u001b[0m\u001b[1;33m)\u001b[0m\u001b[1;33m\u001b[0m\u001b[1;33m\u001b[0m\u001b[0m\n\u001b[0;32m   2570\u001b[0m \u001b[1;33m\u001b[0m\u001b[0m\n",
         "\u001b[1;32m~\\AppData\\Roaming\\Python\\Python37\\site-packages\\pandas\\core\\indexes\\base.py\u001b[0m in \u001b[0;36mget_indexer\u001b[1;34m(self, target, method, limit, tolerance)\u001b[0m\n\u001b[0;32m   2983\u001b[0m         \u001b[1;32mif\u001b[0m \u001b[1;32mnot\u001b[0m \u001b[0mself\u001b[0m\u001b[1;33m.\u001b[0m\u001b[0mis_unique\u001b[0m\u001b[1;33m:\u001b[0m\u001b[1;33m\u001b[0m\u001b[1;33m\u001b[0m\u001b[0m\n\u001b[0;32m   2984\u001b[0m             raise InvalidIndexError(\n\u001b[1;32m-> 2985\u001b[1;33m                 \u001b[1;34m\"Reindexing only valid with uniquely\"\u001b[0m \u001b[1;34m\" valued Index objects\"\u001b[0m\u001b[1;33m\u001b[0m\u001b[1;33m\u001b[0m\u001b[0m\n\u001b[0m\u001b[0;32m   2986\u001b[0m             )\n\u001b[0;32m   2987\u001b[0m \u001b[1;33m\u001b[0m\u001b[0m\n",
         "\u001b[1;31mInvalidIndexError\u001b[0m: Reindexing only valid with uniquely valued Index objects"
        ]
       }
      ],
      "source": "pd.DataFrame(\n    {\n        \"repo_url1\" : repository_info.url[ranking_nmf_multiplicative[0][0:9]], \n        \"repo_description1\" : repository_info.description[ranking_nmf_multiplicative[0][0:9]],\n        \"repo_url2\" : repository_info.url[ranking_nmf_multiplicative[1][0:9]], \n        \"repo_description2\" : repository_info.description[ranking_nmf_multiplicative[1][0:9]]\n    }\n)",
      "start_time": "2020-04-06T13:27:01.167Z"
     },
     {
      "end_time": "2020-04-06T13:29:02.626Z",
      "execution_time": "23ms",
      "outputs": [
       {
        "data": {
         "text/html": "<div>\n<style scoped>\n    .dataframe tbody tr th:only-of-type {\n        vertical-align: middle;\n    }\n\n    .dataframe tbody tr th {\n        vertical-align: top;\n    }\n\n    .dataframe thead th {\n        text-align: right;\n    }\n</style>\n<table border=\"1\" class=\"dataframe\">\n  <thead>\n    <tr style=\"text-align: right;\">\n      <th></th>\n      <th>repo_url1</th>\n    </tr>\n  </thead>\n  <tbody>\n    <tr>\n      <th>5712</th>\n      <td>https://api.github.com/repos/fuzimaoxinan/Tens...</td>\n    </tr>\n    <tr>\n      <th>5712</th>\n      <td>https://api.github.com/repos/fuzimaoxinan/Tens...</td>\n    </tr>\n    <tr>\n      <th>5712</th>\n      <td>https://api.github.com/repos/fuzimaoxinan/Tens...</td>\n    </tr>\n    <tr>\n      <th>5712</th>\n      <td>https://api.github.com/repos/fuzimaoxinan/Tens...</td>\n    </tr>\n    <tr>\n      <th>5712</th>\n      <td>https://api.github.com/repos/fuzimaoxinan/Tens...</td>\n    </tr>\n    <tr>\n      <th>5712</th>\n      <td>https://api.github.com/repos/fuzimaoxinan/Tens...</td>\n    </tr>\n    <tr>\n      <th>5712</th>\n      <td>https://api.github.com/repos/fuzimaoxinan/Tens...</td>\n    </tr>\n    <tr>\n      <th>5712</th>\n      <td>https://api.github.com/repos/fuzimaoxinan/Tens...</td>\n    </tr>\n    <tr>\n      <th>5712</th>\n      <td>https://api.github.com/repos/fuzimaoxinan/Tens...</td>\n    </tr>\n  </tbody>\n</table>\n</div>",
         "text/plain": "                                              repo_url1\n5712  https://api.github.com/repos/fuzimaoxinan/Tens...\n5712  https://api.github.com/repos/fuzimaoxinan/Tens...\n5712  https://api.github.com/repos/fuzimaoxinan/Tens...\n5712  https://api.github.com/repos/fuzimaoxinan/Tens...\n5712  https://api.github.com/repos/fuzimaoxinan/Tens...\n5712  https://api.github.com/repos/fuzimaoxinan/Tens...\n5712  https://api.github.com/repos/fuzimaoxinan/Tens...\n5712  https://api.github.com/repos/fuzimaoxinan/Tens...\n5712  https://api.github.com/repos/fuzimaoxinan/Tens..."
        },
        "execution_count": 24,
        "metadata": {},
        "output_type": "execute_result"
       }
      ],
      "source": "pd.DataFrame(\n    {\n        \"repo_url1\" : repository_info.url[ranking_nmf_multiplicative[0][0:9]], \n        #\"repo_description1\" : repository_info.description[ranking_nmf_multiplicative[0][0:9]],\n        #\"repo_url2\" : repository_info.url[ranking_nmf_multiplicative[1][0:9]], \n        #\"repo_description2\" : repository_info.description[ranking_nmf_multiplicative[1][0:9]],\n        #\"score\" : ranking_nmf_multiplicative[2][0:9]\n    }\n)",
      "start_time": "2020-04-06T13:29:02.603Z"
     },
     {
      "end_time": "2020-04-06T13:29:27.729Z",
      "execution_time": "23ms",
      "outputs": [
       {
        "ename": "InvalidIndexError",
        "evalue": "Reindexing only valid with uniquely valued Index objects",
        "output_type": "error",
        "traceback": [
         "\u001b[1;31m---------------------------------------------------------------------------\u001b[0m",
         "\u001b[1;31mInvalidIndexError\u001b[0m                         Traceback (most recent call last)",
         "\u001b[1;32m<ipython-input-25-626c64d5616f>\u001b[0m in \u001b[0;36m<module>\u001b[1;34m\u001b[0m\n\u001b[0;32m      3\u001b[0m         \u001b[1;34m\"repo_url1\"\u001b[0m \u001b[1;33m:\u001b[0m \u001b[0mrepository_info\u001b[0m\u001b[1;33m.\u001b[0m\u001b[0murl\u001b[0m\u001b[1;33m[\u001b[0m\u001b[0mranking_nmf_multiplicative\u001b[0m\u001b[1;33m[\u001b[0m\u001b[1;36m0\u001b[0m\u001b[1;33m]\u001b[0m\u001b[1;33m[\u001b[0m\u001b[1;36m0\u001b[0m\u001b[1;33m:\u001b[0m\u001b[1;36m9\u001b[0m\u001b[1;33m]\u001b[0m\u001b[1;33m]\u001b[0m\u001b[1;33m,\u001b[0m\u001b[1;33m\u001b[0m\u001b[1;33m\u001b[0m\u001b[0m\n\u001b[0;32m      4\u001b[0m         \u001b[1;31m#\"repo_description1\" : repository_info.description[ranking_nmf_multiplicative[0][0:9]],\u001b[0m\u001b[1;33m\u001b[0m\u001b[1;33m\u001b[0m\u001b[1;33m\u001b[0m\u001b[0m\n\u001b[1;32m----> 5\u001b[1;33m         \u001b[1;34m\"repo_url2\"\u001b[0m \u001b[1;33m:\u001b[0m \u001b[0mrepository_info\u001b[0m\u001b[1;33m.\u001b[0m\u001b[0murl\u001b[0m\u001b[1;33m[\u001b[0m\u001b[0mranking_nmf_multiplicative\u001b[0m\u001b[1;33m[\u001b[0m\u001b[1;36m1\u001b[0m\u001b[1;33m]\u001b[0m\u001b[1;33m[\u001b[0m\u001b[1;36m0\u001b[0m\u001b[1;33m:\u001b[0m\u001b[1;36m9\u001b[0m\u001b[1;33m]\u001b[0m\u001b[1;33m]\u001b[0m\u001b[1;33m,\u001b[0m\u001b[1;33m\u001b[0m\u001b[1;33m\u001b[0m\u001b[0m\n\u001b[0m\u001b[0;32m      6\u001b[0m         \u001b[1;31m#\"repo_description2\" : repository_info.description[ranking_nmf_multiplicative[1][0:9]],\u001b[0m\u001b[1;33m\u001b[0m\u001b[1;33m\u001b[0m\u001b[1;33m\u001b[0m\u001b[0m\n\u001b[0;32m      7\u001b[0m         \u001b[1;31m#\"score\" : ranking_nmf_multiplicative[2][0:9]\u001b[0m\u001b[1;33m\u001b[0m\u001b[1;33m\u001b[0m\u001b[1;33m\u001b[0m\u001b[0m\n",
         "\u001b[1;32m~\\AppData\\Roaming\\Python\\Python37\\site-packages\\pandas\\core\\frame.py\u001b[0m in \u001b[0;36m__init__\u001b[1;34m(self, data, index, columns, dtype, copy)\u001b[0m\n\u001b[0;32m    409\u001b[0m             )\n\u001b[0;32m    410\u001b[0m         \u001b[1;32melif\u001b[0m \u001b[0misinstance\u001b[0m\u001b[1;33m(\u001b[0m\u001b[0mdata\u001b[0m\u001b[1;33m,\u001b[0m \u001b[0mdict\u001b[0m\u001b[1;33m)\u001b[0m\u001b[1;33m:\u001b[0m\u001b[1;33m\u001b[0m\u001b[1;33m\u001b[0m\u001b[0m\n\u001b[1;32m--> 411\u001b[1;33m             \u001b[0mmgr\u001b[0m \u001b[1;33m=\u001b[0m \u001b[0minit_dict\u001b[0m\u001b[1;33m(\u001b[0m\u001b[0mdata\u001b[0m\u001b[1;33m,\u001b[0m \u001b[0mindex\u001b[0m\u001b[1;33m,\u001b[0m \u001b[0mcolumns\u001b[0m\u001b[1;33m,\u001b[0m \u001b[0mdtype\u001b[0m\u001b[1;33m=\u001b[0m\u001b[0mdtype\u001b[0m\u001b[1;33m)\u001b[0m\u001b[1;33m\u001b[0m\u001b[1;33m\u001b[0m\u001b[0m\n\u001b[0m\u001b[0;32m    412\u001b[0m         \u001b[1;32melif\u001b[0m \u001b[0misinstance\u001b[0m\u001b[1;33m(\u001b[0m\u001b[0mdata\u001b[0m\u001b[1;33m,\u001b[0m \u001b[0mma\u001b[0m\u001b[1;33m.\u001b[0m\u001b[0mMaskedArray\u001b[0m\u001b[1;33m)\u001b[0m\u001b[1;33m:\u001b[0m\u001b[1;33m\u001b[0m\u001b[1;33m\u001b[0m\u001b[0m\n\u001b[0;32m    413\u001b[0m             \u001b[1;32mimport\u001b[0m \u001b[0mnumpy\u001b[0m\u001b[1;33m.\u001b[0m\u001b[0mma\u001b[0m\u001b[1;33m.\u001b[0m\u001b[0mmrecords\u001b[0m \u001b[1;32mas\u001b[0m \u001b[0mmrecords\u001b[0m\u001b[1;33m\u001b[0m\u001b[1;33m\u001b[0m\u001b[0m\n",
         "\u001b[1;32m~\\AppData\\Roaming\\Python\\Python37\\site-packages\\pandas\\core\\internals\\construction.py\u001b[0m in \u001b[0;36minit_dict\u001b[1;34m(data, index, columns, dtype)\u001b[0m\n\u001b[0;32m    255\u001b[0m             \u001b[0marr\u001b[0m \u001b[1;32mif\u001b[0m \u001b[1;32mnot\u001b[0m \u001b[0mis_datetime64tz_dtype\u001b[0m\u001b[1;33m(\u001b[0m\u001b[0marr\u001b[0m\u001b[1;33m)\u001b[0m \u001b[1;32melse\u001b[0m \u001b[0marr\u001b[0m\u001b[1;33m.\u001b[0m\u001b[0mcopy\u001b[0m\u001b[1;33m(\u001b[0m\u001b[1;33m)\u001b[0m \u001b[1;32mfor\u001b[0m \u001b[0marr\u001b[0m \u001b[1;32min\u001b[0m \u001b[0marrays\u001b[0m\u001b[1;33m\u001b[0m\u001b[1;33m\u001b[0m\u001b[0m\n\u001b[0;32m    256\u001b[0m         ]\n\u001b[1;32m--> 257\u001b[1;33m     \u001b[1;32mreturn\u001b[0m \u001b[0marrays_to_mgr\u001b[0m\u001b[1;33m(\u001b[0m\u001b[0marrays\u001b[0m\u001b[1;33m,\u001b[0m \u001b[0mdata_names\u001b[0m\u001b[1;33m,\u001b[0m \u001b[0mindex\u001b[0m\u001b[1;33m,\u001b[0m \u001b[0mcolumns\u001b[0m\u001b[1;33m,\u001b[0m \u001b[0mdtype\u001b[0m\u001b[1;33m=\u001b[0m\u001b[0mdtype\u001b[0m\u001b[1;33m)\u001b[0m\u001b[1;33m\u001b[0m\u001b[1;33m\u001b[0m\u001b[0m\n\u001b[0m\u001b[0;32m    258\u001b[0m \u001b[1;33m\u001b[0m\u001b[0m\n\u001b[0;32m    259\u001b[0m \u001b[1;33m\u001b[0m\u001b[0m\n",
         "\u001b[1;32m~\\AppData\\Roaming\\Python\\Python37\\site-packages\\pandas\\core\\internals\\construction.py\u001b[0m in \u001b[0;36marrays_to_mgr\u001b[1;34m(arrays, arr_names, index, columns, dtype)\u001b[0m\n\u001b[0;32m     75\u001b[0m     \u001b[1;31m# figure out the index, if necessary\u001b[0m\u001b[1;33m\u001b[0m\u001b[1;33m\u001b[0m\u001b[1;33m\u001b[0m\u001b[0m\n\u001b[0;32m     76\u001b[0m     \u001b[1;32mif\u001b[0m \u001b[0mindex\u001b[0m \u001b[1;32mis\u001b[0m \u001b[1;32mNone\u001b[0m\u001b[1;33m:\u001b[0m\u001b[1;33m\u001b[0m\u001b[1;33m\u001b[0m\u001b[0m\n\u001b[1;32m---> 77\u001b[1;33m         \u001b[0mindex\u001b[0m \u001b[1;33m=\u001b[0m \u001b[0mextract_index\u001b[0m\u001b[1;33m(\u001b[0m\u001b[0marrays\u001b[0m\u001b[1;33m)\u001b[0m\u001b[1;33m\u001b[0m\u001b[1;33m\u001b[0m\u001b[0m\n\u001b[0m\u001b[0;32m     78\u001b[0m     \u001b[1;32melse\u001b[0m\u001b[1;33m:\u001b[0m\u001b[1;33m\u001b[0m\u001b[1;33m\u001b[0m\u001b[0m\n\u001b[0;32m     79\u001b[0m         \u001b[0mindex\u001b[0m \u001b[1;33m=\u001b[0m \u001b[0mensure_index\u001b[0m\u001b[1;33m(\u001b[0m\u001b[0mindex\u001b[0m\u001b[1;33m)\u001b[0m\u001b[1;33m\u001b[0m\u001b[1;33m\u001b[0m\u001b[0m\n",
         "\u001b[1;32m~\\AppData\\Roaming\\Python\\Python37\\site-packages\\pandas\\core\\internals\\construction.py\u001b[0m in \u001b[0;36mextract_index\u001b[1;34m(data)\u001b[0m\n\u001b[0;32m    359\u001b[0m \u001b[1;33m\u001b[0m\u001b[0m\n\u001b[0;32m    360\u001b[0m         \u001b[1;32mif\u001b[0m \u001b[0mhave_series\u001b[0m\u001b[1;33m:\u001b[0m\u001b[1;33m\u001b[0m\u001b[1;33m\u001b[0m\u001b[0m\n\u001b[1;32m--> 361\u001b[1;33m             \u001b[0mindex\u001b[0m \u001b[1;33m=\u001b[0m \u001b[0m_union_indexes\u001b[0m\u001b[1;33m(\u001b[0m\u001b[0mindexes\u001b[0m\u001b[1;33m)\u001b[0m\u001b[1;33m\u001b[0m\u001b[1;33m\u001b[0m\u001b[0m\n\u001b[0m\u001b[0;32m    362\u001b[0m         \u001b[1;32melif\u001b[0m \u001b[0mhave_dicts\u001b[0m\u001b[1;33m:\u001b[0m\u001b[1;33m\u001b[0m\u001b[1;33m\u001b[0m\u001b[0m\n\u001b[0;32m    363\u001b[0m             \u001b[0mindex\u001b[0m \u001b[1;33m=\u001b[0m \u001b[0m_union_indexes\u001b[0m\u001b[1;33m(\u001b[0m\u001b[0mindexes\u001b[0m\u001b[1;33m,\u001b[0m \u001b[0msort\u001b[0m\u001b[1;33m=\u001b[0m\u001b[1;32mnot\u001b[0m \u001b[1;33m(\u001b[0m\u001b[0mcompat\u001b[0m\u001b[1;33m.\u001b[0m\u001b[0mPY36\u001b[0m \u001b[1;32mor\u001b[0m \u001b[0mhave_ordered\u001b[0m\u001b[1;33m)\u001b[0m\u001b[1;33m)\u001b[0m\u001b[1;33m\u001b[0m\u001b[1;33m\u001b[0m\u001b[0m\n",
         "\u001b[1;32m~\\AppData\\Roaming\\Python\\Python37\\site-packages\\pandas\\core\\indexes\\api.py\u001b[0m in \u001b[0;36m_union_indexes\u001b[1;34m(indexes, sort)\u001b[0m\n\u001b[0;32m    204\u001b[0m         \u001b[1;32melse\u001b[0m\u001b[1;33m:\u001b[0m\u001b[1;33m\u001b[0m\u001b[1;33m\u001b[0m\u001b[0m\n\u001b[0;32m    205\u001b[0m             \u001b[1;32mfor\u001b[0m \u001b[0mother\u001b[0m \u001b[1;32min\u001b[0m \u001b[0mindexes\u001b[0m\u001b[1;33m[\u001b[0m\u001b[1;36m1\u001b[0m\u001b[1;33m:\u001b[0m\u001b[1;33m]\u001b[0m\u001b[1;33m:\u001b[0m\u001b[1;33m\u001b[0m\u001b[1;33m\u001b[0m\u001b[0m\n\u001b[1;32m--> 206\u001b[1;33m                 \u001b[0mresult\u001b[0m \u001b[1;33m=\u001b[0m \u001b[0mresult\u001b[0m\u001b[1;33m.\u001b[0m\u001b[0munion\u001b[0m\u001b[1;33m(\u001b[0m\u001b[0mother\u001b[0m\u001b[1;33m)\u001b[0m\u001b[1;33m\u001b[0m\u001b[1;33m\u001b[0m\u001b[0m\n\u001b[0m\u001b[0;32m    207\u001b[0m             \u001b[1;32mreturn\u001b[0m \u001b[0mresult\u001b[0m\u001b[1;33m\u001b[0m\u001b[1;33m\u001b[0m\u001b[0m\n\u001b[0;32m    208\u001b[0m     \u001b[1;32melif\u001b[0m \u001b[0mkind\u001b[0m \u001b[1;33m==\u001b[0m \u001b[1;34m\"array\"\u001b[0m\u001b[1;33m:\u001b[0m\u001b[1;33m\u001b[0m\u001b[1;33m\u001b[0m\u001b[0m\n",
         "\u001b[1;32m~\\AppData\\Roaming\\Python\\Python37\\site-packages\\pandas\\core\\indexes\\base.py\u001b[0m in \u001b[0;36munion\u001b[1;34m(self, other, sort)\u001b[0m\n\u001b[0;32m   2517\u001b[0m             \u001b[1;32mreturn\u001b[0m \u001b[0mself\u001b[0m\u001b[1;33m.\u001b[0m\u001b[0m_union_incompatible_dtypes\u001b[0m\u001b[1;33m(\u001b[0m\u001b[0mother\u001b[0m\u001b[1;33m,\u001b[0m \u001b[0msort\u001b[0m\u001b[1;33m=\u001b[0m\u001b[0msort\u001b[0m\u001b[1;33m)\u001b[0m\u001b[1;33m\u001b[0m\u001b[1;33m\u001b[0m\u001b[0m\n\u001b[0;32m   2518\u001b[0m \u001b[1;33m\u001b[0m\u001b[0m\n\u001b[1;32m-> 2519\u001b[1;33m         \u001b[1;32mreturn\u001b[0m \u001b[0mself\u001b[0m\u001b[1;33m.\u001b[0m\u001b[0m_union\u001b[0m\u001b[1;33m(\u001b[0m\u001b[0mother\u001b[0m\u001b[1;33m,\u001b[0m \u001b[0msort\u001b[0m\u001b[1;33m=\u001b[0m\u001b[0msort\u001b[0m\u001b[1;33m)\u001b[0m\u001b[1;33m\u001b[0m\u001b[1;33m\u001b[0m\u001b[0m\n\u001b[0m\u001b[0;32m   2520\u001b[0m \u001b[1;33m\u001b[0m\u001b[0m\n\u001b[0;32m   2521\u001b[0m     \u001b[1;32mdef\u001b[0m \u001b[0m_union\u001b[0m\u001b[1;33m(\u001b[0m\u001b[0mself\u001b[0m\u001b[1;33m,\u001b[0m \u001b[0mother\u001b[0m\u001b[1;33m,\u001b[0m \u001b[0msort\u001b[0m\u001b[1;33m)\u001b[0m\u001b[1;33m:\u001b[0m\u001b[1;33m\u001b[0m\u001b[1;33m\u001b[0m\u001b[0m\n",
         "\u001b[1;32m~\\AppData\\Roaming\\Python\\Python37\\site-packages\\pandas\\core\\indexes\\numeric.py\u001b[0m in \u001b[0;36m_union\u001b[1;34m(self, other, sort)\u001b[0m\n\u001b[0;32m    161\u001b[0m             \u001b[1;32mreturn\u001b[0m \u001b[0mfirst\u001b[0m\u001b[1;33m.\u001b[0m\u001b[0m_union\u001b[0m\u001b[1;33m(\u001b[0m\u001b[0msecond\u001b[0m\u001b[1;33m,\u001b[0m \u001b[0msort\u001b[0m\u001b[1;33m)\u001b[0m\u001b[1;33m\u001b[0m\u001b[1;33m\u001b[0m\u001b[0m\n\u001b[0;32m    162\u001b[0m         \u001b[1;32melse\u001b[0m\u001b[1;33m:\u001b[0m\u001b[1;33m\u001b[0m\u001b[1;33m\u001b[0m\u001b[0m\n\u001b[1;32m--> 163\u001b[1;33m             \u001b[1;32mreturn\u001b[0m \u001b[0msuper\u001b[0m\u001b[1;33m(\u001b[0m\u001b[1;33m)\u001b[0m\u001b[1;33m.\u001b[0m\u001b[0m_union\u001b[0m\u001b[1;33m(\u001b[0m\u001b[0mother\u001b[0m\u001b[1;33m,\u001b[0m \u001b[0msort\u001b[0m\u001b[1;33m)\u001b[0m\u001b[1;33m\u001b[0m\u001b[1;33m\u001b[0m\u001b[0m\n\u001b[0m\u001b[0;32m    164\u001b[0m \u001b[1;33m\u001b[0m\u001b[0m\n\u001b[0;32m    165\u001b[0m \u001b[1;33m\u001b[0m\u001b[0m\n",
         "\u001b[1;32m~\\AppData\\Roaming\\Python\\Python37\\site-packages\\pandas\\core\\indexes\\base.py\u001b[0m in \u001b[0;36m_union\u001b[1;34m(self, other, sort)\u001b[0m\n\u001b[0;32m   2566\u001b[0m                 \u001b[0mresult\u001b[0m\u001b[1;33m.\u001b[0m\u001b[0mextend\u001b[0m\u001b[1;33m(\u001b[0m\u001b[1;33m[\u001b[0m\u001b[0mx\u001b[0m \u001b[1;32mfor\u001b[0m \u001b[0mx\u001b[0m \u001b[1;32min\u001b[0m \u001b[0mrvals\u001b[0m \u001b[1;32mif\u001b[0m \u001b[0mx\u001b[0m \u001b[1;32mnot\u001b[0m \u001b[1;32min\u001b[0m \u001b[0mvalue_set\u001b[0m\u001b[1;33m]\u001b[0m\u001b[1;33m)\u001b[0m\u001b[1;33m\u001b[0m\u001b[1;33m\u001b[0m\u001b[0m\n\u001b[0;32m   2567\u001b[0m         \u001b[1;32melse\u001b[0m\u001b[1;33m:\u001b[0m\u001b[1;33m\u001b[0m\u001b[1;33m\u001b[0m\u001b[0m\n\u001b[1;32m-> 2568\u001b[1;33m             \u001b[0mindexer\u001b[0m \u001b[1;33m=\u001b[0m \u001b[0mself\u001b[0m\u001b[1;33m.\u001b[0m\u001b[0mget_indexer\u001b[0m\u001b[1;33m(\u001b[0m\u001b[0mother\u001b[0m\u001b[1;33m)\u001b[0m\u001b[1;33m\u001b[0m\u001b[1;33m\u001b[0m\u001b[0m\n\u001b[0m\u001b[0;32m   2569\u001b[0m             \u001b[0mindexer\u001b[0m\u001b[1;33m,\u001b[0m \u001b[1;33m=\u001b[0m \u001b[1;33m(\u001b[0m\u001b[0mindexer\u001b[0m \u001b[1;33m==\u001b[0m \u001b[1;33m-\u001b[0m\u001b[1;36m1\u001b[0m\u001b[1;33m)\u001b[0m\u001b[1;33m.\u001b[0m\u001b[0mnonzero\u001b[0m\u001b[1;33m(\u001b[0m\u001b[1;33m)\u001b[0m\u001b[1;33m\u001b[0m\u001b[1;33m\u001b[0m\u001b[0m\n\u001b[0;32m   2570\u001b[0m \u001b[1;33m\u001b[0m\u001b[0m\n",
         "\u001b[1;32m~\\AppData\\Roaming\\Python\\Python37\\site-packages\\pandas\\core\\indexes\\base.py\u001b[0m in \u001b[0;36mget_indexer\u001b[1;34m(self, target, method, limit, tolerance)\u001b[0m\n\u001b[0;32m   2983\u001b[0m         \u001b[1;32mif\u001b[0m \u001b[1;32mnot\u001b[0m \u001b[0mself\u001b[0m\u001b[1;33m.\u001b[0m\u001b[0mis_unique\u001b[0m\u001b[1;33m:\u001b[0m\u001b[1;33m\u001b[0m\u001b[1;33m\u001b[0m\u001b[0m\n\u001b[0;32m   2984\u001b[0m             raise InvalidIndexError(\n\u001b[1;32m-> 2985\u001b[1;33m                 \u001b[1;34m\"Reindexing only valid with uniquely\"\u001b[0m \u001b[1;34m\" valued Index objects\"\u001b[0m\u001b[1;33m\u001b[0m\u001b[1;33m\u001b[0m\u001b[0m\n\u001b[0m\u001b[0;32m   2986\u001b[0m             )\n\u001b[0;32m   2987\u001b[0m \u001b[1;33m\u001b[0m\u001b[0m\n",
         "\u001b[1;31mInvalidIndexError\u001b[0m: Reindexing only valid with uniquely valued Index objects"
        ]
       }
      ],
      "source": "pd.DataFrame(\n    {\n        \"repo_url1\" : repository_info.url[ranking_nmf_multiplicative[0][0:9]], \n        #\"repo_description1\" : repository_info.description[ranking_nmf_multiplicative[0][0:9]],\n        \"repo_url2\" : repository_info.url[ranking_nmf_multiplicative[1][0:9]], \n        #\"repo_description2\" : repository_info.description[ranking_nmf_multiplicative[1][0:9]],\n        #\"score\" : ranking_nmf_multiplicative[2][0:9]\n    }\n)",
      "start_time": "2020-04-06T13:29:27.706Z"
     },
     {
      "end_time": "2020-04-06T13:30:17.529Z",
      "execution_time": "10ms",
      "outputs": [
       {
        "data": {
         "text/html": "<div>\n<style scoped>\n    .dataframe tbody tr th:only-of-type {\n        vertical-align: middle;\n    }\n\n    .dataframe tbody tr th {\n        vertical-align: top;\n    }\n\n    .dataframe thead th {\n        text-align: right;\n    }\n</style>\n<table border=\"1\" class=\"dataframe\">\n  <thead>\n    <tr style=\"text-align: right;\">\n      <th></th>\n      <th>repo_url2</th>\n    </tr>\n  </thead>\n  <tbody>\n    <tr>\n      <th>1473</th>\n      <td>https://api.github.com/repos/MongoEngine/flask...</td>\n    </tr>\n    <tr>\n      <th>8613</th>\n      <td>https://api.github.com/repos/mikeboers/Flask-I...</td>\n    </tr>\n    <tr>\n      <th>2733</th>\n      <td>https://api.github.com/repos/alecthomas/flask_...</td>\n    </tr>\n    <tr>\n      <th>3524</th>\n      <td>https://api.github.com/repos/bkabrda/flask-who...</td>\n    </tr>\n    <tr>\n      <th>8398</th>\n      <td>https://api.github.com/repos/mattupstate/flask...</td>\n    </tr>\n    <tr>\n      <th>8413</th>\n      <td>https://api.github.com/repos/maxcountryman/logmon</td>\n    </tr>\n    <tr>\n      <th>7102</th>\n      <td>https://api.github.com/repos/jmcarp/flask-apispec</td>\n    </tr>\n    <tr>\n      <th>4405</th>\n      <td>https://api.github.com/repos/damyanbogoev/flas...</td>\n    </tr>\n    <tr>\n      <th>6163</th>\n      <td>https://api.github.com/repos/hack4impact/flask...</td>\n    </tr>\n  </tbody>\n</table>\n</div>",
         "text/plain": "                                              repo_url2\n1473  https://api.github.com/repos/MongoEngine/flask...\n8613  https://api.github.com/repos/mikeboers/Flask-I...\n2733  https://api.github.com/repos/alecthomas/flask_...\n3524  https://api.github.com/repos/bkabrda/flask-who...\n8398  https://api.github.com/repos/mattupstate/flask...\n8413  https://api.github.com/repos/maxcountryman/logmon\n7102  https://api.github.com/repos/jmcarp/flask-apispec\n4405  https://api.github.com/repos/damyanbogoev/flas...\n6163  https://api.github.com/repos/hack4impact/flask..."
        },
        "execution_count": 27,
        "metadata": {},
        "output_type": "execute_result"
       }
      ],
      "source": "pd.DataFrame(\n    {\n        #\"repo_url1\" : repository_info.url[ranking_nmf_multiplicative[0][0:9]], \n        #\"repo_description1\" : repository_info.description[ranking_nmf_multiplicative[0][0:9]],\n        \"repo_url2\" : repository_info.url[ranking_nmf_multiplicative[1][0:9]], \n        #\"repo_description2\" : repository_info.description[ranking_nmf_multiplicative[1][0:9]],\n        #\"score\" : ranking_nmf_multiplicative[2][0:9]\n    }\n)",
      "start_time": "2020-04-06T13:30:17.519Z"
     },
     {
      "end_time": "2020-04-06T13:30:33.812Z",
      "execution_time": "20ms",
      "outputs": [
       {
        "ename": "InvalidIndexError",
        "evalue": "Reindexing only valid with uniquely valued Index objects",
        "output_type": "error",
        "traceback": [
         "\u001b[1;31m---------------------------------------------------------------------------\u001b[0m",
         "\u001b[1;31mInvalidIndexError\u001b[0m                         Traceback (most recent call last)",
         "\u001b[1;32m<ipython-input-28-626c64d5616f>\u001b[0m in \u001b[0;36m<module>\u001b[1;34m\u001b[0m\n\u001b[0;32m      3\u001b[0m         \u001b[1;34m\"repo_url1\"\u001b[0m \u001b[1;33m:\u001b[0m \u001b[0mrepository_info\u001b[0m\u001b[1;33m.\u001b[0m\u001b[0murl\u001b[0m\u001b[1;33m[\u001b[0m\u001b[0mranking_nmf_multiplicative\u001b[0m\u001b[1;33m[\u001b[0m\u001b[1;36m0\u001b[0m\u001b[1;33m]\u001b[0m\u001b[1;33m[\u001b[0m\u001b[1;36m0\u001b[0m\u001b[1;33m:\u001b[0m\u001b[1;36m9\u001b[0m\u001b[1;33m]\u001b[0m\u001b[1;33m]\u001b[0m\u001b[1;33m,\u001b[0m\u001b[1;33m\u001b[0m\u001b[1;33m\u001b[0m\u001b[0m\n\u001b[0;32m      4\u001b[0m         \u001b[1;31m#\"repo_description1\" : repository_info.description[ranking_nmf_multiplicative[0][0:9]],\u001b[0m\u001b[1;33m\u001b[0m\u001b[1;33m\u001b[0m\u001b[1;33m\u001b[0m\u001b[0m\n\u001b[1;32m----> 5\u001b[1;33m         \u001b[1;34m\"repo_url2\"\u001b[0m \u001b[1;33m:\u001b[0m \u001b[0mrepository_info\u001b[0m\u001b[1;33m.\u001b[0m\u001b[0murl\u001b[0m\u001b[1;33m[\u001b[0m\u001b[0mranking_nmf_multiplicative\u001b[0m\u001b[1;33m[\u001b[0m\u001b[1;36m1\u001b[0m\u001b[1;33m]\u001b[0m\u001b[1;33m[\u001b[0m\u001b[1;36m0\u001b[0m\u001b[1;33m:\u001b[0m\u001b[1;36m9\u001b[0m\u001b[1;33m]\u001b[0m\u001b[1;33m]\u001b[0m\u001b[1;33m,\u001b[0m\u001b[1;33m\u001b[0m\u001b[1;33m\u001b[0m\u001b[0m\n\u001b[0m\u001b[0;32m      6\u001b[0m         \u001b[1;31m#\"repo_description2\" : repository_info.description[ranking_nmf_multiplicative[1][0:9]],\u001b[0m\u001b[1;33m\u001b[0m\u001b[1;33m\u001b[0m\u001b[1;33m\u001b[0m\u001b[0m\n\u001b[0;32m      7\u001b[0m         \u001b[1;31m#\"score\" : ranking_nmf_multiplicative[2][0:9]\u001b[0m\u001b[1;33m\u001b[0m\u001b[1;33m\u001b[0m\u001b[1;33m\u001b[0m\u001b[0m\n",
         "\u001b[1;32m~\\AppData\\Roaming\\Python\\Python37\\site-packages\\pandas\\core\\frame.py\u001b[0m in \u001b[0;36m__init__\u001b[1;34m(self, data, index, columns, dtype, copy)\u001b[0m\n\u001b[0;32m    409\u001b[0m             )\n\u001b[0;32m    410\u001b[0m         \u001b[1;32melif\u001b[0m \u001b[0misinstance\u001b[0m\u001b[1;33m(\u001b[0m\u001b[0mdata\u001b[0m\u001b[1;33m,\u001b[0m \u001b[0mdict\u001b[0m\u001b[1;33m)\u001b[0m\u001b[1;33m:\u001b[0m\u001b[1;33m\u001b[0m\u001b[1;33m\u001b[0m\u001b[0m\n\u001b[1;32m--> 411\u001b[1;33m             \u001b[0mmgr\u001b[0m \u001b[1;33m=\u001b[0m \u001b[0minit_dict\u001b[0m\u001b[1;33m(\u001b[0m\u001b[0mdata\u001b[0m\u001b[1;33m,\u001b[0m \u001b[0mindex\u001b[0m\u001b[1;33m,\u001b[0m \u001b[0mcolumns\u001b[0m\u001b[1;33m,\u001b[0m \u001b[0mdtype\u001b[0m\u001b[1;33m=\u001b[0m\u001b[0mdtype\u001b[0m\u001b[1;33m)\u001b[0m\u001b[1;33m\u001b[0m\u001b[1;33m\u001b[0m\u001b[0m\n\u001b[0m\u001b[0;32m    412\u001b[0m         \u001b[1;32melif\u001b[0m \u001b[0misinstance\u001b[0m\u001b[1;33m(\u001b[0m\u001b[0mdata\u001b[0m\u001b[1;33m,\u001b[0m \u001b[0mma\u001b[0m\u001b[1;33m.\u001b[0m\u001b[0mMaskedArray\u001b[0m\u001b[1;33m)\u001b[0m\u001b[1;33m:\u001b[0m\u001b[1;33m\u001b[0m\u001b[1;33m\u001b[0m\u001b[0m\n\u001b[0;32m    413\u001b[0m             \u001b[1;32mimport\u001b[0m \u001b[0mnumpy\u001b[0m\u001b[1;33m.\u001b[0m\u001b[0mma\u001b[0m\u001b[1;33m.\u001b[0m\u001b[0mmrecords\u001b[0m \u001b[1;32mas\u001b[0m \u001b[0mmrecords\u001b[0m\u001b[1;33m\u001b[0m\u001b[1;33m\u001b[0m\u001b[0m\n",
         "\u001b[1;32m~\\AppData\\Roaming\\Python\\Python37\\site-packages\\pandas\\core\\internals\\construction.py\u001b[0m in \u001b[0;36minit_dict\u001b[1;34m(data, index, columns, dtype)\u001b[0m\n\u001b[0;32m    255\u001b[0m             \u001b[0marr\u001b[0m \u001b[1;32mif\u001b[0m \u001b[1;32mnot\u001b[0m \u001b[0mis_datetime64tz_dtype\u001b[0m\u001b[1;33m(\u001b[0m\u001b[0marr\u001b[0m\u001b[1;33m)\u001b[0m \u001b[1;32melse\u001b[0m \u001b[0marr\u001b[0m\u001b[1;33m.\u001b[0m\u001b[0mcopy\u001b[0m\u001b[1;33m(\u001b[0m\u001b[1;33m)\u001b[0m \u001b[1;32mfor\u001b[0m \u001b[0marr\u001b[0m \u001b[1;32min\u001b[0m \u001b[0marrays\u001b[0m\u001b[1;33m\u001b[0m\u001b[1;33m\u001b[0m\u001b[0m\n\u001b[0;32m    256\u001b[0m         ]\n\u001b[1;32m--> 257\u001b[1;33m     \u001b[1;32mreturn\u001b[0m \u001b[0marrays_to_mgr\u001b[0m\u001b[1;33m(\u001b[0m\u001b[0marrays\u001b[0m\u001b[1;33m,\u001b[0m \u001b[0mdata_names\u001b[0m\u001b[1;33m,\u001b[0m \u001b[0mindex\u001b[0m\u001b[1;33m,\u001b[0m \u001b[0mcolumns\u001b[0m\u001b[1;33m,\u001b[0m \u001b[0mdtype\u001b[0m\u001b[1;33m=\u001b[0m\u001b[0mdtype\u001b[0m\u001b[1;33m)\u001b[0m\u001b[1;33m\u001b[0m\u001b[1;33m\u001b[0m\u001b[0m\n\u001b[0m\u001b[0;32m    258\u001b[0m \u001b[1;33m\u001b[0m\u001b[0m\n\u001b[0;32m    259\u001b[0m \u001b[1;33m\u001b[0m\u001b[0m\n",
         "\u001b[1;32m~\\AppData\\Roaming\\Python\\Python37\\site-packages\\pandas\\core\\internals\\construction.py\u001b[0m in \u001b[0;36marrays_to_mgr\u001b[1;34m(arrays, arr_names, index, columns, dtype)\u001b[0m\n\u001b[0;32m     75\u001b[0m     \u001b[1;31m# figure out the index, if necessary\u001b[0m\u001b[1;33m\u001b[0m\u001b[1;33m\u001b[0m\u001b[1;33m\u001b[0m\u001b[0m\n\u001b[0;32m     76\u001b[0m     \u001b[1;32mif\u001b[0m \u001b[0mindex\u001b[0m \u001b[1;32mis\u001b[0m \u001b[1;32mNone\u001b[0m\u001b[1;33m:\u001b[0m\u001b[1;33m\u001b[0m\u001b[1;33m\u001b[0m\u001b[0m\n\u001b[1;32m---> 77\u001b[1;33m         \u001b[0mindex\u001b[0m \u001b[1;33m=\u001b[0m \u001b[0mextract_index\u001b[0m\u001b[1;33m(\u001b[0m\u001b[0marrays\u001b[0m\u001b[1;33m)\u001b[0m\u001b[1;33m\u001b[0m\u001b[1;33m\u001b[0m\u001b[0m\n\u001b[0m\u001b[0;32m     78\u001b[0m     \u001b[1;32melse\u001b[0m\u001b[1;33m:\u001b[0m\u001b[1;33m\u001b[0m\u001b[1;33m\u001b[0m\u001b[0m\n\u001b[0;32m     79\u001b[0m         \u001b[0mindex\u001b[0m \u001b[1;33m=\u001b[0m \u001b[0mensure_index\u001b[0m\u001b[1;33m(\u001b[0m\u001b[0mindex\u001b[0m\u001b[1;33m)\u001b[0m\u001b[1;33m\u001b[0m\u001b[1;33m\u001b[0m\u001b[0m\n",
         "\u001b[1;32m~\\AppData\\Roaming\\Python\\Python37\\site-packages\\pandas\\core\\internals\\construction.py\u001b[0m in \u001b[0;36mextract_index\u001b[1;34m(data)\u001b[0m\n\u001b[0;32m    359\u001b[0m \u001b[1;33m\u001b[0m\u001b[0m\n\u001b[0;32m    360\u001b[0m         \u001b[1;32mif\u001b[0m \u001b[0mhave_series\u001b[0m\u001b[1;33m:\u001b[0m\u001b[1;33m\u001b[0m\u001b[1;33m\u001b[0m\u001b[0m\n\u001b[1;32m--> 361\u001b[1;33m             \u001b[0mindex\u001b[0m \u001b[1;33m=\u001b[0m \u001b[0m_union_indexes\u001b[0m\u001b[1;33m(\u001b[0m\u001b[0mindexes\u001b[0m\u001b[1;33m)\u001b[0m\u001b[1;33m\u001b[0m\u001b[1;33m\u001b[0m\u001b[0m\n\u001b[0m\u001b[0;32m    362\u001b[0m         \u001b[1;32melif\u001b[0m \u001b[0mhave_dicts\u001b[0m\u001b[1;33m:\u001b[0m\u001b[1;33m\u001b[0m\u001b[1;33m\u001b[0m\u001b[0m\n\u001b[0;32m    363\u001b[0m             \u001b[0mindex\u001b[0m \u001b[1;33m=\u001b[0m \u001b[0m_union_indexes\u001b[0m\u001b[1;33m(\u001b[0m\u001b[0mindexes\u001b[0m\u001b[1;33m,\u001b[0m \u001b[0msort\u001b[0m\u001b[1;33m=\u001b[0m\u001b[1;32mnot\u001b[0m \u001b[1;33m(\u001b[0m\u001b[0mcompat\u001b[0m\u001b[1;33m.\u001b[0m\u001b[0mPY36\u001b[0m \u001b[1;32mor\u001b[0m \u001b[0mhave_ordered\u001b[0m\u001b[1;33m)\u001b[0m\u001b[1;33m)\u001b[0m\u001b[1;33m\u001b[0m\u001b[1;33m\u001b[0m\u001b[0m\n",
         "\u001b[1;32m~\\AppData\\Roaming\\Python\\Python37\\site-packages\\pandas\\core\\indexes\\api.py\u001b[0m in \u001b[0;36m_union_indexes\u001b[1;34m(indexes, sort)\u001b[0m\n\u001b[0;32m    204\u001b[0m         \u001b[1;32melse\u001b[0m\u001b[1;33m:\u001b[0m\u001b[1;33m\u001b[0m\u001b[1;33m\u001b[0m\u001b[0m\n\u001b[0;32m    205\u001b[0m             \u001b[1;32mfor\u001b[0m \u001b[0mother\u001b[0m \u001b[1;32min\u001b[0m \u001b[0mindexes\u001b[0m\u001b[1;33m[\u001b[0m\u001b[1;36m1\u001b[0m\u001b[1;33m:\u001b[0m\u001b[1;33m]\u001b[0m\u001b[1;33m:\u001b[0m\u001b[1;33m\u001b[0m\u001b[1;33m\u001b[0m\u001b[0m\n\u001b[1;32m--> 206\u001b[1;33m                 \u001b[0mresult\u001b[0m \u001b[1;33m=\u001b[0m \u001b[0mresult\u001b[0m\u001b[1;33m.\u001b[0m\u001b[0munion\u001b[0m\u001b[1;33m(\u001b[0m\u001b[0mother\u001b[0m\u001b[1;33m)\u001b[0m\u001b[1;33m\u001b[0m\u001b[1;33m\u001b[0m\u001b[0m\n\u001b[0m\u001b[0;32m    207\u001b[0m             \u001b[1;32mreturn\u001b[0m \u001b[0mresult\u001b[0m\u001b[1;33m\u001b[0m\u001b[1;33m\u001b[0m\u001b[0m\n\u001b[0;32m    208\u001b[0m     \u001b[1;32melif\u001b[0m \u001b[0mkind\u001b[0m \u001b[1;33m==\u001b[0m \u001b[1;34m\"array\"\u001b[0m\u001b[1;33m:\u001b[0m\u001b[1;33m\u001b[0m\u001b[1;33m\u001b[0m\u001b[0m\n",
         "\u001b[1;32m~\\AppData\\Roaming\\Python\\Python37\\site-packages\\pandas\\core\\indexes\\base.py\u001b[0m in \u001b[0;36munion\u001b[1;34m(self, other, sort)\u001b[0m\n\u001b[0;32m   2517\u001b[0m             \u001b[1;32mreturn\u001b[0m \u001b[0mself\u001b[0m\u001b[1;33m.\u001b[0m\u001b[0m_union_incompatible_dtypes\u001b[0m\u001b[1;33m(\u001b[0m\u001b[0mother\u001b[0m\u001b[1;33m,\u001b[0m \u001b[0msort\u001b[0m\u001b[1;33m=\u001b[0m\u001b[0msort\u001b[0m\u001b[1;33m)\u001b[0m\u001b[1;33m\u001b[0m\u001b[1;33m\u001b[0m\u001b[0m\n\u001b[0;32m   2518\u001b[0m \u001b[1;33m\u001b[0m\u001b[0m\n\u001b[1;32m-> 2519\u001b[1;33m         \u001b[1;32mreturn\u001b[0m \u001b[0mself\u001b[0m\u001b[1;33m.\u001b[0m\u001b[0m_union\u001b[0m\u001b[1;33m(\u001b[0m\u001b[0mother\u001b[0m\u001b[1;33m,\u001b[0m \u001b[0msort\u001b[0m\u001b[1;33m=\u001b[0m\u001b[0msort\u001b[0m\u001b[1;33m)\u001b[0m\u001b[1;33m\u001b[0m\u001b[1;33m\u001b[0m\u001b[0m\n\u001b[0m\u001b[0;32m   2520\u001b[0m \u001b[1;33m\u001b[0m\u001b[0m\n\u001b[0;32m   2521\u001b[0m     \u001b[1;32mdef\u001b[0m \u001b[0m_union\u001b[0m\u001b[1;33m(\u001b[0m\u001b[0mself\u001b[0m\u001b[1;33m,\u001b[0m \u001b[0mother\u001b[0m\u001b[1;33m,\u001b[0m \u001b[0msort\u001b[0m\u001b[1;33m)\u001b[0m\u001b[1;33m:\u001b[0m\u001b[1;33m\u001b[0m\u001b[1;33m\u001b[0m\u001b[0m\n",
         "\u001b[1;32m~\\AppData\\Roaming\\Python\\Python37\\site-packages\\pandas\\core\\indexes\\numeric.py\u001b[0m in \u001b[0;36m_union\u001b[1;34m(self, other, sort)\u001b[0m\n\u001b[0;32m    161\u001b[0m             \u001b[1;32mreturn\u001b[0m \u001b[0mfirst\u001b[0m\u001b[1;33m.\u001b[0m\u001b[0m_union\u001b[0m\u001b[1;33m(\u001b[0m\u001b[0msecond\u001b[0m\u001b[1;33m,\u001b[0m \u001b[0msort\u001b[0m\u001b[1;33m)\u001b[0m\u001b[1;33m\u001b[0m\u001b[1;33m\u001b[0m\u001b[0m\n\u001b[0;32m    162\u001b[0m         \u001b[1;32melse\u001b[0m\u001b[1;33m:\u001b[0m\u001b[1;33m\u001b[0m\u001b[1;33m\u001b[0m\u001b[0m\n\u001b[1;32m--> 163\u001b[1;33m             \u001b[1;32mreturn\u001b[0m \u001b[0msuper\u001b[0m\u001b[1;33m(\u001b[0m\u001b[1;33m)\u001b[0m\u001b[1;33m.\u001b[0m\u001b[0m_union\u001b[0m\u001b[1;33m(\u001b[0m\u001b[0mother\u001b[0m\u001b[1;33m,\u001b[0m \u001b[0msort\u001b[0m\u001b[1;33m)\u001b[0m\u001b[1;33m\u001b[0m\u001b[1;33m\u001b[0m\u001b[0m\n\u001b[0m\u001b[0;32m    164\u001b[0m \u001b[1;33m\u001b[0m\u001b[0m\n\u001b[0;32m    165\u001b[0m \u001b[1;33m\u001b[0m\u001b[0m\n",
         "\u001b[1;32m~\\AppData\\Roaming\\Python\\Python37\\site-packages\\pandas\\core\\indexes\\base.py\u001b[0m in \u001b[0;36m_union\u001b[1;34m(self, other, sort)\u001b[0m\n\u001b[0;32m   2566\u001b[0m                 \u001b[0mresult\u001b[0m\u001b[1;33m.\u001b[0m\u001b[0mextend\u001b[0m\u001b[1;33m(\u001b[0m\u001b[1;33m[\u001b[0m\u001b[0mx\u001b[0m \u001b[1;32mfor\u001b[0m \u001b[0mx\u001b[0m \u001b[1;32min\u001b[0m \u001b[0mrvals\u001b[0m \u001b[1;32mif\u001b[0m \u001b[0mx\u001b[0m \u001b[1;32mnot\u001b[0m \u001b[1;32min\u001b[0m \u001b[0mvalue_set\u001b[0m\u001b[1;33m]\u001b[0m\u001b[1;33m)\u001b[0m\u001b[1;33m\u001b[0m\u001b[1;33m\u001b[0m\u001b[0m\n\u001b[0;32m   2567\u001b[0m         \u001b[1;32melse\u001b[0m\u001b[1;33m:\u001b[0m\u001b[1;33m\u001b[0m\u001b[1;33m\u001b[0m\u001b[0m\n\u001b[1;32m-> 2568\u001b[1;33m             \u001b[0mindexer\u001b[0m \u001b[1;33m=\u001b[0m \u001b[0mself\u001b[0m\u001b[1;33m.\u001b[0m\u001b[0mget_indexer\u001b[0m\u001b[1;33m(\u001b[0m\u001b[0mother\u001b[0m\u001b[1;33m)\u001b[0m\u001b[1;33m\u001b[0m\u001b[1;33m\u001b[0m\u001b[0m\n\u001b[0m\u001b[0;32m   2569\u001b[0m             \u001b[0mindexer\u001b[0m\u001b[1;33m,\u001b[0m \u001b[1;33m=\u001b[0m \u001b[1;33m(\u001b[0m\u001b[0mindexer\u001b[0m \u001b[1;33m==\u001b[0m \u001b[1;33m-\u001b[0m\u001b[1;36m1\u001b[0m\u001b[1;33m)\u001b[0m\u001b[1;33m.\u001b[0m\u001b[0mnonzero\u001b[0m\u001b[1;33m(\u001b[0m\u001b[1;33m)\u001b[0m\u001b[1;33m\u001b[0m\u001b[1;33m\u001b[0m\u001b[0m\n\u001b[0;32m   2570\u001b[0m \u001b[1;33m\u001b[0m\u001b[0m\n",
         "\u001b[1;32m~\\AppData\\Roaming\\Python\\Python37\\site-packages\\pandas\\core\\indexes\\base.py\u001b[0m in \u001b[0;36mget_indexer\u001b[1;34m(self, target, method, limit, tolerance)\u001b[0m\n\u001b[0;32m   2983\u001b[0m         \u001b[1;32mif\u001b[0m \u001b[1;32mnot\u001b[0m \u001b[0mself\u001b[0m\u001b[1;33m.\u001b[0m\u001b[0mis_unique\u001b[0m\u001b[1;33m:\u001b[0m\u001b[1;33m\u001b[0m\u001b[1;33m\u001b[0m\u001b[0m\n\u001b[0;32m   2984\u001b[0m             raise InvalidIndexError(\n\u001b[1;32m-> 2985\u001b[1;33m                 \u001b[1;34m\"Reindexing only valid with uniquely\"\u001b[0m \u001b[1;34m\" valued Index objects\"\u001b[0m\u001b[1;33m\u001b[0m\u001b[1;33m\u001b[0m\u001b[0m\n\u001b[0m\u001b[0;32m   2986\u001b[0m             )\n\u001b[0;32m   2987\u001b[0m \u001b[1;33m\u001b[0m\u001b[0m\n",
         "\u001b[1;31mInvalidIndexError\u001b[0m: Reindexing only valid with uniquely valued Index objects"
        ]
       }
      ],
      "source": "pd.DataFrame(\n    {\n        \"repo_url1\" : repository_info.url[ranking_nmf_multiplicative[0][0:9]], \n        #\"repo_description1\" : repository_info.description[ranking_nmf_multiplicative[0][0:9]],\n        \"repo_url2\" : repository_info.url[ranking_nmf_multiplicative[1][0:9]], \n        #\"repo_description2\" : repository_info.description[ranking_nmf_multiplicative[1][0:9]],\n        #\"score\" : ranking_nmf_multiplicative[2][0:9]\n    }\n)",
      "start_time": "2020-04-06T13:30:33.792Z"
     },
     {
      "end_time": "2020-04-06T13:30:58.668Z",
      "execution_time": "22ms",
      "outputs": [
       {
        "ename": "InvalidIndexError",
        "evalue": "Reindexing only valid with uniquely valued Index objects",
        "output_type": "error",
        "traceback": [
         "\u001b[1;31m---------------------------------------------------------------------------\u001b[0m",
         "\u001b[1;31mInvalidIndexError\u001b[0m                         Traceback (most recent call last)",
         "\u001b[1;32m<ipython-input-29-cba7b110a649>\u001b[0m in \u001b[0;36m<module>\u001b[1;34m\u001b[0m\n\u001b[0;32m      5\u001b[0m         \u001b[1;34m\"repo_url2\"\u001b[0m \u001b[1;33m:\u001b[0m \u001b[0mrepository_info\u001b[0m\u001b[1;33m.\u001b[0m\u001b[0murl\u001b[0m\u001b[1;33m[\u001b[0m\u001b[0mranking_nmf_multiplicative\u001b[0m\u001b[1;33m[\u001b[0m\u001b[1;36m1\u001b[0m\u001b[1;33m]\u001b[0m\u001b[1;33m[\u001b[0m\u001b[1;36m0\u001b[0m\u001b[1;33m:\u001b[0m\u001b[1;36m9\u001b[0m\u001b[1;33m]\u001b[0m\u001b[1;33m]\u001b[0m\u001b[1;33m,\u001b[0m\u001b[1;33m\u001b[0m\u001b[1;33m\u001b[0m\u001b[0m\n\u001b[0;32m      6\u001b[0m         \u001b[1;34m\"repo_description2\"\u001b[0m \u001b[1;33m:\u001b[0m \u001b[0mrepository_info\u001b[0m\u001b[1;33m.\u001b[0m\u001b[0mdescription\u001b[0m\u001b[1;33m[\u001b[0m\u001b[0mranking_nmf_multiplicative\u001b[0m\u001b[1;33m[\u001b[0m\u001b[1;36m1\u001b[0m\u001b[1;33m]\u001b[0m\u001b[1;33m[\u001b[0m\u001b[1;36m0\u001b[0m\u001b[1;33m:\u001b[0m\u001b[1;36m9\u001b[0m\u001b[1;33m]\u001b[0m\u001b[1;33m]\u001b[0m\u001b[1;33m,\u001b[0m\u001b[1;33m\u001b[0m\u001b[1;33m\u001b[0m\u001b[0m\n\u001b[1;32m----> 7\u001b[1;33m         \u001b[1;34m\"score\"\u001b[0m \u001b[1;33m:\u001b[0m \u001b[0mranking_nmf_multiplicative\u001b[0m\u001b[1;33m[\u001b[0m\u001b[1;36m2\u001b[0m\u001b[1;33m]\u001b[0m\u001b[1;33m[\u001b[0m\u001b[1;36m0\u001b[0m\u001b[1;33m:\u001b[0m\u001b[1;36m9\u001b[0m\u001b[1;33m]\u001b[0m\u001b[1;33m\u001b[0m\u001b[1;33m\u001b[0m\u001b[0m\n\u001b[0m\u001b[0;32m      8\u001b[0m     }\n\u001b[0;32m      9\u001b[0m )\n",
         "\u001b[1;32m~\\AppData\\Roaming\\Python\\Python37\\site-packages\\pandas\\core\\frame.py\u001b[0m in \u001b[0;36m__init__\u001b[1;34m(self, data, index, columns, dtype, copy)\u001b[0m\n\u001b[0;32m    409\u001b[0m             )\n\u001b[0;32m    410\u001b[0m         \u001b[1;32melif\u001b[0m \u001b[0misinstance\u001b[0m\u001b[1;33m(\u001b[0m\u001b[0mdata\u001b[0m\u001b[1;33m,\u001b[0m \u001b[0mdict\u001b[0m\u001b[1;33m)\u001b[0m\u001b[1;33m:\u001b[0m\u001b[1;33m\u001b[0m\u001b[1;33m\u001b[0m\u001b[0m\n\u001b[1;32m--> 411\u001b[1;33m             \u001b[0mmgr\u001b[0m \u001b[1;33m=\u001b[0m \u001b[0minit_dict\u001b[0m\u001b[1;33m(\u001b[0m\u001b[0mdata\u001b[0m\u001b[1;33m,\u001b[0m \u001b[0mindex\u001b[0m\u001b[1;33m,\u001b[0m \u001b[0mcolumns\u001b[0m\u001b[1;33m,\u001b[0m \u001b[0mdtype\u001b[0m\u001b[1;33m=\u001b[0m\u001b[0mdtype\u001b[0m\u001b[1;33m)\u001b[0m\u001b[1;33m\u001b[0m\u001b[1;33m\u001b[0m\u001b[0m\n\u001b[0m\u001b[0;32m    412\u001b[0m         \u001b[1;32melif\u001b[0m \u001b[0misinstance\u001b[0m\u001b[1;33m(\u001b[0m\u001b[0mdata\u001b[0m\u001b[1;33m,\u001b[0m \u001b[0mma\u001b[0m\u001b[1;33m.\u001b[0m\u001b[0mMaskedArray\u001b[0m\u001b[1;33m)\u001b[0m\u001b[1;33m:\u001b[0m\u001b[1;33m\u001b[0m\u001b[1;33m\u001b[0m\u001b[0m\n\u001b[0;32m    413\u001b[0m             \u001b[1;32mimport\u001b[0m \u001b[0mnumpy\u001b[0m\u001b[1;33m.\u001b[0m\u001b[0mma\u001b[0m\u001b[1;33m.\u001b[0m\u001b[0mmrecords\u001b[0m \u001b[1;32mas\u001b[0m \u001b[0mmrecords\u001b[0m\u001b[1;33m\u001b[0m\u001b[1;33m\u001b[0m\u001b[0m\n",
         "\u001b[1;32m~\\AppData\\Roaming\\Python\\Python37\\site-packages\\pandas\\core\\internals\\construction.py\u001b[0m in \u001b[0;36minit_dict\u001b[1;34m(data, index, columns, dtype)\u001b[0m\n\u001b[0;32m    255\u001b[0m             \u001b[0marr\u001b[0m \u001b[1;32mif\u001b[0m \u001b[1;32mnot\u001b[0m \u001b[0mis_datetime64tz_dtype\u001b[0m\u001b[1;33m(\u001b[0m\u001b[0marr\u001b[0m\u001b[1;33m)\u001b[0m \u001b[1;32melse\u001b[0m \u001b[0marr\u001b[0m\u001b[1;33m.\u001b[0m\u001b[0mcopy\u001b[0m\u001b[1;33m(\u001b[0m\u001b[1;33m)\u001b[0m \u001b[1;32mfor\u001b[0m \u001b[0marr\u001b[0m \u001b[1;32min\u001b[0m \u001b[0marrays\u001b[0m\u001b[1;33m\u001b[0m\u001b[1;33m\u001b[0m\u001b[0m\n\u001b[0;32m    256\u001b[0m         ]\n\u001b[1;32m--> 257\u001b[1;33m     \u001b[1;32mreturn\u001b[0m \u001b[0marrays_to_mgr\u001b[0m\u001b[1;33m(\u001b[0m\u001b[0marrays\u001b[0m\u001b[1;33m,\u001b[0m \u001b[0mdata_names\u001b[0m\u001b[1;33m,\u001b[0m \u001b[0mindex\u001b[0m\u001b[1;33m,\u001b[0m \u001b[0mcolumns\u001b[0m\u001b[1;33m,\u001b[0m \u001b[0mdtype\u001b[0m\u001b[1;33m=\u001b[0m\u001b[0mdtype\u001b[0m\u001b[1;33m)\u001b[0m\u001b[1;33m\u001b[0m\u001b[1;33m\u001b[0m\u001b[0m\n\u001b[0m\u001b[0;32m    258\u001b[0m \u001b[1;33m\u001b[0m\u001b[0m\n\u001b[0;32m    259\u001b[0m \u001b[1;33m\u001b[0m\u001b[0m\n",
         "\u001b[1;32m~\\AppData\\Roaming\\Python\\Python37\\site-packages\\pandas\\core\\internals\\construction.py\u001b[0m in \u001b[0;36marrays_to_mgr\u001b[1;34m(arrays, arr_names, index, columns, dtype)\u001b[0m\n\u001b[0;32m     75\u001b[0m     \u001b[1;31m# figure out the index, if necessary\u001b[0m\u001b[1;33m\u001b[0m\u001b[1;33m\u001b[0m\u001b[1;33m\u001b[0m\u001b[0m\n\u001b[0;32m     76\u001b[0m     \u001b[1;32mif\u001b[0m \u001b[0mindex\u001b[0m \u001b[1;32mis\u001b[0m \u001b[1;32mNone\u001b[0m\u001b[1;33m:\u001b[0m\u001b[1;33m\u001b[0m\u001b[1;33m\u001b[0m\u001b[0m\n\u001b[1;32m---> 77\u001b[1;33m         \u001b[0mindex\u001b[0m \u001b[1;33m=\u001b[0m \u001b[0mextract_index\u001b[0m\u001b[1;33m(\u001b[0m\u001b[0marrays\u001b[0m\u001b[1;33m)\u001b[0m\u001b[1;33m\u001b[0m\u001b[1;33m\u001b[0m\u001b[0m\n\u001b[0m\u001b[0;32m     78\u001b[0m     \u001b[1;32melse\u001b[0m\u001b[1;33m:\u001b[0m\u001b[1;33m\u001b[0m\u001b[1;33m\u001b[0m\u001b[0m\n\u001b[0;32m     79\u001b[0m         \u001b[0mindex\u001b[0m \u001b[1;33m=\u001b[0m \u001b[0mensure_index\u001b[0m\u001b[1;33m(\u001b[0m\u001b[0mindex\u001b[0m\u001b[1;33m)\u001b[0m\u001b[1;33m\u001b[0m\u001b[1;33m\u001b[0m\u001b[0m\n",
         "\u001b[1;32m~\\AppData\\Roaming\\Python\\Python37\\site-packages\\pandas\\core\\internals\\construction.py\u001b[0m in \u001b[0;36mextract_index\u001b[1;34m(data)\u001b[0m\n\u001b[0;32m    359\u001b[0m \u001b[1;33m\u001b[0m\u001b[0m\n\u001b[0;32m    360\u001b[0m         \u001b[1;32mif\u001b[0m \u001b[0mhave_series\u001b[0m\u001b[1;33m:\u001b[0m\u001b[1;33m\u001b[0m\u001b[1;33m\u001b[0m\u001b[0m\n\u001b[1;32m--> 361\u001b[1;33m             \u001b[0mindex\u001b[0m \u001b[1;33m=\u001b[0m \u001b[0m_union_indexes\u001b[0m\u001b[1;33m(\u001b[0m\u001b[0mindexes\u001b[0m\u001b[1;33m)\u001b[0m\u001b[1;33m\u001b[0m\u001b[1;33m\u001b[0m\u001b[0m\n\u001b[0m\u001b[0;32m    362\u001b[0m         \u001b[1;32melif\u001b[0m \u001b[0mhave_dicts\u001b[0m\u001b[1;33m:\u001b[0m\u001b[1;33m\u001b[0m\u001b[1;33m\u001b[0m\u001b[0m\n\u001b[0;32m    363\u001b[0m             \u001b[0mindex\u001b[0m \u001b[1;33m=\u001b[0m \u001b[0m_union_indexes\u001b[0m\u001b[1;33m(\u001b[0m\u001b[0mindexes\u001b[0m\u001b[1;33m,\u001b[0m \u001b[0msort\u001b[0m\u001b[1;33m=\u001b[0m\u001b[1;32mnot\u001b[0m \u001b[1;33m(\u001b[0m\u001b[0mcompat\u001b[0m\u001b[1;33m.\u001b[0m\u001b[0mPY36\u001b[0m \u001b[1;32mor\u001b[0m \u001b[0mhave_ordered\u001b[0m\u001b[1;33m)\u001b[0m\u001b[1;33m)\u001b[0m\u001b[1;33m\u001b[0m\u001b[1;33m\u001b[0m\u001b[0m\n",
         "\u001b[1;32m~\\AppData\\Roaming\\Python\\Python37\\site-packages\\pandas\\core\\indexes\\api.py\u001b[0m in \u001b[0;36m_union_indexes\u001b[1;34m(indexes, sort)\u001b[0m\n\u001b[0;32m    204\u001b[0m         \u001b[1;32melse\u001b[0m\u001b[1;33m:\u001b[0m\u001b[1;33m\u001b[0m\u001b[1;33m\u001b[0m\u001b[0m\n\u001b[0;32m    205\u001b[0m             \u001b[1;32mfor\u001b[0m \u001b[0mother\u001b[0m \u001b[1;32min\u001b[0m \u001b[0mindexes\u001b[0m\u001b[1;33m[\u001b[0m\u001b[1;36m1\u001b[0m\u001b[1;33m:\u001b[0m\u001b[1;33m]\u001b[0m\u001b[1;33m:\u001b[0m\u001b[1;33m\u001b[0m\u001b[1;33m\u001b[0m\u001b[0m\n\u001b[1;32m--> 206\u001b[1;33m                 \u001b[0mresult\u001b[0m \u001b[1;33m=\u001b[0m \u001b[0mresult\u001b[0m\u001b[1;33m.\u001b[0m\u001b[0munion\u001b[0m\u001b[1;33m(\u001b[0m\u001b[0mother\u001b[0m\u001b[1;33m)\u001b[0m\u001b[1;33m\u001b[0m\u001b[1;33m\u001b[0m\u001b[0m\n\u001b[0m\u001b[0;32m    207\u001b[0m             \u001b[1;32mreturn\u001b[0m \u001b[0mresult\u001b[0m\u001b[1;33m\u001b[0m\u001b[1;33m\u001b[0m\u001b[0m\n\u001b[0;32m    208\u001b[0m     \u001b[1;32melif\u001b[0m \u001b[0mkind\u001b[0m \u001b[1;33m==\u001b[0m \u001b[1;34m\"array\"\u001b[0m\u001b[1;33m:\u001b[0m\u001b[1;33m\u001b[0m\u001b[1;33m\u001b[0m\u001b[0m\n",
         "\u001b[1;32m~\\AppData\\Roaming\\Python\\Python37\\site-packages\\pandas\\core\\indexes\\base.py\u001b[0m in \u001b[0;36munion\u001b[1;34m(self, other, sort)\u001b[0m\n\u001b[0;32m   2517\u001b[0m             \u001b[1;32mreturn\u001b[0m \u001b[0mself\u001b[0m\u001b[1;33m.\u001b[0m\u001b[0m_union_incompatible_dtypes\u001b[0m\u001b[1;33m(\u001b[0m\u001b[0mother\u001b[0m\u001b[1;33m,\u001b[0m \u001b[0msort\u001b[0m\u001b[1;33m=\u001b[0m\u001b[0msort\u001b[0m\u001b[1;33m)\u001b[0m\u001b[1;33m\u001b[0m\u001b[1;33m\u001b[0m\u001b[0m\n\u001b[0;32m   2518\u001b[0m \u001b[1;33m\u001b[0m\u001b[0m\n\u001b[1;32m-> 2519\u001b[1;33m         \u001b[1;32mreturn\u001b[0m \u001b[0mself\u001b[0m\u001b[1;33m.\u001b[0m\u001b[0m_union\u001b[0m\u001b[1;33m(\u001b[0m\u001b[0mother\u001b[0m\u001b[1;33m,\u001b[0m \u001b[0msort\u001b[0m\u001b[1;33m=\u001b[0m\u001b[0msort\u001b[0m\u001b[1;33m)\u001b[0m\u001b[1;33m\u001b[0m\u001b[1;33m\u001b[0m\u001b[0m\n\u001b[0m\u001b[0;32m   2520\u001b[0m \u001b[1;33m\u001b[0m\u001b[0m\n\u001b[0;32m   2521\u001b[0m     \u001b[1;32mdef\u001b[0m \u001b[0m_union\u001b[0m\u001b[1;33m(\u001b[0m\u001b[0mself\u001b[0m\u001b[1;33m,\u001b[0m \u001b[0mother\u001b[0m\u001b[1;33m,\u001b[0m \u001b[0msort\u001b[0m\u001b[1;33m)\u001b[0m\u001b[1;33m:\u001b[0m\u001b[1;33m\u001b[0m\u001b[1;33m\u001b[0m\u001b[0m\n",
         "\u001b[1;32m~\\AppData\\Roaming\\Python\\Python37\\site-packages\\pandas\\core\\indexes\\numeric.py\u001b[0m in \u001b[0;36m_union\u001b[1;34m(self, other, sort)\u001b[0m\n\u001b[0;32m    161\u001b[0m             \u001b[1;32mreturn\u001b[0m \u001b[0mfirst\u001b[0m\u001b[1;33m.\u001b[0m\u001b[0m_union\u001b[0m\u001b[1;33m(\u001b[0m\u001b[0msecond\u001b[0m\u001b[1;33m,\u001b[0m \u001b[0msort\u001b[0m\u001b[1;33m)\u001b[0m\u001b[1;33m\u001b[0m\u001b[1;33m\u001b[0m\u001b[0m\n\u001b[0;32m    162\u001b[0m         \u001b[1;32melse\u001b[0m\u001b[1;33m:\u001b[0m\u001b[1;33m\u001b[0m\u001b[1;33m\u001b[0m\u001b[0m\n\u001b[1;32m--> 163\u001b[1;33m             \u001b[1;32mreturn\u001b[0m \u001b[0msuper\u001b[0m\u001b[1;33m(\u001b[0m\u001b[1;33m)\u001b[0m\u001b[1;33m.\u001b[0m\u001b[0m_union\u001b[0m\u001b[1;33m(\u001b[0m\u001b[0mother\u001b[0m\u001b[1;33m,\u001b[0m \u001b[0msort\u001b[0m\u001b[1;33m)\u001b[0m\u001b[1;33m\u001b[0m\u001b[1;33m\u001b[0m\u001b[0m\n\u001b[0m\u001b[0;32m    164\u001b[0m \u001b[1;33m\u001b[0m\u001b[0m\n\u001b[0;32m    165\u001b[0m \u001b[1;33m\u001b[0m\u001b[0m\n",
         "\u001b[1;32m~\\AppData\\Roaming\\Python\\Python37\\site-packages\\pandas\\core\\indexes\\base.py\u001b[0m in \u001b[0;36m_union\u001b[1;34m(self, other, sort)\u001b[0m\n\u001b[0;32m   2566\u001b[0m                 \u001b[0mresult\u001b[0m\u001b[1;33m.\u001b[0m\u001b[0mextend\u001b[0m\u001b[1;33m(\u001b[0m\u001b[1;33m[\u001b[0m\u001b[0mx\u001b[0m \u001b[1;32mfor\u001b[0m \u001b[0mx\u001b[0m \u001b[1;32min\u001b[0m \u001b[0mrvals\u001b[0m \u001b[1;32mif\u001b[0m \u001b[0mx\u001b[0m \u001b[1;32mnot\u001b[0m \u001b[1;32min\u001b[0m \u001b[0mvalue_set\u001b[0m\u001b[1;33m]\u001b[0m\u001b[1;33m)\u001b[0m\u001b[1;33m\u001b[0m\u001b[1;33m\u001b[0m\u001b[0m\n\u001b[0;32m   2567\u001b[0m         \u001b[1;32melse\u001b[0m\u001b[1;33m:\u001b[0m\u001b[1;33m\u001b[0m\u001b[1;33m\u001b[0m\u001b[0m\n\u001b[1;32m-> 2568\u001b[1;33m             \u001b[0mindexer\u001b[0m \u001b[1;33m=\u001b[0m \u001b[0mself\u001b[0m\u001b[1;33m.\u001b[0m\u001b[0mget_indexer\u001b[0m\u001b[1;33m(\u001b[0m\u001b[0mother\u001b[0m\u001b[1;33m)\u001b[0m\u001b[1;33m\u001b[0m\u001b[1;33m\u001b[0m\u001b[0m\n\u001b[0m\u001b[0;32m   2569\u001b[0m             \u001b[0mindexer\u001b[0m\u001b[1;33m,\u001b[0m \u001b[1;33m=\u001b[0m \u001b[1;33m(\u001b[0m\u001b[0mindexer\u001b[0m \u001b[1;33m==\u001b[0m \u001b[1;33m-\u001b[0m\u001b[1;36m1\u001b[0m\u001b[1;33m)\u001b[0m\u001b[1;33m.\u001b[0m\u001b[0mnonzero\u001b[0m\u001b[1;33m(\u001b[0m\u001b[1;33m)\u001b[0m\u001b[1;33m\u001b[0m\u001b[1;33m\u001b[0m\u001b[0m\n\u001b[0;32m   2570\u001b[0m \u001b[1;33m\u001b[0m\u001b[0m\n",
         "\u001b[1;32m~\\AppData\\Roaming\\Python\\Python37\\site-packages\\pandas\\core\\indexes\\base.py\u001b[0m in \u001b[0;36mget_indexer\u001b[1;34m(self, target, method, limit, tolerance)\u001b[0m\n\u001b[0;32m   2983\u001b[0m         \u001b[1;32mif\u001b[0m \u001b[1;32mnot\u001b[0m \u001b[0mself\u001b[0m\u001b[1;33m.\u001b[0m\u001b[0mis_unique\u001b[0m\u001b[1;33m:\u001b[0m\u001b[1;33m\u001b[0m\u001b[1;33m\u001b[0m\u001b[0m\n\u001b[0;32m   2984\u001b[0m             raise InvalidIndexError(\n\u001b[1;32m-> 2985\u001b[1;33m                 \u001b[1;34m\"Reindexing only valid with uniquely\"\u001b[0m \u001b[1;34m\" valued Index objects\"\u001b[0m\u001b[1;33m\u001b[0m\u001b[1;33m\u001b[0m\u001b[0m\n\u001b[0m\u001b[0;32m   2986\u001b[0m             )\n\u001b[0;32m   2987\u001b[0m \u001b[1;33m\u001b[0m\u001b[0m\n",
         "\u001b[1;31mInvalidIndexError\u001b[0m: Reindexing only valid with uniquely valued Index objects"
        ]
       }
      ],
      "source": "pd.DataFrame(\n    {\n        \"repo_url1\" : repository_info.url[ranking_nmf_multiplicative[0][0:9]], \n        \"repo_description1\" : repository_info.description[ranking_nmf_multiplicative[0][0:9]],\n        \"repo_url2\" : repository_info.url[ranking_nmf_multiplicative[1][0:9]], \n        \"repo_description2\" : repository_info.description[ranking_nmf_multiplicative[1][0:9]],\n        \"score\" : ranking_nmf_multiplicative[2][0:9]\n    }\n)",
      "start_time": "2020-04-06T13:30:58.646Z"
     },
     {
      "end_time": "2020-04-06T13:33:47.837Z",
      "execution_time": "16ms",
      "outputs": [
       {
        "ename": "SyntaxError",
        "evalue": "invalid syntax (<ipython-input-30-c31b0c2cd9bd>, line 8)",
        "output_type": "error",
        "traceback": [
         "\u001b[1;36m  File \u001b[1;32m\"<ipython-input-30-c31b0c2cd9bd>\"\u001b[1;36m, line \u001b[1;32m8\u001b[0m\n\u001b[1;33m    index=[1,2,3,4,5,6,7,8,9,10]\u001b[0m\n\u001b[1;37m         ^\u001b[0m\n\u001b[1;31mSyntaxError\u001b[0m\u001b[1;31m:\u001b[0m invalid syntax\n"
        ]
       }
      ],
      "source": "pd.DataFrame(\n    {\n        \"repo_url1\" : repository_info.url[ranking_nmf_multiplicative[0][0:9]], \n        \"repo_description1\" : repository_info.description[ranking_nmf_multiplicative[0][0:9]],\n        \"repo_url2\" : repository_info.url[ranking_nmf_multiplicative[1][0:9]], \n        \"repo_description2\" : repository_info.description[ranking_nmf_multiplicative[1][0:9]],\n        \"score\" : ranking_nmf_multiplicative[2][0:9],\n        index=[1,2,3,4,5,6,7,8,9,10]\n    }\n)",
      "start_time": "2020-04-06T13:33:47.821Z"
     },
     {
      "end_time": "2020-04-06T13:34:35.243Z",
      "execution_time": "75ms",
      "outputs": [
       {
        "ename": "ValueError",
        "evalue": "cannot reindex from a duplicate axis",
        "output_type": "error",
        "traceback": [
         "\u001b[1;31m---------------------------------------------------------------------------\u001b[0m",
         "\u001b[1;31mValueError\u001b[0m                                Traceback (most recent call last)",
         "\u001b[1;32m<ipython-input-31-eb8b2f737925>\u001b[0m in \u001b[0;36m<module>\u001b[1;34m\u001b[0m\n\u001b[0;32m      7\u001b[0m         \u001b[1;34m\"score\"\u001b[0m \u001b[1;33m:\u001b[0m \u001b[0mranking_nmf_multiplicative\u001b[0m\u001b[1;33m[\u001b[0m\u001b[1;36m2\u001b[0m\u001b[1;33m]\u001b[0m\u001b[1;33m[\u001b[0m\u001b[1;36m0\u001b[0m\u001b[1;33m:\u001b[0m\u001b[1;36m9\u001b[0m\u001b[1;33m]\u001b[0m\u001b[1;33m\u001b[0m\u001b[1;33m\u001b[0m\u001b[0m\n\u001b[0;32m      8\u001b[0m     }, \n\u001b[1;32m----> 9\u001b[1;33m     \u001b[0mindex\u001b[0m\u001b[1;33m=\u001b[0m\u001b[1;33m[\u001b[0m\u001b[1;36m1\u001b[0m\u001b[1;33m,\u001b[0m\u001b[1;36m2\u001b[0m\u001b[1;33m,\u001b[0m\u001b[1;36m3\u001b[0m\u001b[1;33m,\u001b[0m\u001b[1;36m4\u001b[0m\u001b[1;33m,\u001b[0m\u001b[1;36m5\u001b[0m\u001b[1;33m,\u001b[0m\u001b[1;36m6\u001b[0m\u001b[1;33m,\u001b[0m\u001b[1;36m7\u001b[0m\u001b[1;33m,\u001b[0m\u001b[1;36m8\u001b[0m\u001b[1;33m,\u001b[0m\u001b[1;36m9\u001b[0m\u001b[1;33m,\u001b[0m\u001b[1;36m10\u001b[0m\u001b[1;33m]\u001b[0m\u001b[1;33m\u001b[0m\u001b[1;33m\u001b[0m\u001b[0m\n\u001b[0m\u001b[0;32m     10\u001b[0m )\n",
         "\u001b[1;32m~\\AppData\\Roaming\\Python\\Python37\\site-packages\\pandas\\core\\frame.py\u001b[0m in \u001b[0;36m__init__\u001b[1;34m(self, data, index, columns, dtype, copy)\u001b[0m\n\u001b[0;32m    409\u001b[0m             )\n\u001b[0;32m    410\u001b[0m         \u001b[1;32melif\u001b[0m \u001b[0misinstance\u001b[0m\u001b[1;33m(\u001b[0m\u001b[0mdata\u001b[0m\u001b[1;33m,\u001b[0m \u001b[0mdict\u001b[0m\u001b[1;33m)\u001b[0m\u001b[1;33m:\u001b[0m\u001b[1;33m\u001b[0m\u001b[1;33m\u001b[0m\u001b[0m\n\u001b[1;32m--> 411\u001b[1;33m             \u001b[0mmgr\u001b[0m \u001b[1;33m=\u001b[0m \u001b[0minit_dict\u001b[0m\u001b[1;33m(\u001b[0m\u001b[0mdata\u001b[0m\u001b[1;33m,\u001b[0m \u001b[0mindex\u001b[0m\u001b[1;33m,\u001b[0m \u001b[0mcolumns\u001b[0m\u001b[1;33m,\u001b[0m \u001b[0mdtype\u001b[0m\u001b[1;33m=\u001b[0m\u001b[0mdtype\u001b[0m\u001b[1;33m)\u001b[0m\u001b[1;33m\u001b[0m\u001b[1;33m\u001b[0m\u001b[0m\n\u001b[0m\u001b[0;32m    412\u001b[0m         \u001b[1;32melif\u001b[0m \u001b[0misinstance\u001b[0m\u001b[1;33m(\u001b[0m\u001b[0mdata\u001b[0m\u001b[1;33m,\u001b[0m \u001b[0mma\u001b[0m\u001b[1;33m.\u001b[0m\u001b[0mMaskedArray\u001b[0m\u001b[1;33m)\u001b[0m\u001b[1;33m:\u001b[0m\u001b[1;33m\u001b[0m\u001b[1;33m\u001b[0m\u001b[0m\n\u001b[0;32m    413\u001b[0m             \u001b[1;32mimport\u001b[0m \u001b[0mnumpy\u001b[0m\u001b[1;33m.\u001b[0m\u001b[0mma\u001b[0m\u001b[1;33m.\u001b[0m\u001b[0mmrecords\u001b[0m \u001b[1;32mas\u001b[0m \u001b[0mmrecords\u001b[0m\u001b[1;33m\u001b[0m\u001b[1;33m\u001b[0m\u001b[0m\n",
         "\u001b[1;32m~\\AppData\\Roaming\\Python\\Python37\\site-packages\\pandas\\core\\internals\\construction.py\u001b[0m in \u001b[0;36minit_dict\u001b[1;34m(data, index, columns, dtype)\u001b[0m\n\u001b[0;32m    255\u001b[0m             \u001b[0marr\u001b[0m \u001b[1;32mif\u001b[0m \u001b[1;32mnot\u001b[0m \u001b[0mis_datetime64tz_dtype\u001b[0m\u001b[1;33m(\u001b[0m\u001b[0marr\u001b[0m\u001b[1;33m)\u001b[0m \u001b[1;32melse\u001b[0m \u001b[0marr\u001b[0m\u001b[1;33m.\u001b[0m\u001b[0mcopy\u001b[0m\u001b[1;33m(\u001b[0m\u001b[1;33m)\u001b[0m \u001b[1;32mfor\u001b[0m \u001b[0marr\u001b[0m \u001b[1;32min\u001b[0m \u001b[0marrays\u001b[0m\u001b[1;33m\u001b[0m\u001b[1;33m\u001b[0m\u001b[0m\n\u001b[0;32m    256\u001b[0m         ]\n\u001b[1;32m--> 257\u001b[1;33m     \u001b[1;32mreturn\u001b[0m \u001b[0marrays_to_mgr\u001b[0m\u001b[1;33m(\u001b[0m\u001b[0marrays\u001b[0m\u001b[1;33m,\u001b[0m \u001b[0mdata_names\u001b[0m\u001b[1;33m,\u001b[0m \u001b[0mindex\u001b[0m\u001b[1;33m,\u001b[0m \u001b[0mcolumns\u001b[0m\u001b[1;33m,\u001b[0m \u001b[0mdtype\u001b[0m\u001b[1;33m=\u001b[0m\u001b[0mdtype\u001b[0m\u001b[1;33m)\u001b[0m\u001b[1;33m\u001b[0m\u001b[1;33m\u001b[0m\u001b[0m\n\u001b[0m\u001b[0;32m    258\u001b[0m \u001b[1;33m\u001b[0m\u001b[0m\n\u001b[0;32m    259\u001b[0m \u001b[1;33m\u001b[0m\u001b[0m\n",
         "\u001b[1;32m~\\AppData\\Roaming\\Python\\Python37\\site-packages\\pandas\\core\\internals\\construction.py\u001b[0m in \u001b[0;36marrays_to_mgr\u001b[1;34m(arrays, arr_names, index, columns, dtype)\u001b[0m\n\u001b[0;32m     80\u001b[0m \u001b[1;33m\u001b[0m\u001b[0m\n\u001b[0;32m     81\u001b[0m     \u001b[1;31m# don't force copy because getting jammed in an ndarray anyway\u001b[0m\u001b[1;33m\u001b[0m\u001b[1;33m\u001b[0m\u001b[1;33m\u001b[0m\u001b[0m\n\u001b[1;32m---> 82\u001b[1;33m     \u001b[0marrays\u001b[0m \u001b[1;33m=\u001b[0m \u001b[0m_homogenize\u001b[0m\u001b[1;33m(\u001b[0m\u001b[0marrays\u001b[0m\u001b[1;33m,\u001b[0m \u001b[0mindex\u001b[0m\u001b[1;33m,\u001b[0m \u001b[0mdtype\u001b[0m\u001b[1;33m)\u001b[0m\u001b[1;33m\u001b[0m\u001b[1;33m\u001b[0m\u001b[0m\n\u001b[0m\u001b[0;32m     83\u001b[0m \u001b[1;33m\u001b[0m\u001b[0m\n\u001b[0;32m     84\u001b[0m     \u001b[1;31m# from BlockManager perspective\u001b[0m\u001b[1;33m\u001b[0m\u001b[1;33m\u001b[0m\u001b[1;33m\u001b[0m\u001b[0m\n",
         "\u001b[1;32m~\\AppData\\Roaming\\Python\\Python37\\site-packages\\pandas\\core\\internals\\construction.py\u001b[0m in \u001b[0;36m_homogenize\u001b[1;34m(data, index, dtype)\u001b[0m\n\u001b[0;32m    309\u001b[0m                 \u001b[1;31m# Forces alignment. No need to copy data since we\u001b[0m\u001b[1;33m\u001b[0m\u001b[1;33m\u001b[0m\u001b[1;33m\u001b[0m\u001b[0m\n\u001b[0;32m    310\u001b[0m                 \u001b[1;31m# are putting it into an ndarray later\u001b[0m\u001b[1;33m\u001b[0m\u001b[1;33m\u001b[0m\u001b[1;33m\u001b[0m\u001b[0m\n\u001b[1;32m--> 311\u001b[1;33m                 \u001b[0mval\u001b[0m \u001b[1;33m=\u001b[0m \u001b[0mval\u001b[0m\u001b[1;33m.\u001b[0m\u001b[0mreindex\u001b[0m\u001b[1;33m(\u001b[0m\u001b[0mindex\u001b[0m\u001b[1;33m,\u001b[0m \u001b[0mcopy\u001b[0m\u001b[1;33m=\u001b[0m\u001b[1;32mFalse\u001b[0m\u001b[1;33m)\u001b[0m\u001b[1;33m\u001b[0m\u001b[1;33m\u001b[0m\u001b[0m\n\u001b[0m\u001b[0;32m    312\u001b[0m         \u001b[1;32melse\u001b[0m\u001b[1;33m:\u001b[0m\u001b[1;33m\u001b[0m\u001b[1;33m\u001b[0m\u001b[0m\n\u001b[0;32m    313\u001b[0m             \u001b[1;32mif\u001b[0m \u001b[0misinstance\u001b[0m\u001b[1;33m(\u001b[0m\u001b[0mval\u001b[0m\u001b[1;33m,\u001b[0m \u001b[0mdict\u001b[0m\u001b[1;33m)\u001b[0m\u001b[1;33m:\u001b[0m\u001b[1;33m\u001b[0m\u001b[1;33m\u001b[0m\u001b[0m\n",
         "\u001b[1;32m~\\AppData\\Roaming\\Python\\Python37\\site-packages\\pandas\\core\\series.py\u001b[0m in \u001b[0;36mreindex\u001b[1;34m(self, index, **kwargs)\u001b[0m\n\u001b[0;32m   4219\u001b[0m     \u001b[1;33m@\u001b[0m\u001b[0mAppender\u001b[0m\u001b[1;33m(\u001b[0m\u001b[0mgeneric\u001b[0m\u001b[1;33m.\u001b[0m\u001b[0mNDFrame\u001b[0m\u001b[1;33m.\u001b[0m\u001b[0mreindex\u001b[0m\u001b[1;33m.\u001b[0m\u001b[0m__doc__\u001b[0m\u001b[1;33m)\u001b[0m\u001b[1;33m\u001b[0m\u001b[1;33m\u001b[0m\u001b[0m\n\u001b[0;32m   4220\u001b[0m     \u001b[1;32mdef\u001b[0m \u001b[0mreindex\u001b[0m\u001b[1;33m(\u001b[0m\u001b[0mself\u001b[0m\u001b[1;33m,\u001b[0m \u001b[0mindex\u001b[0m\u001b[1;33m=\u001b[0m\u001b[1;32mNone\u001b[0m\u001b[1;33m,\u001b[0m \u001b[1;33m**\u001b[0m\u001b[0mkwargs\u001b[0m\u001b[1;33m)\u001b[0m\u001b[1;33m:\u001b[0m\u001b[1;33m\u001b[0m\u001b[1;33m\u001b[0m\u001b[0m\n\u001b[1;32m-> 4221\u001b[1;33m         \u001b[1;32mreturn\u001b[0m \u001b[0msuper\u001b[0m\u001b[1;33m(\u001b[0m\u001b[1;33m)\u001b[0m\u001b[1;33m.\u001b[0m\u001b[0mreindex\u001b[0m\u001b[1;33m(\u001b[0m\u001b[0mindex\u001b[0m\u001b[1;33m=\u001b[0m\u001b[0mindex\u001b[0m\u001b[1;33m,\u001b[0m \u001b[1;33m**\u001b[0m\u001b[0mkwargs\u001b[0m\u001b[1;33m)\u001b[0m\u001b[1;33m\u001b[0m\u001b[1;33m\u001b[0m\u001b[0m\n\u001b[0m\u001b[0;32m   4222\u001b[0m \u001b[1;33m\u001b[0m\u001b[0m\n\u001b[0;32m   4223\u001b[0m     def drop(\n",
         "\u001b[1;32m~\\AppData\\Roaming\\Python\\Python37\\site-packages\\pandas\\core\\generic.py\u001b[0m in \u001b[0;36mreindex\u001b[1;34m(self, *args, **kwargs)\u001b[0m\n\u001b[0;32m   4512\u001b[0m         \u001b[1;31m# perform the reindex on the axes\u001b[0m\u001b[1;33m\u001b[0m\u001b[1;33m\u001b[0m\u001b[1;33m\u001b[0m\u001b[0m\n\u001b[0;32m   4513\u001b[0m         return self._reindex_axes(\n\u001b[1;32m-> 4514\u001b[1;33m             \u001b[0maxes\u001b[0m\u001b[1;33m,\u001b[0m \u001b[0mlevel\u001b[0m\u001b[1;33m,\u001b[0m \u001b[0mlimit\u001b[0m\u001b[1;33m,\u001b[0m \u001b[0mtolerance\u001b[0m\u001b[1;33m,\u001b[0m \u001b[0mmethod\u001b[0m\u001b[1;33m,\u001b[0m \u001b[0mfill_value\u001b[0m\u001b[1;33m,\u001b[0m \u001b[0mcopy\u001b[0m\u001b[1;33m\u001b[0m\u001b[1;33m\u001b[0m\u001b[0m\n\u001b[0m\u001b[0;32m   4515\u001b[0m         ).__finalize__(self)\n\u001b[0;32m   4516\u001b[0m \u001b[1;33m\u001b[0m\u001b[0m\n",
         "\u001b[1;32m~\\AppData\\Roaming\\Python\\Python37\\site-packages\\pandas\\core\\generic.py\u001b[0m in \u001b[0;36m_reindex_axes\u001b[1;34m(self, axes, level, limit, tolerance, method, fill_value, copy)\u001b[0m\n\u001b[0;32m   4533\u001b[0m                 \u001b[0mfill_value\u001b[0m\u001b[1;33m=\u001b[0m\u001b[0mfill_value\u001b[0m\u001b[1;33m,\u001b[0m\u001b[1;33m\u001b[0m\u001b[1;33m\u001b[0m\u001b[0m\n\u001b[0;32m   4534\u001b[0m                 \u001b[0mcopy\u001b[0m\u001b[1;33m=\u001b[0m\u001b[0mcopy\u001b[0m\u001b[1;33m,\u001b[0m\u001b[1;33m\u001b[0m\u001b[1;33m\u001b[0m\u001b[0m\n\u001b[1;32m-> 4535\u001b[1;33m                 \u001b[0mallow_dups\u001b[0m\u001b[1;33m=\u001b[0m\u001b[1;32mFalse\u001b[0m\u001b[1;33m,\u001b[0m\u001b[1;33m\u001b[0m\u001b[1;33m\u001b[0m\u001b[0m\n\u001b[0m\u001b[0;32m   4536\u001b[0m             )\n\u001b[0;32m   4537\u001b[0m \u001b[1;33m\u001b[0m\u001b[0m\n",
         "\u001b[1;32m~\\AppData\\Roaming\\Python\\Python37\\site-packages\\pandas\\core\\generic.py\u001b[0m in \u001b[0;36m_reindex_with_indexers\u001b[1;34m(self, reindexers, fill_value, copy, allow_dups)\u001b[0m\n\u001b[0;32m   4575\u001b[0m                 \u001b[0mfill_value\u001b[0m\u001b[1;33m=\u001b[0m\u001b[0mfill_value\u001b[0m\u001b[1;33m,\u001b[0m\u001b[1;33m\u001b[0m\u001b[1;33m\u001b[0m\u001b[0m\n\u001b[0;32m   4576\u001b[0m                 \u001b[0mallow_dups\u001b[0m\u001b[1;33m=\u001b[0m\u001b[0mallow_dups\u001b[0m\u001b[1;33m,\u001b[0m\u001b[1;33m\u001b[0m\u001b[1;33m\u001b[0m\u001b[0m\n\u001b[1;32m-> 4577\u001b[1;33m                 \u001b[0mcopy\u001b[0m\u001b[1;33m=\u001b[0m\u001b[0mcopy\u001b[0m\u001b[1;33m,\u001b[0m\u001b[1;33m\u001b[0m\u001b[1;33m\u001b[0m\u001b[0m\n\u001b[0m\u001b[0;32m   4578\u001b[0m             )\n\u001b[0;32m   4579\u001b[0m \u001b[1;33m\u001b[0m\u001b[0m\n",
         "\u001b[1;32m~\\AppData\\Roaming\\Python\\Python37\\site-packages\\pandas\\core\\internals\\managers.py\u001b[0m in \u001b[0;36mreindex_indexer\u001b[1;34m(self, new_axis, indexer, axis, fill_value, allow_dups, copy)\u001b[0m\n\u001b[0;32m   1249\u001b[0m         \u001b[1;31m# some axes don't allow reindexing with dups\u001b[0m\u001b[1;33m\u001b[0m\u001b[1;33m\u001b[0m\u001b[1;33m\u001b[0m\u001b[0m\n\u001b[0;32m   1250\u001b[0m         \u001b[1;32mif\u001b[0m \u001b[1;32mnot\u001b[0m \u001b[0mallow_dups\u001b[0m\u001b[1;33m:\u001b[0m\u001b[1;33m\u001b[0m\u001b[1;33m\u001b[0m\u001b[0m\n\u001b[1;32m-> 1251\u001b[1;33m             \u001b[0mself\u001b[0m\u001b[1;33m.\u001b[0m\u001b[0maxes\u001b[0m\u001b[1;33m[\u001b[0m\u001b[0maxis\u001b[0m\u001b[1;33m]\u001b[0m\u001b[1;33m.\u001b[0m\u001b[0m_can_reindex\u001b[0m\u001b[1;33m(\u001b[0m\u001b[0mindexer\u001b[0m\u001b[1;33m)\u001b[0m\u001b[1;33m\u001b[0m\u001b[1;33m\u001b[0m\u001b[0m\n\u001b[0m\u001b[0;32m   1252\u001b[0m \u001b[1;33m\u001b[0m\u001b[0m\n\u001b[0;32m   1253\u001b[0m         \u001b[1;32mif\u001b[0m \u001b[0maxis\u001b[0m \u001b[1;33m>=\u001b[0m \u001b[0mself\u001b[0m\u001b[1;33m.\u001b[0m\u001b[0mndim\u001b[0m\u001b[1;33m:\u001b[0m\u001b[1;33m\u001b[0m\u001b[1;33m\u001b[0m\u001b[0m\n",
         "\u001b[1;32m~\\AppData\\Roaming\\Python\\Python37\\site-packages\\pandas\\core\\indexes\\base.py\u001b[0m in \u001b[0;36m_can_reindex\u001b[1;34m(self, indexer)\u001b[0m\n\u001b[0;32m   3360\u001b[0m         \u001b[1;31m# trying to reindex on an axis with duplicates\u001b[0m\u001b[1;33m\u001b[0m\u001b[1;33m\u001b[0m\u001b[1;33m\u001b[0m\u001b[0m\n\u001b[0;32m   3361\u001b[0m         \u001b[1;32mif\u001b[0m \u001b[1;32mnot\u001b[0m \u001b[0mself\u001b[0m\u001b[1;33m.\u001b[0m\u001b[0mis_unique\u001b[0m \u001b[1;32mand\u001b[0m \u001b[0mlen\u001b[0m\u001b[1;33m(\u001b[0m\u001b[0mindexer\u001b[0m\u001b[1;33m)\u001b[0m\u001b[1;33m:\u001b[0m\u001b[1;33m\u001b[0m\u001b[1;33m\u001b[0m\u001b[0m\n\u001b[1;32m-> 3362\u001b[1;33m             \u001b[1;32mraise\u001b[0m \u001b[0mValueError\u001b[0m\u001b[1;33m(\u001b[0m\u001b[1;34m\"cannot reindex from a duplicate axis\"\u001b[0m\u001b[1;33m)\u001b[0m\u001b[1;33m\u001b[0m\u001b[1;33m\u001b[0m\u001b[0m\n\u001b[0m\u001b[0;32m   3363\u001b[0m \u001b[1;33m\u001b[0m\u001b[0m\n\u001b[0;32m   3364\u001b[0m     \u001b[1;32mdef\u001b[0m \u001b[0mreindex\u001b[0m\u001b[1;33m(\u001b[0m\u001b[0mself\u001b[0m\u001b[1;33m,\u001b[0m \u001b[0mtarget\u001b[0m\u001b[1;33m,\u001b[0m \u001b[0mmethod\u001b[0m\u001b[1;33m=\u001b[0m\u001b[1;32mNone\u001b[0m\u001b[1;33m,\u001b[0m \u001b[0mlevel\u001b[0m\u001b[1;33m=\u001b[0m\u001b[1;32mNone\u001b[0m\u001b[1;33m,\u001b[0m \u001b[0mlimit\u001b[0m\u001b[1;33m=\u001b[0m\u001b[1;32mNone\u001b[0m\u001b[1;33m,\u001b[0m \u001b[0mtolerance\u001b[0m\u001b[1;33m=\u001b[0m\u001b[1;32mNone\u001b[0m\u001b[1;33m)\u001b[0m\u001b[1;33m:\u001b[0m\u001b[1;33m\u001b[0m\u001b[1;33m\u001b[0m\u001b[0m\n",
         "\u001b[1;31mValueError\u001b[0m: cannot reindex from a duplicate axis"
        ]
       }
      ],
      "source": "pd.DataFrame(\n    {\n        \"repo_url1\" : repository_info.url[ranking_nmf_multiplicative[0][0:9]], \n        \"repo_description1\" : repository_info.description[ranking_nmf_multiplicative[0][0:9]],\n        \"repo_url2\" : repository_info.url[ranking_nmf_multiplicative[1][0:9]], \n        \"repo_description2\" : repository_info.description[ranking_nmf_multiplicative[1][0:9]],\n        \"score\" : ranking_nmf_multiplicative[2][0:9]\n    }, \n    index=[1,2,3,4,5,6,7,8,9,10]\n)",
      "start_time": "2020-04-06T13:34:35.168Z"
     },
     {
      "end_time": "2020-04-06T13:37:28.303Z",
      "execution_time": "24ms",
      "outputs": [
       {
        "ename": "InvalidIndexError",
        "evalue": "Reindexing only valid with uniquely valued Index objects",
        "output_type": "error",
        "traceback": [
         "\u001b[1;31m---------------------------------------------------------------------------\u001b[0m",
         "\u001b[1;31mInvalidIndexError\u001b[0m                         Traceback (most recent call last)",
         "\u001b[1;32m<ipython-input-32-cba7b110a649>\u001b[0m in \u001b[0;36m<module>\u001b[1;34m\u001b[0m\n\u001b[0;32m      5\u001b[0m         \u001b[1;34m\"repo_url2\"\u001b[0m \u001b[1;33m:\u001b[0m \u001b[0mrepository_info\u001b[0m\u001b[1;33m.\u001b[0m\u001b[0murl\u001b[0m\u001b[1;33m[\u001b[0m\u001b[0mranking_nmf_multiplicative\u001b[0m\u001b[1;33m[\u001b[0m\u001b[1;36m1\u001b[0m\u001b[1;33m]\u001b[0m\u001b[1;33m[\u001b[0m\u001b[1;36m0\u001b[0m\u001b[1;33m:\u001b[0m\u001b[1;36m9\u001b[0m\u001b[1;33m]\u001b[0m\u001b[1;33m]\u001b[0m\u001b[1;33m,\u001b[0m\u001b[1;33m\u001b[0m\u001b[1;33m\u001b[0m\u001b[0m\n\u001b[0;32m      6\u001b[0m         \u001b[1;34m\"repo_description2\"\u001b[0m \u001b[1;33m:\u001b[0m \u001b[0mrepository_info\u001b[0m\u001b[1;33m.\u001b[0m\u001b[0mdescription\u001b[0m\u001b[1;33m[\u001b[0m\u001b[0mranking_nmf_multiplicative\u001b[0m\u001b[1;33m[\u001b[0m\u001b[1;36m1\u001b[0m\u001b[1;33m]\u001b[0m\u001b[1;33m[\u001b[0m\u001b[1;36m0\u001b[0m\u001b[1;33m:\u001b[0m\u001b[1;36m9\u001b[0m\u001b[1;33m]\u001b[0m\u001b[1;33m]\u001b[0m\u001b[1;33m,\u001b[0m\u001b[1;33m\u001b[0m\u001b[1;33m\u001b[0m\u001b[0m\n\u001b[1;32m----> 7\u001b[1;33m         \u001b[1;34m\"score\"\u001b[0m \u001b[1;33m:\u001b[0m \u001b[0mranking_nmf_multiplicative\u001b[0m\u001b[1;33m[\u001b[0m\u001b[1;36m2\u001b[0m\u001b[1;33m]\u001b[0m\u001b[1;33m[\u001b[0m\u001b[1;36m0\u001b[0m\u001b[1;33m:\u001b[0m\u001b[1;36m9\u001b[0m\u001b[1;33m]\u001b[0m\u001b[1;33m\u001b[0m\u001b[1;33m\u001b[0m\u001b[0m\n\u001b[0m\u001b[0;32m      8\u001b[0m     }\n\u001b[0;32m      9\u001b[0m )\n",
         "\u001b[1;32m~\\AppData\\Roaming\\Python\\Python37\\site-packages\\pandas\\core\\frame.py\u001b[0m in \u001b[0;36m__init__\u001b[1;34m(self, data, index, columns, dtype, copy)\u001b[0m\n\u001b[0;32m    409\u001b[0m             )\n\u001b[0;32m    410\u001b[0m         \u001b[1;32melif\u001b[0m \u001b[0misinstance\u001b[0m\u001b[1;33m(\u001b[0m\u001b[0mdata\u001b[0m\u001b[1;33m,\u001b[0m \u001b[0mdict\u001b[0m\u001b[1;33m)\u001b[0m\u001b[1;33m:\u001b[0m\u001b[1;33m\u001b[0m\u001b[1;33m\u001b[0m\u001b[0m\n\u001b[1;32m--> 411\u001b[1;33m             \u001b[0mmgr\u001b[0m \u001b[1;33m=\u001b[0m \u001b[0minit_dict\u001b[0m\u001b[1;33m(\u001b[0m\u001b[0mdata\u001b[0m\u001b[1;33m,\u001b[0m \u001b[0mindex\u001b[0m\u001b[1;33m,\u001b[0m \u001b[0mcolumns\u001b[0m\u001b[1;33m,\u001b[0m \u001b[0mdtype\u001b[0m\u001b[1;33m=\u001b[0m\u001b[0mdtype\u001b[0m\u001b[1;33m)\u001b[0m\u001b[1;33m\u001b[0m\u001b[1;33m\u001b[0m\u001b[0m\n\u001b[0m\u001b[0;32m    412\u001b[0m         \u001b[1;32melif\u001b[0m \u001b[0misinstance\u001b[0m\u001b[1;33m(\u001b[0m\u001b[0mdata\u001b[0m\u001b[1;33m,\u001b[0m \u001b[0mma\u001b[0m\u001b[1;33m.\u001b[0m\u001b[0mMaskedArray\u001b[0m\u001b[1;33m)\u001b[0m\u001b[1;33m:\u001b[0m\u001b[1;33m\u001b[0m\u001b[1;33m\u001b[0m\u001b[0m\n\u001b[0;32m    413\u001b[0m             \u001b[1;32mimport\u001b[0m \u001b[0mnumpy\u001b[0m\u001b[1;33m.\u001b[0m\u001b[0mma\u001b[0m\u001b[1;33m.\u001b[0m\u001b[0mmrecords\u001b[0m \u001b[1;32mas\u001b[0m \u001b[0mmrecords\u001b[0m\u001b[1;33m\u001b[0m\u001b[1;33m\u001b[0m\u001b[0m\n",
         "\u001b[1;32m~\\AppData\\Roaming\\Python\\Python37\\site-packages\\pandas\\core\\internals\\construction.py\u001b[0m in \u001b[0;36minit_dict\u001b[1;34m(data, index, columns, dtype)\u001b[0m\n\u001b[0;32m    255\u001b[0m             \u001b[0marr\u001b[0m \u001b[1;32mif\u001b[0m \u001b[1;32mnot\u001b[0m \u001b[0mis_datetime64tz_dtype\u001b[0m\u001b[1;33m(\u001b[0m\u001b[0marr\u001b[0m\u001b[1;33m)\u001b[0m \u001b[1;32melse\u001b[0m \u001b[0marr\u001b[0m\u001b[1;33m.\u001b[0m\u001b[0mcopy\u001b[0m\u001b[1;33m(\u001b[0m\u001b[1;33m)\u001b[0m \u001b[1;32mfor\u001b[0m \u001b[0marr\u001b[0m \u001b[1;32min\u001b[0m \u001b[0marrays\u001b[0m\u001b[1;33m\u001b[0m\u001b[1;33m\u001b[0m\u001b[0m\n\u001b[0;32m    256\u001b[0m         ]\n\u001b[1;32m--> 257\u001b[1;33m     \u001b[1;32mreturn\u001b[0m \u001b[0marrays_to_mgr\u001b[0m\u001b[1;33m(\u001b[0m\u001b[0marrays\u001b[0m\u001b[1;33m,\u001b[0m \u001b[0mdata_names\u001b[0m\u001b[1;33m,\u001b[0m \u001b[0mindex\u001b[0m\u001b[1;33m,\u001b[0m \u001b[0mcolumns\u001b[0m\u001b[1;33m,\u001b[0m \u001b[0mdtype\u001b[0m\u001b[1;33m=\u001b[0m\u001b[0mdtype\u001b[0m\u001b[1;33m)\u001b[0m\u001b[1;33m\u001b[0m\u001b[1;33m\u001b[0m\u001b[0m\n\u001b[0m\u001b[0;32m    258\u001b[0m \u001b[1;33m\u001b[0m\u001b[0m\n\u001b[0;32m    259\u001b[0m \u001b[1;33m\u001b[0m\u001b[0m\n",
         "\u001b[1;32m~\\AppData\\Roaming\\Python\\Python37\\site-packages\\pandas\\core\\internals\\construction.py\u001b[0m in \u001b[0;36marrays_to_mgr\u001b[1;34m(arrays, arr_names, index, columns, dtype)\u001b[0m\n\u001b[0;32m     75\u001b[0m     \u001b[1;31m# figure out the index, if necessary\u001b[0m\u001b[1;33m\u001b[0m\u001b[1;33m\u001b[0m\u001b[1;33m\u001b[0m\u001b[0m\n\u001b[0;32m     76\u001b[0m     \u001b[1;32mif\u001b[0m \u001b[0mindex\u001b[0m \u001b[1;32mis\u001b[0m \u001b[1;32mNone\u001b[0m\u001b[1;33m:\u001b[0m\u001b[1;33m\u001b[0m\u001b[1;33m\u001b[0m\u001b[0m\n\u001b[1;32m---> 77\u001b[1;33m         \u001b[0mindex\u001b[0m \u001b[1;33m=\u001b[0m \u001b[0mextract_index\u001b[0m\u001b[1;33m(\u001b[0m\u001b[0marrays\u001b[0m\u001b[1;33m)\u001b[0m\u001b[1;33m\u001b[0m\u001b[1;33m\u001b[0m\u001b[0m\n\u001b[0m\u001b[0;32m     78\u001b[0m     \u001b[1;32melse\u001b[0m\u001b[1;33m:\u001b[0m\u001b[1;33m\u001b[0m\u001b[1;33m\u001b[0m\u001b[0m\n\u001b[0;32m     79\u001b[0m         \u001b[0mindex\u001b[0m \u001b[1;33m=\u001b[0m \u001b[0mensure_index\u001b[0m\u001b[1;33m(\u001b[0m\u001b[0mindex\u001b[0m\u001b[1;33m)\u001b[0m\u001b[1;33m\u001b[0m\u001b[1;33m\u001b[0m\u001b[0m\n",
         "\u001b[1;32m~\\AppData\\Roaming\\Python\\Python37\\site-packages\\pandas\\core\\internals\\construction.py\u001b[0m in \u001b[0;36mextract_index\u001b[1;34m(data)\u001b[0m\n\u001b[0;32m    359\u001b[0m \u001b[1;33m\u001b[0m\u001b[0m\n\u001b[0;32m    360\u001b[0m         \u001b[1;32mif\u001b[0m \u001b[0mhave_series\u001b[0m\u001b[1;33m:\u001b[0m\u001b[1;33m\u001b[0m\u001b[1;33m\u001b[0m\u001b[0m\n\u001b[1;32m--> 361\u001b[1;33m             \u001b[0mindex\u001b[0m \u001b[1;33m=\u001b[0m \u001b[0m_union_indexes\u001b[0m\u001b[1;33m(\u001b[0m\u001b[0mindexes\u001b[0m\u001b[1;33m)\u001b[0m\u001b[1;33m\u001b[0m\u001b[1;33m\u001b[0m\u001b[0m\n\u001b[0m\u001b[0;32m    362\u001b[0m         \u001b[1;32melif\u001b[0m \u001b[0mhave_dicts\u001b[0m\u001b[1;33m:\u001b[0m\u001b[1;33m\u001b[0m\u001b[1;33m\u001b[0m\u001b[0m\n\u001b[0;32m    363\u001b[0m             \u001b[0mindex\u001b[0m \u001b[1;33m=\u001b[0m \u001b[0m_union_indexes\u001b[0m\u001b[1;33m(\u001b[0m\u001b[0mindexes\u001b[0m\u001b[1;33m,\u001b[0m \u001b[0msort\u001b[0m\u001b[1;33m=\u001b[0m\u001b[1;32mnot\u001b[0m \u001b[1;33m(\u001b[0m\u001b[0mcompat\u001b[0m\u001b[1;33m.\u001b[0m\u001b[0mPY36\u001b[0m \u001b[1;32mor\u001b[0m \u001b[0mhave_ordered\u001b[0m\u001b[1;33m)\u001b[0m\u001b[1;33m)\u001b[0m\u001b[1;33m\u001b[0m\u001b[1;33m\u001b[0m\u001b[0m\n",
         "\u001b[1;32m~\\AppData\\Roaming\\Python\\Python37\\site-packages\\pandas\\core\\indexes\\api.py\u001b[0m in \u001b[0;36m_union_indexes\u001b[1;34m(indexes, sort)\u001b[0m\n\u001b[0;32m    204\u001b[0m         \u001b[1;32melse\u001b[0m\u001b[1;33m:\u001b[0m\u001b[1;33m\u001b[0m\u001b[1;33m\u001b[0m\u001b[0m\n\u001b[0;32m    205\u001b[0m             \u001b[1;32mfor\u001b[0m \u001b[0mother\u001b[0m \u001b[1;32min\u001b[0m \u001b[0mindexes\u001b[0m\u001b[1;33m[\u001b[0m\u001b[1;36m1\u001b[0m\u001b[1;33m:\u001b[0m\u001b[1;33m]\u001b[0m\u001b[1;33m:\u001b[0m\u001b[1;33m\u001b[0m\u001b[1;33m\u001b[0m\u001b[0m\n\u001b[1;32m--> 206\u001b[1;33m                 \u001b[0mresult\u001b[0m \u001b[1;33m=\u001b[0m \u001b[0mresult\u001b[0m\u001b[1;33m.\u001b[0m\u001b[0munion\u001b[0m\u001b[1;33m(\u001b[0m\u001b[0mother\u001b[0m\u001b[1;33m)\u001b[0m\u001b[1;33m\u001b[0m\u001b[1;33m\u001b[0m\u001b[0m\n\u001b[0m\u001b[0;32m    207\u001b[0m             \u001b[1;32mreturn\u001b[0m \u001b[0mresult\u001b[0m\u001b[1;33m\u001b[0m\u001b[1;33m\u001b[0m\u001b[0m\n\u001b[0;32m    208\u001b[0m     \u001b[1;32melif\u001b[0m \u001b[0mkind\u001b[0m \u001b[1;33m==\u001b[0m \u001b[1;34m\"array\"\u001b[0m\u001b[1;33m:\u001b[0m\u001b[1;33m\u001b[0m\u001b[1;33m\u001b[0m\u001b[0m\n",
         "\u001b[1;32m~\\AppData\\Roaming\\Python\\Python37\\site-packages\\pandas\\core\\indexes\\base.py\u001b[0m in \u001b[0;36munion\u001b[1;34m(self, other, sort)\u001b[0m\n\u001b[0;32m   2517\u001b[0m             \u001b[1;32mreturn\u001b[0m \u001b[0mself\u001b[0m\u001b[1;33m.\u001b[0m\u001b[0m_union_incompatible_dtypes\u001b[0m\u001b[1;33m(\u001b[0m\u001b[0mother\u001b[0m\u001b[1;33m,\u001b[0m \u001b[0msort\u001b[0m\u001b[1;33m=\u001b[0m\u001b[0msort\u001b[0m\u001b[1;33m)\u001b[0m\u001b[1;33m\u001b[0m\u001b[1;33m\u001b[0m\u001b[0m\n\u001b[0;32m   2518\u001b[0m \u001b[1;33m\u001b[0m\u001b[0m\n\u001b[1;32m-> 2519\u001b[1;33m         \u001b[1;32mreturn\u001b[0m \u001b[0mself\u001b[0m\u001b[1;33m.\u001b[0m\u001b[0m_union\u001b[0m\u001b[1;33m(\u001b[0m\u001b[0mother\u001b[0m\u001b[1;33m,\u001b[0m \u001b[0msort\u001b[0m\u001b[1;33m=\u001b[0m\u001b[0msort\u001b[0m\u001b[1;33m)\u001b[0m\u001b[1;33m\u001b[0m\u001b[1;33m\u001b[0m\u001b[0m\n\u001b[0m\u001b[0;32m   2520\u001b[0m \u001b[1;33m\u001b[0m\u001b[0m\n\u001b[0;32m   2521\u001b[0m     \u001b[1;32mdef\u001b[0m \u001b[0m_union\u001b[0m\u001b[1;33m(\u001b[0m\u001b[0mself\u001b[0m\u001b[1;33m,\u001b[0m \u001b[0mother\u001b[0m\u001b[1;33m,\u001b[0m \u001b[0msort\u001b[0m\u001b[1;33m)\u001b[0m\u001b[1;33m:\u001b[0m\u001b[1;33m\u001b[0m\u001b[1;33m\u001b[0m\u001b[0m\n",
         "\u001b[1;32m~\\AppData\\Roaming\\Python\\Python37\\site-packages\\pandas\\core\\indexes\\numeric.py\u001b[0m in \u001b[0;36m_union\u001b[1;34m(self, other, sort)\u001b[0m\n\u001b[0;32m    161\u001b[0m             \u001b[1;32mreturn\u001b[0m \u001b[0mfirst\u001b[0m\u001b[1;33m.\u001b[0m\u001b[0m_union\u001b[0m\u001b[1;33m(\u001b[0m\u001b[0msecond\u001b[0m\u001b[1;33m,\u001b[0m \u001b[0msort\u001b[0m\u001b[1;33m)\u001b[0m\u001b[1;33m\u001b[0m\u001b[1;33m\u001b[0m\u001b[0m\n\u001b[0;32m    162\u001b[0m         \u001b[1;32melse\u001b[0m\u001b[1;33m:\u001b[0m\u001b[1;33m\u001b[0m\u001b[1;33m\u001b[0m\u001b[0m\n\u001b[1;32m--> 163\u001b[1;33m             \u001b[1;32mreturn\u001b[0m \u001b[0msuper\u001b[0m\u001b[1;33m(\u001b[0m\u001b[1;33m)\u001b[0m\u001b[1;33m.\u001b[0m\u001b[0m_union\u001b[0m\u001b[1;33m(\u001b[0m\u001b[0mother\u001b[0m\u001b[1;33m,\u001b[0m \u001b[0msort\u001b[0m\u001b[1;33m)\u001b[0m\u001b[1;33m\u001b[0m\u001b[1;33m\u001b[0m\u001b[0m\n\u001b[0m\u001b[0;32m    164\u001b[0m \u001b[1;33m\u001b[0m\u001b[0m\n\u001b[0;32m    165\u001b[0m \u001b[1;33m\u001b[0m\u001b[0m\n",
         "\u001b[1;32m~\\AppData\\Roaming\\Python\\Python37\\site-packages\\pandas\\core\\indexes\\base.py\u001b[0m in \u001b[0;36m_union\u001b[1;34m(self, other, sort)\u001b[0m\n\u001b[0;32m   2566\u001b[0m                 \u001b[0mresult\u001b[0m\u001b[1;33m.\u001b[0m\u001b[0mextend\u001b[0m\u001b[1;33m(\u001b[0m\u001b[1;33m[\u001b[0m\u001b[0mx\u001b[0m \u001b[1;32mfor\u001b[0m \u001b[0mx\u001b[0m \u001b[1;32min\u001b[0m \u001b[0mrvals\u001b[0m \u001b[1;32mif\u001b[0m \u001b[0mx\u001b[0m \u001b[1;32mnot\u001b[0m \u001b[1;32min\u001b[0m \u001b[0mvalue_set\u001b[0m\u001b[1;33m]\u001b[0m\u001b[1;33m)\u001b[0m\u001b[1;33m\u001b[0m\u001b[1;33m\u001b[0m\u001b[0m\n\u001b[0;32m   2567\u001b[0m         \u001b[1;32melse\u001b[0m\u001b[1;33m:\u001b[0m\u001b[1;33m\u001b[0m\u001b[1;33m\u001b[0m\u001b[0m\n\u001b[1;32m-> 2568\u001b[1;33m             \u001b[0mindexer\u001b[0m \u001b[1;33m=\u001b[0m \u001b[0mself\u001b[0m\u001b[1;33m.\u001b[0m\u001b[0mget_indexer\u001b[0m\u001b[1;33m(\u001b[0m\u001b[0mother\u001b[0m\u001b[1;33m)\u001b[0m\u001b[1;33m\u001b[0m\u001b[1;33m\u001b[0m\u001b[0m\n\u001b[0m\u001b[0;32m   2569\u001b[0m             \u001b[0mindexer\u001b[0m\u001b[1;33m,\u001b[0m \u001b[1;33m=\u001b[0m \u001b[1;33m(\u001b[0m\u001b[0mindexer\u001b[0m \u001b[1;33m==\u001b[0m \u001b[1;33m-\u001b[0m\u001b[1;36m1\u001b[0m\u001b[1;33m)\u001b[0m\u001b[1;33m.\u001b[0m\u001b[0mnonzero\u001b[0m\u001b[1;33m(\u001b[0m\u001b[1;33m)\u001b[0m\u001b[1;33m\u001b[0m\u001b[1;33m\u001b[0m\u001b[0m\n\u001b[0;32m   2570\u001b[0m \u001b[1;33m\u001b[0m\u001b[0m\n",
         "\u001b[1;32m~\\AppData\\Roaming\\Python\\Python37\\site-packages\\pandas\\core\\indexes\\base.py\u001b[0m in \u001b[0;36mget_indexer\u001b[1;34m(self, target, method, limit, tolerance)\u001b[0m\n\u001b[0;32m   2983\u001b[0m         \u001b[1;32mif\u001b[0m \u001b[1;32mnot\u001b[0m \u001b[0mself\u001b[0m\u001b[1;33m.\u001b[0m\u001b[0mis_unique\u001b[0m\u001b[1;33m:\u001b[0m\u001b[1;33m\u001b[0m\u001b[1;33m\u001b[0m\u001b[0m\n\u001b[0;32m   2984\u001b[0m             raise InvalidIndexError(\n\u001b[1;32m-> 2985\u001b[1;33m                 \u001b[1;34m\"Reindexing only valid with uniquely\"\u001b[0m \u001b[1;34m\" valued Index objects\"\u001b[0m\u001b[1;33m\u001b[0m\u001b[1;33m\u001b[0m\u001b[0m\n\u001b[0m\u001b[0;32m   2986\u001b[0m             )\n\u001b[0;32m   2987\u001b[0m \u001b[1;33m\u001b[0m\u001b[0m\n",
         "\u001b[1;31mInvalidIndexError\u001b[0m: Reindexing only valid with uniquely valued Index objects"
        ]
       }
      ],
      "source": "pd.DataFrame(\n    {\n        \"repo_url1\" : repository_info.url[ranking_nmf_multiplicative[0][0:9]], \n        \"repo_description1\" : repository_info.description[ranking_nmf_multiplicative[0][0:9]],\n        \"repo_url2\" : repository_info.url[ranking_nmf_multiplicative[1][0:9]], \n        \"repo_description2\" : repository_info.description[ranking_nmf_multiplicative[1][0:9]],\n        \"score\" : ranking_nmf_multiplicative[2][0:9]\n    }\n)",
      "start_time": "2020-04-06T13:37:28.279Z"
     },
     {
      "end_time": "2020-04-06T13:40:55.204Z",
      "execution_time": "19ms",
      "outputs": [
       {
        "data": {
         "text/html": "<div>\n<style scoped>\n    .dataframe tbody tr th:only-of-type {\n        vertical-align: middle;\n    }\n\n    .dataframe tbody tr th {\n        vertical-align: top;\n    }\n\n    .dataframe thead th {\n        text-align: right;\n    }\n</style>\n<table border=\"1\" class=\"dataframe\">\n  <thead>\n    <tr style=\"text-align: right;\">\n      <th></th>\n      <th>repo_url1</th>\n      <th>score</th>\n    </tr>\n  </thead>\n  <tbody>\n    <tr>\n      <th>5712</th>\n      <td>https://api.github.com/repos/fuzimaoxinan/Tens...</td>\n      <td>0.002992</td>\n    </tr>\n    <tr>\n      <th>5712</th>\n      <td>https://api.github.com/repos/fuzimaoxinan/Tens...</td>\n      <td>0.002986</td>\n    </tr>\n    <tr>\n      <th>5712</th>\n      <td>https://api.github.com/repos/fuzimaoxinan/Tens...</td>\n      <td>0.002981</td>\n    </tr>\n    <tr>\n      <th>5712</th>\n      <td>https://api.github.com/repos/fuzimaoxinan/Tens...</td>\n      <td>0.002980</td>\n    </tr>\n    <tr>\n      <th>5712</th>\n      <td>https://api.github.com/repos/fuzimaoxinan/Tens...</td>\n      <td>0.002968</td>\n    </tr>\n    <tr>\n      <th>5712</th>\n      <td>https://api.github.com/repos/fuzimaoxinan/Tens...</td>\n      <td>0.002965</td>\n    </tr>\n    <tr>\n      <th>5712</th>\n      <td>https://api.github.com/repos/fuzimaoxinan/Tens...</td>\n      <td>0.002950</td>\n    </tr>\n    <tr>\n      <th>5712</th>\n      <td>https://api.github.com/repos/fuzimaoxinan/Tens...</td>\n      <td>0.002944</td>\n    </tr>\n    <tr>\n      <th>5712</th>\n      <td>https://api.github.com/repos/fuzimaoxinan/Tens...</td>\n      <td>0.002940</td>\n    </tr>\n  </tbody>\n</table>\n</div>",
         "text/plain": "                                              repo_url1     score\n5712  https://api.github.com/repos/fuzimaoxinan/Tens...  0.002992\n5712  https://api.github.com/repos/fuzimaoxinan/Tens...  0.002986\n5712  https://api.github.com/repos/fuzimaoxinan/Tens...  0.002981\n5712  https://api.github.com/repos/fuzimaoxinan/Tens...  0.002980\n5712  https://api.github.com/repos/fuzimaoxinan/Tens...  0.002968\n5712  https://api.github.com/repos/fuzimaoxinan/Tens...  0.002965\n5712  https://api.github.com/repos/fuzimaoxinan/Tens...  0.002950\n5712  https://api.github.com/repos/fuzimaoxinan/Tens...  0.002944\n5712  https://api.github.com/repos/fuzimaoxinan/Tens...  0.002940"
        },
        "execution_count": 33,
        "metadata": {},
        "output_type": "execute_result"
       }
      ],
      "source": "pd.DataFrame(\n    {\n        \"repo_url1\" : repository_info.url[ranking_nmf_multiplicative[0][0:9]], \n        #\"repo_description1\" : repository_info.description[ranking_nmf_multiplicative[0][0:9]],\n        #\"repo_url2\" : repository_info.url[ranking_nmf_multiplicative[1][0:9]], \n        #\"repo_description2\" : repository_info.description[ranking_nmf_multiplicative[1][0:9]],\n        \"score\" : ranking_nmf_multiplicative[2][0:9]\n    }\n)",
      "start_time": "2020-04-06T13:40:55.185Z"
     },
     {
      "end_time": "2020-04-06T13:41:18.601Z",
      "execution_time": "22ms",
      "outputs": [
       {
        "ename": "InvalidIndexError",
        "evalue": "Reindexing only valid with uniquely valued Index objects",
        "output_type": "error",
        "traceback": [
         "\u001b[1;31m---------------------------------------------------------------------------\u001b[0m",
         "\u001b[1;31mInvalidIndexError\u001b[0m                         Traceback (most recent call last)",
         "\u001b[1;32m<ipython-input-34-6efc56c7d6a4>\u001b[0m in \u001b[0;36m<module>\u001b[1;34m\u001b[0m\n\u001b[0;32m      5\u001b[0m         \u001b[1;34m\"repo_url2\"\u001b[0m \u001b[1;33m:\u001b[0m \u001b[0mrepository_info\u001b[0m\u001b[1;33m.\u001b[0m\u001b[0murl\u001b[0m\u001b[1;33m[\u001b[0m\u001b[0mranking_nmf_multiplicative\u001b[0m\u001b[1;33m[\u001b[0m\u001b[1;36m1\u001b[0m\u001b[1;33m]\u001b[0m\u001b[1;33m[\u001b[0m\u001b[1;36m0\u001b[0m\u001b[1;33m:\u001b[0m\u001b[1;36m9\u001b[0m\u001b[1;33m]\u001b[0m\u001b[1;33m]\u001b[0m\u001b[1;33m,\u001b[0m\u001b[1;33m\u001b[0m\u001b[1;33m\u001b[0m\u001b[0m\n\u001b[0;32m      6\u001b[0m         \u001b[1;31m#\"repo_description2\" : repository_info.description[ranking_nmf_multiplicative[1][0:9]],\u001b[0m\u001b[1;33m\u001b[0m\u001b[1;33m\u001b[0m\u001b[1;33m\u001b[0m\u001b[0m\n\u001b[1;32m----> 7\u001b[1;33m         \u001b[1;34m\"score\"\u001b[0m \u001b[1;33m:\u001b[0m \u001b[0mranking_nmf_multiplicative\u001b[0m\u001b[1;33m[\u001b[0m\u001b[1;36m2\u001b[0m\u001b[1;33m]\u001b[0m\u001b[1;33m[\u001b[0m\u001b[1;36m0\u001b[0m\u001b[1;33m:\u001b[0m\u001b[1;36m9\u001b[0m\u001b[1;33m]\u001b[0m\u001b[1;33m\u001b[0m\u001b[1;33m\u001b[0m\u001b[0m\n\u001b[0m\u001b[0;32m      8\u001b[0m     }\n\u001b[0;32m      9\u001b[0m )\n",
         "\u001b[1;32m~\\AppData\\Roaming\\Python\\Python37\\site-packages\\pandas\\core\\frame.py\u001b[0m in \u001b[0;36m__init__\u001b[1;34m(self, data, index, columns, dtype, copy)\u001b[0m\n\u001b[0;32m    409\u001b[0m             )\n\u001b[0;32m    410\u001b[0m         \u001b[1;32melif\u001b[0m \u001b[0misinstance\u001b[0m\u001b[1;33m(\u001b[0m\u001b[0mdata\u001b[0m\u001b[1;33m,\u001b[0m \u001b[0mdict\u001b[0m\u001b[1;33m)\u001b[0m\u001b[1;33m:\u001b[0m\u001b[1;33m\u001b[0m\u001b[1;33m\u001b[0m\u001b[0m\n\u001b[1;32m--> 411\u001b[1;33m             \u001b[0mmgr\u001b[0m \u001b[1;33m=\u001b[0m \u001b[0minit_dict\u001b[0m\u001b[1;33m(\u001b[0m\u001b[0mdata\u001b[0m\u001b[1;33m,\u001b[0m \u001b[0mindex\u001b[0m\u001b[1;33m,\u001b[0m \u001b[0mcolumns\u001b[0m\u001b[1;33m,\u001b[0m \u001b[0mdtype\u001b[0m\u001b[1;33m=\u001b[0m\u001b[0mdtype\u001b[0m\u001b[1;33m)\u001b[0m\u001b[1;33m\u001b[0m\u001b[1;33m\u001b[0m\u001b[0m\n\u001b[0m\u001b[0;32m    412\u001b[0m         \u001b[1;32melif\u001b[0m \u001b[0misinstance\u001b[0m\u001b[1;33m(\u001b[0m\u001b[0mdata\u001b[0m\u001b[1;33m,\u001b[0m \u001b[0mma\u001b[0m\u001b[1;33m.\u001b[0m\u001b[0mMaskedArray\u001b[0m\u001b[1;33m)\u001b[0m\u001b[1;33m:\u001b[0m\u001b[1;33m\u001b[0m\u001b[1;33m\u001b[0m\u001b[0m\n\u001b[0;32m    413\u001b[0m             \u001b[1;32mimport\u001b[0m \u001b[0mnumpy\u001b[0m\u001b[1;33m.\u001b[0m\u001b[0mma\u001b[0m\u001b[1;33m.\u001b[0m\u001b[0mmrecords\u001b[0m \u001b[1;32mas\u001b[0m \u001b[0mmrecords\u001b[0m\u001b[1;33m\u001b[0m\u001b[1;33m\u001b[0m\u001b[0m\n",
         "\u001b[1;32m~\\AppData\\Roaming\\Python\\Python37\\site-packages\\pandas\\core\\internals\\construction.py\u001b[0m in \u001b[0;36minit_dict\u001b[1;34m(data, index, columns, dtype)\u001b[0m\n\u001b[0;32m    255\u001b[0m             \u001b[0marr\u001b[0m \u001b[1;32mif\u001b[0m \u001b[1;32mnot\u001b[0m \u001b[0mis_datetime64tz_dtype\u001b[0m\u001b[1;33m(\u001b[0m\u001b[0marr\u001b[0m\u001b[1;33m)\u001b[0m \u001b[1;32melse\u001b[0m \u001b[0marr\u001b[0m\u001b[1;33m.\u001b[0m\u001b[0mcopy\u001b[0m\u001b[1;33m(\u001b[0m\u001b[1;33m)\u001b[0m \u001b[1;32mfor\u001b[0m \u001b[0marr\u001b[0m \u001b[1;32min\u001b[0m \u001b[0marrays\u001b[0m\u001b[1;33m\u001b[0m\u001b[1;33m\u001b[0m\u001b[0m\n\u001b[0;32m    256\u001b[0m         ]\n\u001b[1;32m--> 257\u001b[1;33m     \u001b[1;32mreturn\u001b[0m \u001b[0marrays_to_mgr\u001b[0m\u001b[1;33m(\u001b[0m\u001b[0marrays\u001b[0m\u001b[1;33m,\u001b[0m \u001b[0mdata_names\u001b[0m\u001b[1;33m,\u001b[0m \u001b[0mindex\u001b[0m\u001b[1;33m,\u001b[0m \u001b[0mcolumns\u001b[0m\u001b[1;33m,\u001b[0m \u001b[0mdtype\u001b[0m\u001b[1;33m=\u001b[0m\u001b[0mdtype\u001b[0m\u001b[1;33m)\u001b[0m\u001b[1;33m\u001b[0m\u001b[1;33m\u001b[0m\u001b[0m\n\u001b[0m\u001b[0;32m    258\u001b[0m \u001b[1;33m\u001b[0m\u001b[0m\n\u001b[0;32m    259\u001b[0m \u001b[1;33m\u001b[0m\u001b[0m\n",
         "\u001b[1;32m~\\AppData\\Roaming\\Python\\Python37\\site-packages\\pandas\\core\\internals\\construction.py\u001b[0m in \u001b[0;36marrays_to_mgr\u001b[1;34m(arrays, arr_names, index, columns, dtype)\u001b[0m\n\u001b[0;32m     75\u001b[0m     \u001b[1;31m# figure out the index, if necessary\u001b[0m\u001b[1;33m\u001b[0m\u001b[1;33m\u001b[0m\u001b[1;33m\u001b[0m\u001b[0m\n\u001b[0;32m     76\u001b[0m     \u001b[1;32mif\u001b[0m \u001b[0mindex\u001b[0m \u001b[1;32mis\u001b[0m \u001b[1;32mNone\u001b[0m\u001b[1;33m:\u001b[0m\u001b[1;33m\u001b[0m\u001b[1;33m\u001b[0m\u001b[0m\n\u001b[1;32m---> 77\u001b[1;33m         \u001b[0mindex\u001b[0m \u001b[1;33m=\u001b[0m \u001b[0mextract_index\u001b[0m\u001b[1;33m(\u001b[0m\u001b[0marrays\u001b[0m\u001b[1;33m)\u001b[0m\u001b[1;33m\u001b[0m\u001b[1;33m\u001b[0m\u001b[0m\n\u001b[0m\u001b[0;32m     78\u001b[0m     \u001b[1;32melse\u001b[0m\u001b[1;33m:\u001b[0m\u001b[1;33m\u001b[0m\u001b[1;33m\u001b[0m\u001b[0m\n\u001b[0;32m     79\u001b[0m         \u001b[0mindex\u001b[0m \u001b[1;33m=\u001b[0m \u001b[0mensure_index\u001b[0m\u001b[1;33m(\u001b[0m\u001b[0mindex\u001b[0m\u001b[1;33m)\u001b[0m\u001b[1;33m\u001b[0m\u001b[1;33m\u001b[0m\u001b[0m\n",
         "\u001b[1;32m~\\AppData\\Roaming\\Python\\Python37\\site-packages\\pandas\\core\\internals\\construction.py\u001b[0m in \u001b[0;36mextract_index\u001b[1;34m(data)\u001b[0m\n\u001b[0;32m    359\u001b[0m \u001b[1;33m\u001b[0m\u001b[0m\n\u001b[0;32m    360\u001b[0m         \u001b[1;32mif\u001b[0m \u001b[0mhave_series\u001b[0m\u001b[1;33m:\u001b[0m\u001b[1;33m\u001b[0m\u001b[1;33m\u001b[0m\u001b[0m\n\u001b[1;32m--> 361\u001b[1;33m             \u001b[0mindex\u001b[0m \u001b[1;33m=\u001b[0m \u001b[0m_union_indexes\u001b[0m\u001b[1;33m(\u001b[0m\u001b[0mindexes\u001b[0m\u001b[1;33m)\u001b[0m\u001b[1;33m\u001b[0m\u001b[1;33m\u001b[0m\u001b[0m\n\u001b[0m\u001b[0;32m    362\u001b[0m         \u001b[1;32melif\u001b[0m \u001b[0mhave_dicts\u001b[0m\u001b[1;33m:\u001b[0m\u001b[1;33m\u001b[0m\u001b[1;33m\u001b[0m\u001b[0m\n\u001b[0;32m    363\u001b[0m             \u001b[0mindex\u001b[0m \u001b[1;33m=\u001b[0m \u001b[0m_union_indexes\u001b[0m\u001b[1;33m(\u001b[0m\u001b[0mindexes\u001b[0m\u001b[1;33m,\u001b[0m \u001b[0msort\u001b[0m\u001b[1;33m=\u001b[0m\u001b[1;32mnot\u001b[0m \u001b[1;33m(\u001b[0m\u001b[0mcompat\u001b[0m\u001b[1;33m.\u001b[0m\u001b[0mPY36\u001b[0m \u001b[1;32mor\u001b[0m \u001b[0mhave_ordered\u001b[0m\u001b[1;33m)\u001b[0m\u001b[1;33m)\u001b[0m\u001b[1;33m\u001b[0m\u001b[1;33m\u001b[0m\u001b[0m\n",
         "\u001b[1;32m~\\AppData\\Roaming\\Python\\Python37\\site-packages\\pandas\\core\\indexes\\api.py\u001b[0m in \u001b[0;36m_union_indexes\u001b[1;34m(indexes, sort)\u001b[0m\n\u001b[0;32m    204\u001b[0m         \u001b[1;32melse\u001b[0m\u001b[1;33m:\u001b[0m\u001b[1;33m\u001b[0m\u001b[1;33m\u001b[0m\u001b[0m\n\u001b[0;32m    205\u001b[0m             \u001b[1;32mfor\u001b[0m \u001b[0mother\u001b[0m \u001b[1;32min\u001b[0m \u001b[0mindexes\u001b[0m\u001b[1;33m[\u001b[0m\u001b[1;36m1\u001b[0m\u001b[1;33m:\u001b[0m\u001b[1;33m]\u001b[0m\u001b[1;33m:\u001b[0m\u001b[1;33m\u001b[0m\u001b[1;33m\u001b[0m\u001b[0m\n\u001b[1;32m--> 206\u001b[1;33m                 \u001b[0mresult\u001b[0m \u001b[1;33m=\u001b[0m \u001b[0mresult\u001b[0m\u001b[1;33m.\u001b[0m\u001b[0munion\u001b[0m\u001b[1;33m(\u001b[0m\u001b[0mother\u001b[0m\u001b[1;33m)\u001b[0m\u001b[1;33m\u001b[0m\u001b[1;33m\u001b[0m\u001b[0m\n\u001b[0m\u001b[0;32m    207\u001b[0m             \u001b[1;32mreturn\u001b[0m \u001b[0mresult\u001b[0m\u001b[1;33m\u001b[0m\u001b[1;33m\u001b[0m\u001b[0m\n\u001b[0;32m    208\u001b[0m     \u001b[1;32melif\u001b[0m \u001b[0mkind\u001b[0m \u001b[1;33m==\u001b[0m \u001b[1;34m\"array\"\u001b[0m\u001b[1;33m:\u001b[0m\u001b[1;33m\u001b[0m\u001b[1;33m\u001b[0m\u001b[0m\n",
         "\u001b[1;32m~\\AppData\\Roaming\\Python\\Python37\\site-packages\\pandas\\core\\indexes\\base.py\u001b[0m in \u001b[0;36munion\u001b[1;34m(self, other, sort)\u001b[0m\n\u001b[0;32m   2517\u001b[0m             \u001b[1;32mreturn\u001b[0m \u001b[0mself\u001b[0m\u001b[1;33m.\u001b[0m\u001b[0m_union_incompatible_dtypes\u001b[0m\u001b[1;33m(\u001b[0m\u001b[0mother\u001b[0m\u001b[1;33m,\u001b[0m \u001b[0msort\u001b[0m\u001b[1;33m=\u001b[0m\u001b[0msort\u001b[0m\u001b[1;33m)\u001b[0m\u001b[1;33m\u001b[0m\u001b[1;33m\u001b[0m\u001b[0m\n\u001b[0;32m   2518\u001b[0m \u001b[1;33m\u001b[0m\u001b[0m\n\u001b[1;32m-> 2519\u001b[1;33m         \u001b[1;32mreturn\u001b[0m \u001b[0mself\u001b[0m\u001b[1;33m.\u001b[0m\u001b[0m_union\u001b[0m\u001b[1;33m(\u001b[0m\u001b[0mother\u001b[0m\u001b[1;33m,\u001b[0m \u001b[0msort\u001b[0m\u001b[1;33m=\u001b[0m\u001b[0msort\u001b[0m\u001b[1;33m)\u001b[0m\u001b[1;33m\u001b[0m\u001b[1;33m\u001b[0m\u001b[0m\n\u001b[0m\u001b[0;32m   2520\u001b[0m \u001b[1;33m\u001b[0m\u001b[0m\n\u001b[0;32m   2521\u001b[0m     \u001b[1;32mdef\u001b[0m \u001b[0m_union\u001b[0m\u001b[1;33m(\u001b[0m\u001b[0mself\u001b[0m\u001b[1;33m,\u001b[0m \u001b[0mother\u001b[0m\u001b[1;33m,\u001b[0m \u001b[0msort\u001b[0m\u001b[1;33m)\u001b[0m\u001b[1;33m:\u001b[0m\u001b[1;33m\u001b[0m\u001b[1;33m\u001b[0m\u001b[0m\n",
         "\u001b[1;32m~\\AppData\\Roaming\\Python\\Python37\\site-packages\\pandas\\core\\indexes\\numeric.py\u001b[0m in \u001b[0;36m_union\u001b[1;34m(self, other, sort)\u001b[0m\n\u001b[0;32m    161\u001b[0m             \u001b[1;32mreturn\u001b[0m \u001b[0mfirst\u001b[0m\u001b[1;33m.\u001b[0m\u001b[0m_union\u001b[0m\u001b[1;33m(\u001b[0m\u001b[0msecond\u001b[0m\u001b[1;33m,\u001b[0m \u001b[0msort\u001b[0m\u001b[1;33m)\u001b[0m\u001b[1;33m\u001b[0m\u001b[1;33m\u001b[0m\u001b[0m\n\u001b[0;32m    162\u001b[0m         \u001b[1;32melse\u001b[0m\u001b[1;33m:\u001b[0m\u001b[1;33m\u001b[0m\u001b[1;33m\u001b[0m\u001b[0m\n\u001b[1;32m--> 163\u001b[1;33m             \u001b[1;32mreturn\u001b[0m \u001b[0msuper\u001b[0m\u001b[1;33m(\u001b[0m\u001b[1;33m)\u001b[0m\u001b[1;33m.\u001b[0m\u001b[0m_union\u001b[0m\u001b[1;33m(\u001b[0m\u001b[0mother\u001b[0m\u001b[1;33m,\u001b[0m \u001b[0msort\u001b[0m\u001b[1;33m)\u001b[0m\u001b[1;33m\u001b[0m\u001b[1;33m\u001b[0m\u001b[0m\n\u001b[0m\u001b[0;32m    164\u001b[0m \u001b[1;33m\u001b[0m\u001b[0m\n\u001b[0;32m    165\u001b[0m \u001b[1;33m\u001b[0m\u001b[0m\n",
         "\u001b[1;32m~\\AppData\\Roaming\\Python\\Python37\\site-packages\\pandas\\core\\indexes\\base.py\u001b[0m in \u001b[0;36m_union\u001b[1;34m(self, other, sort)\u001b[0m\n\u001b[0;32m   2566\u001b[0m                 \u001b[0mresult\u001b[0m\u001b[1;33m.\u001b[0m\u001b[0mextend\u001b[0m\u001b[1;33m(\u001b[0m\u001b[1;33m[\u001b[0m\u001b[0mx\u001b[0m \u001b[1;32mfor\u001b[0m \u001b[0mx\u001b[0m \u001b[1;32min\u001b[0m \u001b[0mrvals\u001b[0m \u001b[1;32mif\u001b[0m \u001b[0mx\u001b[0m \u001b[1;32mnot\u001b[0m \u001b[1;32min\u001b[0m \u001b[0mvalue_set\u001b[0m\u001b[1;33m]\u001b[0m\u001b[1;33m)\u001b[0m\u001b[1;33m\u001b[0m\u001b[1;33m\u001b[0m\u001b[0m\n\u001b[0;32m   2567\u001b[0m         \u001b[1;32melse\u001b[0m\u001b[1;33m:\u001b[0m\u001b[1;33m\u001b[0m\u001b[1;33m\u001b[0m\u001b[0m\n\u001b[1;32m-> 2568\u001b[1;33m             \u001b[0mindexer\u001b[0m \u001b[1;33m=\u001b[0m \u001b[0mself\u001b[0m\u001b[1;33m.\u001b[0m\u001b[0mget_indexer\u001b[0m\u001b[1;33m(\u001b[0m\u001b[0mother\u001b[0m\u001b[1;33m)\u001b[0m\u001b[1;33m\u001b[0m\u001b[1;33m\u001b[0m\u001b[0m\n\u001b[0m\u001b[0;32m   2569\u001b[0m             \u001b[0mindexer\u001b[0m\u001b[1;33m,\u001b[0m \u001b[1;33m=\u001b[0m \u001b[1;33m(\u001b[0m\u001b[0mindexer\u001b[0m \u001b[1;33m==\u001b[0m \u001b[1;33m-\u001b[0m\u001b[1;36m1\u001b[0m\u001b[1;33m)\u001b[0m\u001b[1;33m.\u001b[0m\u001b[0mnonzero\u001b[0m\u001b[1;33m(\u001b[0m\u001b[1;33m)\u001b[0m\u001b[1;33m\u001b[0m\u001b[1;33m\u001b[0m\u001b[0m\n\u001b[0;32m   2570\u001b[0m \u001b[1;33m\u001b[0m\u001b[0m\n",
         "\u001b[1;32m~\\AppData\\Roaming\\Python\\Python37\\site-packages\\pandas\\core\\indexes\\base.py\u001b[0m in \u001b[0;36mget_indexer\u001b[1;34m(self, target, method, limit, tolerance)\u001b[0m\n\u001b[0;32m   2983\u001b[0m         \u001b[1;32mif\u001b[0m \u001b[1;32mnot\u001b[0m \u001b[0mself\u001b[0m\u001b[1;33m.\u001b[0m\u001b[0mis_unique\u001b[0m\u001b[1;33m:\u001b[0m\u001b[1;33m\u001b[0m\u001b[1;33m\u001b[0m\u001b[0m\n\u001b[0;32m   2984\u001b[0m             raise InvalidIndexError(\n\u001b[1;32m-> 2985\u001b[1;33m                 \u001b[1;34m\"Reindexing only valid with uniquely\"\u001b[0m \u001b[1;34m\" valued Index objects\"\u001b[0m\u001b[1;33m\u001b[0m\u001b[1;33m\u001b[0m\u001b[0m\n\u001b[0m\u001b[0;32m   2986\u001b[0m             )\n\u001b[0;32m   2987\u001b[0m \u001b[1;33m\u001b[0m\u001b[0m\n",
         "\u001b[1;31mInvalidIndexError\u001b[0m: Reindexing only valid with uniquely valued Index objects"
        ]
       }
      ],
      "source": "pd.DataFrame(\n    {\n        \"repo_url1\" : repository_info.url[ranking_nmf_multiplicative[0][0:9]], \n        #\"repo_description1\" : repository_info.description[ranking_nmf_multiplicative[0][0:9]],\n        \"repo_url2\" : repository_info.url[ranking_nmf_multiplicative[1][0:9]], \n        #\"repo_description2\" : repository_info.description[ranking_nmf_multiplicative[1][0:9]],\n        \"score\" : ranking_nmf_multiplicative[2][0:9]\n    }\n)",
      "start_time": "2020-04-06T13:41:18.579Z"
     },
     {
      "end_time": "2020-04-06T13:42:00.150Z",
      "execution_time": "11ms",
      "outputs": [
       {
        "data": {
         "text/html": "<div>\n<style scoped>\n    .dataframe tbody tr th:only-of-type {\n        vertical-align: middle;\n    }\n\n    .dataframe tbody tr th {\n        vertical-align: top;\n    }\n\n    .dataframe thead th {\n        text-align: right;\n    }\n</style>\n<table border=\"1\" class=\"dataframe\">\n  <thead>\n    <tr style=\"text-align: right;\">\n      <th></th>\n      <th>repo_url2</th>\n      <th>score</th>\n    </tr>\n  </thead>\n  <tbody>\n    <tr>\n      <th>1473</th>\n      <td>https://api.github.com/repos/MongoEngine/flask...</td>\n      <td>0.002992</td>\n    </tr>\n    <tr>\n      <th>8613</th>\n      <td>https://api.github.com/repos/mikeboers/Flask-I...</td>\n      <td>0.002986</td>\n    </tr>\n    <tr>\n      <th>2733</th>\n      <td>https://api.github.com/repos/alecthomas/flask_...</td>\n      <td>0.002981</td>\n    </tr>\n    <tr>\n      <th>3524</th>\n      <td>https://api.github.com/repos/bkabrda/flask-who...</td>\n      <td>0.002980</td>\n    </tr>\n    <tr>\n      <th>8398</th>\n      <td>https://api.github.com/repos/mattupstate/flask...</td>\n      <td>0.002968</td>\n    </tr>\n    <tr>\n      <th>8413</th>\n      <td>https://api.github.com/repos/maxcountryman/logmon</td>\n      <td>0.002965</td>\n    </tr>\n    <tr>\n      <th>7102</th>\n      <td>https://api.github.com/repos/jmcarp/flask-apispec</td>\n      <td>0.002950</td>\n    </tr>\n    <tr>\n      <th>4405</th>\n      <td>https://api.github.com/repos/damyanbogoev/flas...</td>\n      <td>0.002944</td>\n    </tr>\n    <tr>\n      <th>6163</th>\n      <td>https://api.github.com/repos/hack4impact/flask...</td>\n      <td>0.002940</td>\n    </tr>\n  </tbody>\n</table>\n</div>",
         "text/plain": "                                              repo_url2     score\n1473  https://api.github.com/repos/MongoEngine/flask...  0.002992\n8613  https://api.github.com/repos/mikeboers/Flask-I...  0.002986\n2733  https://api.github.com/repos/alecthomas/flask_...  0.002981\n3524  https://api.github.com/repos/bkabrda/flask-who...  0.002980\n8398  https://api.github.com/repos/mattupstate/flask...  0.002968\n8413  https://api.github.com/repos/maxcountryman/logmon  0.002965\n7102  https://api.github.com/repos/jmcarp/flask-apispec  0.002950\n4405  https://api.github.com/repos/damyanbogoev/flas...  0.002944\n6163  https://api.github.com/repos/hack4impact/flask...  0.002940"
        },
        "execution_count": 35,
        "metadata": {},
        "output_type": "execute_result"
       }
      ],
      "source": "pd.DataFrame(\n    {\n        #\"repo_url1\" : repository_info.url[ranking_nmf_multiplicative[0][0:9]], \n        #\"repo_description1\" : repository_info.description[ranking_nmf_multiplicative[0][0:9]],\n        \"repo_url2\" : repository_info.url[ranking_nmf_multiplicative[1][0:9]], \n        #\"repo_description2\" : repository_info.description[ranking_nmf_multiplicative[1][0:9]],\n        \"score\" : ranking_nmf_multiplicative[2][0:9]\n    }\n)",
      "start_time": "2020-04-06T13:42:00.139Z"
     },
     {
      "end_time": "2020-04-06T13:42:07.992Z",
      "execution_time": "20ms",
      "outputs": [
       {
        "ename": "InvalidIndexError",
        "evalue": "Reindexing only valid with uniquely valued Index objects",
        "output_type": "error",
        "traceback": [
         "\u001b[1;31m---------------------------------------------------------------------------\u001b[0m",
         "\u001b[1;31mInvalidIndexError\u001b[0m                         Traceback (most recent call last)",
         "\u001b[1;32m<ipython-input-36-6efc56c7d6a4>\u001b[0m in \u001b[0;36m<module>\u001b[1;34m\u001b[0m\n\u001b[0;32m      5\u001b[0m         \u001b[1;34m\"repo_url2\"\u001b[0m \u001b[1;33m:\u001b[0m \u001b[0mrepository_info\u001b[0m\u001b[1;33m.\u001b[0m\u001b[0murl\u001b[0m\u001b[1;33m[\u001b[0m\u001b[0mranking_nmf_multiplicative\u001b[0m\u001b[1;33m[\u001b[0m\u001b[1;36m1\u001b[0m\u001b[1;33m]\u001b[0m\u001b[1;33m[\u001b[0m\u001b[1;36m0\u001b[0m\u001b[1;33m:\u001b[0m\u001b[1;36m9\u001b[0m\u001b[1;33m]\u001b[0m\u001b[1;33m]\u001b[0m\u001b[1;33m,\u001b[0m\u001b[1;33m\u001b[0m\u001b[1;33m\u001b[0m\u001b[0m\n\u001b[0;32m      6\u001b[0m         \u001b[1;31m#\"repo_description2\" : repository_info.description[ranking_nmf_multiplicative[1][0:9]],\u001b[0m\u001b[1;33m\u001b[0m\u001b[1;33m\u001b[0m\u001b[1;33m\u001b[0m\u001b[0m\n\u001b[1;32m----> 7\u001b[1;33m         \u001b[1;34m\"score\"\u001b[0m \u001b[1;33m:\u001b[0m \u001b[0mranking_nmf_multiplicative\u001b[0m\u001b[1;33m[\u001b[0m\u001b[1;36m2\u001b[0m\u001b[1;33m]\u001b[0m\u001b[1;33m[\u001b[0m\u001b[1;36m0\u001b[0m\u001b[1;33m:\u001b[0m\u001b[1;36m9\u001b[0m\u001b[1;33m]\u001b[0m\u001b[1;33m\u001b[0m\u001b[1;33m\u001b[0m\u001b[0m\n\u001b[0m\u001b[0;32m      8\u001b[0m     }\n\u001b[0;32m      9\u001b[0m )\n",
         "\u001b[1;32m~\\AppData\\Roaming\\Python\\Python37\\site-packages\\pandas\\core\\frame.py\u001b[0m in \u001b[0;36m__init__\u001b[1;34m(self, data, index, columns, dtype, copy)\u001b[0m\n\u001b[0;32m    409\u001b[0m             )\n\u001b[0;32m    410\u001b[0m         \u001b[1;32melif\u001b[0m \u001b[0misinstance\u001b[0m\u001b[1;33m(\u001b[0m\u001b[0mdata\u001b[0m\u001b[1;33m,\u001b[0m \u001b[0mdict\u001b[0m\u001b[1;33m)\u001b[0m\u001b[1;33m:\u001b[0m\u001b[1;33m\u001b[0m\u001b[1;33m\u001b[0m\u001b[0m\n\u001b[1;32m--> 411\u001b[1;33m             \u001b[0mmgr\u001b[0m \u001b[1;33m=\u001b[0m \u001b[0minit_dict\u001b[0m\u001b[1;33m(\u001b[0m\u001b[0mdata\u001b[0m\u001b[1;33m,\u001b[0m \u001b[0mindex\u001b[0m\u001b[1;33m,\u001b[0m \u001b[0mcolumns\u001b[0m\u001b[1;33m,\u001b[0m \u001b[0mdtype\u001b[0m\u001b[1;33m=\u001b[0m\u001b[0mdtype\u001b[0m\u001b[1;33m)\u001b[0m\u001b[1;33m\u001b[0m\u001b[1;33m\u001b[0m\u001b[0m\n\u001b[0m\u001b[0;32m    412\u001b[0m         \u001b[1;32melif\u001b[0m \u001b[0misinstance\u001b[0m\u001b[1;33m(\u001b[0m\u001b[0mdata\u001b[0m\u001b[1;33m,\u001b[0m \u001b[0mma\u001b[0m\u001b[1;33m.\u001b[0m\u001b[0mMaskedArray\u001b[0m\u001b[1;33m)\u001b[0m\u001b[1;33m:\u001b[0m\u001b[1;33m\u001b[0m\u001b[1;33m\u001b[0m\u001b[0m\n\u001b[0;32m    413\u001b[0m             \u001b[1;32mimport\u001b[0m \u001b[0mnumpy\u001b[0m\u001b[1;33m.\u001b[0m\u001b[0mma\u001b[0m\u001b[1;33m.\u001b[0m\u001b[0mmrecords\u001b[0m \u001b[1;32mas\u001b[0m \u001b[0mmrecords\u001b[0m\u001b[1;33m\u001b[0m\u001b[1;33m\u001b[0m\u001b[0m\n",
         "\u001b[1;32m~\\AppData\\Roaming\\Python\\Python37\\site-packages\\pandas\\core\\internals\\construction.py\u001b[0m in \u001b[0;36minit_dict\u001b[1;34m(data, index, columns, dtype)\u001b[0m\n\u001b[0;32m    255\u001b[0m             \u001b[0marr\u001b[0m \u001b[1;32mif\u001b[0m \u001b[1;32mnot\u001b[0m \u001b[0mis_datetime64tz_dtype\u001b[0m\u001b[1;33m(\u001b[0m\u001b[0marr\u001b[0m\u001b[1;33m)\u001b[0m \u001b[1;32melse\u001b[0m \u001b[0marr\u001b[0m\u001b[1;33m.\u001b[0m\u001b[0mcopy\u001b[0m\u001b[1;33m(\u001b[0m\u001b[1;33m)\u001b[0m \u001b[1;32mfor\u001b[0m \u001b[0marr\u001b[0m \u001b[1;32min\u001b[0m \u001b[0marrays\u001b[0m\u001b[1;33m\u001b[0m\u001b[1;33m\u001b[0m\u001b[0m\n\u001b[0;32m    256\u001b[0m         ]\n\u001b[1;32m--> 257\u001b[1;33m     \u001b[1;32mreturn\u001b[0m \u001b[0marrays_to_mgr\u001b[0m\u001b[1;33m(\u001b[0m\u001b[0marrays\u001b[0m\u001b[1;33m,\u001b[0m \u001b[0mdata_names\u001b[0m\u001b[1;33m,\u001b[0m \u001b[0mindex\u001b[0m\u001b[1;33m,\u001b[0m \u001b[0mcolumns\u001b[0m\u001b[1;33m,\u001b[0m \u001b[0mdtype\u001b[0m\u001b[1;33m=\u001b[0m\u001b[0mdtype\u001b[0m\u001b[1;33m)\u001b[0m\u001b[1;33m\u001b[0m\u001b[1;33m\u001b[0m\u001b[0m\n\u001b[0m\u001b[0;32m    258\u001b[0m \u001b[1;33m\u001b[0m\u001b[0m\n\u001b[0;32m    259\u001b[0m \u001b[1;33m\u001b[0m\u001b[0m\n",
         "\u001b[1;32m~\\AppData\\Roaming\\Python\\Python37\\site-packages\\pandas\\core\\internals\\construction.py\u001b[0m in \u001b[0;36marrays_to_mgr\u001b[1;34m(arrays, arr_names, index, columns, dtype)\u001b[0m\n\u001b[0;32m     75\u001b[0m     \u001b[1;31m# figure out the index, if necessary\u001b[0m\u001b[1;33m\u001b[0m\u001b[1;33m\u001b[0m\u001b[1;33m\u001b[0m\u001b[0m\n\u001b[0;32m     76\u001b[0m     \u001b[1;32mif\u001b[0m \u001b[0mindex\u001b[0m \u001b[1;32mis\u001b[0m \u001b[1;32mNone\u001b[0m\u001b[1;33m:\u001b[0m\u001b[1;33m\u001b[0m\u001b[1;33m\u001b[0m\u001b[0m\n\u001b[1;32m---> 77\u001b[1;33m         \u001b[0mindex\u001b[0m \u001b[1;33m=\u001b[0m \u001b[0mextract_index\u001b[0m\u001b[1;33m(\u001b[0m\u001b[0marrays\u001b[0m\u001b[1;33m)\u001b[0m\u001b[1;33m\u001b[0m\u001b[1;33m\u001b[0m\u001b[0m\n\u001b[0m\u001b[0;32m     78\u001b[0m     \u001b[1;32melse\u001b[0m\u001b[1;33m:\u001b[0m\u001b[1;33m\u001b[0m\u001b[1;33m\u001b[0m\u001b[0m\n\u001b[0;32m     79\u001b[0m         \u001b[0mindex\u001b[0m \u001b[1;33m=\u001b[0m \u001b[0mensure_index\u001b[0m\u001b[1;33m(\u001b[0m\u001b[0mindex\u001b[0m\u001b[1;33m)\u001b[0m\u001b[1;33m\u001b[0m\u001b[1;33m\u001b[0m\u001b[0m\n",
         "\u001b[1;32m~\\AppData\\Roaming\\Python\\Python37\\site-packages\\pandas\\core\\internals\\construction.py\u001b[0m in \u001b[0;36mextract_index\u001b[1;34m(data)\u001b[0m\n\u001b[0;32m    359\u001b[0m \u001b[1;33m\u001b[0m\u001b[0m\n\u001b[0;32m    360\u001b[0m         \u001b[1;32mif\u001b[0m \u001b[0mhave_series\u001b[0m\u001b[1;33m:\u001b[0m\u001b[1;33m\u001b[0m\u001b[1;33m\u001b[0m\u001b[0m\n\u001b[1;32m--> 361\u001b[1;33m             \u001b[0mindex\u001b[0m \u001b[1;33m=\u001b[0m \u001b[0m_union_indexes\u001b[0m\u001b[1;33m(\u001b[0m\u001b[0mindexes\u001b[0m\u001b[1;33m)\u001b[0m\u001b[1;33m\u001b[0m\u001b[1;33m\u001b[0m\u001b[0m\n\u001b[0m\u001b[0;32m    362\u001b[0m         \u001b[1;32melif\u001b[0m \u001b[0mhave_dicts\u001b[0m\u001b[1;33m:\u001b[0m\u001b[1;33m\u001b[0m\u001b[1;33m\u001b[0m\u001b[0m\n\u001b[0;32m    363\u001b[0m             \u001b[0mindex\u001b[0m \u001b[1;33m=\u001b[0m \u001b[0m_union_indexes\u001b[0m\u001b[1;33m(\u001b[0m\u001b[0mindexes\u001b[0m\u001b[1;33m,\u001b[0m \u001b[0msort\u001b[0m\u001b[1;33m=\u001b[0m\u001b[1;32mnot\u001b[0m \u001b[1;33m(\u001b[0m\u001b[0mcompat\u001b[0m\u001b[1;33m.\u001b[0m\u001b[0mPY36\u001b[0m \u001b[1;32mor\u001b[0m \u001b[0mhave_ordered\u001b[0m\u001b[1;33m)\u001b[0m\u001b[1;33m)\u001b[0m\u001b[1;33m\u001b[0m\u001b[1;33m\u001b[0m\u001b[0m\n",
         "\u001b[1;32m~\\AppData\\Roaming\\Python\\Python37\\site-packages\\pandas\\core\\indexes\\api.py\u001b[0m in \u001b[0;36m_union_indexes\u001b[1;34m(indexes, sort)\u001b[0m\n\u001b[0;32m    204\u001b[0m         \u001b[1;32melse\u001b[0m\u001b[1;33m:\u001b[0m\u001b[1;33m\u001b[0m\u001b[1;33m\u001b[0m\u001b[0m\n\u001b[0;32m    205\u001b[0m             \u001b[1;32mfor\u001b[0m \u001b[0mother\u001b[0m \u001b[1;32min\u001b[0m \u001b[0mindexes\u001b[0m\u001b[1;33m[\u001b[0m\u001b[1;36m1\u001b[0m\u001b[1;33m:\u001b[0m\u001b[1;33m]\u001b[0m\u001b[1;33m:\u001b[0m\u001b[1;33m\u001b[0m\u001b[1;33m\u001b[0m\u001b[0m\n\u001b[1;32m--> 206\u001b[1;33m                 \u001b[0mresult\u001b[0m \u001b[1;33m=\u001b[0m \u001b[0mresult\u001b[0m\u001b[1;33m.\u001b[0m\u001b[0munion\u001b[0m\u001b[1;33m(\u001b[0m\u001b[0mother\u001b[0m\u001b[1;33m)\u001b[0m\u001b[1;33m\u001b[0m\u001b[1;33m\u001b[0m\u001b[0m\n\u001b[0m\u001b[0;32m    207\u001b[0m             \u001b[1;32mreturn\u001b[0m \u001b[0mresult\u001b[0m\u001b[1;33m\u001b[0m\u001b[1;33m\u001b[0m\u001b[0m\n\u001b[0;32m    208\u001b[0m     \u001b[1;32melif\u001b[0m \u001b[0mkind\u001b[0m \u001b[1;33m==\u001b[0m \u001b[1;34m\"array\"\u001b[0m\u001b[1;33m:\u001b[0m\u001b[1;33m\u001b[0m\u001b[1;33m\u001b[0m\u001b[0m\n",
         "\u001b[1;32m~\\AppData\\Roaming\\Python\\Python37\\site-packages\\pandas\\core\\indexes\\base.py\u001b[0m in \u001b[0;36munion\u001b[1;34m(self, other, sort)\u001b[0m\n\u001b[0;32m   2517\u001b[0m             \u001b[1;32mreturn\u001b[0m \u001b[0mself\u001b[0m\u001b[1;33m.\u001b[0m\u001b[0m_union_incompatible_dtypes\u001b[0m\u001b[1;33m(\u001b[0m\u001b[0mother\u001b[0m\u001b[1;33m,\u001b[0m \u001b[0msort\u001b[0m\u001b[1;33m=\u001b[0m\u001b[0msort\u001b[0m\u001b[1;33m)\u001b[0m\u001b[1;33m\u001b[0m\u001b[1;33m\u001b[0m\u001b[0m\n\u001b[0;32m   2518\u001b[0m \u001b[1;33m\u001b[0m\u001b[0m\n\u001b[1;32m-> 2519\u001b[1;33m         \u001b[1;32mreturn\u001b[0m \u001b[0mself\u001b[0m\u001b[1;33m.\u001b[0m\u001b[0m_union\u001b[0m\u001b[1;33m(\u001b[0m\u001b[0mother\u001b[0m\u001b[1;33m,\u001b[0m \u001b[0msort\u001b[0m\u001b[1;33m=\u001b[0m\u001b[0msort\u001b[0m\u001b[1;33m)\u001b[0m\u001b[1;33m\u001b[0m\u001b[1;33m\u001b[0m\u001b[0m\n\u001b[0m\u001b[0;32m   2520\u001b[0m \u001b[1;33m\u001b[0m\u001b[0m\n\u001b[0;32m   2521\u001b[0m     \u001b[1;32mdef\u001b[0m \u001b[0m_union\u001b[0m\u001b[1;33m(\u001b[0m\u001b[0mself\u001b[0m\u001b[1;33m,\u001b[0m \u001b[0mother\u001b[0m\u001b[1;33m,\u001b[0m \u001b[0msort\u001b[0m\u001b[1;33m)\u001b[0m\u001b[1;33m:\u001b[0m\u001b[1;33m\u001b[0m\u001b[1;33m\u001b[0m\u001b[0m\n",
         "\u001b[1;32m~\\AppData\\Roaming\\Python\\Python37\\site-packages\\pandas\\core\\indexes\\numeric.py\u001b[0m in \u001b[0;36m_union\u001b[1;34m(self, other, sort)\u001b[0m\n\u001b[0;32m    161\u001b[0m             \u001b[1;32mreturn\u001b[0m \u001b[0mfirst\u001b[0m\u001b[1;33m.\u001b[0m\u001b[0m_union\u001b[0m\u001b[1;33m(\u001b[0m\u001b[0msecond\u001b[0m\u001b[1;33m,\u001b[0m \u001b[0msort\u001b[0m\u001b[1;33m)\u001b[0m\u001b[1;33m\u001b[0m\u001b[1;33m\u001b[0m\u001b[0m\n\u001b[0;32m    162\u001b[0m         \u001b[1;32melse\u001b[0m\u001b[1;33m:\u001b[0m\u001b[1;33m\u001b[0m\u001b[1;33m\u001b[0m\u001b[0m\n\u001b[1;32m--> 163\u001b[1;33m             \u001b[1;32mreturn\u001b[0m \u001b[0msuper\u001b[0m\u001b[1;33m(\u001b[0m\u001b[1;33m)\u001b[0m\u001b[1;33m.\u001b[0m\u001b[0m_union\u001b[0m\u001b[1;33m(\u001b[0m\u001b[0mother\u001b[0m\u001b[1;33m,\u001b[0m \u001b[0msort\u001b[0m\u001b[1;33m)\u001b[0m\u001b[1;33m\u001b[0m\u001b[1;33m\u001b[0m\u001b[0m\n\u001b[0m\u001b[0;32m    164\u001b[0m \u001b[1;33m\u001b[0m\u001b[0m\n\u001b[0;32m    165\u001b[0m \u001b[1;33m\u001b[0m\u001b[0m\n",
         "\u001b[1;32m~\\AppData\\Roaming\\Python\\Python37\\site-packages\\pandas\\core\\indexes\\base.py\u001b[0m in \u001b[0;36m_union\u001b[1;34m(self, other, sort)\u001b[0m\n\u001b[0;32m   2566\u001b[0m                 \u001b[0mresult\u001b[0m\u001b[1;33m.\u001b[0m\u001b[0mextend\u001b[0m\u001b[1;33m(\u001b[0m\u001b[1;33m[\u001b[0m\u001b[0mx\u001b[0m \u001b[1;32mfor\u001b[0m \u001b[0mx\u001b[0m \u001b[1;32min\u001b[0m \u001b[0mrvals\u001b[0m \u001b[1;32mif\u001b[0m \u001b[0mx\u001b[0m \u001b[1;32mnot\u001b[0m \u001b[1;32min\u001b[0m \u001b[0mvalue_set\u001b[0m\u001b[1;33m]\u001b[0m\u001b[1;33m)\u001b[0m\u001b[1;33m\u001b[0m\u001b[1;33m\u001b[0m\u001b[0m\n\u001b[0;32m   2567\u001b[0m         \u001b[1;32melse\u001b[0m\u001b[1;33m:\u001b[0m\u001b[1;33m\u001b[0m\u001b[1;33m\u001b[0m\u001b[0m\n\u001b[1;32m-> 2568\u001b[1;33m             \u001b[0mindexer\u001b[0m \u001b[1;33m=\u001b[0m \u001b[0mself\u001b[0m\u001b[1;33m.\u001b[0m\u001b[0mget_indexer\u001b[0m\u001b[1;33m(\u001b[0m\u001b[0mother\u001b[0m\u001b[1;33m)\u001b[0m\u001b[1;33m\u001b[0m\u001b[1;33m\u001b[0m\u001b[0m\n\u001b[0m\u001b[0;32m   2569\u001b[0m             \u001b[0mindexer\u001b[0m\u001b[1;33m,\u001b[0m \u001b[1;33m=\u001b[0m \u001b[1;33m(\u001b[0m\u001b[0mindexer\u001b[0m \u001b[1;33m==\u001b[0m \u001b[1;33m-\u001b[0m\u001b[1;36m1\u001b[0m\u001b[1;33m)\u001b[0m\u001b[1;33m.\u001b[0m\u001b[0mnonzero\u001b[0m\u001b[1;33m(\u001b[0m\u001b[1;33m)\u001b[0m\u001b[1;33m\u001b[0m\u001b[1;33m\u001b[0m\u001b[0m\n\u001b[0;32m   2570\u001b[0m \u001b[1;33m\u001b[0m\u001b[0m\n",
         "\u001b[1;32m~\\AppData\\Roaming\\Python\\Python37\\site-packages\\pandas\\core\\indexes\\base.py\u001b[0m in \u001b[0;36mget_indexer\u001b[1;34m(self, target, method, limit, tolerance)\u001b[0m\n\u001b[0;32m   2983\u001b[0m         \u001b[1;32mif\u001b[0m \u001b[1;32mnot\u001b[0m \u001b[0mself\u001b[0m\u001b[1;33m.\u001b[0m\u001b[0mis_unique\u001b[0m\u001b[1;33m:\u001b[0m\u001b[1;33m\u001b[0m\u001b[1;33m\u001b[0m\u001b[0m\n\u001b[0;32m   2984\u001b[0m             raise InvalidIndexError(\n\u001b[1;32m-> 2985\u001b[1;33m                 \u001b[1;34m\"Reindexing only valid with uniquely\"\u001b[0m \u001b[1;34m\" valued Index objects\"\u001b[0m\u001b[1;33m\u001b[0m\u001b[1;33m\u001b[0m\u001b[0m\n\u001b[0m\u001b[0;32m   2986\u001b[0m             )\n\u001b[0;32m   2987\u001b[0m \u001b[1;33m\u001b[0m\u001b[0m\n",
         "\u001b[1;31mInvalidIndexError\u001b[0m: Reindexing only valid with uniquely valued Index objects"
        ]
       }
      ],
      "source": "pd.DataFrame(\n    {\n        \"repo_url1\" : repository_info.url[ranking_nmf_multiplicative[0][0:9]], \n        #\"repo_description1\" : repository_info.description[ranking_nmf_multiplicative[0][0:9]],\n        \"repo_url2\" : repository_info.url[ranking_nmf_multiplicative[1][0:9]], \n        #\"repo_description2\" : repository_info.description[ranking_nmf_multiplicative[1][0:9]],\n        \"score\" : ranking_nmf_multiplicative[2][0:9]\n    }\n)",
      "start_time": "2020-04-06T13:42:07.972Z"
     },
     {
      "end_time": "2020-04-06T13:42:30.274Z",
      "execution_time": "18ms",
      "outputs": [
       {
        "ename": "InvalidIndexError",
        "evalue": "Reindexing only valid with uniquely valued Index objects",
        "output_type": "error",
        "traceback": [
         "\u001b[1;31m---------------------------------------------------------------------------\u001b[0m",
         "\u001b[1;31mInvalidIndexError\u001b[0m                         Traceback (most recent call last)",
         "\u001b[1;32m<ipython-input-37-d461d511233c>\u001b[0m in \u001b[0;36m<module>\u001b[1;34m\u001b[0m\n\u001b[0;32m      5\u001b[0m         \u001b[1;34m\"repo_url_sdf\"\u001b[0m \u001b[1;33m:\u001b[0m \u001b[0mrepository_info\u001b[0m\u001b[1;33m.\u001b[0m\u001b[0murl\u001b[0m\u001b[1;33m[\u001b[0m\u001b[0mranking_nmf_multiplicative\u001b[0m\u001b[1;33m[\u001b[0m\u001b[1;36m1\u001b[0m\u001b[1;33m]\u001b[0m\u001b[1;33m[\u001b[0m\u001b[1;36m0\u001b[0m\u001b[1;33m:\u001b[0m\u001b[1;36m9\u001b[0m\u001b[1;33m]\u001b[0m\u001b[1;33m]\u001b[0m\u001b[1;33m,\u001b[0m\u001b[1;33m\u001b[0m\u001b[1;33m\u001b[0m\u001b[0m\n\u001b[0;32m      6\u001b[0m         \u001b[1;31m#\"repo_description2\" : repository_info.description[ranking_nmf_multiplicative[1][0:9]],\u001b[0m\u001b[1;33m\u001b[0m\u001b[1;33m\u001b[0m\u001b[1;33m\u001b[0m\u001b[0m\n\u001b[1;32m----> 7\u001b[1;33m         \u001b[1;34m\"score\"\u001b[0m \u001b[1;33m:\u001b[0m \u001b[0mranking_nmf_multiplicative\u001b[0m\u001b[1;33m[\u001b[0m\u001b[1;36m2\u001b[0m\u001b[1;33m]\u001b[0m\u001b[1;33m[\u001b[0m\u001b[1;36m0\u001b[0m\u001b[1;33m:\u001b[0m\u001b[1;36m9\u001b[0m\u001b[1;33m]\u001b[0m\u001b[1;33m\u001b[0m\u001b[1;33m\u001b[0m\u001b[0m\n\u001b[0m\u001b[0;32m      8\u001b[0m     }\n\u001b[0;32m      9\u001b[0m )\n",
         "\u001b[1;32m~\\AppData\\Roaming\\Python\\Python37\\site-packages\\pandas\\core\\frame.py\u001b[0m in \u001b[0;36m__init__\u001b[1;34m(self, data, index, columns, dtype, copy)\u001b[0m\n\u001b[0;32m    409\u001b[0m             )\n\u001b[0;32m    410\u001b[0m         \u001b[1;32melif\u001b[0m \u001b[0misinstance\u001b[0m\u001b[1;33m(\u001b[0m\u001b[0mdata\u001b[0m\u001b[1;33m,\u001b[0m \u001b[0mdict\u001b[0m\u001b[1;33m)\u001b[0m\u001b[1;33m:\u001b[0m\u001b[1;33m\u001b[0m\u001b[1;33m\u001b[0m\u001b[0m\n\u001b[1;32m--> 411\u001b[1;33m             \u001b[0mmgr\u001b[0m \u001b[1;33m=\u001b[0m \u001b[0minit_dict\u001b[0m\u001b[1;33m(\u001b[0m\u001b[0mdata\u001b[0m\u001b[1;33m,\u001b[0m \u001b[0mindex\u001b[0m\u001b[1;33m,\u001b[0m \u001b[0mcolumns\u001b[0m\u001b[1;33m,\u001b[0m \u001b[0mdtype\u001b[0m\u001b[1;33m=\u001b[0m\u001b[0mdtype\u001b[0m\u001b[1;33m)\u001b[0m\u001b[1;33m\u001b[0m\u001b[1;33m\u001b[0m\u001b[0m\n\u001b[0m\u001b[0;32m    412\u001b[0m         \u001b[1;32melif\u001b[0m \u001b[0misinstance\u001b[0m\u001b[1;33m(\u001b[0m\u001b[0mdata\u001b[0m\u001b[1;33m,\u001b[0m \u001b[0mma\u001b[0m\u001b[1;33m.\u001b[0m\u001b[0mMaskedArray\u001b[0m\u001b[1;33m)\u001b[0m\u001b[1;33m:\u001b[0m\u001b[1;33m\u001b[0m\u001b[1;33m\u001b[0m\u001b[0m\n\u001b[0;32m    413\u001b[0m             \u001b[1;32mimport\u001b[0m \u001b[0mnumpy\u001b[0m\u001b[1;33m.\u001b[0m\u001b[0mma\u001b[0m\u001b[1;33m.\u001b[0m\u001b[0mmrecords\u001b[0m \u001b[1;32mas\u001b[0m \u001b[0mmrecords\u001b[0m\u001b[1;33m\u001b[0m\u001b[1;33m\u001b[0m\u001b[0m\n",
         "\u001b[1;32m~\\AppData\\Roaming\\Python\\Python37\\site-packages\\pandas\\core\\internals\\construction.py\u001b[0m in \u001b[0;36minit_dict\u001b[1;34m(data, index, columns, dtype)\u001b[0m\n\u001b[0;32m    255\u001b[0m             \u001b[0marr\u001b[0m \u001b[1;32mif\u001b[0m \u001b[1;32mnot\u001b[0m \u001b[0mis_datetime64tz_dtype\u001b[0m\u001b[1;33m(\u001b[0m\u001b[0marr\u001b[0m\u001b[1;33m)\u001b[0m \u001b[1;32melse\u001b[0m \u001b[0marr\u001b[0m\u001b[1;33m.\u001b[0m\u001b[0mcopy\u001b[0m\u001b[1;33m(\u001b[0m\u001b[1;33m)\u001b[0m \u001b[1;32mfor\u001b[0m \u001b[0marr\u001b[0m \u001b[1;32min\u001b[0m \u001b[0marrays\u001b[0m\u001b[1;33m\u001b[0m\u001b[1;33m\u001b[0m\u001b[0m\n\u001b[0;32m    256\u001b[0m         ]\n\u001b[1;32m--> 257\u001b[1;33m     \u001b[1;32mreturn\u001b[0m \u001b[0marrays_to_mgr\u001b[0m\u001b[1;33m(\u001b[0m\u001b[0marrays\u001b[0m\u001b[1;33m,\u001b[0m \u001b[0mdata_names\u001b[0m\u001b[1;33m,\u001b[0m \u001b[0mindex\u001b[0m\u001b[1;33m,\u001b[0m \u001b[0mcolumns\u001b[0m\u001b[1;33m,\u001b[0m \u001b[0mdtype\u001b[0m\u001b[1;33m=\u001b[0m\u001b[0mdtype\u001b[0m\u001b[1;33m)\u001b[0m\u001b[1;33m\u001b[0m\u001b[1;33m\u001b[0m\u001b[0m\n\u001b[0m\u001b[0;32m    258\u001b[0m \u001b[1;33m\u001b[0m\u001b[0m\n\u001b[0;32m    259\u001b[0m \u001b[1;33m\u001b[0m\u001b[0m\n",
         "\u001b[1;32m~\\AppData\\Roaming\\Python\\Python37\\site-packages\\pandas\\core\\internals\\construction.py\u001b[0m in \u001b[0;36marrays_to_mgr\u001b[1;34m(arrays, arr_names, index, columns, dtype)\u001b[0m\n\u001b[0;32m     75\u001b[0m     \u001b[1;31m# figure out the index, if necessary\u001b[0m\u001b[1;33m\u001b[0m\u001b[1;33m\u001b[0m\u001b[1;33m\u001b[0m\u001b[0m\n\u001b[0;32m     76\u001b[0m     \u001b[1;32mif\u001b[0m \u001b[0mindex\u001b[0m \u001b[1;32mis\u001b[0m \u001b[1;32mNone\u001b[0m\u001b[1;33m:\u001b[0m\u001b[1;33m\u001b[0m\u001b[1;33m\u001b[0m\u001b[0m\n\u001b[1;32m---> 77\u001b[1;33m         \u001b[0mindex\u001b[0m \u001b[1;33m=\u001b[0m \u001b[0mextract_index\u001b[0m\u001b[1;33m(\u001b[0m\u001b[0marrays\u001b[0m\u001b[1;33m)\u001b[0m\u001b[1;33m\u001b[0m\u001b[1;33m\u001b[0m\u001b[0m\n\u001b[0m\u001b[0;32m     78\u001b[0m     \u001b[1;32melse\u001b[0m\u001b[1;33m:\u001b[0m\u001b[1;33m\u001b[0m\u001b[1;33m\u001b[0m\u001b[0m\n\u001b[0;32m     79\u001b[0m         \u001b[0mindex\u001b[0m \u001b[1;33m=\u001b[0m \u001b[0mensure_index\u001b[0m\u001b[1;33m(\u001b[0m\u001b[0mindex\u001b[0m\u001b[1;33m)\u001b[0m\u001b[1;33m\u001b[0m\u001b[1;33m\u001b[0m\u001b[0m\n",
         "\u001b[1;32m~\\AppData\\Roaming\\Python\\Python37\\site-packages\\pandas\\core\\internals\\construction.py\u001b[0m in \u001b[0;36mextract_index\u001b[1;34m(data)\u001b[0m\n\u001b[0;32m    359\u001b[0m \u001b[1;33m\u001b[0m\u001b[0m\n\u001b[0;32m    360\u001b[0m         \u001b[1;32mif\u001b[0m \u001b[0mhave_series\u001b[0m\u001b[1;33m:\u001b[0m\u001b[1;33m\u001b[0m\u001b[1;33m\u001b[0m\u001b[0m\n\u001b[1;32m--> 361\u001b[1;33m             \u001b[0mindex\u001b[0m \u001b[1;33m=\u001b[0m \u001b[0m_union_indexes\u001b[0m\u001b[1;33m(\u001b[0m\u001b[0mindexes\u001b[0m\u001b[1;33m)\u001b[0m\u001b[1;33m\u001b[0m\u001b[1;33m\u001b[0m\u001b[0m\n\u001b[0m\u001b[0;32m    362\u001b[0m         \u001b[1;32melif\u001b[0m \u001b[0mhave_dicts\u001b[0m\u001b[1;33m:\u001b[0m\u001b[1;33m\u001b[0m\u001b[1;33m\u001b[0m\u001b[0m\n\u001b[0;32m    363\u001b[0m             \u001b[0mindex\u001b[0m \u001b[1;33m=\u001b[0m \u001b[0m_union_indexes\u001b[0m\u001b[1;33m(\u001b[0m\u001b[0mindexes\u001b[0m\u001b[1;33m,\u001b[0m \u001b[0msort\u001b[0m\u001b[1;33m=\u001b[0m\u001b[1;32mnot\u001b[0m \u001b[1;33m(\u001b[0m\u001b[0mcompat\u001b[0m\u001b[1;33m.\u001b[0m\u001b[0mPY36\u001b[0m \u001b[1;32mor\u001b[0m \u001b[0mhave_ordered\u001b[0m\u001b[1;33m)\u001b[0m\u001b[1;33m)\u001b[0m\u001b[1;33m\u001b[0m\u001b[1;33m\u001b[0m\u001b[0m\n",
         "\u001b[1;32m~\\AppData\\Roaming\\Python\\Python37\\site-packages\\pandas\\core\\indexes\\api.py\u001b[0m in \u001b[0;36m_union_indexes\u001b[1;34m(indexes, sort)\u001b[0m\n\u001b[0;32m    204\u001b[0m         \u001b[1;32melse\u001b[0m\u001b[1;33m:\u001b[0m\u001b[1;33m\u001b[0m\u001b[1;33m\u001b[0m\u001b[0m\n\u001b[0;32m    205\u001b[0m             \u001b[1;32mfor\u001b[0m \u001b[0mother\u001b[0m \u001b[1;32min\u001b[0m \u001b[0mindexes\u001b[0m\u001b[1;33m[\u001b[0m\u001b[1;36m1\u001b[0m\u001b[1;33m:\u001b[0m\u001b[1;33m]\u001b[0m\u001b[1;33m:\u001b[0m\u001b[1;33m\u001b[0m\u001b[1;33m\u001b[0m\u001b[0m\n\u001b[1;32m--> 206\u001b[1;33m                 \u001b[0mresult\u001b[0m \u001b[1;33m=\u001b[0m \u001b[0mresult\u001b[0m\u001b[1;33m.\u001b[0m\u001b[0munion\u001b[0m\u001b[1;33m(\u001b[0m\u001b[0mother\u001b[0m\u001b[1;33m)\u001b[0m\u001b[1;33m\u001b[0m\u001b[1;33m\u001b[0m\u001b[0m\n\u001b[0m\u001b[0;32m    207\u001b[0m             \u001b[1;32mreturn\u001b[0m \u001b[0mresult\u001b[0m\u001b[1;33m\u001b[0m\u001b[1;33m\u001b[0m\u001b[0m\n\u001b[0;32m    208\u001b[0m     \u001b[1;32melif\u001b[0m \u001b[0mkind\u001b[0m \u001b[1;33m==\u001b[0m \u001b[1;34m\"array\"\u001b[0m\u001b[1;33m:\u001b[0m\u001b[1;33m\u001b[0m\u001b[1;33m\u001b[0m\u001b[0m\n",
         "\u001b[1;32m~\\AppData\\Roaming\\Python\\Python37\\site-packages\\pandas\\core\\indexes\\base.py\u001b[0m in \u001b[0;36munion\u001b[1;34m(self, other, sort)\u001b[0m\n\u001b[0;32m   2517\u001b[0m             \u001b[1;32mreturn\u001b[0m \u001b[0mself\u001b[0m\u001b[1;33m.\u001b[0m\u001b[0m_union_incompatible_dtypes\u001b[0m\u001b[1;33m(\u001b[0m\u001b[0mother\u001b[0m\u001b[1;33m,\u001b[0m \u001b[0msort\u001b[0m\u001b[1;33m=\u001b[0m\u001b[0msort\u001b[0m\u001b[1;33m)\u001b[0m\u001b[1;33m\u001b[0m\u001b[1;33m\u001b[0m\u001b[0m\n\u001b[0;32m   2518\u001b[0m \u001b[1;33m\u001b[0m\u001b[0m\n\u001b[1;32m-> 2519\u001b[1;33m         \u001b[1;32mreturn\u001b[0m \u001b[0mself\u001b[0m\u001b[1;33m.\u001b[0m\u001b[0m_union\u001b[0m\u001b[1;33m(\u001b[0m\u001b[0mother\u001b[0m\u001b[1;33m,\u001b[0m \u001b[0msort\u001b[0m\u001b[1;33m=\u001b[0m\u001b[0msort\u001b[0m\u001b[1;33m)\u001b[0m\u001b[1;33m\u001b[0m\u001b[1;33m\u001b[0m\u001b[0m\n\u001b[0m\u001b[0;32m   2520\u001b[0m \u001b[1;33m\u001b[0m\u001b[0m\n\u001b[0;32m   2521\u001b[0m     \u001b[1;32mdef\u001b[0m \u001b[0m_union\u001b[0m\u001b[1;33m(\u001b[0m\u001b[0mself\u001b[0m\u001b[1;33m,\u001b[0m \u001b[0mother\u001b[0m\u001b[1;33m,\u001b[0m \u001b[0msort\u001b[0m\u001b[1;33m)\u001b[0m\u001b[1;33m:\u001b[0m\u001b[1;33m\u001b[0m\u001b[1;33m\u001b[0m\u001b[0m\n",
         "\u001b[1;32m~\\AppData\\Roaming\\Python\\Python37\\site-packages\\pandas\\core\\indexes\\numeric.py\u001b[0m in \u001b[0;36m_union\u001b[1;34m(self, other, sort)\u001b[0m\n\u001b[0;32m    161\u001b[0m             \u001b[1;32mreturn\u001b[0m \u001b[0mfirst\u001b[0m\u001b[1;33m.\u001b[0m\u001b[0m_union\u001b[0m\u001b[1;33m(\u001b[0m\u001b[0msecond\u001b[0m\u001b[1;33m,\u001b[0m \u001b[0msort\u001b[0m\u001b[1;33m)\u001b[0m\u001b[1;33m\u001b[0m\u001b[1;33m\u001b[0m\u001b[0m\n\u001b[0;32m    162\u001b[0m         \u001b[1;32melse\u001b[0m\u001b[1;33m:\u001b[0m\u001b[1;33m\u001b[0m\u001b[1;33m\u001b[0m\u001b[0m\n\u001b[1;32m--> 163\u001b[1;33m             \u001b[1;32mreturn\u001b[0m \u001b[0msuper\u001b[0m\u001b[1;33m(\u001b[0m\u001b[1;33m)\u001b[0m\u001b[1;33m.\u001b[0m\u001b[0m_union\u001b[0m\u001b[1;33m(\u001b[0m\u001b[0mother\u001b[0m\u001b[1;33m,\u001b[0m \u001b[0msort\u001b[0m\u001b[1;33m)\u001b[0m\u001b[1;33m\u001b[0m\u001b[1;33m\u001b[0m\u001b[0m\n\u001b[0m\u001b[0;32m    164\u001b[0m \u001b[1;33m\u001b[0m\u001b[0m\n\u001b[0;32m    165\u001b[0m \u001b[1;33m\u001b[0m\u001b[0m\n",
         "\u001b[1;32m~\\AppData\\Roaming\\Python\\Python37\\site-packages\\pandas\\core\\indexes\\base.py\u001b[0m in \u001b[0;36m_union\u001b[1;34m(self, other, sort)\u001b[0m\n\u001b[0;32m   2566\u001b[0m                 \u001b[0mresult\u001b[0m\u001b[1;33m.\u001b[0m\u001b[0mextend\u001b[0m\u001b[1;33m(\u001b[0m\u001b[1;33m[\u001b[0m\u001b[0mx\u001b[0m \u001b[1;32mfor\u001b[0m \u001b[0mx\u001b[0m \u001b[1;32min\u001b[0m \u001b[0mrvals\u001b[0m \u001b[1;32mif\u001b[0m \u001b[0mx\u001b[0m \u001b[1;32mnot\u001b[0m \u001b[1;32min\u001b[0m \u001b[0mvalue_set\u001b[0m\u001b[1;33m]\u001b[0m\u001b[1;33m)\u001b[0m\u001b[1;33m\u001b[0m\u001b[1;33m\u001b[0m\u001b[0m\n\u001b[0;32m   2567\u001b[0m         \u001b[1;32melse\u001b[0m\u001b[1;33m:\u001b[0m\u001b[1;33m\u001b[0m\u001b[1;33m\u001b[0m\u001b[0m\n\u001b[1;32m-> 2568\u001b[1;33m             \u001b[0mindexer\u001b[0m \u001b[1;33m=\u001b[0m \u001b[0mself\u001b[0m\u001b[1;33m.\u001b[0m\u001b[0mget_indexer\u001b[0m\u001b[1;33m(\u001b[0m\u001b[0mother\u001b[0m\u001b[1;33m)\u001b[0m\u001b[1;33m\u001b[0m\u001b[1;33m\u001b[0m\u001b[0m\n\u001b[0m\u001b[0;32m   2569\u001b[0m             \u001b[0mindexer\u001b[0m\u001b[1;33m,\u001b[0m \u001b[1;33m=\u001b[0m \u001b[1;33m(\u001b[0m\u001b[0mindexer\u001b[0m \u001b[1;33m==\u001b[0m \u001b[1;33m-\u001b[0m\u001b[1;36m1\u001b[0m\u001b[1;33m)\u001b[0m\u001b[1;33m.\u001b[0m\u001b[0mnonzero\u001b[0m\u001b[1;33m(\u001b[0m\u001b[1;33m)\u001b[0m\u001b[1;33m\u001b[0m\u001b[1;33m\u001b[0m\u001b[0m\n\u001b[0;32m   2570\u001b[0m \u001b[1;33m\u001b[0m\u001b[0m\n",
         "\u001b[1;32m~\\AppData\\Roaming\\Python\\Python37\\site-packages\\pandas\\core\\indexes\\base.py\u001b[0m in \u001b[0;36mget_indexer\u001b[1;34m(self, target, method, limit, tolerance)\u001b[0m\n\u001b[0;32m   2983\u001b[0m         \u001b[1;32mif\u001b[0m \u001b[1;32mnot\u001b[0m \u001b[0mself\u001b[0m\u001b[1;33m.\u001b[0m\u001b[0mis_unique\u001b[0m\u001b[1;33m:\u001b[0m\u001b[1;33m\u001b[0m\u001b[1;33m\u001b[0m\u001b[0m\n\u001b[0;32m   2984\u001b[0m             raise InvalidIndexError(\n\u001b[1;32m-> 2985\u001b[1;33m                 \u001b[1;34m\"Reindexing only valid with uniquely\"\u001b[0m \u001b[1;34m\" valued Index objects\"\u001b[0m\u001b[1;33m\u001b[0m\u001b[1;33m\u001b[0m\u001b[0m\n\u001b[0m\u001b[0;32m   2986\u001b[0m             )\n\u001b[0;32m   2987\u001b[0m \u001b[1;33m\u001b[0m\u001b[0m\n",
         "\u001b[1;31mInvalidIndexError\u001b[0m: Reindexing only valid with uniquely valued Index objects"
        ]
       }
      ],
      "source": "pd.DataFrame(\n    {\n        \"repo_url1\" : repository_info.url[ranking_nmf_multiplicative[0][0:9]], \n        #\"repo_description1\" : repository_info.description[ranking_nmf_multiplicative[0][0:9]],\n        \"repo_url_sdf\" : repository_info.url[ranking_nmf_multiplicative[1][0:9]], \n        #\"repo_description2\" : repository_info.description[ranking_nmf_multiplicative[1][0:9]],\n        \"score\" : ranking_nmf_multiplicative[2][0:9]\n    }\n)",
      "start_time": "2020-04-06T13:42:30.256Z"
     },
     {
      "end_time": "2020-04-06T13:43:20.164Z",
      "execution_time": "16ms",
      "outputs": [
       {
        "data": {
         "text/html": "<div>\n<style scoped>\n    .dataframe tbody tr th:only-of-type {\n        vertical-align: middle;\n    }\n\n    .dataframe tbody tr th {\n        vertical-align: top;\n    }\n\n    .dataframe thead th {\n        text-align: right;\n    }\n</style>\n<table border=\"1\" class=\"dataframe\">\n  <thead>\n    <tr style=\"text-align: right;\">\n      <th></th>\n      <th>repo_url1</th>\n      <th>repo_description1</th>\n      <th>score</th>\n    </tr>\n  </thead>\n  <tbody>\n    <tr>\n      <th>5712</th>\n      <td>https://api.github.com/repos/fuzimaoxinan/Tens...</td>\n      <td>用Tensorflow实现的深度神经网络</td>\n      <td>0.002992</td>\n    </tr>\n    <tr>\n      <th>5712</th>\n      <td>https://api.github.com/repos/fuzimaoxinan/Tens...</td>\n      <td>用Tensorflow实现的深度神经网络</td>\n      <td>0.002986</td>\n    </tr>\n    <tr>\n      <th>5712</th>\n      <td>https://api.github.com/repos/fuzimaoxinan/Tens...</td>\n      <td>用Tensorflow实现的深度神经网络</td>\n      <td>0.002981</td>\n    </tr>\n    <tr>\n      <th>5712</th>\n      <td>https://api.github.com/repos/fuzimaoxinan/Tens...</td>\n      <td>用Tensorflow实现的深度神经网络</td>\n      <td>0.002980</td>\n    </tr>\n    <tr>\n      <th>5712</th>\n      <td>https://api.github.com/repos/fuzimaoxinan/Tens...</td>\n      <td>用Tensorflow实现的深度神经网络</td>\n      <td>0.002968</td>\n    </tr>\n    <tr>\n      <th>5712</th>\n      <td>https://api.github.com/repos/fuzimaoxinan/Tens...</td>\n      <td>用Tensorflow实现的深度神经网络</td>\n      <td>0.002965</td>\n    </tr>\n    <tr>\n      <th>5712</th>\n      <td>https://api.github.com/repos/fuzimaoxinan/Tens...</td>\n      <td>用Tensorflow实现的深度神经网络</td>\n      <td>0.002950</td>\n    </tr>\n    <tr>\n      <th>5712</th>\n      <td>https://api.github.com/repos/fuzimaoxinan/Tens...</td>\n      <td>用Tensorflow实现的深度神经网络</td>\n      <td>0.002944</td>\n    </tr>\n    <tr>\n      <th>5712</th>\n      <td>https://api.github.com/repos/fuzimaoxinan/Tens...</td>\n      <td>用Tensorflow实现的深度神经网络</td>\n      <td>0.002940</td>\n    </tr>\n  </tbody>\n</table>\n</div>",
         "text/plain": "                                              repo_url1     repo_description1  \\\n5712  https://api.github.com/repos/fuzimaoxinan/Tens...  用Tensorflow实现的深度神经网络   \n5712  https://api.github.com/repos/fuzimaoxinan/Tens...  用Tensorflow实现的深度神经网络   \n5712  https://api.github.com/repos/fuzimaoxinan/Tens...  用Tensorflow实现的深度神经网络   \n5712  https://api.github.com/repos/fuzimaoxinan/Tens...  用Tensorflow实现的深度神经网络   \n5712  https://api.github.com/repos/fuzimaoxinan/Tens...  用Tensorflow实现的深度神经网络   \n5712  https://api.github.com/repos/fuzimaoxinan/Tens...  用Tensorflow实现的深度神经网络   \n5712  https://api.github.com/repos/fuzimaoxinan/Tens...  用Tensorflow实现的深度神经网络   \n5712  https://api.github.com/repos/fuzimaoxinan/Tens...  用Tensorflow实现的深度神经网络   \n5712  https://api.github.com/repos/fuzimaoxinan/Tens...  用Tensorflow实现的深度神经网络   \n\n         score  \n5712  0.002992  \n5712  0.002986  \n5712  0.002981  \n5712  0.002980  \n5712  0.002968  \n5712  0.002965  \n5712  0.002950  \n5712  0.002944  \n5712  0.002940  "
        },
        "execution_count": 38,
        "metadata": {},
        "output_type": "execute_result"
       }
      ],
      "source": "pd.DataFrame(\n    {\n        \"repo_url1\" : repository_info.url[ranking_nmf_multiplicative[0][0:9]], \n        \"repo_description1\" : repository_info.description[ranking_nmf_multiplicative[0][0:9]],\n        #\"repo_url2\" : repository_info.url[ranking_nmf_multiplicative[1][0:9]], \n        #\"repo_description2\" : repository_info.description[ranking_nmf_multiplicative[1][0:9]],\n        \"score\" : ranking_nmf_multiplicative[2][0:9]\n    }\n)",
      "start_time": "2020-04-06T13:43:20.148Z"
     },
     {
      "end_time": "2020-04-06T13:43:42.363Z",
      "execution_time": "33ms",
      "outputs": [
       {
        "ename": "InvalidIndexError",
        "evalue": "Reindexing only valid with uniquely valued Index objects",
        "output_type": "error",
        "traceback": [
         "\u001b[1;31m---------------------------------------------------------------------------\u001b[0m",
         "\u001b[1;31mInvalidIndexError\u001b[0m                         Traceback (most recent call last)",
         "\u001b[1;32m<ipython-input-39-65d51eb490e1>\u001b[0m in \u001b[0;36m<module>\u001b[1;34m\u001b[0m\n\u001b[0;32m      5\u001b[0m         \u001b[1;31m#\"repo_url2\" : repository_info.url[ranking_nmf_multiplicative[1][0:9]],\u001b[0m\u001b[1;33m\u001b[0m\u001b[1;33m\u001b[0m\u001b[1;33m\u001b[0m\u001b[0m\n\u001b[0;32m      6\u001b[0m         \u001b[1;34m\"repo_description2\"\u001b[0m \u001b[1;33m:\u001b[0m \u001b[0mrepository_info\u001b[0m\u001b[1;33m.\u001b[0m\u001b[0mdescription\u001b[0m\u001b[1;33m[\u001b[0m\u001b[0mranking_nmf_multiplicative\u001b[0m\u001b[1;33m[\u001b[0m\u001b[1;36m1\u001b[0m\u001b[1;33m]\u001b[0m\u001b[1;33m[\u001b[0m\u001b[1;36m0\u001b[0m\u001b[1;33m:\u001b[0m\u001b[1;36m9\u001b[0m\u001b[1;33m]\u001b[0m\u001b[1;33m]\u001b[0m\u001b[1;33m,\u001b[0m\u001b[1;33m\u001b[0m\u001b[1;33m\u001b[0m\u001b[0m\n\u001b[1;32m----> 7\u001b[1;33m         \u001b[1;34m\"score\"\u001b[0m \u001b[1;33m:\u001b[0m \u001b[0mranking_nmf_multiplicative\u001b[0m\u001b[1;33m[\u001b[0m\u001b[1;36m2\u001b[0m\u001b[1;33m]\u001b[0m\u001b[1;33m[\u001b[0m\u001b[1;36m0\u001b[0m\u001b[1;33m:\u001b[0m\u001b[1;36m9\u001b[0m\u001b[1;33m]\u001b[0m\u001b[1;33m\u001b[0m\u001b[1;33m\u001b[0m\u001b[0m\n\u001b[0m\u001b[0;32m      8\u001b[0m     }\n\u001b[0;32m      9\u001b[0m )\n",
         "\u001b[1;32m~\\AppData\\Roaming\\Python\\Python37\\site-packages\\pandas\\core\\frame.py\u001b[0m in \u001b[0;36m__init__\u001b[1;34m(self, data, index, columns, dtype, copy)\u001b[0m\n\u001b[0;32m    409\u001b[0m             )\n\u001b[0;32m    410\u001b[0m         \u001b[1;32melif\u001b[0m \u001b[0misinstance\u001b[0m\u001b[1;33m(\u001b[0m\u001b[0mdata\u001b[0m\u001b[1;33m,\u001b[0m \u001b[0mdict\u001b[0m\u001b[1;33m)\u001b[0m\u001b[1;33m:\u001b[0m\u001b[1;33m\u001b[0m\u001b[1;33m\u001b[0m\u001b[0m\n\u001b[1;32m--> 411\u001b[1;33m             \u001b[0mmgr\u001b[0m \u001b[1;33m=\u001b[0m \u001b[0minit_dict\u001b[0m\u001b[1;33m(\u001b[0m\u001b[0mdata\u001b[0m\u001b[1;33m,\u001b[0m \u001b[0mindex\u001b[0m\u001b[1;33m,\u001b[0m \u001b[0mcolumns\u001b[0m\u001b[1;33m,\u001b[0m \u001b[0mdtype\u001b[0m\u001b[1;33m=\u001b[0m\u001b[0mdtype\u001b[0m\u001b[1;33m)\u001b[0m\u001b[1;33m\u001b[0m\u001b[1;33m\u001b[0m\u001b[0m\n\u001b[0m\u001b[0;32m    412\u001b[0m         \u001b[1;32melif\u001b[0m \u001b[0misinstance\u001b[0m\u001b[1;33m(\u001b[0m\u001b[0mdata\u001b[0m\u001b[1;33m,\u001b[0m \u001b[0mma\u001b[0m\u001b[1;33m.\u001b[0m\u001b[0mMaskedArray\u001b[0m\u001b[1;33m)\u001b[0m\u001b[1;33m:\u001b[0m\u001b[1;33m\u001b[0m\u001b[1;33m\u001b[0m\u001b[0m\n\u001b[0;32m    413\u001b[0m             \u001b[1;32mimport\u001b[0m \u001b[0mnumpy\u001b[0m\u001b[1;33m.\u001b[0m\u001b[0mma\u001b[0m\u001b[1;33m.\u001b[0m\u001b[0mmrecords\u001b[0m \u001b[1;32mas\u001b[0m \u001b[0mmrecords\u001b[0m\u001b[1;33m\u001b[0m\u001b[1;33m\u001b[0m\u001b[0m\n",
         "\u001b[1;32m~\\AppData\\Roaming\\Python\\Python37\\site-packages\\pandas\\core\\internals\\construction.py\u001b[0m in \u001b[0;36minit_dict\u001b[1;34m(data, index, columns, dtype)\u001b[0m\n\u001b[0;32m    255\u001b[0m             \u001b[0marr\u001b[0m \u001b[1;32mif\u001b[0m \u001b[1;32mnot\u001b[0m \u001b[0mis_datetime64tz_dtype\u001b[0m\u001b[1;33m(\u001b[0m\u001b[0marr\u001b[0m\u001b[1;33m)\u001b[0m \u001b[1;32melse\u001b[0m \u001b[0marr\u001b[0m\u001b[1;33m.\u001b[0m\u001b[0mcopy\u001b[0m\u001b[1;33m(\u001b[0m\u001b[1;33m)\u001b[0m \u001b[1;32mfor\u001b[0m \u001b[0marr\u001b[0m \u001b[1;32min\u001b[0m \u001b[0marrays\u001b[0m\u001b[1;33m\u001b[0m\u001b[1;33m\u001b[0m\u001b[0m\n\u001b[0;32m    256\u001b[0m         ]\n\u001b[1;32m--> 257\u001b[1;33m     \u001b[1;32mreturn\u001b[0m \u001b[0marrays_to_mgr\u001b[0m\u001b[1;33m(\u001b[0m\u001b[0marrays\u001b[0m\u001b[1;33m,\u001b[0m \u001b[0mdata_names\u001b[0m\u001b[1;33m,\u001b[0m \u001b[0mindex\u001b[0m\u001b[1;33m,\u001b[0m \u001b[0mcolumns\u001b[0m\u001b[1;33m,\u001b[0m \u001b[0mdtype\u001b[0m\u001b[1;33m=\u001b[0m\u001b[0mdtype\u001b[0m\u001b[1;33m)\u001b[0m\u001b[1;33m\u001b[0m\u001b[1;33m\u001b[0m\u001b[0m\n\u001b[0m\u001b[0;32m    258\u001b[0m \u001b[1;33m\u001b[0m\u001b[0m\n\u001b[0;32m    259\u001b[0m \u001b[1;33m\u001b[0m\u001b[0m\n",
         "\u001b[1;32m~\\AppData\\Roaming\\Python\\Python37\\site-packages\\pandas\\core\\internals\\construction.py\u001b[0m in \u001b[0;36marrays_to_mgr\u001b[1;34m(arrays, arr_names, index, columns, dtype)\u001b[0m\n\u001b[0;32m     75\u001b[0m     \u001b[1;31m# figure out the index, if necessary\u001b[0m\u001b[1;33m\u001b[0m\u001b[1;33m\u001b[0m\u001b[1;33m\u001b[0m\u001b[0m\n\u001b[0;32m     76\u001b[0m     \u001b[1;32mif\u001b[0m \u001b[0mindex\u001b[0m \u001b[1;32mis\u001b[0m \u001b[1;32mNone\u001b[0m\u001b[1;33m:\u001b[0m\u001b[1;33m\u001b[0m\u001b[1;33m\u001b[0m\u001b[0m\n\u001b[1;32m---> 77\u001b[1;33m         \u001b[0mindex\u001b[0m \u001b[1;33m=\u001b[0m \u001b[0mextract_index\u001b[0m\u001b[1;33m(\u001b[0m\u001b[0marrays\u001b[0m\u001b[1;33m)\u001b[0m\u001b[1;33m\u001b[0m\u001b[1;33m\u001b[0m\u001b[0m\n\u001b[0m\u001b[0;32m     78\u001b[0m     \u001b[1;32melse\u001b[0m\u001b[1;33m:\u001b[0m\u001b[1;33m\u001b[0m\u001b[1;33m\u001b[0m\u001b[0m\n\u001b[0;32m     79\u001b[0m         \u001b[0mindex\u001b[0m \u001b[1;33m=\u001b[0m \u001b[0mensure_index\u001b[0m\u001b[1;33m(\u001b[0m\u001b[0mindex\u001b[0m\u001b[1;33m)\u001b[0m\u001b[1;33m\u001b[0m\u001b[1;33m\u001b[0m\u001b[0m\n",
         "\u001b[1;32m~\\AppData\\Roaming\\Python\\Python37\\site-packages\\pandas\\core\\internals\\construction.py\u001b[0m in \u001b[0;36mextract_index\u001b[1;34m(data)\u001b[0m\n\u001b[0;32m    359\u001b[0m \u001b[1;33m\u001b[0m\u001b[0m\n\u001b[0;32m    360\u001b[0m         \u001b[1;32mif\u001b[0m \u001b[0mhave_series\u001b[0m\u001b[1;33m:\u001b[0m\u001b[1;33m\u001b[0m\u001b[1;33m\u001b[0m\u001b[0m\n\u001b[1;32m--> 361\u001b[1;33m             \u001b[0mindex\u001b[0m \u001b[1;33m=\u001b[0m \u001b[0m_union_indexes\u001b[0m\u001b[1;33m(\u001b[0m\u001b[0mindexes\u001b[0m\u001b[1;33m)\u001b[0m\u001b[1;33m\u001b[0m\u001b[1;33m\u001b[0m\u001b[0m\n\u001b[0m\u001b[0;32m    362\u001b[0m         \u001b[1;32melif\u001b[0m \u001b[0mhave_dicts\u001b[0m\u001b[1;33m:\u001b[0m\u001b[1;33m\u001b[0m\u001b[1;33m\u001b[0m\u001b[0m\n\u001b[0;32m    363\u001b[0m             \u001b[0mindex\u001b[0m \u001b[1;33m=\u001b[0m \u001b[0m_union_indexes\u001b[0m\u001b[1;33m(\u001b[0m\u001b[0mindexes\u001b[0m\u001b[1;33m,\u001b[0m \u001b[0msort\u001b[0m\u001b[1;33m=\u001b[0m\u001b[1;32mnot\u001b[0m \u001b[1;33m(\u001b[0m\u001b[0mcompat\u001b[0m\u001b[1;33m.\u001b[0m\u001b[0mPY36\u001b[0m \u001b[1;32mor\u001b[0m \u001b[0mhave_ordered\u001b[0m\u001b[1;33m)\u001b[0m\u001b[1;33m)\u001b[0m\u001b[1;33m\u001b[0m\u001b[1;33m\u001b[0m\u001b[0m\n",
         "\u001b[1;32m~\\AppData\\Roaming\\Python\\Python37\\site-packages\\pandas\\core\\indexes\\api.py\u001b[0m in \u001b[0;36m_union_indexes\u001b[1;34m(indexes, sort)\u001b[0m\n\u001b[0;32m    204\u001b[0m         \u001b[1;32melse\u001b[0m\u001b[1;33m:\u001b[0m\u001b[1;33m\u001b[0m\u001b[1;33m\u001b[0m\u001b[0m\n\u001b[0;32m    205\u001b[0m             \u001b[1;32mfor\u001b[0m \u001b[0mother\u001b[0m \u001b[1;32min\u001b[0m \u001b[0mindexes\u001b[0m\u001b[1;33m[\u001b[0m\u001b[1;36m1\u001b[0m\u001b[1;33m:\u001b[0m\u001b[1;33m]\u001b[0m\u001b[1;33m:\u001b[0m\u001b[1;33m\u001b[0m\u001b[1;33m\u001b[0m\u001b[0m\n\u001b[1;32m--> 206\u001b[1;33m                 \u001b[0mresult\u001b[0m \u001b[1;33m=\u001b[0m \u001b[0mresult\u001b[0m\u001b[1;33m.\u001b[0m\u001b[0munion\u001b[0m\u001b[1;33m(\u001b[0m\u001b[0mother\u001b[0m\u001b[1;33m)\u001b[0m\u001b[1;33m\u001b[0m\u001b[1;33m\u001b[0m\u001b[0m\n\u001b[0m\u001b[0;32m    207\u001b[0m             \u001b[1;32mreturn\u001b[0m \u001b[0mresult\u001b[0m\u001b[1;33m\u001b[0m\u001b[1;33m\u001b[0m\u001b[0m\n\u001b[0;32m    208\u001b[0m     \u001b[1;32melif\u001b[0m \u001b[0mkind\u001b[0m \u001b[1;33m==\u001b[0m \u001b[1;34m\"array\"\u001b[0m\u001b[1;33m:\u001b[0m\u001b[1;33m\u001b[0m\u001b[1;33m\u001b[0m\u001b[0m\n",
         "\u001b[1;32m~\\AppData\\Roaming\\Python\\Python37\\site-packages\\pandas\\core\\indexes\\base.py\u001b[0m in \u001b[0;36munion\u001b[1;34m(self, other, sort)\u001b[0m\n\u001b[0;32m   2517\u001b[0m             \u001b[1;32mreturn\u001b[0m \u001b[0mself\u001b[0m\u001b[1;33m.\u001b[0m\u001b[0m_union_incompatible_dtypes\u001b[0m\u001b[1;33m(\u001b[0m\u001b[0mother\u001b[0m\u001b[1;33m,\u001b[0m \u001b[0msort\u001b[0m\u001b[1;33m=\u001b[0m\u001b[0msort\u001b[0m\u001b[1;33m)\u001b[0m\u001b[1;33m\u001b[0m\u001b[1;33m\u001b[0m\u001b[0m\n\u001b[0;32m   2518\u001b[0m \u001b[1;33m\u001b[0m\u001b[0m\n\u001b[1;32m-> 2519\u001b[1;33m         \u001b[1;32mreturn\u001b[0m \u001b[0mself\u001b[0m\u001b[1;33m.\u001b[0m\u001b[0m_union\u001b[0m\u001b[1;33m(\u001b[0m\u001b[0mother\u001b[0m\u001b[1;33m,\u001b[0m \u001b[0msort\u001b[0m\u001b[1;33m=\u001b[0m\u001b[0msort\u001b[0m\u001b[1;33m)\u001b[0m\u001b[1;33m\u001b[0m\u001b[1;33m\u001b[0m\u001b[0m\n\u001b[0m\u001b[0;32m   2520\u001b[0m \u001b[1;33m\u001b[0m\u001b[0m\n\u001b[0;32m   2521\u001b[0m     \u001b[1;32mdef\u001b[0m \u001b[0m_union\u001b[0m\u001b[1;33m(\u001b[0m\u001b[0mself\u001b[0m\u001b[1;33m,\u001b[0m \u001b[0mother\u001b[0m\u001b[1;33m,\u001b[0m \u001b[0msort\u001b[0m\u001b[1;33m)\u001b[0m\u001b[1;33m:\u001b[0m\u001b[1;33m\u001b[0m\u001b[1;33m\u001b[0m\u001b[0m\n",
         "\u001b[1;32m~\\AppData\\Roaming\\Python\\Python37\\site-packages\\pandas\\core\\indexes\\numeric.py\u001b[0m in \u001b[0;36m_union\u001b[1;34m(self, other, sort)\u001b[0m\n\u001b[0;32m    161\u001b[0m             \u001b[1;32mreturn\u001b[0m \u001b[0mfirst\u001b[0m\u001b[1;33m.\u001b[0m\u001b[0m_union\u001b[0m\u001b[1;33m(\u001b[0m\u001b[0msecond\u001b[0m\u001b[1;33m,\u001b[0m \u001b[0msort\u001b[0m\u001b[1;33m)\u001b[0m\u001b[1;33m\u001b[0m\u001b[1;33m\u001b[0m\u001b[0m\n\u001b[0;32m    162\u001b[0m         \u001b[1;32melse\u001b[0m\u001b[1;33m:\u001b[0m\u001b[1;33m\u001b[0m\u001b[1;33m\u001b[0m\u001b[0m\n\u001b[1;32m--> 163\u001b[1;33m             \u001b[1;32mreturn\u001b[0m \u001b[0msuper\u001b[0m\u001b[1;33m(\u001b[0m\u001b[1;33m)\u001b[0m\u001b[1;33m.\u001b[0m\u001b[0m_union\u001b[0m\u001b[1;33m(\u001b[0m\u001b[0mother\u001b[0m\u001b[1;33m,\u001b[0m \u001b[0msort\u001b[0m\u001b[1;33m)\u001b[0m\u001b[1;33m\u001b[0m\u001b[1;33m\u001b[0m\u001b[0m\n\u001b[0m\u001b[0;32m    164\u001b[0m \u001b[1;33m\u001b[0m\u001b[0m\n\u001b[0;32m    165\u001b[0m \u001b[1;33m\u001b[0m\u001b[0m\n",
         "\u001b[1;32m~\\AppData\\Roaming\\Python\\Python37\\site-packages\\pandas\\core\\indexes\\base.py\u001b[0m in \u001b[0;36m_union\u001b[1;34m(self, other, sort)\u001b[0m\n\u001b[0;32m   2566\u001b[0m                 \u001b[0mresult\u001b[0m\u001b[1;33m.\u001b[0m\u001b[0mextend\u001b[0m\u001b[1;33m(\u001b[0m\u001b[1;33m[\u001b[0m\u001b[0mx\u001b[0m \u001b[1;32mfor\u001b[0m \u001b[0mx\u001b[0m \u001b[1;32min\u001b[0m \u001b[0mrvals\u001b[0m \u001b[1;32mif\u001b[0m \u001b[0mx\u001b[0m \u001b[1;32mnot\u001b[0m \u001b[1;32min\u001b[0m \u001b[0mvalue_set\u001b[0m\u001b[1;33m]\u001b[0m\u001b[1;33m)\u001b[0m\u001b[1;33m\u001b[0m\u001b[1;33m\u001b[0m\u001b[0m\n\u001b[0;32m   2567\u001b[0m         \u001b[1;32melse\u001b[0m\u001b[1;33m:\u001b[0m\u001b[1;33m\u001b[0m\u001b[1;33m\u001b[0m\u001b[0m\n\u001b[1;32m-> 2568\u001b[1;33m             \u001b[0mindexer\u001b[0m \u001b[1;33m=\u001b[0m \u001b[0mself\u001b[0m\u001b[1;33m.\u001b[0m\u001b[0mget_indexer\u001b[0m\u001b[1;33m(\u001b[0m\u001b[0mother\u001b[0m\u001b[1;33m)\u001b[0m\u001b[1;33m\u001b[0m\u001b[1;33m\u001b[0m\u001b[0m\n\u001b[0m\u001b[0;32m   2569\u001b[0m             \u001b[0mindexer\u001b[0m\u001b[1;33m,\u001b[0m \u001b[1;33m=\u001b[0m \u001b[1;33m(\u001b[0m\u001b[0mindexer\u001b[0m \u001b[1;33m==\u001b[0m \u001b[1;33m-\u001b[0m\u001b[1;36m1\u001b[0m\u001b[1;33m)\u001b[0m\u001b[1;33m.\u001b[0m\u001b[0mnonzero\u001b[0m\u001b[1;33m(\u001b[0m\u001b[1;33m)\u001b[0m\u001b[1;33m\u001b[0m\u001b[1;33m\u001b[0m\u001b[0m\n\u001b[0;32m   2570\u001b[0m \u001b[1;33m\u001b[0m\u001b[0m\n",
         "\u001b[1;32m~\\AppData\\Roaming\\Python\\Python37\\site-packages\\pandas\\core\\indexes\\base.py\u001b[0m in \u001b[0;36mget_indexer\u001b[1;34m(self, target, method, limit, tolerance)\u001b[0m\n\u001b[0;32m   2983\u001b[0m         \u001b[1;32mif\u001b[0m \u001b[1;32mnot\u001b[0m \u001b[0mself\u001b[0m\u001b[1;33m.\u001b[0m\u001b[0mis_unique\u001b[0m\u001b[1;33m:\u001b[0m\u001b[1;33m\u001b[0m\u001b[1;33m\u001b[0m\u001b[0m\n\u001b[0;32m   2984\u001b[0m             raise InvalidIndexError(\n\u001b[1;32m-> 2985\u001b[1;33m                 \u001b[1;34m\"Reindexing only valid with uniquely\"\u001b[0m \u001b[1;34m\" valued Index objects\"\u001b[0m\u001b[1;33m\u001b[0m\u001b[1;33m\u001b[0m\u001b[0m\n\u001b[0m\u001b[0;32m   2986\u001b[0m             )\n\u001b[0;32m   2987\u001b[0m \u001b[1;33m\u001b[0m\u001b[0m\n",
         "\u001b[1;31mInvalidIndexError\u001b[0m: Reindexing only valid with uniquely valued Index objects"
        ]
       }
      ],
      "source": "pd.DataFrame(\n    {\n        \"repo_url1\" : repository_info.url[ranking_nmf_multiplicative[0][0:9]], \n        \"repo_description1\" : repository_info.description[ranking_nmf_multiplicative[0][0:9]],\n        #\"repo_url2\" : repository_info.url[ranking_nmf_multiplicative[1][0:9]], \n        \"repo_description2\" : repository_info.description[ranking_nmf_multiplicative[1][0:9]],\n        \"score\" : ranking_nmf_multiplicative[2][0:9]\n    }\n)",
      "start_time": "2020-04-06T13:43:42.330Z"
     },
     {
      "end_time": "2020-04-06T13:44:21.267Z",
      "execution_time": "9ms",
      "outputs": [
       {
        "data": {
         "text/html": "<div>\n<style scoped>\n    .dataframe tbody tr th:only-of-type {\n        vertical-align: middle;\n    }\n\n    .dataframe tbody tr th {\n        vertical-align: top;\n    }\n\n    .dataframe thead th {\n        text-align: right;\n    }\n</style>\n<table border=\"1\" class=\"dataframe\">\n  <thead>\n    <tr style=\"text-align: right;\">\n      <th></th>\n      <th>repo_url2</th>\n      <th>repo_description2</th>\n      <th>score</th>\n    </tr>\n  </thead>\n  <tbody>\n    <tr>\n      <th>1473</th>\n      <td>https://api.github.com/repos/MongoEngine/flask...</td>\n      <td>MongoEngine flask extension with WTF model for...</td>\n      <td>0.002992</td>\n    </tr>\n    <tr>\n      <th>8613</th>\n      <td>https://api.github.com/repos/mikeboers/Flask-I...</td>\n      <td>On-demand resizing of images for Flask applica...</td>\n      <td>0.002986</td>\n    </tr>\n    <tr>\n      <th>2733</th>\n      <td>https://api.github.com/repos/alecthomas/flask_...</td>\n      <td>Adds Injector support to Flask.</td>\n      <td>0.002981</td>\n    </tr>\n    <tr>\n      <th>3524</th>\n      <td>https://api.github.com/repos/bkabrda/flask-who...</td>\n      <td>Customizable Flask - SQLAlchemy - Whoosh integ...</td>\n      <td>0.002980</td>\n    </tr>\n    <tr>\n      <th>8398</th>\n      <td>https://api.github.com/repos/mattupstate/flask...</td>\n      <td>Flask-Mail adds SMTP mail sending to your Flas...</td>\n      <td>0.002968</td>\n    </tr>\n    <tr>\n      <th>8413</th>\n      <td>https://api.github.com/repos/maxcountryman/logmon</td>\n      <td>Realtime log reader in Flask</td>\n      <td>0.002965</td>\n    </tr>\n    <tr>\n      <th>7102</th>\n      <td>https://api.github.com/repos/jmcarp/flask-apispec</td>\n      <td>NaN</td>\n      <td>0.002950</td>\n    </tr>\n    <tr>\n      <th>4405</th>\n      <td>https://api.github.com/repos/damyanbogoev/flas...</td>\n      <td>Flask Series</td>\n      <td>0.002944</td>\n    </tr>\n    <tr>\n      <th>6163</th>\n      <td>https://api.github.com/repos/hack4impact/flask...</td>\n      <td>NaN</td>\n      <td>0.002940</td>\n    </tr>\n  </tbody>\n</table>\n</div>",
         "text/plain": "                                              repo_url2  \\\n1473  https://api.github.com/repos/MongoEngine/flask...   \n8613  https://api.github.com/repos/mikeboers/Flask-I...   \n2733  https://api.github.com/repos/alecthomas/flask_...   \n3524  https://api.github.com/repos/bkabrda/flask-who...   \n8398  https://api.github.com/repos/mattupstate/flask...   \n8413  https://api.github.com/repos/maxcountryman/logmon   \n7102  https://api.github.com/repos/jmcarp/flask-apispec   \n4405  https://api.github.com/repos/damyanbogoev/flas...   \n6163  https://api.github.com/repos/hack4impact/flask...   \n\n                                      repo_description2     score  \n1473  MongoEngine flask extension with WTF model for...  0.002992  \n8613  On-demand resizing of images for Flask applica...  0.002986  \n2733                    Adds Injector support to Flask.  0.002981  \n3524  Customizable Flask - SQLAlchemy - Whoosh integ...  0.002980  \n8398  Flask-Mail adds SMTP mail sending to your Flas...  0.002968  \n8413                       Realtime log reader in Flask  0.002965  \n7102                                                NaN  0.002950  \n4405                                       Flask Series  0.002944  \n6163                                                NaN  0.002940  "
        },
        "execution_count": 40,
        "metadata": {},
        "output_type": "execute_result"
       }
      ],
      "source": "pd.DataFrame(\n    {\n        #\"repo_url1\" : repository_info.url[ranking_nmf_multiplicative[0][0:9]], \n        #\"repo_description1\" : repository_info.description[ranking_nmf_multiplicative[0][0:9]],\n        \"repo_url2\" : repository_info.url[ranking_nmf_multiplicative[1][0:9]], \n        \"repo_description2\" : repository_info.description[ranking_nmf_multiplicative[1][0:9]],\n        \"score\" : ranking_nmf_multiplicative[2][0:9]\n    }\n)",
      "start_time": "2020-04-06T13:44:21.258Z"
     },
     {
      "end_time": "2020-04-06T13:44:43.675Z",
      "execution_time": "31ms",
      "outputs": [
       {
        "ename": "InvalidIndexError",
        "evalue": "Reindexing only valid with uniquely valued Index objects",
        "output_type": "error",
        "traceback": [
         "\u001b[1;31m---------------------------------------------------------------------------\u001b[0m",
         "\u001b[1;31mInvalidIndexError\u001b[0m                         Traceback (most recent call last)",
         "\u001b[1;32m<ipython-input-41-9da91de48eec>\u001b[0m in \u001b[0;36m<module>\u001b[1;34m\u001b[0m\n\u001b[0;32m      5\u001b[0m         \u001b[1;34m\"repo_url2\"\u001b[0m \u001b[1;33m:\u001b[0m \u001b[0mrepository_info\u001b[0m\u001b[1;33m.\u001b[0m\u001b[0murl\u001b[0m\u001b[1;33m[\u001b[0m\u001b[0mranking_nmf_multiplicative\u001b[0m\u001b[1;33m[\u001b[0m\u001b[1;36m1\u001b[0m\u001b[1;33m]\u001b[0m\u001b[1;33m[\u001b[0m\u001b[1;36m0\u001b[0m\u001b[1;33m:\u001b[0m\u001b[1;36m9\u001b[0m\u001b[1;33m]\u001b[0m\u001b[1;33m]\u001b[0m\u001b[1;33m,\u001b[0m\u001b[1;33m\u001b[0m\u001b[1;33m\u001b[0m\u001b[0m\n\u001b[0;32m      6\u001b[0m         \u001b[1;34m\"repo_description2\"\u001b[0m \u001b[1;33m:\u001b[0m \u001b[0mrepository_info\u001b[0m\u001b[1;33m.\u001b[0m\u001b[0mdescription\u001b[0m\u001b[1;33m[\u001b[0m\u001b[0mranking_nmf_multiplicative\u001b[0m\u001b[1;33m[\u001b[0m\u001b[1;36m1\u001b[0m\u001b[1;33m]\u001b[0m\u001b[1;33m[\u001b[0m\u001b[1;36m0\u001b[0m\u001b[1;33m:\u001b[0m\u001b[1;36m9\u001b[0m\u001b[1;33m]\u001b[0m\u001b[1;33m]\u001b[0m\u001b[1;33m,\u001b[0m\u001b[1;33m\u001b[0m\u001b[1;33m\u001b[0m\u001b[0m\n\u001b[1;32m----> 7\u001b[1;33m         \u001b[1;34m\"score\"\u001b[0m \u001b[1;33m:\u001b[0m \u001b[0mranking_nmf_multiplicative\u001b[0m\u001b[1;33m[\u001b[0m\u001b[1;36m2\u001b[0m\u001b[1;33m]\u001b[0m\u001b[1;33m[\u001b[0m\u001b[1;36m0\u001b[0m\u001b[1;33m:\u001b[0m\u001b[1;36m9\u001b[0m\u001b[1;33m]\u001b[0m\u001b[1;33m\u001b[0m\u001b[1;33m\u001b[0m\u001b[0m\n\u001b[0m\u001b[0;32m      8\u001b[0m     }\n\u001b[0;32m      9\u001b[0m )\n",
         "\u001b[1;32m~\\AppData\\Roaming\\Python\\Python37\\site-packages\\pandas\\core\\frame.py\u001b[0m in \u001b[0;36m__init__\u001b[1;34m(self, data, index, columns, dtype, copy)\u001b[0m\n\u001b[0;32m    409\u001b[0m             )\n\u001b[0;32m    410\u001b[0m         \u001b[1;32melif\u001b[0m \u001b[0misinstance\u001b[0m\u001b[1;33m(\u001b[0m\u001b[0mdata\u001b[0m\u001b[1;33m,\u001b[0m \u001b[0mdict\u001b[0m\u001b[1;33m)\u001b[0m\u001b[1;33m:\u001b[0m\u001b[1;33m\u001b[0m\u001b[1;33m\u001b[0m\u001b[0m\n\u001b[1;32m--> 411\u001b[1;33m             \u001b[0mmgr\u001b[0m \u001b[1;33m=\u001b[0m \u001b[0minit_dict\u001b[0m\u001b[1;33m(\u001b[0m\u001b[0mdata\u001b[0m\u001b[1;33m,\u001b[0m \u001b[0mindex\u001b[0m\u001b[1;33m,\u001b[0m \u001b[0mcolumns\u001b[0m\u001b[1;33m,\u001b[0m \u001b[0mdtype\u001b[0m\u001b[1;33m=\u001b[0m\u001b[0mdtype\u001b[0m\u001b[1;33m)\u001b[0m\u001b[1;33m\u001b[0m\u001b[1;33m\u001b[0m\u001b[0m\n\u001b[0m\u001b[0;32m    412\u001b[0m         \u001b[1;32melif\u001b[0m \u001b[0misinstance\u001b[0m\u001b[1;33m(\u001b[0m\u001b[0mdata\u001b[0m\u001b[1;33m,\u001b[0m \u001b[0mma\u001b[0m\u001b[1;33m.\u001b[0m\u001b[0mMaskedArray\u001b[0m\u001b[1;33m)\u001b[0m\u001b[1;33m:\u001b[0m\u001b[1;33m\u001b[0m\u001b[1;33m\u001b[0m\u001b[0m\n\u001b[0;32m    413\u001b[0m             \u001b[1;32mimport\u001b[0m \u001b[0mnumpy\u001b[0m\u001b[1;33m.\u001b[0m\u001b[0mma\u001b[0m\u001b[1;33m.\u001b[0m\u001b[0mmrecords\u001b[0m \u001b[1;32mas\u001b[0m \u001b[0mmrecords\u001b[0m\u001b[1;33m\u001b[0m\u001b[1;33m\u001b[0m\u001b[0m\n",
         "\u001b[1;32m~\\AppData\\Roaming\\Python\\Python37\\site-packages\\pandas\\core\\internals\\construction.py\u001b[0m in \u001b[0;36minit_dict\u001b[1;34m(data, index, columns, dtype)\u001b[0m\n\u001b[0;32m    255\u001b[0m             \u001b[0marr\u001b[0m \u001b[1;32mif\u001b[0m \u001b[1;32mnot\u001b[0m \u001b[0mis_datetime64tz_dtype\u001b[0m\u001b[1;33m(\u001b[0m\u001b[0marr\u001b[0m\u001b[1;33m)\u001b[0m \u001b[1;32melse\u001b[0m \u001b[0marr\u001b[0m\u001b[1;33m.\u001b[0m\u001b[0mcopy\u001b[0m\u001b[1;33m(\u001b[0m\u001b[1;33m)\u001b[0m \u001b[1;32mfor\u001b[0m \u001b[0marr\u001b[0m \u001b[1;32min\u001b[0m \u001b[0marrays\u001b[0m\u001b[1;33m\u001b[0m\u001b[1;33m\u001b[0m\u001b[0m\n\u001b[0;32m    256\u001b[0m         ]\n\u001b[1;32m--> 257\u001b[1;33m     \u001b[1;32mreturn\u001b[0m \u001b[0marrays_to_mgr\u001b[0m\u001b[1;33m(\u001b[0m\u001b[0marrays\u001b[0m\u001b[1;33m,\u001b[0m \u001b[0mdata_names\u001b[0m\u001b[1;33m,\u001b[0m \u001b[0mindex\u001b[0m\u001b[1;33m,\u001b[0m \u001b[0mcolumns\u001b[0m\u001b[1;33m,\u001b[0m \u001b[0mdtype\u001b[0m\u001b[1;33m=\u001b[0m\u001b[0mdtype\u001b[0m\u001b[1;33m)\u001b[0m\u001b[1;33m\u001b[0m\u001b[1;33m\u001b[0m\u001b[0m\n\u001b[0m\u001b[0;32m    258\u001b[0m \u001b[1;33m\u001b[0m\u001b[0m\n\u001b[0;32m    259\u001b[0m \u001b[1;33m\u001b[0m\u001b[0m\n",
         "\u001b[1;32m~\\AppData\\Roaming\\Python\\Python37\\site-packages\\pandas\\core\\internals\\construction.py\u001b[0m in \u001b[0;36marrays_to_mgr\u001b[1;34m(arrays, arr_names, index, columns, dtype)\u001b[0m\n\u001b[0;32m     75\u001b[0m     \u001b[1;31m# figure out the index, if necessary\u001b[0m\u001b[1;33m\u001b[0m\u001b[1;33m\u001b[0m\u001b[1;33m\u001b[0m\u001b[0m\n\u001b[0;32m     76\u001b[0m     \u001b[1;32mif\u001b[0m \u001b[0mindex\u001b[0m \u001b[1;32mis\u001b[0m \u001b[1;32mNone\u001b[0m\u001b[1;33m:\u001b[0m\u001b[1;33m\u001b[0m\u001b[1;33m\u001b[0m\u001b[0m\n\u001b[1;32m---> 77\u001b[1;33m         \u001b[0mindex\u001b[0m \u001b[1;33m=\u001b[0m \u001b[0mextract_index\u001b[0m\u001b[1;33m(\u001b[0m\u001b[0marrays\u001b[0m\u001b[1;33m)\u001b[0m\u001b[1;33m\u001b[0m\u001b[1;33m\u001b[0m\u001b[0m\n\u001b[0m\u001b[0;32m     78\u001b[0m     \u001b[1;32melse\u001b[0m\u001b[1;33m:\u001b[0m\u001b[1;33m\u001b[0m\u001b[1;33m\u001b[0m\u001b[0m\n\u001b[0;32m     79\u001b[0m         \u001b[0mindex\u001b[0m \u001b[1;33m=\u001b[0m \u001b[0mensure_index\u001b[0m\u001b[1;33m(\u001b[0m\u001b[0mindex\u001b[0m\u001b[1;33m)\u001b[0m\u001b[1;33m\u001b[0m\u001b[1;33m\u001b[0m\u001b[0m\n",
         "\u001b[1;32m~\\AppData\\Roaming\\Python\\Python37\\site-packages\\pandas\\core\\internals\\construction.py\u001b[0m in \u001b[0;36mextract_index\u001b[1;34m(data)\u001b[0m\n\u001b[0;32m    359\u001b[0m \u001b[1;33m\u001b[0m\u001b[0m\n\u001b[0;32m    360\u001b[0m         \u001b[1;32mif\u001b[0m \u001b[0mhave_series\u001b[0m\u001b[1;33m:\u001b[0m\u001b[1;33m\u001b[0m\u001b[1;33m\u001b[0m\u001b[0m\n\u001b[1;32m--> 361\u001b[1;33m             \u001b[0mindex\u001b[0m \u001b[1;33m=\u001b[0m \u001b[0m_union_indexes\u001b[0m\u001b[1;33m(\u001b[0m\u001b[0mindexes\u001b[0m\u001b[1;33m)\u001b[0m\u001b[1;33m\u001b[0m\u001b[1;33m\u001b[0m\u001b[0m\n\u001b[0m\u001b[0;32m    362\u001b[0m         \u001b[1;32melif\u001b[0m \u001b[0mhave_dicts\u001b[0m\u001b[1;33m:\u001b[0m\u001b[1;33m\u001b[0m\u001b[1;33m\u001b[0m\u001b[0m\n\u001b[0;32m    363\u001b[0m             \u001b[0mindex\u001b[0m \u001b[1;33m=\u001b[0m \u001b[0m_union_indexes\u001b[0m\u001b[1;33m(\u001b[0m\u001b[0mindexes\u001b[0m\u001b[1;33m,\u001b[0m \u001b[0msort\u001b[0m\u001b[1;33m=\u001b[0m\u001b[1;32mnot\u001b[0m \u001b[1;33m(\u001b[0m\u001b[0mcompat\u001b[0m\u001b[1;33m.\u001b[0m\u001b[0mPY36\u001b[0m \u001b[1;32mor\u001b[0m \u001b[0mhave_ordered\u001b[0m\u001b[1;33m)\u001b[0m\u001b[1;33m)\u001b[0m\u001b[1;33m\u001b[0m\u001b[1;33m\u001b[0m\u001b[0m\n",
         "\u001b[1;32m~\\AppData\\Roaming\\Python\\Python37\\site-packages\\pandas\\core\\indexes\\api.py\u001b[0m in \u001b[0;36m_union_indexes\u001b[1;34m(indexes, sort)\u001b[0m\n\u001b[0;32m    204\u001b[0m         \u001b[1;32melse\u001b[0m\u001b[1;33m:\u001b[0m\u001b[1;33m\u001b[0m\u001b[1;33m\u001b[0m\u001b[0m\n\u001b[0;32m    205\u001b[0m             \u001b[1;32mfor\u001b[0m \u001b[0mother\u001b[0m \u001b[1;32min\u001b[0m \u001b[0mindexes\u001b[0m\u001b[1;33m[\u001b[0m\u001b[1;36m1\u001b[0m\u001b[1;33m:\u001b[0m\u001b[1;33m]\u001b[0m\u001b[1;33m:\u001b[0m\u001b[1;33m\u001b[0m\u001b[1;33m\u001b[0m\u001b[0m\n\u001b[1;32m--> 206\u001b[1;33m                 \u001b[0mresult\u001b[0m \u001b[1;33m=\u001b[0m \u001b[0mresult\u001b[0m\u001b[1;33m.\u001b[0m\u001b[0munion\u001b[0m\u001b[1;33m(\u001b[0m\u001b[0mother\u001b[0m\u001b[1;33m)\u001b[0m\u001b[1;33m\u001b[0m\u001b[1;33m\u001b[0m\u001b[0m\n\u001b[0m\u001b[0;32m    207\u001b[0m             \u001b[1;32mreturn\u001b[0m \u001b[0mresult\u001b[0m\u001b[1;33m\u001b[0m\u001b[1;33m\u001b[0m\u001b[0m\n\u001b[0;32m    208\u001b[0m     \u001b[1;32melif\u001b[0m \u001b[0mkind\u001b[0m \u001b[1;33m==\u001b[0m \u001b[1;34m\"array\"\u001b[0m\u001b[1;33m:\u001b[0m\u001b[1;33m\u001b[0m\u001b[1;33m\u001b[0m\u001b[0m\n",
         "\u001b[1;32m~\\AppData\\Roaming\\Python\\Python37\\site-packages\\pandas\\core\\indexes\\base.py\u001b[0m in \u001b[0;36munion\u001b[1;34m(self, other, sort)\u001b[0m\n\u001b[0;32m   2517\u001b[0m             \u001b[1;32mreturn\u001b[0m \u001b[0mself\u001b[0m\u001b[1;33m.\u001b[0m\u001b[0m_union_incompatible_dtypes\u001b[0m\u001b[1;33m(\u001b[0m\u001b[0mother\u001b[0m\u001b[1;33m,\u001b[0m \u001b[0msort\u001b[0m\u001b[1;33m=\u001b[0m\u001b[0msort\u001b[0m\u001b[1;33m)\u001b[0m\u001b[1;33m\u001b[0m\u001b[1;33m\u001b[0m\u001b[0m\n\u001b[0;32m   2518\u001b[0m \u001b[1;33m\u001b[0m\u001b[0m\n\u001b[1;32m-> 2519\u001b[1;33m         \u001b[1;32mreturn\u001b[0m \u001b[0mself\u001b[0m\u001b[1;33m.\u001b[0m\u001b[0m_union\u001b[0m\u001b[1;33m(\u001b[0m\u001b[0mother\u001b[0m\u001b[1;33m,\u001b[0m \u001b[0msort\u001b[0m\u001b[1;33m=\u001b[0m\u001b[0msort\u001b[0m\u001b[1;33m)\u001b[0m\u001b[1;33m\u001b[0m\u001b[1;33m\u001b[0m\u001b[0m\n\u001b[0m\u001b[0;32m   2520\u001b[0m \u001b[1;33m\u001b[0m\u001b[0m\n\u001b[0;32m   2521\u001b[0m     \u001b[1;32mdef\u001b[0m \u001b[0m_union\u001b[0m\u001b[1;33m(\u001b[0m\u001b[0mself\u001b[0m\u001b[1;33m,\u001b[0m \u001b[0mother\u001b[0m\u001b[1;33m,\u001b[0m \u001b[0msort\u001b[0m\u001b[1;33m)\u001b[0m\u001b[1;33m:\u001b[0m\u001b[1;33m\u001b[0m\u001b[1;33m\u001b[0m\u001b[0m\n",
         "\u001b[1;32m~\\AppData\\Roaming\\Python\\Python37\\site-packages\\pandas\\core\\indexes\\numeric.py\u001b[0m in \u001b[0;36m_union\u001b[1;34m(self, other, sort)\u001b[0m\n\u001b[0;32m    161\u001b[0m             \u001b[1;32mreturn\u001b[0m \u001b[0mfirst\u001b[0m\u001b[1;33m.\u001b[0m\u001b[0m_union\u001b[0m\u001b[1;33m(\u001b[0m\u001b[0msecond\u001b[0m\u001b[1;33m,\u001b[0m \u001b[0msort\u001b[0m\u001b[1;33m)\u001b[0m\u001b[1;33m\u001b[0m\u001b[1;33m\u001b[0m\u001b[0m\n\u001b[0;32m    162\u001b[0m         \u001b[1;32melse\u001b[0m\u001b[1;33m:\u001b[0m\u001b[1;33m\u001b[0m\u001b[1;33m\u001b[0m\u001b[0m\n\u001b[1;32m--> 163\u001b[1;33m             \u001b[1;32mreturn\u001b[0m \u001b[0msuper\u001b[0m\u001b[1;33m(\u001b[0m\u001b[1;33m)\u001b[0m\u001b[1;33m.\u001b[0m\u001b[0m_union\u001b[0m\u001b[1;33m(\u001b[0m\u001b[0mother\u001b[0m\u001b[1;33m,\u001b[0m \u001b[0msort\u001b[0m\u001b[1;33m)\u001b[0m\u001b[1;33m\u001b[0m\u001b[1;33m\u001b[0m\u001b[0m\n\u001b[0m\u001b[0;32m    164\u001b[0m \u001b[1;33m\u001b[0m\u001b[0m\n\u001b[0;32m    165\u001b[0m \u001b[1;33m\u001b[0m\u001b[0m\n",
         "\u001b[1;32m~\\AppData\\Roaming\\Python\\Python37\\site-packages\\pandas\\core\\indexes\\base.py\u001b[0m in \u001b[0;36m_union\u001b[1;34m(self, other, sort)\u001b[0m\n\u001b[0;32m   2566\u001b[0m                 \u001b[0mresult\u001b[0m\u001b[1;33m.\u001b[0m\u001b[0mextend\u001b[0m\u001b[1;33m(\u001b[0m\u001b[1;33m[\u001b[0m\u001b[0mx\u001b[0m \u001b[1;32mfor\u001b[0m \u001b[0mx\u001b[0m \u001b[1;32min\u001b[0m \u001b[0mrvals\u001b[0m \u001b[1;32mif\u001b[0m \u001b[0mx\u001b[0m \u001b[1;32mnot\u001b[0m \u001b[1;32min\u001b[0m \u001b[0mvalue_set\u001b[0m\u001b[1;33m]\u001b[0m\u001b[1;33m)\u001b[0m\u001b[1;33m\u001b[0m\u001b[1;33m\u001b[0m\u001b[0m\n\u001b[0;32m   2567\u001b[0m         \u001b[1;32melse\u001b[0m\u001b[1;33m:\u001b[0m\u001b[1;33m\u001b[0m\u001b[1;33m\u001b[0m\u001b[0m\n\u001b[1;32m-> 2568\u001b[1;33m             \u001b[0mindexer\u001b[0m \u001b[1;33m=\u001b[0m \u001b[0mself\u001b[0m\u001b[1;33m.\u001b[0m\u001b[0mget_indexer\u001b[0m\u001b[1;33m(\u001b[0m\u001b[0mother\u001b[0m\u001b[1;33m)\u001b[0m\u001b[1;33m\u001b[0m\u001b[1;33m\u001b[0m\u001b[0m\n\u001b[0m\u001b[0;32m   2569\u001b[0m             \u001b[0mindexer\u001b[0m\u001b[1;33m,\u001b[0m \u001b[1;33m=\u001b[0m \u001b[1;33m(\u001b[0m\u001b[0mindexer\u001b[0m \u001b[1;33m==\u001b[0m \u001b[1;33m-\u001b[0m\u001b[1;36m1\u001b[0m\u001b[1;33m)\u001b[0m\u001b[1;33m.\u001b[0m\u001b[0mnonzero\u001b[0m\u001b[1;33m(\u001b[0m\u001b[1;33m)\u001b[0m\u001b[1;33m\u001b[0m\u001b[1;33m\u001b[0m\u001b[0m\n\u001b[0;32m   2570\u001b[0m \u001b[1;33m\u001b[0m\u001b[0m\n",
         "\u001b[1;32m~\\AppData\\Roaming\\Python\\Python37\\site-packages\\pandas\\core\\indexes\\base.py\u001b[0m in \u001b[0;36mget_indexer\u001b[1;34m(self, target, method, limit, tolerance)\u001b[0m\n\u001b[0;32m   2983\u001b[0m         \u001b[1;32mif\u001b[0m \u001b[1;32mnot\u001b[0m \u001b[0mself\u001b[0m\u001b[1;33m.\u001b[0m\u001b[0mis_unique\u001b[0m\u001b[1;33m:\u001b[0m\u001b[1;33m\u001b[0m\u001b[1;33m\u001b[0m\u001b[0m\n\u001b[0;32m   2984\u001b[0m             raise InvalidIndexError(\n\u001b[1;32m-> 2985\u001b[1;33m                 \u001b[1;34m\"Reindexing only valid with uniquely\"\u001b[0m \u001b[1;34m\" valued Index objects\"\u001b[0m\u001b[1;33m\u001b[0m\u001b[1;33m\u001b[0m\u001b[0m\n\u001b[0m\u001b[0;32m   2986\u001b[0m             )\n\u001b[0;32m   2987\u001b[0m \u001b[1;33m\u001b[0m\u001b[0m\n",
         "\u001b[1;31mInvalidIndexError\u001b[0m: Reindexing only valid with uniquely valued Index objects"
        ]
       }
      ],
      "source": "pd.DataFrame(\n    {\n        \"repo_url1\" : repository_info.url[ranking_nmf_multiplicative[0][0:9]], \n        #\"repo_description1\" : repository_info.description[ranking_nmf_multiplicative[0][0:9]],\n        \"repo_url2\" : repository_info.url[ranking_nmf_multiplicative[1][0:9]], \n        \"repo_description2\" : repository_info.description[ranking_nmf_multiplicative[1][0:9]],\n        \"score\" : ranking_nmf_multiplicative[2][0:9]\n    }\n)",
      "start_time": "2020-04-06T13:44:43.644Z"
     },
     {
      "end_time": "2020-04-06T13:44:47.539Z",
      "execution_time": "21ms",
      "outputs": [
       {
        "ename": "InvalidIndexError",
        "evalue": "Reindexing only valid with uniquely valued Index objects",
        "output_type": "error",
        "traceback": [
         "\u001b[1;31m---------------------------------------------------------------------------\u001b[0m",
         "\u001b[1;31mInvalidIndexError\u001b[0m                         Traceback (most recent call last)",
         "\u001b[1;32m<ipython-input-42-9da91de48eec>\u001b[0m in \u001b[0;36m<module>\u001b[1;34m\u001b[0m\n\u001b[0;32m      5\u001b[0m         \u001b[1;34m\"repo_url2\"\u001b[0m \u001b[1;33m:\u001b[0m \u001b[0mrepository_info\u001b[0m\u001b[1;33m.\u001b[0m\u001b[0murl\u001b[0m\u001b[1;33m[\u001b[0m\u001b[0mranking_nmf_multiplicative\u001b[0m\u001b[1;33m[\u001b[0m\u001b[1;36m1\u001b[0m\u001b[1;33m]\u001b[0m\u001b[1;33m[\u001b[0m\u001b[1;36m0\u001b[0m\u001b[1;33m:\u001b[0m\u001b[1;36m9\u001b[0m\u001b[1;33m]\u001b[0m\u001b[1;33m]\u001b[0m\u001b[1;33m,\u001b[0m\u001b[1;33m\u001b[0m\u001b[1;33m\u001b[0m\u001b[0m\n\u001b[0;32m      6\u001b[0m         \u001b[1;34m\"repo_description2\"\u001b[0m \u001b[1;33m:\u001b[0m \u001b[0mrepository_info\u001b[0m\u001b[1;33m.\u001b[0m\u001b[0mdescription\u001b[0m\u001b[1;33m[\u001b[0m\u001b[0mranking_nmf_multiplicative\u001b[0m\u001b[1;33m[\u001b[0m\u001b[1;36m1\u001b[0m\u001b[1;33m]\u001b[0m\u001b[1;33m[\u001b[0m\u001b[1;36m0\u001b[0m\u001b[1;33m:\u001b[0m\u001b[1;36m9\u001b[0m\u001b[1;33m]\u001b[0m\u001b[1;33m]\u001b[0m\u001b[1;33m,\u001b[0m\u001b[1;33m\u001b[0m\u001b[1;33m\u001b[0m\u001b[0m\n\u001b[1;32m----> 7\u001b[1;33m         \u001b[1;34m\"score\"\u001b[0m \u001b[1;33m:\u001b[0m \u001b[0mranking_nmf_multiplicative\u001b[0m\u001b[1;33m[\u001b[0m\u001b[1;36m2\u001b[0m\u001b[1;33m]\u001b[0m\u001b[1;33m[\u001b[0m\u001b[1;36m0\u001b[0m\u001b[1;33m:\u001b[0m\u001b[1;36m9\u001b[0m\u001b[1;33m]\u001b[0m\u001b[1;33m\u001b[0m\u001b[1;33m\u001b[0m\u001b[0m\n\u001b[0m\u001b[0;32m      8\u001b[0m     }\n\u001b[0;32m      9\u001b[0m )\n",
         "\u001b[1;32m~\\AppData\\Roaming\\Python\\Python37\\site-packages\\pandas\\core\\frame.py\u001b[0m in \u001b[0;36m__init__\u001b[1;34m(self, data, index, columns, dtype, copy)\u001b[0m\n\u001b[0;32m    409\u001b[0m             )\n\u001b[0;32m    410\u001b[0m         \u001b[1;32melif\u001b[0m \u001b[0misinstance\u001b[0m\u001b[1;33m(\u001b[0m\u001b[0mdata\u001b[0m\u001b[1;33m,\u001b[0m \u001b[0mdict\u001b[0m\u001b[1;33m)\u001b[0m\u001b[1;33m:\u001b[0m\u001b[1;33m\u001b[0m\u001b[1;33m\u001b[0m\u001b[0m\n\u001b[1;32m--> 411\u001b[1;33m             \u001b[0mmgr\u001b[0m \u001b[1;33m=\u001b[0m \u001b[0minit_dict\u001b[0m\u001b[1;33m(\u001b[0m\u001b[0mdata\u001b[0m\u001b[1;33m,\u001b[0m \u001b[0mindex\u001b[0m\u001b[1;33m,\u001b[0m \u001b[0mcolumns\u001b[0m\u001b[1;33m,\u001b[0m \u001b[0mdtype\u001b[0m\u001b[1;33m=\u001b[0m\u001b[0mdtype\u001b[0m\u001b[1;33m)\u001b[0m\u001b[1;33m\u001b[0m\u001b[1;33m\u001b[0m\u001b[0m\n\u001b[0m\u001b[0;32m    412\u001b[0m         \u001b[1;32melif\u001b[0m \u001b[0misinstance\u001b[0m\u001b[1;33m(\u001b[0m\u001b[0mdata\u001b[0m\u001b[1;33m,\u001b[0m \u001b[0mma\u001b[0m\u001b[1;33m.\u001b[0m\u001b[0mMaskedArray\u001b[0m\u001b[1;33m)\u001b[0m\u001b[1;33m:\u001b[0m\u001b[1;33m\u001b[0m\u001b[1;33m\u001b[0m\u001b[0m\n\u001b[0;32m    413\u001b[0m             \u001b[1;32mimport\u001b[0m \u001b[0mnumpy\u001b[0m\u001b[1;33m.\u001b[0m\u001b[0mma\u001b[0m\u001b[1;33m.\u001b[0m\u001b[0mmrecords\u001b[0m \u001b[1;32mas\u001b[0m \u001b[0mmrecords\u001b[0m\u001b[1;33m\u001b[0m\u001b[1;33m\u001b[0m\u001b[0m\n",
         "\u001b[1;32m~\\AppData\\Roaming\\Python\\Python37\\site-packages\\pandas\\core\\internals\\construction.py\u001b[0m in \u001b[0;36minit_dict\u001b[1;34m(data, index, columns, dtype)\u001b[0m\n\u001b[0;32m    255\u001b[0m             \u001b[0marr\u001b[0m \u001b[1;32mif\u001b[0m \u001b[1;32mnot\u001b[0m \u001b[0mis_datetime64tz_dtype\u001b[0m\u001b[1;33m(\u001b[0m\u001b[0marr\u001b[0m\u001b[1;33m)\u001b[0m \u001b[1;32melse\u001b[0m \u001b[0marr\u001b[0m\u001b[1;33m.\u001b[0m\u001b[0mcopy\u001b[0m\u001b[1;33m(\u001b[0m\u001b[1;33m)\u001b[0m \u001b[1;32mfor\u001b[0m \u001b[0marr\u001b[0m \u001b[1;32min\u001b[0m \u001b[0marrays\u001b[0m\u001b[1;33m\u001b[0m\u001b[1;33m\u001b[0m\u001b[0m\n\u001b[0;32m    256\u001b[0m         ]\n\u001b[1;32m--> 257\u001b[1;33m     \u001b[1;32mreturn\u001b[0m \u001b[0marrays_to_mgr\u001b[0m\u001b[1;33m(\u001b[0m\u001b[0marrays\u001b[0m\u001b[1;33m,\u001b[0m \u001b[0mdata_names\u001b[0m\u001b[1;33m,\u001b[0m \u001b[0mindex\u001b[0m\u001b[1;33m,\u001b[0m \u001b[0mcolumns\u001b[0m\u001b[1;33m,\u001b[0m \u001b[0mdtype\u001b[0m\u001b[1;33m=\u001b[0m\u001b[0mdtype\u001b[0m\u001b[1;33m)\u001b[0m\u001b[1;33m\u001b[0m\u001b[1;33m\u001b[0m\u001b[0m\n\u001b[0m\u001b[0;32m    258\u001b[0m \u001b[1;33m\u001b[0m\u001b[0m\n\u001b[0;32m    259\u001b[0m \u001b[1;33m\u001b[0m\u001b[0m\n",
         "\u001b[1;32m~\\AppData\\Roaming\\Python\\Python37\\site-packages\\pandas\\core\\internals\\construction.py\u001b[0m in \u001b[0;36marrays_to_mgr\u001b[1;34m(arrays, arr_names, index, columns, dtype)\u001b[0m\n\u001b[0;32m     75\u001b[0m     \u001b[1;31m# figure out the index, if necessary\u001b[0m\u001b[1;33m\u001b[0m\u001b[1;33m\u001b[0m\u001b[1;33m\u001b[0m\u001b[0m\n\u001b[0;32m     76\u001b[0m     \u001b[1;32mif\u001b[0m \u001b[0mindex\u001b[0m \u001b[1;32mis\u001b[0m \u001b[1;32mNone\u001b[0m\u001b[1;33m:\u001b[0m\u001b[1;33m\u001b[0m\u001b[1;33m\u001b[0m\u001b[0m\n\u001b[1;32m---> 77\u001b[1;33m         \u001b[0mindex\u001b[0m \u001b[1;33m=\u001b[0m \u001b[0mextract_index\u001b[0m\u001b[1;33m(\u001b[0m\u001b[0marrays\u001b[0m\u001b[1;33m)\u001b[0m\u001b[1;33m\u001b[0m\u001b[1;33m\u001b[0m\u001b[0m\n\u001b[0m\u001b[0;32m     78\u001b[0m     \u001b[1;32melse\u001b[0m\u001b[1;33m:\u001b[0m\u001b[1;33m\u001b[0m\u001b[1;33m\u001b[0m\u001b[0m\n\u001b[0;32m     79\u001b[0m         \u001b[0mindex\u001b[0m \u001b[1;33m=\u001b[0m \u001b[0mensure_index\u001b[0m\u001b[1;33m(\u001b[0m\u001b[0mindex\u001b[0m\u001b[1;33m)\u001b[0m\u001b[1;33m\u001b[0m\u001b[1;33m\u001b[0m\u001b[0m\n",
         "\u001b[1;32m~\\AppData\\Roaming\\Python\\Python37\\site-packages\\pandas\\core\\internals\\construction.py\u001b[0m in \u001b[0;36mextract_index\u001b[1;34m(data)\u001b[0m\n\u001b[0;32m    359\u001b[0m \u001b[1;33m\u001b[0m\u001b[0m\n\u001b[0;32m    360\u001b[0m         \u001b[1;32mif\u001b[0m \u001b[0mhave_series\u001b[0m\u001b[1;33m:\u001b[0m\u001b[1;33m\u001b[0m\u001b[1;33m\u001b[0m\u001b[0m\n\u001b[1;32m--> 361\u001b[1;33m             \u001b[0mindex\u001b[0m \u001b[1;33m=\u001b[0m \u001b[0m_union_indexes\u001b[0m\u001b[1;33m(\u001b[0m\u001b[0mindexes\u001b[0m\u001b[1;33m)\u001b[0m\u001b[1;33m\u001b[0m\u001b[1;33m\u001b[0m\u001b[0m\n\u001b[0m\u001b[0;32m    362\u001b[0m         \u001b[1;32melif\u001b[0m \u001b[0mhave_dicts\u001b[0m\u001b[1;33m:\u001b[0m\u001b[1;33m\u001b[0m\u001b[1;33m\u001b[0m\u001b[0m\n\u001b[0;32m    363\u001b[0m             \u001b[0mindex\u001b[0m \u001b[1;33m=\u001b[0m \u001b[0m_union_indexes\u001b[0m\u001b[1;33m(\u001b[0m\u001b[0mindexes\u001b[0m\u001b[1;33m,\u001b[0m \u001b[0msort\u001b[0m\u001b[1;33m=\u001b[0m\u001b[1;32mnot\u001b[0m \u001b[1;33m(\u001b[0m\u001b[0mcompat\u001b[0m\u001b[1;33m.\u001b[0m\u001b[0mPY36\u001b[0m \u001b[1;32mor\u001b[0m \u001b[0mhave_ordered\u001b[0m\u001b[1;33m)\u001b[0m\u001b[1;33m)\u001b[0m\u001b[1;33m\u001b[0m\u001b[1;33m\u001b[0m\u001b[0m\n",
         "\u001b[1;32m~\\AppData\\Roaming\\Python\\Python37\\site-packages\\pandas\\core\\indexes\\api.py\u001b[0m in \u001b[0;36m_union_indexes\u001b[1;34m(indexes, sort)\u001b[0m\n\u001b[0;32m    204\u001b[0m         \u001b[1;32melse\u001b[0m\u001b[1;33m:\u001b[0m\u001b[1;33m\u001b[0m\u001b[1;33m\u001b[0m\u001b[0m\n\u001b[0;32m    205\u001b[0m             \u001b[1;32mfor\u001b[0m \u001b[0mother\u001b[0m \u001b[1;32min\u001b[0m \u001b[0mindexes\u001b[0m\u001b[1;33m[\u001b[0m\u001b[1;36m1\u001b[0m\u001b[1;33m:\u001b[0m\u001b[1;33m]\u001b[0m\u001b[1;33m:\u001b[0m\u001b[1;33m\u001b[0m\u001b[1;33m\u001b[0m\u001b[0m\n\u001b[1;32m--> 206\u001b[1;33m                 \u001b[0mresult\u001b[0m \u001b[1;33m=\u001b[0m \u001b[0mresult\u001b[0m\u001b[1;33m.\u001b[0m\u001b[0munion\u001b[0m\u001b[1;33m(\u001b[0m\u001b[0mother\u001b[0m\u001b[1;33m)\u001b[0m\u001b[1;33m\u001b[0m\u001b[1;33m\u001b[0m\u001b[0m\n\u001b[0m\u001b[0;32m    207\u001b[0m             \u001b[1;32mreturn\u001b[0m \u001b[0mresult\u001b[0m\u001b[1;33m\u001b[0m\u001b[1;33m\u001b[0m\u001b[0m\n\u001b[0;32m    208\u001b[0m     \u001b[1;32melif\u001b[0m \u001b[0mkind\u001b[0m \u001b[1;33m==\u001b[0m \u001b[1;34m\"array\"\u001b[0m\u001b[1;33m:\u001b[0m\u001b[1;33m\u001b[0m\u001b[1;33m\u001b[0m\u001b[0m\n",
         "\u001b[1;32m~\\AppData\\Roaming\\Python\\Python37\\site-packages\\pandas\\core\\indexes\\base.py\u001b[0m in \u001b[0;36munion\u001b[1;34m(self, other, sort)\u001b[0m\n\u001b[0;32m   2517\u001b[0m             \u001b[1;32mreturn\u001b[0m \u001b[0mself\u001b[0m\u001b[1;33m.\u001b[0m\u001b[0m_union_incompatible_dtypes\u001b[0m\u001b[1;33m(\u001b[0m\u001b[0mother\u001b[0m\u001b[1;33m,\u001b[0m \u001b[0msort\u001b[0m\u001b[1;33m=\u001b[0m\u001b[0msort\u001b[0m\u001b[1;33m)\u001b[0m\u001b[1;33m\u001b[0m\u001b[1;33m\u001b[0m\u001b[0m\n\u001b[0;32m   2518\u001b[0m \u001b[1;33m\u001b[0m\u001b[0m\n\u001b[1;32m-> 2519\u001b[1;33m         \u001b[1;32mreturn\u001b[0m \u001b[0mself\u001b[0m\u001b[1;33m.\u001b[0m\u001b[0m_union\u001b[0m\u001b[1;33m(\u001b[0m\u001b[0mother\u001b[0m\u001b[1;33m,\u001b[0m \u001b[0msort\u001b[0m\u001b[1;33m=\u001b[0m\u001b[0msort\u001b[0m\u001b[1;33m)\u001b[0m\u001b[1;33m\u001b[0m\u001b[1;33m\u001b[0m\u001b[0m\n\u001b[0m\u001b[0;32m   2520\u001b[0m \u001b[1;33m\u001b[0m\u001b[0m\n\u001b[0;32m   2521\u001b[0m     \u001b[1;32mdef\u001b[0m \u001b[0m_union\u001b[0m\u001b[1;33m(\u001b[0m\u001b[0mself\u001b[0m\u001b[1;33m,\u001b[0m \u001b[0mother\u001b[0m\u001b[1;33m,\u001b[0m \u001b[0msort\u001b[0m\u001b[1;33m)\u001b[0m\u001b[1;33m:\u001b[0m\u001b[1;33m\u001b[0m\u001b[1;33m\u001b[0m\u001b[0m\n",
         "\u001b[1;32m~\\AppData\\Roaming\\Python\\Python37\\site-packages\\pandas\\core\\indexes\\numeric.py\u001b[0m in \u001b[0;36m_union\u001b[1;34m(self, other, sort)\u001b[0m\n\u001b[0;32m    161\u001b[0m             \u001b[1;32mreturn\u001b[0m \u001b[0mfirst\u001b[0m\u001b[1;33m.\u001b[0m\u001b[0m_union\u001b[0m\u001b[1;33m(\u001b[0m\u001b[0msecond\u001b[0m\u001b[1;33m,\u001b[0m \u001b[0msort\u001b[0m\u001b[1;33m)\u001b[0m\u001b[1;33m\u001b[0m\u001b[1;33m\u001b[0m\u001b[0m\n\u001b[0;32m    162\u001b[0m         \u001b[1;32melse\u001b[0m\u001b[1;33m:\u001b[0m\u001b[1;33m\u001b[0m\u001b[1;33m\u001b[0m\u001b[0m\n\u001b[1;32m--> 163\u001b[1;33m             \u001b[1;32mreturn\u001b[0m \u001b[0msuper\u001b[0m\u001b[1;33m(\u001b[0m\u001b[1;33m)\u001b[0m\u001b[1;33m.\u001b[0m\u001b[0m_union\u001b[0m\u001b[1;33m(\u001b[0m\u001b[0mother\u001b[0m\u001b[1;33m,\u001b[0m \u001b[0msort\u001b[0m\u001b[1;33m)\u001b[0m\u001b[1;33m\u001b[0m\u001b[1;33m\u001b[0m\u001b[0m\n\u001b[0m\u001b[0;32m    164\u001b[0m \u001b[1;33m\u001b[0m\u001b[0m\n\u001b[0;32m    165\u001b[0m \u001b[1;33m\u001b[0m\u001b[0m\n",
         "\u001b[1;32m~\\AppData\\Roaming\\Python\\Python37\\site-packages\\pandas\\core\\indexes\\base.py\u001b[0m in \u001b[0;36m_union\u001b[1;34m(self, other, sort)\u001b[0m\n\u001b[0;32m   2566\u001b[0m                 \u001b[0mresult\u001b[0m\u001b[1;33m.\u001b[0m\u001b[0mextend\u001b[0m\u001b[1;33m(\u001b[0m\u001b[1;33m[\u001b[0m\u001b[0mx\u001b[0m \u001b[1;32mfor\u001b[0m \u001b[0mx\u001b[0m \u001b[1;32min\u001b[0m \u001b[0mrvals\u001b[0m \u001b[1;32mif\u001b[0m \u001b[0mx\u001b[0m \u001b[1;32mnot\u001b[0m \u001b[1;32min\u001b[0m \u001b[0mvalue_set\u001b[0m\u001b[1;33m]\u001b[0m\u001b[1;33m)\u001b[0m\u001b[1;33m\u001b[0m\u001b[1;33m\u001b[0m\u001b[0m\n\u001b[0;32m   2567\u001b[0m         \u001b[1;32melse\u001b[0m\u001b[1;33m:\u001b[0m\u001b[1;33m\u001b[0m\u001b[1;33m\u001b[0m\u001b[0m\n\u001b[1;32m-> 2568\u001b[1;33m             \u001b[0mindexer\u001b[0m \u001b[1;33m=\u001b[0m \u001b[0mself\u001b[0m\u001b[1;33m.\u001b[0m\u001b[0mget_indexer\u001b[0m\u001b[1;33m(\u001b[0m\u001b[0mother\u001b[0m\u001b[1;33m)\u001b[0m\u001b[1;33m\u001b[0m\u001b[1;33m\u001b[0m\u001b[0m\n\u001b[0m\u001b[0;32m   2569\u001b[0m             \u001b[0mindexer\u001b[0m\u001b[1;33m,\u001b[0m \u001b[1;33m=\u001b[0m \u001b[1;33m(\u001b[0m\u001b[0mindexer\u001b[0m \u001b[1;33m==\u001b[0m \u001b[1;33m-\u001b[0m\u001b[1;36m1\u001b[0m\u001b[1;33m)\u001b[0m\u001b[1;33m.\u001b[0m\u001b[0mnonzero\u001b[0m\u001b[1;33m(\u001b[0m\u001b[1;33m)\u001b[0m\u001b[1;33m\u001b[0m\u001b[1;33m\u001b[0m\u001b[0m\n\u001b[0;32m   2570\u001b[0m \u001b[1;33m\u001b[0m\u001b[0m\n",
         "\u001b[1;32m~\\AppData\\Roaming\\Python\\Python37\\site-packages\\pandas\\core\\indexes\\base.py\u001b[0m in \u001b[0;36mget_indexer\u001b[1;34m(self, target, method, limit, tolerance)\u001b[0m\n\u001b[0;32m   2983\u001b[0m         \u001b[1;32mif\u001b[0m \u001b[1;32mnot\u001b[0m \u001b[0mself\u001b[0m\u001b[1;33m.\u001b[0m\u001b[0mis_unique\u001b[0m\u001b[1;33m:\u001b[0m\u001b[1;33m\u001b[0m\u001b[1;33m\u001b[0m\u001b[0m\n\u001b[0;32m   2984\u001b[0m             raise InvalidIndexError(\n\u001b[1;32m-> 2985\u001b[1;33m                 \u001b[1;34m\"Reindexing only valid with uniquely\"\u001b[0m \u001b[1;34m\" valued Index objects\"\u001b[0m\u001b[1;33m\u001b[0m\u001b[1;33m\u001b[0m\u001b[0m\n\u001b[0m\u001b[0;32m   2986\u001b[0m             )\n\u001b[0;32m   2987\u001b[0m \u001b[1;33m\u001b[0m\u001b[0m\n",
         "\u001b[1;31mInvalidIndexError\u001b[0m: Reindexing only valid with uniquely valued Index objects"
        ]
       }
      ],
      "source": "pd.DataFrame(\n    {\n        \"repo_url1\" : repository_info.url[ranking_nmf_multiplicative[0][0:9]], \n        #\"repo_description1\" : repository_info.description[ranking_nmf_multiplicative[0][0:9]],\n        \"repo_url2\" : repository_info.url[ranking_nmf_multiplicative[1][0:9]], \n        \"repo_description2\" : repository_info.description[ranking_nmf_multiplicative[1][0:9]],\n        \"score\" : ranking_nmf_multiplicative[2][0:9]\n    }\n)",
      "start_time": "2020-04-06T13:44:47.518Z"
     },
     {
      "end_time": "2020-04-06T13:45:55.058Z",
      "execution_time": "30ms",
      "outputs": [
       {
        "ename": "InvalidIndexError",
        "evalue": "Reindexing only valid with uniquely valued Index objects",
        "output_type": "error",
        "traceback": [
         "\u001b[1;31m---------------------------------------------------------------------------\u001b[0m",
         "\u001b[1;31mInvalidIndexError\u001b[0m                         Traceback (most recent call last)",
         "\u001b[1;32m<ipython-input-43-ea5a7593d610>\u001b[0m in \u001b[0;36m<module>\u001b[1;34m\u001b[0m\n\u001b[0;32m      5\u001b[0m         \u001b[1;31m#\"repo_url2\" : repository_info.url[ranking_nmf_multiplicative[1][0:9]],\u001b[0m\u001b[1;33m\u001b[0m\u001b[1;33m\u001b[0m\u001b[1;33m\u001b[0m\u001b[0m\n\u001b[0;32m      6\u001b[0m         \u001b[1;34m\"repo_description2\"\u001b[0m \u001b[1;33m:\u001b[0m \u001b[0mrepository_info\u001b[0m\u001b[1;33m.\u001b[0m\u001b[0mdescription\u001b[0m\u001b[1;33m[\u001b[0m\u001b[0mranking_nmf_multiplicative\u001b[0m\u001b[1;33m[\u001b[0m\u001b[1;36m1\u001b[0m\u001b[1;33m]\u001b[0m\u001b[1;33m[\u001b[0m\u001b[1;36m0\u001b[0m\u001b[1;33m:\u001b[0m\u001b[1;36m9\u001b[0m\u001b[1;33m]\u001b[0m\u001b[1;33m]\u001b[0m\u001b[1;33m,\u001b[0m\u001b[1;33m\u001b[0m\u001b[1;33m\u001b[0m\u001b[0m\n\u001b[1;32m----> 7\u001b[1;33m         \u001b[1;34m\"score\"\u001b[0m \u001b[1;33m:\u001b[0m \u001b[0mranking_nmf_multiplicative\u001b[0m\u001b[1;33m[\u001b[0m\u001b[1;36m2\u001b[0m\u001b[1;33m]\u001b[0m\u001b[1;33m[\u001b[0m\u001b[1;36m0\u001b[0m\u001b[1;33m:\u001b[0m\u001b[1;36m9\u001b[0m\u001b[1;33m]\u001b[0m\u001b[1;33m\u001b[0m\u001b[1;33m\u001b[0m\u001b[0m\n\u001b[0m\u001b[0;32m      8\u001b[0m     }\n\u001b[0;32m      9\u001b[0m )\n",
         "\u001b[1;32m~\\AppData\\Roaming\\Python\\Python37\\site-packages\\pandas\\core\\frame.py\u001b[0m in \u001b[0;36m__init__\u001b[1;34m(self, data, index, columns, dtype, copy)\u001b[0m\n\u001b[0;32m    409\u001b[0m             )\n\u001b[0;32m    410\u001b[0m         \u001b[1;32melif\u001b[0m \u001b[0misinstance\u001b[0m\u001b[1;33m(\u001b[0m\u001b[0mdata\u001b[0m\u001b[1;33m,\u001b[0m \u001b[0mdict\u001b[0m\u001b[1;33m)\u001b[0m\u001b[1;33m:\u001b[0m\u001b[1;33m\u001b[0m\u001b[1;33m\u001b[0m\u001b[0m\n\u001b[1;32m--> 411\u001b[1;33m             \u001b[0mmgr\u001b[0m \u001b[1;33m=\u001b[0m \u001b[0minit_dict\u001b[0m\u001b[1;33m(\u001b[0m\u001b[0mdata\u001b[0m\u001b[1;33m,\u001b[0m \u001b[0mindex\u001b[0m\u001b[1;33m,\u001b[0m \u001b[0mcolumns\u001b[0m\u001b[1;33m,\u001b[0m \u001b[0mdtype\u001b[0m\u001b[1;33m=\u001b[0m\u001b[0mdtype\u001b[0m\u001b[1;33m)\u001b[0m\u001b[1;33m\u001b[0m\u001b[1;33m\u001b[0m\u001b[0m\n\u001b[0m\u001b[0;32m    412\u001b[0m         \u001b[1;32melif\u001b[0m \u001b[0misinstance\u001b[0m\u001b[1;33m(\u001b[0m\u001b[0mdata\u001b[0m\u001b[1;33m,\u001b[0m \u001b[0mma\u001b[0m\u001b[1;33m.\u001b[0m\u001b[0mMaskedArray\u001b[0m\u001b[1;33m)\u001b[0m\u001b[1;33m:\u001b[0m\u001b[1;33m\u001b[0m\u001b[1;33m\u001b[0m\u001b[0m\n\u001b[0;32m    413\u001b[0m             \u001b[1;32mimport\u001b[0m \u001b[0mnumpy\u001b[0m\u001b[1;33m.\u001b[0m\u001b[0mma\u001b[0m\u001b[1;33m.\u001b[0m\u001b[0mmrecords\u001b[0m \u001b[1;32mas\u001b[0m \u001b[0mmrecords\u001b[0m\u001b[1;33m\u001b[0m\u001b[1;33m\u001b[0m\u001b[0m\n",
         "\u001b[1;32m~\\AppData\\Roaming\\Python\\Python37\\site-packages\\pandas\\core\\internals\\construction.py\u001b[0m in \u001b[0;36minit_dict\u001b[1;34m(data, index, columns, dtype)\u001b[0m\n\u001b[0;32m    255\u001b[0m             \u001b[0marr\u001b[0m \u001b[1;32mif\u001b[0m \u001b[1;32mnot\u001b[0m \u001b[0mis_datetime64tz_dtype\u001b[0m\u001b[1;33m(\u001b[0m\u001b[0marr\u001b[0m\u001b[1;33m)\u001b[0m \u001b[1;32melse\u001b[0m \u001b[0marr\u001b[0m\u001b[1;33m.\u001b[0m\u001b[0mcopy\u001b[0m\u001b[1;33m(\u001b[0m\u001b[1;33m)\u001b[0m \u001b[1;32mfor\u001b[0m \u001b[0marr\u001b[0m \u001b[1;32min\u001b[0m \u001b[0marrays\u001b[0m\u001b[1;33m\u001b[0m\u001b[1;33m\u001b[0m\u001b[0m\n\u001b[0;32m    256\u001b[0m         ]\n\u001b[1;32m--> 257\u001b[1;33m     \u001b[1;32mreturn\u001b[0m \u001b[0marrays_to_mgr\u001b[0m\u001b[1;33m(\u001b[0m\u001b[0marrays\u001b[0m\u001b[1;33m,\u001b[0m \u001b[0mdata_names\u001b[0m\u001b[1;33m,\u001b[0m \u001b[0mindex\u001b[0m\u001b[1;33m,\u001b[0m \u001b[0mcolumns\u001b[0m\u001b[1;33m,\u001b[0m \u001b[0mdtype\u001b[0m\u001b[1;33m=\u001b[0m\u001b[0mdtype\u001b[0m\u001b[1;33m)\u001b[0m\u001b[1;33m\u001b[0m\u001b[1;33m\u001b[0m\u001b[0m\n\u001b[0m\u001b[0;32m    258\u001b[0m \u001b[1;33m\u001b[0m\u001b[0m\n\u001b[0;32m    259\u001b[0m \u001b[1;33m\u001b[0m\u001b[0m\n",
         "\u001b[1;32m~\\AppData\\Roaming\\Python\\Python37\\site-packages\\pandas\\core\\internals\\construction.py\u001b[0m in \u001b[0;36marrays_to_mgr\u001b[1;34m(arrays, arr_names, index, columns, dtype)\u001b[0m\n\u001b[0;32m     75\u001b[0m     \u001b[1;31m# figure out the index, if necessary\u001b[0m\u001b[1;33m\u001b[0m\u001b[1;33m\u001b[0m\u001b[1;33m\u001b[0m\u001b[0m\n\u001b[0;32m     76\u001b[0m     \u001b[1;32mif\u001b[0m \u001b[0mindex\u001b[0m \u001b[1;32mis\u001b[0m \u001b[1;32mNone\u001b[0m\u001b[1;33m:\u001b[0m\u001b[1;33m\u001b[0m\u001b[1;33m\u001b[0m\u001b[0m\n\u001b[1;32m---> 77\u001b[1;33m         \u001b[0mindex\u001b[0m \u001b[1;33m=\u001b[0m \u001b[0mextract_index\u001b[0m\u001b[1;33m(\u001b[0m\u001b[0marrays\u001b[0m\u001b[1;33m)\u001b[0m\u001b[1;33m\u001b[0m\u001b[1;33m\u001b[0m\u001b[0m\n\u001b[0m\u001b[0;32m     78\u001b[0m     \u001b[1;32melse\u001b[0m\u001b[1;33m:\u001b[0m\u001b[1;33m\u001b[0m\u001b[1;33m\u001b[0m\u001b[0m\n\u001b[0;32m     79\u001b[0m         \u001b[0mindex\u001b[0m \u001b[1;33m=\u001b[0m \u001b[0mensure_index\u001b[0m\u001b[1;33m(\u001b[0m\u001b[0mindex\u001b[0m\u001b[1;33m)\u001b[0m\u001b[1;33m\u001b[0m\u001b[1;33m\u001b[0m\u001b[0m\n",
         "\u001b[1;32m~\\AppData\\Roaming\\Python\\Python37\\site-packages\\pandas\\core\\internals\\construction.py\u001b[0m in \u001b[0;36mextract_index\u001b[1;34m(data)\u001b[0m\n\u001b[0;32m    359\u001b[0m \u001b[1;33m\u001b[0m\u001b[0m\n\u001b[0;32m    360\u001b[0m         \u001b[1;32mif\u001b[0m \u001b[0mhave_series\u001b[0m\u001b[1;33m:\u001b[0m\u001b[1;33m\u001b[0m\u001b[1;33m\u001b[0m\u001b[0m\n\u001b[1;32m--> 361\u001b[1;33m             \u001b[0mindex\u001b[0m \u001b[1;33m=\u001b[0m \u001b[0m_union_indexes\u001b[0m\u001b[1;33m(\u001b[0m\u001b[0mindexes\u001b[0m\u001b[1;33m)\u001b[0m\u001b[1;33m\u001b[0m\u001b[1;33m\u001b[0m\u001b[0m\n\u001b[0m\u001b[0;32m    362\u001b[0m         \u001b[1;32melif\u001b[0m \u001b[0mhave_dicts\u001b[0m\u001b[1;33m:\u001b[0m\u001b[1;33m\u001b[0m\u001b[1;33m\u001b[0m\u001b[0m\n\u001b[0;32m    363\u001b[0m             \u001b[0mindex\u001b[0m \u001b[1;33m=\u001b[0m \u001b[0m_union_indexes\u001b[0m\u001b[1;33m(\u001b[0m\u001b[0mindexes\u001b[0m\u001b[1;33m,\u001b[0m \u001b[0msort\u001b[0m\u001b[1;33m=\u001b[0m\u001b[1;32mnot\u001b[0m \u001b[1;33m(\u001b[0m\u001b[0mcompat\u001b[0m\u001b[1;33m.\u001b[0m\u001b[0mPY36\u001b[0m \u001b[1;32mor\u001b[0m \u001b[0mhave_ordered\u001b[0m\u001b[1;33m)\u001b[0m\u001b[1;33m)\u001b[0m\u001b[1;33m\u001b[0m\u001b[1;33m\u001b[0m\u001b[0m\n",
         "\u001b[1;32m~\\AppData\\Roaming\\Python\\Python37\\site-packages\\pandas\\core\\indexes\\api.py\u001b[0m in \u001b[0;36m_union_indexes\u001b[1;34m(indexes, sort)\u001b[0m\n\u001b[0;32m    204\u001b[0m         \u001b[1;32melse\u001b[0m\u001b[1;33m:\u001b[0m\u001b[1;33m\u001b[0m\u001b[1;33m\u001b[0m\u001b[0m\n\u001b[0;32m    205\u001b[0m             \u001b[1;32mfor\u001b[0m \u001b[0mother\u001b[0m \u001b[1;32min\u001b[0m \u001b[0mindexes\u001b[0m\u001b[1;33m[\u001b[0m\u001b[1;36m1\u001b[0m\u001b[1;33m:\u001b[0m\u001b[1;33m]\u001b[0m\u001b[1;33m:\u001b[0m\u001b[1;33m\u001b[0m\u001b[1;33m\u001b[0m\u001b[0m\n\u001b[1;32m--> 206\u001b[1;33m                 \u001b[0mresult\u001b[0m \u001b[1;33m=\u001b[0m \u001b[0mresult\u001b[0m\u001b[1;33m.\u001b[0m\u001b[0munion\u001b[0m\u001b[1;33m(\u001b[0m\u001b[0mother\u001b[0m\u001b[1;33m)\u001b[0m\u001b[1;33m\u001b[0m\u001b[1;33m\u001b[0m\u001b[0m\n\u001b[0m\u001b[0;32m    207\u001b[0m             \u001b[1;32mreturn\u001b[0m \u001b[0mresult\u001b[0m\u001b[1;33m\u001b[0m\u001b[1;33m\u001b[0m\u001b[0m\n\u001b[0;32m    208\u001b[0m     \u001b[1;32melif\u001b[0m \u001b[0mkind\u001b[0m \u001b[1;33m==\u001b[0m \u001b[1;34m\"array\"\u001b[0m\u001b[1;33m:\u001b[0m\u001b[1;33m\u001b[0m\u001b[1;33m\u001b[0m\u001b[0m\n",
         "\u001b[1;32m~\\AppData\\Roaming\\Python\\Python37\\site-packages\\pandas\\core\\indexes\\base.py\u001b[0m in \u001b[0;36munion\u001b[1;34m(self, other, sort)\u001b[0m\n\u001b[0;32m   2517\u001b[0m             \u001b[1;32mreturn\u001b[0m \u001b[0mself\u001b[0m\u001b[1;33m.\u001b[0m\u001b[0m_union_incompatible_dtypes\u001b[0m\u001b[1;33m(\u001b[0m\u001b[0mother\u001b[0m\u001b[1;33m,\u001b[0m \u001b[0msort\u001b[0m\u001b[1;33m=\u001b[0m\u001b[0msort\u001b[0m\u001b[1;33m)\u001b[0m\u001b[1;33m\u001b[0m\u001b[1;33m\u001b[0m\u001b[0m\n\u001b[0;32m   2518\u001b[0m \u001b[1;33m\u001b[0m\u001b[0m\n\u001b[1;32m-> 2519\u001b[1;33m         \u001b[1;32mreturn\u001b[0m \u001b[0mself\u001b[0m\u001b[1;33m.\u001b[0m\u001b[0m_union\u001b[0m\u001b[1;33m(\u001b[0m\u001b[0mother\u001b[0m\u001b[1;33m,\u001b[0m \u001b[0msort\u001b[0m\u001b[1;33m=\u001b[0m\u001b[0msort\u001b[0m\u001b[1;33m)\u001b[0m\u001b[1;33m\u001b[0m\u001b[1;33m\u001b[0m\u001b[0m\n\u001b[0m\u001b[0;32m   2520\u001b[0m \u001b[1;33m\u001b[0m\u001b[0m\n\u001b[0;32m   2521\u001b[0m     \u001b[1;32mdef\u001b[0m \u001b[0m_union\u001b[0m\u001b[1;33m(\u001b[0m\u001b[0mself\u001b[0m\u001b[1;33m,\u001b[0m \u001b[0mother\u001b[0m\u001b[1;33m,\u001b[0m \u001b[0msort\u001b[0m\u001b[1;33m)\u001b[0m\u001b[1;33m:\u001b[0m\u001b[1;33m\u001b[0m\u001b[1;33m\u001b[0m\u001b[0m\n",
         "\u001b[1;32m~\\AppData\\Roaming\\Python\\Python37\\site-packages\\pandas\\core\\indexes\\numeric.py\u001b[0m in \u001b[0;36m_union\u001b[1;34m(self, other, sort)\u001b[0m\n\u001b[0;32m    161\u001b[0m             \u001b[1;32mreturn\u001b[0m \u001b[0mfirst\u001b[0m\u001b[1;33m.\u001b[0m\u001b[0m_union\u001b[0m\u001b[1;33m(\u001b[0m\u001b[0msecond\u001b[0m\u001b[1;33m,\u001b[0m \u001b[0msort\u001b[0m\u001b[1;33m)\u001b[0m\u001b[1;33m\u001b[0m\u001b[1;33m\u001b[0m\u001b[0m\n\u001b[0;32m    162\u001b[0m         \u001b[1;32melse\u001b[0m\u001b[1;33m:\u001b[0m\u001b[1;33m\u001b[0m\u001b[1;33m\u001b[0m\u001b[0m\n\u001b[1;32m--> 163\u001b[1;33m             \u001b[1;32mreturn\u001b[0m \u001b[0msuper\u001b[0m\u001b[1;33m(\u001b[0m\u001b[1;33m)\u001b[0m\u001b[1;33m.\u001b[0m\u001b[0m_union\u001b[0m\u001b[1;33m(\u001b[0m\u001b[0mother\u001b[0m\u001b[1;33m,\u001b[0m \u001b[0msort\u001b[0m\u001b[1;33m)\u001b[0m\u001b[1;33m\u001b[0m\u001b[1;33m\u001b[0m\u001b[0m\n\u001b[0m\u001b[0;32m    164\u001b[0m \u001b[1;33m\u001b[0m\u001b[0m\n\u001b[0;32m    165\u001b[0m \u001b[1;33m\u001b[0m\u001b[0m\n",
         "\u001b[1;32m~\\AppData\\Roaming\\Python\\Python37\\site-packages\\pandas\\core\\indexes\\base.py\u001b[0m in \u001b[0;36m_union\u001b[1;34m(self, other, sort)\u001b[0m\n\u001b[0;32m   2566\u001b[0m                 \u001b[0mresult\u001b[0m\u001b[1;33m.\u001b[0m\u001b[0mextend\u001b[0m\u001b[1;33m(\u001b[0m\u001b[1;33m[\u001b[0m\u001b[0mx\u001b[0m \u001b[1;32mfor\u001b[0m \u001b[0mx\u001b[0m \u001b[1;32min\u001b[0m \u001b[0mrvals\u001b[0m \u001b[1;32mif\u001b[0m \u001b[0mx\u001b[0m \u001b[1;32mnot\u001b[0m \u001b[1;32min\u001b[0m \u001b[0mvalue_set\u001b[0m\u001b[1;33m]\u001b[0m\u001b[1;33m)\u001b[0m\u001b[1;33m\u001b[0m\u001b[1;33m\u001b[0m\u001b[0m\n\u001b[0;32m   2567\u001b[0m         \u001b[1;32melse\u001b[0m\u001b[1;33m:\u001b[0m\u001b[1;33m\u001b[0m\u001b[1;33m\u001b[0m\u001b[0m\n\u001b[1;32m-> 2568\u001b[1;33m             \u001b[0mindexer\u001b[0m \u001b[1;33m=\u001b[0m \u001b[0mself\u001b[0m\u001b[1;33m.\u001b[0m\u001b[0mget_indexer\u001b[0m\u001b[1;33m(\u001b[0m\u001b[0mother\u001b[0m\u001b[1;33m)\u001b[0m\u001b[1;33m\u001b[0m\u001b[1;33m\u001b[0m\u001b[0m\n\u001b[0m\u001b[0;32m   2569\u001b[0m             \u001b[0mindexer\u001b[0m\u001b[1;33m,\u001b[0m \u001b[1;33m=\u001b[0m \u001b[1;33m(\u001b[0m\u001b[0mindexer\u001b[0m \u001b[1;33m==\u001b[0m \u001b[1;33m-\u001b[0m\u001b[1;36m1\u001b[0m\u001b[1;33m)\u001b[0m\u001b[1;33m.\u001b[0m\u001b[0mnonzero\u001b[0m\u001b[1;33m(\u001b[0m\u001b[1;33m)\u001b[0m\u001b[1;33m\u001b[0m\u001b[1;33m\u001b[0m\u001b[0m\n\u001b[0;32m   2570\u001b[0m \u001b[1;33m\u001b[0m\u001b[0m\n",
         "\u001b[1;32m~\\AppData\\Roaming\\Python\\Python37\\site-packages\\pandas\\core\\indexes\\base.py\u001b[0m in \u001b[0;36mget_indexer\u001b[1;34m(self, target, method, limit, tolerance)\u001b[0m\n\u001b[0;32m   2983\u001b[0m         \u001b[1;32mif\u001b[0m \u001b[1;32mnot\u001b[0m \u001b[0mself\u001b[0m\u001b[1;33m.\u001b[0m\u001b[0mis_unique\u001b[0m\u001b[1;33m:\u001b[0m\u001b[1;33m\u001b[0m\u001b[1;33m\u001b[0m\u001b[0m\n\u001b[0;32m   2984\u001b[0m             raise InvalidIndexError(\n\u001b[1;32m-> 2985\u001b[1;33m                 \u001b[1;34m\"Reindexing only valid with uniquely\"\u001b[0m \u001b[1;34m\" valued Index objects\"\u001b[0m\u001b[1;33m\u001b[0m\u001b[1;33m\u001b[0m\u001b[0m\n\u001b[0m\u001b[0;32m   2986\u001b[0m             )\n\u001b[0;32m   2987\u001b[0m \u001b[1;33m\u001b[0m\u001b[0m\n",
         "\u001b[1;31mInvalidIndexError\u001b[0m: Reindexing only valid with uniquely valued Index objects"
        ]
       }
      ],
      "source": "pd.DataFrame(\n    {\n        \"repo_url1\" : repository_info.url[ranking_nmf_multiplicative[0][0:9]], \n        #\"repo_description1\" : repository_info.description[ranking_nmf_multiplicative[0][0:9]],\n        #\"repo_url2\" : repository_info.url[ranking_nmf_multiplicative[1][0:9]], \n        \"repo_description2\" : repository_info.description[ranking_nmf_multiplicative[1][0:9]],\n        \"score\" : ranking_nmf_multiplicative[2][0:9]\n    }\n)",
      "start_time": "2020-04-06T13:45:55.028Z"
     },
     {
      "end_time": "2020-04-06T13:50:11.031Z",
      "execution_time": "23ms",
      "outputs": [
       {
        "ename": "InvalidIndexError",
        "evalue": "Reindexing only valid with uniquely valued Index objects",
        "output_type": "error",
        "traceback": [
         "\u001b[1;31m---------------------------------------------------------------------------\u001b[0m",
         "\u001b[1;31mInvalidIndexError\u001b[0m                         Traceback (most recent call last)",
         "\u001b[1;32m<ipython-input-48-cba7b110a649>\u001b[0m in \u001b[0;36m<module>\u001b[1;34m\u001b[0m\n\u001b[0;32m      5\u001b[0m         \u001b[1;34m\"repo_url2\"\u001b[0m \u001b[1;33m:\u001b[0m \u001b[0mrepository_info\u001b[0m\u001b[1;33m.\u001b[0m\u001b[0murl\u001b[0m\u001b[1;33m[\u001b[0m\u001b[0mranking_nmf_multiplicative\u001b[0m\u001b[1;33m[\u001b[0m\u001b[1;36m1\u001b[0m\u001b[1;33m]\u001b[0m\u001b[1;33m[\u001b[0m\u001b[1;36m0\u001b[0m\u001b[1;33m:\u001b[0m\u001b[1;36m9\u001b[0m\u001b[1;33m]\u001b[0m\u001b[1;33m]\u001b[0m\u001b[1;33m,\u001b[0m\u001b[1;33m\u001b[0m\u001b[1;33m\u001b[0m\u001b[0m\n\u001b[0;32m      6\u001b[0m         \u001b[1;34m\"repo_description2\"\u001b[0m \u001b[1;33m:\u001b[0m \u001b[0mrepository_info\u001b[0m\u001b[1;33m.\u001b[0m\u001b[0mdescription\u001b[0m\u001b[1;33m[\u001b[0m\u001b[0mranking_nmf_multiplicative\u001b[0m\u001b[1;33m[\u001b[0m\u001b[1;36m1\u001b[0m\u001b[1;33m]\u001b[0m\u001b[1;33m[\u001b[0m\u001b[1;36m0\u001b[0m\u001b[1;33m:\u001b[0m\u001b[1;36m9\u001b[0m\u001b[1;33m]\u001b[0m\u001b[1;33m]\u001b[0m\u001b[1;33m,\u001b[0m\u001b[1;33m\u001b[0m\u001b[1;33m\u001b[0m\u001b[0m\n\u001b[1;32m----> 7\u001b[1;33m         \u001b[1;34m\"score\"\u001b[0m \u001b[1;33m:\u001b[0m \u001b[0mranking_nmf_multiplicative\u001b[0m\u001b[1;33m[\u001b[0m\u001b[1;36m2\u001b[0m\u001b[1;33m]\u001b[0m\u001b[1;33m[\u001b[0m\u001b[1;36m0\u001b[0m\u001b[1;33m:\u001b[0m\u001b[1;36m9\u001b[0m\u001b[1;33m]\u001b[0m\u001b[1;33m\u001b[0m\u001b[1;33m\u001b[0m\u001b[0m\n\u001b[0m\u001b[0;32m      8\u001b[0m     }\n\u001b[0;32m      9\u001b[0m )\n",
         "\u001b[1;32m~\\AppData\\Roaming\\Python\\Python37\\site-packages\\pandas\\core\\frame.py\u001b[0m in \u001b[0;36m__init__\u001b[1;34m(self, data, index, columns, dtype, copy)\u001b[0m\n\u001b[0;32m    409\u001b[0m             )\n\u001b[0;32m    410\u001b[0m         \u001b[1;32melif\u001b[0m \u001b[0misinstance\u001b[0m\u001b[1;33m(\u001b[0m\u001b[0mdata\u001b[0m\u001b[1;33m,\u001b[0m \u001b[0mdict\u001b[0m\u001b[1;33m)\u001b[0m\u001b[1;33m:\u001b[0m\u001b[1;33m\u001b[0m\u001b[1;33m\u001b[0m\u001b[0m\n\u001b[1;32m--> 411\u001b[1;33m             \u001b[0mmgr\u001b[0m \u001b[1;33m=\u001b[0m \u001b[0minit_dict\u001b[0m\u001b[1;33m(\u001b[0m\u001b[0mdata\u001b[0m\u001b[1;33m,\u001b[0m \u001b[0mindex\u001b[0m\u001b[1;33m,\u001b[0m \u001b[0mcolumns\u001b[0m\u001b[1;33m,\u001b[0m \u001b[0mdtype\u001b[0m\u001b[1;33m=\u001b[0m\u001b[0mdtype\u001b[0m\u001b[1;33m)\u001b[0m\u001b[1;33m\u001b[0m\u001b[1;33m\u001b[0m\u001b[0m\n\u001b[0m\u001b[0;32m    412\u001b[0m         \u001b[1;32melif\u001b[0m \u001b[0misinstance\u001b[0m\u001b[1;33m(\u001b[0m\u001b[0mdata\u001b[0m\u001b[1;33m,\u001b[0m \u001b[0mma\u001b[0m\u001b[1;33m.\u001b[0m\u001b[0mMaskedArray\u001b[0m\u001b[1;33m)\u001b[0m\u001b[1;33m:\u001b[0m\u001b[1;33m\u001b[0m\u001b[1;33m\u001b[0m\u001b[0m\n\u001b[0;32m    413\u001b[0m             \u001b[1;32mimport\u001b[0m \u001b[0mnumpy\u001b[0m\u001b[1;33m.\u001b[0m\u001b[0mma\u001b[0m\u001b[1;33m.\u001b[0m\u001b[0mmrecords\u001b[0m \u001b[1;32mas\u001b[0m \u001b[0mmrecords\u001b[0m\u001b[1;33m\u001b[0m\u001b[1;33m\u001b[0m\u001b[0m\n",
         "\u001b[1;32m~\\AppData\\Roaming\\Python\\Python37\\site-packages\\pandas\\core\\internals\\construction.py\u001b[0m in \u001b[0;36minit_dict\u001b[1;34m(data, index, columns, dtype)\u001b[0m\n\u001b[0;32m    255\u001b[0m             \u001b[0marr\u001b[0m \u001b[1;32mif\u001b[0m \u001b[1;32mnot\u001b[0m \u001b[0mis_datetime64tz_dtype\u001b[0m\u001b[1;33m(\u001b[0m\u001b[0marr\u001b[0m\u001b[1;33m)\u001b[0m \u001b[1;32melse\u001b[0m \u001b[0marr\u001b[0m\u001b[1;33m.\u001b[0m\u001b[0mcopy\u001b[0m\u001b[1;33m(\u001b[0m\u001b[1;33m)\u001b[0m \u001b[1;32mfor\u001b[0m \u001b[0marr\u001b[0m \u001b[1;32min\u001b[0m \u001b[0marrays\u001b[0m\u001b[1;33m\u001b[0m\u001b[1;33m\u001b[0m\u001b[0m\n\u001b[0;32m    256\u001b[0m         ]\n\u001b[1;32m--> 257\u001b[1;33m     \u001b[1;32mreturn\u001b[0m \u001b[0marrays_to_mgr\u001b[0m\u001b[1;33m(\u001b[0m\u001b[0marrays\u001b[0m\u001b[1;33m,\u001b[0m \u001b[0mdata_names\u001b[0m\u001b[1;33m,\u001b[0m \u001b[0mindex\u001b[0m\u001b[1;33m,\u001b[0m \u001b[0mcolumns\u001b[0m\u001b[1;33m,\u001b[0m \u001b[0mdtype\u001b[0m\u001b[1;33m=\u001b[0m\u001b[0mdtype\u001b[0m\u001b[1;33m)\u001b[0m\u001b[1;33m\u001b[0m\u001b[1;33m\u001b[0m\u001b[0m\n\u001b[0m\u001b[0;32m    258\u001b[0m \u001b[1;33m\u001b[0m\u001b[0m\n\u001b[0;32m    259\u001b[0m \u001b[1;33m\u001b[0m\u001b[0m\n",
         "\u001b[1;32m~\\AppData\\Roaming\\Python\\Python37\\site-packages\\pandas\\core\\internals\\construction.py\u001b[0m in \u001b[0;36marrays_to_mgr\u001b[1;34m(arrays, arr_names, index, columns, dtype)\u001b[0m\n\u001b[0;32m     75\u001b[0m     \u001b[1;31m# figure out the index, if necessary\u001b[0m\u001b[1;33m\u001b[0m\u001b[1;33m\u001b[0m\u001b[1;33m\u001b[0m\u001b[0m\n\u001b[0;32m     76\u001b[0m     \u001b[1;32mif\u001b[0m \u001b[0mindex\u001b[0m \u001b[1;32mis\u001b[0m \u001b[1;32mNone\u001b[0m\u001b[1;33m:\u001b[0m\u001b[1;33m\u001b[0m\u001b[1;33m\u001b[0m\u001b[0m\n\u001b[1;32m---> 77\u001b[1;33m         \u001b[0mindex\u001b[0m \u001b[1;33m=\u001b[0m \u001b[0mextract_index\u001b[0m\u001b[1;33m(\u001b[0m\u001b[0marrays\u001b[0m\u001b[1;33m)\u001b[0m\u001b[1;33m\u001b[0m\u001b[1;33m\u001b[0m\u001b[0m\n\u001b[0m\u001b[0;32m     78\u001b[0m     \u001b[1;32melse\u001b[0m\u001b[1;33m:\u001b[0m\u001b[1;33m\u001b[0m\u001b[1;33m\u001b[0m\u001b[0m\n\u001b[0;32m     79\u001b[0m         \u001b[0mindex\u001b[0m \u001b[1;33m=\u001b[0m \u001b[0mensure_index\u001b[0m\u001b[1;33m(\u001b[0m\u001b[0mindex\u001b[0m\u001b[1;33m)\u001b[0m\u001b[1;33m\u001b[0m\u001b[1;33m\u001b[0m\u001b[0m\n",
         "\u001b[1;32m~\\AppData\\Roaming\\Python\\Python37\\site-packages\\pandas\\core\\internals\\construction.py\u001b[0m in \u001b[0;36mextract_index\u001b[1;34m(data)\u001b[0m\n\u001b[0;32m    359\u001b[0m \u001b[1;33m\u001b[0m\u001b[0m\n\u001b[0;32m    360\u001b[0m         \u001b[1;32mif\u001b[0m \u001b[0mhave_series\u001b[0m\u001b[1;33m:\u001b[0m\u001b[1;33m\u001b[0m\u001b[1;33m\u001b[0m\u001b[0m\n\u001b[1;32m--> 361\u001b[1;33m             \u001b[0mindex\u001b[0m \u001b[1;33m=\u001b[0m \u001b[0m_union_indexes\u001b[0m\u001b[1;33m(\u001b[0m\u001b[0mindexes\u001b[0m\u001b[1;33m)\u001b[0m\u001b[1;33m\u001b[0m\u001b[1;33m\u001b[0m\u001b[0m\n\u001b[0m\u001b[0;32m    362\u001b[0m         \u001b[1;32melif\u001b[0m \u001b[0mhave_dicts\u001b[0m\u001b[1;33m:\u001b[0m\u001b[1;33m\u001b[0m\u001b[1;33m\u001b[0m\u001b[0m\n\u001b[0;32m    363\u001b[0m             \u001b[0mindex\u001b[0m \u001b[1;33m=\u001b[0m \u001b[0m_union_indexes\u001b[0m\u001b[1;33m(\u001b[0m\u001b[0mindexes\u001b[0m\u001b[1;33m,\u001b[0m \u001b[0msort\u001b[0m\u001b[1;33m=\u001b[0m\u001b[1;32mnot\u001b[0m \u001b[1;33m(\u001b[0m\u001b[0mcompat\u001b[0m\u001b[1;33m.\u001b[0m\u001b[0mPY36\u001b[0m \u001b[1;32mor\u001b[0m \u001b[0mhave_ordered\u001b[0m\u001b[1;33m)\u001b[0m\u001b[1;33m)\u001b[0m\u001b[1;33m\u001b[0m\u001b[1;33m\u001b[0m\u001b[0m\n",
         "\u001b[1;32m~\\AppData\\Roaming\\Python\\Python37\\site-packages\\pandas\\core\\indexes\\api.py\u001b[0m in \u001b[0;36m_union_indexes\u001b[1;34m(indexes, sort)\u001b[0m\n\u001b[0;32m    204\u001b[0m         \u001b[1;32melse\u001b[0m\u001b[1;33m:\u001b[0m\u001b[1;33m\u001b[0m\u001b[1;33m\u001b[0m\u001b[0m\n\u001b[0;32m    205\u001b[0m             \u001b[1;32mfor\u001b[0m \u001b[0mother\u001b[0m \u001b[1;32min\u001b[0m \u001b[0mindexes\u001b[0m\u001b[1;33m[\u001b[0m\u001b[1;36m1\u001b[0m\u001b[1;33m:\u001b[0m\u001b[1;33m]\u001b[0m\u001b[1;33m:\u001b[0m\u001b[1;33m\u001b[0m\u001b[1;33m\u001b[0m\u001b[0m\n\u001b[1;32m--> 206\u001b[1;33m                 \u001b[0mresult\u001b[0m \u001b[1;33m=\u001b[0m \u001b[0mresult\u001b[0m\u001b[1;33m.\u001b[0m\u001b[0munion\u001b[0m\u001b[1;33m(\u001b[0m\u001b[0mother\u001b[0m\u001b[1;33m)\u001b[0m\u001b[1;33m\u001b[0m\u001b[1;33m\u001b[0m\u001b[0m\n\u001b[0m\u001b[0;32m    207\u001b[0m             \u001b[1;32mreturn\u001b[0m \u001b[0mresult\u001b[0m\u001b[1;33m\u001b[0m\u001b[1;33m\u001b[0m\u001b[0m\n\u001b[0;32m    208\u001b[0m     \u001b[1;32melif\u001b[0m \u001b[0mkind\u001b[0m \u001b[1;33m==\u001b[0m \u001b[1;34m\"array\"\u001b[0m\u001b[1;33m:\u001b[0m\u001b[1;33m\u001b[0m\u001b[1;33m\u001b[0m\u001b[0m\n",
         "\u001b[1;32m~\\AppData\\Roaming\\Python\\Python37\\site-packages\\pandas\\core\\indexes\\base.py\u001b[0m in \u001b[0;36munion\u001b[1;34m(self, other, sort)\u001b[0m\n\u001b[0;32m   2517\u001b[0m             \u001b[1;32mreturn\u001b[0m \u001b[0mself\u001b[0m\u001b[1;33m.\u001b[0m\u001b[0m_union_incompatible_dtypes\u001b[0m\u001b[1;33m(\u001b[0m\u001b[0mother\u001b[0m\u001b[1;33m,\u001b[0m \u001b[0msort\u001b[0m\u001b[1;33m=\u001b[0m\u001b[0msort\u001b[0m\u001b[1;33m)\u001b[0m\u001b[1;33m\u001b[0m\u001b[1;33m\u001b[0m\u001b[0m\n\u001b[0;32m   2518\u001b[0m \u001b[1;33m\u001b[0m\u001b[0m\n\u001b[1;32m-> 2519\u001b[1;33m         \u001b[1;32mreturn\u001b[0m \u001b[0mself\u001b[0m\u001b[1;33m.\u001b[0m\u001b[0m_union\u001b[0m\u001b[1;33m(\u001b[0m\u001b[0mother\u001b[0m\u001b[1;33m,\u001b[0m \u001b[0msort\u001b[0m\u001b[1;33m=\u001b[0m\u001b[0msort\u001b[0m\u001b[1;33m)\u001b[0m\u001b[1;33m\u001b[0m\u001b[1;33m\u001b[0m\u001b[0m\n\u001b[0m\u001b[0;32m   2520\u001b[0m \u001b[1;33m\u001b[0m\u001b[0m\n\u001b[0;32m   2521\u001b[0m     \u001b[1;32mdef\u001b[0m \u001b[0m_union\u001b[0m\u001b[1;33m(\u001b[0m\u001b[0mself\u001b[0m\u001b[1;33m,\u001b[0m \u001b[0mother\u001b[0m\u001b[1;33m,\u001b[0m \u001b[0msort\u001b[0m\u001b[1;33m)\u001b[0m\u001b[1;33m:\u001b[0m\u001b[1;33m\u001b[0m\u001b[1;33m\u001b[0m\u001b[0m\n",
         "\u001b[1;32m~\\AppData\\Roaming\\Python\\Python37\\site-packages\\pandas\\core\\indexes\\numeric.py\u001b[0m in \u001b[0;36m_union\u001b[1;34m(self, other, sort)\u001b[0m\n\u001b[0;32m    161\u001b[0m             \u001b[1;32mreturn\u001b[0m \u001b[0mfirst\u001b[0m\u001b[1;33m.\u001b[0m\u001b[0m_union\u001b[0m\u001b[1;33m(\u001b[0m\u001b[0msecond\u001b[0m\u001b[1;33m,\u001b[0m \u001b[0msort\u001b[0m\u001b[1;33m)\u001b[0m\u001b[1;33m\u001b[0m\u001b[1;33m\u001b[0m\u001b[0m\n\u001b[0;32m    162\u001b[0m         \u001b[1;32melse\u001b[0m\u001b[1;33m:\u001b[0m\u001b[1;33m\u001b[0m\u001b[1;33m\u001b[0m\u001b[0m\n\u001b[1;32m--> 163\u001b[1;33m             \u001b[1;32mreturn\u001b[0m \u001b[0msuper\u001b[0m\u001b[1;33m(\u001b[0m\u001b[1;33m)\u001b[0m\u001b[1;33m.\u001b[0m\u001b[0m_union\u001b[0m\u001b[1;33m(\u001b[0m\u001b[0mother\u001b[0m\u001b[1;33m,\u001b[0m \u001b[0msort\u001b[0m\u001b[1;33m)\u001b[0m\u001b[1;33m\u001b[0m\u001b[1;33m\u001b[0m\u001b[0m\n\u001b[0m\u001b[0;32m    164\u001b[0m \u001b[1;33m\u001b[0m\u001b[0m\n\u001b[0;32m    165\u001b[0m \u001b[1;33m\u001b[0m\u001b[0m\n",
         "\u001b[1;32m~\\AppData\\Roaming\\Python\\Python37\\site-packages\\pandas\\core\\indexes\\base.py\u001b[0m in \u001b[0;36m_union\u001b[1;34m(self, other, sort)\u001b[0m\n\u001b[0;32m   2566\u001b[0m                 \u001b[0mresult\u001b[0m\u001b[1;33m.\u001b[0m\u001b[0mextend\u001b[0m\u001b[1;33m(\u001b[0m\u001b[1;33m[\u001b[0m\u001b[0mx\u001b[0m \u001b[1;32mfor\u001b[0m \u001b[0mx\u001b[0m \u001b[1;32min\u001b[0m \u001b[0mrvals\u001b[0m \u001b[1;32mif\u001b[0m \u001b[0mx\u001b[0m \u001b[1;32mnot\u001b[0m \u001b[1;32min\u001b[0m \u001b[0mvalue_set\u001b[0m\u001b[1;33m]\u001b[0m\u001b[1;33m)\u001b[0m\u001b[1;33m\u001b[0m\u001b[1;33m\u001b[0m\u001b[0m\n\u001b[0;32m   2567\u001b[0m         \u001b[1;32melse\u001b[0m\u001b[1;33m:\u001b[0m\u001b[1;33m\u001b[0m\u001b[1;33m\u001b[0m\u001b[0m\n\u001b[1;32m-> 2568\u001b[1;33m             \u001b[0mindexer\u001b[0m \u001b[1;33m=\u001b[0m \u001b[0mself\u001b[0m\u001b[1;33m.\u001b[0m\u001b[0mget_indexer\u001b[0m\u001b[1;33m(\u001b[0m\u001b[0mother\u001b[0m\u001b[1;33m)\u001b[0m\u001b[1;33m\u001b[0m\u001b[1;33m\u001b[0m\u001b[0m\n\u001b[0m\u001b[0;32m   2569\u001b[0m             \u001b[0mindexer\u001b[0m\u001b[1;33m,\u001b[0m \u001b[1;33m=\u001b[0m \u001b[1;33m(\u001b[0m\u001b[0mindexer\u001b[0m \u001b[1;33m==\u001b[0m \u001b[1;33m-\u001b[0m\u001b[1;36m1\u001b[0m\u001b[1;33m)\u001b[0m\u001b[1;33m.\u001b[0m\u001b[0mnonzero\u001b[0m\u001b[1;33m(\u001b[0m\u001b[1;33m)\u001b[0m\u001b[1;33m\u001b[0m\u001b[1;33m\u001b[0m\u001b[0m\n\u001b[0;32m   2570\u001b[0m \u001b[1;33m\u001b[0m\u001b[0m\n",
         "\u001b[1;32m~\\AppData\\Roaming\\Python\\Python37\\site-packages\\pandas\\core\\indexes\\base.py\u001b[0m in \u001b[0;36mget_indexer\u001b[1;34m(self, target, method, limit, tolerance)\u001b[0m\n\u001b[0;32m   2983\u001b[0m         \u001b[1;32mif\u001b[0m \u001b[1;32mnot\u001b[0m \u001b[0mself\u001b[0m\u001b[1;33m.\u001b[0m\u001b[0mis_unique\u001b[0m\u001b[1;33m:\u001b[0m\u001b[1;33m\u001b[0m\u001b[1;33m\u001b[0m\u001b[0m\n\u001b[0;32m   2984\u001b[0m             raise InvalidIndexError(\n\u001b[1;32m-> 2985\u001b[1;33m                 \u001b[1;34m\"Reindexing only valid with uniquely\"\u001b[0m \u001b[1;34m\" valued Index objects\"\u001b[0m\u001b[1;33m\u001b[0m\u001b[1;33m\u001b[0m\u001b[0m\n\u001b[0m\u001b[0;32m   2986\u001b[0m             )\n\u001b[0;32m   2987\u001b[0m \u001b[1;33m\u001b[0m\u001b[0m\n",
         "\u001b[1;31mInvalidIndexError\u001b[0m: Reindexing only valid with uniquely valued Index objects"
        ]
       }
      ],
      "source": "pd.DataFrame(\n    {\n        \"repo_url1\" : repository_info.url[ranking_nmf_multiplicative[0][0:9]], \n        \"repo_description1\" : repository_info.description[ranking_nmf_multiplicative[0][0:9]],\n        \"repo_url2\" : repository_info.url[ranking_nmf_multiplicative[1][0:9]], \n        \"repo_description2\" : repository_info.description[ranking_nmf_multiplicative[1][0:9]],\n        \"score\" : ranking_nmf_multiplicative[2][0:9]\n    }\n)",
      "start_time": "2020-04-06T13:50:11.008Z"
     },
     {
      "end_time": "2020-04-06T13:50:36.849Z",
      "execution_time": "23ms",
      "outputs": [
       {
        "ename": "InvalidIndexError",
        "evalue": "Reindexing only valid with uniquely valued Index objects",
        "output_type": "error",
        "traceback": [
         "\u001b[1;31m---------------------------------------------------------------------------\u001b[0m",
         "\u001b[1;31mInvalidIndexError\u001b[0m                         Traceback (most recent call last)",
         "\u001b[1;32m<ipython-input-49-c3a00a7d20e5>\u001b[0m in \u001b[0;36m<module>\u001b[1;34m\u001b[0m\n\u001b[0;32m      6\u001b[0m         \u001b[1;34m\"repo_url2\"\u001b[0m \u001b[1;33m:\u001b[0m \u001b[0mrepository_info\u001b[0m\u001b[1;33m.\u001b[0m\u001b[0murl\u001b[0m\u001b[1;33m[\u001b[0m\u001b[0mranking_nmf_multiplicative\u001b[0m\u001b[1;33m[\u001b[0m\u001b[1;36m1\u001b[0m\u001b[1;33m]\u001b[0m\u001b[1;33m[\u001b[0m\u001b[1;36m0\u001b[0m\u001b[1;33m:\u001b[0m\u001b[1;36m9\u001b[0m\u001b[1;33m]\u001b[0m\u001b[1;33m]\u001b[0m\u001b[1;33m,\u001b[0m\u001b[1;33m\u001b[0m\u001b[1;33m\u001b[0m\u001b[0m\n\u001b[0;32m      7\u001b[0m         \u001b[1;34m\"repo_description2\"\u001b[0m \u001b[1;33m:\u001b[0m \u001b[0mrepository_info\u001b[0m\u001b[1;33m.\u001b[0m\u001b[0mdescription\u001b[0m\u001b[1;33m[\u001b[0m\u001b[0mranking_nmf_multiplicative\u001b[0m\u001b[1;33m[\u001b[0m\u001b[1;36m1\u001b[0m\u001b[1;33m]\u001b[0m\u001b[1;33m[\u001b[0m\u001b[1;36m0\u001b[0m\u001b[1;33m:\u001b[0m\u001b[1;36m9\u001b[0m\u001b[1;33m]\u001b[0m\u001b[1;33m]\u001b[0m\u001b[1;33m,\u001b[0m\u001b[1;33m\u001b[0m\u001b[1;33m\u001b[0m\u001b[0m\n\u001b[1;32m----> 8\u001b[1;33m         \u001b[1;34m\"score\"\u001b[0m \u001b[1;33m:\u001b[0m \u001b[0mranking_nmf_multiplicative\u001b[0m\u001b[1;33m[\u001b[0m\u001b[1;36m2\u001b[0m\u001b[1;33m]\u001b[0m\u001b[1;33m[\u001b[0m\u001b[1;36m0\u001b[0m\u001b[1;33m:\u001b[0m\u001b[1;36m9\u001b[0m\u001b[1;33m]\u001b[0m\u001b[1;33m\u001b[0m\u001b[1;33m\u001b[0m\u001b[0m\n\u001b[0m\u001b[0;32m      9\u001b[0m     }\n\u001b[0;32m     10\u001b[0m )\n",
         "\u001b[1;32m~\\AppData\\Roaming\\Python\\Python37\\site-packages\\pandas\\core\\frame.py\u001b[0m in \u001b[0;36m__init__\u001b[1;34m(self, data, index, columns, dtype, copy)\u001b[0m\n\u001b[0;32m    409\u001b[0m             )\n\u001b[0;32m    410\u001b[0m         \u001b[1;32melif\u001b[0m \u001b[0misinstance\u001b[0m\u001b[1;33m(\u001b[0m\u001b[0mdata\u001b[0m\u001b[1;33m,\u001b[0m \u001b[0mdict\u001b[0m\u001b[1;33m)\u001b[0m\u001b[1;33m:\u001b[0m\u001b[1;33m\u001b[0m\u001b[1;33m\u001b[0m\u001b[0m\n\u001b[1;32m--> 411\u001b[1;33m             \u001b[0mmgr\u001b[0m \u001b[1;33m=\u001b[0m \u001b[0minit_dict\u001b[0m\u001b[1;33m(\u001b[0m\u001b[0mdata\u001b[0m\u001b[1;33m,\u001b[0m \u001b[0mindex\u001b[0m\u001b[1;33m,\u001b[0m \u001b[0mcolumns\u001b[0m\u001b[1;33m,\u001b[0m \u001b[0mdtype\u001b[0m\u001b[1;33m=\u001b[0m\u001b[0mdtype\u001b[0m\u001b[1;33m)\u001b[0m\u001b[1;33m\u001b[0m\u001b[1;33m\u001b[0m\u001b[0m\n\u001b[0m\u001b[0;32m    412\u001b[0m         \u001b[1;32melif\u001b[0m \u001b[0misinstance\u001b[0m\u001b[1;33m(\u001b[0m\u001b[0mdata\u001b[0m\u001b[1;33m,\u001b[0m \u001b[0mma\u001b[0m\u001b[1;33m.\u001b[0m\u001b[0mMaskedArray\u001b[0m\u001b[1;33m)\u001b[0m\u001b[1;33m:\u001b[0m\u001b[1;33m\u001b[0m\u001b[1;33m\u001b[0m\u001b[0m\n\u001b[0;32m    413\u001b[0m             \u001b[1;32mimport\u001b[0m \u001b[0mnumpy\u001b[0m\u001b[1;33m.\u001b[0m\u001b[0mma\u001b[0m\u001b[1;33m.\u001b[0m\u001b[0mmrecords\u001b[0m \u001b[1;32mas\u001b[0m \u001b[0mmrecords\u001b[0m\u001b[1;33m\u001b[0m\u001b[1;33m\u001b[0m\u001b[0m\n",
         "\u001b[1;32m~\\AppData\\Roaming\\Python\\Python37\\site-packages\\pandas\\core\\internals\\construction.py\u001b[0m in \u001b[0;36minit_dict\u001b[1;34m(data, index, columns, dtype)\u001b[0m\n\u001b[0;32m    255\u001b[0m             \u001b[0marr\u001b[0m \u001b[1;32mif\u001b[0m \u001b[1;32mnot\u001b[0m \u001b[0mis_datetime64tz_dtype\u001b[0m\u001b[1;33m(\u001b[0m\u001b[0marr\u001b[0m\u001b[1;33m)\u001b[0m \u001b[1;32melse\u001b[0m \u001b[0marr\u001b[0m\u001b[1;33m.\u001b[0m\u001b[0mcopy\u001b[0m\u001b[1;33m(\u001b[0m\u001b[1;33m)\u001b[0m \u001b[1;32mfor\u001b[0m \u001b[0marr\u001b[0m \u001b[1;32min\u001b[0m \u001b[0marrays\u001b[0m\u001b[1;33m\u001b[0m\u001b[1;33m\u001b[0m\u001b[0m\n\u001b[0;32m    256\u001b[0m         ]\n\u001b[1;32m--> 257\u001b[1;33m     \u001b[1;32mreturn\u001b[0m \u001b[0marrays_to_mgr\u001b[0m\u001b[1;33m(\u001b[0m\u001b[0marrays\u001b[0m\u001b[1;33m,\u001b[0m \u001b[0mdata_names\u001b[0m\u001b[1;33m,\u001b[0m \u001b[0mindex\u001b[0m\u001b[1;33m,\u001b[0m \u001b[0mcolumns\u001b[0m\u001b[1;33m,\u001b[0m \u001b[0mdtype\u001b[0m\u001b[1;33m=\u001b[0m\u001b[0mdtype\u001b[0m\u001b[1;33m)\u001b[0m\u001b[1;33m\u001b[0m\u001b[1;33m\u001b[0m\u001b[0m\n\u001b[0m\u001b[0;32m    258\u001b[0m \u001b[1;33m\u001b[0m\u001b[0m\n\u001b[0;32m    259\u001b[0m \u001b[1;33m\u001b[0m\u001b[0m\n",
         "\u001b[1;32m~\\AppData\\Roaming\\Python\\Python37\\site-packages\\pandas\\core\\internals\\construction.py\u001b[0m in \u001b[0;36marrays_to_mgr\u001b[1;34m(arrays, arr_names, index, columns, dtype)\u001b[0m\n\u001b[0;32m     75\u001b[0m     \u001b[1;31m# figure out the index, if necessary\u001b[0m\u001b[1;33m\u001b[0m\u001b[1;33m\u001b[0m\u001b[1;33m\u001b[0m\u001b[0m\n\u001b[0;32m     76\u001b[0m     \u001b[1;32mif\u001b[0m \u001b[0mindex\u001b[0m \u001b[1;32mis\u001b[0m \u001b[1;32mNone\u001b[0m\u001b[1;33m:\u001b[0m\u001b[1;33m\u001b[0m\u001b[1;33m\u001b[0m\u001b[0m\n\u001b[1;32m---> 77\u001b[1;33m         \u001b[0mindex\u001b[0m \u001b[1;33m=\u001b[0m \u001b[0mextract_index\u001b[0m\u001b[1;33m(\u001b[0m\u001b[0marrays\u001b[0m\u001b[1;33m)\u001b[0m\u001b[1;33m\u001b[0m\u001b[1;33m\u001b[0m\u001b[0m\n\u001b[0m\u001b[0;32m     78\u001b[0m     \u001b[1;32melse\u001b[0m\u001b[1;33m:\u001b[0m\u001b[1;33m\u001b[0m\u001b[1;33m\u001b[0m\u001b[0m\n\u001b[0;32m     79\u001b[0m         \u001b[0mindex\u001b[0m \u001b[1;33m=\u001b[0m \u001b[0mensure_index\u001b[0m\u001b[1;33m(\u001b[0m\u001b[0mindex\u001b[0m\u001b[1;33m)\u001b[0m\u001b[1;33m\u001b[0m\u001b[1;33m\u001b[0m\u001b[0m\n",
         "\u001b[1;32m~\\AppData\\Roaming\\Python\\Python37\\site-packages\\pandas\\core\\internals\\construction.py\u001b[0m in \u001b[0;36mextract_index\u001b[1;34m(data)\u001b[0m\n\u001b[0;32m    359\u001b[0m \u001b[1;33m\u001b[0m\u001b[0m\n\u001b[0;32m    360\u001b[0m         \u001b[1;32mif\u001b[0m \u001b[0mhave_series\u001b[0m\u001b[1;33m:\u001b[0m\u001b[1;33m\u001b[0m\u001b[1;33m\u001b[0m\u001b[0m\n\u001b[1;32m--> 361\u001b[1;33m             \u001b[0mindex\u001b[0m \u001b[1;33m=\u001b[0m \u001b[0m_union_indexes\u001b[0m\u001b[1;33m(\u001b[0m\u001b[0mindexes\u001b[0m\u001b[1;33m)\u001b[0m\u001b[1;33m\u001b[0m\u001b[1;33m\u001b[0m\u001b[0m\n\u001b[0m\u001b[0;32m    362\u001b[0m         \u001b[1;32melif\u001b[0m \u001b[0mhave_dicts\u001b[0m\u001b[1;33m:\u001b[0m\u001b[1;33m\u001b[0m\u001b[1;33m\u001b[0m\u001b[0m\n\u001b[0;32m    363\u001b[0m             \u001b[0mindex\u001b[0m \u001b[1;33m=\u001b[0m \u001b[0m_union_indexes\u001b[0m\u001b[1;33m(\u001b[0m\u001b[0mindexes\u001b[0m\u001b[1;33m,\u001b[0m \u001b[0msort\u001b[0m\u001b[1;33m=\u001b[0m\u001b[1;32mnot\u001b[0m \u001b[1;33m(\u001b[0m\u001b[0mcompat\u001b[0m\u001b[1;33m.\u001b[0m\u001b[0mPY36\u001b[0m \u001b[1;32mor\u001b[0m \u001b[0mhave_ordered\u001b[0m\u001b[1;33m)\u001b[0m\u001b[1;33m)\u001b[0m\u001b[1;33m\u001b[0m\u001b[1;33m\u001b[0m\u001b[0m\n",
         "\u001b[1;32m~\\AppData\\Roaming\\Python\\Python37\\site-packages\\pandas\\core\\indexes\\api.py\u001b[0m in \u001b[0;36m_union_indexes\u001b[1;34m(indexes, sort)\u001b[0m\n\u001b[0;32m    204\u001b[0m         \u001b[1;32melse\u001b[0m\u001b[1;33m:\u001b[0m\u001b[1;33m\u001b[0m\u001b[1;33m\u001b[0m\u001b[0m\n\u001b[0;32m    205\u001b[0m             \u001b[1;32mfor\u001b[0m \u001b[0mother\u001b[0m \u001b[1;32min\u001b[0m \u001b[0mindexes\u001b[0m\u001b[1;33m[\u001b[0m\u001b[1;36m1\u001b[0m\u001b[1;33m:\u001b[0m\u001b[1;33m]\u001b[0m\u001b[1;33m:\u001b[0m\u001b[1;33m\u001b[0m\u001b[1;33m\u001b[0m\u001b[0m\n\u001b[1;32m--> 206\u001b[1;33m                 \u001b[0mresult\u001b[0m \u001b[1;33m=\u001b[0m \u001b[0mresult\u001b[0m\u001b[1;33m.\u001b[0m\u001b[0munion\u001b[0m\u001b[1;33m(\u001b[0m\u001b[0mother\u001b[0m\u001b[1;33m)\u001b[0m\u001b[1;33m\u001b[0m\u001b[1;33m\u001b[0m\u001b[0m\n\u001b[0m\u001b[0;32m    207\u001b[0m             \u001b[1;32mreturn\u001b[0m \u001b[0mresult\u001b[0m\u001b[1;33m\u001b[0m\u001b[1;33m\u001b[0m\u001b[0m\n\u001b[0;32m    208\u001b[0m     \u001b[1;32melif\u001b[0m \u001b[0mkind\u001b[0m \u001b[1;33m==\u001b[0m \u001b[1;34m\"array\"\u001b[0m\u001b[1;33m:\u001b[0m\u001b[1;33m\u001b[0m\u001b[1;33m\u001b[0m\u001b[0m\n",
         "\u001b[1;32m~\\AppData\\Roaming\\Python\\Python37\\site-packages\\pandas\\core\\indexes\\base.py\u001b[0m in \u001b[0;36munion\u001b[1;34m(self, other, sort)\u001b[0m\n\u001b[0;32m   2517\u001b[0m             \u001b[1;32mreturn\u001b[0m \u001b[0mself\u001b[0m\u001b[1;33m.\u001b[0m\u001b[0m_union_incompatible_dtypes\u001b[0m\u001b[1;33m(\u001b[0m\u001b[0mother\u001b[0m\u001b[1;33m,\u001b[0m \u001b[0msort\u001b[0m\u001b[1;33m=\u001b[0m\u001b[0msort\u001b[0m\u001b[1;33m)\u001b[0m\u001b[1;33m\u001b[0m\u001b[1;33m\u001b[0m\u001b[0m\n\u001b[0;32m   2518\u001b[0m \u001b[1;33m\u001b[0m\u001b[0m\n\u001b[1;32m-> 2519\u001b[1;33m         \u001b[1;32mreturn\u001b[0m \u001b[0mself\u001b[0m\u001b[1;33m.\u001b[0m\u001b[0m_union\u001b[0m\u001b[1;33m(\u001b[0m\u001b[0mother\u001b[0m\u001b[1;33m,\u001b[0m \u001b[0msort\u001b[0m\u001b[1;33m=\u001b[0m\u001b[0msort\u001b[0m\u001b[1;33m)\u001b[0m\u001b[1;33m\u001b[0m\u001b[1;33m\u001b[0m\u001b[0m\n\u001b[0m\u001b[0;32m   2520\u001b[0m \u001b[1;33m\u001b[0m\u001b[0m\n\u001b[0;32m   2521\u001b[0m     \u001b[1;32mdef\u001b[0m \u001b[0m_union\u001b[0m\u001b[1;33m(\u001b[0m\u001b[0mself\u001b[0m\u001b[1;33m,\u001b[0m \u001b[0mother\u001b[0m\u001b[1;33m,\u001b[0m \u001b[0msort\u001b[0m\u001b[1;33m)\u001b[0m\u001b[1;33m:\u001b[0m\u001b[1;33m\u001b[0m\u001b[1;33m\u001b[0m\u001b[0m\n",
         "\u001b[1;32m~\\AppData\\Roaming\\Python\\Python37\\site-packages\\pandas\\core\\indexes\\numeric.py\u001b[0m in \u001b[0;36m_union\u001b[1;34m(self, other, sort)\u001b[0m\n\u001b[0;32m    161\u001b[0m             \u001b[1;32mreturn\u001b[0m \u001b[0mfirst\u001b[0m\u001b[1;33m.\u001b[0m\u001b[0m_union\u001b[0m\u001b[1;33m(\u001b[0m\u001b[0msecond\u001b[0m\u001b[1;33m,\u001b[0m \u001b[0msort\u001b[0m\u001b[1;33m)\u001b[0m\u001b[1;33m\u001b[0m\u001b[1;33m\u001b[0m\u001b[0m\n\u001b[0;32m    162\u001b[0m         \u001b[1;32melse\u001b[0m\u001b[1;33m:\u001b[0m\u001b[1;33m\u001b[0m\u001b[1;33m\u001b[0m\u001b[0m\n\u001b[1;32m--> 163\u001b[1;33m             \u001b[1;32mreturn\u001b[0m \u001b[0msuper\u001b[0m\u001b[1;33m(\u001b[0m\u001b[1;33m)\u001b[0m\u001b[1;33m.\u001b[0m\u001b[0m_union\u001b[0m\u001b[1;33m(\u001b[0m\u001b[0mother\u001b[0m\u001b[1;33m,\u001b[0m \u001b[0msort\u001b[0m\u001b[1;33m)\u001b[0m\u001b[1;33m\u001b[0m\u001b[1;33m\u001b[0m\u001b[0m\n\u001b[0m\u001b[0;32m    164\u001b[0m \u001b[1;33m\u001b[0m\u001b[0m\n\u001b[0;32m    165\u001b[0m \u001b[1;33m\u001b[0m\u001b[0m\n",
         "\u001b[1;32m~\\AppData\\Roaming\\Python\\Python37\\site-packages\\pandas\\core\\indexes\\base.py\u001b[0m in \u001b[0;36m_union\u001b[1;34m(self, other, sort)\u001b[0m\n\u001b[0;32m   2566\u001b[0m                 \u001b[0mresult\u001b[0m\u001b[1;33m.\u001b[0m\u001b[0mextend\u001b[0m\u001b[1;33m(\u001b[0m\u001b[1;33m[\u001b[0m\u001b[0mx\u001b[0m \u001b[1;32mfor\u001b[0m \u001b[0mx\u001b[0m \u001b[1;32min\u001b[0m \u001b[0mrvals\u001b[0m \u001b[1;32mif\u001b[0m \u001b[0mx\u001b[0m \u001b[1;32mnot\u001b[0m \u001b[1;32min\u001b[0m \u001b[0mvalue_set\u001b[0m\u001b[1;33m]\u001b[0m\u001b[1;33m)\u001b[0m\u001b[1;33m\u001b[0m\u001b[1;33m\u001b[0m\u001b[0m\n\u001b[0;32m   2567\u001b[0m         \u001b[1;32melse\u001b[0m\u001b[1;33m:\u001b[0m\u001b[1;33m\u001b[0m\u001b[1;33m\u001b[0m\u001b[0m\n\u001b[1;32m-> 2568\u001b[1;33m             \u001b[0mindexer\u001b[0m \u001b[1;33m=\u001b[0m \u001b[0mself\u001b[0m\u001b[1;33m.\u001b[0m\u001b[0mget_indexer\u001b[0m\u001b[1;33m(\u001b[0m\u001b[0mother\u001b[0m\u001b[1;33m)\u001b[0m\u001b[1;33m\u001b[0m\u001b[1;33m\u001b[0m\u001b[0m\n\u001b[0m\u001b[0;32m   2569\u001b[0m             \u001b[0mindexer\u001b[0m\u001b[1;33m,\u001b[0m \u001b[1;33m=\u001b[0m \u001b[1;33m(\u001b[0m\u001b[0mindexer\u001b[0m \u001b[1;33m==\u001b[0m \u001b[1;33m-\u001b[0m\u001b[1;36m1\u001b[0m\u001b[1;33m)\u001b[0m\u001b[1;33m.\u001b[0m\u001b[0mnonzero\u001b[0m\u001b[1;33m(\u001b[0m\u001b[1;33m)\u001b[0m\u001b[1;33m\u001b[0m\u001b[1;33m\u001b[0m\u001b[0m\n\u001b[0;32m   2570\u001b[0m \u001b[1;33m\u001b[0m\u001b[0m\n",
         "\u001b[1;32m~\\AppData\\Roaming\\Python\\Python37\\site-packages\\pandas\\core\\indexes\\base.py\u001b[0m in \u001b[0;36mget_indexer\u001b[1;34m(self, target, method, limit, tolerance)\u001b[0m\n\u001b[0;32m   2983\u001b[0m         \u001b[1;32mif\u001b[0m \u001b[1;32mnot\u001b[0m \u001b[0mself\u001b[0m\u001b[1;33m.\u001b[0m\u001b[0mis_unique\u001b[0m\u001b[1;33m:\u001b[0m\u001b[1;33m\u001b[0m\u001b[1;33m\u001b[0m\u001b[0m\n\u001b[0;32m   2984\u001b[0m             raise InvalidIndexError(\n\u001b[1;32m-> 2985\u001b[1;33m                 \u001b[1;34m\"Reindexing only valid with uniquely\"\u001b[0m \u001b[1;34m\" valued Index objects\"\u001b[0m\u001b[1;33m\u001b[0m\u001b[1;33m\u001b[0m\u001b[0m\n\u001b[0m\u001b[0;32m   2986\u001b[0m             )\n\u001b[0;32m   2987\u001b[0m \u001b[1;33m\u001b[0m\u001b[0m\n",
         "\u001b[1;31mInvalidIndexError\u001b[0m: Reindexing only valid with uniquely valued Index objects"
        ]
       }
      ],
      "source": "pd.DataFrame(\n    {\n        \"id\" : [1,2,3,4,5,6,7,8,9,10],\n        \"repo_url1\" : repository_info.url[ranking_nmf_multiplicative[0][0:9]], \n        \"repo_description1\" : repository_info.description[ranking_nmf_multiplicative[0][0:9]],\n        \"repo_url2\" : repository_info.url[ranking_nmf_multiplicative[1][0:9]], \n        \"repo_description2\" : repository_info.description[ranking_nmf_multiplicative[1][0:9]],\n        \"score\" : ranking_nmf_multiplicative[2][0:9]\n    }\n)",
      "start_time": "2020-04-06T13:50:36.826Z"
     },
     {
      "end_time": "2020-04-06T13:52:47.196Z",
      "execution_time": "21ms",
      "outputs": [
       {
        "ename": "ValueError",
        "evalue": "cannot reindex from a duplicate axis",
        "output_type": "error",
        "traceback": [
         "\u001b[1;31m---------------------------------------------------------------------------\u001b[0m",
         "\u001b[1;31mValueError\u001b[0m                                Traceback (most recent call last)",
         "\u001b[1;32m<ipython-input-50-ef30a69ba7c2>\u001b[0m in \u001b[0;36m<module>\u001b[1;34m\u001b[0m\n\u001b[0;32m      7\u001b[0m         \u001b[1;34m\"score\"\u001b[0m \u001b[1;33m:\u001b[0m \u001b[0mranking_nmf_multiplicative\u001b[0m\u001b[1;33m[\u001b[0m\u001b[1;36m2\u001b[0m\u001b[1;33m]\u001b[0m\u001b[1;33m[\u001b[0m\u001b[1;36m0\u001b[0m\u001b[1;33m:\u001b[0m\u001b[1;36m9\u001b[0m\u001b[1;33m]\u001b[0m\u001b[1;33m\u001b[0m\u001b[1;33m\u001b[0m\u001b[0m\n\u001b[0;32m      8\u001b[0m     },\n\u001b[1;32m----> 9\u001b[1;33m     \u001b[0mindex\u001b[0m\u001b[1;33m=\u001b[0m\u001b[0mpd\u001b[0m\u001b[1;33m.\u001b[0m\u001b[0mIndex\u001b[0m\u001b[1;33m(\u001b[0m\u001b[1;33m[\u001b[0m\u001b[1;36m1\u001b[0m\u001b[1;33m,\u001b[0m\u001b[1;36m2\u001b[0m\u001b[1;33m,\u001b[0m\u001b[1;36m3\u001b[0m\u001b[1;33m,\u001b[0m\u001b[1;36m4\u001b[0m\u001b[1;33m,\u001b[0m\u001b[1;36m5\u001b[0m\u001b[1;33m,\u001b[0m\u001b[1;36m6\u001b[0m\u001b[1;33m,\u001b[0m\u001b[1;36m7\u001b[0m\u001b[1;33m,\u001b[0m\u001b[1;36m8\u001b[0m\u001b[1;33m,\u001b[0m\u001b[1;36m9\u001b[0m\u001b[1;33m,\u001b[0m\u001b[1;36m10\u001b[0m\u001b[1;33m]\u001b[0m\u001b[1;33m)\u001b[0m\u001b[1;33m\u001b[0m\u001b[1;33m\u001b[0m\u001b[0m\n\u001b[0m\u001b[0;32m     10\u001b[0m )\n",
         "\u001b[1;32m~\\AppData\\Roaming\\Python\\Python37\\site-packages\\pandas\\core\\frame.py\u001b[0m in \u001b[0;36m__init__\u001b[1;34m(self, data, index, columns, dtype, copy)\u001b[0m\n\u001b[0;32m    409\u001b[0m             )\n\u001b[0;32m    410\u001b[0m         \u001b[1;32melif\u001b[0m \u001b[0misinstance\u001b[0m\u001b[1;33m(\u001b[0m\u001b[0mdata\u001b[0m\u001b[1;33m,\u001b[0m \u001b[0mdict\u001b[0m\u001b[1;33m)\u001b[0m\u001b[1;33m:\u001b[0m\u001b[1;33m\u001b[0m\u001b[1;33m\u001b[0m\u001b[0m\n\u001b[1;32m--> 411\u001b[1;33m             \u001b[0mmgr\u001b[0m \u001b[1;33m=\u001b[0m \u001b[0minit_dict\u001b[0m\u001b[1;33m(\u001b[0m\u001b[0mdata\u001b[0m\u001b[1;33m,\u001b[0m \u001b[0mindex\u001b[0m\u001b[1;33m,\u001b[0m \u001b[0mcolumns\u001b[0m\u001b[1;33m,\u001b[0m \u001b[0mdtype\u001b[0m\u001b[1;33m=\u001b[0m\u001b[0mdtype\u001b[0m\u001b[1;33m)\u001b[0m\u001b[1;33m\u001b[0m\u001b[1;33m\u001b[0m\u001b[0m\n\u001b[0m\u001b[0;32m    412\u001b[0m         \u001b[1;32melif\u001b[0m \u001b[0misinstance\u001b[0m\u001b[1;33m(\u001b[0m\u001b[0mdata\u001b[0m\u001b[1;33m,\u001b[0m \u001b[0mma\u001b[0m\u001b[1;33m.\u001b[0m\u001b[0mMaskedArray\u001b[0m\u001b[1;33m)\u001b[0m\u001b[1;33m:\u001b[0m\u001b[1;33m\u001b[0m\u001b[1;33m\u001b[0m\u001b[0m\n\u001b[0;32m    413\u001b[0m             \u001b[1;32mimport\u001b[0m \u001b[0mnumpy\u001b[0m\u001b[1;33m.\u001b[0m\u001b[0mma\u001b[0m\u001b[1;33m.\u001b[0m\u001b[0mmrecords\u001b[0m \u001b[1;32mas\u001b[0m \u001b[0mmrecords\u001b[0m\u001b[1;33m\u001b[0m\u001b[1;33m\u001b[0m\u001b[0m\n",
         "\u001b[1;32m~\\AppData\\Roaming\\Python\\Python37\\site-packages\\pandas\\core\\internals\\construction.py\u001b[0m in \u001b[0;36minit_dict\u001b[1;34m(data, index, columns, dtype)\u001b[0m\n\u001b[0;32m    255\u001b[0m             \u001b[0marr\u001b[0m \u001b[1;32mif\u001b[0m \u001b[1;32mnot\u001b[0m \u001b[0mis_datetime64tz_dtype\u001b[0m\u001b[1;33m(\u001b[0m\u001b[0marr\u001b[0m\u001b[1;33m)\u001b[0m \u001b[1;32melse\u001b[0m \u001b[0marr\u001b[0m\u001b[1;33m.\u001b[0m\u001b[0mcopy\u001b[0m\u001b[1;33m(\u001b[0m\u001b[1;33m)\u001b[0m \u001b[1;32mfor\u001b[0m \u001b[0marr\u001b[0m \u001b[1;32min\u001b[0m \u001b[0marrays\u001b[0m\u001b[1;33m\u001b[0m\u001b[1;33m\u001b[0m\u001b[0m\n\u001b[0;32m    256\u001b[0m         ]\n\u001b[1;32m--> 257\u001b[1;33m     \u001b[1;32mreturn\u001b[0m \u001b[0marrays_to_mgr\u001b[0m\u001b[1;33m(\u001b[0m\u001b[0marrays\u001b[0m\u001b[1;33m,\u001b[0m \u001b[0mdata_names\u001b[0m\u001b[1;33m,\u001b[0m \u001b[0mindex\u001b[0m\u001b[1;33m,\u001b[0m \u001b[0mcolumns\u001b[0m\u001b[1;33m,\u001b[0m \u001b[0mdtype\u001b[0m\u001b[1;33m=\u001b[0m\u001b[0mdtype\u001b[0m\u001b[1;33m)\u001b[0m\u001b[1;33m\u001b[0m\u001b[1;33m\u001b[0m\u001b[0m\n\u001b[0m\u001b[0;32m    258\u001b[0m \u001b[1;33m\u001b[0m\u001b[0m\n\u001b[0;32m    259\u001b[0m \u001b[1;33m\u001b[0m\u001b[0m\n",
         "\u001b[1;32m~\\AppData\\Roaming\\Python\\Python37\\site-packages\\pandas\\core\\internals\\construction.py\u001b[0m in \u001b[0;36marrays_to_mgr\u001b[1;34m(arrays, arr_names, index, columns, dtype)\u001b[0m\n\u001b[0;32m     80\u001b[0m \u001b[1;33m\u001b[0m\u001b[0m\n\u001b[0;32m     81\u001b[0m     \u001b[1;31m# don't force copy because getting jammed in an ndarray anyway\u001b[0m\u001b[1;33m\u001b[0m\u001b[1;33m\u001b[0m\u001b[1;33m\u001b[0m\u001b[0m\n\u001b[1;32m---> 82\u001b[1;33m     \u001b[0marrays\u001b[0m \u001b[1;33m=\u001b[0m \u001b[0m_homogenize\u001b[0m\u001b[1;33m(\u001b[0m\u001b[0marrays\u001b[0m\u001b[1;33m,\u001b[0m \u001b[0mindex\u001b[0m\u001b[1;33m,\u001b[0m \u001b[0mdtype\u001b[0m\u001b[1;33m)\u001b[0m\u001b[1;33m\u001b[0m\u001b[1;33m\u001b[0m\u001b[0m\n\u001b[0m\u001b[0;32m     83\u001b[0m \u001b[1;33m\u001b[0m\u001b[0m\n\u001b[0;32m     84\u001b[0m     \u001b[1;31m# from BlockManager perspective\u001b[0m\u001b[1;33m\u001b[0m\u001b[1;33m\u001b[0m\u001b[1;33m\u001b[0m\u001b[0m\n",
         "\u001b[1;32m~\\AppData\\Roaming\\Python\\Python37\\site-packages\\pandas\\core\\internals\\construction.py\u001b[0m in \u001b[0;36m_homogenize\u001b[1;34m(data, index, dtype)\u001b[0m\n\u001b[0;32m    309\u001b[0m                 \u001b[1;31m# Forces alignment. No need to copy data since we\u001b[0m\u001b[1;33m\u001b[0m\u001b[1;33m\u001b[0m\u001b[1;33m\u001b[0m\u001b[0m\n\u001b[0;32m    310\u001b[0m                 \u001b[1;31m# are putting it into an ndarray later\u001b[0m\u001b[1;33m\u001b[0m\u001b[1;33m\u001b[0m\u001b[1;33m\u001b[0m\u001b[0m\n\u001b[1;32m--> 311\u001b[1;33m                 \u001b[0mval\u001b[0m \u001b[1;33m=\u001b[0m \u001b[0mval\u001b[0m\u001b[1;33m.\u001b[0m\u001b[0mreindex\u001b[0m\u001b[1;33m(\u001b[0m\u001b[0mindex\u001b[0m\u001b[1;33m,\u001b[0m \u001b[0mcopy\u001b[0m\u001b[1;33m=\u001b[0m\u001b[1;32mFalse\u001b[0m\u001b[1;33m)\u001b[0m\u001b[1;33m\u001b[0m\u001b[1;33m\u001b[0m\u001b[0m\n\u001b[0m\u001b[0;32m    312\u001b[0m         \u001b[1;32melse\u001b[0m\u001b[1;33m:\u001b[0m\u001b[1;33m\u001b[0m\u001b[1;33m\u001b[0m\u001b[0m\n\u001b[0;32m    313\u001b[0m             \u001b[1;32mif\u001b[0m \u001b[0misinstance\u001b[0m\u001b[1;33m(\u001b[0m\u001b[0mval\u001b[0m\u001b[1;33m,\u001b[0m \u001b[0mdict\u001b[0m\u001b[1;33m)\u001b[0m\u001b[1;33m:\u001b[0m\u001b[1;33m\u001b[0m\u001b[1;33m\u001b[0m\u001b[0m\n",
         "\u001b[1;32m~\\AppData\\Roaming\\Python\\Python37\\site-packages\\pandas\\core\\series.py\u001b[0m in \u001b[0;36mreindex\u001b[1;34m(self, index, **kwargs)\u001b[0m\n\u001b[0;32m   4219\u001b[0m     \u001b[1;33m@\u001b[0m\u001b[0mAppender\u001b[0m\u001b[1;33m(\u001b[0m\u001b[0mgeneric\u001b[0m\u001b[1;33m.\u001b[0m\u001b[0mNDFrame\u001b[0m\u001b[1;33m.\u001b[0m\u001b[0mreindex\u001b[0m\u001b[1;33m.\u001b[0m\u001b[0m__doc__\u001b[0m\u001b[1;33m)\u001b[0m\u001b[1;33m\u001b[0m\u001b[1;33m\u001b[0m\u001b[0m\n\u001b[0;32m   4220\u001b[0m     \u001b[1;32mdef\u001b[0m \u001b[0mreindex\u001b[0m\u001b[1;33m(\u001b[0m\u001b[0mself\u001b[0m\u001b[1;33m,\u001b[0m \u001b[0mindex\u001b[0m\u001b[1;33m=\u001b[0m\u001b[1;32mNone\u001b[0m\u001b[1;33m,\u001b[0m \u001b[1;33m**\u001b[0m\u001b[0mkwargs\u001b[0m\u001b[1;33m)\u001b[0m\u001b[1;33m:\u001b[0m\u001b[1;33m\u001b[0m\u001b[1;33m\u001b[0m\u001b[0m\n\u001b[1;32m-> 4221\u001b[1;33m         \u001b[1;32mreturn\u001b[0m \u001b[0msuper\u001b[0m\u001b[1;33m(\u001b[0m\u001b[1;33m)\u001b[0m\u001b[1;33m.\u001b[0m\u001b[0mreindex\u001b[0m\u001b[1;33m(\u001b[0m\u001b[0mindex\u001b[0m\u001b[1;33m=\u001b[0m\u001b[0mindex\u001b[0m\u001b[1;33m,\u001b[0m \u001b[1;33m**\u001b[0m\u001b[0mkwargs\u001b[0m\u001b[1;33m)\u001b[0m\u001b[1;33m\u001b[0m\u001b[1;33m\u001b[0m\u001b[0m\n\u001b[0m\u001b[0;32m   4222\u001b[0m \u001b[1;33m\u001b[0m\u001b[0m\n\u001b[0;32m   4223\u001b[0m     def drop(\n",
         "\u001b[1;32m~\\AppData\\Roaming\\Python\\Python37\\site-packages\\pandas\\core\\generic.py\u001b[0m in \u001b[0;36mreindex\u001b[1;34m(self, *args, **kwargs)\u001b[0m\n\u001b[0;32m   4512\u001b[0m         \u001b[1;31m# perform the reindex on the axes\u001b[0m\u001b[1;33m\u001b[0m\u001b[1;33m\u001b[0m\u001b[1;33m\u001b[0m\u001b[0m\n\u001b[0;32m   4513\u001b[0m         return self._reindex_axes(\n\u001b[1;32m-> 4514\u001b[1;33m             \u001b[0maxes\u001b[0m\u001b[1;33m,\u001b[0m \u001b[0mlevel\u001b[0m\u001b[1;33m,\u001b[0m \u001b[0mlimit\u001b[0m\u001b[1;33m,\u001b[0m \u001b[0mtolerance\u001b[0m\u001b[1;33m,\u001b[0m \u001b[0mmethod\u001b[0m\u001b[1;33m,\u001b[0m \u001b[0mfill_value\u001b[0m\u001b[1;33m,\u001b[0m \u001b[0mcopy\u001b[0m\u001b[1;33m\u001b[0m\u001b[1;33m\u001b[0m\u001b[0m\n\u001b[0m\u001b[0;32m   4515\u001b[0m         ).__finalize__(self)\n\u001b[0;32m   4516\u001b[0m \u001b[1;33m\u001b[0m\u001b[0m\n",
         "\u001b[1;32m~\\AppData\\Roaming\\Python\\Python37\\site-packages\\pandas\\core\\generic.py\u001b[0m in \u001b[0;36m_reindex_axes\u001b[1;34m(self, axes, level, limit, tolerance, method, fill_value, copy)\u001b[0m\n\u001b[0;32m   4533\u001b[0m                 \u001b[0mfill_value\u001b[0m\u001b[1;33m=\u001b[0m\u001b[0mfill_value\u001b[0m\u001b[1;33m,\u001b[0m\u001b[1;33m\u001b[0m\u001b[1;33m\u001b[0m\u001b[0m\n\u001b[0;32m   4534\u001b[0m                 \u001b[0mcopy\u001b[0m\u001b[1;33m=\u001b[0m\u001b[0mcopy\u001b[0m\u001b[1;33m,\u001b[0m\u001b[1;33m\u001b[0m\u001b[1;33m\u001b[0m\u001b[0m\n\u001b[1;32m-> 4535\u001b[1;33m                 \u001b[0mallow_dups\u001b[0m\u001b[1;33m=\u001b[0m\u001b[1;32mFalse\u001b[0m\u001b[1;33m,\u001b[0m\u001b[1;33m\u001b[0m\u001b[1;33m\u001b[0m\u001b[0m\n\u001b[0m\u001b[0;32m   4536\u001b[0m             )\n\u001b[0;32m   4537\u001b[0m \u001b[1;33m\u001b[0m\u001b[0m\n",
         "\u001b[1;32m~\\AppData\\Roaming\\Python\\Python37\\site-packages\\pandas\\core\\generic.py\u001b[0m in \u001b[0;36m_reindex_with_indexers\u001b[1;34m(self, reindexers, fill_value, copy, allow_dups)\u001b[0m\n\u001b[0;32m   4575\u001b[0m                 \u001b[0mfill_value\u001b[0m\u001b[1;33m=\u001b[0m\u001b[0mfill_value\u001b[0m\u001b[1;33m,\u001b[0m\u001b[1;33m\u001b[0m\u001b[1;33m\u001b[0m\u001b[0m\n\u001b[0;32m   4576\u001b[0m                 \u001b[0mallow_dups\u001b[0m\u001b[1;33m=\u001b[0m\u001b[0mallow_dups\u001b[0m\u001b[1;33m,\u001b[0m\u001b[1;33m\u001b[0m\u001b[1;33m\u001b[0m\u001b[0m\n\u001b[1;32m-> 4577\u001b[1;33m                 \u001b[0mcopy\u001b[0m\u001b[1;33m=\u001b[0m\u001b[0mcopy\u001b[0m\u001b[1;33m,\u001b[0m\u001b[1;33m\u001b[0m\u001b[1;33m\u001b[0m\u001b[0m\n\u001b[0m\u001b[0;32m   4578\u001b[0m             )\n\u001b[0;32m   4579\u001b[0m \u001b[1;33m\u001b[0m\u001b[0m\n",
         "\u001b[1;32m~\\AppData\\Roaming\\Python\\Python37\\site-packages\\pandas\\core\\internals\\managers.py\u001b[0m in \u001b[0;36mreindex_indexer\u001b[1;34m(self, new_axis, indexer, axis, fill_value, allow_dups, copy)\u001b[0m\n\u001b[0;32m   1249\u001b[0m         \u001b[1;31m# some axes don't allow reindexing with dups\u001b[0m\u001b[1;33m\u001b[0m\u001b[1;33m\u001b[0m\u001b[1;33m\u001b[0m\u001b[0m\n\u001b[0;32m   1250\u001b[0m         \u001b[1;32mif\u001b[0m \u001b[1;32mnot\u001b[0m \u001b[0mallow_dups\u001b[0m\u001b[1;33m:\u001b[0m\u001b[1;33m\u001b[0m\u001b[1;33m\u001b[0m\u001b[0m\n\u001b[1;32m-> 1251\u001b[1;33m             \u001b[0mself\u001b[0m\u001b[1;33m.\u001b[0m\u001b[0maxes\u001b[0m\u001b[1;33m[\u001b[0m\u001b[0maxis\u001b[0m\u001b[1;33m]\u001b[0m\u001b[1;33m.\u001b[0m\u001b[0m_can_reindex\u001b[0m\u001b[1;33m(\u001b[0m\u001b[0mindexer\u001b[0m\u001b[1;33m)\u001b[0m\u001b[1;33m\u001b[0m\u001b[1;33m\u001b[0m\u001b[0m\n\u001b[0m\u001b[0;32m   1252\u001b[0m \u001b[1;33m\u001b[0m\u001b[0m\n\u001b[0;32m   1253\u001b[0m         \u001b[1;32mif\u001b[0m \u001b[0maxis\u001b[0m \u001b[1;33m>=\u001b[0m \u001b[0mself\u001b[0m\u001b[1;33m.\u001b[0m\u001b[0mndim\u001b[0m\u001b[1;33m:\u001b[0m\u001b[1;33m\u001b[0m\u001b[1;33m\u001b[0m\u001b[0m\n",
         "\u001b[1;32m~\\AppData\\Roaming\\Python\\Python37\\site-packages\\pandas\\core\\indexes\\base.py\u001b[0m in \u001b[0;36m_can_reindex\u001b[1;34m(self, indexer)\u001b[0m\n\u001b[0;32m   3360\u001b[0m         \u001b[1;31m# trying to reindex on an axis with duplicates\u001b[0m\u001b[1;33m\u001b[0m\u001b[1;33m\u001b[0m\u001b[1;33m\u001b[0m\u001b[0m\n\u001b[0;32m   3361\u001b[0m         \u001b[1;32mif\u001b[0m \u001b[1;32mnot\u001b[0m \u001b[0mself\u001b[0m\u001b[1;33m.\u001b[0m\u001b[0mis_unique\u001b[0m \u001b[1;32mand\u001b[0m \u001b[0mlen\u001b[0m\u001b[1;33m(\u001b[0m\u001b[0mindexer\u001b[0m\u001b[1;33m)\u001b[0m\u001b[1;33m:\u001b[0m\u001b[1;33m\u001b[0m\u001b[1;33m\u001b[0m\u001b[0m\n\u001b[1;32m-> 3362\u001b[1;33m             \u001b[1;32mraise\u001b[0m \u001b[0mValueError\u001b[0m\u001b[1;33m(\u001b[0m\u001b[1;34m\"cannot reindex from a duplicate axis\"\u001b[0m\u001b[1;33m)\u001b[0m\u001b[1;33m\u001b[0m\u001b[1;33m\u001b[0m\u001b[0m\n\u001b[0m\u001b[0;32m   3363\u001b[0m \u001b[1;33m\u001b[0m\u001b[0m\n\u001b[0;32m   3364\u001b[0m     \u001b[1;32mdef\u001b[0m \u001b[0mreindex\u001b[0m\u001b[1;33m(\u001b[0m\u001b[0mself\u001b[0m\u001b[1;33m,\u001b[0m \u001b[0mtarget\u001b[0m\u001b[1;33m,\u001b[0m \u001b[0mmethod\u001b[0m\u001b[1;33m=\u001b[0m\u001b[1;32mNone\u001b[0m\u001b[1;33m,\u001b[0m \u001b[0mlevel\u001b[0m\u001b[1;33m=\u001b[0m\u001b[1;32mNone\u001b[0m\u001b[1;33m,\u001b[0m \u001b[0mlimit\u001b[0m\u001b[1;33m=\u001b[0m\u001b[1;32mNone\u001b[0m\u001b[1;33m,\u001b[0m \u001b[0mtolerance\u001b[0m\u001b[1;33m=\u001b[0m\u001b[1;32mNone\u001b[0m\u001b[1;33m)\u001b[0m\u001b[1;33m:\u001b[0m\u001b[1;33m\u001b[0m\u001b[1;33m\u001b[0m\u001b[0m\n",
         "\u001b[1;31mValueError\u001b[0m: cannot reindex from a duplicate axis"
        ]
       }
      ],
      "source": "pd.DataFrame(\n    {\n        \"repo_url1\" : repository_info.url[ranking_nmf_multiplicative[0][0:9]], \n        \"repo_description1\" : repository_info.description[ranking_nmf_multiplicative[0][0:9]],\n        \"repo_url2\" : repository_info.url[ranking_nmf_multiplicative[1][0:9]], \n        \"repo_description2\" : repository_info.description[ranking_nmf_multiplicative[1][0:9]],\n        \"score\" : ranking_nmf_multiplicative[2][0:9]\n    },\n    index=pd.Index([1,2,3,4,5,6,7,8,9,10])\n)",
      "start_time": "2020-04-06T13:52:47.175Z"
     },
     {
      "end_time": "2020-04-06T13:58:20.401Z",
      "execution_time": "26ms",
      "outputs": [
       {
        "ename": "InvalidIndexError",
        "evalue": "Reindexing only valid with uniquely valued Index objects",
        "output_type": "error",
        "traceback": [
         "\u001b[1;31m---------------------------------------------------------------------------\u001b[0m",
         "\u001b[1;31mInvalidIndexError\u001b[0m                         Traceback (most recent call last)",
         "\u001b[1;32m<ipython-input-53-cba7b110a649>\u001b[0m in \u001b[0;36m<module>\u001b[1;34m\u001b[0m\n\u001b[0;32m      5\u001b[0m         \u001b[1;34m\"repo_url2\"\u001b[0m \u001b[1;33m:\u001b[0m \u001b[0mrepository_info\u001b[0m\u001b[1;33m.\u001b[0m\u001b[0murl\u001b[0m\u001b[1;33m[\u001b[0m\u001b[0mranking_nmf_multiplicative\u001b[0m\u001b[1;33m[\u001b[0m\u001b[1;36m1\u001b[0m\u001b[1;33m]\u001b[0m\u001b[1;33m[\u001b[0m\u001b[1;36m0\u001b[0m\u001b[1;33m:\u001b[0m\u001b[1;36m9\u001b[0m\u001b[1;33m]\u001b[0m\u001b[1;33m]\u001b[0m\u001b[1;33m,\u001b[0m\u001b[1;33m\u001b[0m\u001b[1;33m\u001b[0m\u001b[0m\n\u001b[0;32m      6\u001b[0m         \u001b[1;34m\"repo_description2\"\u001b[0m \u001b[1;33m:\u001b[0m \u001b[0mrepository_info\u001b[0m\u001b[1;33m.\u001b[0m\u001b[0mdescription\u001b[0m\u001b[1;33m[\u001b[0m\u001b[0mranking_nmf_multiplicative\u001b[0m\u001b[1;33m[\u001b[0m\u001b[1;36m1\u001b[0m\u001b[1;33m]\u001b[0m\u001b[1;33m[\u001b[0m\u001b[1;36m0\u001b[0m\u001b[1;33m:\u001b[0m\u001b[1;36m9\u001b[0m\u001b[1;33m]\u001b[0m\u001b[1;33m]\u001b[0m\u001b[1;33m,\u001b[0m\u001b[1;33m\u001b[0m\u001b[1;33m\u001b[0m\u001b[0m\n\u001b[1;32m----> 7\u001b[1;33m         \u001b[1;34m\"score\"\u001b[0m \u001b[1;33m:\u001b[0m \u001b[0mranking_nmf_multiplicative\u001b[0m\u001b[1;33m[\u001b[0m\u001b[1;36m2\u001b[0m\u001b[1;33m]\u001b[0m\u001b[1;33m[\u001b[0m\u001b[1;36m0\u001b[0m\u001b[1;33m:\u001b[0m\u001b[1;36m9\u001b[0m\u001b[1;33m]\u001b[0m\u001b[1;33m\u001b[0m\u001b[1;33m\u001b[0m\u001b[0m\n\u001b[0m\u001b[0;32m      8\u001b[0m     }\n\u001b[0;32m      9\u001b[0m )\n",
         "\u001b[1;32m~\\AppData\\Roaming\\Python\\Python37\\site-packages\\pandas\\core\\frame.py\u001b[0m in \u001b[0;36m__init__\u001b[1;34m(self, data, index, columns, dtype, copy)\u001b[0m\n\u001b[0;32m    409\u001b[0m             )\n\u001b[0;32m    410\u001b[0m         \u001b[1;32melif\u001b[0m \u001b[0misinstance\u001b[0m\u001b[1;33m(\u001b[0m\u001b[0mdata\u001b[0m\u001b[1;33m,\u001b[0m \u001b[0mdict\u001b[0m\u001b[1;33m)\u001b[0m\u001b[1;33m:\u001b[0m\u001b[1;33m\u001b[0m\u001b[1;33m\u001b[0m\u001b[0m\n\u001b[1;32m--> 411\u001b[1;33m             \u001b[0mmgr\u001b[0m \u001b[1;33m=\u001b[0m \u001b[0minit_dict\u001b[0m\u001b[1;33m(\u001b[0m\u001b[0mdata\u001b[0m\u001b[1;33m,\u001b[0m \u001b[0mindex\u001b[0m\u001b[1;33m,\u001b[0m \u001b[0mcolumns\u001b[0m\u001b[1;33m,\u001b[0m \u001b[0mdtype\u001b[0m\u001b[1;33m=\u001b[0m\u001b[0mdtype\u001b[0m\u001b[1;33m)\u001b[0m\u001b[1;33m\u001b[0m\u001b[1;33m\u001b[0m\u001b[0m\n\u001b[0m\u001b[0;32m    412\u001b[0m         \u001b[1;32melif\u001b[0m \u001b[0misinstance\u001b[0m\u001b[1;33m(\u001b[0m\u001b[0mdata\u001b[0m\u001b[1;33m,\u001b[0m \u001b[0mma\u001b[0m\u001b[1;33m.\u001b[0m\u001b[0mMaskedArray\u001b[0m\u001b[1;33m)\u001b[0m\u001b[1;33m:\u001b[0m\u001b[1;33m\u001b[0m\u001b[1;33m\u001b[0m\u001b[0m\n\u001b[0;32m    413\u001b[0m             \u001b[1;32mimport\u001b[0m \u001b[0mnumpy\u001b[0m\u001b[1;33m.\u001b[0m\u001b[0mma\u001b[0m\u001b[1;33m.\u001b[0m\u001b[0mmrecords\u001b[0m \u001b[1;32mas\u001b[0m \u001b[0mmrecords\u001b[0m\u001b[1;33m\u001b[0m\u001b[1;33m\u001b[0m\u001b[0m\n",
         "\u001b[1;32m~\\AppData\\Roaming\\Python\\Python37\\site-packages\\pandas\\core\\internals\\construction.py\u001b[0m in \u001b[0;36minit_dict\u001b[1;34m(data, index, columns, dtype)\u001b[0m\n\u001b[0;32m    255\u001b[0m             \u001b[0marr\u001b[0m \u001b[1;32mif\u001b[0m \u001b[1;32mnot\u001b[0m \u001b[0mis_datetime64tz_dtype\u001b[0m\u001b[1;33m(\u001b[0m\u001b[0marr\u001b[0m\u001b[1;33m)\u001b[0m \u001b[1;32melse\u001b[0m \u001b[0marr\u001b[0m\u001b[1;33m.\u001b[0m\u001b[0mcopy\u001b[0m\u001b[1;33m(\u001b[0m\u001b[1;33m)\u001b[0m \u001b[1;32mfor\u001b[0m \u001b[0marr\u001b[0m \u001b[1;32min\u001b[0m \u001b[0marrays\u001b[0m\u001b[1;33m\u001b[0m\u001b[1;33m\u001b[0m\u001b[0m\n\u001b[0;32m    256\u001b[0m         ]\n\u001b[1;32m--> 257\u001b[1;33m     \u001b[1;32mreturn\u001b[0m \u001b[0marrays_to_mgr\u001b[0m\u001b[1;33m(\u001b[0m\u001b[0marrays\u001b[0m\u001b[1;33m,\u001b[0m \u001b[0mdata_names\u001b[0m\u001b[1;33m,\u001b[0m \u001b[0mindex\u001b[0m\u001b[1;33m,\u001b[0m \u001b[0mcolumns\u001b[0m\u001b[1;33m,\u001b[0m \u001b[0mdtype\u001b[0m\u001b[1;33m=\u001b[0m\u001b[0mdtype\u001b[0m\u001b[1;33m)\u001b[0m\u001b[1;33m\u001b[0m\u001b[1;33m\u001b[0m\u001b[0m\n\u001b[0m\u001b[0;32m    258\u001b[0m \u001b[1;33m\u001b[0m\u001b[0m\n\u001b[0;32m    259\u001b[0m \u001b[1;33m\u001b[0m\u001b[0m\n",
         "\u001b[1;32m~\\AppData\\Roaming\\Python\\Python37\\site-packages\\pandas\\core\\internals\\construction.py\u001b[0m in \u001b[0;36marrays_to_mgr\u001b[1;34m(arrays, arr_names, index, columns, dtype)\u001b[0m\n\u001b[0;32m     75\u001b[0m     \u001b[1;31m# figure out the index, if necessary\u001b[0m\u001b[1;33m\u001b[0m\u001b[1;33m\u001b[0m\u001b[1;33m\u001b[0m\u001b[0m\n\u001b[0;32m     76\u001b[0m     \u001b[1;32mif\u001b[0m \u001b[0mindex\u001b[0m \u001b[1;32mis\u001b[0m \u001b[1;32mNone\u001b[0m\u001b[1;33m:\u001b[0m\u001b[1;33m\u001b[0m\u001b[1;33m\u001b[0m\u001b[0m\n\u001b[1;32m---> 77\u001b[1;33m         \u001b[0mindex\u001b[0m \u001b[1;33m=\u001b[0m \u001b[0mextract_index\u001b[0m\u001b[1;33m(\u001b[0m\u001b[0marrays\u001b[0m\u001b[1;33m)\u001b[0m\u001b[1;33m\u001b[0m\u001b[1;33m\u001b[0m\u001b[0m\n\u001b[0m\u001b[0;32m     78\u001b[0m     \u001b[1;32melse\u001b[0m\u001b[1;33m:\u001b[0m\u001b[1;33m\u001b[0m\u001b[1;33m\u001b[0m\u001b[0m\n\u001b[0;32m     79\u001b[0m         \u001b[0mindex\u001b[0m \u001b[1;33m=\u001b[0m \u001b[0mensure_index\u001b[0m\u001b[1;33m(\u001b[0m\u001b[0mindex\u001b[0m\u001b[1;33m)\u001b[0m\u001b[1;33m\u001b[0m\u001b[1;33m\u001b[0m\u001b[0m\n",
         "\u001b[1;32m~\\AppData\\Roaming\\Python\\Python37\\site-packages\\pandas\\core\\internals\\construction.py\u001b[0m in \u001b[0;36mextract_index\u001b[1;34m(data)\u001b[0m\n\u001b[0;32m    359\u001b[0m \u001b[1;33m\u001b[0m\u001b[0m\n\u001b[0;32m    360\u001b[0m         \u001b[1;32mif\u001b[0m \u001b[0mhave_series\u001b[0m\u001b[1;33m:\u001b[0m\u001b[1;33m\u001b[0m\u001b[1;33m\u001b[0m\u001b[0m\n\u001b[1;32m--> 361\u001b[1;33m             \u001b[0mindex\u001b[0m \u001b[1;33m=\u001b[0m \u001b[0m_union_indexes\u001b[0m\u001b[1;33m(\u001b[0m\u001b[0mindexes\u001b[0m\u001b[1;33m)\u001b[0m\u001b[1;33m\u001b[0m\u001b[1;33m\u001b[0m\u001b[0m\n\u001b[0m\u001b[0;32m    362\u001b[0m         \u001b[1;32melif\u001b[0m \u001b[0mhave_dicts\u001b[0m\u001b[1;33m:\u001b[0m\u001b[1;33m\u001b[0m\u001b[1;33m\u001b[0m\u001b[0m\n\u001b[0;32m    363\u001b[0m             \u001b[0mindex\u001b[0m \u001b[1;33m=\u001b[0m \u001b[0m_union_indexes\u001b[0m\u001b[1;33m(\u001b[0m\u001b[0mindexes\u001b[0m\u001b[1;33m,\u001b[0m \u001b[0msort\u001b[0m\u001b[1;33m=\u001b[0m\u001b[1;32mnot\u001b[0m \u001b[1;33m(\u001b[0m\u001b[0mcompat\u001b[0m\u001b[1;33m.\u001b[0m\u001b[0mPY36\u001b[0m \u001b[1;32mor\u001b[0m \u001b[0mhave_ordered\u001b[0m\u001b[1;33m)\u001b[0m\u001b[1;33m)\u001b[0m\u001b[1;33m\u001b[0m\u001b[1;33m\u001b[0m\u001b[0m\n",
         "\u001b[1;32m~\\AppData\\Roaming\\Python\\Python37\\site-packages\\pandas\\core\\indexes\\api.py\u001b[0m in \u001b[0;36m_union_indexes\u001b[1;34m(indexes, sort)\u001b[0m\n\u001b[0;32m    204\u001b[0m         \u001b[1;32melse\u001b[0m\u001b[1;33m:\u001b[0m\u001b[1;33m\u001b[0m\u001b[1;33m\u001b[0m\u001b[0m\n\u001b[0;32m    205\u001b[0m             \u001b[1;32mfor\u001b[0m \u001b[0mother\u001b[0m \u001b[1;32min\u001b[0m \u001b[0mindexes\u001b[0m\u001b[1;33m[\u001b[0m\u001b[1;36m1\u001b[0m\u001b[1;33m:\u001b[0m\u001b[1;33m]\u001b[0m\u001b[1;33m:\u001b[0m\u001b[1;33m\u001b[0m\u001b[1;33m\u001b[0m\u001b[0m\n\u001b[1;32m--> 206\u001b[1;33m                 \u001b[0mresult\u001b[0m \u001b[1;33m=\u001b[0m \u001b[0mresult\u001b[0m\u001b[1;33m.\u001b[0m\u001b[0munion\u001b[0m\u001b[1;33m(\u001b[0m\u001b[0mother\u001b[0m\u001b[1;33m)\u001b[0m\u001b[1;33m\u001b[0m\u001b[1;33m\u001b[0m\u001b[0m\n\u001b[0m\u001b[0;32m    207\u001b[0m             \u001b[1;32mreturn\u001b[0m \u001b[0mresult\u001b[0m\u001b[1;33m\u001b[0m\u001b[1;33m\u001b[0m\u001b[0m\n\u001b[0;32m    208\u001b[0m     \u001b[1;32melif\u001b[0m \u001b[0mkind\u001b[0m \u001b[1;33m==\u001b[0m \u001b[1;34m\"array\"\u001b[0m\u001b[1;33m:\u001b[0m\u001b[1;33m\u001b[0m\u001b[1;33m\u001b[0m\u001b[0m\n",
         "\u001b[1;32m~\\AppData\\Roaming\\Python\\Python37\\site-packages\\pandas\\core\\indexes\\base.py\u001b[0m in \u001b[0;36munion\u001b[1;34m(self, other, sort)\u001b[0m\n\u001b[0;32m   2517\u001b[0m             \u001b[1;32mreturn\u001b[0m \u001b[0mself\u001b[0m\u001b[1;33m.\u001b[0m\u001b[0m_union_incompatible_dtypes\u001b[0m\u001b[1;33m(\u001b[0m\u001b[0mother\u001b[0m\u001b[1;33m,\u001b[0m \u001b[0msort\u001b[0m\u001b[1;33m=\u001b[0m\u001b[0msort\u001b[0m\u001b[1;33m)\u001b[0m\u001b[1;33m\u001b[0m\u001b[1;33m\u001b[0m\u001b[0m\n\u001b[0;32m   2518\u001b[0m \u001b[1;33m\u001b[0m\u001b[0m\n\u001b[1;32m-> 2519\u001b[1;33m         \u001b[1;32mreturn\u001b[0m \u001b[0mself\u001b[0m\u001b[1;33m.\u001b[0m\u001b[0m_union\u001b[0m\u001b[1;33m(\u001b[0m\u001b[0mother\u001b[0m\u001b[1;33m,\u001b[0m \u001b[0msort\u001b[0m\u001b[1;33m=\u001b[0m\u001b[0msort\u001b[0m\u001b[1;33m)\u001b[0m\u001b[1;33m\u001b[0m\u001b[1;33m\u001b[0m\u001b[0m\n\u001b[0m\u001b[0;32m   2520\u001b[0m \u001b[1;33m\u001b[0m\u001b[0m\n\u001b[0;32m   2521\u001b[0m     \u001b[1;32mdef\u001b[0m \u001b[0m_union\u001b[0m\u001b[1;33m(\u001b[0m\u001b[0mself\u001b[0m\u001b[1;33m,\u001b[0m \u001b[0mother\u001b[0m\u001b[1;33m,\u001b[0m \u001b[0msort\u001b[0m\u001b[1;33m)\u001b[0m\u001b[1;33m:\u001b[0m\u001b[1;33m\u001b[0m\u001b[1;33m\u001b[0m\u001b[0m\n",
         "\u001b[1;32m~\\AppData\\Roaming\\Python\\Python37\\site-packages\\pandas\\core\\indexes\\numeric.py\u001b[0m in \u001b[0;36m_union\u001b[1;34m(self, other, sort)\u001b[0m\n\u001b[0;32m    161\u001b[0m             \u001b[1;32mreturn\u001b[0m \u001b[0mfirst\u001b[0m\u001b[1;33m.\u001b[0m\u001b[0m_union\u001b[0m\u001b[1;33m(\u001b[0m\u001b[0msecond\u001b[0m\u001b[1;33m,\u001b[0m \u001b[0msort\u001b[0m\u001b[1;33m)\u001b[0m\u001b[1;33m\u001b[0m\u001b[1;33m\u001b[0m\u001b[0m\n\u001b[0;32m    162\u001b[0m         \u001b[1;32melse\u001b[0m\u001b[1;33m:\u001b[0m\u001b[1;33m\u001b[0m\u001b[1;33m\u001b[0m\u001b[0m\n\u001b[1;32m--> 163\u001b[1;33m             \u001b[1;32mreturn\u001b[0m \u001b[0msuper\u001b[0m\u001b[1;33m(\u001b[0m\u001b[1;33m)\u001b[0m\u001b[1;33m.\u001b[0m\u001b[0m_union\u001b[0m\u001b[1;33m(\u001b[0m\u001b[0mother\u001b[0m\u001b[1;33m,\u001b[0m \u001b[0msort\u001b[0m\u001b[1;33m)\u001b[0m\u001b[1;33m\u001b[0m\u001b[1;33m\u001b[0m\u001b[0m\n\u001b[0m\u001b[0;32m    164\u001b[0m \u001b[1;33m\u001b[0m\u001b[0m\n\u001b[0;32m    165\u001b[0m \u001b[1;33m\u001b[0m\u001b[0m\n",
         "\u001b[1;32m~\\AppData\\Roaming\\Python\\Python37\\site-packages\\pandas\\core\\indexes\\base.py\u001b[0m in \u001b[0;36m_union\u001b[1;34m(self, other, sort)\u001b[0m\n\u001b[0;32m   2566\u001b[0m                 \u001b[0mresult\u001b[0m\u001b[1;33m.\u001b[0m\u001b[0mextend\u001b[0m\u001b[1;33m(\u001b[0m\u001b[1;33m[\u001b[0m\u001b[0mx\u001b[0m \u001b[1;32mfor\u001b[0m \u001b[0mx\u001b[0m \u001b[1;32min\u001b[0m \u001b[0mrvals\u001b[0m \u001b[1;32mif\u001b[0m \u001b[0mx\u001b[0m \u001b[1;32mnot\u001b[0m \u001b[1;32min\u001b[0m \u001b[0mvalue_set\u001b[0m\u001b[1;33m]\u001b[0m\u001b[1;33m)\u001b[0m\u001b[1;33m\u001b[0m\u001b[1;33m\u001b[0m\u001b[0m\n\u001b[0;32m   2567\u001b[0m         \u001b[1;32melse\u001b[0m\u001b[1;33m:\u001b[0m\u001b[1;33m\u001b[0m\u001b[1;33m\u001b[0m\u001b[0m\n\u001b[1;32m-> 2568\u001b[1;33m             \u001b[0mindexer\u001b[0m \u001b[1;33m=\u001b[0m \u001b[0mself\u001b[0m\u001b[1;33m.\u001b[0m\u001b[0mget_indexer\u001b[0m\u001b[1;33m(\u001b[0m\u001b[0mother\u001b[0m\u001b[1;33m)\u001b[0m\u001b[1;33m\u001b[0m\u001b[1;33m\u001b[0m\u001b[0m\n\u001b[0m\u001b[0;32m   2569\u001b[0m             \u001b[0mindexer\u001b[0m\u001b[1;33m,\u001b[0m \u001b[1;33m=\u001b[0m \u001b[1;33m(\u001b[0m\u001b[0mindexer\u001b[0m \u001b[1;33m==\u001b[0m \u001b[1;33m-\u001b[0m\u001b[1;36m1\u001b[0m\u001b[1;33m)\u001b[0m\u001b[1;33m.\u001b[0m\u001b[0mnonzero\u001b[0m\u001b[1;33m(\u001b[0m\u001b[1;33m)\u001b[0m\u001b[1;33m\u001b[0m\u001b[1;33m\u001b[0m\u001b[0m\n\u001b[0;32m   2570\u001b[0m \u001b[1;33m\u001b[0m\u001b[0m\n",
         "\u001b[1;32m~\\AppData\\Roaming\\Python\\Python37\\site-packages\\pandas\\core\\indexes\\base.py\u001b[0m in \u001b[0;36mget_indexer\u001b[1;34m(self, target, method, limit, tolerance)\u001b[0m\n\u001b[0;32m   2983\u001b[0m         \u001b[1;32mif\u001b[0m \u001b[1;32mnot\u001b[0m \u001b[0mself\u001b[0m\u001b[1;33m.\u001b[0m\u001b[0mis_unique\u001b[0m\u001b[1;33m:\u001b[0m\u001b[1;33m\u001b[0m\u001b[1;33m\u001b[0m\u001b[0m\n\u001b[0;32m   2984\u001b[0m             raise InvalidIndexError(\n\u001b[1;32m-> 2985\u001b[1;33m                 \u001b[1;34m\"Reindexing only valid with uniquely\"\u001b[0m \u001b[1;34m\" valued Index objects\"\u001b[0m\u001b[1;33m\u001b[0m\u001b[1;33m\u001b[0m\u001b[0m\n\u001b[0m\u001b[0;32m   2986\u001b[0m             )\n\u001b[0;32m   2987\u001b[0m \u001b[1;33m\u001b[0m\u001b[0m\n",
         "\u001b[1;31mInvalidIndexError\u001b[0m: Reindexing only valid with uniquely valued Index objects"
        ]
       }
      ],
      "source": "pd.DataFrame(\n    {\n        \"repo_url1\" : repository_info.url[ranking_nmf_multiplicative[0][0:9]], \n        \"repo_description1\" : repository_info.description[ranking_nmf_multiplicative[0][0:9]],\n        \"repo_url2\" : repository_info.url[ranking_nmf_multiplicative[1][0:9]], \n        \"repo_description2\" : repository_info.description[ranking_nmf_multiplicative[1][0:9]],\n        \"score\" : ranking_nmf_multiplicative[2][0:9]\n    }\n)",
      "start_time": "2020-04-06T13:58:20.375Z"
     },
     {
      "end_time": "2020-04-07T09:45:43.561Z",
      "execution_time": "213ms",
      "outputs": [
       {
        "ename": "InvalidIndexError",
        "evalue": "Reindexing only valid with uniquely valued Index objects",
        "output_type": "error",
        "traceback": [
         "\u001b[1;31m---------------------------------------------------------------------------\u001b[0m",
         "\u001b[1;31mInvalidIndexError\u001b[0m                         Traceback (most recent call last)",
         "\u001b[1;32m<ipython-input-138-cba7b110a649>\u001b[0m in \u001b[0;36m<module>\u001b[1;34m\u001b[0m\n\u001b[0;32m      5\u001b[0m         \u001b[1;34m\"repo_url2\"\u001b[0m \u001b[1;33m:\u001b[0m \u001b[0mrepository_info\u001b[0m\u001b[1;33m.\u001b[0m\u001b[0murl\u001b[0m\u001b[1;33m[\u001b[0m\u001b[0mranking_nmf_multiplicative\u001b[0m\u001b[1;33m[\u001b[0m\u001b[1;36m1\u001b[0m\u001b[1;33m]\u001b[0m\u001b[1;33m[\u001b[0m\u001b[1;36m0\u001b[0m\u001b[1;33m:\u001b[0m\u001b[1;36m9\u001b[0m\u001b[1;33m]\u001b[0m\u001b[1;33m]\u001b[0m\u001b[1;33m,\u001b[0m\u001b[1;33m\u001b[0m\u001b[1;33m\u001b[0m\u001b[0m\n\u001b[0;32m      6\u001b[0m         \u001b[1;34m\"repo_description2\"\u001b[0m \u001b[1;33m:\u001b[0m \u001b[0mrepository_info\u001b[0m\u001b[1;33m.\u001b[0m\u001b[0mdescription\u001b[0m\u001b[1;33m[\u001b[0m\u001b[0mranking_nmf_multiplicative\u001b[0m\u001b[1;33m[\u001b[0m\u001b[1;36m1\u001b[0m\u001b[1;33m]\u001b[0m\u001b[1;33m[\u001b[0m\u001b[1;36m0\u001b[0m\u001b[1;33m:\u001b[0m\u001b[1;36m9\u001b[0m\u001b[1;33m]\u001b[0m\u001b[1;33m]\u001b[0m\u001b[1;33m,\u001b[0m\u001b[1;33m\u001b[0m\u001b[1;33m\u001b[0m\u001b[0m\n\u001b[1;32m----> 7\u001b[1;33m         \u001b[1;34m\"score\"\u001b[0m \u001b[1;33m:\u001b[0m \u001b[0mranking_nmf_multiplicative\u001b[0m\u001b[1;33m[\u001b[0m\u001b[1;36m2\u001b[0m\u001b[1;33m]\u001b[0m\u001b[1;33m[\u001b[0m\u001b[1;36m0\u001b[0m\u001b[1;33m:\u001b[0m\u001b[1;36m9\u001b[0m\u001b[1;33m]\u001b[0m\u001b[1;33m\u001b[0m\u001b[1;33m\u001b[0m\u001b[0m\n\u001b[0m\u001b[0;32m      8\u001b[0m     }\n\u001b[0;32m      9\u001b[0m )\n",
         "\u001b[1;32m~\\AppData\\Roaming\\Python\\Python37\\site-packages\\pandas\\core\\frame.py\u001b[0m in \u001b[0;36m__init__\u001b[1;34m(self, data, index, columns, dtype, copy)\u001b[0m\n\u001b[0;32m    409\u001b[0m             )\n\u001b[0;32m    410\u001b[0m         \u001b[1;32melif\u001b[0m \u001b[0misinstance\u001b[0m\u001b[1;33m(\u001b[0m\u001b[0mdata\u001b[0m\u001b[1;33m,\u001b[0m \u001b[0mdict\u001b[0m\u001b[1;33m)\u001b[0m\u001b[1;33m:\u001b[0m\u001b[1;33m\u001b[0m\u001b[1;33m\u001b[0m\u001b[0m\n\u001b[1;32m--> 411\u001b[1;33m             \u001b[0mmgr\u001b[0m \u001b[1;33m=\u001b[0m \u001b[0minit_dict\u001b[0m\u001b[1;33m(\u001b[0m\u001b[0mdata\u001b[0m\u001b[1;33m,\u001b[0m \u001b[0mindex\u001b[0m\u001b[1;33m,\u001b[0m \u001b[0mcolumns\u001b[0m\u001b[1;33m,\u001b[0m \u001b[0mdtype\u001b[0m\u001b[1;33m=\u001b[0m\u001b[0mdtype\u001b[0m\u001b[1;33m)\u001b[0m\u001b[1;33m\u001b[0m\u001b[1;33m\u001b[0m\u001b[0m\n\u001b[0m\u001b[0;32m    412\u001b[0m         \u001b[1;32melif\u001b[0m \u001b[0misinstance\u001b[0m\u001b[1;33m(\u001b[0m\u001b[0mdata\u001b[0m\u001b[1;33m,\u001b[0m \u001b[0mma\u001b[0m\u001b[1;33m.\u001b[0m\u001b[0mMaskedArray\u001b[0m\u001b[1;33m)\u001b[0m\u001b[1;33m:\u001b[0m\u001b[1;33m\u001b[0m\u001b[1;33m\u001b[0m\u001b[0m\n\u001b[0;32m    413\u001b[0m             \u001b[1;32mimport\u001b[0m \u001b[0mnumpy\u001b[0m\u001b[1;33m.\u001b[0m\u001b[0mma\u001b[0m\u001b[1;33m.\u001b[0m\u001b[0mmrecords\u001b[0m \u001b[1;32mas\u001b[0m \u001b[0mmrecords\u001b[0m\u001b[1;33m\u001b[0m\u001b[1;33m\u001b[0m\u001b[0m\n",
         "\u001b[1;32m~\\AppData\\Roaming\\Python\\Python37\\site-packages\\pandas\\core\\internals\\construction.py\u001b[0m in \u001b[0;36minit_dict\u001b[1;34m(data, index, columns, dtype)\u001b[0m\n\u001b[0;32m    255\u001b[0m             \u001b[0marr\u001b[0m \u001b[1;32mif\u001b[0m \u001b[1;32mnot\u001b[0m \u001b[0mis_datetime64tz_dtype\u001b[0m\u001b[1;33m(\u001b[0m\u001b[0marr\u001b[0m\u001b[1;33m)\u001b[0m \u001b[1;32melse\u001b[0m \u001b[0marr\u001b[0m\u001b[1;33m.\u001b[0m\u001b[0mcopy\u001b[0m\u001b[1;33m(\u001b[0m\u001b[1;33m)\u001b[0m \u001b[1;32mfor\u001b[0m \u001b[0marr\u001b[0m \u001b[1;32min\u001b[0m \u001b[0marrays\u001b[0m\u001b[1;33m\u001b[0m\u001b[1;33m\u001b[0m\u001b[0m\n\u001b[0;32m    256\u001b[0m         ]\n\u001b[1;32m--> 257\u001b[1;33m     \u001b[1;32mreturn\u001b[0m \u001b[0marrays_to_mgr\u001b[0m\u001b[1;33m(\u001b[0m\u001b[0marrays\u001b[0m\u001b[1;33m,\u001b[0m \u001b[0mdata_names\u001b[0m\u001b[1;33m,\u001b[0m \u001b[0mindex\u001b[0m\u001b[1;33m,\u001b[0m \u001b[0mcolumns\u001b[0m\u001b[1;33m,\u001b[0m \u001b[0mdtype\u001b[0m\u001b[1;33m=\u001b[0m\u001b[0mdtype\u001b[0m\u001b[1;33m)\u001b[0m\u001b[1;33m\u001b[0m\u001b[1;33m\u001b[0m\u001b[0m\n\u001b[0m\u001b[0;32m    258\u001b[0m \u001b[1;33m\u001b[0m\u001b[0m\n\u001b[0;32m    259\u001b[0m \u001b[1;33m\u001b[0m\u001b[0m\n",
         "\u001b[1;32m~\\AppData\\Roaming\\Python\\Python37\\site-packages\\pandas\\core\\internals\\construction.py\u001b[0m in \u001b[0;36marrays_to_mgr\u001b[1;34m(arrays, arr_names, index, columns, dtype)\u001b[0m\n\u001b[0;32m     75\u001b[0m     \u001b[1;31m# figure out the index, if necessary\u001b[0m\u001b[1;33m\u001b[0m\u001b[1;33m\u001b[0m\u001b[1;33m\u001b[0m\u001b[0m\n\u001b[0;32m     76\u001b[0m     \u001b[1;32mif\u001b[0m \u001b[0mindex\u001b[0m \u001b[1;32mis\u001b[0m \u001b[1;32mNone\u001b[0m\u001b[1;33m:\u001b[0m\u001b[1;33m\u001b[0m\u001b[1;33m\u001b[0m\u001b[0m\n\u001b[1;32m---> 77\u001b[1;33m         \u001b[0mindex\u001b[0m \u001b[1;33m=\u001b[0m \u001b[0mextract_index\u001b[0m\u001b[1;33m(\u001b[0m\u001b[0marrays\u001b[0m\u001b[1;33m)\u001b[0m\u001b[1;33m\u001b[0m\u001b[1;33m\u001b[0m\u001b[0m\n\u001b[0m\u001b[0;32m     78\u001b[0m     \u001b[1;32melse\u001b[0m\u001b[1;33m:\u001b[0m\u001b[1;33m\u001b[0m\u001b[1;33m\u001b[0m\u001b[0m\n\u001b[0;32m     79\u001b[0m         \u001b[0mindex\u001b[0m \u001b[1;33m=\u001b[0m \u001b[0mensure_index\u001b[0m\u001b[1;33m(\u001b[0m\u001b[0mindex\u001b[0m\u001b[1;33m)\u001b[0m\u001b[1;33m\u001b[0m\u001b[1;33m\u001b[0m\u001b[0m\n",
         "\u001b[1;32m~\\AppData\\Roaming\\Python\\Python37\\site-packages\\pandas\\core\\internals\\construction.py\u001b[0m in \u001b[0;36mextract_index\u001b[1;34m(data)\u001b[0m\n\u001b[0;32m    359\u001b[0m \u001b[1;33m\u001b[0m\u001b[0m\n\u001b[0;32m    360\u001b[0m         \u001b[1;32mif\u001b[0m \u001b[0mhave_series\u001b[0m\u001b[1;33m:\u001b[0m\u001b[1;33m\u001b[0m\u001b[1;33m\u001b[0m\u001b[0m\n\u001b[1;32m--> 361\u001b[1;33m             \u001b[0mindex\u001b[0m \u001b[1;33m=\u001b[0m \u001b[0m_union_indexes\u001b[0m\u001b[1;33m(\u001b[0m\u001b[0mindexes\u001b[0m\u001b[1;33m)\u001b[0m\u001b[1;33m\u001b[0m\u001b[1;33m\u001b[0m\u001b[0m\n\u001b[0m\u001b[0;32m    362\u001b[0m         \u001b[1;32melif\u001b[0m \u001b[0mhave_dicts\u001b[0m\u001b[1;33m:\u001b[0m\u001b[1;33m\u001b[0m\u001b[1;33m\u001b[0m\u001b[0m\n\u001b[0;32m    363\u001b[0m             \u001b[0mindex\u001b[0m \u001b[1;33m=\u001b[0m \u001b[0m_union_indexes\u001b[0m\u001b[1;33m(\u001b[0m\u001b[0mindexes\u001b[0m\u001b[1;33m,\u001b[0m \u001b[0msort\u001b[0m\u001b[1;33m=\u001b[0m\u001b[1;32mnot\u001b[0m \u001b[1;33m(\u001b[0m\u001b[0mcompat\u001b[0m\u001b[1;33m.\u001b[0m\u001b[0mPY36\u001b[0m \u001b[1;32mor\u001b[0m \u001b[0mhave_ordered\u001b[0m\u001b[1;33m)\u001b[0m\u001b[1;33m)\u001b[0m\u001b[1;33m\u001b[0m\u001b[1;33m\u001b[0m\u001b[0m\n",
         "\u001b[1;32m~\\AppData\\Roaming\\Python\\Python37\\site-packages\\pandas\\core\\indexes\\api.py\u001b[0m in \u001b[0;36m_union_indexes\u001b[1;34m(indexes, sort)\u001b[0m\n\u001b[0;32m    204\u001b[0m         \u001b[1;32melse\u001b[0m\u001b[1;33m:\u001b[0m\u001b[1;33m\u001b[0m\u001b[1;33m\u001b[0m\u001b[0m\n\u001b[0;32m    205\u001b[0m             \u001b[1;32mfor\u001b[0m \u001b[0mother\u001b[0m \u001b[1;32min\u001b[0m \u001b[0mindexes\u001b[0m\u001b[1;33m[\u001b[0m\u001b[1;36m1\u001b[0m\u001b[1;33m:\u001b[0m\u001b[1;33m]\u001b[0m\u001b[1;33m:\u001b[0m\u001b[1;33m\u001b[0m\u001b[1;33m\u001b[0m\u001b[0m\n\u001b[1;32m--> 206\u001b[1;33m                 \u001b[0mresult\u001b[0m \u001b[1;33m=\u001b[0m \u001b[0mresult\u001b[0m\u001b[1;33m.\u001b[0m\u001b[0munion\u001b[0m\u001b[1;33m(\u001b[0m\u001b[0mother\u001b[0m\u001b[1;33m)\u001b[0m\u001b[1;33m\u001b[0m\u001b[1;33m\u001b[0m\u001b[0m\n\u001b[0m\u001b[0;32m    207\u001b[0m             \u001b[1;32mreturn\u001b[0m \u001b[0mresult\u001b[0m\u001b[1;33m\u001b[0m\u001b[1;33m\u001b[0m\u001b[0m\n\u001b[0;32m    208\u001b[0m     \u001b[1;32melif\u001b[0m \u001b[0mkind\u001b[0m \u001b[1;33m==\u001b[0m \u001b[1;34m\"array\"\u001b[0m\u001b[1;33m:\u001b[0m\u001b[1;33m\u001b[0m\u001b[1;33m\u001b[0m\u001b[0m\n",
         "\u001b[1;32m~\\AppData\\Roaming\\Python\\Python37\\site-packages\\pandas\\core\\indexes\\base.py\u001b[0m in \u001b[0;36munion\u001b[1;34m(self, other, sort)\u001b[0m\n\u001b[0;32m   2517\u001b[0m             \u001b[1;32mreturn\u001b[0m \u001b[0mself\u001b[0m\u001b[1;33m.\u001b[0m\u001b[0m_union_incompatible_dtypes\u001b[0m\u001b[1;33m(\u001b[0m\u001b[0mother\u001b[0m\u001b[1;33m,\u001b[0m \u001b[0msort\u001b[0m\u001b[1;33m=\u001b[0m\u001b[0msort\u001b[0m\u001b[1;33m)\u001b[0m\u001b[1;33m\u001b[0m\u001b[1;33m\u001b[0m\u001b[0m\n\u001b[0;32m   2518\u001b[0m \u001b[1;33m\u001b[0m\u001b[0m\n\u001b[1;32m-> 2519\u001b[1;33m         \u001b[1;32mreturn\u001b[0m \u001b[0mself\u001b[0m\u001b[1;33m.\u001b[0m\u001b[0m_union\u001b[0m\u001b[1;33m(\u001b[0m\u001b[0mother\u001b[0m\u001b[1;33m,\u001b[0m \u001b[0msort\u001b[0m\u001b[1;33m=\u001b[0m\u001b[0msort\u001b[0m\u001b[1;33m)\u001b[0m\u001b[1;33m\u001b[0m\u001b[1;33m\u001b[0m\u001b[0m\n\u001b[0m\u001b[0;32m   2520\u001b[0m \u001b[1;33m\u001b[0m\u001b[0m\n\u001b[0;32m   2521\u001b[0m     \u001b[1;32mdef\u001b[0m \u001b[0m_union\u001b[0m\u001b[1;33m(\u001b[0m\u001b[0mself\u001b[0m\u001b[1;33m,\u001b[0m \u001b[0mother\u001b[0m\u001b[1;33m,\u001b[0m \u001b[0msort\u001b[0m\u001b[1;33m)\u001b[0m\u001b[1;33m:\u001b[0m\u001b[1;33m\u001b[0m\u001b[1;33m\u001b[0m\u001b[0m\n",
         "\u001b[1;32m~\\AppData\\Roaming\\Python\\Python37\\site-packages\\pandas\\core\\indexes\\numeric.py\u001b[0m in \u001b[0;36m_union\u001b[1;34m(self, other, sort)\u001b[0m\n\u001b[0;32m    161\u001b[0m             \u001b[1;32mreturn\u001b[0m \u001b[0mfirst\u001b[0m\u001b[1;33m.\u001b[0m\u001b[0m_union\u001b[0m\u001b[1;33m(\u001b[0m\u001b[0msecond\u001b[0m\u001b[1;33m,\u001b[0m \u001b[0msort\u001b[0m\u001b[1;33m)\u001b[0m\u001b[1;33m\u001b[0m\u001b[1;33m\u001b[0m\u001b[0m\n\u001b[0;32m    162\u001b[0m         \u001b[1;32melse\u001b[0m\u001b[1;33m:\u001b[0m\u001b[1;33m\u001b[0m\u001b[1;33m\u001b[0m\u001b[0m\n\u001b[1;32m--> 163\u001b[1;33m             \u001b[1;32mreturn\u001b[0m \u001b[0msuper\u001b[0m\u001b[1;33m(\u001b[0m\u001b[1;33m)\u001b[0m\u001b[1;33m.\u001b[0m\u001b[0m_union\u001b[0m\u001b[1;33m(\u001b[0m\u001b[0mother\u001b[0m\u001b[1;33m,\u001b[0m \u001b[0msort\u001b[0m\u001b[1;33m)\u001b[0m\u001b[1;33m\u001b[0m\u001b[1;33m\u001b[0m\u001b[0m\n\u001b[0m\u001b[0;32m    164\u001b[0m \u001b[1;33m\u001b[0m\u001b[0m\n\u001b[0;32m    165\u001b[0m \u001b[1;33m\u001b[0m\u001b[0m\n",
         "\u001b[1;32m~\\AppData\\Roaming\\Python\\Python37\\site-packages\\pandas\\core\\indexes\\base.py\u001b[0m in \u001b[0;36m_union\u001b[1;34m(self, other, sort)\u001b[0m\n\u001b[0;32m   2566\u001b[0m                 \u001b[0mresult\u001b[0m\u001b[1;33m.\u001b[0m\u001b[0mextend\u001b[0m\u001b[1;33m(\u001b[0m\u001b[1;33m[\u001b[0m\u001b[0mx\u001b[0m \u001b[1;32mfor\u001b[0m \u001b[0mx\u001b[0m \u001b[1;32min\u001b[0m \u001b[0mrvals\u001b[0m \u001b[1;32mif\u001b[0m \u001b[0mx\u001b[0m \u001b[1;32mnot\u001b[0m \u001b[1;32min\u001b[0m \u001b[0mvalue_set\u001b[0m\u001b[1;33m]\u001b[0m\u001b[1;33m)\u001b[0m\u001b[1;33m\u001b[0m\u001b[1;33m\u001b[0m\u001b[0m\n\u001b[0;32m   2567\u001b[0m         \u001b[1;32melse\u001b[0m\u001b[1;33m:\u001b[0m\u001b[1;33m\u001b[0m\u001b[1;33m\u001b[0m\u001b[0m\n\u001b[1;32m-> 2568\u001b[1;33m             \u001b[0mindexer\u001b[0m \u001b[1;33m=\u001b[0m \u001b[0mself\u001b[0m\u001b[1;33m.\u001b[0m\u001b[0mget_indexer\u001b[0m\u001b[1;33m(\u001b[0m\u001b[0mother\u001b[0m\u001b[1;33m)\u001b[0m\u001b[1;33m\u001b[0m\u001b[1;33m\u001b[0m\u001b[0m\n\u001b[0m\u001b[0;32m   2569\u001b[0m             \u001b[0mindexer\u001b[0m\u001b[1;33m,\u001b[0m \u001b[1;33m=\u001b[0m \u001b[1;33m(\u001b[0m\u001b[0mindexer\u001b[0m \u001b[1;33m==\u001b[0m \u001b[1;33m-\u001b[0m\u001b[1;36m1\u001b[0m\u001b[1;33m)\u001b[0m\u001b[1;33m.\u001b[0m\u001b[0mnonzero\u001b[0m\u001b[1;33m(\u001b[0m\u001b[1;33m)\u001b[0m\u001b[1;33m\u001b[0m\u001b[1;33m\u001b[0m\u001b[0m\n\u001b[0;32m   2570\u001b[0m \u001b[1;33m\u001b[0m\u001b[0m\n",
         "\u001b[1;32m~\\AppData\\Roaming\\Python\\Python37\\site-packages\\pandas\\core\\indexes\\base.py\u001b[0m in \u001b[0;36mget_indexer\u001b[1;34m(self, target, method, limit, tolerance)\u001b[0m\n\u001b[0;32m   2983\u001b[0m         \u001b[1;32mif\u001b[0m \u001b[1;32mnot\u001b[0m \u001b[0mself\u001b[0m\u001b[1;33m.\u001b[0m\u001b[0mis_unique\u001b[0m\u001b[1;33m:\u001b[0m\u001b[1;33m\u001b[0m\u001b[1;33m\u001b[0m\u001b[0m\n\u001b[0;32m   2984\u001b[0m             raise InvalidIndexError(\n\u001b[1;32m-> 2985\u001b[1;33m                 \u001b[1;34m\"Reindexing only valid with uniquely\"\u001b[0m \u001b[1;34m\" valued Index objects\"\u001b[0m\u001b[1;33m\u001b[0m\u001b[1;33m\u001b[0m\u001b[0m\n\u001b[0m\u001b[0;32m   2986\u001b[0m             )\n\u001b[0;32m   2987\u001b[0m \u001b[1;33m\u001b[0m\u001b[0m\n",
         "\u001b[1;31mInvalidIndexError\u001b[0m: Reindexing only valid with uniquely valued Index objects"
        ]
       }
      ],
      "source": "pd.DataFrame(\n    {\n        \"repo_url1\" : repository_info.url[ranking_nmf_multiplicative[0][0:9]], \n        \"repo_description1\" : repository_info.description[ranking_nmf_multiplicative[0][0:9]],\n        \"repo_url2\" : repository_info.url[ranking_nmf_multiplicative[1][0:9]], \n        \"repo_description2\" : repository_info.description[ranking_nmf_multiplicative[1][0:9]],\n        \"score\" : ranking_nmf_multiplicative[2][0:9]\n    }\n)",
      "start_time": "2020-04-07T09:45:43.348Z"
     },
     {
      "end_time": "2020-04-07T09:45:56.177Z",
      "execution_time": "38ms",
      "outputs": [
       {
        "ename": "InvalidIndexError",
        "evalue": "Reindexing only valid with uniquely valued Index objects",
        "output_type": "error",
        "traceback": [
         "\u001b[1;31m---------------------------------------------------------------------------\u001b[0m",
         "\u001b[1;31mInvalidIndexError\u001b[0m                         Traceback (most recent call last)",
         "\u001b[1;32m<ipython-input-139-0eac97ec4af9>\u001b[0m in \u001b[0;36m<module>\u001b[1;34m\u001b[0m\n\u001b[0;32m      4\u001b[0m         \u001b[1;34m\"repo_description1\"\u001b[0m \u001b[1;33m:\u001b[0m \u001b[0mrepository_info\u001b[0m\u001b[1;33m.\u001b[0m\u001b[0mdescription\u001b[0m\u001b[1;33m[\u001b[0m\u001b[0mranking_nmf_multiplicative\u001b[0m\u001b[1;33m[\u001b[0m\u001b[1;36m0\u001b[0m\u001b[1;33m]\u001b[0m\u001b[1;33m[\u001b[0m\u001b[1;36m0\u001b[0m\u001b[1;33m:\u001b[0m\u001b[1;36m9\u001b[0m\u001b[1;33m]\u001b[0m\u001b[1;33m]\u001b[0m\u001b[1;33m,\u001b[0m\u001b[1;33m\u001b[0m\u001b[1;33m\u001b[0m\u001b[0m\n\u001b[0;32m      5\u001b[0m         \u001b[1;34m\"repo_url2\"\u001b[0m \u001b[1;33m:\u001b[0m \u001b[0mrepository_info\u001b[0m\u001b[1;33m.\u001b[0m\u001b[0murl\u001b[0m\u001b[1;33m[\u001b[0m\u001b[0mranking_nmf_multiplicative\u001b[0m\u001b[1;33m[\u001b[0m\u001b[1;36m1\u001b[0m\u001b[1;33m]\u001b[0m\u001b[1;33m[\u001b[0m\u001b[1;36m0\u001b[0m\u001b[1;33m:\u001b[0m\u001b[1;36m9\u001b[0m\u001b[1;33m]\u001b[0m\u001b[1;33m]\u001b[0m\u001b[1;33m,\u001b[0m\u001b[1;33m\u001b[0m\u001b[1;33m\u001b[0m\u001b[0m\n\u001b[1;32m----> 6\u001b[1;33m         \u001b[1;34m\"repo_description2\"\u001b[0m \u001b[1;33m:\u001b[0m \u001b[0mrepository_info\u001b[0m\u001b[1;33m.\u001b[0m\u001b[0mdescription\u001b[0m\u001b[1;33m[\u001b[0m\u001b[0mranking_nmf_multiplicative\u001b[0m\u001b[1;33m[\u001b[0m\u001b[1;36m1\u001b[0m\u001b[1;33m]\u001b[0m\u001b[1;33m[\u001b[0m\u001b[1;36m0\u001b[0m\u001b[1;33m:\u001b[0m\u001b[1;36m9\u001b[0m\u001b[1;33m]\u001b[0m\u001b[1;33m]\u001b[0m\u001b[1;31m#,\u001b[0m\u001b[1;33m\u001b[0m\u001b[1;33m\u001b[0m\u001b[0m\n\u001b[0m\u001b[0;32m      7\u001b[0m         \u001b[1;31m#\"score\" : ranking_nmf_multiplicative[2][0:9]\u001b[0m\u001b[1;33m\u001b[0m\u001b[1;33m\u001b[0m\u001b[1;33m\u001b[0m\u001b[0m\n\u001b[0;32m      8\u001b[0m     }\n",
         "\u001b[1;32m~\\AppData\\Roaming\\Python\\Python37\\site-packages\\pandas\\core\\frame.py\u001b[0m in \u001b[0;36m__init__\u001b[1;34m(self, data, index, columns, dtype, copy)\u001b[0m\n\u001b[0;32m    409\u001b[0m             )\n\u001b[0;32m    410\u001b[0m         \u001b[1;32melif\u001b[0m \u001b[0misinstance\u001b[0m\u001b[1;33m(\u001b[0m\u001b[0mdata\u001b[0m\u001b[1;33m,\u001b[0m \u001b[0mdict\u001b[0m\u001b[1;33m)\u001b[0m\u001b[1;33m:\u001b[0m\u001b[1;33m\u001b[0m\u001b[1;33m\u001b[0m\u001b[0m\n\u001b[1;32m--> 411\u001b[1;33m             \u001b[0mmgr\u001b[0m \u001b[1;33m=\u001b[0m \u001b[0minit_dict\u001b[0m\u001b[1;33m(\u001b[0m\u001b[0mdata\u001b[0m\u001b[1;33m,\u001b[0m \u001b[0mindex\u001b[0m\u001b[1;33m,\u001b[0m \u001b[0mcolumns\u001b[0m\u001b[1;33m,\u001b[0m \u001b[0mdtype\u001b[0m\u001b[1;33m=\u001b[0m\u001b[0mdtype\u001b[0m\u001b[1;33m)\u001b[0m\u001b[1;33m\u001b[0m\u001b[1;33m\u001b[0m\u001b[0m\n\u001b[0m\u001b[0;32m    412\u001b[0m         \u001b[1;32melif\u001b[0m \u001b[0misinstance\u001b[0m\u001b[1;33m(\u001b[0m\u001b[0mdata\u001b[0m\u001b[1;33m,\u001b[0m \u001b[0mma\u001b[0m\u001b[1;33m.\u001b[0m\u001b[0mMaskedArray\u001b[0m\u001b[1;33m)\u001b[0m\u001b[1;33m:\u001b[0m\u001b[1;33m\u001b[0m\u001b[1;33m\u001b[0m\u001b[0m\n\u001b[0;32m    413\u001b[0m             \u001b[1;32mimport\u001b[0m \u001b[0mnumpy\u001b[0m\u001b[1;33m.\u001b[0m\u001b[0mma\u001b[0m\u001b[1;33m.\u001b[0m\u001b[0mmrecords\u001b[0m \u001b[1;32mas\u001b[0m \u001b[0mmrecords\u001b[0m\u001b[1;33m\u001b[0m\u001b[1;33m\u001b[0m\u001b[0m\n",
         "\u001b[1;32m~\\AppData\\Roaming\\Python\\Python37\\site-packages\\pandas\\core\\internals\\construction.py\u001b[0m in \u001b[0;36minit_dict\u001b[1;34m(data, index, columns, dtype)\u001b[0m\n\u001b[0;32m    255\u001b[0m             \u001b[0marr\u001b[0m \u001b[1;32mif\u001b[0m \u001b[1;32mnot\u001b[0m \u001b[0mis_datetime64tz_dtype\u001b[0m\u001b[1;33m(\u001b[0m\u001b[0marr\u001b[0m\u001b[1;33m)\u001b[0m \u001b[1;32melse\u001b[0m \u001b[0marr\u001b[0m\u001b[1;33m.\u001b[0m\u001b[0mcopy\u001b[0m\u001b[1;33m(\u001b[0m\u001b[1;33m)\u001b[0m \u001b[1;32mfor\u001b[0m \u001b[0marr\u001b[0m \u001b[1;32min\u001b[0m \u001b[0marrays\u001b[0m\u001b[1;33m\u001b[0m\u001b[1;33m\u001b[0m\u001b[0m\n\u001b[0;32m    256\u001b[0m         ]\n\u001b[1;32m--> 257\u001b[1;33m     \u001b[1;32mreturn\u001b[0m \u001b[0marrays_to_mgr\u001b[0m\u001b[1;33m(\u001b[0m\u001b[0marrays\u001b[0m\u001b[1;33m,\u001b[0m \u001b[0mdata_names\u001b[0m\u001b[1;33m,\u001b[0m \u001b[0mindex\u001b[0m\u001b[1;33m,\u001b[0m \u001b[0mcolumns\u001b[0m\u001b[1;33m,\u001b[0m \u001b[0mdtype\u001b[0m\u001b[1;33m=\u001b[0m\u001b[0mdtype\u001b[0m\u001b[1;33m)\u001b[0m\u001b[1;33m\u001b[0m\u001b[1;33m\u001b[0m\u001b[0m\n\u001b[0m\u001b[0;32m    258\u001b[0m \u001b[1;33m\u001b[0m\u001b[0m\n\u001b[0;32m    259\u001b[0m \u001b[1;33m\u001b[0m\u001b[0m\n",
         "\u001b[1;32m~\\AppData\\Roaming\\Python\\Python37\\site-packages\\pandas\\core\\internals\\construction.py\u001b[0m in \u001b[0;36marrays_to_mgr\u001b[1;34m(arrays, arr_names, index, columns, dtype)\u001b[0m\n\u001b[0;32m     75\u001b[0m     \u001b[1;31m# figure out the index, if necessary\u001b[0m\u001b[1;33m\u001b[0m\u001b[1;33m\u001b[0m\u001b[1;33m\u001b[0m\u001b[0m\n\u001b[0;32m     76\u001b[0m     \u001b[1;32mif\u001b[0m \u001b[0mindex\u001b[0m \u001b[1;32mis\u001b[0m \u001b[1;32mNone\u001b[0m\u001b[1;33m:\u001b[0m\u001b[1;33m\u001b[0m\u001b[1;33m\u001b[0m\u001b[0m\n\u001b[1;32m---> 77\u001b[1;33m         \u001b[0mindex\u001b[0m \u001b[1;33m=\u001b[0m \u001b[0mextract_index\u001b[0m\u001b[1;33m(\u001b[0m\u001b[0marrays\u001b[0m\u001b[1;33m)\u001b[0m\u001b[1;33m\u001b[0m\u001b[1;33m\u001b[0m\u001b[0m\n\u001b[0m\u001b[0;32m     78\u001b[0m     \u001b[1;32melse\u001b[0m\u001b[1;33m:\u001b[0m\u001b[1;33m\u001b[0m\u001b[1;33m\u001b[0m\u001b[0m\n\u001b[0;32m     79\u001b[0m         \u001b[0mindex\u001b[0m \u001b[1;33m=\u001b[0m \u001b[0mensure_index\u001b[0m\u001b[1;33m(\u001b[0m\u001b[0mindex\u001b[0m\u001b[1;33m)\u001b[0m\u001b[1;33m\u001b[0m\u001b[1;33m\u001b[0m\u001b[0m\n",
         "\u001b[1;32m~\\AppData\\Roaming\\Python\\Python37\\site-packages\\pandas\\core\\internals\\construction.py\u001b[0m in \u001b[0;36mextract_index\u001b[1;34m(data)\u001b[0m\n\u001b[0;32m    359\u001b[0m \u001b[1;33m\u001b[0m\u001b[0m\n\u001b[0;32m    360\u001b[0m         \u001b[1;32mif\u001b[0m \u001b[0mhave_series\u001b[0m\u001b[1;33m:\u001b[0m\u001b[1;33m\u001b[0m\u001b[1;33m\u001b[0m\u001b[0m\n\u001b[1;32m--> 361\u001b[1;33m             \u001b[0mindex\u001b[0m \u001b[1;33m=\u001b[0m \u001b[0m_union_indexes\u001b[0m\u001b[1;33m(\u001b[0m\u001b[0mindexes\u001b[0m\u001b[1;33m)\u001b[0m\u001b[1;33m\u001b[0m\u001b[1;33m\u001b[0m\u001b[0m\n\u001b[0m\u001b[0;32m    362\u001b[0m         \u001b[1;32melif\u001b[0m \u001b[0mhave_dicts\u001b[0m\u001b[1;33m:\u001b[0m\u001b[1;33m\u001b[0m\u001b[1;33m\u001b[0m\u001b[0m\n\u001b[0;32m    363\u001b[0m             \u001b[0mindex\u001b[0m \u001b[1;33m=\u001b[0m \u001b[0m_union_indexes\u001b[0m\u001b[1;33m(\u001b[0m\u001b[0mindexes\u001b[0m\u001b[1;33m,\u001b[0m \u001b[0msort\u001b[0m\u001b[1;33m=\u001b[0m\u001b[1;32mnot\u001b[0m \u001b[1;33m(\u001b[0m\u001b[0mcompat\u001b[0m\u001b[1;33m.\u001b[0m\u001b[0mPY36\u001b[0m \u001b[1;32mor\u001b[0m \u001b[0mhave_ordered\u001b[0m\u001b[1;33m)\u001b[0m\u001b[1;33m)\u001b[0m\u001b[1;33m\u001b[0m\u001b[1;33m\u001b[0m\u001b[0m\n",
         "\u001b[1;32m~\\AppData\\Roaming\\Python\\Python37\\site-packages\\pandas\\core\\indexes\\api.py\u001b[0m in \u001b[0;36m_union_indexes\u001b[1;34m(indexes, sort)\u001b[0m\n\u001b[0;32m    204\u001b[0m         \u001b[1;32melse\u001b[0m\u001b[1;33m:\u001b[0m\u001b[1;33m\u001b[0m\u001b[1;33m\u001b[0m\u001b[0m\n\u001b[0;32m    205\u001b[0m             \u001b[1;32mfor\u001b[0m \u001b[0mother\u001b[0m \u001b[1;32min\u001b[0m \u001b[0mindexes\u001b[0m\u001b[1;33m[\u001b[0m\u001b[1;36m1\u001b[0m\u001b[1;33m:\u001b[0m\u001b[1;33m]\u001b[0m\u001b[1;33m:\u001b[0m\u001b[1;33m\u001b[0m\u001b[1;33m\u001b[0m\u001b[0m\n\u001b[1;32m--> 206\u001b[1;33m                 \u001b[0mresult\u001b[0m \u001b[1;33m=\u001b[0m \u001b[0mresult\u001b[0m\u001b[1;33m.\u001b[0m\u001b[0munion\u001b[0m\u001b[1;33m(\u001b[0m\u001b[0mother\u001b[0m\u001b[1;33m)\u001b[0m\u001b[1;33m\u001b[0m\u001b[1;33m\u001b[0m\u001b[0m\n\u001b[0m\u001b[0;32m    207\u001b[0m             \u001b[1;32mreturn\u001b[0m \u001b[0mresult\u001b[0m\u001b[1;33m\u001b[0m\u001b[1;33m\u001b[0m\u001b[0m\n\u001b[0;32m    208\u001b[0m     \u001b[1;32melif\u001b[0m \u001b[0mkind\u001b[0m \u001b[1;33m==\u001b[0m \u001b[1;34m\"array\"\u001b[0m\u001b[1;33m:\u001b[0m\u001b[1;33m\u001b[0m\u001b[1;33m\u001b[0m\u001b[0m\n",
         "\u001b[1;32m~\\AppData\\Roaming\\Python\\Python37\\site-packages\\pandas\\core\\indexes\\base.py\u001b[0m in \u001b[0;36munion\u001b[1;34m(self, other, sort)\u001b[0m\n\u001b[0;32m   2517\u001b[0m             \u001b[1;32mreturn\u001b[0m \u001b[0mself\u001b[0m\u001b[1;33m.\u001b[0m\u001b[0m_union_incompatible_dtypes\u001b[0m\u001b[1;33m(\u001b[0m\u001b[0mother\u001b[0m\u001b[1;33m,\u001b[0m \u001b[0msort\u001b[0m\u001b[1;33m=\u001b[0m\u001b[0msort\u001b[0m\u001b[1;33m)\u001b[0m\u001b[1;33m\u001b[0m\u001b[1;33m\u001b[0m\u001b[0m\n\u001b[0;32m   2518\u001b[0m \u001b[1;33m\u001b[0m\u001b[0m\n\u001b[1;32m-> 2519\u001b[1;33m         \u001b[1;32mreturn\u001b[0m \u001b[0mself\u001b[0m\u001b[1;33m.\u001b[0m\u001b[0m_union\u001b[0m\u001b[1;33m(\u001b[0m\u001b[0mother\u001b[0m\u001b[1;33m,\u001b[0m \u001b[0msort\u001b[0m\u001b[1;33m=\u001b[0m\u001b[0msort\u001b[0m\u001b[1;33m)\u001b[0m\u001b[1;33m\u001b[0m\u001b[1;33m\u001b[0m\u001b[0m\n\u001b[0m\u001b[0;32m   2520\u001b[0m \u001b[1;33m\u001b[0m\u001b[0m\n\u001b[0;32m   2521\u001b[0m     \u001b[1;32mdef\u001b[0m \u001b[0m_union\u001b[0m\u001b[1;33m(\u001b[0m\u001b[0mself\u001b[0m\u001b[1;33m,\u001b[0m \u001b[0mother\u001b[0m\u001b[1;33m,\u001b[0m \u001b[0msort\u001b[0m\u001b[1;33m)\u001b[0m\u001b[1;33m:\u001b[0m\u001b[1;33m\u001b[0m\u001b[1;33m\u001b[0m\u001b[0m\n",
         "\u001b[1;32m~\\AppData\\Roaming\\Python\\Python37\\site-packages\\pandas\\core\\indexes\\numeric.py\u001b[0m in \u001b[0;36m_union\u001b[1;34m(self, other, sort)\u001b[0m\n\u001b[0;32m    161\u001b[0m             \u001b[1;32mreturn\u001b[0m \u001b[0mfirst\u001b[0m\u001b[1;33m.\u001b[0m\u001b[0m_union\u001b[0m\u001b[1;33m(\u001b[0m\u001b[0msecond\u001b[0m\u001b[1;33m,\u001b[0m \u001b[0msort\u001b[0m\u001b[1;33m)\u001b[0m\u001b[1;33m\u001b[0m\u001b[1;33m\u001b[0m\u001b[0m\n\u001b[0;32m    162\u001b[0m         \u001b[1;32melse\u001b[0m\u001b[1;33m:\u001b[0m\u001b[1;33m\u001b[0m\u001b[1;33m\u001b[0m\u001b[0m\n\u001b[1;32m--> 163\u001b[1;33m             \u001b[1;32mreturn\u001b[0m \u001b[0msuper\u001b[0m\u001b[1;33m(\u001b[0m\u001b[1;33m)\u001b[0m\u001b[1;33m.\u001b[0m\u001b[0m_union\u001b[0m\u001b[1;33m(\u001b[0m\u001b[0mother\u001b[0m\u001b[1;33m,\u001b[0m \u001b[0msort\u001b[0m\u001b[1;33m)\u001b[0m\u001b[1;33m\u001b[0m\u001b[1;33m\u001b[0m\u001b[0m\n\u001b[0m\u001b[0;32m    164\u001b[0m \u001b[1;33m\u001b[0m\u001b[0m\n\u001b[0;32m    165\u001b[0m \u001b[1;33m\u001b[0m\u001b[0m\n",
         "\u001b[1;32m~\\AppData\\Roaming\\Python\\Python37\\site-packages\\pandas\\core\\indexes\\base.py\u001b[0m in \u001b[0;36m_union\u001b[1;34m(self, other, sort)\u001b[0m\n\u001b[0;32m   2566\u001b[0m                 \u001b[0mresult\u001b[0m\u001b[1;33m.\u001b[0m\u001b[0mextend\u001b[0m\u001b[1;33m(\u001b[0m\u001b[1;33m[\u001b[0m\u001b[0mx\u001b[0m \u001b[1;32mfor\u001b[0m \u001b[0mx\u001b[0m \u001b[1;32min\u001b[0m \u001b[0mrvals\u001b[0m \u001b[1;32mif\u001b[0m \u001b[0mx\u001b[0m \u001b[1;32mnot\u001b[0m \u001b[1;32min\u001b[0m \u001b[0mvalue_set\u001b[0m\u001b[1;33m]\u001b[0m\u001b[1;33m)\u001b[0m\u001b[1;33m\u001b[0m\u001b[1;33m\u001b[0m\u001b[0m\n\u001b[0;32m   2567\u001b[0m         \u001b[1;32melse\u001b[0m\u001b[1;33m:\u001b[0m\u001b[1;33m\u001b[0m\u001b[1;33m\u001b[0m\u001b[0m\n\u001b[1;32m-> 2568\u001b[1;33m             \u001b[0mindexer\u001b[0m \u001b[1;33m=\u001b[0m \u001b[0mself\u001b[0m\u001b[1;33m.\u001b[0m\u001b[0mget_indexer\u001b[0m\u001b[1;33m(\u001b[0m\u001b[0mother\u001b[0m\u001b[1;33m)\u001b[0m\u001b[1;33m\u001b[0m\u001b[1;33m\u001b[0m\u001b[0m\n\u001b[0m\u001b[0;32m   2569\u001b[0m             \u001b[0mindexer\u001b[0m\u001b[1;33m,\u001b[0m \u001b[1;33m=\u001b[0m \u001b[1;33m(\u001b[0m\u001b[0mindexer\u001b[0m \u001b[1;33m==\u001b[0m \u001b[1;33m-\u001b[0m\u001b[1;36m1\u001b[0m\u001b[1;33m)\u001b[0m\u001b[1;33m.\u001b[0m\u001b[0mnonzero\u001b[0m\u001b[1;33m(\u001b[0m\u001b[1;33m)\u001b[0m\u001b[1;33m\u001b[0m\u001b[1;33m\u001b[0m\u001b[0m\n\u001b[0;32m   2570\u001b[0m \u001b[1;33m\u001b[0m\u001b[0m\n",
         "\u001b[1;32m~\\AppData\\Roaming\\Python\\Python37\\site-packages\\pandas\\core\\indexes\\base.py\u001b[0m in \u001b[0;36mget_indexer\u001b[1;34m(self, target, method, limit, tolerance)\u001b[0m\n\u001b[0;32m   2983\u001b[0m         \u001b[1;32mif\u001b[0m \u001b[1;32mnot\u001b[0m \u001b[0mself\u001b[0m\u001b[1;33m.\u001b[0m\u001b[0mis_unique\u001b[0m\u001b[1;33m:\u001b[0m\u001b[1;33m\u001b[0m\u001b[1;33m\u001b[0m\u001b[0m\n\u001b[0;32m   2984\u001b[0m             raise InvalidIndexError(\n\u001b[1;32m-> 2985\u001b[1;33m                 \u001b[1;34m\"Reindexing only valid with uniquely\"\u001b[0m \u001b[1;34m\" valued Index objects\"\u001b[0m\u001b[1;33m\u001b[0m\u001b[1;33m\u001b[0m\u001b[0m\n\u001b[0m\u001b[0;32m   2986\u001b[0m             )\n\u001b[0;32m   2987\u001b[0m \u001b[1;33m\u001b[0m\u001b[0m\n",
         "\u001b[1;31mInvalidIndexError\u001b[0m: Reindexing only valid with uniquely valued Index objects"
        ]
       }
      ],
      "source": "pd.DataFrame(\n    {\n        \"repo_url1\" : repository_info.url[ranking_nmf_multiplicative[0][0:9]], \n        \"repo_description1\" : repository_info.description[ranking_nmf_multiplicative[0][0:9]],\n        \"repo_url2\" : repository_info.url[ranking_nmf_multiplicative[1][0:9]], \n        \"repo_description2\" : repository_info.description[ranking_nmf_multiplicative[1][0:9]]#,\n        #\"score\" : ranking_nmf_multiplicative[2][0:9]\n    }\n)",
      "start_time": "2020-04-07T09:45:56.139Z"
     },
     {
      "end_time": "2020-04-07T09:47:26.520Z",
      "execution_time": "22ms",
      "outputs": [],
      "source": "df1 = pd.DataFrame(\n    {\n        \"repo_url1\" : repository_info.url[ranking_nmf_multiplicative[0][0:9]], \n        \"repo_description1\" : repository_info.description[ranking_nmf_multiplicative[0][0:9]],\n        #\"repo_url2\" : repository_info.url[ranking_nmf_multiplicative[1][0:9]], \n        #\"repo_description2\" : repository_info.description[ranking_nmf_multiplicative[1][0:9]],\n        \"score\" : ranking_nmf_multiplicative[2][0:9]\n    }\n)\ndf2 = pd.DataFrame(\n    {\n        #\"repo_url1\" : repository_info.url[ranking_nmf_multiplicative[0][0:9]], \n        #\"repo_description1\" : repository_info.description[ranking_nmf_multiplicative[0][0:9]],\n        \"repo_url2\" : repository_info.url[ranking_nmf_multiplicative[1][0:9]], \n        \"repo_description2\" : repository_info.description[ranking_nmf_multiplicative[1][0:9]],\n        #\"score\" : ranking_nmf_multiplicative[2][0:9]\n    }\n)",
      "start_time": "2020-04-07T09:47:26.498Z"
     },
     {
      "end_time": "2020-04-07T10:02:41.031Z",
      "execution_time": "46ms",
      "outputs": [
       {
        "data": {
         "text/html": "<div>\n<style scoped>\n    .dataframe tbody tr th:only-of-type {\n        vertical-align: middle;\n    }\n\n    .dataframe tbody tr th {\n        vertical-align: top;\n    }\n\n    .dataframe thead th {\n        text-align: right;\n    }\n</style>\n<table border=\"1\" class=\"dataframe\">\n  <thead>\n    <tr style=\"text-align: right;\">\n      <th></th>\n      <th>repo_url1</th>\n      <th>repo_description1</th>\n      <th>repo_url2</th>\n      <th>repo_description2</th>\n      <th>score</th>\n    </tr>\n  </thead>\n  <tbody>\n    <tr>\n      <th>0</th>\n      <td>https://api.github.com/repos/fuzimaoxinan/Tens...</td>\n      <td>用Tensorflow实现的深度神经网络</td>\n      <td>https://api.github.com/repos/MongoEngine/flask...</td>\n      <td>MongoEngine flask extension with WTF model for...</td>\n      <td>0.002992</td>\n    </tr>\n    <tr>\n      <th>1</th>\n      <td>https://api.github.com/repos/fuzimaoxinan/Tens...</td>\n      <td>用Tensorflow实现的深度神经网络</td>\n      <td>https://api.github.com/repos/mikeboers/Flask-I...</td>\n      <td>On-demand resizing of images for Flask applica...</td>\n      <td>0.002986</td>\n    </tr>\n    <tr>\n      <th>2</th>\n      <td>https://api.github.com/repos/fuzimaoxinan/Tens...</td>\n      <td>用Tensorflow实现的深度神经网络</td>\n      <td>https://api.github.com/repos/alecthomas/flask_...</td>\n      <td>Adds Injector support to Flask.</td>\n      <td>0.002981</td>\n    </tr>\n    <tr>\n      <th>3</th>\n      <td>https://api.github.com/repos/fuzimaoxinan/Tens...</td>\n      <td>用Tensorflow实现的深度神经网络</td>\n      <td>https://api.github.com/repos/bkabrda/flask-who...</td>\n      <td>Customizable Flask - SQLAlchemy - Whoosh integ...</td>\n      <td>0.002980</td>\n    </tr>\n    <tr>\n      <th>4</th>\n      <td>https://api.github.com/repos/fuzimaoxinan/Tens...</td>\n      <td>用Tensorflow实现的深度神经网络</td>\n      <td>https://api.github.com/repos/mattupstate/flask...</td>\n      <td>Flask-Mail adds SMTP mail sending to your Flas...</td>\n      <td>0.002968</td>\n    </tr>\n    <tr>\n      <th>5</th>\n      <td>https://api.github.com/repos/fuzimaoxinan/Tens...</td>\n      <td>用Tensorflow实现的深度神经网络</td>\n      <td>https://api.github.com/repos/maxcountryman/logmon</td>\n      <td>Realtime log reader in Flask</td>\n      <td>0.002965</td>\n    </tr>\n    <tr>\n      <th>6</th>\n      <td>https://api.github.com/repos/fuzimaoxinan/Tens...</td>\n      <td>用Tensorflow实现的深度神经网络</td>\n      <td>https://api.github.com/repos/jmcarp/flask-apispec</td>\n      <td>NaN</td>\n      <td>0.002950</td>\n    </tr>\n    <tr>\n      <th>7</th>\n      <td>https://api.github.com/repos/fuzimaoxinan/Tens...</td>\n      <td>用Tensorflow实现的深度神经网络</td>\n      <td>https://api.github.com/repos/damyanbogoev/flas...</td>\n      <td>Flask Series</td>\n      <td>0.002944</td>\n    </tr>\n    <tr>\n      <th>8</th>\n      <td>https://api.github.com/repos/fuzimaoxinan/Tens...</td>\n      <td>用Tensorflow实现的深度神经网络</td>\n      <td>https://api.github.com/repos/hack4impact/flask...</td>\n      <td>NaN</td>\n      <td>0.002940</td>\n    </tr>\n  </tbody>\n</table>\n</div>",
         "text/plain": "                                           repo_url1     repo_description1  \\\n0  https://api.github.com/repos/fuzimaoxinan/Tens...  用Tensorflow实现的深度神经网络   \n1  https://api.github.com/repos/fuzimaoxinan/Tens...  用Tensorflow实现的深度神经网络   \n2  https://api.github.com/repos/fuzimaoxinan/Tens...  用Tensorflow实现的深度神经网络   \n3  https://api.github.com/repos/fuzimaoxinan/Tens...  用Tensorflow实现的深度神经网络   \n4  https://api.github.com/repos/fuzimaoxinan/Tens...  用Tensorflow实现的深度神经网络   \n5  https://api.github.com/repos/fuzimaoxinan/Tens...  用Tensorflow实现的深度神经网络   \n6  https://api.github.com/repos/fuzimaoxinan/Tens...  用Tensorflow实现的深度神经网络   \n7  https://api.github.com/repos/fuzimaoxinan/Tens...  用Tensorflow实现的深度神经网络   \n8  https://api.github.com/repos/fuzimaoxinan/Tens...  用Tensorflow实现的深度神经网络   \n\n                                           repo_url2  \\\n0  https://api.github.com/repos/MongoEngine/flask...   \n1  https://api.github.com/repos/mikeboers/Flask-I...   \n2  https://api.github.com/repos/alecthomas/flask_...   \n3  https://api.github.com/repos/bkabrda/flask-who...   \n4  https://api.github.com/repos/mattupstate/flask...   \n5  https://api.github.com/repos/maxcountryman/logmon   \n6  https://api.github.com/repos/jmcarp/flask-apispec   \n7  https://api.github.com/repos/damyanbogoev/flas...   \n8  https://api.github.com/repos/hack4impact/flask...   \n\n                                   repo_description2     score  \n0  MongoEngine flask extension with WTF model for...  0.002992  \n1  On-demand resizing of images for Flask applica...  0.002986  \n2                    Adds Injector support to Flask.  0.002981  \n3  Customizable Flask - SQLAlchemy - Whoosh integ...  0.002980  \n4  Flask-Mail adds SMTP mail sending to your Flas...  0.002968  \n5                       Realtime log reader in Flask  0.002965  \n6                                                NaN  0.002950  \n7                                       Flask Series  0.002944  \n8                                                NaN  0.002940  "
        },
        "execution_count": 146,
        "metadata": {},
        "output_type": "execute_result"
       }
      ],
      "source": "pd.DataFrame(\n    {\n        \"repo_url1\" : repository_info.url.values[ranking_nmf_multiplicative[0][0:9]], \n        \"repo_description1\" : repository_info.description.values[ranking_nmf_multiplicative[0][0:9]],\n        \"repo_url2\" : repository_info.url.values[ranking_nmf_multiplicative[1][0:9]], \n        \"repo_description2\" : repository_info.description.values[ranking_nmf_multiplicative[1][0:9]],\n        \"score\" : ranking_nmf_multiplicative[2][0:9]\n    }\n)",
      "start_time": "2020-04-07T10:02:40.985Z"
     },
     {
      "end_time": "2020-04-07T12:16:11.585Z",
      "execution_time": "36ms",
      "outputs": [
       {
        "data": {
         "text/html": "<div>\n<style scoped>\n    .dataframe tbody tr th:only-of-type {\n        vertical-align: middle;\n    }\n\n    .dataframe tbody tr th {\n        vertical-align: top;\n    }\n\n    .dataframe thead th {\n        text-align: right;\n    }\n</style>\n<table border=\"1\" class=\"dataframe\">\n  <thead>\n    <tr style=\"text-align: right;\">\n      <th></th>\n      <th>repo_url1</th>\n      <th>repo_description1</th>\n      <th>repo_url2</th>\n      <th>repo_description2</th>\n      <th>score</th>\n    </tr>\n  </thead>\n  <tbody>\n    <tr>\n      <th>0</th>\n      <td>https://api.github.com/repos/fuzimaoxinan/Tens...</td>\n      <td>用Tensorflow实现的深度神经网络</td>\n      <td>https://api.github.com/repos/MongoEngine/flask...</td>\n      <td>MongoEngine flask extension with WTF model for...</td>\n      <td>0.002992</td>\n    </tr>\n    <tr>\n      <th>1</th>\n      <td>https://api.github.com/repos/fuzimaoxinan/Tens...</td>\n      <td>用Tensorflow实现的深度神经网络</td>\n      <td>https://api.github.com/repos/mikeboers/Flask-I...</td>\n      <td>On-demand resizing of images for Flask applica...</td>\n      <td>0.002986</td>\n    </tr>\n    <tr>\n      <th>2</th>\n      <td>https://api.github.com/repos/fuzimaoxinan/Tens...</td>\n      <td>用Tensorflow实现的深度神经网络</td>\n      <td>https://api.github.com/repos/alecthomas/flask_...</td>\n      <td>Adds Injector support to Flask.</td>\n      <td>0.002981</td>\n    </tr>\n    <tr>\n      <th>3</th>\n      <td>https://api.github.com/repos/fuzimaoxinan/Tens...</td>\n      <td>用Tensorflow实现的深度神经网络</td>\n      <td>https://api.github.com/repos/bkabrda/flask-who...</td>\n      <td>Customizable Flask - SQLAlchemy - Whoosh integ...</td>\n      <td>0.002980</td>\n    </tr>\n    <tr>\n      <th>4</th>\n      <td>https://api.github.com/repos/fuzimaoxinan/Tens...</td>\n      <td>用Tensorflow实现的深度神经网络</td>\n      <td>https://api.github.com/repos/mattupstate/flask...</td>\n      <td>Flask-Mail adds SMTP mail sending to your Flas...</td>\n      <td>0.002968</td>\n    </tr>\n    <tr>\n      <th>5</th>\n      <td>https://api.github.com/repos/fuzimaoxinan/Tens...</td>\n      <td>用Tensorflow实现的深度神经网络</td>\n      <td>https://api.github.com/repos/maxcountryman/logmon</td>\n      <td>Realtime log reader in Flask</td>\n      <td>0.002965</td>\n    </tr>\n    <tr>\n      <th>6</th>\n      <td>https://api.github.com/repos/fuzimaoxinan/Tens...</td>\n      <td>用Tensorflow实现的深度神经网络</td>\n      <td>https://api.github.com/repos/jmcarp/flask-apispec</td>\n      <td>NaN</td>\n      <td>0.002950</td>\n    </tr>\n    <tr>\n      <th>7</th>\n      <td>https://api.github.com/repos/fuzimaoxinan/Tens...</td>\n      <td>用Tensorflow实现的深度神经网络</td>\n      <td>https://api.github.com/repos/damyanbogoev/flas...</td>\n      <td>Flask Series</td>\n      <td>0.002944</td>\n    </tr>\n    <tr>\n      <th>8</th>\n      <td>https://api.github.com/repos/fuzimaoxinan/Tens...</td>\n      <td>用Tensorflow实现的深度神经网络</td>\n      <td>https://api.github.com/repos/hack4impact/flask...</td>\n      <td>NaN</td>\n      <td>0.002940</td>\n    </tr>\n  </tbody>\n</table>\n</div>",
         "text/plain": "                                           repo_url1     repo_description1  \\\n0  https://api.github.com/repos/fuzimaoxinan/Tens...  用Tensorflow实现的深度神经网络   \n1  https://api.github.com/repos/fuzimaoxinan/Tens...  用Tensorflow实现的深度神经网络   \n2  https://api.github.com/repos/fuzimaoxinan/Tens...  用Tensorflow实现的深度神经网络   \n3  https://api.github.com/repos/fuzimaoxinan/Tens...  用Tensorflow实现的深度神经网络   \n4  https://api.github.com/repos/fuzimaoxinan/Tens...  用Tensorflow实现的深度神经网络   \n5  https://api.github.com/repos/fuzimaoxinan/Tens...  用Tensorflow实现的深度神经网络   \n6  https://api.github.com/repos/fuzimaoxinan/Tens...  用Tensorflow实现的深度神经网络   \n7  https://api.github.com/repos/fuzimaoxinan/Tens...  用Tensorflow实现的深度神经网络   \n8  https://api.github.com/repos/fuzimaoxinan/Tens...  用Tensorflow实现的深度神经网络   \n\n                                           repo_url2  \\\n0  https://api.github.com/repos/MongoEngine/flask...   \n1  https://api.github.com/repos/mikeboers/Flask-I...   \n2  https://api.github.com/repos/alecthomas/flask_...   \n3  https://api.github.com/repos/bkabrda/flask-who...   \n4  https://api.github.com/repos/mattupstate/flask...   \n5  https://api.github.com/repos/maxcountryman/logmon   \n6  https://api.github.com/repos/jmcarp/flask-apispec   \n7  https://api.github.com/repos/damyanbogoev/flas...   \n8  https://api.github.com/repos/hack4impact/flask...   \n\n                                   repo_description2     score  \n0  MongoEngine flask extension with WTF model for...  0.002992  \n1  On-demand resizing of images for Flask applica...  0.002986  \n2                    Adds Injector support to Flask.  0.002981  \n3  Customizable Flask - SQLAlchemy - Whoosh integ...  0.002980  \n4  Flask-Mail adds SMTP mail sending to your Flas...  0.002968  \n5                       Realtime log reader in Flask  0.002965  \n6                                                NaN  0.002950  \n7                                       Flask Series  0.002944  \n8                                                NaN  0.002940  "
        },
        "execution_count": 5,
        "metadata": {},
        "output_type": "execute_result"
       }
      ],
      "source": "pd.DataFrame(\n    {\n        \"repo_url1\" : repository_info.url.values[ranking_nmf_multiplicative[0][0:9]], \n        \"repo_description1\" : repository_info.description.values[ranking_nmf_multiplicative[0][0:9]],\n        \"repo_url2\" : repository_info.url.values[ranking_nmf_multiplicative[1][0:9]], \n        \"repo_description2\" : repository_info.description.values[ranking_nmf_multiplicative[1][0:9]],\n        \"score\" : ranking_nmf_multiplicative[2][0:9]\n    }\n)",
      "start_time": "2020-04-07T12:16:11.549Z"
     },
     {
      "end_time": "2020-04-09T14:43:36.710Z",
      "execution_time": "30ms",
      "outputs": [
       {
        "data": {
         "text/html": "<div>\n<style scoped>\n    .dataframe tbody tr th:only-of-type {\n        vertical-align: middle;\n    }\n\n    .dataframe tbody tr th {\n        vertical-align: top;\n    }\n\n    .dataframe thead th {\n        text-align: right;\n    }\n</style>\n<table border=\"1\" class=\"dataframe\">\n  <thead>\n    <tr style=\"text-align: right;\">\n      <th></th>\n      <th>repo_url1</th>\n      <th>repo_description1</th>\n      <th>repo_url2</th>\n      <th>repo_description2</th>\n      <th>score</th>\n    </tr>\n  </thead>\n  <tbody>\n    <tr>\n      <th>0</th>\n      <td>https://api.github.com/repos/re4lfl0w/ipython</td>\n      <td>:mushroom: I used to do using IPython. I will ...</td>\n      <td>https://api.github.com/repos/arnoutaertgeerts/...</td>\n      <td>Use highchart.js to make plots in Python and I...</td>\n      <td>0.005042</td>\n    </tr>\n    <tr>\n      <th>1</th>\n      <td>https://api.github.com/repos/yhat/DataGotham2013</td>\n      <td>NaN</td>\n      <td>https://api.github.com/repos/arnoutaertgeerts/...</td>\n      <td>Use highchart.js to make plots in Python and I...</td>\n      <td>0.005042</td>\n    </tr>\n    <tr>\n      <th>2</th>\n      <td>https://api.github.com/repos/yhat/DataGotham2013</td>\n      <td>NaN</td>\n      <td>https://api.github.com/repos/jupyter/nbdime</td>\n      <td>Tools for diffing and merging of Jupyter noteb...</td>\n      <td>0.004912</td>\n    </tr>\n    <tr>\n      <th>3</th>\n      <td>https://api.github.com/repos/re4lfl0w/ipython</td>\n      <td>:mushroom: I used to do using IPython. I will ...</td>\n      <td>https://api.github.com/repos/jupyter/nbdime</td>\n      <td>Tools for diffing and merging of Jupyter noteb...</td>\n      <td>0.004912</td>\n    </tr>\n    <tr>\n      <th>4</th>\n      <td>https://api.github.com/repos/yhat/DataGotham2013</td>\n      <td>NaN</td>\n      <td>https://api.github.com/repos/marcelcaraciolo/b...</td>\n      <td>Big Data Tutorial</td>\n      <td>0.004542</td>\n    </tr>\n    <tr>\n      <th>5</th>\n      <td>https://api.github.com/repos/re4lfl0w/ipython</td>\n      <td>:mushroom: I used to do using IPython. I will ...</td>\n      <td>https://api.github.com/repos/marcelcaraciolo/b...</td>\n      <td>Big Data Tutorial</td>\n      <td>0.004542</td>\n    </tr>\n    <tr>\n      <th>6</th>\n      <td>https://api.github.com/repos/re4lfl0w/ipython</td>\n      <td>:mushroom: I used to do using IPython. I will ...</td>\n      <td>https://api.github.com/repos/GaelVaroquaux/skl...</td>\n      <td>EuroScipy 2014 tutorial: Introduction to predi...</td>\n      <td>0.004474</td>\n    </tr>\n    <tr>\n      <th>7</th>\n      <td>https://api.github.com/repos/yhat/DataGotham2013</td>\n      <td>NaN</td>\n      <td>https://api.github.com/repos/GaelVaroquaux/skl...</td>\n      <td>EuroScipy 2014 tutorial: Introduction to predi...</td>\n      <td>0.004474</td>\n    </tr>\n    <tr>\n      <th>8</th>\n      <td>https://api.github.com/repos/re4lfl0w/ipython</td>\n      <td>:mushroom: I used to do using IPython. I will ...</td>\n      <td>https://api.github.com/repos/sarguido/networkx...</td>\n      <td>Twitter Network Analysis with NetworkX</td>\n      <td>0.004431</td>\n    </tr>\n  </tbody>\n</table>\n</div>",
         "text/plain": "                                          repo_url1  \\\n0     https://api.github.com/repos/re4lfl0w/ipython   \n1  https://api.github.com/repos/yhat/DataGotham2013   \n2  https://api.github.com/repos/yhat/DataGotham2013   \n3     https://api.github.com/repos/re4lfl0w/ipython   \n4  https://api.github.com/repos/yhat/DataGotham2013   \n5     https://api.github.com/repos/re4lfl0w/ipython   \n6     https://api.github.com/repos/re4lfl0w/ipython   \n7  https://api.github.com/repos/yhat/DataGotham2013   \n8     https://api.github.com/repos/re4lfl0w/ipython   \n\n                                   repo_description1  \\\n0  :mushroom: I used to do using IPython. I will ...   \n1                                                NaN   \n2                                                NaN   \n3  :mushroom: I used to do using IPython. I will ...   \n4                                                NaN   \n5  :mushroom: I used to do using IPython. I will ...   \n6  :mushroom: I used to do using IPython. I will ...   \n7                                                NaN   \n8  :mushroom: I used to do using IPython. I will ...   \n\n                                           repo_url2  \\\n0  https://api.github.com/repos/arnoutaertgeerts/...   \n1  https://api.github.com/repos/arnoutaertgeerts/...   \n2        https://api.github.com/repos/jupyter/nbdime   \n3        https://api.github.com/repos/jupyter/nbdime   \n4  https://api.github.com/repos/marcelcaraciolo/b...   \n5  https://api.github.com/repos/marcelcaraciolo/b...   \n6  https://api.github.com/repos/GaelVaroquaux/skl...   \n7  https://api.github.com/repos/GaelVaroquaux/skl...   \n8  https://api.github.com/repos/sarguido/networkx...   \n\n                                   repo_description2     score  \n0  Use highchart.js to make plots in Python and I...  0.005042  \n1  Use highchart.js to make plots in Python and I...  0.005042  \n2  Tools for diffing and merging of Jupyter noteb...  0.004912  \n3  Tools for diffing and merging of Jupyter noteb...  0.004912  \n4                                  Big Data Tutorial  0.004542  \n5                                  Big Data Tutorial  0.004542  \n6  EuroScipy 2014 tutorial: Introduction to predi...  0.004474  \n7  EuroScipy 2014 tutorial: Introduction to predi...  0.004474  \n8            Twitter Network Analysis with NetworkX   0.004431  "
        },
        "execution_count": 3,
        "metadata": {},
        "output_type": "execute_result"
       }
      ],
      "source": "pd.DataFrame(\n    {\n        \"repo_url1\" : repository_info.url.values[ranking_nmf_multiplicative[0][0:9]], \n        \"repo_description1\" : repository_info.description.values[ranking_nmf_multiplicative[0][0:9]],\n        \"repo_url2\" : repository_info.url.values[ranking_nmf_multiplicative[1][0:9]], \n        \"repo_description2\" : repository_info.description.values[ranking_nmf_multiplicative[1][0:9]],\n        \"score\" : ranking_nmf_multiplicative[2][0:9]\n    }\n)",
      "start_time": "2020-04-09T14:43:36.680Z"
     }
    ]
   },
   "outputs": [
    {
     "data": {
      "text/html": [
       "<div>\n",
       "<style scoped>\n",
       "    .dataframe tbody tr th:only-of-type {\n",
       "        vertical-align: middle;\n",
       "    }\n",
       "\n",
       "    .dataframe tbody tr th {\n",
       "        vertical-align: top;\n",
       "    }\n",
       "\n",
       "    .dataframe thead th {\n",
       "        text-align: right;\n",
       "    }\n",
       "</style>\n",
       "<table border=\"1\" class=\"dataframe\">\n",
       "  <thead>\n",
       "    <tr style=\"text-align: right;\">\n",
       "      <th></th>\n",
       "      <th>repo_url1</th>\n",
       "      <th>repo_description1</th>\n",
       "      <th>repo_url2</th>\n",
       "      <th>repo_description2</th>\n",
       "      <th>score</th>\n",
       "    </tr>\n",
       "  </thead>\n",
       "  <tbody>\n",
       "    <tr>\n",
       "      <th>0</th>\n",
       "      <td>https://api.github.com/repos/re4lfl0w/ipython</td>\n",
       "      <td>:mushroom: I used to do using IPython. I will ...</td>\n",
       "      <td>https://api.github.com/repos/arnoutaertgeerts/...</td>\n",
       "      <td>Use highchart.js to make plots in Python and I...</td>\n",
       "      <td>0.005042</td>\n",
       "    </tr>\n",
       "    <tr>\n",
       "      <th>1</th>\n",
       "      <td>https://api.github.com/repos/yhat/DataGotham2013</td>\n",
       "      <td>NaN</td>\n",
       "      <td>https://api.github.com/repos/arnoutaertgeerts/...</td>\n",
       "      <td>Use highchart.js to make plots in Python and I...</td>\n",
       "      <td>0.005042</td>\n",
       "    </tr>\n",
       "    <tr>\n",
       "      <th>2</th>\n",
       "      <td>https://api.github.com/repos/yhat/DataGotham2013</td>\n",
       "      <td>NaN</td>\n",
       "      <td>https://api.github.com/repos/jupyter/nbdime</td>\n",
       "      <td>Tools for diffing and merging of Jupyter noteb...</td>\n",
       "      <td>0.004912</td>\n",
       "    </tr>\n",
       "    <tr>\n",
       "      <th>3</th>\n",
       "      <td>https://api.github.com/repos/re4lfl0w/ipython</td>\n",
       "      <td>:mushroom: I used to do using IPython. I will ...</td>\n",
       "      <td>https://api.github.com/repos/jupyter/nbdime</td>\n",
       "      <td>Tools for diffing and merging of Jupyter noteb...</td>\n",
       "      <td>0.004912</td>\n",
       "    </tr>\n",
       "    <tr>\n",
       "      <th>4</th>\n",
       "      <td>https://api.github.com/repos/yhat/DataGotham2013</td>\n",
       "      <td>NaN</td>\n",
       "      <td>https://api.github.com/repos/marcelcaraciolo/b...</td>\n",
       "      <td>Big Data Tutorial</td>\n",
       "      <td>0.004542</td>\n",
       "    </tr>\n",
       "    <tr>\n",
       "      <th>5</th>\n",
       "      <td>https://api.github.com/repos/re4lfl0w/ipython</td>\n",
       "      <td>:mushroom: I used to do using IPython. I will ...</td>\n",
       "      <td>https://api.github.com/repos/marcelcaraciolo/b...</td>\n",
       "      <td>Big Data Tutorial</td>\n",
       "      <td>0.004542</td>\n",
       "    </tr>\n",
       "    <tr>\n",
       "      <th>6</th>\n",
       "      <td>https://api.github.com/repos/re4lfl0w/ipython</td>\n",
       "      <td>:mushroom: I used to do using IPython. I will ...</td>\n",
       "      <td>https://api.github.com/repos/GaelVaroquaux/skl...</td>\n",
       "      <td>EuroScipy 2014 tutorial: Introduction to predi...</td>\n",
       "      <td>0.004474</td>\n",
       "    </tr>\n",
       "    <tr>\n",
       "      <th>7</th>\n",
       "      <td>https://api.github.com/repos/yhat/DataGotham2013</td>\n",
       "      <td>NaN</td>\n",
       "      <td>https://api.github.com/repos/GaelVaroquaux/skl...</td>\n",
       "      <td>EuroScipy 2014 tutorial: Introduction to predi...</td>\n",
       "      <td>0.004474</td>\n",
       "    </tr>\n",
       "    <tr>\n",
       "      <th>8</th>\n",
       "      <td>https://api.github.com/repos/re4lfl0w/ipython</td>\n",
       "      <td>:mushroom: I used to do using IPython. I will ...</td>\n",
       "      <td>https://api.github.com/repos/sarguido/networkx...</td>\n",
       "      <td>Twitter Network Analysis with NetworkX</td>\n",
       "      <td>0.004431</td>\n",
       "    </tr>\n",
       "  </tbody>\n",
       "</table>\n",
       "</div>"
      ],
      "text/plain": [
       "                                          repo_url1  \\\n",
       "0     https://api.github.com/repos/re4lfl0w/ipython   \n",
       "1  https://api.github.com/repos/yhat/DataGotham2013   \n",
       "2  https://api.github.com/repos/yhat/DataGotham2013   \n",
       "3     https://api.github.com/repos/re4lfl0w/ipython   \n",
       "4  https://api.github.com/repos/yhat/DataGotham2013   \n",
       "5     https://api.github.com/repos/re4lfl0w/ipython   \n",
       "6     https://api.github.com/repos/re4lfl0w/ipython   \n",
       "7  https://api.github.com/repos/yhat/DataGotham2013   \n",
       "8     https://api.github.com/repos/re4lfl0w/ipython   \n",
       "\n",
       "                                   repo_description1  \\\n",
       "0  :mushroom: I used to do using IPython. I will ...   \n",
       "1                                                NaN   \n",
       "2                                                NaN   \n",
       "3  :mushroom: I used to do using IPython. I will ...   \n",
       "4                                                NaN   \n",
       "5  :mushroom: I used to do using IPython. I will ...   \n",
       "6  :mushroom: I used to do using IPython. I will ...   \n",
       "7                                                NaN   \n",
       "8  :mushroom: I used to do using IPython. I will ...   \n",
       "\n",
       "                                           repo_url2  \\\n",
       "0  https://api.github.com/repos/arnoutaertgeerts/...   \n",
       "1  https://api.github.com/repos/arnoutaertgeerts/...   \n",
       "2        https://api.github.com/repos/jupyter/nbdime   \n",
       "3        https://api.github.com/repos/jupyter/nbdime   \n",
       "4  https://api.github.com/repos/marcelcaraciolo/b...   \n",
       "5  https://api.github.com/repos/marcelcaraciolo/b...   \n",
       "6  https://api.github.com/repos/GaelVaroquaux/skl...   \n",
       "7  https://api.github.com/repos/GaelVaroquaux/skl...   \n",
       "8  https://api.github.com/repos/sarguido/networkx...   \n",
       "\n",
       "                                   repo_description2     score  \n",
       "0  Use highchart.js to make plots in Python and I...  0.005042  \n",
       "1  Use highchart.js to make plots in Python and I...  0.005042  \n",
       "2  Tools for diffing and merging of Jupyter noteb...  0.004912  \n",
       "3  Tools for diffing and merging of Jupyter noteb...  0.004912  \n",
       "4                                  Big Data Tutorial  0.004542  \n",
       "5                                  Big Data Tutorial  0.004542  \n",
       "6  EuroScipy 2014 tutorial: Introduction to predi...  0.004474  \n",
       "7  EuroScipy 2014 tutorial: Introduction to predi...  0.004474  \n",
       "8            Twitter Network Analysis with NetworkX   0.004431  "
      ]
     },
     "execution_count": 3,
     "metadata": {},
     "output_type": "execute_result"
    }
   ],
   "source": [
    "pd.DataFrame(\n",
    "    {\n",
    "        \"repo_url1\" : repository_info.url.values[ranking_nmf_multiplicative[0][0:9]], \n",
    "        \"repo_description1\" : repository_info.description.values[ranking_nmf_multiplicative[0][0:9]],\n",
    "        \"repo_url2\" : repository_info.url.values[ranking_nmf_multiplicative[1][0:9]], \n",
    "        \"repo_description2\" : repository_info.description.values[ranking_nmf_multiplicative[1][0:9]],\n",
    "        \"score\" : ranking_nmf_multiplicative[2][0:9]\n",
    "    }\n",
    ")"
   ]
  },
  {
   "cell_type": "markdown",
   "metadata": {
    "provenance": [
     {
      "last_modified": "2020-04-07T10:13:10.792Z",
      "source": "### Top 10 repository pairs (LDA)"
     },
     {
      "last_modified": "2020-04-07T10:22:12.388Z",
      "source": "### Top 10 repository pairs (LDA)"
     },
     {
      "last_modified": "2020-04-07T10:22:46.260Z",
      "source": "### Top 10 repository pairs (LDA)"
     },
     {
      "last_modified": "2020-04-07T10:24:47.912Z",
      "source": "### Top 10 repository pairs (LDA)"
     },
     {
      "last_modified": "2020-04-07T10:30:15.612Z",
      "source": "### Top 10 repository pairs (LDA)"
     },
     {
      "last_modified": "2020-04-07T10:33:18.279Z",
      "source": "### Top 10 repository pairs (LDA)"
     },
     {
      "last_modified": "2020-04-07T12:03:35.370Z",
      "source": "### Top 10 repository pairs (LDA)"
     },
     {
      "last_modified": "2020-04-07T12:17:59.040Z",
      "source": "### Top 10 repository pairs (LDA)"
     },
     {
      "last_modified": "2020-04-07T12:54:33.132Z",
      "source": "### Top 10 repository pairs (LDA)"
     },
     {
      "last_modified": "2020-04-07T13:46:09.011Z",
      "source": "### Top 10 repository pairs (LDA)"
     },
     {
      "last_modified": "2020-04-07T14:03:27.879Z",
      "source": "### Top 10 repository pairs (LDA)"
     },
     {
      "last_modified": "2020-04-07T14:04:38.831Z",
      "source": "### Top 10 repository pairs (LDA)"
     },
     {
      "last_modified": "2020-04-07T14:19:13.779Z",
      "source": "### Top 10 repository pairs (LDA)"
     },
     {
      "last_modified": "2020-04-08T11:33:25.208Z",
      "source": "### Top 10 repository pairs (LDA)"
     }
    ]
   },
   "source": [
    "### Top 10 repository pairs (LDA)"
   ]
  },
  {
   "cell_type": "code",
   "execution_count": 4,
   "metadata": {
    "ExecutionTime": {
     "end_time": "2020-04-09T14:43:36.729756Z",
     "start_time": "2020-04-09T14:43:36.710410Z"
    },
    "provenance": [
     {
      "end_time": "2020-04-07T09:47:37.341Z",
      "execution_time": "56ms",
      "outputs": [
       {
        "data": {
         "text/html": "<div>\n<style scoped>\n    .dataframe tbody tr th:only-of-type {\n        vertical-align: middle;\n    }\n\n    .dataframe tbody tr th {\n        vertical-align: top;\n    }\n\n    .dataframe thead th {\n        text-align: right;\n    }\n</style>\n<table border=\"1\" class=\"dataframe\">\n  <thead>\n    <tr style=\"text-align: right;\">\n      <th></th>\n      <th>repo_url1</th>\n      <th>repo_description1</th>\n      <th>score</th>\n    </tr>\n  </thead>\n  <tbody>\n    <tr>\n      <th>5712</th>\n      <td>https://api.github.com/repos/fuzimaoxinan/Tens...</td>\n      <td>用Tensorflow实现的深度神经网络</td>\n      <td>0.002992</td>\n    </tr>\n    <tr>\n      <th>5712</th>\n      <td>https://api.github.com/repos/fuzimaoxinan/Tens...</td>\n      <td>用Tensorflow实现的深度神经网络</td>\n      <td>0.002986</td>\n    </tr>\n    <tr>\n      <th>5712</th>\n      <td>https://api.github.com/repos/fuzimaoxinan/Tens...</td>\n      <td>用Tensorflow实现的深度神经网络</td>\n      <td>0.002981</td>\n    </tr>\n    <tr>\n      <th>5712</th>\n      <td>https://api.github.com/repos/fuzimaoxinan/Tens...</td>\n      <td>用Tensorflow实现的深度神经网络</td>\n      <td>0.002980</td>\n    </tr>\n    <tr>\n      <th>5712</th>\n      <td>https://api.github.com/repos/fuzimaoxinan/Tens...</td>\n      <td>用Tensorflow实现的深度神经网络</td>\n      <td>0.002968</td>\n    </tr>\n    <tr>\n      <th>5712</th>\n      <td>https://api.github.com/repos/fuzimaoxinan/Tens...</td>\n      <td>用Tensorflow实现的深度神经网络</td>\n      <td>0.002965</td>\n    </tr>\n    <tr>\n      <th>5712</th>\n      <td>https://api.github.com/repos/fuzimaoxinan/Tens...</td>\n      <td>用Tensorflow实现的深度神经网络</td>\n      <td>0.002950</td>\n    </tr>\n    <tr>\n      <th>5712</th>\n      <td>https://api.github.com/repos/fuzimaoxinan/Tens...</td>\n      <td>用Tensorflow实现的深度神经网络</td>\n      <td>0.002944</td>\n    </tr>\n    <tr>\n      <th>5712</th>\n      <td>https://api.github.com/repos/fuzimaoxinan/Tens...</td>\n      <td>用Tensorflow实现的深度神经网络</td>\n      <td>0.002940</td>\n    </tr>\n  </tbody>\n</table>\n</div>",
         "text/plain": "                                              repo_url1     repo_description1  \\\n5712  https://api.github.com/repos/fuzimaoxinan/Tens...  用Tensorflow实现的深度神经网络   \n5712  https://api.github.com/repos/fuzimaoxinan/Tens...  用Tensorflow实现的深度神经网络   \n5712  https://api.github.com/repos/fuzimaoxinan/Tens...  用Tensorflow实现的深度神经网络   \n5712  https://api.github.com/repos/fuzimaoxinan/Tens...  用Tensorflow实现的深度神经网络   \n5712  https://api.github.com/repos/fuzimaoxinan/Tens...  用Tensorflow实现的深度神经网络   \n5712  https://api.github.com/repos/fuzimaoxinan/Tens...  用Tensorflow实现的深度神经网络   \n5712  https://api.github.com/repos/fuzimaoxinan/Tens...  用Tensorflow实现的深度神经网络   \n5712  https://api.github.com/repos/fuzimaoxinan/Tens...  用Tensorflow实现的深度神经网络   \n5712  https://api.github.com/repos/fuzimaoxinan/Tens...  用Tensorflow实现的深度神经网络   \n\n         score  \n5712  0.002992  \n5712  0.002986  \n5712  0.002981  \n5712  0.002980  \n5712  0.002968  \n5712  0.002965  \n5712  0.002950  \n5712  0.002944  \n5712  0.002940  "
        },
        "execution_count": 141,
        "metadata": {},
        "output_type": "execute_result"
       }
      ],
      "source": "df1",
      "start_time": "2020-04-07T09:47:37.285Z"
     },
     {
      "end_time": "2020-04-07T09:48:04.775Z",
      "execution_time": "20ms",
      "outputs": [
       {
        "data": {
         "text/html": "<div>\n<style scoped>\n    .dataframe tbody tr th:only-of-type {\n        vertical-align: middle;\n    }\n\n    .dataframe tbody tr th {\n        vertical-align: top;\n    }\n\n    .dataframe thead th {\n        text-align: right;\n    }\n</style>\n<table border=\"1\" class=\"dataframe\">\n  <thead>\n    <tr style=\"text-align: right;\">\n      <th></th>\n      <th>repo_url2</th>\n      <th>repo_description2</th>\n    </tr>\n  </thead>\n  <tbody>\n    <tr>\n      <th>1473</th>\n      <td>https://api.github.com/repos/MongoEngine/flask...</td>\n      <td>MongoEngine flask extension with WTF model for...</td>\n    </tr>\n    <tr>\n      <th>8613</th>\n      <td>https://api.github.com/repos/mikeboers/Flask-I...</td>\n      <td>On-demand resizing of images for Flask applica...</td>\n    </tr>\n    <tr>\n      <th>2733</th>\n      <td>https://api.github.com/repos/alecthomas/flask_...</td>\n      <td>Adds Injector support to Flask.</td>\n    </tr>\n    <tr>\n      <th>3524</th>\n      <td>https://api.github.com/repos/bkabrda/flask-who...</td>\n      <td>Customizable Flask - SQLAlchemy - Whoosh integ...</td>\n    </tr>\n    <tr>\n      <th>8398</th>\n      <td>https://api.github.com/repos/mattupstate/flask...</td>\n      <td>Flask-Mail adds SMTP mail sending to your Flas...</td>\n    </tr>\n    <tr>\n      <th>8413</th>\n      <td>https://api.github.com/repos/maxcountryman/logmon</td>\n      <td>Realtime log reader in Flask</td>\n    </tr>\n    <tr>\n      <th>7102</th>\n      <td>https://api.github.com/repos/jmcarp/flask-apispec</td>\n      <td>NaN</td>\n    </tr>\n    <tr>\n      <th>4405</th>\n      <td>https://api.github.com/repos/damyanbogoev/flas...</td>\n      <td>Flask Series</td>\n    </tr>\n    <tr>\n      <th>6163</th>\n      <td>https://api.github.com/repos/hack4impact/flask...</td>\n      <td>NaN</td>\n    </tr>\n  </tbody>\n</table>\n</div>",
         "text/plain": "                                              repo_url2  \\\n1473  https://api.github.com/repos/MongoEngine/flask...   \n8613  https://api.github.com/repos/mikeboers/Flask-I...   \n2733  https://api.github.com/repos/alecthomas/flask_...   \n3524  https://api.github.com/repos/bkabrda/flask-who...   \n8398  https://api.github.com/repos/mattupstate/flask...   \n8413  https://api.github.com/repos/maxcountryman/logmon   \n7102  https://api.github.com/repos/jmcarp/flask-apispec   \n4405  https://api.github.com/repos/damyanbogoev/flas...   \n6163  https://api.github.com/repos/hack4impact/flask...   \n\n                                      repo_description2  \n1473  MongoEngine flask extension with WTF model for...  \n8613  On-demand resizing of images for Flask applica...  \n2733                    Adds Injector support to Flask.  \n3524  Customizable Flask - SQLAlchemy - Whoosh integ...  \n8398  Flask-Mail adds SMTP mail sending to your Flas...  \n8413                       Realtime log reader in Flask  \n7102                                                NaN  \n4405                                       Flask Series  \n6163                                                NaN  "
        },
        "execution_count": 142,
        "metadata": {},
        "output_type": "execute_result"
       }
      ],
      "source": "df2",
      "start_time": "2020-04-07T09:48:04.755Z"
     },
     {
      "end_time": "2020-04-07T09:57:37.670Z",
      "execution_time": "49ms",
      "outputs": [
       {
        "data": {
         "text/plain": "5712    https://api.github.com/repos/fuzimaoxinan/Tens...\n5712    https://api.github.com/repos/fuzimaoxinan/Tens...\n5712    https://api.github.com/repos/fuzimaoxinan/Tens...\n5712    https://api.github.com/repos/fuzimaoxinan/Tens...\n5712    https://api.github.com/repos/fuzimaoxinan/Tens...\n5712    https://api.github.com/repos/fuzimaoxinan/Tens...\n5712    https://api.github.com/repos/fuzimaoxinan/Tens...\n5712    https://api.github.com/repos/fuzimaoxinan/Tens...\n5712    https://api.github.com/repos/fuzimaoxinan/Tens...\nName: url, dtype: object"
        },
        "execution_count": 143,
        "metadata": {},
        "output_type": "execute_result"
       }
      ],
      "source": "repository_info.url[ranking_nmf_multiplicative[0][0:9]]",
      "start_time": "2020-04-07T09:57:37.621Z"
     },
     {
      "end_time": "2020-04-07T09:59:31.214Z",
      "execution_time": "16ms",
      "outputs": [
       {
        "data": {
         "text/plain": "5712    https://api.github.com/repos/fuzimaoxinan/Tens...\n5712    https://api.github.com/repos/fuzimaoxinan/Tens...\n5712    https://api.github.com/repos/fuzimaoxinan/Tens...\n5712    https://api.github.com/repos/fuzimaoxinan/Tens...\n5712    https://api.github.com/repos/fuzimaoxinan/Tens...\n5712    https://api.github.com/repos/fuzimaoxinan/Tens...\n5712    https://api.github.com/repos/fuzimaoxinan/Tens...\n5712    https://api.github.com/repos/fuzimaoxinan/Tens...\n5712    https://api.github.com/repos/fuzimaoxinan/Tens...\nName: url, dtype: object"
        },
        "execution_count": 144,
        "metadata": {},
        "output_type": "execute_result"
       }
      ],
      "source": "repository_info['url'][ranking_nmf_multiplicative[0][0:9]]",
      "start_time": "2020-04-07T09:59:31.198Z"
     },
     {
      "end_time": "2020-04-07T10:01:19.664Z",
      "execution_time": "18ms",
      "outputs": [
       {
        "data": {
         "text/plain": "array(['https://api.github.com/repos/fuzimaoxinan/Tensorflow-Deep-Neural-Networks',\n       'https://api.github.com/repos/fuzimaoxinan/Tensorflow-Deep-Neural-Networks',\n       'https://api.github.com/repos/fuzimaoxinan/Tensorflow-Deep-Neural-Networks',\n       'https://api.github.com/repos/fuzimaoxinan/Tensorflow-Deep-Neural-Networks',\n       'https://api.github.com/repos/fuzimaoxinan/Tensorflow-Deep-Neural-Networks',\n       'https://api.github.com/repos/fuzimaoxinan/Tensorflow-Deep-Neural-Networks',\n       'https://api.github.com/repos/fuzimaoxinan/Tensorflow-Deep-Neural-Networks',\n       'https://api.github.com/repos/fuzimaoxinan/Tensorflow-Deep-Neural-Networks',\n       'https://api.github.com/repos/fuzimaoxinan/Tensorflow-Deep-Neural-Networks'],\n      dtype=object)"
        },
        "execution_count": 145,
        "metadata": {},
        "output_type": "execute_result"
       }
      ],
      "source": "repository_info.url.values[ranking_nmf_multiplicative[0][0:9]]",
      "start_time": "2020-04-07T10:01:19.646Z"
     },
     {
      "end_time": "2020-04-07T10:12:31.476Z",
      "execution_time": "104ms",
      "outputs": [
       {
        "data": {
         "text/html": "<div>\n<style scoped>\n    .dataframe tbody tr th:only-of-type {\n        vertical-align: middle;\n    }\n\n    .dataframe tbody tr th {\n        vertical-align: top;\n    }\n\n    .dataframe thead th {\n        text-align: right;\n    }\n</style>\n<table border=\"1\" class=\"dataframe\">\n  <thead>\n    <tr style=\"text-align: right;\">\n      <th></th>\n      <th>repo_url1</th>\n      <th>repo_description1</th>\n      <th>repo_url2</th>\n      <th>repo_description2</th>\n      <th>score</th>\n    </tr>\n  </thead>\n  <tbody>\n    <tr>\n      <th>0</th>\n      <td>https://api.github.com/repos/fuzimaoxinan/Tens...</td>\n      <td>用Tensorflow实现的深度神经网络</td>\n      <td>https://api.github.com/repos/MongoEngine/flask...</td>\n      <td>MongoEngine flask extension with WTF model for...</td>\n      <td>0.002992</td>\n    </tr>\n    <tr>\n      <th>1</th>\n      <td>https://api.github.com/repos/fuzimaoxinan/Tens...</td>\n      <td>用Tensorflow实现的深度神经网络</td>\n      <td>https://api.github.com/repos/mikeboers/Flask-I...</td>\n      <td>On-demand resizing of images for Flask applica...</td>\n      <td>0.002986</td>\n    </tr>\n    <tr>\n      <th>2</th>\n      <td>https://api.github.com/repos/fuzimaoxinan/Tens...</td>\n      <td>用Tensorflow实现的深度神经网络</td>\n      <td>https://api.github.com/repos/alecthomas/flask_...</td>\n      <td>Adds Injector support to Flask.</td>\n      <td>0.002981</td>\n    </tr>\n    <tr>\n      <th>3</th>\n      <td>https://api.github.com/repos/fuzimaoxinan/Tens...</td>\n      <td>用Tensorflow实现的深度神经网络</td>\n      <td>https://api.github.com/repos/bkabrda/flask-who...</td>\n      <td>Customizable Flask - SQLAlchemy - Whoosh integ...</td>\n      <td>0.002980</td>\n    </tr>\n    <tr>\n      <th>4</th>\n      <td>https://api.github.com/repos/fuzimaoxinan/Tens...</td>\n      <td>用Tensorflow实现的深度神经网络</td>\n      <td>https://api.github.com/repos/mattupstate/flask...</td>\n      <td>Flask-Mail adds SMTP mail sending to your Flas...</td>\n      <td>0.002968</td>\n    </tr>\n    <tr>\n      <th>5</th>\n      <td>https://api.github.com/repos/fuzimaoxinan/Tens...</td>\n      <td>用Tensorflow实现的深度神经网络</td>\n      <td>https://api.github.com/repos/maxcountryman/logmon</td>\n      <td>Realtime log reader in Flask</td>\n      <td>0.002965</td>\n    </tr>\n    <tr>\n      <th>6</th>\n      <td>https://api.github.com/repos/fuzimaoxinan/Tens...</td>\n      <td>用Tensorflow实现的深度神经网络</td>\n      <td>https://api.github.com/repos/jmcarp/flask-apispec</td>\n      <td>NaN</td>\n      <td>0.002950</td>\n    </tr>\n    <tr>\n      <th>7</th>\n      <td>https://api.github.com/repos/fuzimaoxinan/Tens...</td>\n      <td>用Tensorflow实现的深度神经网络</td>\n      <td>https://api.github.com/repos/damyanbogoev/flas...</td>\n      <td>Flask Series</td>\n      <td>0.002944</td>\n    </tr>\n    <tr>\n      <th>8</th>\n      <td>https://api.github.com/repos/fuzimaoxinan/Tens...</td>\n      <td>用Tensorflow实现的深度神经网络</td>\n      <td>https://api.github.com/repos/hack4impact/flask...</td>\n      <td>NaN</td>\n      <td>0.002940</td>\n    </tr>\n  </tbody>\n</table>\n</div>",
         "text/plain": "                                           repo_url1     repo_description1  \\\n0  https://api.github.com/repos/fuzimaoxinan/Tens...  用Tensorflow实现的深度神经网络   \n1  https://api.github.com/repos/fuzimaoxinan/Tens...  用Tensorflow实现的深度神经网络   \n2  https://api.github.com/repos/fuzimaoxinan/Tens...  用Tensorflow实现的深度神经网络   \n3  https://api.github.com/repos/fuzimaoxinan/Tens...  用Tensorflow实现的深度神经网络   \n4  https://api.github.com/repos/fuzimaoxinan/Tens...  用Tensorflow实现的深度神经网络   \n5  https://api.github.com/repos/fuzimaoxinan/Tens...  用Tensorflow实现的深度神经网络   \n6  https://api.github.com/repos/fuzimaoxinan/Tens...  用Tensorflow实现的深度神经网络   \n7  https://api.github.com/repos/fuzimaoxinan/Tens...  用Tensorflow实现的深度神经网络   \n8  https://api.github.com/repos/fuzimaoxinan/Tens...  用Tensorflow实现的深度神经网络   \n\n                                           repo_url2  \\\n0  https://api.github.com/repos/MongoEngine/flask...   \n1  https://api.github.com/repos/mikeboers/Flask-I...   \n2  https://api.github.com/repos/alecthomas/flask_...   \n3  https://api.github.com/repos/bkabrda/flask-who...   \n4  https://api.github.com/repos/mattupstate/flask...   \n5  https://api.github.com/repos/maxcountryman/logmon   \n6  https://api.github.com/repos/jmcarp/flask-apispec   \n7  https://api.github.com/repos/damyanbogoev/flas...   \n8  https://api.github.com/repos/hack4impact/flask...   \n\n                                   repo_description2     score  \n0  MongoEngine flask extension with WTF model for...  0.002992  \n1  On-demand resizing of images for Flask applica...  0.002986  \n2                    Adds Injector support to Flask.  0.002981  \n3  Customizable Flask - SQLAlchemy - Whoosh integ...  0.002980  \n4  Flask-Mail adds SMTP mail sending to your Flas...  0.002968  \n5                       Realtime log reader in Flask  0.002965  \n6                                                NaN  0.002950  \n7                                       Flask Series  0.002944  \n8                                                NaN  0.002940  "
        },
        "execution_count": 148,
        "metadata": {},
        "output_type": "execute_result"
       }
      ],
      "source": "pd.DataFrame(\n    {\n        \"repo_url1\" : repository_info.url.values[ranking_lda_multiplicative[0][0:9]], \n        \"repo_description1\" : repository_info.description.values[ranking_lda_multiplicative[0][0:9]],\n        \"repo_url2\" : repository_info.url.values[ranking_lda_multiplicative[1][0:9]], \n        \"repo_description2\" : repository_info.description.values[ranking_lda_multiplicative[1][0:9]],\n        \"score\" : ranking_lda_multiplicative[2][0:9]\n    }\n)",
      "start_time": "2020-04-07T10:12:31.372Z"
     },
     {
      "end_time": "2020-04-07T10:19:15.655Z",
      "execution_time": "83ms",
      "outputs": [
       {
        "data": {
         "text/html": "<div>\n<style scoped>\n    .dataframe tbody tr th:only-of-type {\n        vertical-align: middle;\n    }\n\n    .dataframe tbody tr th {\n        vertical-align: top;\n    }\n\n    .dataframe thead th {\n        text-align: right;\n    }\n</style>\n<table border=\"1\" class=\"dataframe\">\n  <thead>\n    <tr style=\"text-align: right;\">\n      <th></th>\n      <th>repo_url1</th>\n      <th>repo_description1</th>\n      <th>repo_url2</th>\n      <th>repo_description2</th>\n      <th>score</th>\n    </tr>\n  </thead>\n  <tbody>\n    <tr>\n      <th>0</th>\n      <td>https://api.github.com/repos/limhenry/earthview</td>\n      <td>Earth View is a collection of the most beautif...</td>\n      <td>https://api.github.com/repos/googlei18n/corpus...</td>\n      <td>Crawler for linguistic corpora</td>\n      <td>0.001339</td>\n    </tr>\n    <tr>\n      <th>1</th>\n      <td>https://api.github.com/repos/limhenry/earthview</td>\n      <td>Earth View is a collection of the most beautif...</td>\n      <td>https://api.github.com/repos/tmrowco/electrici...</td>\n      <td>A real-time visualisation of the CO2 emissions...</td>\n      <td>0.001303</td>\n    </tr>\n    <tr>\n      <th>2</th>\n      <td>https://api.github.com/repos/limhenry/earthview</td>\n      <td>Earth View is a collection of the most beautif...</td>\n      <td>https://api.github.com/repos/weiweihuanghuang/...</td>\n      <td>A grotesque sans.</td>\n      <td>0.001097</td>\n    </tr>\n    <tr>\n      <th>3</th>\n      <td>https://api.github.com/repos/googlei18n/corpus...</td>\n      <td>Crawler for linguistic corpora</td>\n      <td>https://api.github.com/repos/limhenry/earthview</td>\n      <td>Earth View is a collection of the most beautif...</td>\n      <td>0.001069</td>\n    </tr>\n    <tr>\n      <th>4</th>\n      <td>https://api.github.com/repos/tmrowco/electrici...</td>\n      <td>A real-time visualisation of the CO2 emissions...</td>\n      <td>https://api.github.com/repos/limhenry/earthview</td>\n      <td>Earth View is a collection of the most beautif...</td>\n      <td>0.001042</td>\n    </tr>\n    <tr>\n      <th>5</th>\n      <td>https://api.github.com/repos/tmrowco/electrici...</td>\n      <td>A real-time visualisation of the CO2 emissions...</td>\n      <td>https://api.github.com/repos/tmrowco/electrici...</td>\n      <td>A real-time visualisation of the CO2 emissions...</td>\n      <td>0.000976</td>\n    </tr>\n    <tr>\n      <th>6</th>\n      <td>https://api.github.com/repos/madhavanmalolan/a...</td>\n      <td>Awesome React Native UI components updated daily</td>\n      <td>https://api.github.com/repos/Kitt-AI/snowboy</td>\n      <td>NaN</td>\n      <td>0.000920</td>\n    </tr>\n    <tr>\n      <th>7</th>\n      <td>https://api.github.com/repos/googlei18n/corpus...</td>\n      <td>Crawler for linguistic corpora</td>\n      <td>https://api.github.com/repos/googlei18n/corpus...</td>\n      <td>Crawler for linguistic corpora</td>\n      <td>0.000917</td>\n    </tr>\n    <tr>\n      <th>8</th>\n      <td>https://api.github.com/repos/tmrowco/electrici...</td>\n      <td>A real-time visualisation of the CO2 emissions...</td>\n      <td>https://api.github.com/repos/googlei18n/corpus...</td>\n      <td>Crawler for linguistic corpora</td>\n      <td>0.000893</td>\n    </tr>\n  </tbody>\n</table>\n</div>",
         "text/plain": "                                           repo_url1  \\\n0    https://api.github.com/repos/limhenry/earthview   \n1    https://api.github.com/repos/limhenry/earthview   \n2    https://api.github.com/repos/limhenry/earthview   \n3  https://api.github.com/repos/googlei18n/corpus...   \n4  https://api.github.com/repos/tmrowco/electrici...   \n5  https://api.github.com/repos/tmrowco/electrici...   \n6  https://api.github.com/repos/madhavanmalolan/a...   \n7  https://api.github.com/repos/googlei18n/corpus...   \n8  https://api.github.com/repos/tmrowco/electrici...   \n\n                                   repo_description1  \\\n0  Earth View is a collection of the most beautif...   \n1  Earth View is a collection of the most beautif...   \n2  Earth View is a collection of the most beautif...   \n3                     Crawler for linguistic corpora   \n4  A real-time visualisation of the CO2 emissions...   \n5  A real-time visualisation of the CO2 emissions...   \n6   Awesome React Native UI components updated daily   \n7                     Crawler for linguistic corpora   \n8  A real-time visualisation of the CO2 emissions...   \n\n                                           repo_url2  \\\n0  https://api.github.com/repos/googlei18n/corpus...   \n1  https://api.github.com/repos/tmrowco/electrici...   \n2  https://api.github.com/repos/weiweihuanghuang/...   \n3    https://api.github.com/repos/limhenry/earthview   \n4    https://api.github.com/repos/limhenry/earthview   \n5  https://api.github.com/repos/tmrowco/electrici...   \n6       https://api.github.com/repos/Kitt-AI/snowboy   \n7  https://api.github.com/repos/googlei18n/corpus...   \n8  https://api.github.com/repos/googlei18n/corpus...   \n\n                                   repo_description2     score  \n0                     Crawler for linguistic corpora  0.001339  \n1  A real-time visualisation of the CO2 emissions...  0.001303  \n2                                  A grotesque sans.  0.001097  \n3  Earth View is a collection of the most beautif...  0.001069  \n4  Earth View is a collection of the most beautif...  0.001042  \n5  A real-time visualisation of the CO2 emissions...  0.000976  \n6                                                NaN  0.000920  \n7                     Crawler for linguistic corpora  0.000917  \n8                     Crawler for linguistic corpora  0.000893  "
        },
        "execution_count": 150,
        "metadata": {},
        "output_type": "execute_result"
       }
      ],
      "source": "pd.DataFrame(\n    {\n        \"repo_url1\" : repository_info.url.values[ranking_lda_multiplicative[0][0:9]], \n        \"repo_description1\" : repository_info.description.values[ranking_lda_multiplicative[0][0:9]],\n        \"repo_url2\" : repository_info.url.values[ranking_lda_multiplicative[1][0:9]], \n        \"repo_description2\" : repository_info.description.values[ranking_lda_multiplicative[1][0:9]],\n        \"score\" : ranking_lda_multiplicative[2][0:9]\n    }\n)",
      "start_time": "2020-04-07T10:19:15.572Z"
     },
     {
      "end_time": "2020-04-07T12:16:18.642Z",
      "execution_time": "18ms",
      "outputs": [
       {
        "data": {
         "text/html": "<div>\n<style scoped>\n    .dataframe tbody tr th:only-of-type {\n        vertical-align: middle;\n    }\n\n    .dataframe tbody tr th {\n        vertical-align: top;\n    }\n\n    .dataframe thead th {\n        text-align: right;\n    }\n</style>\n<table border=\"1\" class=\"dataframe\">\n  <thead>\n    <tr style=\"text-align: right;\">\n      <th></th>\n      <th>repo_url1</th>\n      <th>repo_description1</th>\n      <th>repo_url2</th>\n      <th>repo_description2</th>\n      <th>score</th>\n    </tr>\n  </thead>\n  <tbody>\n    <tr>\n      <th>0</th>\n      <td>https://api.github.com/repos/limhenry/earthview</td>\n      <td>Earth View is a collection of the most beautif...</td>\n      <td>https://api.github.com/repos/googlei18n/corpus...</td>\n      <td>Crawler for linguistic corpora</td>\n      <td>0.001339</td>\n    </tr>\n    <tr>\n      <th>1</th>\n      <td>https://api.github.com/repos/limhenry/earthview</td>\n      <td>Earth View is a collection of the most beautif...</td>\n      <td>https://api.github.com/repos/tmrowco/electrici...</td>\n      <td>A real-time visualisation of the CO2 emissions...</td>\n      <td>0.001303</td>\n    </tr>\n    <tr>\n      <th>2</th>\n      <td>https://api.github.com/repos/limhenry/earthview</td>\n      <td>Earth View is a collection of the most beautif...</td>\n      <td>https://api.github.com/repos/weiweihuanghuang/...</td>\n      <td>A grotesque sans.</td>\n      <td>0.001097</td>\n    </tr>\n    <tr>\n      <th>3</th>\n      <td>https://api.github.com/repos/googlei18n/corpus...</td>\n      <td>Crawler for linguistic corpora</td>\n      <td>https://api.github.com/repos/limhenry/earthview</td>\n      <td>Earth View is a collection of the most beautif...</td>\n      <td>0.001069</td>\n    </tr>\n    <tr>\n      <th>4</th>\n      <td>https://api.github.com/repos/tmrowco/electrici...</td>\n      <td>A real-time visualisation of the CO2 emissions...</td>\n      <td>https://api.github.com/repos/limhenry/earthview</td>\n      <td>Earth View is a collection of the most beautif...</td>\n      <td>0.001042</td>\n    </tr>\n    <tr>\n      <th>5</th>\n      <td>https://api.github.com/repos/tmrowco/electrici...</td>\n      <td>A real-time visualisation of the CO2 emissions...</td>\n      <td>https://api.github.com/repos/tmrowco/electrici...</td>\n      <td>A real-time visualisation of the CO2 emissions...</td>\n      <td>0.000976</td>\n    </tr>\n    <tr>\n      <th>6</th>\n      <td>https://api.github.com/repos/madhavanmalolan/a...</td>\n      <td>Awesome React Native UI components updated daily</td>\n      <td>https://api.github.com/repos/Kitt-AI/snowboy</td>\n      <td>NaN</td>\n      <td>0.000920</td>\n    </tr>\n    <tr>\n      <th>7</th>\n      <td>https://api.github.com/repos/googlei18n/corpus...</td>\n      <td>Crawler for linguistic corpora</td>\n      <td>https://api.github.com/repos/googlei18n/corpus...</td>\n      <td>Crawler for linguistic corpora</td>\n      <td>0.000917</td>\n    </tr>\n    <tr>\n      <th>8</th>\n      <td>https://api.github.com/repos/tmrowco/electrici...</td>\n      <td>A real-time visualisation of the CO2 emissions...</td>\n      <td>https://api.github.com/repos/googlei18n/corpus...</td>\n      <td>Crawler for linguistic corpora</td>\n      <td>0.000893</td>\n    </tr>\n  </tbody>\n</table>\n</div>",
         "text/plain": "                                           repo_url1  \\\n0    https://api.github.com/repos/limhenry/earthview   \n1    https://api.github.com/repos/limhenry/earthview   \n2    https://api.github.com/repos/limhenry/earthview   \n3  https://api.github.com/repos/googlei18n/corpus...   \n4  https://api.github.com/repos/tmrowco/electrici...   \n5  https://api.github.com/repos/tmrowco/electrici...   \n6  https://api.github.com/repos/madhavanmalolan/a...   \n7  https://api.github.com/repos/googlei18n/corpus...   \n8  https://api.github.com/repos/tmrowco/electrici...   \n\n                                   repo_description1  \\\n0  Earth View is a collection of the most beautif...   \n1  Earth View is a collection of the most beautif...   \n2  Earth View is a collection of the most beautif...   \n3                     Crawler for linguistic corpora   \n4  A real-time visualisation of the CO2 emissions...   \n5  A real-time visualisation of the CO2 emissions...   \n6   Awesome React Native UI components updated daily   \n7                     Crawler for linguistic corpora   \n8  A real-time visualisation of the CO2 emissions...   \n\n                                           repo_url2  \\\n0  https://api.github.com/repos/googlei18n/corpus...   \n1  https://api.github.com/repos/tmrowco/electrici...   \n2  https://api.github.com/repos/weiweihuanghuang/...   \n3    https://api.github.com/repos/limhenry/earthview   \n4    https://api.github.com/repos/limhenry/earthview   \n5  https://api.github.com/repos/tmrowco/electrici...   \n6       https://api.github.com/repos/Kitt-AI/snowboy   \n7  https://api.github.com/repos/googlei18n/corpus...   \n8  https://api.github.com/repos/googlei18n/corpus...   \n\n                                   repo_description2     score  \n0                     Crawler for linguistic corpora  0.001339  \n1  A real-time visualisation of the CO2 emissions...  0.001303  \n2                                  A grotesque sans.  0.001097  \n3  Earth View is a collection of the most beautif...  0.001069  \n4  Earth View is a collection of the most beautif...  0.001042  \n5  A real-time visualisation of the CO2 emissions...  0.000976  \n6                                                NaN  0.000920  \n7                     Crawler for linguistic corpora  0.000917  \n8                     Crawler for linguistic corpora  0.000893  "
        },
        "execution_count": 6,
        "metadata": {},
        "output_type": "execute_result"
       }
      ],
      "source": "pd.DataFrame(\n    {\n        \"repo_url1\" : repository_info.url.values[ranking_lda_multiplicative[0][0:9]], \n        \"repo_description1\" : repository_info.description.values[ranking_lda_multiplicative[0][0:9]],\n        \"repo_url2\" : repository_info.url.values[ranking_lda_multiplicative[1][0:9]], \n        \"repo_description2\" : repository_info.description.values[ranking_lda_multiplicative[1][0:9]],\n        \"score\" : ranking_lda_multiplicative[2][0:9]\n    }\n)",
      "start_time": "2020-04-07T12:16:18.624Z"
     },
     {
      "end_time": "2020-04-09T14:43:36.729Z",
      "execution_time": "19ms",
      "outputs": [
       {
        "data": {
         "text/html": "<div>\n<style scoped>\n    .dataframe tbody tr th:only-of-type {\n        vertical-align: middle;\n    }\n\n    .dataframe tbody tr th {\n        vertical-align: top;\n    }\n\n    .dataframe thead th {\n        text-align: right;\n    }\n</style>\n<table border=\"1\" class=\"dataframe\">\n  <thead>\n    <tr style=\"text-align: right;\">\n      <th></th>\n      <th>repo_url1</th>\n      <th>repo_description1</th>\n      <th>repo_url2</th>\n      <th>repo_description2</th>\n      <th>score</th>\n    </tr>\n  </thead>\n  <tbody>\n    <tr>\n      <th>0</th>\n      <td>https://api.github.com/repos/AfricasTalkingLtd...</td>\n      <td>Official AfricasTalking Python API</td>\n      <td>https://api.github.com/repos/django-oscar/djan...</td>\n      <td>Domain-driven e-commerce for Django</td>\n      <td>0.001527</td>\n    </tr>\n    <tr>\n      <th>1</th>\n      <td>https://api.github.com/repos/googlei18n/corpus...</td>\n      <td>Crawler for linguistic corpora</td>\n      <td>https://api.github.com/repos/django-oscar/djan...</td>\n      <td>Domain-driven e-commerce for Django</td>\n      <td>0.001524</td>\n    </tr>\n    <tr>\n      <th>2</th>\n      <td>https://api.github.com/repos/egh/ledger-autosync</td>\n      <td>NaN</td>\n      <td>https://api.github.com/repos/AfricasTalkingLtd...</td>\n      <td>Official AfricasTalking Python API</td>\n      <td>0.001512</td>\n    </tr>\n    <tr>\n      <th>3</th>\n      <td>https://api.github.com/repos/AnalogJ/lexicon</td>\n      <td>Write dns entries to various dns providers in ...</td>\n      <td>https://api.github.com/repos/AfricasTalkingLtd...</td>\n      <td>Official AfricasTalking Python API</td>\n      <td>0.001506</td>\n    </tr>\n    <tr>\n      <th>4</th>\n      <td>https://api.github.com/repos/ui/rq-scheduler</td>\n      <td>A light library that adds job scheduling capab...</td>\n      <td>https://api.github.com/repos/EugenioDelfa/Smal...</td>\n      <td>Smali Control Flow Graph's</td>\n      <td>0.001503</td>\n    </tr>\n    <tr>\n      <th>5</th>\n      <td>https://api.github.com/repos/rq/rq-scheduler</td>\n      <td>A light library that adds job scheduling capab...</td>\n      <td>https://api.github.com/repos/EugenioDelfa/Smal...</td>\n      <td>Smali Control Flow Graph's</td>\n      <td>0.001501</td>\n    </tr>\n    <tr>\n      <th>6</th>\n      <td>https://api.github.com/repos/astorfi/speechpy</td>\n      <td>NaN</td>\n      <td>https://api.github.com/repos/jsawruk/pymir</td>\n      <td>Music IR Library for Python</td>\n      <td>0.001499</td>\n    </tr>\n    <tr>\n      <th>7</th>\n      <td>https://api.github.com/repos/closeio/tasktiger</td>\n      <td>Python task queue. Because celery is gross.</td>\n      <td>https://api.github.com/repos/EugenioDelfa/Smal...</td>\n      <td>Smali Control Flow Graph's</td>\n      <td>0.001495</td>\n    </tr>\n    <tr>\n      <th>8</th>\n      <td>https://api.github.com/repos/brainix/pottery</td>\n      <td>Redis for humans.</td>\n      <td>https://api.github.com/repos/EugenioDelfa/Smal...</td>\n      <td>Smali Control Flow Graph's</td>\n      <td>0.001494</td>\n    </tr>\n  </tbody>\n</table>\n</div>",
         "text/plain": "                                           repo_url1  \\\n0  https://api.github.com/repos/AfricasTalkingLtd...   \n1  https://api.github.com/repos/googlei18n/corpus...   \n2   https://api.github.com/repos/egh/ledger-autosync   \n3       https://api.github.com/repos/AnalogJ/lexicon   \n4       https://api.github.com/repos/ui/rq-scheduler   \n5       https://api.github.com/repos/rq/rq-scheduler   \n6      https://api.github.com/repos/astorfi/speechpy   \n7     https://api.github.com/repos/closeio/tasktiger   \n8       https://api.github.com/repos/brainix/pottery   \n\n                                   repo_description1  \\\n0                Official AfricasTalking Python API    \n1                     Crawler for linguistic corpora   \n2                                                NaN   \n3  Write dns entries to various dns providers in ...   \n4  A light library that adds job scheduling capab...   \n5  A light library that adds job scheduling capab...   \n6                                                NaN   \n7        Python task queue. Because celery is gross.   \n8                                  Redis for humans.   \n\n                                           repo_url2  \\\n0  https://api.github.com/repos/django-oscar/djan...   \n1  https://api.github.com/repos/django-oscar/djan...   \n2  https://api.github.com/repos/AfricasTalkingLtd...   \n3  https://api.github.com/repos/AfricasTalkingLtd...   \n4  https://api.github.com/repos/EugenioDelfa/Smal...   \n5  https://api.github.com/repos/EugenioDelfa/Smal...   \n6         https://api.github.com/repos/jsawruk/pymir   \n7  https://api.github.com/repos/EugenioDelfa/Smal...   \n8  https://api.github.com/repos/EugenioDelfa/Smal...   \n\n                     repo_description2     score  \n0  Domain-driven e-commerce for Django  0.001527  \n1  Domain-driven e-commerce for Django  0.001524  \n2  Official AfricasTalking Python API   0.001512  \n3  Official AfricasTalking Python API   0.001506  \n4           Smali Control Flow Graph's  0.001503  \n5           Smali Control Flow Graph's  0.001501  \n6          Music IR Library for Python  0.001499  \n7           Smali Control Flow Graph's  0.001495  \n8           Smali Control Flow Graph's  0.001494  "
        },
        "execution_count": 4,
        "metadata": {},
        "output_type": "execute_result"
       }
      ],
      "source": "pd.DataFrame(\n    {\n        \"repo_url1\" : repository_info.url.values[ranking_lda_multiplicative[0][0:9]], \n        \"repo_description1\" : repository_info.description.values[ranking_lda_multiplicative[0][0:9]],\n        \"repo_url2\" : repository_info.url.values[ranking_lda_multiplicative[1][0:9]], \n        \"repo_description2\" : repository_info.description.values[ranking_lda_multiplicative[1][0:9]],\n        \"score\" : ranking_lda_multiplicative[2][0:9]\n    }\n)",
      "start_time": "2020-04-09T14:43:36.710Z"
     }
    ]
   },
   "outputs": [
    {
     "data": {
      "text/html": [
       "<div>\n",
       "<style scoped>\n",
       "    .dataframe tbody tr th:only-of-type {\n",
       "        vertical-align: middle;\n",
       "    }\n",
       "\n",
       "    .dataframe tbody tr th {\n",
       "        vertical-align: top;\n",
       "    }\n",
       "\n",
       "    .dataframe thead th {\n",
       "        text-align: right;\n",
       "    }\n",
       "</style>\n",
       "<table border=\"1\" class=\"dataframe\">\n",
       "  <thead>\n",
       "    <tr style=\"text-align: right;\">\n",
       "      <th></th>\n",
       "      <th>repo_url1</th>\n",
       "      <th>repo_description1</th>\n",
       "      <th>repo_url2</th>\n",
       "      <th>repo_description2</th>\n",
       "      <th>score</th>\n",
       "    </tr>\n",
       "  </thead>\n",
       "  <tbody>\n",
       "    <tr>\n",
       "      <th>0</th>\n",
       "      <td>https://api.github.com/repos/AfricasTalkingLtd...</td>\n",
       "      <td>Official AfricasTalking Python API</td>\n",
       "      <td>https://api.github.com/repos/django-oscar/djan...</td>\n",
       "      <td>Domain-driven e-commerce for Django</td>\n",
       "      <td>0.001527</td>\n",
       "    </tr>\n",
       "    <tr>\n",
       "      <th>1</th>\n",
       "      <td>https://api.github.com/repos/googlei18n/corpus...</td>\n",
       "      <td>Crawler for linguistic corpora</td>\n",
       "      <td>https://api.github.com/repos/django-oscar/djan...</td>\n",
       "      <td>Domain-driven e-commerce for Django</td>\n",
       "      <td>0.001524</td>\n",
       "    </tr>\n",
       "    <tr>\n",
       "      <th>2</th>\n",
       "      <td>https://api.github.com/repos/egh/ledger-autosync</td>\n",
       "      <td>NaN</td>\n",
       "      <td>https://api.github.com/repos/AfricasTalkingLtd...</td>\n",
       "      <td>Official AfricasTalking Python API</td>\n",
       "      <td>0.001512</td>\n",
       "    </tr>\n",
       "    <tr>\n",
       "      <th>3</th>\n",
       "      <td>https://api.github.com/repos/AnalogJ/lexicon</td>\n",
       "      <td>Write dns entries to various dns providers in ...</td>\n",
       "      <td>https://api.github.com/repos/AfricasTalkingLtd...</td>\n",
       "      <td>Official AfricasTalking Python API</td>\n",
       "      <td>0.001506</td>\n",
       "    </tr>\n",
       "    <tr>\n",
       "      <th>4</th>\n",
       "      <td>https://api.github.com/repos/ui/rq-scheduler</td>\n",
       "      <td>A light library that adds job scheduling capab...</td>\n",
       "      <td>https://api.github.com/repos/EugenioDelfa/Smal...</td>\n",
       "      <td>Smali Control Flow Graph's</td>\n",
       "      <td>0.001503</td>\n",
       "    </tr>\n",
       "    <tr>\n",
       "      <th>5</th>\n",
       "      <td>https://api.github.com/repos/rq/rq-scheduler</td>\n",
       "      <td>A light library that adds job scheduling capab...</td>\n",
       "      <td>https://api.github.com/repos/EugenioDelfa/Smal...</td>\n",
       "      <td>Smali Control Flow Graph's</td>\n",
       "      <td>0.001501</td>\n",
       "    </tr>\n",
       "    <tr>\n",
       "      <th>6</th>\n",
       "      <td>https://api.github.com/repos/astorfi/speechpy</td>\n",
       "      <td>NaN</td>\n",
       "      <td>https://api.github.com/repos/jsawruk/pymir</td>\n",
       "      <td>Music IR Library for Python</td>\n",
       "      <td>0.001499</td>\n",
       "    </tr>\n",
       "    <tr>\n",
       "      <th>7</th>\n",
       "      <td>https://api.github.com/repos/closeio/tasktiger</td>\n",
       "      <td>Python task queue. Because celery is gross.</td>\n",
       "      <td>https://api.github.com/repos/EugenioDelfa/Smal...</td>\n",
       "      <td>Smali Control Flow Graph's</td>\n",
       "      <td>0.001495</td>\n",
       "    </tr>\n",
       "    <tr>\n",
       "      <th>8</th>\n",
       "      <td>https://api.github.com/repos/brainix/pottery</td>\n",
       "      <td>Redis for humans.</td>\n",
       "      <td>https://api.github.com/repos/EugenioDelfa/Smal...</td>\n",
       "      <td>Smali Control Flow Graph's</td>\n",
       "      <td>0.001494</td>\n",
       "    </tr>\n",
       "  </tbody>\n",
       "</table>\n",
       "</div>"
      ],
      "text/plain": [
       "                                           repo_url1  \\\n",
       "0  https://api.github.com/repos/AfricasTalkingLtd...   \n",
       "1  https://api.github.com/repos/googlei18n/corpus...   \n",
       "2   https://api.github.com/repos/egh/ledger-autosync   \n",
       "3       https://api.github.com/repos/AnalogJ/lexicon   \n",
       "4       https://api.github.com/repos/ui/rq-scheduler   \n",
       "5       https://api.github.com/repos/rq/rq-scheduler   \n",
       "6      https://api.github.com/repos/astorfi/speechpy   \n",
       "7     https://api.github.com/repos/closeio/tasktiger   \n",
       "8       https://api.github.com/repos/brainix/pottery   \n",
       "\n",
       "                                   repo_description1  \\\n",
       "0                Official AfricasTalking Python API    \n",
       "1                     Crawler for linguistic corpora   \n",
       "2                                                NaN   \n",
       "3  Write dns entries to various dns providers in ...   \n",
       "4  A light library that adds job scheduling capab...   \n",
       "5  A light library that adds job scheduling capab...   \n",
       "6                                                NaN   \n",
       "7        Python task queue. Because celery is gross.   \n",
       "8                                  Redis for humans.   \n",
       "\n",
       "                                           repo_url2  \\\n",
       "0  https://api.github.com/repos/django-oscar/djan...   \n",
       "1  https://api.github.com/repos/django-oscar/djan...   \n",
       "2  https://api.github.com/repos/AfricasTalkingLtd...   \n",
       "3  https://api.github.com/repos/AfricasTalkingLtd...   \n",
       "4  https://api.github.com/repos/EugenioDelfa/Smal...   \n",
       "5  https://api.github.com/repos/EugenioDelfa/Smal...   \n",
       "6         https://api.github.com/repos/jsawruk/pymir   \n",
       "7  https://api.github.com/repos/EugenioDelfa/Smal...   \n",
       "8  https://api.github.com/repos/EugenioDelfa/Smal...   \n",
       "\n",
       "                     repo_description2     score  \n",
       "0  Domain-driven e-commerce for Django  0.001527  \n",
       "1  Domain-driven e-commerce for Django  0.001524  \n",
       "2  Official AfricasTalking Python API   0.001512  \n",
       "3  Official AfricasTalking Python API   0.001506  \n",
       "4           Smali Control Flow Graph's  0.001503  \n",
       "5           Smali Control Flow Graph's  0.001501  \n",
       "6          Music IR Library for Python  0.001499  \n",
       "7           Smali Control Flow Graph's  0.001495  \n",
       "8           Smali Control Flow Graph's  0.001494  "
      ]
     },
     "execution_count": 4,
     "metadata": {},
     "output_type": "execute_result"
    }
   ],
   "source": [
    "pd.DataFrame(\n",
    "    {\n",
    "        \"repo_url1\" : repository_info.url.values[ranking_lda_multiplicative[0][0:9]], \n",
    "        \"repo_description1\" : repository_info.description.values[ranking_lda_multiplicative[0][0:9]],\n",
    "        \"repo_url2\" : repository_info.url.values[ranking_lda_multiplicative[1][0:9]], \n",
    "        \"repo_description2\" : repository_info.description.values[ranking_lda_multiplicative[1][0:9]],\n",
    "        \"score\" : ranking_lda_multiplicative[2][0:9]\n",
    "    }\n",
    ")"
   ]
  },
  {
   "cell_type": "markdown",
   "metadata": {
    "provenance": [
     {
      "last_modified": "2020-03-24T13:59:49.347Z",
      "source": "## Random walk with restart"
     },
     {
      "last_modified": "2020-03-24T16:20:50.575Z",
      "source": "## Random walk with restart"
     },
     {
      "last_modified": "2020-03-24T16:21:47.207Z",
      "source": "## Random walk with restart"
     },
     {
      "last_modified": "2020-03-24T16:21:55.987Z",
      "source": "## Random walk with restart"
     },
     {
      "last_modified": "2020-04-06T12:00:25.482Z",
      "source": "## Random walk with restart"
     },
     {
      "last_modified": "2020-04-06T12:00:56.100Z",
      "source": "## Random walk with restart"
     },
     {
      "last_modified": "2020-04-06T12:30:36.125Z",
      "source": "## Random walk with restart"
     },
     {
      "last_modified": "2020-04-06T12:31:39.245Z",
      "source": "## Random walk with restart"
     },
     {
      "last_modified": "2020-04-06T12:33:14.552Z",
      "source": "## Random walk with restart"
     },
     {
      "last_modified": "2020-04-06T12:34:34.425Z",
      "source": "## Random walk with restart"
     },
     {
      "last_modified": "2020-04-06T12:59:47.165Z",
      "source": "## Random walk with restart"
     },
     {
      "last_modified": "2020-04-06T13:24:51.145Z",
      "source": "## Random walk with restart"
     },
     {
      "last_modified": "2020-04-06T13:25:07.686Z",
      "source": "## Random walk with restart"
     },
     {
      "last_modified": "2020-04-06T13:26:59.305Z",
      "source": "## Random walk with restart"
     },
     {
      "last_modified": "2020-04-06T13:27:17.765Z",
      "source": "## Random walk with restart"
     },
     {
      "last_modified": "2020-04-06T13:29:00.700Z",
      "source": "## Random walk with restart"
     },
     {
      "last_modified": "2020-04-06T13:33:45.945Z",
      "source": "## Random walk with restart"
     },
     {
      "last_modified": "2020-04-06T13:34:33.354Z",
      "source": "## Random walk with restart"
     },
     {
      "last_modified": "2020-04-06T13:35:13.305Z",
      "source": "## Random walk with restart"
     },
     {
      "last_modified": "2020-04-06T13:40:52.266Z",
      "source": "## Random walk with restart"
     },
     {
      "last_modified": "2020-04-06T13:42:46.605Z",
      "source": "## Random walk with restart"
     },
     {
      "last_modified": "2020-04-06T13:43:18.425Z",
      "source": "## Random walk with restart"
     },
     {
      "last_modified": "2020-04-06T13:43:40.785Z",
      "source": "## Random walk with restart"
     },
     {
      "last_modified": "2020-04-06T13:44:19.445Z",
      "source": "## Random walk with restart"
     },
     {
      "last_modified": "2020-04-06T13:45:53.054Z",
      "source": "## Random walk with restart"
     },
     {
      "last_modified": "2020-04-06T13:50:01.461Z",
      "source": "## Random walk with restart"
     },
     {
      "last_modified": "2020-04-06T13:50:34.565Z",
      "source": "## Random walk with restart"
     },
     {
      "last_modified": "2020-04-06T14:05:27.513Z",
      "source": "## Random walk with restart"
     },
     {
      "last_modified": "2020-04-06T14:07:25.685Z",
      "source": "## Random walk with restart"
     },
     {
      "last_modified": "2020-04-06T14:10:25.293Z",
      "source": "## Random walk with restart"
     },
     {
      "last_modified": "2020-04-06T14:15:20.405Z",
      "source": "## Random walk with restart"
     },
     {
      "last_modified": "2020-04-06T14:22:36.373Z",
      "source": "## Random walk with restart"
     },
     {
      "last_modified": "2020-04-06T14:22:59.573Z",
      "source": "## Random walk with restart"
     },
     {
      "last_modified": "2020-04-06T14:29:38.386Z",
      "source": "## Random walk with restart"
     },
     {
      "last_modified": "2020-04-06T14:30:31.915Z",
      "source": "## Random walk with restart"
     },
     {
      "last_modified": "2020-04-06T14:31:28.845Z",
      "source": "## Random walk with restart"
     },
     {
      "last_modified": "2020-04-06T14:31:43.913Z",
      "source": "## Random walk with restart"
     },
     {
      "last_modified": "2020-04-06T14:33:43.145Z",
      "source": "## Random walk with restart"
     },
     {
      "last_modified": "2020-04-06T14:41:48.269Z",
      "source": "## Random walk with restart"
     },
     {
      "last_modified": "2020-04-06T14:48:42.313Z",
      "source": "## Random walk with restart"
     },
     {
      "last_modified": "2020-04-06T14:51:08.073Z",
      "source": "## Random walk with restart"
     },
     {
      "last_modified": "2020-04-06T14:52:48.245Z",
      "source": "## Random walk with restart"
     },
     {
      "last_modified": "2020-04-06T14:54:04.105Z",
      "source": "## Random walk with restart"
     },
     {
      "last_modified": "2020-04-06T14:55:31.025Z",
      "source": "## Random walk with restart"
     },
     {
      "last_modified": "2020-04-06T15:02:21.425Z",
      "source": "## Random walk with restart"
     },
     {
      "last_modified": "2020-04-06T15:09:04.497Z",
      "source": "## Random walk with restart"
     },
     {
      "last_modified": "2020-04-06T15:09:51.225Z",
      "source": "## Random walk with restart"
     },
     {
      "last_modified": "2020-04-06T15:14:35.645Z",
      "source": "## Random walk with restart"
     },
     {
      "last_modified": "2020-04-06T15:16:11.321Z",
      "source": "## Random walk with restart"
     },
     {
      "last_modified": "2020-04-06T15:26:29.957Z",
      "source": "## Random walk with restart"
     },
     {
      "last_modified": "2020-04-06T15:41:08.226Z",
      "source": "## Random walk with restart"
     },
     {
      "last_modified": "2020-04-07T10:02:39.252Z",
      "source": "## Random walk with restart"
     },
     {
      "last_modified": "2020-04-07T10:13:10.792Z",
      "source": "## Random walk with restart"
     },
     {
      "last_modified": "2020-04-07T10:22:12.388Z",
      "source": "## Random walk with restart"
     },
     {
      "last_modified": "2020-04-07T10:22:46.260Z",
      "source": "## Random walk with restart"
     },
     {
      "last_modified": "2020-04-07T10:24:47.912Z",
      "source": "## Random walk with restart"
     },
     {
      "last_modified": "2020-04-07T10:30:15.612Z",
      "source": "## Random walk with restart"
     },
     {
      "last_modified": "2020-04-07T10:33:18.279Z",
      "source": "## Random walk with restart"
     },
     {
      "last_modified": "2020-04-07T12:03:35.370Z",
      "source": "## Random walk with restart"
     },
     {
      "last_modified": "2020-04-07T12:17:59.040Z",
      "source": "## Random walk with restart"
     },
     {
      "last_modified": "2020-04-07T12:54:33.132Z",
      "source": "## Random walk with restart"
     },
     {
      "last_modified": "2020-04-07T13:46:09.011Z",
      "source": "## Random walk with restart"
     },
     {
      "last_modified": "2020-04-07T14:03:27.879Z",
      "source": "## Random walk with restart"
     },
     {
      "last_modified": "2020-04-07T14:04:38.831Z",
      "source": "## Random walk with restart"
     },
     {
      "last_modified": "2020-04-07T14:19:13.779Z",
      "source": "## Random walk with restart"
     },
     {
      "last_modified": "2020-04-08T11:33:25.208Z",
      "source": "## Random walk with restart"
     }
    ]
   },
   "source": [
    "## Random walk with restart"
   ]
  },
  {
   "cell_type": "code",
   "execution_count": 2,
   "metadata": {
    "ExecutionTime": {
     "end_time": "2020-04-23T13:40:27.227547Z",
     "start_time": "2020-04-23T13:37:55.917958Z"
    },
    "provenance": [
     {
      "end_time": "Unknown",
      "execution_time": "Unknown",
      "outputs": [],
      "source": "ranking_nmf_rwr_d02 = rf.rank_repositories(features_nmf, rank_repositories_multiplicative, d=0.2)\nranking_nmf_rwr_d05 = rf.rank_repositories(features_nmf, rank_repositories_multiplicative, d=0.5)\nranking_nmf_rwr_d08 = rf.rank_repositories(features_nmf, rank_repositories_multiplicative, d=0.8)",
      "start_time": "Unknown"
     },
     {
      "end_time": "2020-04-07T12:53:28.610Z",
      "execution_time": "35ms",
      "outputs": [
       {
        "ename": "NameError",
        "evalue": "name 'rank_repositories_multiplicative' is not defined",
        "output_type": "error",
        "traceback": [
         "\u001b[1;31m---------------------------------------------------------------------------\u001b[0m",
         "\u001b[1;31mNameError\u001b[0m                                 Traceback (most recent call last)",
         "\u001b[1;32m<ipython-input-10-ef747835c96b>\u001b[0m in \u001b[0;36m<module>\u001b[1;34m\u001b[0m\n\u001b[1;32m----> 1\u001b[1;33m \u001b[0mranking_nmf_rwr_d02\u001b[0m \u001b[1;33m=\u001b[0m \u001b[0mrf\u001b[0m\u001b[1;33m.\u001b[0m\u001b[0mrank_repositories\u001b[0m\u001b[1;33m(\u001b[0m\u001b[0mfeatures_nmf\u001b[0m\u001b[1;33m,\u001b[0m \u001b[0mrank_repositories_multiplicative\u001b[0m\u001b[1;33m,\u001b[0m \u001b[0md\u001b[0m\u001b[1;33m=\u001b[0m\u001b[1;36m0.2\u001b[0m\u001b[1;33m)\u001b[0m\u001b[1;33m\u001b[0m\u001b[1;33m\u001b[0m\u001b[0m\n\u001b[0m\u001b[0;32m      2\u001b[0m \u001b[0mranking_nmf_rwr_d05\u001b[0m \u001b[1;33m=\u001b[0m \u001b[0mrf\u001b[0m\u001b[1;33m.\u001b[0m\u001b[0mrank_repositories\u001b[0m\u001b[1;33m(\u001b[0m\u001b[0mfeatures_nmf\u001b[0m\u001b[1;33m,\u001b[0m \u001b[0mrank_repositories_multiplicative\u001b[0m\u001b[1;33m,\u001b[0m \u001b[0md\u001b[0m\u001b[1;33m=\u001b[0m\u001b[1;36m0.5\u001b[0m\u001b[1;33m)\u001b[0m\u001b[1;33m\u001b[0m\u001b[1;33m\u001b[0m\u001b[0m\n\u001b[0;32m      3\u001b[0m \u001b[0mranking_nmf_rwr_d08\u001b[0m \u001b[1;33m=\u001b[0m \u001b[0mrf\u001b[0m\u001b[1;33m.\u001b[0m\u001b[0mrank_repositories\u001b[0m\u001b[1;33m(\u001b[0m\u001b[0mfeatures_nmf\u001b[0m\u001b[1;33m,\u001b[0m \u001b[0mrank_repositories_multiplicative\u001b[0m\u001b[1;33m,\u001b[0m \u001b[0md\u001b[0m\u001b[1;33m=\u001b[0m\u001b[1;36m0.8\u001b[0m\u001b[1;33m)\u001b[0m\u001b[1;33m\u001b[0m\u001b[1;33m\u001b[0m\u001b[0m\n",
         "\u001b[1;31mNameError\u001b[0m: name 'rank_repositories_multiplicative' is not defined"
        ]
       }
      ],
      "source": "ranking_nmf_rwr_d02 = rf.rank_repositories(features_nmf, rank_repositories_multiplicative, d=0.2)\nranking_nmf_rwr_d05 = rf.rank_repositories(features_nmf, rank_repositories_multiplicative, d=0.5)\nranking_nmf_rwr_d08 = rf.rank_repositories(features_nmf, rank_repositories_multiplicative, d=0.8)",
      "start_time": "2020-04-07T12:53:28.575Z"
     },
     {
      "end_time": "2020-04-07T12:58:39.080Z",
      "execution_time": "4m 4s",
      "outputs": [
       {
        "name": "stdout",
        "output_type": "stream",
        "text": "start\nnormalisation\n"
       },
       {
        "name": "stderr",
        "output_type": "stream",
        "text": "H:\\Forschung\\Repository_Mining\\repo-miner\\notebooks\\ranking_functions.py:13: RuntimeWarning: invalid value encountered in true_divide\n  return np.nan_to_num((X.T / np.sum(X, axis=1)).T)\n"
       },
       {
        "name": "stdout",
        "output_type": "stream",
        "text": "ranking\ndone in 68.30533790588379 seconds.\nstart\nnormalisation\nranking\ndone in 66.89057421684265 seconds.\nstart\nnormalisation\nranking\ndone in 67.92837643623352 seconds.\n"
       }
      ],
      "source": "ranking_nmf_rwr_d02 = rf.rank_repositories(features_nmf, rf.rank_repositories_rwr, d=0.2)\nranking_nmf_rwr_d05 = rf.rank_repositories(features_nmf, rf.rank_repositories_rwr, d=0.5)\nranking_nmf_rwr_d08 = rf.rank_repositories(features_nmf, rf.rank_repositories_rwr, d=0.8)",
      "start_time": "2020-04-07T12:54:34.976Z"
     },
     {
      "end_time": "2020-04-09T14:47:21.852Z",
      "execution_time": "3m 45s",
      "outputs": [
       {
        "name": "stdout",
        "output_type": "stream",
        "text": "start\nnormalisation\nranking\ndone in 61.665464878082275 seconds.\nstart\nnormalisation\nranking\ndone in 61.645975828170776 seconds.\nstart\nnormalisation\nranking\ndone in 61.737462282180786 seconds.\n"
       }
      ],
      "source": "ranking_nmf_rwr_d02 = rf.rank_repositories(features_nmf, rf.rank_repositories_rwr, d=0.2)\nranking_nmf_rwr_d05 = rf.rank_repositories(features_nmf, rf.rank_repositories_rwr, d=0.5)\nranking_nmf_rwr_d08 = rf.rank_repositories(features_nmf, rf.rank_repositories_rwr, d=0.8)",
      "start_time": "2020-04-09T14:43:36.729Z"
     },
     {
      "end_time": "2020-04-23T13:40:27.227Z",
      "execution_time": "2m 31s",
      "outputs": [
       {
        "name": "stdout",
        "output_type": "stream",
        "text": "start\nnormalisation\n"
       },
       {
        "name": "stderr",
        "output_type": "stream",
        "text": "H:\\Forschung\\Repository_Mining\\repo-miner\\notebooks\\ranking_functions.py:13: RuntimeWarning: invalid value encountered in true_divide\n  return np.nan_to_num((X.T / np.sum(X, axis=1)).T)\n"
       },
       {
        "name": "stdout",
        "output_type": "stream",
        "text": "ranking\ndone in 62.72692012786865 seconds.\nstart\nnormalisation\nranking\ndone in 62.59804081916809 seconds.\n"
       }
      ],
      "source": "#ranking_nmf_rwr_d00 = rf.rank_repositories(features_nmf, rf.rank_repositories_rwr, d=0)\nranking_nmf_rwr_d01 = rf.rank_repositories(features_nmf, rf.rank_repositories_rwr, d=0.1)\n#ranking_nmf_rwr_d02 = rf.rank_repositories(features_nmf, rf.rank_repositories_rwr, d=0.2)\nranking_nmf_rwr_d03 = rf.rank_repositories(features_nmf, rf.rank_repositories_rwr, d=0.3)\n#ranking_nmf_rwr_d05 = rf.rank_repositories(features_nmf, rf.rank_repositories_rwr, d=0.5)\n#ranking_nmf_rwr_d08 = rf.rank_repositories(features_nmf, rf.rank_repositories_rwr, d=0.8)",
      "start_time": "2020-04-23T13:37:55.917Z"
     }
    ]
   },
   "outputs": [
    {
     "name": "stdout",
     "output_type": "stream",
     "text": [
      "start\n",
      "normalisation\n"
     ]
    },
    {
     "name": "stderr",
     "output_type": "stream",
     "text": [
      "H:\\Forschung\\Repository_Mining\\repo-miner\\notebooks\\ranking_functions.py:13: RuntimeWarning: invalid value encountered in true_divide\n",
      "  return np.nan_to_num((X.T / np.sum(X, axis=1)).T)\n"
     ]
    },
    {
     "name": "stdout",
     "output_type": "stream",
     "text": [
      "ranking\n",
      "done in 62.72692012786865 seconds.\n",
      "start\n",
      "normalisation\n",
      "ranking\n",
      "done in 62.59804081916809 seconds.\n"
     ]
    }
   ],
   "source": [
    "ranking_nmf_rwr_d00 = rf.rank_repositories(features_nmf, rf.rank_repositories_rwr, d=0)\n",
    "ranking_nmf_rwr_d01 = rf.rank_repositories(features_nmf, rf.rank_repositories_rwr, d=0.1)\n",
    "ranking_nmf_rwr_d02 = rf.rank_repositories(features_nmf, rf.rank_repositories_rwr, d=0.2)\n",
    "ranking_nmf_rwr_d03 = rf.rank_repositories(features_nmf, rf.rank_repositories_rwr, d=0.3)\n",
    "ranking_nmf_rwr_d05 = rf.rank_repositories(features_nmf, rf.rank_repositories_rwr, d=0.5)\n",
    "ranking_nmf_rwr_d08 = rf.rank_repositories(features_nmf, rf.rank_repositories_rwr, d=0.8)"
   ]
  },
  {
   "cell_type": "code",
   "execution_count": 3,
   "metadata": {
    "ExecutionTime": {
     "end_time": "2020-04-23T13:42:56.336942Z",
     "start_time": "2020-04-23T13:40:27.227547Z"
    },
    "provenance": [
     {
      "end_time": "2020-04-07T13:50:17.956Z",
      "execution_time": "4m 7s",
      "outputs": [
       {
        "name": "stdout",
        "output_type": "stream",
        "text": "start\nnormalisation\nranking\ndone in 68.43764305114746 seconds.\nstart\nnormalisation\nranking\ndone in 68.40409851074219 seconds.\nstart\nnormalisation\nranking\ndone in 69.78109788894653 seconds.\n"
       }
      ],
      "source": "ranking_lda_rwr_d02 = rf.rank_repositories(features_lda, rf.rank_repositories_rwr, d=0.2)\nranking_lda_rwr_d05 = rf.rank_repositories(features_lda, rf.rank_repositories_rwr, d=0.5)\nranking_lda_rwr_d08 = rf.rank_repositories(features_lda, rf.rank_repositories_rwr, d=0.8)",
      "start_time": "2020-04-07T13:46:10.750Z"
     },
     {
      "end_time": "2020-04-09T14:51:32.241Z",
      "execution_time": "4m 10s",
      "outputs": [
       {
        "name": "stdout",
        "output_type": "stream",
        "text": "start\nnormalisation\nranking\ndone in 64.86351895332336 seconds.\nstart\nnormalisation\nranking\ndone in 64.29557132720947 seconds.\nstart\nnormalisation\nranking\ndone in 73.59411072731018 seconds.\n"
       }
      ],
      "source": "ranking_lda_rwr_d02 = rf.rank_repositories(features_lda, rf.rank_repositories_rwr, d=0.2)\nranking_lda_rwr_d05 = rf.rank_repositories(features_lda, rf.rank_repositories_rwr, d=0.5)\nranking_lda_rwr_d08 = rf.rank_repositories(features_lda, rf.rank_repositories_rwr, d=0.8)",
      "start_time": "2020-04-09T14:47:21.852Z"
     },
     {
      "end_time": "2020-04-23T13:42:56.336Z",
      "execution_time": "2m 29s",
      "outputs": [
       {
        "name": "stdout",
        "output_type": "stream",
        "text": "start\nnormalisation\nranking\ndone in 61.26022553443909 seconds.\nstart\nnormalisation\nranking\ndone in 62.22383785247803 seconds.\n"
       }
      ],
      "source": "#ranking_lda_rwr_d00 = rf.rank_repositories(features_lda, rf.rank_repositories_rwr, d=0)\nranking_lda_rwr_d01 = rf.rank_repositories(features_lda, rf.rank_repositories_rwr, d=0.1)\n#ranking_lda_rwr_d02 = rf.rank_repositories(features_lda, rf.rank_repositories_rwr, d=0.2)\nranking_lda_rwr_d03 = rf.rank_repositories(features_lda, rf.rank_repositories_rwr, d=0.3)\n#ranking_lda_rwr_d05 = rf.rank_repositories(features_lda, rf.rank_repositories_rwr, d=0.5)\n#ranking_lda_rwr_d08 = rf.rank_repositories(features_lda, rf.rank_repositories_rwr, d=0.8)",
      "start_time": "2020-04-23T13:40:27.227Z"
     }
    ]
   },
   "outputs": [
    {
     "name": "stdout",
     "output_type": "stream",
     "text": [
      "start\n",
      "normalisation\n",
      "ranking\n",
      "done in 61.26022553443909 seconds.\n",
      "start\n",
      "normalisation\n",
      "ranking\n",
      "done in 62.22383785247803 seconds.\n"
     ]
    }
   ],
   "source": [
    "ranking_lda_rwr_d00 = rf.rank_repositories(features_lda, rf.rank_repositories_rwr, d=0)\n",
    "ranking_lda_rwr_d01 = rf.rank_repositories(features_lda, rf.rank_repositories_rwr, d=0.1)\n",
    "ranking_lda_rwr_d02 = rf.rank_repositories(features_lda, rf.rank_repositories_rwr, d=0.2)\n",
    "ranking_lda_rwr_d03 = rf.rank_repositories(features_lda, rf.rank_repositories_rwr, d=0.3)\n",
    "ranking_lda_rwr_d05 = rf.rank_repositories(features_lda, rf.rank_repositories_rwr, d=0.5)\n",
    "ranking_lda_rwr_d08 = rf.rank_repositories(features_lda, rf.rank_repositories_rwr, d=0.8)"
   ]
  },
  {
   "cell_type": "markdown",
   "metadata": {},
   "source": [
    "### Top 10 repository pairs random walk with restart (LDA) d = 0.1"
   ]
  },
  {
   "cell_type": "code",
   "execution_count": 4,
   "metadata": {
    "ExecutionTime": {
     "end_time": "2020-04-23T13:42:56.386378Z",
     "start_time": "2020-04-23T13:42:56.336942Z"
    },
    "provenance": [
     {
      "end_time": "2020-04-23T13:42:56.386Z",
      "execution_time": "50ms",
      "outputs": [
       {
        "data": {
         "text/html": "<div>\n<style scoped>\n    .dataframe tbody tr th:only-of-type {\n        vertical-align: middle;\n    }\n\n    .dataframe tbody tr th {\n        vertical-align: top;\n    }\n\n    .dataframe thead th {\n        text-align: right;\n    }\n</style>\n<table border=\"1\" class=\"dataframe\">\n  <thead>\n    <tr style=\"text-align: right;\">\n      <th></th>\n      <th>repo_url1</th>\n      <th>repo_description1</th>\n      <th>repo_url2</th>\n      <th>repo_description2</th>\n      <th>score</th>\n    </tr>\n  </thead>\n  <tbody>\n    <tr>\n      <th>0</th>\n      <td>https://api.github.com/repos/limhenry/earthview</td>\n      <td>Earth View is a collection of the most beautif...</td>\n      <td>https://api.github.com/repos/limhenry/earthview</td>\n      <td>Earth View is a collection of the most beautif...</td>\n      <td>0.004902</td>\n    </tr>\n    <tr>\n      <th>1</th>\n      <td>https://api.github.com/repos/madhavanmalolan/a...</td>\n      <td>Awesome React Native UI components updated daily</td>\n      <td>https://api.github.com/repos/madhavanmalolan/a...</td>\n      <td>Awesome React Native UI components updated daily</td>\n      <td>0.003730</td>\n    </tr>\n    <tr>\n      <th>2</th>\n      <td>https://api.github.com/repos/tmrowco/electrici...</td>\n      <td>A real-time visualisation of the CO2 emissions...</td>\n      <td>https://api.github.com/repos/limhenry/earthview</td>\n      <td>Earth View is a collection of the most beautif...</td>\n      <td>0.003095</td>\n    </tr>\n    <tr>\n      <th>3</th>\n      <td>https://api.github.com/repos/limhenry/earthview</td>\n      <td>Earth View is a collection of the most beautif...</td>\n      <td>https://api.github.com/repos/tmrowco/electrici...</td>\n      <td>A real-time visualisation of the CO2 emissions...</td>\n      <td>0.003012</td>\n    </tr>\n    <tr>\n      <th>4</th>\n      <td>https://api.github.com/repos/googlei18n/corpus...</td>\n      <td>Crawler for linguistic corpora</td>\n      <td>https://api.github.com/repos/limhenry/earthview</td>\n      <td>Earth View is a collection of the most beautif...</td>\n      <td>0.002737</td>\n    </tr>\n    <tr>\n      <th>5</th>\n      <td>https://api.github.com/repos/limhenry/earthview</td>\n      <td>Earth View is a collection of the most beautif...</td>\n      <td>https://api.github.com/repos/googlei18n/corpus...</td>\n      <td>Crawler for linguistic corpora</td>\n      <td>0.002648</td>\n    </tr>\n    <tr>\n      <th>6</th>\n      <td>https://api.github.com/repos/EugenioDelfa/Smal...</td>\n      <td>Smali Control Flow Graph's</td>\n      <td>https://api.github.com/repos/EugenioDelfa/Smal...</td>\n      <td>Smali Control Flow Graph's</td>\n      <td>0.002331</td>\n    </tr>\n    <tr>\n      <th>7</th>\n      <td>https://api.github.com/repos/AfricasTalkingLtd...</td>\n      <td>Official AfricasTalking Python API</td>\n      <td>https://api.github.com/repos/AfricasTalkingLtd...</td>\n      <td>Official AfricasTalking Python API</td>\n      <td>0.002068</td>\n    </tr>\n    <tr>\n      <th>8</th>\n      <td>https://api.github.com/repos/tmrowco/electrici...</td>\n      <td>A real-time visualisation of the CO2 emissions...</td>\n      <td>https://api.github.com/repos/tmrowco/electrici...</td>\n      <td>A real-time visualisation of the CO2 emissions...</td>\n      <td>0.001984</td>\n    </tr>\n  </tbody>\n</table>\n</div>",
         "text/plain": "                                           repo_url1  \\\n0    https://api.github.com/repos/limhenry/earthview   \n1  https://api.github.com/repos/madhavanmalolan/a...   \n2  https://api.github.com/repos/tmrowco/electrici...   \n3    https://api.github.com/repos/limhenry/earthview   \n4  https://api.github.com/repos/googlei18n/corpus...   \n5    https://api.github.com/repos/limhenry/earthview   \n6  https://api.github.com/repos/EugenioDelfa/Smal...   \n7  https://api.github.com/repos/AfricasTalkingLtd...   \n8  https://api.github.com/repos/tmrowco/electrici...   \n\n                                   repo_description1  \\\n0  Earth View is a collection of the most beautif...   \n1   Awesome React Native UI components updated daily   \n2  A real-time visualisation of the CO2 emissions...   \n3  Earth View is a collection of the most beautif...   \n4                     Crawler for linguistic corpora   \n5  Earth View is a collection of the most beautif...   \n6                         Smali Control Flow Graph's   \n7                Official AfricasTalking Python API    \n8  A real-time visualisation of the CO2 emissions...   \n\n                                           repo_url2  \\\n0    https://api.github.com/repos/limhenry/earthview   \n1  https://api.github.com/repos/madhavanmalolan/a...   \n2    https://api.github.com/repos/limhenry/earthview   \n3  https://api.github.com/repos/tmrowco/electrici...   \n4    https://api.github.com/repos/limhenry/earthview   \n5  https://api.github.com/repos/googlei18n/corpus...   \n6  https://api.github.com/repos/EugenioDelfa/Smal...   \n7  https://api.github.com/repos/AfricasTalkingLtd...   \n8  https://api.github.com/repos/tmrowco/electrici...   \n\n                                   repo_description2     score  \n0  Earth View is a collection of the most beautif...  0.004902  \n1   Awesome React Native UI components updated daily  0.003730  \n2  Earth View is a collection of the most beautif...  0.003095  \n3  A real-time visualisation of the CO2 emissions...  0.003012  \n4  Earth View is a collection of the most beautif...  0.002737  \n5                     Crawler for linguistic corpora  0.002648  \n6                         Smali Control Flow Graph's  0.002331  \n7                Official AfricasTalking Python API   0.002068  \n8  A real-time visualisation of the CO2 emissions...  0.001984  "
        },
        "execution_count": 4,
        "metadata": {},
        "output_type": "execute_result"
       }
      ],
      "source": "pd.DataFrame(\n    {\n        \"repo_url1\" : repository_info.url.values[ranking_lda_rwr_d01[0][0:9]], \n        \"repo_description1\" : repository_info.description.values[ranking_lda_rwr_d01[0][0:9]],\n        \"repo_url2\" : repository_info.url.values[ranking_lda_rwr_d01[1][0:9]], \n        \"repo_description2\" : repository_info.description.values[ranking_lda_rwr_d01[1][0:9]],\n        \"score\" : ranking_lda_rwr_d01[2][0:9]\n    }\n)",
      "start_time": "2020-04-23T13:42:56.336Z"
     }
    ],
    "scrolled": true
   },
   "outputs": [
    {
     "data": {
      "text/html": [
       "<div>\n",
       "<style scoped>\n",
       "    .dataframe tbody tr th:only-of-type {\n",
       "        vertical-align: middle;\n",
       "    }\n",
       "\n",
       "    .dataframe tbody tr th {\n",
       "        vertical-align: top;\n",
       "    }\n",
       "\n",
       "    .dataframe thead th {\n",
       "        text-align: right;\n",
       "    }\n",
       "</style>\n",
       "<table border=\"1\" class=\"dataframe\">\n",
       "  <thead>\n",
       "    <tr style=\"text-align: right;\">\n",
       "      <th></th>\n",
       "      <th>repo_url1</th>\n",
       "      <th>repo_description1</th>\n",
       "      <th>repo_url2</th>\n",
       "      <th>repo_description2</th>\n",
       "      <th>score</th>\n",
       "    </tr>\n",
       "  </thead>\n",
       "  <tbody>\n",
       "    <tr>\n",
       "      <th>0</th>\n",
       "      <td>https://api.github.com/repos/limhenry/earthview</td>\n",
       "      <td>Earth View is a collection of the most beautif...</td>\n",
       "      <td>https://api.github.com/repos/limhenry/earthview</td>\n",
       "      <td>Earth View is a collection of the most beautif...</td>\n",
       "      <td>0.004902</td>\n",
       "    </tr>\n",
       "    <tr>\n",
       "      <th>1</th>\n",
       "      <td>https://api.github.com/repos/madhavanmalolan/a...</td>\n",
       "      <td>Awesome React Native UI components updated daily</td>\n",
       "      <td>https://api.github.com/repos/madhavanmalolan/a...</td>\n",
       "      <td>Awesome React Native UI components updated daily</td>\n",
       "      <td>0.003730</td>\n",
       "    </tr>\n",
       "    <tr>\n",
       "      <th>2</th>\n",
       "      <td>https://api.github.com/repos/tmrowco/electrici...</td>\n",
       "      <td>A real-time visualisation of the CO2 emissions...</td>\n",
       "      <td>https://api.github.com/repos/limhenry/earthview</td>\n",
       "      <td>Earth View is a collection of the most beautif...</td>\n",
       "      <td>0.003095</td>\n",
       "    </tr>\n",
       "    <tr>\n",
       "      <th>3</th>\n",
       "      <td>https://api.github.com/repos/limhenry/earthview</td>\n",
       "      <td>Earth View is a collection of the most beautif...</td>\n",
       "      <td>https://api.github.com/repos/tmrowco/electrici...</td>\n",
       "      <td>A real-time visualisation of the CO2 emissions...</td>\n",
       "      <td>0.003012</td>\n",
       "    </tr>\n",
       "    <tr>\n",
       "      <th>4</th>\n",
       "      <td>https://api.github.com/repos/googlei18n/corpus...</td>\n",
       "      <td>Crawler for linguistic corpora</td>\n",
       "      <td>https://api.github.com/repos/limhenry/earthview</td>\n",
       "      <td>Earth View is a collection of the most beautif...</td>\n",
       "      <td>0.002737</td>\n",
       "    </tr>\n",
       "    <tr>\n",
       "      <th>5</th>\n",
       "      <td>https://api.github.com/repos/limhenry/earthview</td>\n",
       "      <td>Earth View is a collection of the most beautif...</td>\n",
       "      <td>https://api.github.com/repos/googlei18n/corpus...</td>\n",
       "      <td>Crawler for linguistic corpora</td>\n",
       "      <td>0.002648</td>\n",
       "    </tr>\n",
       "    <tr>\n",
       "      <th>6</th>\n",
       "      <td>https://api.github.com/repos/EugenioDelfa/Smal...</td>\n",
       "      <td>Smali Control Flow Graph's</td>\n",
       "      <td>https://api.github.com/repos/EugenioDelfa/Smal...</td>\n",
       "      <td>Smali Control Flow Graph's</td>\n",
       "      <td>0.002331</td>\n",
       "    </tr>\n",
       "    <tr>\n",
       "      <th>7</th>\n",
       "      <td>https://api.github.com/repos/AfricasTalkingLtd...</td>\n",
       "      <td>Official AfricasTalking Python API</td>\n",
       "      <td>https://api.github.com/repos/AfricasTalkingLtd...</td>\n",
       "      <td>Official AfricasTalking Python API</td>\n",
       "      <td>0.002068</td>\n",
       "    </tr>\n",
       "    <tr>\n",
       "      <th>8</th>\n",
       "      <td>https://api.github.com/repos/tmrowco/electrici...</td>\n",
       "      <td>A real-time visualisation of the CO2 emissions...</td>\n",
       "      <td>https://api.github.com/repos/tmrowco/electrici...</td>\n",
       "      <td>A real-time visualisation of the CO2 emissions...</td>\n",
       "      <td>0.001984</td>\n",
       "    </tr>\n",
       "  </tbody>\n",
       "</table>\n",
       "</div>"
      ],
      "text/plain": [
       "                                           repo_url1  \\\n",
       "0    https://api.github.com/repos/limhenry/earthview   \n",
       "1  https://api.github.com/repos/madhavanmalolan/a...   \n",
       "2  https://api.github.com/repos/tmrowco/electrici...   \n",
       "3    https://api.github.com/repos/limhenry/earthview   \n",
       "4  https://api.github.com/repos/googlei18n/corpus...   \n",
       "5    https://api.github.com/repos/limhenry/earthview   \n",
       "6  https://api.github.com/repos/EugenioDelfa/Smal...   \n",
       "7  https://api.github.com/repos/AfricasTalkingLtd...   \n",
       "8  https://api.github.com/repos/tmrowco/electrici...   \n",
       "\n",
       "                                   repo_description1  \\\n",
       "0  Earth View is a collection of the most beautif...   \n",
       "1   Awesome React Native UI components updated daily   \n",
       "2  A real-time visualisation of the CO2 emissions...   \n",
       "3  Earth View is a collection of the most beautif...   \n",
       "4                     Crawler for linguistic corpora   \n",
       "5  Earth View is a collection of the most beautif...   \n",
       "6                         Smali Control Flow Graph's   \n",
       "7                Official AfricasTalking Python API    \n",
       "8  A real-time visualisation of the CO2 emissions...   \n",
       "\n",
       "                                           repo_url2  \\\n",
       "0    https://api.github.com/repos/limhenry/earthview   \n",
       "1  https://api.github.com/repos/madhavanmalolan/a...   \n",
       "2    https://api.github.com/repos/limhenry/earthview   \n",
       "3  https://api.github.com/repos/tmrowco/electrici...   \n",
       "4    https://api.github.com/repos/limhenry/earthview   \n",
       "5  https://api.github.com/repos/googlei18n/corpus...   \n",
       "6  https://api.github.com/repos/EugenioDelfa/Smal...   \n",
       "7  https://api.github.com/repos/AfricasTalkingLtd...   \n",
       "8  https://api.github.com/repos/tmrowco/electrici...   \n",
       "\n",
       "                                   repo_description2     score  \n",
       "0  Earth View is a collection of the most beautif...  0.004902  \n",
       "1   Awesome React Native UI components updated daily  0.003730  \n",
       "2  Earth View is a collection of the most beautif...  0.003095  \n",
       "3  A real-time visualisation of the CO2 emissions...  0.003012  \n",
       "4  Earth View is a collection of the most beautif...  0.002737  \n",
       "5                     Crawler for linguistic corpora  0.002648  \n",
       "6                         Smali Control Flow Graph's  0.002331  \n",
       "7                Official AfricasTalking Python API   0.002068  \n",
       "8  A real-time visualisation of the CO2 emissions...  0.001984  "
      ]
     },
     "execution_count": 4,
     "metadata": {},
     "output_type": "execute_result"
    }
   ],
   "source": [
    "pd.DataFrame(\n",
    "    {\n",
    "        \"repo_url1\" : repository_info.url.values[ranking_lda_rwr_d01[0][0:9]], \n",
    "        \"repo_description1\" : repository_info.description.values[ranking_lda_rwr_d01[0][0:9]],\n",
    "        \"repo_url2\" : repository_info.url.values[ranking_lda_rwr_d01[1][0:9]], \n",
    "        \"repo_description2\" : repository_info.description.values[ranking_lda_rwr_d01[1][0:9]],\n",
    "        \"score\" : ranking_lda_rwr_d01[2][0:9]\n",
    "    }\n",
    ")"
   ]
  },
  {
   "cell_type": "markdown",
   "metadata": {
    "provenance": [
     {
      "last_modified": "2020-03-24T13:59:49.347Z",
      "source": "# Evaluation\n## Baseline\nAs a baseline a random ranking of software repository pairs is created."
     },
     {
      "last_modified": "2020-03-24T16:20:50.575Z",
      "source": "# Evaluation\n## Baseline\nAs a baseline a random ranking of software repository pairs is created."
     },
     {
      "last_modified": "2020-03-24T16:21:47.207Z",
      "source": "# Evaluation\n## Baseline\nAs a baseline a random ranking of software repository pairs is created."
     },
     {
      "last_modified": "2020-03-24T16:21:55.987Z",
      "source": "# Evaluation\n## Baseline\nAs a baseline a random ranking of software repository pairs is created."
     },
     {
      "last_modified": "2020-04-06T12:00:25.482Z",
      "source": "# Evaluation\n## Baseline\nAs a baseline a random ranking of software repository pairs is created."
     },
     {
      "last_modified": "2020-04-06T12:00:56.100Z",
      "source": "# Evaluation\n## Baseline\nAs a baseline a random ranking of software repository pairs is created."
     },
     {
      "last_modified": "2020-04-06T12:30:36.125Z",
      "source": "# Evaluation\n## Baseline\nAs a baseline a random ranking of software repository pairs is created."
     },
     {
      "last_modified": "2020-04-06T12:31:39.245Z",
      "source": "# Evaluation\n## Baseline\nAs a baseline a random ranking of software repository pairs is created."
     },
     {
      "last_modified": "2020-04-06T12:33:14.552Z",
      "source": "# Evaluation\n## Baseline\nAs a baseline a random ranking of software repository pairs is created."
     },
     {
      "last_modified": "2020-04-06T12:34:34.425Z",
      "source": "# Evaluation\n## Baseline\nAs a baseline a random ranking of software repository pairs is created."
     },
     {
      "last_modified": "2020-04-06T12:59:47.165Z",
      "source": "# Evaluation\n## Baseline\nAs a baseline a random ranking of software repository pairs is created."
     },
     {
      "last_modified": "2020-04-06T13:24:51.145Z",
      "source": "# Evaluation\n## Baseline\nAs a baseline a random ranking of software repository pairs is created."
     },
     {
      "last_modified": "2020-04-06T13:25:07.686Z",
      "source": "# Evaluation\n## Baseline\nAs a baseline a random ranking of software repository pairs is created."
     },
     {
      "last_modified": "2020-04-06T13:26:59.305Z",
      "source": "# Evaluation\n## Baseline\nAs a baseline a random ranking of software repository pairs is created."
     },
     {
      "last_modified": "2020-04-06T13:27:17.765Z",
      "source": "# Evaluation\n## Baseline\nAs a baseline a random ranking of software repository pairs is created."
     },
     {
      "last_modified": "2020-04-06T13:29:00.700Z",
      "source": "# Evaluation\n## Baseline\nAs a baseline a random ranking of software repository pairs is created."
     },
     {
      "last_modified": "2020-04-06T13:33:45.945Z",
      "source": "# Evaluation\n## Baseline\nAs a baseline a random ranking of software repository pairs is created."
     },
     {
      "last_modified": "2020-04-06T13:34:33.354Z",
      "source": "# Evaluation\n## Baseline\nAs a baseline a random ranking of software repository pairs is created."
     },
     {
      "last_modified": "2020-04-06T13:35:13.305Z",
      "source": "# Evaluation\n## Baseline\nAs a baseline a random ranking of software repository pairs is created."
     },
     {
      "last_modified": "2020-04-06T13:40:52.266Z",
      "source": "# Evaluation\n## Baseline\nAs a baseline a random ranking of software repository pairs is created."
     },
     {
      "last_modified": "2020-04-06T13:42:46.605Z",
      "source": "# Evaluation\n## Baseline\nAs a baseline a random ranking of software repository pairs is created."
     },
     {
      "last_modified": "2020-04-06T13:43:18.425Z",
      "source": "# Evaluation\n## Baseline\nAs a baseline a random ranking of software repository pairs is created."
     },
     {
      "last_modified": "2020-04-06T13:43:40.785Z",
      "source": "# Evaluation\n## Baseline\nAs a baseline a random ranking of software repository pairs is created."
     },
     {
      "last_modified": "2020-04-06T13:44:19.445Z",
      "source": "# Evaluation\n## Baseline\nAs a baseline a random ranking of software repository pairs is created."
     },
     {
      "last_modified": "2020-04-06T13:45:53.054Z",
      "source": "# Evaluation\n## Baseline\nAs a baseline a random ranking of software repository pairs is created."
     },
     {
      "last_modified": "2020-04-06T13:50:01.461Z",
      "source": "# Evaluation\n## Baseline\nAs a baseline a random ranking of software repository pairs is created."
     },
     {
      "last_modified": "2020-04-06T13:50:34.565Z",
      "source": "# Evaluation\n## Baseline\nAs a baseline a random ranking of software repository pairs is created."
     },
     {
      "last_modified": "2020-04-06T14:05:27.513Z",
      "source": "# Evaluation\n## Baseline\nAs a baseline a random ranking of software repository pairs is created."
     },
     {
      "last_modified": "2020-04-06T14:07:25.685Z",
      "source": "# Evaluation\n## Baseline\nAs a baseline a random ranking of software repository pairs is created."
     },
     {
      "last_modified": "2020-04-06T14:10:25.293Z",
      "source": "# Evaluation\n## Baseline\nAs a baseline a random ranking of software repository pairs is created."
     },
     {
      "last_modified": "2020-04-06T14:15:20.405Z",
      "source": "# Evaluation\n## Baseline\nAs a baseline a random ranking of software repository pairs is created."
     },
     {
      "last_modified": "2020-04-06T14:22:36.373Z",
      "source": "# Evaluation\n## Baseline\nAs a baseline a random ranking of software repository pairs is created."
     },
     {
      "last_modified": "2020-04-06T14:22:59.573Z",
      "source": "# Evaluation\n## Baseline\nAs a baseline a random ranking of software repository pairs is created."
     },
     {
      "last_modified": "2020-04-06T14:29:38.386Z",
      "source": "# Evaluation\n## Baseline\nAs a baseline a random ranking of software repository pairs is created."
     },
     {
      "last_modified": "2020-04-06T14:30:31.915Z",
      "source": "# Evaluation\n## Baseline\nAs a baseline a random ranking of software repository pairs is created."
     },
     {
      "last_modified": "2020-04-06T14:31:28.845Z",
      "source": "# Evaluation\n## Baseline\nAs a baseline a random ranking of software repository pairs is created."
     },
     {
      "last_modified": "2020-04-06T14:31:43.913Z",
      "source": "# Evaluation\n## Baseline\nAs a baseline a random ranking of software repository pairs is created."
     },
     {
      "last_modified": "2020-04-06T14:33:43.145Z",
      "source": "# Evaluation\n## Baseline\nAs a baseline a random ranking of software repository pairs is created."
     },
     {
      "last_modified": "2020-04-06T14:41:48.269Z",
      "source": "# Evaluation\n## Baseline\nAs a baseline a random ranking of software repository pairs is created."
     },
     {
      "last_modified": "2020-04-06T14:48:42.313Z",
      "source": "# Evaluation\n## Baseline\nAs a baseline a random ranking of software repository pairs is created."
     },
     {
      "last_modified": "2020-04-06T14:51:08.073Z",
      "source": "# Evaluation\n## Baseline\nAs a baseline a random ranking of software repository pairs is created."
     },
     {
      "last_modified": "2020-04-06T14:52:48.245Z",
      "source": "# Evaluation\n## Baseline\nAs a baseline a random ranking of software repository pairs is created."
     },
     {
      "last_modified": "2020-04-06T14:54:04.105Z",
      "source": "# Evaluation\n## Baseline\nAs a baseline a random ranking of software repository pairs is created."
     },
     {
      "last_modified": "2020-04-06T14:55:31.025Z",
      "source": "# Evaluation\n## Baseline\nAs a baseline a random ranking of software repository pairs is created."
     },
     {
      "last_modified": "2020-04-06T15:02:21.425Z",
      "source": "# Evaluation\n## Baseline\nAs a baseline a random ranking of software repository pairs is created."
     },
     {
      "last_modified": "2020-04-06T15:09:04.497Z",
      "source": "# Evaluation\n## Baseline\nAs a baseline a random ranking of software repository pairs is created."
     },
     {
      "last_modified": "2020-04-06T15:09:51.225Z",
      "source": "# Evaluation\n## Baseline\nAs a baseline a random ranking of software repository pairs is created."
     },
     {
      "last_modified": "2020-04-06T15:14:35.645Z",
      "source": "# Evaluation\n## Baseline\nAs a baseline a random ranking of software repository pairs is created."
     },
     {
      "last_modified": "2020-04-06T15:16:11.321Z",
      "source": "# Evaluation\n## Baseline\nAs a baseline a random ranking of software repository pairs is created."
     },
     {
      "last_modified": "2020-04-06T15:26:29.957Z",
      "source": "# Evaluation\n## Baseline\nAs a baseline a random ranking of software repository pairs is created."
     },
     {
      "last_modified": "2020-04-06T15:41:08.226Z",
      "source": "# Evaluation\n## Baseline\nAs a baseline a random ranking of software repository pairs is created."
     },
     {
      "last_modified": "2020-04-07T10:02:39.252Z",
      "source": "# Evaluation\n## Baseline\nAs a baseline a random ranking of software repository pairs is created."
     },
     {
      "last_modified": "2020-04-07T10:13:10.792Z",
      "source": "# Evaluation\n## Baseline\nAs a baseline a random ranking of software repository pairs is created."
     },
     {
      "last_modified": "2020-04-07T10:22:12.388Z",
      "source": "# Evaluation\n## Baseline\nAs a baseline a random ranking of software repository pairs is created."
     },
     {
      "last_modified": "2020-04-07T10:22:46.260Z",
      "source": "# Evaluation\n## Baseline\nAs a baseline a random ranking of software repository pairs is created."
     },
     {
      "last_modified": "2020-04-07T10:24:47.912Z",
      "source": "# Evaluation\n## Baseline\nAs a baseline a random ranking of software repository pairs is created."
     },
     {
      "last_modified": "2020-04-07T10:30:15.612Z",
      "source": "# Evaluation\n## Baseline\nAs a baseline a random ranking of software repository pairs is created."
     },
     {
      "last_modified": "2020-04-07T10:33:18.279Z",
      "source": "# Evaluation\n## Baseline\nAs a baseline a random ranking of software repository pairs is created."
     },
     {
      "last_modified": "2020-04-07T12:03:35.370Z",
      "source": "# Evaluation\n## Baseline\nAs a baseline a random ranking of software repository pairs is created."
     },
     {
      "last_modified": "2020-04-07T12:17:59.040Z",
      "source": "# Evaluation\n## Baseline\nAs a baseline a random ranking of software repository pairs is created."
     },
     {
      "last_modified": "2020-04-07T12:54:33.132Z",
      "source": "# Evaluation\n## Baseline\nAs a baseline a random ranking of software repository pairs is created."
     },
     {
      "last_modified": "2020-04-07T13:46:09.011Z",
      "source": "# Evaluation\n## Baseline\nAs a baseline a random ranking of software repository pairs is created."
     },
     {
      "last_modified": "2020-04-07T14:03:27.879Z",
      "source": "# Evaluation\n## Baseline\nAs a baseline a random ranking of software repository pairs is used. "
     },
     {
      "last_modified": "2020-04-07T14:04:38.831Z",
      "source": "# Evaluation\n## Baseline\nAs a baseline a random ranking of software repository pairs is used. "
     },
     {
      "last_modified": "2020-04-07T14:19:13.779Z",
      "source": "# Evaluation\n## Baseline\nAs a baseline a random ranking of software repository pairs is used. "
     },
     {
      "last_modified": "2020-04-08T11:33:25.208Z",
      "source": "# Evaluation\n## Baseline\nAs a baseline a random ranking of software repository pairs is used. "
     }
    ]
   },
   "source": [
    "# Save rankings for further evaluation"
   ]
  },
  {
   "cell_type": "code",
   "execution_count": null,
   "metadata": {
    "ExecutionTime": {
     "end_time": "2020-04-09T15:16:22.563259Z",
     "start_time": "2020-04-09T15:13:30.482017Z"
    },
    "provenance": [
     {
      "end_time": "2020-04-07T15:53:37.568Z",
      "execution_time": "668ms",
      "outputs": [
       {
        "ename": "FileNotFoundError",
        "evalue": "[Errno 2] No such file or directory: 'ranking_nmf_45_mult.pickle'",
        "output_type": "error",
        "traceback": [
         "\u001b[1;31m---------------------------------------------------------------------------\u001b[0m",
         "\u001b[1;31mFileNotFoundError\u001b[0m                         Traceback (most recent call last)",
         "\u001b[1;32m<ipython-input-18-ff7b5a582643>\u001b[0m in \u001b[0;36m<module>\u001b[1;34m\u001b[0m\n\u001b[0;32m      1\u001b[0m \u001b[1;32mimport\u001b[0m \u001b[0mpickle\u001b[0m\u001b[1;33m\u001b[0m\u001b[1;33m\u001b[0m\u001b[0m\n\u001b[1;32m----> 2\u001b[1;33m \u001b[1;32mwith\u001b[0m \u001b[0mopen\u001b[0m\u001b[1;33m(\u001b[0m\u001b[1;34m\"ranking_nmf_45_mult.pickle\"\u001b[0m\u001b[1;33m)\u001b[0m \u001b[1;32mas\u001b[0m \u001b[0mf\u001b[0m\u001b[1;33m:\u001b[0m\u001b[1;33m\u001b[0m\u001b[1;33m\u001b[0m\u001b[0m\n\u001b[0m\u001b[0;32m      3\u001b[0m     \u001b[0mpickle\u001b[0m\u001b[1;33m.\u001b[0m\u001b[0mdump\u001b[0m\u001b[1;33m(\u001b[0m\u001b[0mranking_nmf_multiplicative\u001b[0m\u001b[1;33m,\u001b[0m \u001b[0mf\u001b[0m\u001b[1;33m)\u001b[0m\u001b[1;33m\u001b[0m\u001b[1;33m\u001b[0m\u001b[0m\n\u001b[0;32m      4\u001b[0m \u001b[1;33m\u001b[0m\u001b[0m\n\u001b[0;32m      5\u001b[0m \u001b[1;32mwith\u001b[0m \u001b[0mopen\u001b[0m\u001b[1;33m(\u001b[0m\u001b[1;34m\"ranking_lda_45_mult.pickle\"\u001b[0m\u001b[1;33m)\u001b[0m \u001b[1;32mas\u001b[0m \u001b[0mf\u001b[0m\u001b[1;33m:\u001b[0m\u001b[1;33m\u001b[0m\u001b[1;33m\u001b[0m\u001b[0m\n",
         "\u001b[1;31mFileNotFoundError\u001b[0m: [Errno 2] No such file or directory: 'ranking_nmf_45_mult.pickle'"
        ]
       }
      ],
      "source": "import pickle\nwith open(\"ranking_nmf_45_mult.pickle\") as f:\n    pickle.dump(ranking_nmf_multiplicative, f)\n\nwith open(\"ranking_lda_45_mult.pickle\") as f:\n    pickle.dump(ranking_lda_multiplicative, f)\n    \nwith open(\"ranking_nmf_45_rwr02.pickle\") as f:\n    pickle.dump(ranking_nmf_rwr_d02, f)\n    \nwith open(\"ranking_nmf_45_rwr05.pickle\") as f:\n    pickle.dump(ranking_nmf_rwr_d02, f)\n    \nwith open(\"ranking_nmf_45_rwr08.pickle\") as f:\n    pickle.dump(ranking_nmf_rwr_d05, f)\n    \nwith open(\"ranking_lda_45_rwr02.pickle\") as f:\n    pickle.dump(ranking_nmf_rwr_d02, f)\n    \nwith open(\"ranking_lda_45_rwr05.pickle\") as f:\n    pickle.dump(ranking_nmf_rwr_d02, f)\n    \nwith open(\"ranking_lda_45_rwr08.pickle\") as f:\n    pickle.dump(ranking_nmf_rwr_d05, f)",
      "start_time": "2020-04-07T15:53:36.900Z"
     },
     {
      "end_time": "2020-04-08T09:52:10.854Z",
      "execution_time": "33m 27s",
      "outputs": [
       {
        "ename": "OSError",
        "evalue": "[Errno 22] Invalid argument",
        "output_type": "error",
        "traceback": [
         "\u001b[1;31m---------------------------------------------------------------------------\u001b[0m",
         "\u001b[1;31mOSError\u001b[0m                                   Traceback (most recent call last)",
         "\u001b[1;32m<ipython-input-20-a97bd95a9318>\u001b[0m in \u001b[0;36m<module>\u001b[1;34m\u001b[0m\n\u001b[0;32m      4\u001b[0m \u001b[1;33m\u001b[0m\u001b[0m\n\u001b[0;32m      5\u001b[0m \u001b[1;32mwith\u001b[0m \u001b[0mopen\u001b[0m\u001b[1;33m(\u001b[0m\u001b[1;34m\"ranking_lda_45_mult.pickle\"\u001b[0m\u001b[1;33m,\u001b[0m \u001b[1;34m\"wb\"\u001b[0m\u001b[1;33m)\u001b[0m \u001b[1;32mas\u001b[0m \u001b[0mf\u001b[0m\u001b[1;33m:\u001b[0m\u001b[1;33m\u001b[0m\u001b[1;33m\u001b[0m\u001b[0m\n\u001b[1;32m----> 6\u001b[1;33m     \u001b[0mpickle\u001b[0m\u001b[1;33m.\u001b[0m\u001b[0mdump\u001b[0m\u001b[1;33m(\u001b[0m\u001b[0mranking_lda_multiplicative\u001b[0m\u001b[1;33m,\u001b[0m \u001b[0mf\u001b[0m\u001b[1;33m)\u001b[0m\u001b[1;33m\u001b[0m\u001b[1;33m\u001b[0m\u001b[0m\n\u001b[0m\u001b[0;32m      7\u001b[0m \u001b[1;33m\u001b[0m\u001b[0m\n\u001b[0;32m      8\u001b[0m \u001b[1;32mwith\u001b[0m \u001b[0mopen\u001b[0m\u001b[1;33m(\u001b[0m\u001b[1;34m\"ranking_nmf_45_rwr02.pickle\"\u001b[0m\u001b[1;33m,\u001b[0m \u001b[1;34m\"wb\"\u001b[0m\u001b[1;33m)\u001b[0m \u001b[1;32mas\u001b[0m \u001b[0mf\u001b[0m\u001b[1;33m:\u001b[0m\u001b[1;33m\u001b[0m\u001b[1;33m\u001b[0m\u001b[0m\n",
         "\u001b[1;31mOSError\u001b[0m: [Errno 22] Invalid argument"
        ]
       }
      ],
      "source": "import pickle\n#with open(\"ranking_nmf_45_mult.pickle\", \"wb\") as f:\n#    pickle.dump(ranking_nmf_multiplicative, f)\n\nwith open(\"ranking_lda_45_mult.pickle\", \"wb\") as f:\n    pickle.dump(ranking_lda_multiplicative, f)\n    \nwith open(\"ranking_nmf_45_rwr02.pickle\", \"wb\") as f:\n    pickle.dump(ranking_nmf_rwr_d02, f)\n    \nwith open(\"ranking_nmf_45_rwr05.pickle\", \"wb\") as f:\n    pickle.dump(ranking_nmf_rwr_d02, f)\n    \nwith open(\"ranking_nmf_45_rwr08.pickle\", \"wb\") as f:\n    pickle.dump(ranking_nmf_rwr_d05, f)\n    \nwith open(\"ranking_lda_45_rwr02.pickle\", \"wb\") as f:\n    pickle.dump(ranking_lda_rwr_d02, f)\n    \nwith open(\"ranking_lda_45_rwr05.pickle\", \"wb\") as f:\n    pickle.dump(ranking_lda_rwr_d02, f)\n    \nwith open(\"ranking_lda_45_rwr08.pickle\", \"wb\") as f:\n    pickle.dump(ranking_lda_rwr_d05, f)",
      "start_time": "2020-04-08T09:18:43.828Z"
     },
     {
      "end_time": "2020-04-08T11:36:22.284Z",
      "execution_time": "2m 55s",
      "outputs": [],
      "source": "import pickle\n#with open(\"ranking_nmf_45_mult.pickle\", \"wb\") as f:\n#    pickle.dump(ranking_nmf_multiplicative, f)\n\nwith open(\"C:/Users/heck_ti/Documents/rep_mining/ranking_lda_45_mult.pickle\", \"wb\") as f:\n    pickle.dump(ranking_lda_multiplicative, f)\n    \nwith open(\"C:/Users/heck_ti/Documents/rep_mining/ranking_nmf_45_rwr02.pickle\", \"wb\") as f:\n    pickle.dump(ranking_nmf_rwr_d02, f)\n    \nwith open(\"C:/Users/heck_ti/Documents/rep_mining/ranking_nmf_45_rwr05.pickle\", \"wb\") as f:\n    pickle.dump(ranking_nmf_rwr_d02, f)\n    \nwith open(\"C:/Users/heck_ti/Documents/rep_mining/ranking_nmf_45_rwr08.pickle\", \"wb\") as f:\n    pickle.dump(ranking_nmf_rwr_d05, f)\n    \nwith open(\"C:/Users/heck_ti/Documents/rep_mining/ranking_lda_45_rwr02.pickle\", \"wb\") as f:\n    pickle.dump(ranking_lda_rwr_d02, f)\n    \nwith open(\"C:/Users/heck_ti/Documents/rep_mining/ranking_lda_45_rwr05.pickle\", \"wb\") as f:\n    pickle.dump(ranking_lda_rwr_d02, f)\n    \nwith open(\"C:/Users/heck_ti/Documents/rep_mining/ranking_lda_45_rwr08.pickle\", \"wb\") as f:\n    pickle.dump(ranking_lda_rwr_d05, f)",
      "start_time": "2020-04-08T11:33:27.590Z"
     },
     {
      "end_time": "2020-04-09T15:16:22.563Z",
      "execution_time": "2m 52s",
      "outputs": [],
      "source": "import pickle\n#with open(\"ranking_nmf_45_mult.pickle\", \"wb\") as f:\n#    pickle.dump(ranking_nmf_multiplicative, f)\n\nwith open(\"C:/Users/heck_ti/Documents/rep_mining/ranking_lda_85_mult.pickle\", \"wb\") as f:\n    pickle.dump(ranking_lda_multiplicative, f)\n    \nwith open(\"C:/Users/heck_ti/Documents/rep_mining/ranking_nmf_85_rwr02.pickle\", \"wb\") as f:\n    pickle.dump(ranking_nmf_rwr_d02, f)\n    \nwith open(\"C:/Users/heck_ti/Documents/rep_mining/ranking_nmf_85_rwr05.pickle\", \"wb\") as f:\n    pickle.dump(ranking_nmf_rwr_d05, f)\n    \nwith open(\"C:/Users/heck_ti/Documents/rep_mining/ranking_nmf_85_rwr08.pickle\", \"wb\") as f:\n    pickle.dump(ranking_nmf_rwr_d05, f)\n    \nwith open(\"C:/Users/heck_ti/Documents/rep_mining/ranking_lda_85_rwr02.pickle\", \"wb\") as f:\n    pickle.dump(ranking_lda_rwr_d02, f)\n    \nwith open(\"C:/Users/heck_ti/Documents/rep_mining/ranking_lda_85_rwr05.pickle\", \"wb\") as f:\n    pickle.dump(ranking_lda_rwr_d05, f)\n    \nwith open(\"C:/Users/heck_ti/Documents/rep_mining/ranking_lda_85_rwr08.pickle\", \"wb\") as f:\n    pickle.dump(ranking_lda_rwr_d05, f)",
      "start_time": "2020-04-09T15:13:30.482Z"
     }
    ]
   },
   "outputs": [],
   "source": [
    "import pickle\n",
    "\n",
    "with open(\"../rankings/ranking_nmf_45_mult.pickle\", \"wb\") as f:\n",
    "    pickle.dump(ranking_lda_multiplicative, f)\n",
    "    \n",
    "with open(\"../rankings/ranking_lda_45_mult.pickle\", \"wb\") as f:\n",
    "    pickle.dump(ranking_lda_multiplicative, f)\n",
    "    \n",
    "with open(\"../rankings/ranking_nmf_45_rwr00.pickle\", \"wb\") as f:\n",
    "    pickle.dump(ranking_nmf_rwr_d00, f)\n",
    "    \n",
    "with open(\"../rankings/ranking_nmf_45_rwr01.pickle\", \"wb\") as f:\n",
    "    pickle.dump(ranking_nmf_rwr_d01, f)    \n",
    "\n",
    "with open(\"../rankings/ranking_nmf_45_rwr02.pickle\", \"wb\") as f:\n",
    "    pickle.dump(ranking_nmf_rwr_d02, f)\n",
    "    \n",
    "with open(\"../rankings/ranking_nmf_45_rwr03.pickle\", \"wb\") as f:\n",
    "    pickle.dump(ranking_nmf_rwr_d03, f)\n",
    "    \n",
    "with open(\"../rankings/ranking_nmf_45_rwr05.pickle\", \"wb\") as f:\n",
    "    pickle.dump(ranking_nmf_rwr_d05, f)\n",
    "    \n",
    "with open(\"../rankings/ranking_nmf_45_rwr08.pickle\", \"wb\") as f:\n",
    "    pickle.dump(ranking_nmf_rwr_d05, f)\n",
    "    \n",
    "with open(\"../rankings/ranking_lda_45_rwr00.pickle\", \"wb\") as f:\n",
    "    pickle.dump(ranking_lda_rwr_d00, f)\n",
    "    \n",
    "with open(\"../rankings/ranking_lda_45_rwr01.pickle\", \"wb\") as f:\n",
    "    pickle.dump(ranking_lda_rwr_d01, f)\n",
    "    \n",
    "with open(\"../rankings/ranking_lda_45_rwr02.pickle\", \"wb\") as f:\n",
    "    pickle.dump(ranking_lda_rwr_d02, f)\n",
    "\n",
    "with open(\"../rankings/ranking_lda_45_rwr03.pickle\", \"wb\") as f:\n",
    "    pickle.dump(ranking_lda_rwr_d03, f)\n",
    "    \n",
    "with open(\"../rankings/ranking_lda_45_rwr05.pickle\", \"wb\") as f:\n",
    "    pickle.dump(ranking_lda_rwr_d05, f)\n",
    "    \n",
    "with open(\"../rankings/ranking_lda_45_rwr08.pickle\", \"wb\") as f:\n",
    "    pickle.dump(ranking_lda_rwr_d05, f)"
   ]
  }
 ],
 "metadata": {
  "kernelspec": {
   "display_name": "Python 3",
   "language": "python",
   "name": "python3"
  },
  "language_info": {
   "codemirror_mode": {
    "name": "ipython",
    "version": 3
   },
   "file_extension": ".py",
   "mimetype": "text/x-python",
   "name": "python",
   "nbconvert_exporter": "python",
   "pygments_lexer": "ipython3",
   "version": "3.7.3"
  }
 },
 "nbformat": 4,
 "nbformat_minor": 4
}
