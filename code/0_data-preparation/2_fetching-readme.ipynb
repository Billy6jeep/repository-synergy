{
 "cells": [
  {
   "cell_type": "markdown",
   "metadata": {},
   "source": [
    "## get original data that was fetched from ghtorrent\n",
    "\n",
    " Original was fetched from ghtorrent - all repos with (check previous notebook):\n",
    "     - Python as a main language, \n",
    "     - Updated in 2019, \n",
    "     - Not deleted\n",
    "     - Not forked\n",
    "\n",
    "The output of this notebook is to get all repos that has a readme file and has at least 50 watchers - the output of this notebook is saved here:\n",
    "\n",
    "*data/processed/repositories_with-readme.csv*"
   ]
  },
  {
   "cell_type": "code",
   "execution_count": 1,
   "metadata": {},
   "outputs": [],
   "source": [
    "import pandas as pd\n",
    "import time\n",
    "import numpy as np\n",
    "import os\n",
    "import os.path\n",
    "\n",
    "\n",
    "from github import Github\n",
    "\n"
   ]
  },
  {
   "cell_type": "code",
   "execution_count": 3,
   "metadata": {},
   "outputs": [],
   "source": [
    "data_path = '../../data/ghtorrent_python_notdeleted_repos_updated2019/repositories.csv'\n",
    "\n",
    "    \n",
    "original = pd.read_csv(data_path, na_values=\"\\\\N\", sep=',')\n",
    "repos = original.copy()"
   ]
  },
  {
   "cell_type": "code",
   "execution_count": 162,
   "metadata": {},
   "outputs": [
    {
     "name": "stdout",
     "output_type": "stream",
     "text": [
      "615667\n",
      "54377\n",
      "20929\n",
      "3049\n"
     ]
    }
   ],
   "source": [
    "print(len(original))\n",
    "print(len(original[original['watchers'] >  10]))\n",
    "print(len(original[original['watchers'] >  50]))\n",
    "print(len(original[original['watchers'] >  500]))"
   ]
  },
  {
   "cell_type": "code",
   "execution_count": 166,
   "metadata": {},
   "outputs": [
    {
     "data": {
      "text/html": [
       "<div>\n",
       "<style scoped>\n",
       "    .dataframe tbody tr th:only-of-type {\n",
       "        vertical-align: middle;\n",
       "    }\n",
       "\n",
       "    .dataframe tbody tr th {\n",
       "        vertical-align: top;\n",
       "    }\n",
       "\n",
       "    .dataframe thead th {\n",
       "        text-align: right;\n",
       "    }\n",
       "</style>\n",
       "<table border=\"1\" class=\"dataframe\">\n",
       "  <thead>\n",
       "    <tr style=\"text-align: right;\">\n",
       "      <th></th>\n",
       "      <th>id</th>\n",
       "      <th>url</th>\n",
       "      <th>owner_id</th>\n",
       "      <th>name</th>\n",
       "      <th>description</th>\n",
       "      <th>language</th>\n",
       "      <th>created_at</th>\n",
       "      <th>updated_at</th>\n",
       "      <th>watchers</th>\n",
       "    </tr>\n",
       "  </thead>\n",
       "  <tbody>\n",
       "    <tr>\n",
       "      <th>0</th>\n",
       "      <td>31</td>\n",
       "      <td>https://api.github.com/repos/gpjt/webgl-lessons</td>\n",
       "      <td>136</td>\n",
       "      <td>webgl-lessons</td>\n",
       "      <td>https://github.com/tparisi/webgl-lessons is no...</td>\n",
       "      <td>Python</td>\n",
       "      <td>2009-10-06 12:30:19</td>\n",
       "      <td>2019-05-26 16:32:21</td>\n",
       "      <td>626</td>\n",
       "    </tr>\n",
       "    <tr>\n",
       "      <th>1</th>\n",
       "      <td>63</td>\n",
       "      <td>https://api.github.com/repos/pculture/unisubs</td>\n",
       "      <td>394</td>\n",
       "      <td>unisubs</td>\n",
       "      <td>Amara</td>\n",
       "      <td>Python</td>\n",
       "      <td>2011-08-19 22:04:08</td>\n",
       "      <td>2019-05-31 04:12:13</td>\n",
       "      <td>316</td>\n",
       "    </tr>\n",
       "    <tr>\n",
       "      <th>4</th>\n",
       "      <td>253</td>\n",
       "      <td>https://api.github.com/repos/gruns/furl</td>\n",
       "      <td>1906</td>\n",
       "      <td>furl</td>\n",
       "      <td>URL manipulation made simple.</td>\n",
       "      <td>Python</td>\n",
       "      <td>2011-11-17 01:08:16</td>\n",
       "      <td>2019-05-30 13:58:58</td>\n",
       "      <td>1050</td>\n",
       "    </tr>\n",
       "    <tr>\n",
       "      <th>7</th>\n",
       "      <td>367</td>\n",
       "      <td>https://api.github.com/repos/spesmilo/electrum</td>\n",
       "      <td>2253</td>\n",
       "      <td>Electrum</td>\n",
       "      <td>Electrum; Bitcoin thin client</td>\n",
       "      <td>Python</td>\n",
       "      <td>2012-08-02 16:24:30</td>\n",
       "      <td>2019-05-31 06:09:15</td>\n",
       "      <td>3755</td>\n",
       "    </tr>\n",
       "    <tr>\n",
       "      <th>8</th>\n",
       "      <td>390</td>\n",
       "      <td>https://api.github.com/repos/kennethreitz/requ...</td>\n",
       "      <td>796</td>\n",
       "      <td>requests</td>\n",
       "      <td>Python HTTP Requests for Humans™</td>\n",
       "      <td>Python</td>\n",
       "      <td>2011-02-13 18:38:17</td>\n",
       "      <td>2019-05-30 22:09:37</td>\n",
       "      <td>27139</td>\n",
       "    </tr>\n",
       "  </tbody>\n",
       "</table>\n",
       "</div>"
      ],
      "text/plain": [
       "    id                                                url  owner_id  \\\n",
       "0   31    https://api.github.com/repos/gpjt/webgl-lessons       136   \n",
       "1   63      https://api.github.com/repos/pculture/unisubs       394   \n",
       "4  253            https://api.github.com/repos/gruns/furl      1906   \n",
       "7  367     https://api.github.com/repos/spesmilo/electrum      2253   \n",
       "8  390  https://api.github.com/repos/kennethreitz/requ...       796   \n",
       "\n",
       "            name                                        description language  \\\n",
       "0  webgl-lessons  https://github.com/tparisi/webgl-lessons is no...   Python   \n",
       "1        unisubs                                              Amara   Python   \n",
       "4           furl                      URL manipulation made simple.   Python   \n",
       "7       Electrum                      Electrum; Bitcoin thin client   Python   \n",
       "8       requests                   Python HTTP Requests for Humans™   Python   \n",
       "\n",
       "            created_at           updated_at  watchers  \n",
       "0  2009-10-06 12:30:19  2019-05-26 16:32:21       626  \n",
       "1  2011-08-19 22:04:08  2019-05-31 04:12:13       316  \n",
       "4  2011-11-17 01:08:16  2019-05-30 13:58:58      1050  \n",
       "7  2012-08-02 16:24:30  2019-05-31 06:09:15      3755  \n",
       "8  2011-02-13 18:38:17  2019-05-30 22:09:37     27139  "
      ]
     },
     "execution_count": 166,
     "metadata": {},
     "output_type": "execute_result"
    }
   ],
   "source": [
    "repos = repos[repos['watchers'] >  50]\n",
    "repos= repos[['id', 'url', 'owner_id', 'name', 'description', 'language',\n",
    "       'created_at',   'updated_at',  'watchers']]\n",
    "repos.head()"
   ]
  },
  {
   "cell_type": "markdown",
   "metadata": {},
   "source": [
    "## Fetch readme files for all repos with at least 50 watchers"
   ]
  },
  {
   "cell_type": "markdown",
   "metadata": {},
   "source": [
    "## PLEASE DO NOT RUN THIS CODE. \n",
    "The processed repos are already saved under *data/processed* and the readme files are saved under *data/readme_files*"
   ]
  },
  {
   "cell_type": "code",
   "execution_count": 261,
   "metadata": {},
   "outputs": [],
   "source": [
    "\n",
    "def add_save_readme(row, github):\n",
    "    folder = \"../../data/readme_files\"\n",
    "    row['has_readme'] = False\n",
    "    try:\n",
    "        if row['url'] is None or len(row['url'].strip()) == 0:            \n",
    "            row['readme_stat'] = 'no_url'\n",
    "            return row\n",
    "        repo_fullname = row['url'].split('/')[-2:]\n",
    "        # debug\n",
    "\n",
    "\n",
    "        if repo_fullname[0].find(\".\") > -1 or repo_fullname[1].find(\".\") > -1:\n",
    "            row['readme_name'] = 'many_dots'\n",
    "\n",
    "        f_name = '{}/{}.md'.format(folder, '.'.join(repo_fullname))\n",
    "        \n",
    "        if os.path.isfile(f_name):\n",
    "            row['has_readme'] = True\n",
    "            row['readme_file_name'] ='.'.join(row['url'].split('/')[-2:])\n",
    "            with open(f_name, 'r', encoding='utf-8', errors='backslashreplace') as file:\n",
    "                data = file.read()\n",
    "                row['readme_words_num'] = 0\n",
    "                if len(data) > 0 : \n",
    "                    data.replace('\\n', ' ')\n",
    "                    row['readme_words_num'] = len(data.split(' '))\n",
    "            \n",
    "        else:    \n",
    "            current_repo = github.get_repo('/'.join(repo_fullname))\n",
    "            readme = current_repo.get_readme()\n",
    "\n",
    "            readme_content = readme.decoded_content.decode(\"utf-8\")\n",
    "            row['readme_words_num'] = len(readme_content.split())\n",
    "\n",
    "            if row['readme_words_num']> 0 :\n",
    "                with open(f_name, 'w', encoding=\"utf-8\", errors='backslashreplace') as w:\n",
    "                    w.write(readme.decoded_content.decode(\"utf-8\") )\n",
    "                row['has_readme'] = True \n",
    "                row['readme_file_name'] ='.'.join(row['url'].split('/')[-2:])\n",
    "\n",
    "                \n",
    "    except Exception as e:\n",
    "        print(\"error: {} for repo {}\".format(e , row['url']))\n",
    "        row['readme_stat'] = \"error: {} \".format(e)\n",
    "\n",
    "    return row\n",
    "    \n"
   ]
  },
  {
   "cell_type": "code",
   "execution_count": 262,
   "metadata": {},
   "outputs": [],
   "source": [
    "# Github api blocks us after 5000 attepmts - so the following function is called repeatidly until all files are fetched\n",
    "def retry_save_readme(row, github):\n",
    "    folder = \"../../data/readme_files\"\n",
    "    if row['has_readme'] == False and  row['readme_stat'].find('API rate limit exceeded') >-1:\n",
    "        try:\n",
    "\n",
    "            if row['url'] is None or len(row['url'].strip()) == 0:            \n",
    "                row['readme_stat'] = 'no_url'\n",
    "                return row\n",
    "            repo_fullname = row['url'].split('/')[-2:]\n",
    "            # debug\n",
    "\n",
    "\n",
    "            if repo_fullname[0].find(\".\") > -1 or repo_fullname[1].find(\".\") > -1:\n",
    "                row['readme_name'] = 'many_dots'\n",
    "\n",
    "            f_name = '{}/{}.md'.format(folder, '.'.join(repo_fullname))\n",
    "\n",
    "\n",
    "            if os.path.isfile(f_name):\n",
    "                row['has_readme'] = True\n",
    "                with open(f_name, 'r', encoding='utf-8', errors='backslashreplace') as file:\n",
    "                    data = file.read()\n",
    "                    row['readme_words_num'] = 0\n",
    "                    if len(data) > 0 : \n",
    "                        data.replace('\\n', ' ')\n",
    "                        row['readme_words_num'] = len(data.split(' '))\n",
    "\n",
    "            else:    \n",
    "                current_repo = github.get_repo('/'.join(repo_fullname))\n",
    "                readme = current_repo.get_readme()\n",
    "\n",
    "                time.sleep(0.5) \n",
    "                readme_content = readme.decoded_content.decode(\"utf-8\")\n",
    "                row['readme_words_num'] = len(readme_content.split())\n",
    "\n",
    "                if row['readme_words_num']> 0 :\n",
    "                    with open(f_name, 'w', encoding=\"utf-8\") as w:\n",
    "                        w.write(readme.decoded_content.decode(\"utf-8\") )\n",
    "                    row['has_readme'] = True \n",
    "        except Exception as e:\n",
    "            #print(\"error: {} for repo {}\".format(e , row['url']))\n",
    "            row['readme_stat'] = \"error: {} \".format(e)\n",
    "\n",
    "\n",
    "    return row\n",
    "    \n"
   ]
  },
  {
   "cell_type": "code",
   "execution_count": 263,
   "metadata": {},
   "outputs": [],
   "source": [
    "github = Github(os.getenv('PAT'))\n",
    "#repos = repos.apply(add_save_readme, axis=1, args=(github, ))\n"
   ]
  },
  {
   "cell_type": "code",
   "execution_count": null,
   "metadata": {},
   "outputs": [],
   "source": [
    "#repos = repos.apply(retry_save_readme, axis=1, args=(github, ))"
   ]
  },
  {
   "cell_type": "markdown",
   "metadata": {},
   "source": [
    "## Removing duplicates"
   ]
  },
  {
   "cell_type": "code",
   "execution_count": 270,
   "metadata": {},
   "outputs": [
    {
     "data": {
      "text/plain": [
       "[]"
      ]
     },
     "execution_count": 270,
     "metadata": {},
     "output_type": "execute_result"
    }
   ],
   "source": [
    "# Check for duplicate\n",
    "urls_value_counts_df = (repos['url'].value_counts().to_frame())\n",
    "duplicate_urls = urls_value_counts_df[urls_value_counts_df['url']>1].index.tolist()\n",
    "duplicate_urls"
   ]
  },
  {
   "cell_type": "code",
   "execution_count": 255,
   "metadata": {},
   "outputs": [],
   "source": [
    "repos.sort_values(by=['url', 'watchers'], ascending=False, inplace=True)\n",
    "repos.drop_duplicates('url', keep='first', inplace=True)"
   ]
  },
  {
   "cell_type": "markdown",
   "metadata": {},
   "source": [
    "## Number of fetched readme after removing duplicates"
   ]
  },
  {
   "cell_type": "code",
   "execution_count": 264,
   "metadata": {},
   "outputs": [
    {
     "data": {
      "text/plain": [
       "True     20590\n",
       "False      328\n",
       "Name: has_readme, dtype: int64"
      ]
     },
     "execution_count": 264,
     "metadata": {},
     "output_type": "execute_result"
    }
   ],
   "source": [
    "repos['has_readme'].value_counts()\n"
   ]
  },
  {
   "cell_type": "markdown",
   "metadata": {},
   "source": [
    "## Type of errors for failed readme files"
   ]
  },
  {
   "cell_type": "code",
   "execution_count": 268,
   "metadata": {},
   "outputs": [
    {
     "data": {
      "text/html": [
       "<div>\n",
       "<style scoped>\n",
       "    .dataframe tbody tr th:only-of-type {\n",
       "        vertical-align: middle;\n",
       "    }\n",
       "\n",
       "    .dataframe tbody tr th {\n",
       "        vertical-align: top;\n",
       "    }\n",
       "\n",
       "    .dataframe thead th {\n",
       "        text-align: right;\n",
       "    }\n",
       "</style>\n",
       "<table border=\"1\" class=\"dataframe\">\n",
       "  <thead>\n",
       "    <tr style=\"text-align: right;\">\n",
       "      <th></th>\n",
       "      <th>readme_stat</th>\n",
       "    </tr>\n",
       "  </thead>\n",
       "  <tbody>\n",
       "    <tr>\n",
       "      <th>error: 404 {\"message\": \"Not Found\", \"documentation_url\": \"https://developer.github.com/v3/repos/contents/#get-the-readme\"}</th>\n",
       "      <td>183</td>\n",
       "    </tr>\n",
       "    <tr>\n",
       "      <th>error: 404 {\"message\": \"Not Found\", \"documentation_url\": \"https://developer.github.com/v3/repos/#get\"}</th>\n",
       "      <td>106</td>\n",
       "    </tr>\n",
       "    <tr>\n",
       "      <th>error: 404 {\"message\": \"Not Found\", \"documentation_url\": \"https://developer.github.com/v3\"}</th>\n",
       "      <td>9</td>\n",
       "    </tr>\n",
       "    <tr>\n",
       "      <th>error: 403 {\"message\": \"Repository access blocked\", \"block\": {\"reason\": \"size\", \"created_at\": \"2019-12-28T11:54:30Z\", \"html_url\": \"https://github.com/tos\"}}</th>\n",
       "      <td>1</td>\n",
       "    </tr>\n",
       "    <tr>\n",
       "      <th>error: 451 {\"message\": \"Repository access blocked\", \"block\": {\"reason\": \"dmca\", \"created_at\": \"2020-01-11T01:15:48Z\", \"html_url\": \"https://github.com/github/dmca/blob/master/2020/01/2020-01-09-alliance4creativity.md\"}}</th>\n",
       "      <td>1</td>\n",
       "    </tr>\n",
       "    <tr>\n",
       "      <th>error: 451 {\"message\": \"Repository access blocked\", \"block\": {\"reason\": \"dmca\", \"created_at\": \"2019-01-29T18:36:17Z\", \"html_url\": \"https://github.com/github/dmca/blob/master/2019/01/2019-01-28-Reuters.md\"}}</th>\n",
       "      <td>1</td>\n",
       "    </tr>\n",
       "    <tr>\n",
       "      <th>error: unsupported encoding: None</th>\n",
       "      <td>1</td>\n",
       "    </tr>\n",
       "  </tbody>\n",
       "</table>\n",
       "</div>"
      ],
      "text/plain": [
       "                                                    readme_stat\n",
       "error: 404 {\"message\": \"Not Found\", \"documentat...          183\n",
       "error: 404 {\"message\": \"Not Found\", \"documentat...          106\n",
       "error: 404 {\"message\": \"Not Found\", \"documentat...            9\n",
       "error: 403 {\"message\": \"Repository access block...            1\n",
       "error: 451 {\"message\": \"Repository access block...            1\n",
       "error: 451 {\"message\": \"Repository access block...            1\n",
       "error: unsupported encoding: None                             1"
      ]
     },
     "execution_count": 268,
     "metadata": {},
     "output_type": "execute_result"
    }
   ],
   "source": [
    "repos[repos['has_readme']==False]['readme_stat'].value_counts().to_frame()\n"
   ]
  },
  {
   "cell_type": "markdown",
   "metadata": {},
   "source": [
    "## Saving the repo info that has readme files to *'data/processed/repositories_with-readme.csv'* "
   ]
  },
  {
   "cell_type": "code",
   "execution_count": 258,
   "metadata": {},
   "outputs": [],
   "source": [
    "repos_with_readme = repos[repos['has_readme'] == True]"
   ]
  },
  {
   "cell_type": "code",
   "execution_count": 260,
   "metadata": {},
   "outputs": [],
   "source": [
    "#repos_with_readme.to_csv('../../data/processed/repositories_with-readme.csv', encoding=\"utf-8\")"
   ]
  }
 ],
 "metadata": {
  "kernelspec": {
   "display_name": "Python 3",
   "language": "python",
   "name": "python3"
  },
  "language_info": {
   "codemirror_mode": {
    "name": "ipython",
    "version": 3
   },
   "file_extension": ".py",
   "mimetype": "text/x-python",
   "name": "python",
   "nbconvert_exporter": "python",
   "pygments_lexer": "ipython3",
   "version": "3.7.3"
  }
 },
 "nbformat": 4,
 "nbformat_minor": 4
}
