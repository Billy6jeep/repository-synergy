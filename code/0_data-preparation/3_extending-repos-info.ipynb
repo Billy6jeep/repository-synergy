{
 "cells": [
  {
   "cell_type": "markdown",
   "metadata": {},
   "source": [
    "# combining all repositories data in one csv\n",
    "combines repo labels, languages, members, topics (saved here_ *data/ghtorrent_python_notdeleted_repos_updated2019/*)and readme (saved here: *data/processed/repositories_with-readme.csv*) \n",
    "\n",
    "output is saved here:\n",
    "--> **data/processed/repositories_with-readme.csv**"
   ]
  },
  {
   "cell_type": "code",
   "execution_count": 1,
   "metadata": {},
   "outputs": [],
   "source": [
    "import pandas as pd"
   ]
  },
  {
   "cell_type": "markdown",
   "metadata": {},
   "source": [
    "## Load original data"
   ]
  },
  {
   "cell_type": "code",
   "execution_count": 7,
   "metadata": {},
   "outputs": [],
   "source": [
    "original_data_path = \"../../data/ghtorrent_python_notdeleted_repos_updated2019/repositories_{}.csv\""
   ]
  },
  {
   "cell_type": "code",
   "execution_count": 29,
   "metadata": {},
   "outputs": [],
   "source": [
    "def get_data(data_type):\n",
    "    path = original_data_path.format(data_type)\n",
    "    repo_data_df = pd.read_csv(path, delimiter=';')\n",
    "    repo_data_df.set_index('id', inplace=True)\n",
    "    return repo_data_df\n"
   ]
  },
  {
   "cell_type": "code",
   "execution_count": 30,
   "metadata": {},
   "outputs": [],
   "source": [
    "\n",
    "repo_labels_df = get_data('labels')\n",
    "repo_languages_df = get_data('languages')\n",
    "repo_members_df = get_data('members')\n",
    "repo_topics_df = get_data('topics')"
   ]
  },
  {
   "cell_type": "markdown",
   "metadata": {},
   "source": [
    " ## Load csv file containing all repos used in this projects"
   ]
  },
  {
   "cell_type": "code",
   "execution_count": 65,
   "metadata": {},
   "outputs": [],
   "source": [
    "dataset_path = \"../../data/processed/repositories_with-readme.csv\""
   ]
  },
  {
   "cell_type": "code",
   "execution_count": 66,
   "metadata": {},
   "outputs": [],
   "source": [
    "df = pd.read_csv(dataset_path)\n",
    "df.set_index('id', inplace=True)\n",
    "df.drop('Unnamed: 0', axis=1, inplace=True)\n",
    "df.drop(['readme_size', 'has_readme', 'readme_stat'], axis=1, inplace=True)"
   ]
  },
  {
   "cell_type": "markdown",
   "metadata": {},
   "source": [
    " ## Extend csv file with *labels*, *languages*, *members*, *topics*"
   ]
  },
  {
   "cell_type": "code",
   "execution_count": 67,
   "metadata": {},
   "outputs": [],
   "source": [
    "extended_df = df.copy()\n",
    "extended_df = extended_df.join(repo_labels_df, how=\"inner\")\n",
    "extended_df = extended_df.join(repo_languages_df, how=\"inner\")\n",
    "extended_df = extended_df.join(repo_members_df, how=\"inner\")\n",
    "extended_df = extended_df.join(repo_topics_df, how=\"inner\")"
   ]
  },
  {
   "cell_type": "code",
   "execution_count": 69,
   "metadata": {},
   "outputs": [],
   "source": [
    "# Save\n",
    "#extended_df.reset_index().to_csv('../../data/processed/repositories_with-readme.csv', encoding=\"utf-8\", index=False)"
   ]
  }
 ],
 "metadata": {
  "kernelspec": {
   "display_name": "Python 3",
   "language": "python",
   "name": "python3"
  },
  "language_info": {
   "codemirror_mode": {
    "name": "ipython",
    "version": 3
   },
   "file_extension": ".py",
   "mimetype": "text/x-python",
   "name": "python",
   "nbconvert_exporter": "python",
   "pygments_lexer": "ipython3",
   "version": "3.7.3"
  }
 },
 "nbformat": 4,
 "nbformat_minor": 4
}
