{
  "nbformat": 4,
  "nbformat_minor": 0,
  "metadata": {
    "colab": {
      "name": "bert_repository_synergy.ipynb",
      "provenance": [],
      "collapsed_sections": []
    },
    "kernelspec": {
      "name": "python3",
      "display_name": "Python 3"
    }
  },
  "cells": [
    {
      "cell_type": "code",
      "metadata": {
        "id": "jz0OQe9Hrgdw",
        "colab_type": "code",
        "colab": {}
      },
      "source": [
        "!pip install gast\n",
        "!pip install tokenizers==0.8.1.rc1\n",
        "!pip install simpletransformers\n",
        "!pip install tensorflow==2.1.0\n",
        "\n",
        "#!pip install  cudatoolkit\n",
        "#!pip install  pytorch"
      ],
      "execution_count": null,
      "outputs": []
    },
    {
      "cell_type": "code",
      "metadata": {
        "id": "QfXzeUoRr4Hm",
        "colab_type": "code",
        "colab": {}
      },
      "source": [
        "import pandas as pd\n",
        "import numpy as np\n",
        "import itertools\n",
        "from collections import Counter\n",
        "import scipy\n",
        "import scipy.stats as stats\n",
        "import importlib, os\n",
        "import sklearn\n",
        "import itertools\n",
        "\n",
        "\n"
      ],
      "execution_count": 2,
      "outputs": []
    },
    {
      "cell_type": "code",
      "metadata": {
        "id": "jQ1yMp1Ss64e",
        "colab_type": "code",
        "colab": {}
      },
      "source": [
        "from numpy import dot\n",
        "from numpy.linalg import norm\n",
        "\n",
        "def cosine_similarity(a, b):\n",
        "    \n",
        "    return np.inner(a, b) / (norm(a) * norm(b))\n",
        "\n",
        "def calculate_bert_cosine_sim(text1, text2 , model):\n",
        "  # bert representation\n",
        "  bert_representation = model.encode_sentences([text1, text2], combine_strategy=\"mean\")\n",
        "\n",
        "  # cosine similarity\n",
        "  return cosine_similarity(bert_representation[0], bert_representation[1])\n"
      ],
      "execution_count": 87,
      "outputs": []
    },
    {
      "cell_type": "markdown",
      "metadata": {
        "id": "X7o9wpvyAeR-",
        "colab_type": "text"
      },
      "source": [
        ""
      ]
    },
    {
      "cell_type": "code",
      "metadata": {
        "id": "vg-wGW0DAfNw",
        "colab_type": "code",
        "colab": {}
      },
      "source": [
        ""
      ],
      "execution_count": 87,
      "outputs": []
    },
    {
      "cell_type": "code",
      "metadata": {
        "id": "_5nfT01GtRmM",
        "colab_type": "code",
        "colab": {}
      },
      "source": [
        "def get_bert_cosine_sim_for_pairs(data, model, uncased = True):\n",
        "  results = []\n",
        "  readme_file_names_list = data['local_readme_file'].values.tolist()\n",
        "  for repo_pair in itertools.combinations(readme_file_names_list, 2):\n",
        "    readme1 = data[data['local_readme_file'] == repo_pair[0]]['content_clean'].values[0]\n",
        "    readme2 = data[data['local_readme_file'] == repo_pair[1]]['content_clean'].values[0]\n",
        "\n",
        "    readme1 = readme1.lower() if uncased else readme1\n",
        "    readme2 = readme2.lower() if uncased else readme2\n",
        "    # cosine similarity between bert representations\n",
        "    similarity = calculate_bert_cosine_sim(readme1, readme2, model)\n",
        "    results.append({'readme1': str(repo_pair[0]),\n",
        "                    'readme2': str(repo_pair[1]),\n",
        "                    'similarity': similarity  })\n",
        "    \n",
        "  return pd.DataFrame(results)"
      ],
      "execution_count": 88,
      "outputs": []
    },
    {
      "cell_type": "code",
      "metadata": {
        "id": "8W46FYHer_-S",
        "colab_type": "code",
        "colab": {}
      },
      "source": [
        "data = pd.read_csv('final_repo_english_whatwhy.csv', index_col='file_id')\n"
      ],
      "execution_count": 89,
      "outputs": []
    },
    {
      "cell_type": "code",
      "metadata": {
        "id": "MmsuaK7Etlxt",
        "colab_type": "code",
        "colab": {
          "base_uri": "https://localhost:8080/",
          "height": 88
        },
        "outputId": "a7a9dfd7-6be1-48de-f94b-6e5c2776f481"
      },
      "source": [
        "from simpletransformers.language_representation import RepresentationModel\n",
        "\n",
        "\n",
        "\n",
        "model = RepresentationModel(\n",
        "        model_type=\"bert\",\n",
        "        model_name=\"bert-base-uncased\",\n",
        "        use_cuda=False\n",
        "    )\n"
      ],
      "execution_count": 90,
      "outputs": [
        {
          "output_type": "stream",
          "text": [
            "Some weights of the model checkpoint at bert-base-uncased were not used when initializing BertForTextRepresentation: ['cls.predictions.bias', 'cls.predictions.transform.dense.weight', 'cls.predictions.transform.dense.bias', 'cls.predictions.decoder.weight', 'cls.seq_relationship.weight', 'cls.seq_relationship.bias', 'cls.predictions.transform.LayerNorm.weight', 'cls.predictions.transform.LayerNorm.bias']\n",
            "- This IS expected if you are initializing BertForTextRepresentation from the checkpoint of a model trained on another task or with another architecture (e.g. initializing a BertForSequenceClassification model from a BertForPretraining model).\n",
            "- This IS NOT expected if you are initializing BertForTextRepresentation from the checkpoint of a model that you expect to be exactly identical (initializing a BertForSequenceClassification model from a BertForSequenceClassification model).\n"
          ],
          "name": "stderr"
        }
      ]
    },
    {
      "cell_type": "code",
      "metadata": {
        "id": "l0KpmrMD-e25",
        "colab_type": "code",
        "colab": {}
      },
      "source": [
        "cosine_pairs = get_bert_cosine_sim_for_pairs(data, model)\n"
      ],
      "execution_count": null,
      "outputs": []
    },
    {
      "cell_type": "code",
      "metadata": {
        "id": "K9KC8xqaFAzy",
        "colab_type": "code",
        "colab": {}
      },
      "source": [
        "cosine_pairs.to_csv('bert_based_pair_similarity.csv')"
      ],
      "execution_count": null,
      "outputs": []
    },
    {
      "cell_type": "code",
      "metadata": {
        "id": "gU7m2V39FI34",
        "colab_type": "code",
        "colab": {}
      },
      "source": [
        ""
      ],
      "execution_count": null,
      "outputs": []
    }
  ]
}