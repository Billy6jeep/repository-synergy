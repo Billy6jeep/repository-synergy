{
 "cells": [
  {
   "cell_type": "code",
   "execution_count": null,
   "metadata": {},
   "outputs": [],
   "source": [
    "import pandas as pd\n",
    "from collections import Counter\n",
    "from langdetect import detect\n",
    "import langdetect\n",
    "import numpy as np\n",
    "import importlib\n",
    "\n",
    "current_dir = os.getcwd()\n",
    "%cd ..\n",
    "import textmining.text_miner \n",
    "import textmining.topic_modeler as tm\n",
    "\n",
    "importlib.reload(textmining.text_miner)\n",
    "importlib.reload(textmining.topic_modeler)\n",
    "os.chdir(current_dir)\n",
    "\n",
    "%matplotlib inline\n",
    "\n",
    "import matplotlib\n",
    "import matplotlib.pyplot as plt"
   ]
  },
  {
   "cell_type": "markdown",
   "metadata": {},
   "source": [
    "# Mallet LDA train"
   ]
  },
  {
   "cell_type": "code",
   "execution_count": null,
   "metadata": {},
   "outputs": [],
   "source": [
    "data = pd.read_csv('../../data/processed/final_repo_english_whatwhy.csv', index_col='file_id')\n",
    "\n",
    "stop_words_extension = ['abstr_hyperlink', 'https', 'abstr_number', 'abstr_image',\n",
    "                        'abstr_mailto', 'abstr_code_section', 'abstr_image', 'abstr_number', 'http', 'www', 'please']\n",
    "\n",
    "mallet_lda_modeler = tm.topic_modeler(data['content_clean'].values.tolist(),\n",
    "                               stopwords_extension= stop_words_extension)\n"
   ]
  },
  {
   "cell_type": "code",
   "execution_count": null,
   "metadata": {},
   "outputs": [],
   "source": [
    "len(data)"
   ]
  },
  {
   "cell_type": "markdown",
   "metadata": {},
   "source": [
    "## Plotting cohenrence for each K topics"
   ]
  },
  {
   "cell_type": "code",
   "execution_count": null,
   "metadata": {},
   "outputs": [],
   "source": [
    "start= 40#125## 85 # 45\n",
    "step=1\n",
    "limit=146 # not included\n"
   ]
  },
  {
   "cell_type": "code",
   "execution_count": null,
   "metadata": {},
   "outputs": [],
   "source": [
    "_, coherence_values = mallet_lda_modeler.compute_coherence_values(limit, start=start, step=step, model_type='mallet')\n"
   ]
  },
  {
   "cell_type": "code",
   "execution_count": null,
   "metadata": {},
   "outputs": [],
   "source": [
    "## Saving results \n",
    "n = mallet_lda_modeler.num_topics\n",
    "print('best model has {} topics'.format(n))\n",
    "\n",
    "coherence_vals_df =  pd.DataFrame({'Number of Topics':range(start, limit, step), 'Coherence Value':coherence_values} )\n",
    "coherence_vals_df.to_csv('../../data/feature_extraction/lda/ldamallet_coherence_values_{}_{}.csv'.format(start, (limit-1)))"
   ]
  },
  {
   "cell_type": "code",
   "execution_count": null,
   "metadata": {},
   "outputs": [],
   "source": [
    "def save_model_info(modeler):\n",
    "    n = modeler.num_topics\n",
    "    print('get_doc_dominant_topic')\n",
    "    nmf_readable_document_topics_df =  modeler.get_doc_dominant_topic(save_path= \"../../data/feature_extraction/lda/ldamallet_readable_document_topics_{}.csv\".format(n))\n",
    "    \n",
    "    print('get_topics_terms')\n",
    "    nmf_topic_words_df = modeler.get_topics_terms(save_path= \"../../data/feature_extraction/lda/ldamallet_topic_words_{}.csv\".format(n))\n",
    "    \n",
    "    print('get_doc_topic_matrix')\n",
    "    nmf_document_topics_df =  modeler.get_doc_topic_matrix(save_path= \"../../data/feature_extraction/lda/ldamallet_document_topics_{}.csv\".format(n))\n",
    "    \n",
    "    return nmf_readable_document_topics_df, nmf_topic_words_df, nmf_document_topics_df"
   ]
  },
  {
   "cell_type": "code",
   "execution_count": null,
   "metadata": {},
   "outputs": [],
   "source": [
    "lda_readable_document_topics_df, lda_topic_words_df, lda_document_topics_df = save_model_info(mallet_lda_modeler)"
   ]
  },
  {
   "cell_type": "markdown",
   "metadata": {},
   "source": [
    "## Topics Exploration"
   ]
  },
  {
   "cell_type": "markdown",
   "metadata": {},
   "source": [
    "#### Topics Keywords"
   ]
  },
  {
   "cell_type": "code",
   "execution_count": null,
   "metadata": {},
   "outputs": [],
   "source": [
    "topics_with_perc_df = pd.DataFrame(mallet_lda_modeler.model.print_topics(num_topics=40, num_words=10), \n",
    "                                   columns=['Topic', 'Keywords'])\n",
    "#topics_with_perc_df.reset_index().to_csv('../../data/feature_extraction/lda_topic_words_45.csv')\n",
    "mallet_lda_modeler.model.show_topics(num_topics=45, num_words=10, formatted=False)"
   ]
  },
  {
   "cell_type": "markdown",
   "metadata": {},
   "source": [
    "#### Docs dominant Topics"
   ]
  },
  {
   "cell_type": "code",
   "execution_count": null,
   "metadata": {},
   "outputs": [],
   "source": []
  },
  {
   "cell_type": "markdown",
   "metadata": {},
   "source": [
    "#### Topic Distribution - See below (Wordlcloud for topic top words)"
   ]
  },
  {
   "cell_type": "code",
   "execution_count": null,
   "metadata": {},
   "outputs": [],
   "source": [
    "topic_dstr = mallet_lda_modeler.get_topic_distr()"
   ]
  },
  {
   "cell_type": "code",
   "execution_count": null,
   "metadata": {},
   "outputs": [],
   "source": [
    "topic_dstr['Dominant_Topic'].value_counts().plot(kind='bar')"
   ]
  },
  {
   "cell_type": "code",
   "execution_count": null,
   "metadata": {},
   "outputs": [],
   "source": [
    "topic_dstr.to_csv('../../data/feature_extraction/lda/ldamallet_topics_distribution_{}.csv'.format(n))"
   ]
  },
  {
   "cell_type": "markdown",
   "metadata": {},
   "source": [
    "#### Word Cloud for each Topic"
   ]
  },
  {
   "cell_type": "code",
   "execution_count": null,
   "metadata": {},
   "outputs": [],
   "source": [
    "## word cloud\n",
    "from nltk.corpus import stopwords\n",
    "from matplotlib import pyplot as plt\n",
    "from wordcloud import WordCloud, STOPWORDS\n",
    "import matplotlib.colors as mcolors\n",
    "def show_word_cloud(model, topics, limit=10, stopwords_extension=[], topic_index=range(1,11)):\n",
    "    # 1. Wordcloud of Top N words in each topic\n",
    "\n",
    "\n",
    "    cols = [color for name, color in mcolors.TABLEAU_COLORS.items()]  # more colors: 'mcolors.XKCD_COLORS'\n",
    "\n",
    "    \n",
    "    stop_words  = stopwords.words('english')\n",
    "    stop_words.extend(stopwords_extension)\n",
    "        \n",
    "    cloud = WordCloud(stopwords=stop_words,\n",
    "                    background_color='white',\n",
    "                    width=2500,\n",
    "                    height=1800,\n",
    "                    max_words=10,\n",
    "                    colormap='tab10',\n",
    "                    color_func=lambda *args, **kwargs: cols[i],\n",
    "                    prefer_horizontal=1.0)\n",
    "\n",
    "    \n",
    "    fig, axes = plt.subplots( int(limit/2), 2, figsize=(10,10), sharex='all', sharey='all')\n",
    "\n",
    "\n",
    "    for i, ax in enumerate(axes.flatten()):\n",
    "        fig.add_subplot(ax)\n",
    "        topic_words = dict(topics[i][1])\n",
    "        cloud.generate_from_frequencies(topic_words, max_font_size=300)\n",
    "        plt.gca().imshow(cloud)\n",
    "        plt.gca().set_title('Topic ' + str(topic_index[i]), fontdict=dict(size=16))\n",
    "        plt.gca().axis('off')\n",
    "        if i> limit:\n",
    "            break\n",
    "\n",
    "\n",
    "    plt.subplots_adjust(wspace=0, hspace=0)\n",
    "    plt.axis('off')\n",
    "    plt.margins(x=0, y=0)\n",
    "    plt.tight_layout()\n",
    "    plt.show()"
   ]
  },
  {
   "cell_type": "code",
   "execution_count": null,
   "metadata": {},
   "outputs": [],
   "source": [
    "topics = LDA_MODEL.show_topics(num_topics=35, num_words=10, formatted=False)\n"
   ]
  },
  {
   "cell_type": "code",
   "execution_count": null,
   "metadata": {},
   "outputs": [],
   "source": [
    "show_word_cloud(LDA_MODEL, topics[:10],  limit=10, stopwords_extension=stop, topic_index=range(0,10))"
   ]
  },
  {
   "cell_type": "code",
   "execution_count": null,
   "metadata": {},
   "outputs": [],
   "source": [
    "show_word_cloud(LDA_MODEL, topics[10:20],  limit=10, stopwords_extension=stop, topic_index=range(10,20))"
   ]
  },
  {
   "cell_type": "code",
   "execution_count": null,
   "metadata": {},
   "outputs": [],
   "source": [
    "show_word_cloud(LDA_MODEL, topics[20:30],  limit=10, stopwords_extension=stop, topic_index=range(20, 30))"
   ]
  },
  {
   "cell_type": "code",
   "execution_count": null,
   "metadata": {},
   "outputs": [],
   "source": [
    "show_word_cloud(LDA_MODEL, topics[30:35],  limit=5, stopwords_extension=stop,  topic_index=range(20, 35))"
   ]
  },
  {
   "cell_type": "code",
   "execution_count": null,
   "metadata": {},
   "outputs": [],
   "source": []
  }
 ],
 "metadata": {
  "kernelspec": {
   "display_name": "Python 3",
   "language": "python",
   "name": "python3"
  },
  "language_info": {
   "codemirror_mode": {
    "name": "ipython",
    "version": 3
   },
   "file_extension": ".py",
   "mimetype": "text/x-python",
   "name": "python",
   "nbconvert_exporter": "python",
   "pygments_lexer": "ipython3",
   "version": "3.7.3"
  }
 },
 "nbformat": 4,
 "nbformat_minor": 4
}
