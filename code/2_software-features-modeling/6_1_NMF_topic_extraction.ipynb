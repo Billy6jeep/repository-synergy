{
 "cells": [
  {
   "cell_type": "code",
   "execution_count": 4,
   "metadata": {
    "ExecutionTime": {
     "end_time": "2020-03-23T14:41:34.982037Z",
     "start_time": "2020-03-23T14:41:32.856820Z"
    },
    "provenance": [
     {
      "end_time": "Unknown",
      "execution_time": "Unknown",
      "outputs": [],
      "source": "",
      "start_time": "Unknown"
     },
     {
      "end_time": "2020-03-23T12:25:34.754Z",
      "execution_time": "2.24s",
      "outputs": [],
      "source": "import nmf_topic_modelling",
      "start_time": "2020-03-23T12:25:32.517Z"
     },
     {
      "end_time": "2020-03-23T12:38:49.582Z",
      "execution_time": "585ms",
      "outputs": [
       {
        "ename": "ModuleNotFoundError",
        "evalue": "No module named 'util_functions'",
        "output_type": "error",
        "traceback": [
         "\u001b[1;31m---------------------------------------------------------------------------\u001b[0m",
         "\u001b[1;31mModuleNotFoundError\u001b[0m                       Traceback (most recent call last)",
         "\u001b[1;32m<ipython-input-7-378c21be4b09>\u001b[0m in \u001b[0;36m<module>\u001b[1;34m\u001b[0m\n\u001b[0;32m      6\u001b[0m \u001b[1;32mfrom\u001b[0m \u001b[0mnltk\u001b[0m\u001b[1;33m.\u001b[0m\u001b[0mstem\u001b[0m\u001b[1;33m.\u001b[0m\u001b[0mporter\u001b[0m \u001b[1;32mimport\u001b[0m \u001b[0mPorterStemmer\u001b[0m\u001b[1;33m\u001b[0m\u001b[1;33m\u001b[0m\u001b[0m\n\u001b[0;32m      7\u001b[0m \u001b[1;33m\u001b[0m\u001b[0m\n\u001b[1;32m----> 8\u001b[1;33m \u001b[1;32mimport\u001b[0m \u001b[0mutil_functions\u001b[0m \u001b[1;32mas\u001b[0m \u001b[0muf\u001b[0m\u001b[1;33m\u001b[0m\u001b[1;33m\u001b[0m\u001b[0m\n\u001b[0m",
         "\u001b[1;31mModuleNotFoundError\u001b[0m: No module named 'util_functions'"
        ]
       }
      ],
      "source": "import nltk\nimport numpy as np\nimport pandas as pd\nfrom sklearn.feature_extraction.text import TfidfVectorizer\nfrom sklearn.decomposition import NMF\nfrom nltk.stem.porter import PorterStemmer\n\nimport util_functions as uf",
      "start_time": "2020-03-23T12:38:48.997Z"
     },
     {
      "end_time": "2020-03-23T12:39:24.542Z",
      "execution_time": "1.79s",
      "outputs": [],
      "source": "import nltk\nimport numpy as np\nimport pandas as pd\nfrom sklearn.feature_extraction.text import TfidfVectorizer\nfrom sklearn.decomposition import NMF\nfrom nltk.stem.porter import PorterStemmer\n\nimport util_functions as uf",
      "start_time": "2020-03-23T12:39:22.752Z"
     },
     {
      "end_time": "2020-03-23T12:45:50.480Z",
      "execution_time": "938ms",
      "outputs": [],
      "source": "import nltk\nimport numpy as np\nimport pandas as pd\nfrom sklearn.feature_extraction.text import TfidfVectorizer\nfrom sklearn.decomposition import NMF, TruncatedSVD\nfrom nltk.stem.porter import PorterStemmer\nimport matplotlib.pyplot as plt\n\nimport util_functions as uf",
      "start_time": "2020-03-23T12:45:49.542Z"
     },
     {
      "end_time": "2020-03-23T12:55:35.747Z",
      "execution_time": "15ms",
      "outputs": [],
      "source": "import nltk\nimport pandas as pd\nfrom scipy.sparse.linalg import svds\nfrom sklearn.feature_extraction.text import TfidfVectorizer\nfrom sklearn.decomposition import NMF, TruncatedSVD\nfrom nltk.stem.porter import PorterStemmer\nimport matplotlib.pyplot as plt\n\nimport util_functions as uf",
      "start_time": "2020-03-23T12:55:35.732Z"
     },
     {
      "end_time": "2020-03-23T14:08:22.278Z",
      "execution_time": "15ms",
      "outputs": [],
      "source": "import nltk\nimport pandas as pd\nfrom scipy.sparse.linalg import svds\nfrom sklearn.feature_extraction.text import TfidfVectorizer\nfrom sklearn.decomposition import NMF, TruncatedSVD\nfrom nltk.stem.porter import PorterStemmer\nimport matplotlib.pyplot as plt\n\nimport util_functions as uf",
      "start_time": "2020-03-23T14:08:22.263Z"
     },
     {
      "end_time": "2020-03-23T14:30:48.413Z",
      "execution_time": "16ms",
      "outputs": [],
      "source": "import nltk\nimport pandas as pd\nfrom scipy.sparse.linalg import svds\nfrom sklearn.feature_extraction.text import TfidfVectorizer\nfrom sklearn.decomposition import NMF, TruncatedSVD\nfrom nltk.stem.porter import PorterStemmer\nimport matplotlib.pyplot as plt\n\nimport util_functions as uf",
      "start_time": "2020-03-23T14:30:48.397Z"
     },
     {
      "end_time": "2020-03-23T14:35:47.921Z",
      "execution_time": "2.22s",
      "outputs": [
       {
        "data": {
         "text/plain": "<module 'util_functions' from 'H:\\\\Forschung\\\\Repository_Mining\\\\repo-miner\\\\notebooks\\\\util_functions.py'>"
        },
        "execution_count": 39,
        "metadata": {},
        "output_type": "execute_result"
       }
      ],
      "source": "import nltk\nimport pandas as pd\nfrom scipy.sparse.linalg import svds\nfrom sklearn.feature_extraction.text import TfidfVectorizer\nfrom sklearn.decomposition import NMF, TruncatedSVD\nfrom nltk.stem.porter import PorterStemmer\nimport matplotlib.pyplot as plt\nimport importlib\n\nimport util_functions as uf\n\nimportlib.reload(uf)",
      "start_time": "2020-03-23T14:35:45.705Z"
     },
     {
      "end_time": "2020-03-23T14:41:34.982Z",
      "execution_time": "2.13s",
      "outputs": [
       {
        "data": {
         "text/plain": "<module 'util_functions' from 'H:\\\\Forschung\\\\Repository_Mining\\\\repo-miner\\\\notebooks\\\\util_functions.py'>"
        },
        "execution_count": 42,
        "metadata": {},
        "output_type": "execute_result"
       }
      ],
      "source": "import nltk\nimport pandas as pd\nfrom scipy.sparse.linalg import svds\nfrom sklearn.feature_extraction.text import TfidfVectorizer\nfrom sklearn.decomposition import NMF, TruncatedSVD\nfrom nltk.stem.porter import PorterStemmer\nimport matplotlib.pyplot as plt\nimport importlib\n\nimport util_functions as uf\n\nimportlib.reload(uf)",
      "start_time": "2020-03-23T14:41:32.856Z"
     }
    ]
   },
   "outputs": [
    {
     "name": "stdout",
     "output_type": "stream",
     "text": [
      "C:\\Users\\elba_ro\\Documents\\dlr_projects\\repository-synergy\\notebooks\n"
     ]
    },
    {
     "name": "stderr",
     "output_type": "stream",
     "text": [
      "[nltk_data] Downloading package wordnet to\n",
      "[nltk_data]     C:\\Users\\elba_ro\\AppData\\Roaming\\nltk_data...\n",
      "[nltk_data]   Package wordnet is already up-to-date!\n"
     ]
    }
   ],
   "source": [
    "\n",
    "from scipy.sparse.linalg import svds\n",
    "from sklearn.feature_extraction.text import TfidfVectorizer\n",
    "from sklearn.decomposition import NMF, TruncatedSVD\n",
    "from nltk.stem.porter import PorterStemmer\n",
    "from nltk.corpus import stopwords\n",
    "from gensim.utils import simple_preprocess\n",
    "\n",
    "import nltk\n",
    "import pandas as pd\n",
    "import matplotlib.pyplot as plt\n",
    "import importlib\n",
    "import os\n",
    "\n",
    "current_dir = os.getcwd()\n",
    "%cd ..\n",
    "import textmining.util_functions as uf\n",
    "import textmining.text_miner \n",
    "import textmining.topic_modeler as tm\n",
    "\n",
    "importlib.reload(textmining.text_miner)\n",
    "importlib.reload(textmining.topic_modeler)\n",
    "importlib.reload(uf)\n",
    "os.chdir(current_dir)\n",
    "\n",
    "\n",
    "import seaborn as sns\n",
    "sns.reset_defaults()\n",
    "sns.set(\n",
    "    rc={'figure.figsize':(7,5)}, \n",
    "    style=\"white\" # nicer layout\n",
    ")\n",
    "%matplotlib inline\n",
    "\n",
    "import matplotlib\n",
    "import numpy as np\n",
    "import matplotlib.pyplot as plt\n",
    "\n"
   ]
  },
  {
   "cell_type": "markdown",
   "metadata": {
    "provenance": [
     {
      "last_modified": "2020-03-23T12:45:47.718Z",
      "source": "# NMF based topic modelling"
     },
     {
      "last_modified": "2020-03-23T12:58:29.977Z",
      "source": "# NMF based topic modelling"
     }
    ]
   },
   "source": [
    "# NMF based topic modelling - with tfidf"
   ]
  },
  {
   "cell_type": "code",
   "execution_count": 5,
   "metadata": {
    "ExecutionTime": {
     "end_time": "2020-03-23T14:10:26.543188Z",
     "start_time": "2020-03-23T14:08:29.077461Z"
    },
    "provenance": [
     {
      "end_time": "2020-03-23T12:36:26.715Z",
      "execution_time": "1m 18.9s",
      "outputs": [],
      "source": "data = pd.read_csv(\"../data/processed/repositories_with-readme_what-why-code_content.csv\")",
      "start_time": "2020-03-23T12:35:07.865Z"
     },
     {
      "end_time": "2020-03-23T14:10:26.543Z",
      "execution_time": "1m 57.5s",
      "outputs": [],
      "source": "data = pd.read_csv(\"../data/processed/repositories_with-readme_what-why-code_content.csv\")",
      "start_time": "2020-03-23T14:08:29.077Z"
     }
    ]
   },
   "outputs": [
    {
     "data": {
      "text/plain": [
       "Index(['local_readme_file', 'url_readme', 'created_at', 'language', 'name',\n",
       "       'owner_id', 'updated_at', 'url', 'watchers', 'members_number',\n",
       "       'repo_labels', 'all_languages', 'topics', 'description', 'members_ids',\n",
       "       'content_text_w_o_tags', 'section_id', 'content_clean'],\n",
       "      dtype='object')"
      ]
     },
     "execution_count": 5,
     "metadata": {},
     "output_type": "execute_result"
    }
   ],
   "source": [
    "data = pd.read_csv('../../data/processed/final_repo_english_whatwhy.csv', index_col='file_id')\n",
    "data.columns"
   ]
  },
  {
   "cell_type": "code",
   "execution_count": null,
   "metadata": {},
   "outputs": [],
   "source": [
    "stop_words_extension = ['abstr_hyperlink', 'https', 'abstr_number', 'abstr_image',\n",
    "                        'abstr mailto', 'abstr_code_section', 'abstr_image', 'abstr_number', 'http', 'www', 'please']\n",
    "nmf_modeler = tm.topic_modeler(data['content_clean'].values.tolist(),\n",
    "                               stopwords_extension= stop_words_extension)\n"
   ]
  },
  {
   "cell_type": "markdown",
   "metadata": {},
   "source": [
    "## Plotting cohenrence for each K topics"
   ]
  },
  {
   "cell_type": "code",
   "execution_count": null,
   "metadata": {},
   "outputs": [],
   "source": [
    "start= 40#125## 85 # 45\n",
    "step=1\n",
    "limit=146 # not included\n",
    "#nmf_model_list=None"
   ]
  },
  {
   "cell_type": "code",
   "execution_count": null,
   "metadata": {},
   "outputs": [],
   "source": [
    "nmf_model_list, coherence_vals = nmf_modeler.compute_coherence_values(limit, start=start, step=step,\n",
    "                                                                                      model_type='nmf',\n",
    "                                                                                     corpus_type ='tfidf')\n",
    "\n"
   ]
  },
  {
   "cell_type": "code",
   "execution_count": null,
   "metadata": {},
   "outputs": [],
   "source": [
    "## Saving results \n",
    "n = nmf_modeler.num_topics\n",
    "print('best model has {} topics'.format(n))\n",
    "\n",
    "coherence_vals_df =  pd.DataFrame({'Number of Topics':range(start, limit, step), 'Coherence Value':coherence_vals} )\n",
    "coherence_vals_df.to_csv('../../data/feature_extraction/nmf/nmf_coherence_values_{}_{}.csv'.format(start, (limit-1)))"
   ]
  },
  {
   "cell_type": "code",
   "execution_count": null,
   "metadata": {},
   "outputs": [],
   "source": [
    "def save_model_info(modeler):\n",
    "    n = modeler.num_topics\n",
    "    print('get_doc_dominant_topic')\n",
    "    nmf_readable_document_topics_df =  modeler.get_doc_dominant_topic(save_path= \"../../data/feature_extraction/nmf/nmf_readable_document_topics_{}.csv\".format(n))\n",
    "    \n",
    "    print('get_topics_terms')\n",
    "    nmf_topic_words_df = modeler.get_topics_terms(save_path= \"../../data/feature_extraction/nmf/nmf_topic_words_{}.csv\".format(n))\n",
    "    \n",
    "    print('get_doc_topic_matrix')\n",
    "    nmf_document_topics_df = modeler.get_doc_topic_matrix(save_path= \"../../data/feature_extraction/nmf/nmf_document_topics_{}.csv\".format(n))\n",
    "    \n",
    "    return nmf_readable_document_topics_df, nmf_topic_words_df, nmf_document_topics_df"
   ]
  },
  {
   "cell_type": "code",
   "execution_count": null,
   "metadata": {},
   "outputs": [],
   "source": [
    "nmf_readable_document_topics_df, nmf_topic_words_df, nmf_document_topics_df = save_model_info(nmf_modeler)"
   ]
  },
  {
   "cell_type": "markdown",
   "metadata": {},
   "source": [
    "### Ploting Topics Distributions"
   ]
  },
  {
   "cell_type": "code",
   "execution_count": null,
   "metadata": {},
   "outputs": [],
   "source": [
    "topic_dstr = nmf_modeler.get_topic_distr()\n",
    "topic_dstr['Dominant_Topic'].value_counts().plot(kind='bar')\n"
   ]
  },
  {
   "cell_type": "code",
   "execution_count": null,
   "metadata": {},
   "outputs": [],
   "source": [
    "topic_dstr['Topic_Keywords'].fillna('No Topic', inplace=True)"
   ]
  },
  {
   "cell_type": "code",
   "execution_count": null,
   "metadata": {},
   "outputs": [],
   "source": [
    "topic_dstr.to_csv('../../data/feature_extraction/nmf/nmf_topics_distribution_{}.csv'.format(n))"
   ]
  },
  {
   "cell_type": "markdown",
   "metadata": {},
   "source": [
    "#### Docs dominant Topics"
   ]
  },
  {
   "cell_type": "code",
   "execution_count": null,
   "metadata": {},
   "outputs": [],
   "source": [
    "#doc_dominant_topic_df.reset_index().to_csv('../../data/feature_extraction/nmf_document_topics_25.csv')\n",
    "nmf_readable_document_topics_df.head(10)"
   ]
  },
  {
   "cell_type": "code",
   "execution_count": null,
   "metadata": {},
   "outputs": [],
   "source": []
  },
  {
   "cell_type": "markdown",
   "metadata": {},
   "source": [
    "#### Wordclouds for each topic"
   ]
  },
  {
   "cell_type": "code",
   "execution_count": null,
   "metadata": {},
   "outputs": [],
   "source": [
    "from nltk.corpus import stopwords\n",
    "from matplotlib import pyplot as plt\n",
    "from wordcloud import WordCloud, STOPWORDS\n",
    "import matplotlib.colors as mcolors\n",
    "\n",
    "\n",
    "topics = nmf_modeler.model.show_topics(num_topics=35, num_words=10, formatted=False)\n",
    "\n",
    "\n",
    "\n",
    "def show_word_cloud(topics, limit=10, stopwords_extension=[], topic_index=range(1, 11)):\n",
    "    # 1. Wordcloud of Top N words in each topic\n",
    "\n",
    "    cols = [color for name, color in mcolors.TABLEAU_COLORS.items()]  # more colors: 'mcolors.XKCD_COLORS'\n",
    "\n",
    "    stop_words = stopwords.words('english')\n",
    "    stop_words.extend(stopwords_extension)\n",
    "\n",
    "    cloud = WordCloud(stopwords=stop_words,\n",
    "                      background_color='white',\n",
    "                      width=2500,\n",
    "                      height=1800,\n",
    "                      max_words=10,\n",
    "                      colormap='tab10',\n",
    "                      color_func=lambda *args, **kwargs: cols[i],\n",
    "                      prefer_horizontal=1.0)\n",
    "\n",
    "    fig, axes = plt.subplots(int(limit / 2), 2, figsize=(10, 10), sharex='all', sharey='all')\n",
    "\n",
    "    for i, ax in enumerate(axes.flatten()):\n",
    "        fig.add_subplot(ax)\n",
    "        topic_words = dict(topics[i][1])\n",
    "        cloud.generate_from_frequencies(topic_words, max_font_size=300)\n",
    "        plt.gca().imshow(cloud)\n",
    "        plt.gca().set_title('Topic ' + str(topic_index[i]), fontdict=dict(size=16))\n",
    "        plt.gca().axis('off')\n",
    "        if i > limit:\n",
    "            break\n",
    "\n",
    "    plt.subplots_adjust(wspace=0, hspace=0)\n",
    "    plt.axis('off')\n",
    "    plt.margins(x=0, y=0)\n",
    "    plt.tight_layout()\n",
    "    plt.show()"
   ]
  },
  {
   "cell_type": "code",
   "execution_count": null,
   "metadata": {},
   "outputs": [],
   "source": [
    "\n",
    "show_word_cloud(topics[:10],  limit=10, stopwords_extension=stop_words_extension, topic_index=range(0,10))"
   ]
  },
  {
   "cell_type": "code",
   "execution_count": null,
   "metadata": {},
   "outputs": [],
   "source": [
    "show_word_cloud(topics[10:20],  limit=10, stopwords_extension=stop_words_extension, topic_index=range(10,20))"
   ]
  },
  {
   "cell_type": "code",
   "execution_count": null,
   "metadata": {},
   "outputs": [],
   "source": [
    "show_word_cloud(topics[20:30],  limit=10, stopwords_extension=stop_words_extension, topic_index=range(20,30))"
   ]
  },
  {
   "cell_type": "code",
   "execution_count": null,
   "metadata": {},
   "outputs": [],
   "source": [
    "show_word_cloud(topics[30:35],  limit=5, stopwords_extension=stop_words_extension, topic_index=range(30,35))"
   ]
  },
  {
   "cell_type": "code",
   "execution_count": null,
   "metadata": {},
   "outputs": [],
   "source": [
    "show_word_cloud(topics_tfid[:10],  limit=10, stopwords_extension=stop, topic_index=range(0,10))"
   ]
  },
  {
   "cell_type": "markdown",
   "metadata": {
    "provenance": [
     {
      "last_modified": "2020-03-23T12:45:47.718Z",
      "source": "### 1. Extract TF-IDF matrix for all documents"
     },
     {
      "last_modified": "2020-03-23T12:58:29.977Z",
      "source": "### 1. Extract TF-IDF matrix for all documents"
     }
    ]
   },
   "source": [
    "### 1. Extract TF-IDF matrix for all documents"
   ]
  },
  {
   "cell_type": "code",
   "execution_count": null,
   "metadata": {
    "ExecutionTime": {
     "end_time": "2020-03-23T14:42:44.210255Z",
     "start_time": "2020-03-23T14:41:37.643884Z"
    },
    "provenance": [
     {
      "end_time": "2020-03-23T12:38:33.507Z",
      "execution_time": "293ms",
      "outputs": [
       {
        "ename": "NameError",
        "evalue": "name 'tokenize' is not defined",
        "output_type": "error",
        "traceback": [
         "\u001b[1;31m---------------------------------------------------------------------------\u001b[0m",
         "\u001b[1;31mNameError\u001b[0m                                 Traceback (most recent call last)",
         "\u001b[1;32m<ipython-input-5-a51cf524025d>\u001b[0m in \u001b[0;36m<module>\u001b[1;34m\u001b[0m\n\u001b[1;32m----> 1\u001b[1;33m \u001b[0mtfidf_model\u001b[0m \u001b[1;33m=\u001b[0m \u001b[0mTfidfVectorizer\u001b[0m\u001b[1;33m(\u001b[0m\u001b[0mtokenizer\u001b[0m\u001b[1;33m=\u001b[0m\u001b[0mtokenize\u001b[0m\u001b[1;33m,\u001b[0m \u001b[0mstop_words\u001b[0m\u001b[1;33m=\u001b[0m\u001b[1;34m'english'\u001b[0m\u001b[1;33m)\u001b[0m\u001b[1;33m.\u001b[0m\u001b[0;31m \u001b[0m\u001b[0;31m\\\u001b[0m\u001b[1;33m\u001b[0m\u001b[1;33m\u001b[0m\u001b[0m\n\u001b[0m\u001b[0;32m      2\u001b[0m         \u001b[0mfit_transform\u001b[0m\u001b[1;33m(\u001b[0m\u001b[0mdata\u001b[0m\u001b[1;33m.\u001b[0m\u001b[0mcontent_text_w_o_tags\u001b[0m\u001b[1;33m)\u001b[0m\u001b[1;33m\u001b[0m\u001b[1;33m\u001b[0m\u001b[0m\n",
         "\u001b[1;31mNameError\u001b[0m: name 'tokenize' is not defined"
        ]
       }
      ],
      "source": "tfidf_model = TfidfVectorizer(tokenizer=tokenize, stop_words='english'). \\\n        fit_transform(data.content_text_w_o_tags)",
      "start_time": "2020-03-23T12:38:33.214Z"
     },
     {
      "end_time": "2020-03-23T12:38:42.697Z",
      "execution_time": "42ms",
      "outputs": [
       {
        "ename": "NameError",
        "evalue": "name 'uf' is not defined",
        "output_type": "error",
        "traceback": [
         "\u001b[1;31m---------------------------------------------------------------------------\u001b[0m",
         "\u001b[1;31mNameError\u001b[0m                                 Traceback (most recent call last)",
         "\u001b[1;32m<ipython-input-6-134207a81d70>\u001b[0m in \u001b[0;36m<module>\u001b[1;34m\u001b[0m\n\u001b[1;32m----> 1\u001b[1;33m \u001b[0mtfidf_model\u001b[0m \u001b[1;33m=\u001b[0m \u001b[0mTfidfVectorizer\u001b[0m\u001b[1;33m(\u001b[0m\u001b[0mtokenizer\u001b[0m\u001b[1;33m=\u001b[0m\u001b[0muf\u001b[0m\u001b[1;33m.\u001b[0m\u001b[0mtokenize\u001b[0m\u001b[1;33m,\u001b[0m \u001b[0mstop_words\u001b[0m\u001b[1;33m=\u001b[0m\u001b[1;34m'english'\u001b[0m\u001b[1;33m)\u001b[0m\u001b[1;33m.\u001b[0m\u001b[0;31m \u001b[0m\u001b[0;31m\\\u001b[0m\u001b[1;33m\u001b[0m\u001b[1;33m\u001b[0m\u001b[0m\n\u001b[0m\u001b[0;32m      2\u001b[0m         \u001b[0mfit_transform\u001b[0m\u001b[1;33m(\u001b[0m\u001b[0mdata\u001b[0m\u001b[1;33m.\u001b[0m\u001b[0mcontent_text_w_o_tags\u001b[0m\u001b[1;33m)\u001b[0m\u001b[1;33m\u001b[0m\u001b[1;33m\u001b[0m\u001b[0m\n",
         "\u001b[1;31mNameError\u001b[0m: name 'uf' is not defined"
        ]
       }
      ],
      "source": "tfidf_model = TfidfVectorizer(tokenizer=uf.tokenize, stop_words='english'). \\\n        fit_transform(data.content_text_w_o_tags)",
      "start_time": "2020-03-23T12:38:42.655Z"
     },
     {
      "end_time": "2020-03-23T12:40:41.510Z",
      "execution_time": "1m 11.2s",
      "outputs": [
       {
        "name": "stderr",
        "output_type": "stream",
        "text": "C:\\Users\\heck_ti\\AppData\\Roaming\\Python\\Python37\\site-packages\\sklearn\\feature_extraction\\text.py:300: UserWarning: Your stop_words may be inconsistent with your preprocessing. Tokenizing the stop words generated tokens ['abov', 'afterward', 'alon', 'alreadi', 'alway', 'ani', 'anoth', 'anyon', 'anyth', 'anywher', 'becam', 'becaus', 'becom', 'befor', 'besid', 'cri', 'describ', 'dure', 'els', 'elsewher', 'empti', 'everi', 'everyon', 'everyth', 'everywher', 'fifti', 'formerli', 'forti', 'ha', 'henc', 'hereaft', 'herebi', 'hi', 'howev', 'hundr', 'inde', 'latterli', 'mani', 'meanwhil', 'moreov', 'mostli', 'nobodi', 'noon', 'noth', 'nowher', 'onc', 'onli', 'otherwis', 'ourselv', 'perhap', 'pleas', 'seriou', 'sever', 'sinc', 'sincer', 'sixti', 'someon', 'someth', 'sometim', 'somewher', 'themselv', 'thenc', 'thereaft', 'therebi', 'therefor', 'thi', 'thu', 'togeth', 'twelv', 'twenti', 'veri', 'wa', 'whatev', 'whenc', 'whenev', 'wherea', 'whereaft', 'wherebi', 'wherev', 'whi', 'yourselv'] not in stop_words.\n  'stop_words.' % sorted(inconsistent))\n"
       }
      ],
      "source": "tfidf_model = TfidfVectorizer(tokenizer=uf.tokenize, stop_words='english'). \\\n        fit_transform(data.content_text_w_o_tags)",
      "start_time": "2020-03-23T12:39:30.301Z"
     },
     {
      "end_time": "2020-03-23T13:57:37.205Z",
      "execution_time": "1m 14.6s",
      "outputs": [
       {
        "name": "stderr",
        "output_type": "stream",
        "text": "C:\\Users\\heck_ti\\AppData\\Roaming\\Python\\Python37\\site-packages\\sklearn\\feature_extraction\\text.py:300: UserWarning: Your stop_words may be inconsistent with your preprocessing. Tokenizing the stop words generated tokens ['abov', 'afterward', 'alon', 'alreadi', 'alway', 'ani', 'anoth', 'anyon', 'anyth', 'anywher', 'becam', 'becaus', 'becom', 'befor', 'besid', 'cri', 'describ', 'dure', 'els', 'elsewher', 'empti', 'everi', 'everyon', 'everyth', 'everywher', 'fifti', 'formerli', 'forti', 'ha', 'henc', 'hereaft', 'herebi', 'hi', 'howev', 'hundr', 'inde', 'latterli', 'mani', 'meanwhil', 'moreov', 'mostli', 'nobodi', 'noon', 'noth', 'nowher', 'onc', 'onli', 'otherwis', 'ourselv', 'perhap', 'pleas', 'seriou', 'sever', 'sinc', 'sincer', 'sixti', 'someon', 'someth', 'sometim', 'somewher', 'themselv', 'thenc', 'thereaft', 'therebi', 'therefor', 'thi', 'thu', 'togeth', 'twelv', 'twenti', 'veri', 'wa', 'whatev', 'whenc', 'whenev', 'wherea', 'whereaft', 'wherebi', 'wherev', 'whi', 'yourselv'] not in stop_words.\n  'stop_words.' % sorted(inconsistent))\n"
       }
      ],
      "source": "vectoriser = TfidfVectorizer(tokenizer=uf.tokenize, stop_words='english')\ntfidf_model = vectoriser.fit_transform(data.content_text_w_o_tags)",
      "start_time": "2020-03-23T13:56:22.651Z"
     },
     {
      "end_time": "2020-03-23T14:11:37.608Z",
      "execution_time": "1m 11.1s",
      "outputs": [
       {
        "name": "stderr",
        "output_type": "stream",
        "text": "C:\\Users\\heck_ti\\AppData\\Roaming\\Python\\Python37\\site-packages\\sklearn\\feature_extraction\\text.py:300: UserWarning: Your stop_words may be inconsistent with your preprocessing. Tokenizing the stop words generated tokens ['abov', 'afterward', 'alon', 'alreadi', 'alway', 'ani', 'anoth', 'anyon', 'anyth', 'anywher', 'becam', 'becaus', 'becom', 'befor', 'besid', 'cri', 'describ', 'dure', 'els', 'elsewher', 'empti', 'everi', 'everyon', 'everyth', 'everywher', 'fifti', 'formerli', 'forti', 'ha', 'henc', 'hereaft', 'herebi', 'hi', 'howev', 'hundr', 'inde', 'latterli', 'mani', 'meanwhil', 'moreov', 'mostli', 'nobodi', 'noon', 'noth', 'nowher', 'onc', 'onli', 'otherwis', 'ourselv', 'perhap', 'pleas', 'seriou', 'sever', 'sinc', 'sincer', 'sixti', 'someon', 'someth', 'sometim', 'somewher', 'themselv', 'thenc', 'thereaft', 'therebi', 'therefor', 'thi', 'thu', 'togeth', 'twelv', 'twenti', 'veri', 'wa', 'whatev', 'whenc', 'whenev', 'wherea', 'whereaft', 'wherebi', 'wherev', 'whi', 'yourselv'] not in stop_words.\n  'stop_words.' % sorted(inconsistent))\n"
       }
      ],
      "source": "vectoriser = TfidfVectorizer(tokenizer=uf.tokenize, stop_words='english')\ntfidf_model = vectoriser.fit_transform(data.content_text_w_o_tags)",
      "start_time": "2020-03-23T14:10:26.543Z"
     },
     {
      "end_time": "2020-03-23T14:32:07.548Z",
      "execution_time": "1m 14.9s",
      "outputs": [
       {
        "name": "stderr",
        "output_type": "stream",
        "text": "C:\\Users\\heck_ti\\AppData\\Roaming\\Python\\Python37\\site-packages\\sklearn\\feature_extraction\\text.py:300: UserWarning: Your stop_words may be inconsistent with your preprocessing. Tokenizing the stop words generated tokens ['abov', 'afterward', 'alon', 'alreadi', 'alway', 'ani', 'anoth', 'anyon', 'anyth', 'anywher', 'becam', 'becaus', 'becom', 'befor', 'besid', 'cri', 'describ', 'dure', 'els', 'elsewher', 'empti', 'everi', 'everyon', 'everyth', 'everywher', 'fifti', 'formerli', 'forti', 'ha', 'henc', 'hereaft', 'herebi', 'hi', 'howev', 'hundr', 'inde', 'latterli', 'mani', 'meanwhil', 'moreov', 'mostli', 'nobodi', 'noon', 'noth', 'nowher', 'onc', 'onli', 'otherwis', 'ourselv', 'perhap', 'pleas', 'seriou', 'sever', 'sinc', 'sincer', 'sixti', 'someon', 'someth', 'sometim', 'somewher', 'themselv', 'thenc', 'thereaft', 'therebi', 'therefor', 'thi', 'thu', 'togeth', 'twelv', 'twenti', 'veri', 'wa', 'whatev', 'whenc', 'whenev', 'wherea', 'whereaft', 'wherebi', 'wherev', 'whi', 'yourselv'] not in stop_words.\n  'stop_words.' % sorted(inconsistent))\n"
       }
      ],
      "source": "vectoriser = TfidfVectorizer(tokenizer=uf.tokenize, stop_words='english')\ntfidf_model = vectoriser.fit_transform(data.content_text_w_o_tags)",
      "start_time": "2020-03-23T14:30:52.674Z"
     },
     {
      "end_time": "2020-03-23T14:37:05.773Z",
      "execution_time": "1m 9.76s",
      "outputs": [
       {
        "name": "stderr",
        "output_type": "stream",
        "text": "C:\\Users\\heck_ti\\AppData\\Roaming\\Python\\Python37\\site-packages\\sklearn\\feature_extraction\\text.py:300: UserWarning: Your stop_words may be inconsistent with your preprocessing. Tokenizing the stop words generated tokens ['abov', 'afterward', 'alon', 'alreadi', 'alway', 'ani', 'anoth', 'anyon', 'anyth', 'anywher', 'becam', 'becaus', 'becom', 'befor', 'besid', 'cri', 'describ', 'dure', 'els', 'elsewher', 'empti', 'everi', 'everyon', 'everyth', 'everywher', 'fifti', 'formerli', 'forti', 'ha', 'henc', 'hereaft', 'herebi', 'hi', 'howev', 'hundr', 'inde', 'latterli', 'mani', 'meanwhil', 'moreov', 'mostli', 'nobodi', 'noon', 'noth', 'nowher', 'onc', 'onli', 'otherwis', 'ourselv', 'perhap', 'pleas', 'seriou', 'sever', 'sinc', 'sincer', 'sixti', 'someon', 'someth', 'sometim', 'somewher', 'themselv', 'thenc', 'thereaft', 'therebi', 'therefor', 'thi', 'thu', 'togeth', 'twelv', 'twenti', 'veri', 'wa', 'whatev', 'whenc', 'whenev', 'wherea', 'whereaft', 'wherebi', 'wherev', 'whi', 'yourselv'] not in stop_words.\n  'stop_words.' % sorted(inconsistent))\n"
       }
      ],
      "source": "vectoriser = TfidfVectorizer(tokenizer=uf.tokenize, stop_words='english')\ntfidf_model = vectoriser.fit_transform(data.content_text_w_o_tags)",
      "start_time": "2020-03-23T14:35:56.014Z"
     },
     {
      "end_time": "2020-03-23T14:42:44.210Z",
      "execution_time": "1m 6.57s",
      "outputs": [
       {
        "name": "stderr",
        "output_type": "stream",
        "text": "C:\\Users\\heck_ti\\AppData\\Roaming\\Python\\Python37\\site-packages\\sklearn\\feature_extraction\\text.py:300: UserWarning: Your stop_words may be inconsistent with your preprocessing. Tokenizing the stop words generated tokens ['abov', 'afterward', 'alon', 'alreadi', 'alway', 'ani', 'anoth', 'anyon', 'anyth', 'anywher', 'becam', 'becaus', 'becom', 'befor', 'besid', 'cri', 'describ', 'dure', 'els', 'elsewher', 'empti', 'everi', 'everyon', 'everyth', 'everywher', 'fifti', 'formerli', 'forti', 'ha', 'henc', 'hereaft', 'herebi', 'hi', 'howev', 'hundr', 'inde', 'latterli', 'mani', 'meanwhil', 'moreov', 'mostli', 'nobodi', 'noon', 'noth', 'nowher', 'onc', 'onli', 'otherwis', 'ourselv', 'perhap', 'pleas', 'seriou', 'sever', 'sinc', 'sincer', 'sixti', 'someon', 'someth', 'sometim', 'somewher', 'themselv', 'thenc', 'thereaft', 'therebi', 'therefor', 'thi', 'thu', 'togeth', 'twelv', 'twenti', 'veri', 'wa', 'whatev', 'whenc', 'whenev', 'wherea', 'whereaft', 'wherebi', 'wherev', 'whi', 'yourselv'] not in stop_words.\n  'stop_words.' % sorted(inconsistent))\n"
       }
      ],
      "source": "vectoriser = TfidfVectorizer(tokenizer=uf.tokenize, stop_words='english')\ntfidf_model = vectoriser.fit_transform(data.content_text_w_o_tags)",
      "start_time": "2020-03-23T14:41:37.643Z"
     }
    ]
   },
   "outputs": [],
   "source": [
    "stopwords_extension = ['abstr_hyperlink', 'https', 'abstr_number', 'abstr_image', 'http', '_', 'www']\n",
    "stop_words  = stopwords.words('english')\n",
    "stop_words.extend(stopwords_extension)\n",
    "vectoriser = TfidfVectorizer(tokenizer=uf.tokenize, stop_words=stop_words)\n",
    "tfidf_model = vectoriser.fit_transform(data.content_text_w_o_tags)"
   ]
  },
  {
   "cell_type": "markdown",
   "metadata": {},
   "source": [
    "### 2. Topic extraction"
   ]
  },
  {
   "cell_type": "markdown",
   "metadata": {
    "ExecutionTime": {
     "end_time": "2020-03-23T12:26:08.411442Z",
     "start_time": "2020-03-23T12:26:08.395625Z"
    },
    "provenance": [
     {
      "end_time": "2020-03-23T12:26:08.411Z",
      "execution_time": "16ms",
      "outputs": [
       {
        "ename": "SyntaxError",
        "evalue": "invalid syntax (<ipython-input-3-a306916d3a2a>, line 1)",
        "output_type": "error",
        "traceback": [
         "\u001b[1;36m  File \u001b[1;32m\"<ipython-input-3-a306916d3a2a>\"\u001b[1;36m, line \u001b[1;32m1\u001b[0m\n\u001b[1;33m    *Paremeter settings*\u001b[0m\n\u001b[1;37m                      ^\u001b[0m\n\u001b[1;31mSyntaxError\u001b[0m\u001b[1;31m:\u001b[0m invalid syntax\n"
        ]
       }
      ],
      "source": "*Paremeter settings*",
      "start_time": "2020-03-23T12:26:08.395Z"
     },
     {
      "last_modified": "2020-03-23T12:45:47.718Z",
      "source": "**Estimating the number of topics**\n\nThe number of components / topics can be estimated using singular value decomposition (SVD).\nThe explained variance ratio gives a weight to each component. Low values indicate that one cannot gain much more information when the number of components increases."
     },
     {
      "last_modified": "2020-03-23T12:58:29.977Z",
      "source": "**Estimating the number of topics**\n\nThe number of components / topics can be estimated using singular value decomposition (SVD).\nThe explained variance ratio gives a weight to each component. Low values indicate that one cannot gain much more information when the number of components increases."
     }
    ]
   },
   "source": [
    "**Estimating the number of topics**\n",
    "\n",
    "The number of components / topics can be estimated using singular value decomposition (SVD).\n",
    "The explained variance ratio gives a weight to each component. Low values indicate that one cannot gain much more information when the number of components increases."
   ]
  },
  {
   "cell_type": "code",
   "execution_count": null,
   "metadata": {
    "ExecutionTime": {
     "end_time": "2020-03-23T14:43:38.629389Z",
     "start_time": "2020-03-23T14:43:19.427730Z"
    },
    "provenance": [
     {
      "end_time": "2020-03-23T12:51:59.119Z",
      "execution_time": "43ms",
      "outputs": [
       {
        "ename": "SyntaxError",
        "evalue": "invalid syntax (<ipython-input-11-e019ca1d42ef>, line 4)",
        "output_type": "error",
        "traceback": [
         "\u001b[1;36m  File \u001b[1;32m\"<ipython-input-11-e019ca1d42ef>\"\u001b[1;36m, line \u001b[1;32m4\u001b[0m\n\u001b[1;33m    ax.plot(1:svd_res.s.size, svd_res.s)\u001b[0m\n\u001b[1;37m             ^\u001b[0m\n\u001b[1;31mSyntaxError\u001b[0m\u001b[1;31m:\u001b[0m invalid syntax\n"
        ]
       }
      ],
      "source": "svd_res = np.linalg.svd(tfidf_model)\n\nfig, ax = plt.subplots()\nax.plot(1:svd_res.s.size, svd_res.s)\nplt.xlabel('singular value index')\nplt.ylabel('value')\nplt.title(\"Singular values\")\n#test_nmf = NMF(150, init=\"nndsvd\", verbose=1).fit(res)",
      "start_time": "2020-03-23T12:51:59.076Z"
     },
     {
      "end_time": "2020-03-23T12:58:32.026Z",
      "execution_time": "12ms",
      "outputs": [
       {
        "ename": "SyntaxError",
        "evalue": "invalid syntax (<ipython-input-13-92a6e662ea2f>, line 4)",
        "output_type": "error",
        "traceback": [
         "\u001b[1;36m  File \u001b[1;32m\"<ipython-input-13-92a6e662ea2f>\"\u001b[1;36m, line \u001b[1;32m4\u001b[0m\n\u001b[1;33m    ax.plot(1:svd_res.s.size, svd_res.s)\u001b[0m\n\u001b[1;37m             ^\u001b[0m\n\u001b[1;31mSyntaxError\u001b[0m\u001b[1;31m:\u001b[0m invalid syntax\n"
        ]
       }
      ],
      "source": "svd_res = svds(tfidf_model)\n\nfig, ax = plt.subplots()\nax.plot(1:svd_res.s.size, svd_res.s)\nplt.xlabel('singular value index')\nplt.ylabel('value')\nplt.title(\"Singular values\")\n#test_nmf = NMF(150, init=\"nndsvd\", verbose=1).fit(res)",
      "start_time": "2020-03-23T12:58:32.014Z"
     },
     {
      "end_time": "2020-03-23T12:59:49.525Z",
      "execution_time": "15ms",
      "outputs": [
       {
        "ename": "SyntaxError",
        "evalue": "invalid syntax (<ipython-input-14-f3d53368c34e>, line 4)",
        "output_type": "error",
        "traceback": [
         "\u001b[1;36m  File \u001b[1;32m\"<ipython-input-14-f3d53368c34e>\"\u001b[1;36m, line \u001b[1;32m4\u001b[0m\n\u001b[1;33m    ax.plot(1:svd_res.s.size, svd_res.s)\u001b[0m\n\u001b[1;37m             ^\u001b[0m\n\u001b[1;31mSyntaxError\u001b[0m\u001b[1;31m:\u001b[0m invalid syntax\n"
        ]
       }
      ],
      "source": "u, s, vt = svds(tfidf_model)\n\nfig, ax = plt.subplots()\nax.plot(1:svd_res.s.size, svd_res.s)\nplt.xlabel('singular value index')\nplt.ylabel('value')\nplt.title(\"Singular values\")\n#test_nmf = NMF(150, init=\"nndsvd\", verbose=1).fit(res)",
      "start_time": "2020-03-23T12:59:49.510Z"
     },
     {
      "end_time": "2020-03-23T13:04:35.420Z",
      "execution_time": "15ms",
      "outputs": [
       {
        "ename": "SyntaxError",
        "evalue": "invalid syntax (<ipython-input-16-900c00649708>, line 4)",
        "output_type": "error",
        "traceback": [
         "\u001b[1;36m  File \u001b[1;32m\"<ipython-input-16-900c00649708>\"\u001b[1;36m, line \u001b[1;32m4\u001b[0m\n\u001b[1;33m    ax.plot(1:svd_res.s.size, svd_res.s)\u001b[0m\n\u001b[1;37m             ^\u001b[0m\n\u001b[1;31mSyntaxError\u001b[0m\u001b[1;31m:\u001b[0m invalid syntax\n"
        ]
       }
      ],
      "source": "u, s, vt = svds(tfidf_model, k = 250)\n\nfig, ax = plt.subplots()\nax.plot(1:svd_res.s.size, svd_res.s)\nplt.xlabel('singular value index')\nplt.ylabel('value')\nplt.title(\"Singular values\")\n#test_nmf = NMF(150, init=\"nndsvd\", verbose=1).fit(res)",
      "start_time": "2020-03-23T13:04:35.405Z"
     },
     {
      "end_time": "2020-03-23T13:14:00.879Z",
      "execution_time": "21.3s",
      "outputs": [
       {
        "data": {
         "text/plain": "Text(0.5, 1.0, 'Singular values')"
        },
        "execution_count": 17,
        "metadata": {},
        "output_type": "execute_result"
       },
       {
        "data": {
         "image/png": "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\n",
         "text/plain": "<Figure size 432x288 with 1 Axes>"
        },
        "metadata": {
         "needs_background": "light"
        },
        "output_type": "display_data",
        "transient": {}
       }
      ],
      "source": "u, s, vt = svds(tfidf_model, k = 250)\n\nfig, ax = plt.subplots()\nax.plot(s, s)\nplt.xlabel('singular value index')\nplt.ylabel('value')\nplt.title(\"Singular values\")\n#test_nmf = NMF(150, init=\"nndsvd\", verbose=1).fit(res)",
      "start_time": "2020-03-23T13:13:39.586Z"
     },
     {
      "end_time": "2020-03-23T14:11:58.612Z",
      "execution_time": "21.0s",
      "outputs": [],
      "source": "u, s, vt = svds(tfidf_model, k = 250)",
      "start_time": "2020-03-23T14:11:37.608Z"
     },
     {
      "end_time": "2020-03-23T14:43:38.629Z",
      "execution_time": "19.2s",
      "outputs": [],
      "source": "u, s, vt = svds(tfidf_model, k = 250)",
      "start_time": "2020-03-23T14:43:19.427Z"
     }
    ]
   },
   "outputs": [],
   "source": [
    "u, s, vt = svds(tfidf_model, k = 250)"
   ]
  },
  {
   "cell_type": "code",
   "execution_count": null,
   "metadata": {},
   "outputs": [],
   "source": [
    "from kneed import KneeLocator\n"
   ]
  },
  {
   "cell_type": "code",
   "execution_count": null,
   "metadata": {
    "ExecutionTime": {
     "end_time": "2020-03-23T14:43:38.740678Z",
     "start_time": "2020-03-23T14:43:38.629389Z"
    },
    "provenance": [
     {
      "end_time": "2020-03-23T13:17:36.793Z",
      "execution_time": "19ms",
      "outputs": [
       {
        "ename": "SyntaxError",
        "evalue": "invalid syntax (<ipython-input-18-d0450fb7b9d9>, line 2)",
        "output_type": "error",
        "traceback": [
         "\u001b[1;36m  File \u001b[1;32m\"<ipython-input-18-d0450fb7b9d9>\"\u001b[1;36m, line \u001b[1;32m2\u001b[0m\n\u001b[1;33m    ax.plot([i for i in 1:s.size], [v for v in reversed(s)])\u001b[0m\n\u001b[1;37m                         ^\u001b[0m\n\u001b[1;31mSyntaxError\u001b[0m\u001b[1;31m:\u001b[0m invalid syntax\n"
        ]
       }
      ],
      "source": "fig, ax = plt.subplots()\nax.plot([i for i in 1:s.size], [v for v in reversed(s)])\nplt.xlabel('singular value index')\nplt.ylabel('value')\nplt.title(\"Singular values\")",
      "start_time": "2020-03-23T13:17:36.774Z"
     },
     {
      "end_time": "2020-03-23T13:18:16.466Z",
      "execution_time": "220ms",
      "outputs": [
       {
        "ename": "RuntimeError",
        "evalue": "matplotlib does not support generators as input",
        "output_type": "error",
        "traceback": [
         "\u001b[1;31m---------------------------------------------------------------------------\u001b[0m",
         "\u001b[1;31mKeyError\u001b[0m                                  Traceback (most recent call last)",
         "\u001b[1;32m~\\AppData\\Local\\Continuum\\anaconda3\\lib\\site-packages\\matplotlib\\units.py\u001b[0m in \u001b[0;36mget_converter\u001b[1;34m(self, x)\u001b[0m\n\u001b[0;32m    154\u001b[0m         \u001b[1;32mtry\u001b[0m\u001b[1;33m:\u001b[0m  \u001b[1;31m# Look up in the cache.\u001b[0m\u001b[1;33m\u001b[0m\u001b[1;33m\u001b[0m\u001b[0m\n\u001b[1;32m--> 155\u001b[1;33m             \u001b[1;32mreturn\u001b[0m \u001b[0mself\u001b[0m\u001b[1;33m[\u001b[0m\u001b[0mtype\u001b[0m\u001b[1;33m(\u001b[0m\u001b[0mx\u001b[0m\u001b[1;33m)\u001b[0m\u001b[1;33m]\u001b[0m\u001b[1;33m\u001b[0m\u001b[1;33m\u001b[0m\u001b[0m\n\u001b[0m\u001b[0;32m    156\u001b[0m         \u001b[1;32mexcept\u001b[0m \u001b[0mKeyError\u001b[0m\u001b[1;33m:\u001b[0m\u001b[1;33m\u001b[0m\u001b[1;33m\u001b[0m\u001b[0m\n",
         "\u001b[1;31mKeyError\u001b[0m: <class 'numpy.ndarray'>",
         "\nDuring handling of the above exception, another exception occurred:\n",
         "\u001b[1;31mKeyError\u001b[0m                                  Traceback (most recent call last)",
         "\u001b[1;32m~\\AppData\\Local\\Continuum\\anaconda3\\lib\\site-packages\\matplotlib\\units.py\u001b[0m in \u001b[0;36mget_converter\u001b[1;34m(self, x)\u001b[0m\n\u001b[0;32m    154\u001b[0m         \u001b[1;32mtry\u001b[0m\u001b[1;33m:\u001b[0m  \u001b[1;31m# Look up in the cache.\u001b[0m\u001b[1;33m\u001b[0m\u001b[1;33m\u001b[0m\u001b[0m\n\u001b[1;32m--> 155\u001b[1;33m             \u001b[1;32mreturn\u001b[0m \u001b[0mself\u001b[0m\u001b[1;33m[\u001b[0m\u001b[0mtype\u001b[0m\u001b[1;33m(\u001b[0m\u001b[0mx\u001b[0m\u001b[1;33m)\u001b[0m\u001b[1;33m]\u001b[0m\u001b[1;33m\u001b[0m\u001b[1;33m\u001b[0m\u001b[0m\n\u001b[0m\u001b[0;32m    156\u001b[0m         \u001b[1;32mexcept\u001b[0m \u001b[0mKeyError\u001b[0m\u001b[1;33m:\u001b[0m\u001b[1;33m\u001b[0m\u001b[1;33m\u001b[0m\u001b[0m\n",
         "\u001b[1;31mKeyError\u001b[0m: <class 'reversed'>",
         "\nDuring handling of the above exception, another exception occurred:\n",
         "\u001b[1;31mRuntimeError\u001b[0m                              Traceback (most recent call last)",
         "\u001b[1;32m<ipython-input-19-a4694f16d2d1>\u001b[0m in \u001b[0;36m<module>\u001b[1;34m\u001b[0m\n\u001b[0;32m      1\u001b[0m \u001b[0mfig\u001b[0m\u001b[1;33m,\u001b[0m \u001b[0max\u001b[0m \u001b[1;33m=\u001b[0m \u001b[0mplt\u001b[0m\u001b[1;33m.\u001b[0m\u001b[0msubplots\u001b[0m\u001b[1;33m(\u001b[0m\u001b[1;33m)\u001b[0m\u001b[1;33m\u001b[0m\u001b[1;33m\u001b[0m\u001b[0m\n\u001b[1;32m----> 2\u001b[1;33m \u001b[0max\u001b[0m\u001b[1;33m.\u001b[0m\u001b[0mplot\u001b[0m\u001b[1;33m(\u001b[0m\u001b[0mrange\u001b[0m\u001b[1;33m(\u001b[0m\u001b[1;36m1\u001b[0m\u001b[1;33m,\u001b[0m\u001b[0ms\u001b[0m\u001b[1;33m.\u001b[0m\u001b[0msize\u001b[0m\u001b[1;33m)\u001b[0m\u001b[1;33m,\u001b[0m \u001b[0mreversed\u001b[0m\u001b[1;33m(\u001b[0m\u001b[0ms\u001b[0m\u001b[1;33m)\u001b[0m\u001b[1;33m)\u001b[0m\u001b[1;33m\u001b[0m\u001b[1;33m\u001b[0m\u001b[0m\n\u001b[0m\u001b[0;32m      3\u001b[0m \u001b[0mplt\u001b[0m\u001b[1;33m.\u001b[0m\u001b[0mxlabel\u001b[0m\u001b[1;33m(\u001b[0m\u001b[1;34m'singular value index'\u001b[0m\u001b[1;33m)\u001b[0m\u001b[1;33m\u001b[0m\u001b[1;33m\u001b[0m\u001b[0m\n\u001b[0;32m      4\u001b[0m \u001b[0mplt\u001b[0m\u001b[1;33m.\u001b[0m\u001b[0mylabel\u001b[0m\u001b[1;33m(\u001b[0m\u001b[1;34m'value'\u001b[0m\u001b[1;33m)\u001b[0m\u001b[1;33m\u001b[0m\u001b[1;33m\u001b[0m\u001b[0m\n\u001b[0;32m      5\u001b[0m \u001b[0mplt\u001b[0m\u001b[1;33m.\u001b[0m\u001b[0mtitle\u001b[0m\u001b[1;33m(\u001b[0m\u001b[1;34m\"Singular values\"\u001b[0m\u001b[1;33m)\u001b[0m\u001b[1;33m\u001b[0m\u001b[1;33m\u001b[0m\u001b[0m\n",
         "\u001b[1;32m~\\AppData\\Local\\Continuum\\anaconda3\\lib\\site-packages\\matplotlib\\axes\\_axes.py\u001b[0m in \u001b[0;36mplot\u001b[1;34m(self, scalex, scaley, data, *args, **kwargs)\u001b[0m\n\u001b[0;32m   1664\u001b[0m         \"\"\"\n\u001b[0;32m   1665\u001b[0m         \u001b[0mkwargs\u001b[0m \u001b[1;33m=\u001b[0m \u001b[0mcbook\u001b[0m\u001b[1;33m.\u001b[0m\u001b[0mnormalize_kwargs\u001b[0m\u001b[1;33m(\u001b[0m\u001b[0mkwargs\u001b[0m\u001b[1;33m,\u001b[0m \u001b[0mmlines\u001b[0m\u001b[1;33m.\u001b[0m\u001b[0mLine2D\u001b[0m\u001b[1;33m.\u001b[0m\u001b[0m_alias_map\u001b[0m\u001b[1;33m)\u001b[0m\u001b[1;33m\u001b[0m\u001b[1;33m\u001b[0m\u001b[0m\n\u001b[1;32m-> 1666\u001b[1;33m         \u001b[0mlines\u001b[0m \u001b[1;33m=\u001b[0m \u001b[1;33m[\u001b[0m\u001b[1;33m*\u001b[0m\u001b[0mself\u001b[0m\u001b[1;33m.\u001b[0m\u001b[0m_get_lines\u001b[0m\u001b[1;33m(\u001b[0m\u001b[1;33m*\u001b[0m\u001b[0margs\u001b[0m\u001b[1;33m,\u001b[0m \u001b[0mdata\u001b[0m\u001b[1;33m=\u001b[0m\u001b[0mdata\u001b[0m\u001b[1;33m,\u001b[0m \u001b[1;33m**\u001b[0m\u001b[0mkwargs\u001b[0m\u001b[1;33m)\u001b[0m\u001b[1;33m]\u001b[0m\u001b[1;33m\u001b[0m\u001b[1;33m\u001b[0m\u001b[0m\n\u001b[0m\u001b[0;32m   1667\u001b[0m         \u001b[1;32mfor\u001b[0m \u001b[0mline\u001b[0m \u001b[1;32min\u001b[0m \u001b[0mlines\u001b[0m\u001b[1;33m:\u001b[0m\u001b[1;33m\u001b[0m\u001b[1;33m\u001b[0m\u001b[0m\n\u001b[0;32m   1668\u001b[0m             \u001b[0mself\u001b[0m\u001b[1;33m.\u001b[0m\u001b[0madd_line\u001b[0m\u001b[1;33m(\u001b[0m\u001b[0mline\u001b[0m\u001b[1;33m)\u001b[0m\u001b[1;33m\u001b[0m\u001b[1;33m\u001b[0m\u001b[0m\n",
         "\u001b[1;32m~\\AppData\\Local\\Continuum\\anaconda3\\lib\\site-packages\\matplotlib\\axes\\_base.py\u001b[0m in \u001b[0;36m__call__\u001b[1;34m(self, *args, **kwargs)\u001b[0m\n\u001b[0;32m    223\u001b[0m                 \u001b[0mthis\u001b[0m \u001b[1;33m+=\u001b[0m \u001b[0margs\u001b[0m\u001b[1;33m[\u001b[0m\u001b[1;36m0\u001b[0m\u001b[1;33m]\u001b[0m\u001b[1;33m,\u001b[0m\u001b[1;33m\u001b[0m\u001b[1;33m\u001b[0m\u001b[0m\n\u001b[0;32m    224\u001b[0m                 \u001b[0margs\u001b[0m \u001b[1;33m=\u001b[0m \u001b[0margs\u001b[0m\u001b[1;33m[\u001b[0m\u001b[1;36m1\u001b[0m\u001b[1;33m:\u001b[0m\u001b[1;33m]\u001b[0m\u001b[1;33m\u001b[0m\u001b[1;33m\u001b[0m\u001b[0m\n\u001b[1;32m--> 225\u001b[1;33m             \u001b[1;32myield\u001b[0m \u001b[1;32mfrom\u001b[0m \u001b[0mself\u001b[0m\u001b[1;33m.\u001b[0m\u001b[0m_plot_args\u001b[0m\u001b[1;33m(\u001b[0m\u001b[0mthis\u001b[0m\u001b[1;33m,\u001b[0m \u001b[0mkwargs\u001b[0m\u001b[1;33m)\u001b[0m\u001b[1;33m\u001b[0m\u001b[1;33m\u001b[0m\u001b[0m\n\u001b[0m\u001b[0;32m    226\u001b[0m \u001b[1;33m\u001b[0m\u001b[0m\n\u001b[0;32m    227\u001b[0m     \u001b[1;32mdef\u001b[0m \u001b[0mget_next_color\u001b[0m\u001b[1;33m(\u001b[0m\u001b[0mself\u001b[0m\u001b[1;33m)\u001b[0m\u001b[1;33m:\u001b[0m\u001b[1;33m\u001b[0m\u001b[1;33m\u001b[0m\u001b[0m\n",
         "\u001b[1;32m~\\AppData\\Local\\Continuum\\anaconda3\\lib\\site-packages\\matplotlib\\axes\\_base.py\u001b[0m in \u001b[0;36m_plot_args\u001b[1;34m(self, tup, kwargs)\u001b[0m\n\u001b[0;32m    389\u001b[0m             \u001b[0mx\u001b[0m\u001b[1;33m,\u001b[0m \u001b[0my\u001b[0m \u001b[1;33m=\u001b[0m \u001b[0mindex_of\u001b[0m\u001b[1;33m(\u001b[0m\u001b[0mtup\u001b[0m\u001b[1;33m[\u001b[0m\u001b[1;33m-\u001b[0m\u001b[1;36m1\u001b[0m\u001b[1;33m]\u001b[0m\u001b[1;33m)\u001b[0m\u001b[1;33m\u001b[0m\u001b[1;33m\u001b[0m\u001b[0m\n\u001b[0;32m    390\u001b[0m \u001b[1;33m\u001b[0m\u001b[0m\n\u001b[1;32m--> 391\u001b[1;33m         \u001b[0mx\u001b[0m\u001b[1;33m,\u001b[0m \u001b[0my\u001b[0m \u001b[1;33m=\u001b[0m \u001b[0mself\u001b[0m\u001b[1;33m.\u001b[0m\u001b[0m_xy_from_xy\u001b[0m\u001b[1;33m(\u001b[0m\u001b[0mx\u001b[0m\u001b[1;33m,\u001b[0m \u001b[0my\u001b[0m\u001b[1;33m)\u001b[0m\u001b[1;33m\u001b[0m\u001b[1;33m\u001b[0m\u001b[0m\n\u001b[0m\u001b[0;32m    392\u001b[0m \u001b[1;33m\u001b[0m\u001b[0m\n\u001b[0;32m    393\u001b[0m         \u001b[1;32mif\u001b[0m \u001b[0mself\u001b[0m\u001b[1;33m.\u001b[0m\u001b[0mcommand\u001b[0m \u001b[1;33m==\u001b[0m \u001b[1;34m'plot'\u001b[0m\u001b[1;33m:\u001b[0m\u001b[1;33m\u001b[0m\u001b[1;33m\u001b[0m\u001b[0m\n",
         "\u001b[1;32m~\\AppData\\Local\\Continuum\\anaconda3\\lib\\site-packages\\matplotlib\\axes\\_base.py\u001b[0m in \u001b[0;36m_xy_from_xy\u001b[1;34m(self, x, y)\u001b[0m\n\u001b[0;32m    242\u001b[0m         \u001b[1;32mif\u001b[0m \u001b[0mself\u001b[0m\u001b[1;33m.\u001b[0m\u001b[0maxes\u001b[0m\u001b[1;33m.\u001b[0m\u001b[0mxaxis\u001b[0m \u001b[1;32mis\u001b[0m \u001b[1;32mnot\u001b[0m \u001b[1;32mNone\u001b[0m \u001b[1;32mand\u001b[0m \u001b[0mself\u001b[0m\u001b[1;33m.\u001b[0m\u001b[0maxes\u001b[0m\u001b[1;33m.\u001b[0m\u001b[0myaxis\u001b[0m \u001b[1;32mis\u001b[0m \u001b[1;32mnot\u001b[0m \u001b[1;32mNone\u001b[0m\u001b[1;33m:\u001b[0m\u001b[1;33m\u001b[0m\u001b[1;33m\u001b[0m\u001b[0m\n\u001b[0;32m    243\u001b[0m             \u001b[0mbx\u001b[0m \u001b[1;33m=\u001b[0m \u001b[0mself\u001b[0m\u001b[1;33m.\u001b[0m\u001b[0maxes\u001b[0m\u001b[1;33m.\u001b[0m\u001b[0mxaxis\u001b[0m\u001b[1;33m.\u001b[0m\u001b[0mupdate_units\u001b[0m\u001b[1;33m(\u001b[0m\u001b[0mx\u001b[0m\u001b[1;33m)\u001b[0m\u001b[1;33m\u001b[0m\u001b[1;33m\u001b[0m\u001b[0m\n\u001b[1;32m--> 244\u001b[1;33m             \u001b[0mby\u001b[0m \u001b[1;33m=\u001b[0m \u001b[0mself\u001b[0m\u001b[1;33m.\u001b[0m\u001b[0maxes\u001b[0m\u001b[1;33m.\u001b[0m\u001b[0myaxis\u001b[0m\u001b[1;33m.\u001b[0m\u001b[0mupdate_units\u001b[0m\u001b[1;33m(\u001b[0m\u001b[0my\u001b[0m\u001b[1;33m)\u001b[0m\u001b[1;33m\u001b[0m\u001b[1;33m\u001b[0m\u001b[0m\n\u001b[0m\u001b[0;32m    245\u001b[0m \u001b[1;33m\u001b[0m\u001b[0m\n\u001b[0;32m    246\u001b[0m             \u001b[1;32mif\u001b[0m \u001b[0mself\u001b[0m\u001b[1;33m.\u001b[0m\u001b[0mcommand\u001b[0m \u001b[1;33m!=\u001b[0m \u001b[1;34m'plot'\u001b[0m\u001b[1;33m:\u001b[0m\u001b[1;33m\u001b[0m\u001b[1;33m\u001b[0m\u001b[0m\n",
         "\u001b[1;32m~\\AppData\\Local\\Continuum\\anaconda3\\lib\\site-packages\\matplotlib\\axis.py\u001b[0m in \u001b[0;36mupdate_units\u001b[1;34m(self, data)\u001b[0m\n\u001b[0;32m   1485\u001b[0m         \"\"\"\n\u001b[0;32m   1486\u001b[0m \u001b[1;33m\u001b[0m\u001b[0m\n\u001b[1;32m-> 1487\u001b[1;33m         \u001b[0mconverter\u001b[0m \u001b[1;33m=\u001b[0m \u001b[0mmunits\u001b[0m\u001b[1;33m.\u001b[0m\u001b[0mregistry\u001b[0m\u001b[1;33m.\u001b[0m\u001b[0mget_converter\u001b[0m\u001b[1;33m(\u001b[0m\u001b[0mdata\u001b[0m\u001b[1;33m)\u001b[0m\u001b[1;33m\u001b[0m\u001b[1;33m\u001b[0m\u001b[0m\n\u001b[0m\u001b[0;32m   1488\u001b[0m         \u001b[1;32mif\u001b[0m \u001b[0mconverter\u001b[0m \u001b[1;32mis\u001b[0m \u001b[1;32mNone\u001b[0m\u001b[1;33m:\u001b[0m\u001b[1;33m\u001b[0m\u001b[1;33m\u001b[0m\u001b[0m\n\u001b[0;32m   1489\u001b[0m             \u001b[1;32mreturn\u001b[0m \u001b[1;32mFalse\u001b[0m\u001b[1;33m\u001b[0m\u001b[1;33m\u001b[0m\u001b[0m\n",
         "\u001b[1;32m~\\AppData\\Local\\Continuum\\anaconda3\\lib\\site-packages\\matplotlib\\units.py\u001b[0m in \u001b[0;36mget_converter\u001b[1;34m(self, x)\u001b[0m\n\u001b[0;32m    163\u001b[0m                 \u001b[1;31m# where indexing returns instances of the same iterable class.\u001b[0m\u001b[1;33m\u001b[0m\u001b[1;33m\u001b[0m\u001b[1;33m\u001b[0m\u001b[0m\n\u001b[0;32m    164\u001b[0m                 \u001b[1;32mif\u001b[0m \u001b[0mtype\u001b[0m\u001b[1;33m(\u001b[0m\u001b[0mfirst\u001b[0m\u001b[1;33m)\u001b[0m \u001b[1;32mis\u001b[0m \u001b[1;32mnot\u001b[0m \u001b[0mtype\u001b[0m\u001b[1;33m(\u001b[0m\u001b[0mx\u001b[0m\u001b[1;33m)\u001b[0m\u001b[1;33m:\u001b[0m\u001b[1;33m\u001b[0m\u001b[1;33m\u001b[0m\u001b[0m\n\u001b[1;32m--> 165\u001b[1;33m                     \u001b[1;32mreturn\u001b[0m \u001b[0mself\u001b[0m\u001b[1;33m.\u001b[0m\u001b[0mget_converter\u001b[0m\u001b[1;33m(\u001b[0m\u001b[0mfirst\u001b[0m\u001b[1;33m)\u001b[0m\u001b[1;33m\u001b[0m\u001b[1;33m\u001b[0m\u001b[0m\n\u001b[0m\u001b[0;32m    166\u001b[0m         \u001b[1;32mreturn\u001b[0m \u001b[1;32mNone\u001b[0m\u001b[1;33m\u001b[0m\u001b[1;33m\u001b[0m\u001b[0m\n\u001b[0;32m    167\u001b[0m \u001b[1;33m\u001b[0m\u001b[0m\n",
         "\u001b[1;32m~\\AppData\\Local\\Continuum\\anaconda3\\lib\\site-packages\\matplotlib\\units.py\u001b[0m in \u001b[0;36mget_converter\u001b[1;34m(self, x)\u001b[0m\n\u001b[0;32m    156\u001b[0m         \u001b[1;32mexcept\u001b[0m \u001b[0mKeyError\u001b[0m\u001b[1;33m:\u001b[0m\u001b[1;33m\u001b[0m\u001b[1;33m\u001b[0m\u001b[0m\n\u001b[0;32m    157\u001b[0m             \u001b[1;32mtry\u001b[0m\u001b[1;33m:\u001b[0m  \u001b[1;31m# If cache lookup fails, look up based on first element...\u001b[0m\u001b[1;33m\u001b[0m\u001b[1;33m\u001b[0m\u001b[0m\n\u001b[1;32m--> 158\u001b[1;33m                 \u001b[0mfirst\u001b[0m \u001b[1;33m=\u001b[0m \u001b[0mcbook\u001b[0m\u001b[1;33m.\u001b[0m\u001b[0msafe_first_element\u001b[0m\u001b[1;33m(\u001b[0m\u001b[0mx\u001b[0m\u001b[1;33m)\u001b[0m\u001b[1;33m\u001b[0m\u001b[1;33m\u001b[0m\u001b[0m\n\u001b[0m\u001b[0;32m    159\u001b[0m             \u001b[1;32mexcept\u001b[0m \u001b[1;33m(\u001b[0m\u001b[0mTypeError\u001b[0m\u001b[1;33m,\u001b[0m \u001b[0mStopIteration\u001b[0m\u001b[1;33m)\u001b[0m\u001b[1;33m:\u001b[0m\u001b[1;33m\u001b[0m\u001b[1;33m\u001b[0m\u001b[0m\n\u001b[0;32m    160\u001b[0m                 \u001b[1;32mpass\u001b[0m\u001b[1;33m\u001b[0m\u001b[1;33m\u001b[0m\u001b[0m\n",
         "\u001b[1;32m~\\AppData\\Local\\Continuum\\anaconda3\\lib\\site-packages\\matplotlib\\cbook\\__init__.py\u001b[0m in \u001b[0;36msafe_first_element\u001b[1;34m(obj)\u001b[0m\n\u001b[0;32m   1660\u001b[0m         \u001b[1;32mexcept\u001b[0m \u001b[0mTypeError\u001b[0m\u001b[1;33m:\u001b[0m\u001b[1;33m\u001b[0m\u001b[1;33m\u001b[0m\u001b[0m\n\u001b[0;32m   1661\u001b[0m             \u001b[1;32mpass\u001b[0m\u001b[1;33m\u001b[0m\u001b[1;33m\u001b[0m\u001b[0m\n\u001b[1;32m-> 1662\u001b[1;33m         raise RuntimeError(\"matplotlib does not support generators \"\n\u001b[0m\u001b[0;32m   1663\u001b[0m                            \"as input\")\n\u001b[0;32m   1664\u001b[0m     \u001b[1;32mreturn\u001b[0m \u001b[0mnext\u001b[0m\u001b[1;33m(\u001b[0m\u001b[0miter\u001b[0m\u001b[1;33m(\u001b[0m\u001b[0mobj\u001b[0m\u001b[1;33m)\u001b[0m\u001b[1;33m)\u001b[0m\u001b[1;33m\u001b[0m\u001b[1;33m\u001b[0m\u001b[0m\n",
         "\u001b[1;31mRuntimeError\u001b[0m: matplotlib does not support generators as input"
        ]
       },
       {
        "data": {
         "image/png": "iVBORw0KGgoAAAANSUhEUgAAAXwAAAD8CAYAAAB0IB+mAAAABHNCSVQICAgIfAhkiAAAAAlwSFlzAAALEgAACxIB0t1+/AAAADh0RVh0U29mdHdhcmUAbWF0cGxvdGxpYiB2ZXJzaW9uMy4xLjEsIGh0dHA6Ly9tYXRwbG90bGliLm9yZy8QZhcZAAANgElEQVR4nO3ccYjfd33H8efLxE6mtY7lBEmi7Vi6Gsqg7ug6hFnRjbR/JP8USaC4SmnArQ5mETocKvWvKUMQsmm2iVPQWv1DD4nkD1fpECO50lmalMAtOnNE6Fm7/lO0Znvvj99P77hcct/e/e4u3vv5gMDv+/t9fr9758PdM798f/f7paqQJG1/r9rqASRJm8PgS1ITBl+SmjD4ktSEwZekJgy+JDWxavCTfC7Jc0meucLtSfLpJHNJnk7ytsmPKUlaryHP8D8PHLjK7XcB+8Z/jgL/tP6xJEmTtmrwq+oJ4GdXWXII+EKNnALekORNkxpQkjQZOyfwGLuBC0uO58fX/WT5wiRHGf0vgNe+9rV/dMstt0zgy0tSH08++eRPq2pqLfedRPCzwnUrfl5DVR0HjgNMT0/X7OzsBL68JPWR5L/Xet9J/JbOPLB3yfEe4OIEHleSNEGTCP4M8N7xb+vcAbxYVZedzpEkba1VT+kk+TJwJ7AryTzwUeDVAFX1GeAEcDcwB7wEvG+jhpUkrd2qwa+qI6vcXsBfTWwiSdKG8J22ktSEwZekJgy+JDVh8CWpCYMvSU0YfElqwuBLUhMGX5KaMPiS1ITBl6QmDL4kNWHwJakJgy9JTRh8SWrC4EtSEwZfkpow+JLUhMGXpCYMviQ1YfAlqQmDL0lNGHxJasLgS1ITBl+SmjD4ktSEwZekJgy+JDVh8CWpCYMvSU0YfElqwuBLUhMGX5KaMPiS1ITBl6QmDL4kNTEo+EkOJDmXZC7Jwyvc/uYkjyd5KsnTSe6e/KiSpPVYNfhJdgDHgLuA/cCRJPuXLfs74LGqug04DPzjpAeVJK3PkGf4twNzVXW+ql4GHgUOLVtTwOvHl28ALk5uREnSJAwJ/m7gwpLj+fF1S30MuDfJPHAC+MBKD5TkaJLZJLMLCwtrGFeStFZDgp8Vrqtlx0eAz1fVHuBu4ItJLnvsqjpeVdNVNT01NfXKp5UkrdmQ4M8De5cc7+HyUzb3A48BVNX3gNcAuyYxoCRpMoYE/zSwL8lNSa5j9KLszLI1PwbeBZDkrYyC7zkbSbqGrBr8qroEPAicBJ5l9Ns4Z5I8kuTgeNlDwANJfgB8Gbivqpaf9pEkbaGdQxZV1QlGL8Yuve4jSy6fBd4+2dEkSZPkO20lqQmDL0lNGHxJasLgS1ITBl+SmjD4ktSEwZekJgy+JDVh8CWpCYMvSU0YfElqwuBLUhMGX5KaMPiS1ITBl6QmDL4kNWHwJakJgy9JTRh8SWrC4EtSEwZfkpow+JLUhMGXpCYMviQ1YfAlqQmDL0lNGHxJasLgS1ITBl+SmjD4ktSEwZekJgy+JDVh8CWpCYMvSU0MCn6SA0nOJZlL8vAV1rwnydkkZ5J8abJjSpLWa+dqC5LsAI4BfwbMA6eTzFTV2SVr9gF/C7y9ql5I8saNGliStDZDnuHfDsxV1fmqehl4FDi0bM0DwLGqegGgqp6b7JiSpPUaEvzdwIUlx/Pj65a6Gbg5yXeTnEpyYKUHSnI0yWyS2YWFhbVNLElakyHBzwrX1bLjncA+4E7gCPAvSd5w2Z2qjlfVdFVNT01NvdJZJUnrMCT488DeJcd7gIsrrPlGVf2yqn4InGP0D4Ak6RoxJPingX1JbkpyHXAYmFm25uvAOwGS7GJ0iuf8JAeVJK3PqsGvqkvAg8BJ4Fngsao6k+SRJAfHy04Czyc5CzwOfKiqnt+ooSVJr1yqlp+O3xzT09M1Ozu7JV9bkn5TJXmyqqbXcl/faStJTRh8SWrC4EtSEwZfkpow+JLUhMGXpCYMviQ1YfAlqQmDL0lNGHxJasLgS1ITBl+SmjD4ktSEwZekJgy+JDVh8CWpCYMvSU0YfElqwuBLUhMGX5KaMPiS1ITBl6QmDL4kNWHwJakJgy9JTRh8SWrC4EtSEwZfkpow+JLUhMGXpCYMviQ1YfAlqQmDL0lNGHxJasLgS1ITg4Kf5ECSc0nmkjx8lXX3JKkk05MbUZI0CasGP8kO4BhwF7AfOJJk/wrrrgf+Gvj+pIeUJK3fkGf4twNzVXW+ql4GHgUOrbDu48AngJ9PcD5J0oQMCf5u4MKS4/nxdb+W5DZgb1V982oPlORoktkkswsLC694WEnS2g0Jfla4rn59Y/Iq4FPAQ6s9UFUdr6rpqpqempoaPqUkad2GBH8e2LvkeA9wccnx9cCtwHeS/Ai4A5jxhVtJurYMCf5pYF+Sm5JcBxwGZn51Y1W9WFW7qurGqroROAUcrKrZDZlYkrQmqwa/qi4BDwIngWeBx6rqTJJHkhzc6AElSZOxc8iiqjoBnFh23UeusPbO9Y8lSZo032krSU0YfElqwuBLUhMGX5KaMPiS1ITBl6QmDL4kNWHwJakJgy9JTRh8SWrC4EtSEwZfkpow+JLUhMGXpCYMviQ1YfAlqQmDL0lNGHxJasLgS1ITBl+SmjD4ktSEwZekJgy+JDVh8CWpCYMvSU0YfElqwuBLUhMGX5KaMPiS1ITBl6QmDL4kNWHwJakJgy9JTRh8SWpiUPCTHEhyLslckodXuP2DSc4meTrJt5O8ZfKjSpLWY9XgJ9kBHAPuAvYDR5LsX7bsKWC6qv4Q+BrwiUkPKklanyHP8G8H5qrqfFW9DDwKHFq6oKoer6qXxoengD2THVOStF5Dgr8buLDkeH583ZXcD3xrpRuSHE0ym2R2YWFh+JSSpHUbEvyscF2tuDC5F5gGPrnS7VV1vKqmq2p6ampq+JSSpHXbOWDNPLB3yfEe4OLyRUneDXwYeEdV/WIy40mSJmXIM/zTwL4kNyW5DjgMzCxdkOQ24LPAwap6bvJjSpLWa9XgV9Ul4EHgJPAs8FhVnUnySJKD42WfBF4HfDXJfyaZucLDSZK2yJBTOlTVCeDEsus+suTyuyc8lyRpwnynrSQ1YfAlqQmDL0lNGHxJasLgS1ITBl+SmjD4ktSEwZekJgy+JDVh8CWpCYMvSU0YfElqwuBLUhMGX5KaMPiS1ITBl6QmDL4kNWHwJakJgy9JTRh8SWrC4EtSEwZfkpow+JLUhMGXpCYMviQ1YfAlqQmDL0lNGHxJasLgS1ITBl+SmjD4ktSEwZekJgy+JDVh8CWpCYMvSU0MCn6SA0nOJZlL8vAKt/9Wkq+Mb/9+khsnPagkaX1WDX6SHcAx4C5gP3Akyf5ly+4HXqiq3wc+Bfz9pAeVJK3PkGf4twNzVXW+ql4GHgUOLVtzCPi38eWvAe9KksmNKUlar50D1uwGLiw5ngf++EprqupSkheB3wV+unRRkqPA0fHhL5I8s5aht6FdLNurxtyLRe7FIvdi0R+s9Y5Dgr/SM/Vawxqq6jhwHCDJbFVND/j62557sci9WOReLHIvFiWZXet9h5zSmQf2LjneA1y80pokO4EbgJ+tdShJ0uQNCf5pYF+Sm5JcBxwGZpatmQH+Ynz5HuDfq+qyZ/iSpK2z6imd8Tn5B4GTwA7gc1V1JskjwGxVzQD/CnwxyRyjZ/aHB3zt4+uYe7txLxa5F4vci0XuxaI170V8Ii5JPfhOW0lqwuBLUhMbHnw/lmHRgL34YJKzSZ5O8u0kb9mKOTfDanuxZN09SSrJtv2VvCF7keQ94++NM0m+tNkzbpYBPyNvTvJ4kqfGPyd3b8WcGy3J55I8d6X3KmXk0+N9ejrJ2wY9cFVt2B9GL/L+F/B7wHXAD4D9y9b8JfCZ8eXDwFc2cqat+jNwL94J/Pb48vs778V43fXAE8ApYHqr597C74t9wFPA74yP37jVc2/hXhwH3j++vB/40VbPvUF78afA24BnrnD73cC3GL0H6g7g+0Med6Of4fuxDItW3YuqeryqXhofnmL0noftaMj3BcDHgU8AP9/M4TbZkL14ADhWVS8AVNVzmzzjZhmyFwW8fnz5Bi5/T9C2UFVPcPX3Mh0CvlAjp4A3JHnTao+70cFf6WMZdl9pTVVdAn71sQzbzZC9WOp+Rv+Cb0er7kWS24C9VfXNzRxsCwz5vrgZuDnJd5OcSnJg06bbXEP24mPAvUnmgRPABzZntGvOK+0JMOyjFdZjYh/LsA0M/nsmuReYBt6xoRNtnavuRZJXMfrU1fs2a6AtNOT7Yiej0zp3Mvpf338kubWq/meDZ9tsQ/biCPD5qvqHJH/C6P0/t1bV/238eNeUNXVzo5/h+7EMi4bsBUneDXwYOFhVv9ik2TbbantxPXAr8J0kP2J0jnJmm75wO/Rn5BtV9cuq+iFwjtE/ANvNkL24H3gMoKq+B7yG0QerdTOoJ8ttdPD9WIZFq+7F+DTGZxnFfruep4VV9qKqXqyqXVV1Y1XdyOj1jINVteYPjbqGDfkZ+TqjF/RJsovRKZ7zmzrl5hiyFz8G3gWQ5K2Mgr+wqVNeG2aA945/W+cO4MWq+slqd9rQUzq1cR/L8Btn4F58Engd8NXx69Y/rqqDWzb0Bhm4Fy0M3IuTwJ8nOQv8L/Chqnp+66beGAP34iHgn5P8DaNTGPdtxyeISb7M6BTervHrFR8FXg1QVZ9h9PrF3cAc8BLwvkGPuw33SpK0At9pK0lNGHxJasLgS1ITBl+SmjD4ktSEwZekJgy+JDXx/4aZaro1YsjCAAAAAElFTkSuQmCC\n",
         "text/plain": "<Figure size 432x288 with 1 Axes>"
        },
        "metadata": {
         "needs_background": "light"
        },
        "output_type": "display_data",
        "transient": {}
       }
      ],
      "source": "fig, ax = plt.subplots()\nax.plot(range(1,s.size), reversed(s))\nplt.xlabel('singular value index')\nplt.ylabel('value')\nplt.title(\"Singular values\")",
      "start_time": "2020-03-23T13:18:16.246Z"
     },
     {
      "end_time": "2020-03-23T13:18:53.737Z",
      "execution_time": "113ms",
      "outputs": [
       {
        "ename": "ValueError",
        "evalue": "x and y must have same first dimension, but have shapes (249,) and (250,)",
        "output_type": "error",
        "traceback": [
         "\u001b[1;31m---------------------------------------------------------------------------\u001b[0m",
         "\u001b[1;31mValueError\u001b[0m                                Traceback (most recent call last)",
         "\u001b[1;32m<ipython-input-20-dd317c83b4c6>\u001b[0m in \u001b[0;36m<module>\u001b[1;34m\u001b[0m\n\u001b[0;32m      1\u001b[0m \u001b[0mfig\u001b[0m\u001b[1;33m,\u001b[0m \u001b[0max\u001b[0m \u001b[1;33m=\u001b[0m \u001b[0mplt\u001b[0m\u001b[1;33m.\u001b[0m\u001b[0msubplots\u001b[0m\u001b[1;33m(\u001b[0m\u001b[1;33m)\u001b[0m\u001b[1;33m\u001b[0m\u001b[1;33m\u001b[0m\u001b[0m\n\u001b[1;32m----> 2\u001b[1;33m \u001b[0max\u001b[0m\u001b[1;33m.\u001b[0m\u001b[0mplot\u001b[0m\u001b[1;33m(\u001b[0m\u001b[1;33m[\u001b[0m\u001b[0mi\u001b[0m \u001b[1;32mfor\u001b[0m \u001b[0mi\u001b[0m \u001b[1;32min\u001b[0m \u001b[0mrange\u001b[0m\u001b[1;33m(\u001b[0m\u001b[1;36m1\u001b[0m\u001b[1;33m,\u001b[0m\u001b[0ms\u001b[0m\u001b[1;33m.\u001b[0m\u001b[0msize\u001b[0m\u001b[1;33m)\u001b[0m\u001b[1;33m]\u001b[0m\u001b[1;33m,\u001b[0m \u001b[1;33m[\u001b[0m\u001b[0mv\u001b[0m \u001b[1;32mfor\u001b[0m \u001b[0mv\u001b[0m \u001b[1;32min\u001b[0m \u001b[0mreversed\u001b[0m\u001b[1;33m(\u001b[0m\u001b[0ms\u001b[0m\u001b[1;33m)\u001b[0m\u001b[1;33m]\u001b[0m\u001b[1;33m)\u001b[0m\u001b[1;33m\u001b[0m\u001b[1;33m\u001b[0m\u001b[0m\n\u001b[0m\u001b[0;32m      3\u001b[0m \u001b[0mplt\u001b[0m\u001b[1;33m.\u001b[0m\u001b[0mxlabel\u001b[0m\u001b[1;33m(\u001b[0m\u001b[1;34m'singular value index'\u001b[0m\u001b[1;33m)\u001b[0m\u001b[1;33m\u001b[0m\u001b[1;33m\u001b[0m\u001b[0m\n\u001b[0;32m      4\u001b[0m \u001b[0mplt\u001b[0m\u001b[1;33m.\u001b[0m\u001b[0mylabel\u001b[0m\u001b[1;33m(\u001b[0m\u001b[1;34m'value'\u001b[0m\u001b[1;33m)\u001b[0m\u001b[1;33m\u001b[0m\u001b[1;33m\u001b[0m\u001b[0m\n\u001b[0;32m      5\u001b[0m \u001b[0mplt\u001b[0m\u001b[1;33m.\u001b[0m\u001b[0mtitle\u001b[0m\u001b[1;33m(\u001b[0m\u001b[1;34m\"Singular values\"\u001b[0m\u001b[1;33m)\u001b[0m\u001b[1;33m\u001b[0m\u001b[1;33m\u001b[0m\u001b[0m\n",
         "\u001b[1;32m~\\AppData\\Local\\Continuum\\anaconda3\\lib\\site-packages\\matplotlib\\axes\\_axes.py\u001b[0m in \u001b[0;36mplot\u001b[1;34m(self, scalex, scaley, data, *args, **kwargs)\u001b[0m\n\u001b[0;32m   1664\u001b[0m         \"\"\"\n\u001b[0;32m   1665\u001b[0m         \u001b[0mkwargs\u001b[0m \u001b[1;33m=\u001b[0m \u001b[0mcbook\u001b[0m\u001b[1;33m.\u001b[0m\u001b[0mnormalize_kwargs\u001b[0m\u001b[1;33m(\u001b[0m\u001b[0mkwargs\u001b[0m\u001b[1;33m,\u001b[0m \u001b[0mmlines\u001b[0m\u001b[1;33m.\u001b[0m\u001b[0mLine2D\u001b[0m\u001b[1;33m.\u001b[0m\u001b[0m_alias_map\u001b[0m\u001b[1;33m)\u001b[0m\u001b[1;33m\u001b[0m\u001b[1;33m\u001b[0m\u001b[0m\n\u001b[1;32m-> 1666\u001b[1;33m         \u001b[0mlines\u001b[0m \u001b[1;33m=\u001b[0m \u001b[1;33m[\u001b[0m\u001b[1;33m*\u001b[0m\u001b[0mself\u001b[0m\u001b[1;33m.\u001b[0m\u001b[0m_get_lines\u001b[0m\u001b[1;33m(\u001b[0m\u001b[1;33m*\u001b[0m\u001b[0margs\u001b[0m\u001b[1;33m,\u001b[0m \u001b[0mdata\u001b[0m\u001b[1;33m=\u001b[0m\u001b[0mdata\u001b[0m\u001b[1;33m,\u001b[0m \u001b[1;33m**\u001b[0m\u001b[0mkwargs\u001b[0m\u001b[1;33m)\u001b[0m\u001b[1;33m]\u001b[0m\u001b[1;33m\u001b[0m\u001b[1;33m\u001b[0m\u001b[0m\n\u001b[0m\u001b[0;32m   1667\u001b[0m         \u001b[1;32mfor\u001b[0m \u001b[0mline\u001b[0m \u001b[1;32min\u001b[0m \u001b[0mlines\u001b[0m\u001b[1;33m:\u001b[0m\u001b[1;33m\u001b[0m\u001b[1;33m\u001b[0m\u001b[0m\n\u001b[0;32m   1668\u001b[0m             \u001b[0mself\u001b[0m\u001b[1;33m.\u001b[0m\u001b[0madd_line\u001b[0m\u001b[1;33m(\u001b[0m\u001b[0mline\u001b[0m\u001b[1;33m)\u001b[0m\u001b[1;33m\u001b[0m\u001b[1;33m\u001b[0m\u001b[0m\n",
         "\u001b[1;32m~\\AppData\\Local\\Continuum\\anaconda3\\lib\\site-packages\\matplotlib\\axes\\_base.py\u001b[0m in \u001b[0;36m__call__\u001b[1;34m(self, *args, **kwargs)\u001b[0m\n\u001b[0;32m    223\u001b[0m                 \u001b[0mthis\u001b[0m \u001b[1;33m+=\u001b[0m \u001b[0margs\u001b[0m\u001b[1;33m[\u001b[0m\u001b[1;36m0\u001b[0m\u001b[1;33m]\u001b[0m\u001b[1;33m,\u001b[0m\u001b[1;33m\u001b[0m\u001b[1;33m\u001b[0m\u001b[0m\n\u001b[0;32m    224\u001b[0m                 \u001b[0margs\u001b[0m \u001b[1;33m=\u001b[0m \u001b[0margs\u001b[0m\u001b[1;33m[\u001b[0m\u001b[1;36m1\u001b[0m\u001b[1;33m:\u001b[0m\u001b[1;33m]\u001b[0m\u001b[1;33m\u001b[0m\u001b[1;33m\u001b[0m\u001b[0m\n\u001b[1;32m--> 225\u001b[1;33m             \u001b[1;32myield\u001b[0m \u001b[1;32mfrom\u001b[0m \u001b[0mself\u001b[0m\u001b[1;33m.\u001b[0m\u001b[0m_plot_args\u001b[0m\u001b[1;33m(\u001b[0m\u001b[0mthis\u001b[0m\u001b[1;33m,\u001b[0m \u001b[0mkwargs\u001b[0m\u001b[1;33m)\u001b[0m\u001b[1;33m\u001b[0m\u001b[1;33m\u001b[0m\u001b[0m\n\u001b[0m\u001b[0;32m    226\u001b[0m \u001b[1;33m\u001b[0m\u001b[0m\n\u001b[0;32m    227\u001b[0m     \u001b[1;32mdef\u001b[0m \u001b[0mget_next_color\u001b[0m\u001b[1;33m(\u001b[0m\u001b[0mself\u001b[0m\u001b[1;33m)\u001b[0m\u001b[1;33m:\u001b[0m\u001b[1;33m\u001b[0m\u001b[1;33m\u001b[0m\u001b[0m\n",
         "\u001b[1;32m~\\AppData\\Local\\Continuum\\anaconda3\\lib\\site-packages\\matplotlib\\axes\\_base.py\u001b[0m in \u001b[0;36m_plot_args\u001b[1;34m(self, tup, kwargs)\u001b[0m\n\u001b[0;32m    389\u001b[0m             \u001b[0mx\u001b[0m\u001b[1;33m,\u001b[0m \u001b[0my\u001b[0m \u001b[1;33m=\u001b[0m \u001b[0mindex_of\u001b[0m\u001b[1;33m(\u001b[0m\u001b[0mtup\u001b[0m\u001b[1;33m[\u001b[0m\u001b[1;33m-\u001b[0m\u001b[1;36m1\u001b[0m\u001b[1;33m]\u001b[0m\u001b[1;33m)\u001b[0m\u001b[1;33m\u001b[0m\u001b[1;33m\u001b[0m\u001b[0m\n\u001b[0;32m    390\u001b[0m \u001b[1;33m\u001b[0m\u001b[0m\n\u001b[1;32m--> 391\u001b[1;33m         \u001b[0mx\u001b[0m\u001b[1;33m,\u001b[0m \u001b[0my\u001b[0m \u001b[1;33m=\u001b[0m \u001b[0mself\u001b[0m\u001b[1;33m.\u001b[0m\u001b[0m_xy_from_xy\u001b[0m\u001b[1;33m(\u001b[0m\u001b[0mx\u001b[0m\u001b[1;33m,\u001b[0m \u001b[0my\u001b[0m\u001b[1;33m)\u001b[0m\u001b[1;33m\u001b[0m\u001b[1;33m\u001b[0m\u001b[0m\n\u001b[0m\u001b[0;32m    392\u001b[0m \u001b[1;33m\u001b[0m\u001b[0m\n\u001b[0;32m    393\u001b[0m         \u001b[1;32mif\u001b[0m \u001b[0mself\u001b[0m\u001b[1;33m.\u001b[0m\u001b[0mcommand\u001b[0m \u001b[1;33m==\u001b[0m \u001b[1;34m'plot'\u001b[0m\u001b[1;33m:\u001b[0m\u001b[1;33m\u001b[0m\u001b[1;33m\u001b[0m\u001b[0m\n",
         "\u001b[1;32m~\\AppData\\Local\\Continuum\\anaconda3\\lib\\site-packages\\matplotlib\\axes\\_base.py\u001b[0m in \u001b[0;36m_xy_from_xy\u001b[1;34m(self, x, y)\u001b[0m\n\u001b[0;32m    268\u001b[0m         \u001b[1;32mif\u001b[0m \u001b[0mx\u001b[0m\u001b[1;33m.\u001b[0m\u001b[0mshape\u001b[0m\u001b[1;33m[\u001b[0m\u001b[1;36m0\u001b[0m\u001b[1;33m]\u001b[0m \u001b[1;33m!=\u001b[0m \u001b[0my\u001b[0m\u001b[1;33m.\u001b[0m\u001b[0mshape\u001b[0m\u001b[1;33m[\u001b[0m\u001b[1;36m0\u001b[0m\u001b[1;33m]\u001b[0m\u001b[1;33m:\u001b[0m\u001b[1;33m\u001b[0m\u001b[1;33m\u001b[0m\u001b[0m\n\u001b[0;32m    269\u001b[0m             raise ValueError(\"x and y must have same first dimension, but \"\n\u001b[1;32m--> 270\u001b[1;33m                              \"have shapes {} and {}\".format(x.shape, y.shape))\n\u001b[0m\u001b[0;32m    271\u001b[0m         \u001b[1;32mif\u001b[0m \u001b[0mx\u001b[0m\u001b[1;33m.\u001b[0m\u001b[0mndim\u001b[0m \u001b[1;33m>\u001b[0m \u001b[1;36m2\u001b[0m \u001b[1;32mor\u001b[0m \u001b[0my\u001b[0m\u001b[1;33m.\u001b[0m\u001b[0mndim\u001b[0m \u001b[1;33m>\u001b[0m \u001b[1;36m2\u001b[0m\u001b[1;33m:\u001b[0m\u001b[1;33m\u001b[0m\u001b[1;33m\u001b[0m\u001b[0m\n\u001b[0;32m    272\u001b[0m             raise ValueError(\"x and y can be no greater than 2-D, but have \"\n",
         "\u001b[1;31mValueError\u001b[0m: x and y must have same first dimension, but have shapes (249,) and (250,)"
        ]
       },
       {
        "data": {
         "image/png": "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\n",
         "text/plain": "<Figure size 432x288 with 1 Axes>"
        },
        "metadata": {
         "needs_background": "light"
        },
        "output_type": "display_data",
        "transient": {}
       }
      ],
      "source": "fig, ax = plt.subplots()\nax.plot([i for i in range(1,s.size)], [v for v in reversed(s)])\nplt.xlabel('singular value index')\nplt.ylabel('value')\nplt.title(\"Singular values\")",
      "start_time": "2020-03-23T13:18:53.624Z"
     },
     {
      "end_time": "2020-03-23T13:19:18.483Z",
      "execution_time": "118ms",
      "outputs": [
       {
        "data": {
         "text/plain": "Text(0.5, 1.0, 'Singular values')"
        },
        "execution_count": 21,
        "metadata": {},
        "output_type": "execute_result"
       },
       {
        "data": {
         "image/png": "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\n",
         "text/plain": "<Figure size 432x288 with 1 Axes>"
        },
        "metadata": {
         "needs_background": "light"
        },
        "output_type": "display_data",
        "transient": {}
       }
      ],
      "source": "fig, ax = plt.subplots()\nax.plot([i for i in range(1,s.size + 1)], [v for v in reversed(s)])\nplt.xlabel('singular value index')\nplt.ylabel('value')\nplt.title(\"Singular values\")",
      "start_time": "2020-03-23T13:19:18.365Z"
     },
     {
      "end_time": "2020-03-23T14:11:58.721Z",
      "execution_time": "108ms",
      "outputs": [
       {
        "data": {
         "text/plain": "Text(0.5, 1.0, 'Singular values')"
        },
        "execution_count": 30,
        "metadata": {},
        "output_type": "execute_result"
       },
       {
        "data": {
         "image/png": "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\n",
         "text/plain": "<Figure size 432x288 with 1 Axes>"
        },
        "metadata": {
         "needs_background": "light"
        },
        "output_type": "display_data",
        "transient": {}
       }
      ],
      "source": "fig, ax = plt.subplots()\nax.plot([i for i in range(1,s.size + 1)], [v for v in reversed(s)])\nplt.xlabel('singular value index')\nplt.ylabel('value')\nplt.title(\"Singular values\")",
      "start_time": "2020-03-23T14:11:58.613Z"
     },
     {
      "end_time": "2020-03-23T14:43:38.740Z",
      "execution_time": "111ms",
      "outputs": [
       {
        "data": {
         "text/plain": "Text(0.5, 1.0, 'Singular values')"
        },
        "execution_count": 46,
        "metadata": {},
        "output_type": "execute_result"
       },
       {
        "data": {
         "image/png": "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\n",
         "text/plain": "<Figure size 432x288 with 1 Axes>"
        },
        "metadata": {
         "needs_background": "light"
        },
        "output_type": "display_data",
        "transient": {}
       }
      ],
      "source": "fig, ax = plt.subplots()\nax.plot([i for i in range(1,s.size + 1)], [v for v in reversed(s)])\nplt.xlabel('singular value index')\nplt.ylabel('value')\nplt.title(\"Singular values\")",
      "start_time": "2020-03-23T14:43:38.629Z"
     }
    ]
   },
   "outputs": [],
   "source": [
    "fig, ax = plt.subplots()\n",
    "x= [i for i in range(1,s.size + 1)]\n",
    "y = [v for v in reversed(s)]\n",
    "kn = KneeLocator(x, y, curve='convex', direction='decreasing')\n",
    "print(kn.elbow)\n",
    "\n",
    "ax.plot(x,y )\n",
    "plt.xlabel('singular value index')\n",
    "plt.ylabel('value')\n",
    "plt.title(\"Singular values\")"
   ]
  },
  {
   "cell_type": "markdown",
   "metadata": {
    "ExecutionTime": {
     "end_time": "2020-03-23T12:59:59.816671Z",
     "start_time": "2020-03-23T12:59:59.583269Z"
    },
    "provenance": [
     {
      "end_time": "2020-03-23T12:59:59.816Z",
      "execution_time": "233ms",
      "outputs": [
       {
        "ename": "NameError",
        "evalue": "name 's' is not defined",
        "output_type": "error",
        "traceback": [
         "\u001b[1;31m---------------------------------------------------------------------------\u001b[0m",
         "\u001b[1;31mNameError\u001b[0m                                 Traceback (most recent call last)",
         "\u001b[1;32m<ipython-input-15-ded5ba42480f>\u001b[0m in \u001b[0;36m<module>\u001b[1;34m\u001b[0m\n\u001b[1;32m----> 1\u001b[1;33m \u001b[0ms\u001b[0m\u001b[1;33m\u001b[0m\u001b[1;33m\u001b[0m\u001b[0m\n\u001b[0m",
         "\u001b[1;31mNameError\u001b[0m: name 's' is not defined"
        ]
       }
      ],
      "source": "s",
      "start_time": "2020-03-23T12:59:59.583Z"
     }
    ]
   },
   "source": [
    "The number of topics will be fixed to 35 since with more components there is not much more variance in the data."
   ]
  },
  {
   "cell_type": "markdown",
   "metadata": {},
   "source": [
    "**NMF modelling**"
   ]
  },
  {
   "cell_type": "code",
   "execution_count": null,
   "metadata": {
    "ExecutionTime": {
     "end_time": "2020-03-23T14:44:29.374787Z",
     "start_time": "2020-03-23T14:43:38.740678Z"
    },
    "provenance": [
     {
      "end_time": "2020-03-23T13:36:14.221Z",
      "execution_time": "1m 26.1s",
      "outputs": [],
      "source": "nmf_model = NMF(50, init=\"nndsvd\")\ndocument_topic_mat = nmf_model.fit_transform(tfidf_model)\ntopic_word_mat = nmf_model.components_",
      "start_time": "2020-03-23T13:34:48.167Z"
     },
     {
      "end_time": "2020-03-23T14:14:03.914Z",
      "execution_time": "2m 5s",
      "outputs": [],
      "source": "nmf_model = NMF(50, init=\"nndsvd\")\ndocument_topic_mat = nmf_model.fit_transform(tfidf_model)\ntopic_word_mat = nmf_model.components_",
      "start_time": "2020-03-23T14:11:58.721Z"
     },
     {
      "end_time": "2020-03-23T14:44:29.374Z",
      "execution_time": "50.6s",
      "outputs": [],
      "source": "nmf_model = NMF(50, init=\"nndsvd\")\ndocument_topic_mat = nmf_model.fit_transform(tfidf_model)\ntopic_word_mat = nmf_model.components_",
      "start_time": "2020-03-23T14:43:38.740Z"
     }
    ]
   },
   "outputs": [],
   "source": [
    "nmf_model = NMF(35, init=\"nndsvd\")\n",
    "document_topic_mat = nmf_model.fit_transform(tfidf_model)\n",
    "topic_word_mat = nmf_model.components_"
   ]
  },
  {
   "cell_type": "code",
   "execution_count": null,
   "metadata": {
    "ExecutionTime": {
     "end_time": "2020-03-23T14:44:29.483994Z",
     "start_time": "2020-03-23T14:44:29.374787Z"
    },
    "provenance": [
     {
      "end_time": "2020-03-23T13:51:55.550Z",
      "execution_time": "39ms",
      "outputs": [
       {
        "ename": "AttributeError",
        "evalue": "get_feature_names not found",
        "output_type": "error",
        "traceback": [
         "\u001b[1;31m---------------------------------------------------------------------------\u001b[0m",
         "\u001b[1;31mAttributeError\u001b[0m                            Traceback (most recent call last)",
         "\u001b[1;32m<ipython-input-23-b8d3de05c501>\u001b[0m in \u001b[0;36m<module>\u001b[1;34m\u001b[0m\n\u001b[1;32m----> 1\u001b[1;33m \u001b[0muf\u001b[0m\u001b[1;33m.\u001b[0m\u001b[0mprint_top_words\u001b[0m\u001b[1;33m(\u001b[0m\u001b[0mnmf_model\u001b[0m\u001b[1;33m,\u001b[0m \u001b[0mtfidf_model\u001b[0m\u001b[1;33m.\u001b[0m\u001b[0mget_feature_names\u001b[0m\u001b[1;33m(\u001b[0m\u001b[1;33m)\u001b[0m\u001b[1;33m,\u001b[0m \u001b[1;36m10\u001b[0m\u001b[1;33m)\u001b[0m\u001b[1;33m\u001b[0m\u001b[1;33m\u001b[0m\u001b[0m\n\u001b[0m",
         "\u001b[1;32m~\\AppData\\Roaming\\Python\\Python37\\site-packages\\scipy\\sparse\\base.py\u001b[0m in \u001b[0;36m__getattr__\u001b[1;34m(self, attr)\u001b[0m\n\u001b[0;32m    689\u001b[0m             \u001b[1;32mreturn\u001b[0m \u001b[0mself\u001b[0m\u001b[1;33m.\u001b[0m\u001b[0mgetnnz\u001b[0m\u001b[1;33m(\u001b[0m\u001b[1;33m)\u001b[0m\u001b[1;33m\u001b[0m\u001b[1;33m\u001b[0m\u001b[0m\n\u001b[0;32m    690\u001b[0m         \u001b[1;32melse\u001b[0m\u001b[1;33m:\u001b[0m\u001b[1;33m\u001b[0m\u001b[1;33m\u001b[0m\u001b[0m\n\u001b[1;32m--> 691\u001b[1;33m             \u001b[1;32mraise\u001b[0m \u001b[0mAttributeError\u001b[0m\u001b[1;33m(\u001b[0m\u001b[0mattr\u001b[0m \u001b[1;33m+\u001b[0m \u001b[1;34m\" not found\"\u001b[0m\u001b[1;33m)\u001b[0m\u001b[1;33m\u001b[0m\u001b[1;33m\u001b[0m\u001b[0m\n\u001b[0m\u001b[0;32m    692\u001b[0m \u001b[1;33m\u001b[0m\u001b[0m\n\u001b[0;32m    693\u001b[0m     \u001b[1;32mdef\u001b[0m \u001b[0mtranspose\u001b[0m\u001b[1;33m(\u001b[0m\u001b[0mself\u001b[0m\u001b[1;33m,\u001b[0m \u001b[0maxes\u001b[0m\u001b[1;33m=\u001b[0m\u001b[1;32mNone\u001b[0m\u001b[1;33m,\u001b[0m \u001b[0mcopy\u001b[0m\u001b[1;33m=\u001b[0m\u001b[1;32mFalse\u001b[0m\u001b[1;33m)\u001b[0m\u001b[1;33m:\u001b[0m\u001b[1;33m\u001b[0m\u001b[1;33m\u001b[0m\u001b[0m\n",
         "\u001b[1;31mAttributeError\u001b[0m: get_feature_names not found"
        ]
       }
      ],
      "source": "uf.print_top_words(nmf_model, tfidf_model.get_feature_names(), 10)",
      "start_time": "2020-03-23T13:51:55.511Z"
     },
     {
      "end_time": "2020-03-23T13:57:37.483Z",
      "execution_time": "278ms",
      "outputs": [
       {
        "name": "stdout",
        "output_type": "stream",
        "text": "Topic #0: abstr_hyperlink @ inspir base pleas blog document offici free power\nTopic #1: . ha base current inform onli e.g requir avail pleas\nTopic #2: * : usag custom list detect integr resourc / automat\nTopic #3: : http .. target ? alt branch=mast statu document &\nTopic #4: abstr_imag @ licens loss result visual exercis moviemon view gener\nTopic #5: | -| : descript ye x / _ compon _|\nTopic #6: abstr_numb @ / version + v d % .x s\nTopic #7: abstr_code_sect @ exampl : follow structur simpl let featur start\nTopic #8: , includ mani exampl howev inform problem like comput number\nTopic #9: - scala # _librari manag open deprec desktop sourc free\nTopic #10: -- -| -+ + $ option │ \\ : output\nTopic #11: ) ( = import : e.g option ... ; method\nTopic #12: [ ] x # _img/mainpage/star_ .png f : deprec paper\nTopic #13: > < = : __ ... import link translat b\nTopic #14: network neural convolut train recurr deep architectur paper predict adversari\nTopic #15: '' `` : string word exampl # hello return text\nTopic #16: python written languag program simpl wrapper pure + bind interfac\nTopic #17: thi wa repo exampl version problem solut pleas note work\nTopic #18: django app rest templat admin framework view simpl pinax reusabl\nTopic #19: ' = # : import ... , code-block field key\nTopic #20: data analysi structur visual format store process dataset set panda\nTopic #21: model train dataset predict evalu pretrain provid infer gener pre-train\nTopic #22: server client connect request run proxi remot send protocol port\nTopic #23: implement tensorflow pytorch paper algorithm base kera origin describ simpl\nTopic #24: imag target color gener docker face pixel ? style detect\nTopic #25: file directori format download gener read convert path folder log\nTopic #26: code sourc paper base book gener written reproduc execut origin\nTopic #27: use detect key function method custom translat make gener instead\nTopic #28: api rest client wrapper document googl json provid interfac access\nTopic #29: repositori contain paper git docker tutori updat publish pleas branch\nTopic #30: project develop open pleas sourc research wa commun licens contribut\nTopic #31: modul function ansibl class import provid includ core c allow\nTopic #32: support version current onli featur format multipl .x custom ad\nTopic #33: learn machin deep algorithm reinforc framework task comput agent research\nTopic #34: command line interfac execut shell run termin util cli $\nTopic #35: test run set unit framework suit autom fixtur write coverag\nTopic #36: node graph tree edg cluster solut list given problem ask\nTopic #37: _ < http # __ : _img/mainpage/star_ .png / document\nTopic #38: tool analysi develop help secur collect vulner inform autom scan\nTopic #39: web applic framework app flask develop build base page simpl\nTopic #40: librari provid client function pars interfac standard scala manipul util\nTopic #41: 's ! n't make work want like just time doe\nTopic #42: instal packag version pip requir notebook updat run instruct usag\nTopic #43: plugin text sublim editor vim edit html allow tag inspir\nTopic #44: { } % = $ # : tag templat ...\nTopic #45: layer word featur output function input vector convolut lstm gener\nTopic #46: script run shell collect simpl creat process task directori autom\nTopic #47: servic manag user provid aw configur cluster deploy task access\nTopic #48: window linux x os mac run devic work program platform\nTopic #49: databas queri search object sql tabl result store index field\n\n"
       }
      ],
      "source": "uf.print_top_words(nmf_model, vectoriser.get_feature_names(), 10)",
      "start_time": "2020-03-23T13:57:37.205Z"
     },
     {
      "end_time": "2020-03-23T14:14:04.195Z",
      "execution_time": "281ms",
      "outputs": [
       {
        "name": "stdout",
        "output_type": "stream",
        "text": "Topic #0: abstr_hyperlink @ inspir base pleas document blog offici free power\nTopic #1: . ha current onli inform e.g base requir avail pleas\nTopic #2: * : usag custom detect integr list featur / resourc\nTopic #3: : http .. target ? alt branch=mast statu document &\nTopic #4: abstr_imag @ licens loss result visual exercis moviemon view -|\nTopic #5: | -| : descript x ye / _ compon _|\nTopic #6: abstr_numb @ / version + v d % .x s\nTopic #7: abstr_code_sect @ exampl : follow structur featur let simpl start\nTopic #8: , includ mani exampl featur howev comput function problem like\nTopic #9: - scala linux # manag window open desktop _librari deprec\nTopic #10: -- -| -+ + $ option │ \\ : output\nTopic #11: ) ( = import : e.g option ... ; method\nTopic #12: [ ] x # _img/mainpage/star_ .png f : deprec paper\nTopic #13: > < = : __ ... import link translat b\nTopic #14: network neural convolut layer train recurr architectur deep paper lstm\nTopic #15: '' `` : string exampl # hello valu return world\nTopic #16: python written program languag simpl wrapper pure + bind interfac\nTopic #17: thi repo wa version exampl problem pleas solut note work\nTopic #18: django app rest templat admin framework view simpl pinax backend\nTopic #19: ' = # : import ... , field code-block key\nTopic #20: data analysi structur databas visual store format queri set dataset\nTopic #21: model train dataset predict evalu pretrain provid infer pre-train task\nTopic #22: server client connect request run proxi remot send protocol databas\nTopic #23: implement tensorflow pytorch paper algorithm base kera origin describ simpl\nTopic #24: imag target color docker pixel face ? style detect video\nTopic #25: file directori format download read path folder log convert contain\nTopic #26: code sourc paper base book written reproduc origin execut experi\nTopic #27: use function detect key method custom make instead featur translat\nTopic #28: api rest client wrapper googl json provid document interfac access\nTopic #29: repositori contain paper git docker updat tutori publish pleas branch\nTopic #30: project develop open pleas sourc research wa commun licens contribut\nTopic #31: modul function ansibl class import provid includ core allow c\nTopic #32: support current version window onli featur format linux multipl devic\nTopic #33: learn machin deep algorithm reinforc framework task comput agent research\nTopic #34: command line interfac execut run shell termin util cli program\nTopic #35: test run unit set framework suit autom fixtur write coverag\nTopic #36: node graph tree edg cluster list solut given problem ask\nTopic #37: _ < http # __ : _img/mainpage/star_ .png / document\nTopic #38: tool analysi develop secur help collect vulner inform autom scan\nTopic #39: 's ! n't make work want like just doe time\nTopic #40: web applic framework app flask develop build base page simpl\nTopic #41: librari provid client pars function interfac standard scala manipul build\nTopic #42: word text search extract queri document tag sentenc list languag\nTopic #43: plugin sublim text editor vim inspir allow edit provid interfac\nTopic #44: instal packag version pip linux requir window run instruct usag\nTopic #45: servic user manag provid aw configur cluster task allow access\nTopic #46: { } % = $ # : tag templat ...\nTopic #47: gener object adversari discrimin loss function output gan static base\nTopic #48: notebook ipython jupyt tutori run visual interact kernel directori exampl\nTopic #49: script run shell simpl collect process autom creat allow contain\n\n"
       }
      ],
      "source": "uf.print_top_words(nmf_model, vectoriser.get_feature_names(), 10)",
      "start_time": "2020-03-23T14:14:03.914Z"
     },
     {
      "end_time": "2020-03-23T14:44:29.483Z",
      "execution_time": "109ms",
      "outputs": [
       {
        "name": "stdout",
        "output_type": "stream",
        "text": "Topic #0: http target alt statu document pypi coverag doc latest inspir\nTopic #1: use make want easi ani instead need veri recommend program\nTopic #2: model pretrain predict infer paper sequenc layer cnn pytorch classif\nTopic #3: python written wrapper languag program simpl pure bind compat c\nTopic #4: thi work repo pleas make want note like ha doe\nTopic #5: django rest templat app admin view backend orm field bootstrap\nTopic #6: imag target alt statu build style docker color coverag download\nTopic #7: sourc open game free softwar develop program commun platform design\nTopic #8: notebook ipython jupyt tutori visual run interact kernel directori markdown\nTopic #9: implement pytorch paper algorithm describ refer protocol origin method simpl\nTopic #10: support current onli format multipl custom includ proxi type devic\nTopic #11: repositori contain paper git thi docker publish updat commit follow\nTopic #12: file directori format download folder read path contain configur upload\nTopic #13: code paper book written sourc exampl reproduc write execut follow\nTopic #14: data analysi structur visual format process store panda stream scienc\nTopic #15: network neural convolut layer paper recurr deep architectur lstm recognit\nTopic #16: x os layer y size c faster grid input f\nTopic #17: modul ansibl import function includ core c ha commun exploit\nTopic #18: learn machin deep algorithm reinforc comput task predict research cours\nTopic #19: api rest wrapper document googl json access key oauth v\nTopic #20: command line interfac execut shell termin run cli program util\nTopic #21: test run unit coverag suit fixtur ha write autom pytest\nTopic #22: client messag offici connect protocol asynchron request commun slack send\nTopic #23: version updat releas latest branch current alt new chang v\nTopic #24: librari pars scala standard visual fast work depend build built\nTopic #25: web page servic browser site interfac content html scrape crawl\nTopic #26: instal packag pip usag requir instruct depend run environ need\nTopic #27: applic app flask simpl android googl build engin develop deploy\nTopic #28: project develop wa inspir pleas research contribut creat start maintain\nTopic #29: tool analysi develop help secur inform collect vulner autom scan\nTopic #30: server run remot proxi request connect port host start local\nTopic #31: provid interfac packag access way easi aim simpl util inform\nTopic #32: licens mit bsd softwar apach copyright releas distribut free document\nTopic #33: manag servic configur aw cluster task deploy cloud environ docker\nTopic #34: train dataset loss evalu accuraci result set gpu label batch\nTopic #35: node graph edg cluster tree visual label list path connect\nTopic #36: plugin sublim inspir vim editor text allow edit linter ida\nTopic #37: framework rest build develop built robot static includ xcode extens\nTopic #38: gener adversari discrimin static gan random loss automat real result\nTopic #39: search result googl queri tag engin match index video download\nTopic #40: word text document languag extract sentenc format tag embed charact\nTopic #41: tensorflow kera tutori repo simpl graph deep neural implement tensorboard\nTopic #42: base detect face segment inspir password origin built recognit semant\nTopic #43: script run simpl shell contain process creat directori collect autom\nTopic #44: solut wa given problem exampl ask list return n number\nTopic #45: featur extract new pleas ad mani includ develop layer select\nTopic #46: window linux mac os work maco program devic desktop video\nTopic #47: databas queri sql tabl sqlite mysql store postgresql sqlalchemi cach\nTopic #48: function object class set valu field method layer type key\nTopic #49: user email messag log authent send request allow password post\n\n"
       }
      ],
      "source": "uf.print_top_words(nmf_model, vectoriser.get_feature_names(), 10)",
      "start_time": "2020-03-23T14:44:29.374Z"
     }
    ]
   },
   "outputs": [],
   "source": [
    "uf.print_top_words(nmf_model, vectoriser.get_feature_names(), 10)"
   ]
  },
  {
   "cell_type": "code",
   "execution_count": null,
   "metadata": {
    "ExecutionTime": {
     "end_time": "2020-03-23T14:57:03.512688Z",
     "start_time": "2020-03-23T14:54:40.621309Z"
    },
    "provenance": [
     {
      "end_time": "2020-03-23T14:14:04.212Z",
      "execution_time": "17ms",
      "outputs": [
       {
        "data": {
         "text/html": "<div>\n<style scoped>\n    .dataframe tbody tr th:only-of-type {\n        vertical-align: middle;\n    }\n\n    .dataframe tbody tr th {\n        vertical-align: top;\n    }\n\n    .dataframe thead th {\n        text-align: right;\n    }\n</style>\n<table border=\"1\" class=\"dataframe\">\n  <thead>\n    <tr style=\"text-align: right;\">\n      <th></th>\n    </tr>\n  </thead>\n  <tbody>\n  </tbody>\n</table>\n</div>",
         "text/plain": "Empty DataFrame\nColumns: []\nIndex: []"
        },
        "execution_count": 33,
        "metadata": {},
        "output_type": "execute_result"
       }
      ],
      "source": "pd.DataFrame()",
      "start_time": "2020-03-23T14:14:04.195Z"
     },
     {
      "end_time": "2020-03-23T14:18:01.625Z",
      "execution_time": "113ms",
      "outputs": [
       {
        "data": {
         "text/plain": "['!',\n '#',\n '$',\n '%',\n '&',\n \"'\",\n \"''\",\n \"'*\",\n \"'*.dat\",\n \"'*file_pattern*\",\n \"'*top\",\n \"'+\",\n \"'+x+\",\n \"'-\",\n \"'-'-._/-'-._\",\n \"'-a\",\n \"'-alia\",\n \"'-b\",\n \"'-d\",\n \"'-date\",\n \"'-g\",\n \"'-gsf\",\n \"'-id\",\n \"'-m\",\n \"'-muz\",\n \"'-noclobberorigin\",\n \"'-o\",\n \"'-p\",\n \"'-r\",\n \"'-t\",\n \"'-u\",\n \"'-v\",\n \"'.\",\n \"'../testing_visu\",\n \"'.//a/\",\n \"'./log\",\n \"'./path/to/currency/file.csv\",\n \"'./start_mirt_pipeline.pi\",\n \"'./std_run.sh\",\n \"'.\\\\setup.pi\",\n \"'.\\\\test\\\\test_reuse.pi\",\n \"'.\\\\test\\\\test_reuse_datetime.pi\",\n \"'.\\\\test\\\\test_reuse_logging.pi\",\n \"'.\\\\test\\\\test_reuse_namespace.pi\",\n \"'._\",\n \"'.de\",\n \"'.decod\",\n \"'.en\",\n \"'.encod\",\n \"'.event\",\n \"'.format\",\n \"'.gitignor\",\n \"'.join\",\n \"'.loop\",\n \"'.md\",\n \"'.npz\",\n \"'.orig\",\n \"'.part\",\n \"'.pdf\",\n \"'.pi\",\n \"'.png\",\n \"'.real\",\n \"'.string\",\n \"'.tif\",\n \"'.trigger\",\n \"'.ttf\",\n \"'.txt\",\n \"'.view\",\n \"'/\",\n \"'//bgp-information/bgp-p\",\n \"'//interface-information/physical-interfac\",\n \"'/api\",\n \"'/applications/autodesk/maya\",\n \"'/attr\",\n \"'/bin/bash\",\n \"'/bin/sh\",\n \"'/book\",\n \"'/c/.plex/library/appl\",\n \"'/comedi\",\n \"'/comedy/montypython\",\n \"'/comedy/montypython/actor\",\n \"'/comedy/montypython/sketch\",\n \"'/demo\",\n \"'/dev/ttyusb\",\n \"'/echo\",\n \"'/foo/bar\",\n \"'/hello/\",\n \"'/home/azavea/npower_opendataphilli\",\n \"'/home/john/myfile.pdf\",\n \"'/home/ss/cert.pem\",\n \"'/home/us\",\n \"'/home/user/background.jpg\",\n \"'/home/user/download\",\n \"'/home/user/evil\",\n \"'/home/user/private.png\",\n \"'/librari\",\n \"'/library/plex\",\n \"'/metadata\",\n \"'/myapp/prepended-text-for-fun-aj/detail\",\n \"'/oauth\",\n \"'/param/\",\n \"'/path/to/dataset/\",\n \"'/path/to/dest.jpg\",\n \"'/path/to/my/image.png\",\n \"'/path/to/myimage.jpg\",\n \"'/path/to/myotherimage.jpg\",\n \"'/path/to/templates/\",\n \"'/plots/\",\n \"'/raid\",\n \"'/repos/octocat/hello-world\",\n \"'/rotat\",\n \"'/send\",\n \"'/share/md\",\n \"'/slow\",\n \"'/some/music.mp\",\n \"'/some/page.html\",\n \"'/static/\",\n \"'/thisdoesnotexist\",\n \"'/tmp\",\n \"'/tmp/manhole-pid\",\n \"'/usr/autodesk/maya\",\n \"'/usr/lib/python\",\n \"'/usr/local/plexdata/plex\",\n \"'/usr/pbi/plexmediaserver-amd\",\n \"'/var/lib/plex/plex\",\n \"'/var/lib/plexmediaserver/library/appl\",\n \"'/var/log/openpyn/\",\n \"'/volum\",\n \"'/zuck\",\n \"'/~guido\",\n \"'/путь\",\n \"'=\",\n \"'\\\\\",\n \"'\\\\home\\\\files\\\\book\",\n \"'\\\\n\",\n \"'\\\\n'.join\",\n \"'\\\\nshape-rendering=\",\n \"'\\\\r\",\n \"'\\\\rn\",\n \"'\\\\w+\",\n \"'\\\\x\",\n \"'\\\\xd\",\n \"'^\",\n \"'^/secret/\",\n \"'^examples/\",\n \"'^jo\",\n \"'^m\",\n \"'__/\",\n \"'__call__\",\n \"'__complex__\",\n \"'__init__\",\n \"'__main__\",\n \"'__|\",\n \"'__|/\",\n \"'_ansible_verbose_alway\",\n \"'_ansible_verbose_overrid\",\n \"'_bananas_\",\n \"'_btproxi\",\n \"'_genactionfeatur\",\n \"'_gengamefeatur\",\n \"'_gh_sess\",\n \"'_key\",\n \"'_lock\",\n \"'_obj\",\n \"'_osabie_\",\n \"'_osable_\",\n \"'_seem\",\n \"'_sourc\",\n \"'_usable_\",\n \"'a\",\n \"'a_tag\",\n \"'aa\",\n \"'aaa\",\n \"'aam\",\n \"'aapl\",\n \"'ab\",\n \"'abacbdd\",\n \"'abc\",\n \"'abcd\",\n \"'abracadabra\",\n \"'absolut\",\n \"'absoluteoffset\",\n \"'ac_merg\",\n \"'accel\",\n \"'accel_c\",\n \"'accept\",\n \"'access_key_id\",\n \"'access_resources.sl\",\n \"'access_token\",\n \"'account\",\n \"'account.userprofil\",\n \"'acm\",\n \"'acme.conf.set\",\n \"'action\",\n \"'activ\",\n \"'ad\",\n \"'ad_accel\",\n \"'ad_gyro\",\n \"'adapt\",\n \"'add\",\n \"'additionalproperti\",\n \"'addon\",\n \"'address\",\n \"'address_of_doorcontact\",\n \"'address_of_rollershutter_devic\",\n \"'addressbook\",\n \"'admin\",\n \"'admin/\",\n \"'admin/dashboard/\",\n \"'administr\",\n \"'advanc\",\n \"'advertis\",\n \"'advus\",\n \"'ae\",\n \"'af\",\n \"'after\",\n \"'age\",\n \"'agent\",\n \"'ahead'/'behind'-terminolog\",\n \"'al\",\n \"'alabama\",\n \"'album\",\n \"'alert\",\n \"'alex\",\n \"'alfr\",\n \"'algo_tim\",\n \"'all\",\n \"'all_fg\",\n \"'alpha\",\n \"'alu\",\n \"'am\",\n \"'amoeba-lik\",\n \"'amqp\",\n \"'amster\",\n \"'amsterdam\",\n \"'analysi\",\n \"'analyt\",\n \"'ancestor\",\n \"'anchor\",\n \"'and\",\n \"'android\",\n \"'ani\",\n \"'anonym\",\n \"'another.module.path.to.cal\",\n \"'answer\",\n \"'antisemit\",\n \"'anydbm\",\n \"'ap\",\n \"'api\",\n \"'api.url\",\n \"'api_token\",\n \"'app\",\n \"'app.index\",\n \"'app_name/foo.html\",\n \"'appl\",\n \"'apples/pickl\",\n \"'applic\",\n \"'application/json\",\n \"'applist\",\n \"'approved.html\",\n \"'apps/\",\n \"'arch-upd\",\n \"'arg=\",\n \"'arima\",\n \"'arp\",\n \"'arramooz\",\n \"'array\",\n \"'arrowhead\",\n \"'arthur\",\n \"'articl\",\n \"'artist\",\n \"'asc'|'desc\",\n \"'asdf\",\n \"'asdf_librari\",\n \"'ask\",\n \"'asldnsa\",\n \"'aspel\",\n \"'aspirin\",\n \"'assets/.styl\",\n \"'assigned_to\",\n \"'at\",\n \"'atgggtgccccgagcgcgtgccggacgctggtgttggctctggcggccatgctcgtggtgccgcaggcag\",\n \"'atla\",\n \"'att_eul\",\n \"'att_quat\",\n \"'attach\",\n \"'attack\",\n \"'attr\",\n \"'attribut\",\n \"'audiomessag\",\n \"'august\",\n \"'auth\",\n \"'authent\",\n \"'authentication_class\",\n \"'author\",\n \"'author_invers\",\n \"'author_queri\",\n \"'auto\",\n \"'auto_cast\",\n \"'autoband-\",\n \"'autobandventieldopj\",\n \"'automat\",\n \"'automobil\",\n \"'autoregress\",\n \"'autotrac\",\n \"'averag\",\n \"'aw\",\n \"'awk\",\n \"'b\",\n \"'ba\",\n \"'back-of-the-envelop\",\n \"'backdoor\",\n \"'backend\",\n \"'background\",\n \"'backintim\",\n \"'backintime-qt\",\n \"'backstrom\",\n \"'backupcount\",\n \"'bacon\",\n \"'bad\",\n \"'bag\",\n \"'balanc\",\n \"'ball_and_socket_simplified_-_main_body.stl\",\n \"'ball_and_socket_simplified_-_twist_lock.stl\",\n \"'ban.list\",\n \"'ban.url\",\n \"'band\",\n \"'bar\",\n \"'barcod\",\n \"'bare-bon\",\n \"'base\",\n \"'base_min.html\",\n \"'basic\",\n \"'batteri\",\n \"'bayesian\",\n \"'baz\",\n \"'bb\",\n \"'bbb\",\n \"'bc\",\n \"'bd\",\n \"'bdist_bbfreez\",\n \"'be\",\n \"'bear\",\n \"'began\",\n \"'benchmark\",\n \"'best\",\n \"'best-fit\",\n \"'best_effort\",\n \"'beta\",\n \"'beta.url\",\n \"'bf\",\n \"'bgn\",\n \"'bicycle.jpg\",\n \"'bid\",\n \"'big\",\n \"'bigdata\",\n \"'binari\",\n \"'bio\",\n \"'bip\",\n \"'birth_dat\",\n \"'bit\",\n \"'bitcoin\",\n \"'bk\",\n \"'blender\",\n \"'blinking-yellow\",\n \"'blob\",\n \"'block\",\n \"'blog\",\n \"'blog.set\",\n \"'blog.titl\",\n \"'blog_post\",\n \"'blue\",\n \"'bluetooth\",\n \"'blunt\",\n \"'bluth\",\n \"'bm\",\n \"'board\",\n \"'bob\",\n \"'bodi\",\n \"'bold\",\n \"'book\",\n \"'books.change_book\",\n \"'booksbyauthoremail\",\n \"'bordai\",\n \"'boto\",\n \"'brain\",\n \"'bravado\",\n \"'bravo\",\n \"'breakfast\",\n \"'breed\",\n \"'brief\",\n \"'broadcast\",\n \"'brown\",\n \"'bs_list.htm\",\n \"'bucket\",\n \"'bucket_nam\",\n \"'build\",\n \"'build_url\",\n \"'bulk\",\n \"'bulkadmin\",\n \"'burn-up\",\n \"'bzp\",\n \"'c\",\n \"'ca\",\n \"'cabbag\",\n \"'cable_car\",\n \"'cach\",\n \"'cache-c.draaaf.cfg.us\",\n \"'cache.gasdbp.cfg.us\",\n \"'cache.gqasdbp\",\n \"'cad\",\n \"'caff\",\n \"'caffein\",\n \"'calendar\",\n \"'california\",\n \"'call\",\n \"'can\",\n \"'can_delete_item\",\n \"'can_see_full_profil\",\n \"'can_ship\",\n \"'canada\",\n \"'canari\",\n \"'cannel\",\n \"'capit\",\n \"'car\",\n \"'cart\",\n \"'case\",\n \"'cat\",\n \"'categori\",\n \"'cd\",\n \"'ce\",\n \"'cell\",\n \"'cen\",\n \"'center\",\n \"'central\",\n \"'ceph\",\n \"'cert\",\n \"'cert.pem\",\n \"'certif\",\n \"'ceyda\",\n \"'cf\",\n \"'cfd\",\n \"'chain_nam\",\n \"'chair\",\n \"'chang\",\n \"'changem\",\n \"'channel\",\n \"'char\",\n \"'charl\",\n \"'chatop\",\n \"'chatroom\",\n \"'chatrooms.url\",\n \"'cheat\",\n \"'check\",\n \"'chess\",\n \"'chicken\",\n \"'children\",\n \"'chn\",\n \"'choic\",\n \"'choos\",\n \"'chooser\",\n \"'chunk\",\n \"'chē\",\n \"'cinder\",\n \"'citat\",\n \"'citi\",\n \"'city_area\",\n \"'ckan\",\n \"'cl.ex\",\n \"'clang-\",\n \"'clang-format\",\n \"'class\",\n \"'class_\",\n \"'classif\",\n \"'classifi\",\n \"'clcache-.prof\",\n \"'clcache.pi\",\n \"'click\",\n \"'clip\",\n \"'close\",\n \"'close_al\",\n \"'cloudformation/central-microservices.templ\",\n \"'cloudformation/main-pipeline.templ\",\n \"'cluster\",\n \"'cluster_op\",\n \"'cm\",\n \"'cmake\",\n \"'cmake_vers\",\n \"'cmd\",\n \"'cmn-han\",\n \"'cmn-hant\",\n \"'cmsappiconlist\",\n \"'cmu\",\n \"'cn\",\n \"'cocci-grep\",\n \"'coco\",\n \"'cod\",\n \"'code\",\n \"'codenam\",\n \"'cold\",\n \"'collaps\",\n \"'color\",\n \"'com.apple.product-type.framework.stat\",\n \"'combined.stl\",\n \"'comedi\",\n \"'command\",\n \"'comment\",\n \"'common\",\n \"'common_crawl_\",\n \"'compact\",\n \"'company_nam\",\n \"'complet\",\n \"'compon\",\n \"'composable_paxos.pi\",\n \"'compound\",\n \"'compress\",\n \"'compressed.asdf\",\n \"'comput\",\n \"'confer\",\n \"'config\",\n \"'config.pi\",\n \"'configur\",\n \"'configure_log\",\n \"'conjunct\",\n \"'connect\",\n \"'connector\",\n \"'conor\",\n \"'consol\",\n \"'construct\",\n \"'consul\",\n \"'contact\",\n \"'container\",\n \"'content\",\n \"'content-encod\",\n \"'content-length\",\n \"'content-typ\",\n \"'content_typ\",\n \"'control\",\n \"'controlcent\",\n \"'convent\",\n \"'convert\",\n \"'cool\",\n \"'coordin\",\n \"'copter\",\n \"'copyleft'-licens\",\n \"'corenlp\",\n \"'count\",\n \"'countabl\",\n \"'counter\",\n \"'countri\",\n \"'country_area\",\n \"'country_cod\",\n \"'cox\",\n \"'cpgislandext\",\n \"'cpppo\",\n \"'cpppo.cfg\",\n \"'cpu\",\n \"'cpu_affin\",\n \"'crawl\",\n \"'creat\",\n \"'created_on\",\n \"'creation_d\",\n \"'crecord.x\",\n \"'credenti\",\n \"'critcctl\",\n \"'critic\",\n \"'crovax\",\n \"'csc\",\n \"'csr\",\n \"'ctrl-alt-delet\",\n \"'cudnn_convolution_fwd_prefer_fastest\",\n \"'cudnn_cross_correl\",\n \"'cudnn_data_float\",\n \"'cudnn_tensor_nchw\",\n \"'curl\",\n \"'curli\",\n \"'currenc\",\n \"'cust\",\n \"'cust_id\",\n \"'cust_nam\",\n \"'custom\",\n \"'custom-token-nam\",\n \"'customer-spend-per-click\",\n \"'cycl\",\n \"'d\",\n \"'d=\",\n \"'dam\",\n \"'darwin\",\n \"'data\",\n \"'data-cdn-bas\",\n \"'data-image-shrink\",\n \"'data.data\",\n \"'data/coinmarketcap\",\n \"'data/maildir\",\n \"'data_nam\",\n \"'databas\",\n \"'date\",\n \"'date_of_birth\",\n \"'datefmt\",\n \"'datetimetz\",\n \"'day\",\n \"'dayofmonth\",\n \"'db\",\n \"'db_user\",\n \"'de\",\n \"'debug\",\n \"'debug_panel.middleware.debugpanelmiddlewar\",\n \"'debug_toolbar.middleware.debugtoolbarmiddlewar\",\n \"'debug_toolbar.panels.cache.cachepanel\",\n \"'debug_toolbar.panels.headers.headerspanel\",\n \"'debug_toolbar.panels.logging.loggingpanel\",\n \"'debug_toolbar.panels.redirects.redirectspanel\",\n \"'debug_toolbar.panels.request.requestpanel\",\n \"'debug_toolbar.panels.settings.settingspanel\",\n \"'debug_toolbar.panels.signals.signalspanel\",\n \"'debug_toolbar.panels.sql.sqlpanel\",\n \"'debug_toolbar.panels.staticfiles.staticfilespanel\",\n \"'debug_toolbar.panels.templates.templatespanel\",\n \"'debug_toolbar.panels.timer.timerpanel\",\n \"'debug_toolbar.panels.versions.versionspanel\",\n \"'debugtools.middleware.xviewmiddlewar\",\n \"'debugtools.panels.viewpanel\",\n \"'decompyl\",\n \"'deconvolut\",\n \"'decrypt\",\n \"'deep\",\n \"'deezer\",\n \"'default\",\n \"'default_backend\",\n \"'delet\",\n \"'delta-du\",\n \"'dens\",\n \"'depart\",\n \"'depth.pi\",\n \"'descript\",\n \"'detail\",\n \"'dev\",\n \"'develop\",\n \"'df\",\n \"'dhash-test.jpg\",\n \"'dhe\",\n \"'dictshield\",\n \"'dim\",\n \"'dim_reduc\",\n \"'dime\",\n \"'dinner\",\n \"'dir\",\n \"'direc\",\n \"'directori\",\n \"'directory/path/\",\n \"'dirti\",\n \"'disable_existing_logg\",\n \"'discard\",\n \"'disclosur\",\n \"'display\",\n \"'disrespect\",\n \"'distanc\",\n \"'div.teaser-icon\",\n \"'dj-wasabi\",\n \"'django\",\n \"'django-admin.pi\",\n \"'django-s\",\n \"'django.conf.set\",\n \"'django.contrib.admin\",\n \"'django.contrib.admin.views.decorators.staff_member_requir\",\n \"'django.contrib.auth\",\n \"'django.contrib.auth.backends.modelbackend\",\n \"'django.contrib.com\",\n \"'django.contrib.contenttyp\",\n \"'django.contrib.sit\",\n \"'django.contrib.staticfil\",\n \"'django.core.cache.backends.memcached.pylibmccach\",\n \"'django.db.backends.sqlit\",\n \"'django_configur\",\n \"'django_elasticache.memcached.elasticach\",\n \"'django_libsass.sasscompil\",\n \"'django_q\",\n \"'django_rul\",\n \"'django_rules.backends.objectpermissionbackend\",\n \"'django_s\",\n \"'django_ses.url\",\n \"'django_settings_modul\",\n \"'django_spaghetti\",\n \"'django_spaghetti.url\",\n \"'djmoney.contrib.exchang\",\n \"'djmoney.contrib.exchange.backends.fixerbackend\",\n \"'djmoney_rates.backends.openexchangebackend\",\n \"'dl_cours\",\n \"'dn\",\n \"'dnet\",\n \"'dnf\",\n \"'do\",\n \"'dob\",\n \"'docker_p\",\n \"'documentid\",\n \"'dog\",\n \"'dogmeat\",\n \"'domain\",\n \"'done_ratio\",\n \"'download\",\n \"'downloads/sourc\",\n \"'dport\",\n \"'draft\",\n \"'dragon\",\n \"'driver\",\n \"'drop\",\n \"'dropout\",\n \"'dropzon\",\n \"'dsn\",\n \"'dst\",\n \"'dt\",\n \"'due_dat\",\n \"'dunst\",\n \"'dutch\",\n \"'dyld_library_path\",\n \"'dynam\",\n \"'dynamic_\",\n \"'dynamic_set\",\n \"'e\",\n \"'ear\",\n \"'earth\",\n \"'easy_read\",\n \"'easy_thread\",\n \"'echo\",\n \"'ecosystem\",\n \"'edge_s\",\n \"'edge_typ\",\n \"'edit\",\n \"'ef\",\n \"'egg\",\n \"'ekim\",\n \"'elast\",\n \"'elasticsearch-xpack\",\n \"'electron\",\n \"'element\",\n \"'eleph\",\n \"'elev\",\n \"'elevator_car\",\n \"'elif\",\n \"'em\",\n \"'email\",\n \"'emperor\",\n \"'empty-spring-\",\n \"'en\",\n \"'en-au\",\n \"'en-gb\",\n \"'en-u\",\n \"'encod\",\n \"'end\",\n \"'end-to-end\",\n \"'engin\",\n \"'engine_capac\",\n \"'english\",\n \"'ensp\",\n \"'enter\",\n \"'enter/exit\",\n \"'entropi\",\n \"'environ\",\n \"'environments.yaml\",\n \"'eplug\",\n \"'equal\",\n \"'err\",\n \"'error\",\n \"'erupt\",\n \"'esbench\",\n \"'esbench.data\",\n \"'estimated_hour\",\n \"'eur\",\n \"'eventnam\",\n \"'exampl\",\n \"'example.asdf\",\n \"'example.ass\",\n \"'example.com\",\n \"'example.pdf\",\n \"'excel\",\n \"'excess\",\n \"'exclud\",\n \"'exhibit\",\n \"'exif\",\n \"'exit\",\n \"'exot\",\n \"'expand\",\n \"'expens\",\n \"'experienc\",\n \"'experiment\",\n \"'exploit\",\n \"'explor\",\n \"'explorer.tasks.snapshot_queri\",\n \"'explorer.tasks.truncate_querylog\",\n \"'export\",\n \"'extend\",\n \"'external_z\",\n \"'extract\",\n \"'f\",\n \"'faas-supervisor\",\n \"'face\",\n \"'face_loc\",\n \"'faceswap-playground\",\n \"'fail\",\n \"'failur\",\n \"'fals\",\n \"'fanci\",\n \"'fast\",\n \"'fatma\",\n \"'fatten\",\n \"'featur\",\n \"'feedback\",\n \"'feminazi\",\n \"'ff\",\n \"'fgrep\",\n \"'fiber\",\n \"'field\",\n \"'field_nam\",\n \"'fieldnam\",\n \"'file\",\n \"'filenam\",\n \"'filter\",\n \"'filtrat\",\n \"'find\",\n \"'find_element_by_class_nam\",\n \"'find_element_by_id\",\n \"'find_elements_by_class_nam\",\n \"'find_elements_by_xpath\",\n \"'finditemsadvanc\",\n \"'fine\",\n \"'finish\",\n \"'firehos\",\n \"'first\",\n \"'five\",\n \"'fizzbuzz\",\n \"'flipflap\",\n \"'float\",\n \"'flow\",\n \"'fluffi\",\n \"'follow_edg\",\n \"'foo\",\n \"'foo.bar\",\n \"'foo.featur\",\n \"'foo.pdf\",\n \"'foo.txt\",\n \"'foobar\",\n \"'for\",\n \"'forban\",\n \"'forc\",\n \"'forgeofempir\",\n \"'form\",\n \"'form_design\",\n \"'form_designer.contrib.cms_plugins.form_designer_form\",\n \"'form_designer.url\",\n \"'format\",\n \"'formatt\",\n \"'forward\",\n \"'four\",\n \"'fourteen\",\n \"'fr\",\n \"'frame\",\n \"'frecent\",\n \"'french\",\n \"'frequency_list\",\n \"'friday\",\n \"'friend\",\n \"'from\",\n \"'fromdhcp\",\n \"'fs_gp\",\n \"'fs_mag\",\n \"'ftp\",\n \"'ftp.kernel.org\",\n \"'full_nam\",\n \"'function\",\n \"'fuzzi\",\n \"'gal\",\n \"'galvan\",\n \"'gan\",\n \"'gang\",\n \"'garfield\",\n \"'gaussian\",\n \"'gaussian_color_coded.png\",\n \"'gaussian_colorbar.png\",\n \"'gaussian_log.png\",\n \"'gawker.mask\",\n \"'gbp\",\n \"'gcc\",\n \"'gender\",\n \"'gene\",\n \"'gener\",\n \"'geoprocess\",\n \"'georg\",\n \"'get\",\n \"'get_attributes_al\",\n \"'get_hous\",\n \"'getcrypto\",\n \"'getifaddr\",\n \"'getwork\",\n \"'ggnn_gwm\",\n \"'gh\",\n \"'ghost\",\n \"'gif\",\n \"'gin_gwm\",\n \"'gini\",\n \"'gist\",\n \"'git_pillar\",\n \"'github\",\n \"'givennam\",\n \"'glob/.pattern\",\n \"'global\",\n \"'glue\",\n \"'gmhmm.pi\",\n \"'gnd\",\n \"'gofmt\",\n \"'golden\",\n \"'gondola\",\n \"'gone\",\n \"'good\",\n \"'goodby\",\n \"'google_analyt\",\n \"'goos\",\n \"'gopherlib\",\n \"'got\",\n \"'goto\",\n \"'gp\",\n \"'gpmdp\",\n \"'gps_time\",\n \"'gps_visibl\",\n \"'graphic\",\n \"'graphs/\",\n \"'gre\",\n \"'great\",\n \"'green\",\n \"'greenlet\",\n \"'greet\",\n \"'grid\",\n \"'group\",\n \"'grp\",\n \"'gru\",\n \"'gseapi\",\n \"'gsutil\",\n \"'guaiacol\",\n \"'guessit\",\n \"'guest\",\n \"'gusto\",\n \"'gwyn\",\n \"'gyro\",\n \"'gyro_c\",\n \"'hadoop\",\n \"'hammock\",\n \"'hand\",\n \"'handler\",\n \"'hands-on\",\n \"'handy.middleware.stripwhitespac\",\n \"'hann\",\n \"'hard_iron\",\n \"'harvest\",\n \"'has_super_featur\",\n \"'hasan\",\n \"'hd\",\n \"'hddtemp\",\n \"'he\",\n \"'head\",\n \"'headless\",\n \"'health\",\n \"'heart\",\n \"'heartbeat\",\n \"'height\",\n \"'hello\",\n \"'hello-world\",\n \"'help\",\n \"'helvetica\",\n \"'heterogen\",\n \"'hexlified_token_str\",\n \"'hg\",\n \"'hi\",\n \"'high\",\n \"'high-level\",\n \"'highest\",\n \"'highli\",\n \"'hill\",\n \"'histori\",\n \"'hit\",\n \"'hkg\",\n \"'holistically-nest\",\n \"'home\",\n \"'home.html\",\n \"'homebrew\",\n \"'homepag\",\n \"'homepage-bann\",\n \"'horizont\",\n \"'horror\",\n \"'hors\",\n \"'host\",\n \"'hostnam\",\n \"'hot\",\n \"'hour\",\n \"'hous\",\n \"'how\",\n \"'hpcomwar\",\n \"'hr\",\n \"'html\",\n \"'http\",\n \"'huawei\",\n \"'huaweiyang\",\n ...]"
        },
        "execution_count": 34,
        "metadata": {},
        "output_type": "execute_result"
       }
      ],
      "source": "vectoriser.get_feature_names()",
      "start_time": "2020-03-23T14:18:01.512Z"
     },
     {
      "end_time": "2020-03-23T14:32:07.809Z",
      "execution_time": "136ms",
      "outputs": [
       {
        "data": {
         "text/plain": "['!',\n '#',\n '$',\n '%',\n '&',\n \"'\",\n \"''\",\n \"'*\",\n \"'*.dat\",\n \"'*file_pattern*\",\n \"'*top\",\n \"'+\",\n \"'+x+\",\n \"'-\",\n \"'-'-._/-'-._\",\n \"'-a\",\n \"'-alia\",\n \"'-b\",\n \"'-d\",\n \"'-date\",\n \"'-g\",\n \"'-gsf\",\n \"'-id\",\n \"'-m\",\n \"'-muz\",\n \"'-noclobberorigin\",\n \"'-o\",\n \"'-p\",\n \"'-r\",\n \"'-t\",\n \"'-u\",\n \"'-v\",\n \"'.\",\n \"'../testing_visu\",\n \"'.//a/\",\n \"'./log\",\n \"'./path/to/currency/file.csv\",\n \"'./start_mirt_pipeline.pi\",\n \"'./std_run.sh\",\n \"'.\\\\setup.pi\",\n \"'.\\\\test\\\\test_reuse.pi\",\n \"'.\\\\test\\\\test_reuse_datetime.pi\",\n \"'.\\\\test\\\\test_reuse_logging.pi\",\n \"'.\\\\test\\\\test_reuse_namespace.pi\",\n \"'._\",\n \"'.de\",\n \"'.decod\",\n \"'.en\",\n \"'.encod\",\n \"'.event\",\n \"'.format\",\n \"'.gitignor\",\n \"'.join\",\n \"'.loop\",\n \"'.md\",\n \"'.npz\",\n \"'.orig\",\n \"'.part\",\n \"'.pdf\",\n \"'.pi\",\n \"'.png\",\n \"'.real\",\n \"'.string\",\n \"'.tif\",\n \"'.trigger\",\n \"'.ttf\",\n \"'.txt\",\n \"'.view\",\n \"'/\",\n \"'//bgp-information/bgp-p\",\n \"'//interface-information/physical-interfac\",\n \"'/api\",\n \"'/applications/autodesk/maya\",\n \"'/attr\",\n \"'/bin/bash\",\n \"'/bin/sh\",\n \"'/book\",\n \"'/c/.plex/library/appl\",\n \"'/comedi\",\n \"'/comedy/montypython\",\n \"'/comedy/montypython/actor\",\n \"'/comedy/montypython/sketch\",\n \"'/demo\",\n \"'/dev/ttyusb\",\n \"'/echo\",\n \"'/foo/bar\",\n \"'/hello/\",\n \"'/home/azavea/npower_opendataphilli\",\n \"'/home/john/myfile.pdf\",\n \"'/home/ss/cert.pem\",\n \"'/home/us\",\n \"'/home/user/background.jpg\",\n \"'/home/user/download\",\n \"'/home/user/evil\",\n \"'/home/user/private.png\",\n \"'/librari\",\n \"'/library/plex\",\n \"'/metadata\",\n \"'/myapp/prepended-text-for-fun-aj/detail\",\n \"'/oauth\",\n \"'/param/\",\n \"'/path/to/dataset/\",\n \"'/path/to/dest.jpg\",\n \"'/path/to/my/image.png\",\n \"'/path/to/myimage.jpg\",\n \"'/path/to/myotherimage.jpg\",\n \"'/path/to/templates/\",\n \"'/plots/\",\n \"'/raid\",\n \"'/repos/octocat/hello-world\",\n \"'/rotat\",\n \"'/send\",\n \"'/share/md\",\n \"'/slow\",\n \"'/some/music.mp\",\n \"'/some/page.html\",\n \"'/static/\",\n \"'/thisdoesnotexist\",\n \"'/tmp\",\n \"'/tmp/manhole-pid\",\n \"'/usr/autodesk/maya\",\n \"'/usr/lib/python\",\n \"'/usr/local/plexdata/plex\",\n \"'/usr/pbi/plexmediaserver-amd\",\n \"'/var/lib/plex/plex\",\n \"'/var/lib/plexmediaserver/library/appl\",\n \"'/var/log/openpyn/\",\n \"'/volum\",\n \"'/zuck\",\n \"'/~guido\",\n \"'/путь\",\n \"'=\",\n \"'\\\\\",\n \"'\\\\home\\\\files\\\\book\",\n \"'\\\\n\",\n \"'\\\\n'.join\",\n \"'\\\\nshape-rendering=\",\n \"'\\\\r\",\n \"'\\\\rn\",\n \"'\\\\w+\",\n \"'\\\\x\",\n \"'\\\\xd\",\n \"'^\",\n \"'^/secret/\",\n \"'^examples/\",\n \"'^jo\",\n \"'^m\",\n \"'__/\",\n \"'__call__\",\n \"'__complex__\",\n \"'__init__\",\n \"'__main__\",\n \"'__|\",\n \"'__|/\",\n \"'_ansible_verbose_alway\",\n \"'_ansible_verbose_overrid\",\n \"'_bananas_\",\n \"'_btproxi\",\n \"'_genactionfeatur\",\n \"'_gengamefeatur\",\n \"'_gh_sess\",\n \"'_key\",\n \"'_lock\",\n \"'_obj\",\n \"'_osabie_\",\n \"'_osable_\",\n \"'_seem\",\n \"'_sourc\",\n \"'_usable_\",\n \"'a\",\n \"'a_tag\",\n \"'aa\",\n \"'aaa\",\n \"'aam\",\n \"'aapl\",\n \"'ab\",\n \"'abacbdd\",\n \"'abc\",\n \"'abcd\",\n \"'abracadabra\",\n \"'absolut\",\n \"'absoluteoffset\",\n \"'ac_merg\",\n \"'accel\",\n \"'accel_c\",\n \"'accept\",\n \"'access_key_id\",\n \"'access_resources.sl\",\n \"'access_token\",\n \"'account\",\n \"'account.userprofil\",\n \"'acm\",\n \"'acme.conf.set\",\n \"'action\",\n \"'activ\",\n \"'ad\",\n \"'ad_accel\",\n \"'ad_gyro\",\n \"'adapt\",\n \"'add\",\n \"'additionalproperti\",\n \"'addon\",\n \"'address\",\n \"'address_of_doorcontact\",\n \"'address_of_rollershutter_devic\",\n \"'addressbook\",\n \"'admin\",\n \"'admin/\",\n \"'admin/dashboard/\",\n \"'administr\",\n \"'advanc\",\n \"'advertis\",\n \"'advus\",\n \"'ae\",\n \"'af\",\n \"'after\",\n \"'age\",\n \"'agent\",\n \"'ahead'/'behind'-terminolog\",\n \"'al\",\n \"'alabama\",\n \"'album\",\n \"'alert\",\n \"'alex\",\n \"'alfr\",\n \"'algo_tim\",\n \"'all\",\n \"'all_fg\",\n \"'alpha\",\n \"'alu\",\n \"'am\",\n \"'amoeba-lik\",\n \"'amqp\",\n \"'amster\",\n \"'amsterdam\",\n \"'analysi\",\n \"'analyt\",\n \"'ancestor\",\n \"'anchor\",\n \"'and\",\n \"'android\",\n \"'ani\",\n \"'anonym\",\n \"'another.module.path.to.cal\",\n \"'answer\",\n \"'antisemit\",\n \"'anydbm\",\n \"'ap\",\n \"'api\",\n \"'api.url\",\n \"'api_token\",\n \"'app\",\n \"'app.index\",\n \"'app_name/foo.html\",\n \"'appl\",\n \"'apples/pickl\",\n \"'applic\",\n \"'application/json\",\n \"'applist\",\n \"'approved.html\",\n \"'apps/\",\n \"'arch-upd\",\n \"'arg=\",\n \"'arima\",\n \"'arp\",\n \"'arramooz\",\n \"'array\",\n \"'arrowhead\",\n \"'arthur\",\n \"'articl\",\n \"'artist\",\n \"'asc'|'desc\",\n \"'asdf\",\n \"'asdf_librari\",\n \"'ask\",\n \"'asldnsa\",\n \"'aspel\",\n \"'aspirin\",\n \"'assets/.styl\",\n \"'assigned_to\",\n \"'at\",\n \"'atgggtgccccgagcgcgtgccggacgctggtgttggctctggcggccatgctcgtggtgccgcaggcag\",\n \"'atla\",\n \"'att_eul\",\n \"'att_quat\",\n \"'attach\",\n \"'attack\",\n \"'attr\",\n \"'attribut\",\n \"'audiomessag\",\n \"'august\",\n \"'auth\",\n \"'authent\",\n \"'authentication_class\",\n \"'author\",\n \"'author_invers\",\n \"'author_queri\",\n \"'auto\",\n \"'auto_cast\",\n \"'autoband-\",\n \"'autobandventieldopj\",\n \"'automat\",\n \"'automobil\",\n \"'autoregress\",\n \"'autotrac\",\n \"'averag\",\n \"'aw\",\n \"'awk\",\n \"'b\",\n \"'ba\",\n \"'back-of-the-envelop\",\n \"'backdoor\",\n \"'backend\",\n \"'background\",\n \"'backintim\",\n \"'backintime-qt\",\n \"'backstrom\",\n \"'backupcount\",\n \"'bacon\",\n \"'bad\",\n \"'bag\",\n \"'balanc\",\n \"'ball_and_socket_simplified_-_main_body.stl\",\n \"'ball_and_socket_simplified_-_twist_lock.stl\",\n \"'ban.list\",\n \"'ban.url\",\n \"'band\",\n \"'bar\",\n \"'barcod\",\n \"'bare-bon\",\n \"'base\",\n \"'base_min.html\",\n \"'basic\",\n \"'batteri\",\n \"'bayesian\",\n \"'baz\",\n \"'bb\",\n \"'bbb\",\n \"'bc\",\n \"'bd\",\n \"'bdist_bbfreez\",\n \"'be\",\n \"'bear\",\n \"'began\",\n \"'benchmark\",\n \"'best\",\n \"'best-fit\",\n \"'best_effort\",\n \"'beta\",\n \"'beta.url\",\n \"'bf\",\n \"'bgn\",\n \"'bicycle.jpg\",\n \"'bid\",\n \"'big\",\n \"'bigdata\",\n \"'binari\",\n \"'bio\",\n \"'bip\",\n \"'birth_dat\",\n \"'bit\",\n \"'bitcoin\",\n \"'bk\",\n \"'blender\",\n \"'blinking-yellow\",\n \"'blob\",\n \"'block\",\n \"'blog\",\n \"'blog.set\",\n \"'blog.titl\",\n \"'blog_post\",\n \"'blue\",\n \"'bluetooth\",\n \"'blunt\",\n \"'bluth\",\n \"'bm\",\n \"'board\",\n \"'bob\",\n \"'bodi\",\n \"'bold\",\n \"'book\",\n \"'books.change_book\",\n \"'booksbyauthoremail\",\n \"'bordai\",\n \"'boto\",\n \"'brain\",\n \"'bravado\",\n \"'bravo\",\n \"'breakfast\",\n \"'breed\",\n \"'brief\",\n \"'broadcast\",\n \"'brown\",\n \"'bs_list.htm\",\n \"'bucket\",\n \"'bucket_nam\",\n \"'build\",\n \"'build_url\",\n \"'bulk\",\n \"'bulkadmin\",\n \"'burn-up\",\n \"'bzp\",\n \"'c\",\n \"'ca\",\n \"'cabbag\",\n \"'cable_car\",\n \"'cach\",\n \"'cache-c.draaaf.cfg.us\",\n \"'cache.gasdbp.cfg.us\",\n \"'cache.gqasdbp\",\n \"'cad\",\n \"'caff\",\n \"'caffein\",\n \"'calendar\",\n \"'california\",\n \"'call\",\n \"'can\",\n \"'can_delete_item\",\n \"'can_see_full_profil\",\n \"'can_ship\",\n \"'canada\",\n \"'canari\",\n \"'cannel\",\n \"'capit\",\n \"'car\",\n \"'cart\",\n \"'case\",\n \"'cat\",\n \"'categori\",\n \"'cd\",\n \"'ce\",\n \"'cell\",\n \"'cen\",\n \"'center\",\n \"'central\",\n \"'ceph\",\n \"'cert\",\n \"'cert.pem\",\n \"'certif\",\n \"'ceyda\",\n \"'cf\",\n \"'cfd\",\n \"'chain_nam\",\n \"'chair\",\n \"'chang\",\n \"'changem\",\n \"'channel\",\n \"'char\",\n \"'charl\",\n \"'chatop\",\n \"'chatroom\",\n \"'chatrooms.url\",\n \"'cheat\",\n \"'check\",\n \"'chess\",\n \"'chicken\",\n \"'children\",\n \"'chn\",\n \"'choic\",\n \"'choos\",\n \"'chooser\",\n \"'chunk\",\n \"'chē\",\n \"'cinder\",\n \"'citat\",\n \"'citi\",\n \"'city_area\",\n \"'ckan\",\n \"'cl.ex\",\n \"'clang-\",\n \"'clang-format\",\n \"'class\",\n \"'class_\",\n \"'classif\",\n \"'classifi\",\n \"'clcache-.prof\",\n \"'clcache.pi\",\n \"'click\",\n \"'clip\",\n \"'close\",\n \"'close_al\",\n \"'cloudformation/central-microservices.templ\",\n \"'cloudformation/main-pipeline.templ\",\n \"'cluster\",\n \"'cluster_op\",\n \"'cm\",\n \"'cmake\",\n \"'cmake_vers\",\n \"'cmd\",\n \"'cmn-han\",\n \"'cmn-hant\",\n \"'cmsappiconlist\",\n \"'cmu\",\n \"'cn\",\n \"'cocci-grep\",\n \"'coco\",\n \"'cod\",\n \"'code\",\n \"'codenam\",\n \"'cold\",\n \"'collaps\",\n \"'color\",\n \"'com.apple.product-type.framework.stat\",\n \"'combined.stl\",\n \"'comedi\",\n \"'command\",\n \"'comment\",\n \"'common\",\n \"'common_crawl_\",\n \"'compact\",\n \"'company_nam\",\n \"'complet\",\n \"'compon\",\n \"'composable_paxos.pi\",\n \"'compound\",\n \"'compress\",\n \"'compressed.asdf\",\n \"'comput\",\n \"'confer\",\n \"'config\",\n \"'config.pi\",\n \"'configur\",\n \"'configure_log\",\n \"'conjunct\",\n \"'connect\",\n \"'connector\",\n \"'conor\",\n \"'consol\",\n \"'construct\",\n \"'consul\",\n \"'contact\",\n \"'container\",\n \"'content\",\n \"'content-encod\",\n \"'content-length\",\n \"'content-typ\",\n \"'content_typ\",\n \"'control\",\n \"'controlcent\",\n \"'convent\",\n \"'convert\",\n \"'cool\",\n \"'coordin\",\n \"'copter\",\n \"'copyleft'-licens\",\n \"'corenlp\",\n \"'count\",\n \"'countabl\",\n \"'counter\",\n \"'countri\",\n \"'country_area\",\n \"'country_cod\",\n \"'cox\",\n \"'cpgislandext\",\n \"'cpppo\",\n \"'cpppo.cfg\",\n \"'cpu\",\n \"'cpu_affin\",\n \"'crawl\",\n \"'creat\",\n \"'created_on\",\n \"'creation_d\",\n \"'crecord.x\",\n \"'credenti\",\n \"'critcctl\",\n \"'critic\",\n \"'crovax\",\n \"'csc\",\n \"'csr\",\n \"'ctrl-alt-delet\",\n \"'cudnn_convolution_fwd_prefer_fastest\",\n \"'cudnn_cross_correl\",\n \"'cudnn_data_float\",\n \"'cudnn_tensor_nchw\",\n \"'curl\",\n \"'curli\",\n \"'currenc\",\n \"'cust\",\n \"'cust_id\",\n \"'cust_nam\",\n \"'custom\",\n \"'custom-token-nam\",\n \"'customer-spend-per-click\",\n \"'cycl\",\n \"'d\",\n \"'d=\",\n \"'dam\",\n \"'darwin\",\n \"'data\",\n \"'data-cdn-bas\",\n \"'data-image-shrink\",\n \"'data.data\",\n \"'data/coinmarketcap\",\n \"'data/maildir\",\n \"'data_nam\",\n \"'databas\",\n \"'date\",\n \"'date_of_birth\",\n \"'datefmt\",\n \"'datetimetz\",\n \"'day\",\n \"'dayofmonth\",\n \"'db\",\n \"'db_user\",\n \"'de\",\n \"'debug\",\n \"'debug_panel.middleware.debugpanelmiddlewar\",\n \"'debug_toolbar.middleware.debugtoolbarmiddlewar\",\n \"'debug_toolbar.panels.cache.cachepanel\",\n \"'debug_toolbar.panels.headers.headerspanel\",\n \"'debug_toolbar.panels.logging.loggingpanel\",\n \"'debug_toolbar.panels.redirects.redirectspanel\",\n \"'debug_toolbar.panels.request.requestpanel\",\n \"'debug_toolbar.panels.settings.settingspanel\",\n \"'debug_toolbar.panels.signals.signalspanel\",\n \"'debug_toolbar.panels.sql.sqlpanel\",\n \"'debug_toolbar.panels.staticfiles.staticfilespanel\",\n \"'debug_toolbar.panels.templates.templatespanel\",\n \"'debug_toolbar.panels.timer.timerpanel\",\n \"'debug_toolbar.panels.versions.versionspanel\",\n \"'debugtools.middleware.xviewmiddlewar\",\n \"'debugtools.panels.viewpanel\",\n \"'decompyl\",\n \"'deconvolut\",\n \"'decrypt\",\n \"'deep\",\n \"'deezer\",\n \"'default\",\n \"'default_backend\",\n \"'delet\",\n \"'delta-du\",\n \"'dens\",\n \"'depart\",\n \"'depth.pi\",\n \"'descript\",\n \"'detail\",\n \"'dev\",\n \"'develop\",\n \"'df\",\n \"'dhash-test.jpg\",\n \"'dhe\",\n \"'dictshield\",\n \"'dim\",\n \"'dim_reduc\",\n \"'dime\",\n \"'dinner\",\n \"'dir\",\n \"'direc\",\n \"'directori\",\n \"'directory/path/\",\n \"'dirti\",\n \"'disable_existing_logg\",\n \"'discard\",\n \"'disclosur\",\n \"'display\",\n \"'disrespect\",\n \"'distanc\",\n \"'div.teaser-icon\",\n \"'dj-wasabi\",\n \"'django\",\n \"'django-admin.pi\",\n \"'django-s\",\n \"'django.conf.set\",\n \"'django.contrib.admin\",\n \"'django.contrib.admin.views.decorators.staff_member_requir\",\n \"'django.contrib.auth\",\n \"'django.contrib.auth.backends.modelbackend\",\n \"'django.contrib.com\",\n \"'django.contrib.contenttyp\",\n \"'django.contrib.sit\",\n \"'django.contrib.staticfil\",\n \"'django.core.cache.backends.memcached.pylibmccach\",\n \"'django.db.backends.sqlit\",\n \"'django_configur\",\n \"'django_elasticache.memcached.elasticach\",\n \"'django_libsass.sasscompil\",\n \"'django_q\",\n \"'django_rul\",\n \"'django_rules.backends.objectpermissionbackend\",\n \"'django_s\",\n \"'django_ses.url\",\n \"'django_settings_modul\",\n \"'django_spaghetti\",\n \"'django_spaghetti.url\",\n \"'djmoney.contrib.exchang\",\n \"'djmoney.contrib.exchange.backends.fixerbackend\",\n \"'djmoney_rates.backends.openexchangebackend\",\n \"'dl_cours\",\n \"'dn\",\n \"'dnet\",\n \"'dnf\",\n \"'do\",\n \"'dob\",\n \"'docker_p\",\n \"'documentid\",\n \"'dog\",\n \"'dogmeat\",\n \"'domain\",\n \"'done_ratio\",\n \"'download\",\n \"'downloads/sourc\",\n \"'dport\",\n \"'draft\",\n \"'dragon\",\n \"'driver\",\n \"'drop\",\n \"'dropout\",\n \"'dropzon\",\n \"'dsn\",\n \"'dst\",\n \"'dt\",\n \"'due_dat\",\n \"'dunst\",\n \"'dutch\",\n \"'dyld_library_path\",\n \"'dynam\",\n \"'dynamic_\",\n \"'dynamic_set\",\n \"'e\",\n \"'ear\",\n \"'earth\",\n \"'easy_read\",\n \"'easy_thread\",\n \"'echo\",\n \"'ecosystem\",\n \"'edge_s\",\n \"'edge_typ\",\n \"'edit\",\n \"'ef\",\n \"'egg\",\n \"'ekim\",\n \"'elast\",\n \"'elasticsearch-xpack\",\n \"'electron\",\n \"'element\",\n \"'eleph\",\n \"'elev\",\n \"'elevator_car\",\n \"'elif\",\n \"'em\",\n \"'email\",\n \"'emperor\",\n \"'empty-spring-\",\n \"'en\",\n \"'en-au\",\n \"'en-gb\",\n \"'en-u\",\n \"'encod\",\n \"'end\",\n \"'end-to-end\",\n \"'engin\",\n \"'engine_capac\",\n \"'english\",\n \"'ensp\",\n \"'enter\",\n \"'enter/exit\",\n \"'entropi\",\n \"'environ\",\n \"'environments.yaml\",\n \"'eplug\",\n \"'equal\",\n \"'err\",\n \"'error\",\n \"'erupt\",\n \"'esbench\",\n \"'esbench.data\",\n \"'estimated_hour\",\n \"'eur\",\n \"'eventnam\",\n \"'exampl\",\n \"'example.asdf\",\n \"'example.ass\",\n \"'example.com\",\n \"'example.pdf\",\n \"'excel\",\n \"'excess\",\n \"'exclud\",\n \"'exhibit\",\n \"'exif\",\n \"'exit\",\n \"'exot\",\n \"'expand\",\n \"'expens\",\n \"'experienc\",\n \"'experiment\",\n \"'exploit\",\n \"'explor\",\n \"'explorer.tasks.snapshot_queri\",\n \"'explorer.tasks.truncate_querylog\",\n \"'export\",\n \"'extend\",\n \"'external_z\",\n \"'extract\",\n \"'f\",\n \"'faas-supervisor\",\n \"'face\",\n \"'face_loc\",\n \"'faceswap-playground\",\n \"'fail\",\n \"'failur\",\n \"'fals\",\n \"'fanci\",\n \"'fast\",\n \"'fatma\",\n \"'fatten\",\n \"'featur\",\n \"'feedback\",\n \"'feminazi\",\n \"'ff\",\n \"'fgrep\",\n \"'fiber\",\n \"'field\",\n \"'field_nam\",\n \"'fieldnam\",\n \"'file\",\n \"'filenam\",\n \"'filter\",\n \"'filtrat\",\n \"'find\",\n \"'find_element_by_class_nam\",\n \"'find_element_by_id\",\n \"'find_elements_by_class_nam\",\n \"'find_elements_by_xpath\",\n \"'finditemsadvanc\",\n \"'fine\",\n \"'finish\",\n \"'firehos\",\n \"'first\",\n \"'five\",\n \"'fizzbuzz\",\n \"'flipflap\",\n \"'float\",\n \"'flow\",\n \"'fluffi\",\n \"'follow_edg\",\n \"'foo\",\n \"'foo.bar\",\n \"'foo.featur\",\n \"'foo.pdf\",\n \"'foo.txt\",\n \"'foobar\",\n \"'for\",\n \"'forban\",\n \"'forc\",\n \"'forgeofempir\",\n \"'form\",\n \"'form_design\",\n \"'form_designer.contrib.cms_plugins.form_designer_form\",\n \"'form_designer.url\",\n \"'format\",\n \"'formatt\",\n \"'forward\",\n \"'four\",\n \"'fourteen\",\n \"'fr\",\n \"'frame\",\n \"'frecent\",\n \"'french\",\n \"'frequency_list\",\n \"'friday\",\n \"'friend\",\n \"'from\",\n \"'fromdhcp\",\n \"'fs_gp\",\n \"'fs_mag\",\n \"'ftp\",\n \"'ftp.kernel.org\",\n \"'full_nam\",\n \"'function\",\n \"'fuzzi\",\n \"'gal\",\n \"'galvan\",\n \"'gan\",\n \"'gang\",\n \"'garfield\",\n \"'gaussian\",\n \"'gaussian_color_coded.png\",\n \"'gaussian_colorbar.png\",\n \"'gaussian_log.png\",\n \"'gawker.mask\",\n \"'gbp\",\n \"'gcc\",\n \"'gender\",\n \"'gene\",\n \"'gener\",\n \"'geoprocess\",\n \"'georg\",\n \"'get\",\n \"'get_attributes_al\",\n \"'get_hous\",\n \"'getcrypto\",\n \"'getifaddr\",\n \"'getwork\",\n \"'ggnn_gwm\",\n \"'gh\",\n \"'ghost\",\n \"'gif\",\n \"'gin_gwm\",\n \"'gini\",\n \"'gist\",\n \"'git_pillar\",\n \"'github\",\n \"'givennam\",\n \"'glob/.pattern\",\n \"'global\",\n \"'glue\",\n \"'gmhmm.pi\",\n \"'gnd\",\n \"'gofmt\",\n \"'golden\",\n \"'gondola\",\n \"'gone\",\n \"'good\",\n \"'goodby\",\n \"'google_analyt\",\n \"'goos\",\n \"'gopherlib\",\n \"'got\",\n \"'goto\",\n \"'gp\",\n \"'gpmdp\",\n \"'gps_time\",\n \"'gps_visibl\",\n \"'graphic\",\n \"'graphs/\",\n \"'gre\",\n \"'great\",\n \"'green\",\n \"'greenlet\",\n \"'greet\",\n \"'grid\",\n \"'group\",\n \"'grp\",\n \"'gru\",\n \"'gseapi\",\n \"'gsutil\",\n \"'guaiacol\",\n \"'guessit\",\n \"'guest\",\n \"'gusto\",\n \"'gwyn\",\n \"'gyro\",\n \"'gyro_c\",\n \"'hadoop\",\n \"'hammock\",\n \"'hand\",\n \"'handler\",\n \"'hands-on\",\n \"'handy.middleware.stripwhitespac\",\n \"'hann\",\n \"'hard_iron\",\n \"'harvest\",\n \"'has_super_featur\",\n \"'hasan\",\n \"'hd\",\n \"'hddtemp\",\n \"'he\",\n \"'head\",\n \"'headless\",\n \"'health\",\n \"'heart\",\n \"'heartbeat\",\n \"'height\",\n \"'hello\",\n \"'hello-world\",\n \"'help\",\n \"'helvetica\",\n \"'heterogen\",\n \"'hexlified_token_str\",\n \"'hg\",\n \"'hi\",\n \"'high\",\n \"'high-level\",\n \"'highest\",\n \"'highli\",\n \"'hill\",\n \"'histori\",\n \"'hit\",\n \"'hkg\",\n \"'holistically-nest\",\n \"'home\",\n \"'home.html\",\n \"'homebrew\",\n \"'homepag\",\n \"'homepage-bann\",\n \"'horizont\",\n \"'horror\",\n \"'hors\",\n \"'host\",\n \"'hostnam\",\n \"'hot\",\n \"'hour\",\n \"'hous\",\n \"'how\",\n \"'hpcomwar\",\n \"'hr\",\n \"'html\",\n \"'http\",\n \"'huawei\",\n \"'huaweiyang\",\n ...]"
        },
        "execution_count": 38,
        "metadata": {},
        "output_type": "execute_result"
       }
      ],
      "source": "vectoriser.get_feature_names()",
      "start_time": "2020-03-23T14:32:07.673Z"
     },
     {
      "end_time": "2020-03-23T14:37:05.841Z",
      "execution_time": "68ms",
      "outputs": [
       {
        "data": {
         "text/plain": "['1',\n '10',\n '11',\n '12',\n '13',\n '2',\n '22',\n '3',\n '4',\n '5',\n '6',\n '7',\n '8',\n '9',\n '_',\n '__',\n '___',\n '____',\n '_____',\n '______',\n '_______',\n '________',\n '_________',\n '___________',\n '____________',\n '_____________',\n '________________',\n '____________________________________',\n '________________________________________________________________________________',\n '__________graph__________',\n '_______av_h_h___________________________',\n '___invariant___',\n '___u',\n '___x',\n '__a',\n '__abs_',\n '__absurdli',\n '__accounts__',\n '__actually__',\n '__add',\n '__adjustments__',\n '__after',\n '__algorithm',\n '__all__',\n '__an',\n '__and',\n '__and__',\n '__ani',\n '__api__',\n '__argmax__',\n '__array__',\n '__artisan',\n '__asnumpyarrays_',\n '__attention__',\n '__attrs__',\n '__author__',\n '__authors__',\n '__automat',\n '__auxiliari',\n '__awesom',\n '__base',\n '__batch',\n '__beautifulsoup__',\n '__befor',\n '__before__',\n '__begin__',\n '__behavior',\n '__bgw',\n '__binari',\n '__bitmap__',\n '__blackboard__',\n '__blends__',\n '__bold__',\n '__build',\n '__bypass',\n '__calc__',\n '__calcul',\n '__call__',\n '__callbacks__',\n '__can',\n '__captur',\n '__caution__',\n '__cento',\n '__central',\n '__champion',\n '__chang',\n '__charact',\n '__chdir',\n '__chroot__',\n '__class__',\n '__clean',\n '__clear__',\n '__click',\n '__clip',\n '__cm',\n '__color__',\n '__comitup__',\n '__compon',\n '__compressed__',\n '__cons__',\n '__consist',\n '__contain',\n '__contributors__',\n '__creat',\n '__creation',\n '__criticism__',\n '__cross',\n '__crystal',\n '__current',\n '__d',\n '__daemonize__',\n '__data',\n '__data__',\n '__database__',\n '__date__',\n '__datetime__',\n '__deadlock',\n '__debug__',\n '__decentralized__',\n '__dedupe__',\n '__delet',\n '__delft__',\n '__dependencies__',\n '__deprecated__',\n '__depthwis',\n '__descent',\n '__design',\n '__detail',\n '__detect',\n '__dict__',\n '__dictat',\n '__directori',\n '__disable__',\n '__disclaimer__',\n '__discreet__',\n '__dissidentx',\n '__doc__',\n '__document',\n '__doe',\n '__download',\n '__drop_privileges__',\n '__drymail__',\n '__dyn',\n '__e',\n '__earli',\n '__easi',\n '__ec',\n '__edge_invert',\n '__effici',\n '__enable__',\n '__enca__',\n '__encrypt',\n '__encryption__',\n '__engard',\n '__enter__',\n '__epva',\n '__epva__',\n '__eq__',\n '__escal',\n '__espcap__',\n '__event__',\n '__eventpagecontent__',\n '__eventpagemenu__',\n '__events__',\n '__exact',\n '__exampl',\n '__execut',\n '__exit__',\n '__experi',\n '__experiment',\n '__exponenti',\n '__extensible__',\n '__extract',\n '__f',\n '__faithful__',\n '__fast__',\n '__features__',\n '__fer',\n '__fetch',\n '__figur',\n '__file',\n '__file__',\n '__filter__',\n '__finalize__',\n '__flatnessloss__',\n '__flexibility__',\n '__fool',\n '__forward',\n '__frame',\n '__front',\n '__fulli',\n '__fundament',\n '__futur',\n '__future__',\n '__gain',\n '__ge__',\n '__gener',\n '__generators__',\n '__geno__',\n '__genome__',\n '__geo_interface__',\n '__geoprocess',\n '__get__',\n '__getattr__',\n '__getitem__',\n '__got',\n '__gradient',\n '__grains__',\n '__gt__',\n '__handler__',\n '__hmm__',\n '__homepag',\n '__how',\n '__http',\n '__i',\n '__icloud__',\n '__icontain',\n '__iconv__',\n '__iexact',\n '__if',\n '__images__',\n '__implement',\n '__import__',\n '__in',\n '__includ',\n '__increment_zone_serial__',\n '__individual__',\n '__inference__',\n '__inference_test__',\n '__inherit',\n '__init__',\n '__init___',\n '__init_subclass__',\n '__instance_type__',\n '__interactive__',\n '__interfac',\n '__invariant__',\n '__ismerged__',\n '__iter__',\n '__j',\n '__jekyll__',\n '__jira',\n '__job',\n '__json__encode__',\n '__json_decode__',\n '__json_encode__',\n '__jsp__',\n '__kera',\n '__key__',\n '__key_type__',\n '__keylogger__',\n '__keyname__',\n '__known',\n '__larg',\n '__lastpass',\n '__latest',\n '__layer',\n '__layer__',\n '__lazi',\n '__le__',\n '__len__',\n '__license__',\n '__limitation__',\n '__link',\n '__listen',\n '__loader__',\n '__loaders__',\n '__localhost',\n '__look',\n '__lt__',\n '__main__',\n '__median',\n '__menu__',\n '__metaclass__',\n '__metric',\n '__miner__',\n '__model',\n '__modeling__',\n '__models__',\n '__modern__',\n '__module__',\n '__mostly__',\n '__move',\n '__multitask',\n '__multiton__',\n '__mw',\n '__name__',\n '__namespac',\n '__nativ',\n '__ndarray__',\n '__ne__',\n '__nel__',\n '__nethog',\n '__neural',\n '__new',\n '__new__',\n '__no',\n '__normal',\n '__not',\n '__not__',\n '__note',\n '__note__',\n '__noth',\n '__notif',\n '__null',\n '__object',\n '__on',\n '__only__',\n '__openstack',\n '__option__',\n '__opts__',\n '__origin__',\n '__others__',\n '__outlook__',\n '__pack__',\n '__packet',\n '__pathlib__',\n '__payloads__',\n '__pdoc__',\n '__penetr',\n '__percentil',\n '__persist',\n '__persistence__',\n '__phone__',\n '__php__',\n '__phylo__',\n '__pixel',\n '__platform',\n '__pleas',\n '__port',\n '__postprocessing__',\n '__preconfigured__',\n '__predict',\n '__prelink_info',\n '__preprint__',\n '__present',\n '__prevent',\n '__primer__',\n '__process',\n '__productive__',\n '__properties__',\n '__pros__',\n '__protect',\n '__pure',\n '__pushover__',\n '__pycache__',\n '__pyflux__',\n '__python',\n '__python__',\n '__pytorch__',\n '__quantiz',\n '__quantized__',\n '__rackspac',\n '__ransom__',\n '__reason',\n '__recode__',\n '__recogn',\n '__region',\n '__release__',\n '__reliabl',\n '__remot',\n '__remov',\n '__remove__',\n '__rename__',\n '__repr__',\n '__reproduces__',\n '__req',\n '__requests__',\n '__resolv',\n '__resourc',\n '__resum',\n '__reusabl',\n '__rev',\n '__role',\n '__root__',\n '__rout',\n '__run',\n '__salt__',\n '__scan',\n '__scene',\n '__screenshot__',\n '__search',\n '__searchable__',\n '__second',\n '__secure__',\n '__security__',\n '__sed__',\n '__self',\n '__servant__',\n '__setitem__',\n '__setstate__',\n '__short',\n '__show',\n '__sift__',\n '__sigmoid__',\n '__simpl',\n '__singl',\n '__slots__',\n '__sorri',\n '__specification__',\n '__speed',\n '__speed__',\n '__spreader__',\n '__stagers__',\n '__standalone__',\n '__statsmodel',\n '__stepper',\n '__stock__',\n '__str__',\n '__stroke',\n '__structur',\n '__stub',\n '__style',\n '__sub__',\n '__sublim',\n '__support',\n '__system',\n '__tablename__',\n '__tajima__',\n '__target',\n '__teacher',\n '__telescop',\n '__tencent',\n '__the',\n '__therefor',\n '__thi',\n '__time__',\n '__timedelta__',\n '__timeout__',\n '__title__',\n '__total',\n '__train',\n '__trained_model__',\n '__transient',\n '__transpar',\n '__tshark__',\n '__ttreeasmatrix_',\n '__two',\n '__type__',\n '__tzinfo__',\n '__uboost__',\n '__ugradientboosting__',\n '__uncertainti',\n '__under',\n '__unicode__',\n '__unpack__',\n '__unwrap__',\n '__upload',\n '__user',\n '__utilities__',\n '__utils__',\n '__uuid__',\n '__v__',\n '__valid',\n '__value__',\n '__value_type__',\n '__variabl',\n '__variable__',\n '__vcf',\n '__version__',\n '__versions__',\n '__vim',\n '__visit',\n '__w__',\n '__want',\n '__warn',\n '__webcam__',\n '__websit',\n '__what',\n '__whi',\n '__while',\n '__will',\n '__wip',\n '__wire',\n '__within',\n '__work',\n '__wrap',\n '__write',\n '__xb',\n '__xlrd',\n '__xsrfprobe__',\n '__you',\n '__your',\n '__zero',\n '__znk',\n '__信息收集__',\n '__指纹检测__',\n '__攻击参数__',\n '__暴力破解__',\n '_a',\n '_a_',\n '_ab',\n '_abdera',\n '_about_',\n '_abov',\n '_abstract',\n '_abstracting_execution_logs_to_execution_events_for_enterprise_applications_short_pap',\n '_abstractness_',\n '_abus',\n '_access',\n '_access_',\n '_accuracy_',\n '_ace',\n '_acm',\n '_acoustid',\n '_action_',\n '_actions_',\n '_activ',\n '_activation_',\n '_active_',\n '_acts_',\n '_actual',\n '_actual_',\n '_actually_',\n '_ad',\n '_adadelta',\n '_adagrad',\n '_adam',\n '_adanet',\n '_adapters_',\n '_adaptivegraphicallasso_',\n '_adblock',\n '_add',\n '_add_',\n '_additional_',\n '_addscript_',\n '_admin_',\n '_adorable_',\n '_adult_',\n '_advanc',\n '_advancedguid',\n '_adversari',\n '_aecod',\n '_aedoc',\n '_aes_',\n '_after',\n '_after_',\n '_again_',\n '_agents_',\n '_aggregate_',\n '_agraw',\n '_aifc',\n '_aiohttp',\n '_aiohttp_',\n '_aiomysql_',\n '_aioodbc_',\n '_ajex',\n '_aka',\n '_albert',\n '_alemb',\n '_alert_handshake_failur',\n '_alex',\n '_alexand',\n '_algopi',\n '_algorithm',\n '_aliases_',\n '_alignak',\n '_all',\n '_all_',\n '_allegro',\n '_allgather_',\n '_alloc',\n '_allow',\n '_allow_',\n '_allow_int_lookup_',\n '_allreduce_',\n '_almost_',\n '_along',\n '_alpha_',\n '_alphabet_',\n '_alphatab',\n '_alreadi',\n '_already_',\n '_also_',\n '_altair',\n '_alter',\n '_alternatively_',\n '_alway',\n '_always_',\n '_amazon',\n '_amiga',\n '_amirsina',\n '_amount',\n '_an',\n '_ancient',\n '_and',\n '_and_',\n '_andrew',\n '_android',\n '_angjoo',\n '_angr',\n '_ani',\n '_anim',\n '_anima',\n '_annot',\n '_annots_val_json',\n '_ano_',\n '_anoth',\n '_another_',\n '_ansibl',\n '_ansible_',\n '_ansible_verbose_alway',\n '_ansible_verbose_overrid',\n '_ant_',\n '_antibiotics_',\n '_any_',\n '_anyone_',\n '_anything_',\n '_anywher',\n '_anywhere_',\n '_apach',\n '_aperio',\n '_api',\n '_api_',\n '_apispec',\n '_apistat',\n '_appconfig',\n '_appendix',\n '_applet_',\n '_applic',\n '_application_',\n '_applications_',\n '_apply_',\n '_apprise_',\n '_approximates_',\n '_april',\n '_apt_',\n '_arangodbv',\n '_arbitrari',\n '_arbitrary_',\n '_architectur',\n '_archiv',\n '_are',\n '_are_',\n '_areski',\n '_arg',\n '_arjandepooter_',\n '_armonium_',\n '_armor',\n '_arp',\n '_array_',\n '_arrow',\n '_arrow_',\n '_articul',\n '_artist',\n '_arxiv',\n '_ascii',\n '_asm',\n '_asn',\n '_aspect',\n '_assert',\n '_asset',\n '_assets_',\n '_associ',\n '_assumptions_',\n '_ast',\n '_asymmetric_',\n '_async',\n '_asynchron',\n '_asynchronous_',\n '_asyncio',\n '_asyncor',\n '_at',\n '_at_',\n '_atari',\n '_att_decoding_block_lay',\n '_attackvector',\n '_attention_',\n '_attention_states_',\n '_attentionwrapper_',\n '_attr',\n '_attribut',\n '_audio',\n '_auditedmongorepository_',\n '_auditori',\n '_aug',\n '_augmentation_',\n '_australian',\n '_auth',\n '_authent',\n '_author',\n '_authors_',\n '_auto',\n '_autobahn',\n '_autocomplete_',\n '_autodrome_',\n '_autodrone_',\n '_autoencoder_',\n '_autofixture_',\n '_autoflake_',\n '_autokey',\n '_autom',\n '_automat',\n '_automatically_',\n '_autoregressive_',\n '_autozi',\n '_avail',\n '_avatar',\n '_averag',\n '_average_',\n '_aw',\n '_awesom',\n '_azimuth',\n '_azur',\n '_azurenotebook',\n '_b',\n '_b_',\n '_backbone_',\n '_backend',\n '_backend_',\n '_background_',\n '_backport',\n '_backup',\n '_backwards_',\n '_bad',\n '_bad_',\n '_badg',\n '_badgerfish',\n '_badges_end',\n '_badges_start',\n '_bamboo_',\n '_barf',\n '_barf_',\n '_base',\n '_baselin',\n '_baseline_',\n '_basic',\n '_basicmathsourcecod',\n '_batch',\n '_batch_',\n '_be',\n '_beanbag',\n '_beat',\n '_beauti',\n '_becaus',\n '_bedtools_',\n '_beerware_',\n '_befor',\n '_before_',\n '_behav',\n '_behave_',\n '_behaving_',\n '_behavior_',\n '_bell',\n '_ben',\n '_bernoulli_',\n '_best',\n '_best_',\n '_beta_',\n '_better',\n '_better_',\n '_bi',\n '_bias_',\n '_biases_',\n '_bidirect',\n '_bidirectional_',\n '_big',\n '_bill',\n '_billion_',\n '_bin',\n '_binari',\n '_binary_',\n '_binder',\n '_bindiff_',\n '_binds_',\n '_bindtool',\n '_bing',\n '_biolog',\n '_bioservic',\n '_bip',\n '_black',\n '_black_',\n '_blacklivesmatter_',\n '_blackout',\n '_blaze_',\n '_blender',\n '_blizzard_',\n '_blobs_',\n '_block',\n '_block_duration_s_',\n '_blocksizes_',\n '_blog',\n '_blossom_',\n '_blue_',\n '_bluelight',\n '_blueprint',\n '_boardview_',\n '_bodi',\n '_body_',\n '_boilerplate_',\n '_bold',\n '_bolton',\n '_bonobo',\n '_boo',\n '_books_',\n '_bootstrap',\n '_bootstrap_',\n '_bop',\n '_bot',\n '_both',\n '_both_',\n '_boto',\n '_botorch',\n '_bottl',\n '_bottom_',\n '_bound',\n '_bounday',\n '_bounding_',\n '_bowti',\n '_bradwhittington_',\n '_branch',\n '_brat_',\n '_break',\n '_brian',\n '_broadinstitute_gtex_',\n '_broken_',\n '_browse_',\n '_browsercompat',\n '_browserifi',\n '_bruteforc',\n '_bsd',\n '_btcrecover_',\n '_bubbl',\n '_buddenbrooks_',\n '_buffer',\n '_bug',\n '_bughunting_',\n '_bugtrack',\n '_build',\n '_build_',\n '_build_network',\n '_build_status_st',\n '_buildlink',\n '_buildstatu',\n '_buku',\n '_bulk',\n '_but',\n '_but_',\n '_bw',\n '_bw_plex',\n '_bypass',\n '_byte',\n '_c',\n '_c_',\n '_c_w',\n '_cach',\n '_caenorhabd',\n '_caesar',\n '_cal_obj_mm_',\n '_cal_obj_px_',\n '_call',\n '_callabl',\n '_callbacks_',\n '_callgrind',\n '_calling_',\n '_camera',\n '_can',\n '_can_',\n '_candy_',\n '_canmatrix_',\n '_cannon',\n '_cannot_',\n '_canon',\n '_cap_per_img_',\n '_captur',\n '_carddav',\n '_cardiac',\n '_cascadaed_network_lm_',\n '_case',\n '_case_',\n '_cases_',\n '_cassowari',\n '_categori',\n '_categorical_',\n '_categories_',\n '_caulobact',\n '_causal',\n '_causalinference_',\n '_caution',\n '_cb_',\n '_cbc_',\n '_cbow',\n '_cch',\n '_celeri',\n '_celery_',\n '_cell',\n '_cell_',\n '_censor',\n '_censored_',\n '_censorship_',\n '_cento',\n '_certifi',\n '_cffi',\n '_cfm',\n '_chainer_',\n '_chaining_',\n '_challenge_',\n '_chang',\n '_change_',\n '_changed_',\n '_changelog',\n '_characters_',\n '_charlatan',\n '_chartbeat',\n '_check',\n '_checkout_',\n '_checkpoint',\n '_chestnut_',\n '_child_',\n '_children_',\n '_chips_',\n '_choic',\n '_choices_',\n '_choos',\n '_chooses_',\n '_christma',\n '_chromaprint',\n '_chrome_',\n '_chromium_',\n '_chroot_',\n '_cikm',\n '_ciphertext_',\n '_circl',\n '_circleci',\n '_circo_',\n '_class',\n '_classif',\n '_classification_',\n '_classifier_',\n '_classifiy_',\n '_classify_',\n '_clean',\n '_clean_',\n '_cleantext_',\n '_clear',\n '_clear_',\n '_click',\n '_click_',\n '_clickable_',\n '_clicki',\n '_clickmap',\n '_client',\n '_client_',\n '_clients_',\n '_clientvers',\n '_clikraken',\n '_clip',\n '_cliquet_',\n '_clone',\n '_close',\n '_close_',\n '_closed_',\n '_cloud_images_',\n '_cloze',\n '_clust_',\n '_clusterbed_',\n '_clusterdock_',\n '_clusteringcod',\n '_clusteringdoc',\n '_cnn',\n '_cnncode',\n '_cnndoc',\n '_cnsm',\n '_cobertura',\n '_cobra',\n '_cochlea_',\n '_cockpit_',\n '_cocktail',\n '_coco',\n '_coco_',\n '_code',\n '_code_long',\n '_codecov',\n '_codehealth',\n '_codenam',\n '_codequ',\n '_codern',\n '_codesponsorlink',\n '_coind_',\n '_coland',\n '_colanderalchemi',\n '_coll',\n '_collect',\n '_collect_',\n '_collection_',\n '_collections_',\n '_colorama',\n '_column_',\n '_come',\n '_comics_',\n '_comitup_',\n '_command',\n '_command_',\n '_commandline_',\n '_comment_',\n '_commit_',\n '_common',\n '_communicate_',\n '_compar',\n '_compat',\n ...]"
        },
        "execution_count": 41,
        "metadata": {},
        "output_type": "execute_result"
       }
      ],
      "source": "vectoriser.get_feature_names()",
      "start_time": "2020-03-23T14:37:05.773Z"
     },
     {
      "end_time": "2020-03-23T14:42:44.257Z",
      "execution_time": "47ms",
      "outputs": [
       {
        "data": {
         "text/plain": "['1',\n '10',\n '11',\n '12',\n '13',\n '2',\n '22',\n '3',\n '4',\n '5',\n '6',\n '7',\n '8',\n '9',\n 'aa',\n 'aaa',\n 'aaaa',\n 'aaaaaaaaaaaa',\n 'aaaaaaand',\n 'aaaabbbccdaa',\n 'aaab',\n 'aaabbc',\n 'aaai',\n 'aabb',\n 'aabcdcb',\n 'aac',\n 'aachen',\n 'aad',\n 'aada',\n 'aae',\n 'aaeaf',\n 'aafm',\n 'aag',\n 'aai',\n 'aak',\n 'aakash',\n 'aam',\n 'aambb',\n 'aame',\n 'aamport',\n 'aapl',\n 'aar',\n 'aarch',\n 'aardvark',\n 'aargau',\n 'aarhu',\n 'aaron',\n 'aarrggbb',\n 'aaru',\n 'aau',\n 'aauto',\n 'aaz',\n 'ab',\n 'ababa',\n 'ababac',\n 'abaca',\n 'abacab',\n 'abandon',\n 'abap',\n 'abaqu',\n 'abau',\n 'abb',\n 'abbc',\n 'abbeel',\n 'abbey',\n 'abbott',\n 'abbr',\n 'abbrevi',\n 'abbrseri',\n 'abbyy',\n 'abc',\n 'abcba',\n 'abcd',\n 'abcdef',\n 'abcdefghi',\n 'abcdv',\n 'abd',\n 'abda',\n 'abdallah',\n 'abdcef',\n 'abdera',\n 'abdulla',\n 'abe',\n 'abel',\n 'abelson',\n 'abenaki',\n 'abenez',\n 'aberr',\n 'abess',\n 'abgerufen',\n 'abhinav',\n 'abi',\n 'abid',\n 'abidin',\n 'abil',\n 'abilian',\n 'abililti',\n 'abilti',\n 'abinit',\n 'abinlinut',\n 'abitrari',\n 'abiword',\n 'abjanha',\n 'abl',\n 'ablat',\n 'ableton',\n 'ablil',\n 'abm',\n 'abnorm',\n 'abod',\n 'abojaepubiadvv',\n 'abomin',\n 'abort',\n 'aboukir',\n 'abour',\n 'abov',\n 'abovement',\n 'abp',\n 'abpeoplepickernavigationcontrollerdeleg',\n 'abr',\n 'abracadabra',\n 'abraham',\n 'abreast',\n 'abroad',\n 'abrog',\n 'abruptli',\n 'absa',\n 'absenc',\n 'absent',\n 'absente',\n 'absolut',\n 'absoluteoffset',\n 'absoluteprecrop',\n 'absorb',\n 'absorpt',\n 'abspath',\n 'absract',\n 'abstact',\n 'abstract',\n 'abstractbaseus',\n 'abstractfeatur',\n 'abstractfunct',\n 'abstractmodel',\n 'abstractpath',\n 'abstractsolv',\n 'abstrat',\n 'absurd',\n 'absurdli',\n 'abt',\n 'abu',\n 'abun',\n 'abund',\n 'abundantli',\n 'abus',\n 'abusehelp',\n 'abxaba',\n 'ac',\n 'aca',\n 'academ',\n 'academi',\n 'academia',\n 'academichonesti',\n 'acamar',\n 'acampo',\n 'acap',\n 'acar',\n 'acbkpsjnltexm',\n 'acbkpsjnltq',\n 'acbkpsjnmcaylji',\n 'acbkpsjnmtygoc',\n 'acbmawxspsijmzi',\n 'acc',\n 'accattoli',\n 'acccuraci',\n 'accdb',\n 'accel',\n 'accelar',\n 'acceler',\n 'acceleromet',\n 'acceleromt',\n 'acceller',\n 'accent',\n 'accepi',\n 'accept',\n 'accesor',\n 'access',\n 'accessibilitydisplayshoulddifferentiatewithoutcolor',\n 'accessibilityformat',\n 'accessibilitylabel',\n 'accessibilitysourc',\n 'accessiblilti',\n 'accessor',\n 'accessori',\n 'accid',\n 'accident',\n 'accidenti',\n 'accler',\n 'accommod',\n 'accomod',\n 'accompani',\n 'accomplish',\n 'accomponi',\n 'accord',\n 'accordingli',\n 'accordion',\n 'account',\n 'accountlist',\n 'accountnam',\n 'accountnumb',\n 'accredit',\n 'accret',\n 'accross',\n 'acctual',\n 'accuarci',\n 'accumul',\n 'accumulo',\n 'accur',\n 'accuraaci',\n 'accuraci',\n 'accuraterip',\n 'accuravi',\n 'accuray',\n 'accuri',\n 'accus',\n 'accustom',\n 'accv',\n 'acd',\n 'ace',\n 'aceh',\n 'aceitação',\n 'acejump',\n 'acer',\n 'acess',\n 'acestream',\n 'acetyl',\n 'acf',\n 'acfun',\n 'acg',\n 'acgan',\n 'ach',\n 'achael',\n 'achaemenid',\n 'achang',\n 'achanta',\n 'acheiv',\n 'achi',\n 'achiev',\n 'achitectur',\n 'achiv',\n 'achivev',\n 'aché',\n 'aci',\n 'acid',\n 'acinq',\n 'ack',\n 'acket',\n 'ackley',\n 'acklin',\n 'acknoledg',\n 'acknowledg',\n 'acknowledgelibfm',\n 'acktr',\n 'acl',\n 'aclass',\n 'aclean',\n 'aclos',\n 'acm',\n 'acmeappconf',\n 'acmebot',\n 'acmev',\n 'acml',\n 'acn',\n 'aco',\n 'acoli',\n 'acollationsattribut',\n 'acolyt',\n 'acommod',\n 'acomul',\n 'acoord',\n 'acora',\n 'acordingli',\n 'acosh',\n 'acoular',\n 'acoust',\n 'acoustician',\n 'acp',\n 'acpi',\n 'acqknowledg',\n 'acquaint',\n 'acquiaint',\n 'acquir',\n 'acquisit',\n 'acr',\n 'acrn',\n 'acrobat',\n 'acronym',\n 'acroread',\n 'acrosslit',\n 'acrosstim',\n 'acrylamid',\n 'acsti',\n 'act',\n 'action',\n 'actionaz',\n 'actionscript',\n 'actionsheet',\n 'actionspac',\n 'actionx',\n 'activ',\n 'activationfunct',\n 'activationist',\n 'activedata',\n 'activelli',\n 'activemq',\n 'activerecord',\n 'activest',\n 'activesync',\n 'activetask',\n 'activist',\n 'activit',\n 'activitynet',\n 'activitypub',\n 'actor',\n 'actorcrit',\n 'actual',\n 'actuali',\n 'actualvim',\n 'actuari',\n 'actuat',\n 'actulli',\n 'acu',\n 'acura',\n 'acurit',\n 'acut',\n 'acycl',\n 'ad',\n 'ada',\n 'adaboost',\n 'adachi',\n 'adad',\n 'adadelta',\n 'adafruit',\n 'adag',\n 'adagan',\n 'adagio',\n 'adagrad',\n 'adagradclassifi',\n 'adagradregressor',\n 'adagram',\n 'adain',\n 'adal',\n 'adam',\n 'adamoptim',\n 'adamw',\n 'adanet',\n 'adap',\n 'adapt',\n 'adaptionseg',\n 'adaptivegraphicallasso',\n 'adaptivesoftmax',\n 'adaptor',\n 'adasyn',\n 'adaszewski',\n 'adavantag',\n 'adaway',\n 'adb',\n 'adbannerview',\n 'adbba',\n 'adbf',\n 'adbiti',\n 'adblock',\n 'adblockpars',\n 'adbullah',\n 'adbview',\n 'adc',\n 'add',\n 'addapihook',\n 'addbom',\n 'addclitag',\n 'addendum',\n 'adder',\n 'addfirewal',\n 'addi',\n 'addic',\n 'addict',\n 'addig',\n 'addirittura',\n 'addit',\n 'additin',\n 'additionalautofield',\n 'additionali',\n 'additionalproperti',\n 'additionn',\n 'additon',\n 'addiv',\n 'addnetclifilt',\n 'addnettag',\n 'addon',\n 'addpoint',\n 'addr',\n 'address',\n 'addressbook',\n 'addresse',\n 'addressfield',\n 'addressnotfounderror',\n 'addresssanit',\n 'addresswithmapwidget',\n 'addrtyp',\n 'addscsvjinja',\n 'addslot',\n 'addsourc',\n 'addtagid',\n 'addtion',\n 'addtrackerfilt',\n 'addus',\n 'ade',\n 'adel',\n 'adelstein',\n 'adequ',\n 'adetokunbo',\n 'adf',\n 'adguard',\n 'adh',\n 'adher',\n 'adhikari',\n 'adhoc',\n 'adhocraci',\n 'adhola',\n 'adhrit',\n 'adi',\n 'adiac',\n 'adida',\n 'adioukr',\n 'adipisc',\n 'adit',\n 'aditya',\n 'adityaksood',\n 'adj',\n 'adjac',\n 'adject',\n 'adjoint',\n 'adjud',\n 'adjunct',\n 'adjust',\n 'adjustfunc',\n 'adjustmet',\n 'adjustor',\n 'adk',\n 'adl',\n 'adm',\n 'admin',\n 'admincli',\n 'adminip',\n 'administ',\n 'administartor',\n 'administr',\n 'adminkeynam',\n 'adminmodel',\n 'admino',\n 'adminpag',\n 'adminplu',\n 'adminrout',\n 'adminstr',\n 'admir',\n 'admiss',\n 'admit',\n 'admittedli',\n 'admm',\n 'admonit',\n 'adnan',\n 'ado',\n 'adob',\n 'adolesc',\n 'adolf',\n 'adopt',\n 'adpat',\n 'adrar',\n 'adress',\n 'adressess',\n 'adrian',\n 'adriana',\n 'adsi',\n 'adsr',\n 'adt',\n 'adu',\n 'adult',\n 'adultpasseng',\n 'adulyasak',\n 'adump',\n 'adv',\n 'adva',\n 'advanc',\n 'advancedfilt',\n 'advancedfilteradmin',\n 'advanceskeleton',\n 'advand',\n 'advanscen',\n 'advantag',\n 'advapi',\n 'advect',\n 'advent',\n 'adventur',\n 'adverb',\n 'advers',\n 'adversari',\n 'adversarialmodel',\n 'adversarialoptim',\n 'adversarialoptimizeraltern',\n 'adversarialoptimizerschedul',\n 'adversarialoptimizersimultan',\n 'adverseri',\n 'advertis',\n 'advic',\n 'advis',\n 'advisor',\n 'advisori',\n 'advoc',\n 'advocaci',\n 'advpng',\n 'advprop',\n 'advtruststor',\n 'adwar',\n 'adwind',\n 'adword',\n 'adx',\n 'adxl',\n 'adyen',\n 'adzok',\n 'ae',\n 'aecd',\n 'aeci',\n 'aeff',\n 'aegan',\n 'aegisub',\n 'aeidon',\n 'ael',\n 'aem',\n 'aen',\n 'aenea',\n 'aeneaact',\n 'aeneacontext',\n 'aenhanc',\n 'aequita',\n 'aerat',\n 'aerc',\n 'aercu',\n 'aerial',\n 'aerodynam',\n 'aeronet',\n 'aeroplan',\n 'aert',\n 'aesthet',\n 'aether',\n 'aethet',\n 'aey',\n 'af',\n 'afaan',\n 'afaik',\n 'afar',\n 'afari',\n 'afb',\n 'afc',\n 'afe',\n 'afew',\n 'affair',\n 'affect',\n 'affection',\n 'affero',\n 'affgan',\n 'affil',\n 'affili',\n 'affin',\n 'affirm',\n 'affix',\n 'afford',\n 'affus',\n 'afghanistan',\n 'afip',\n 'afl',\n 'afm',\n 'afn',\n 'afni',\n 'afor',\n 'aforement',\n 'aforment',\n 'afowl',\n 'afp',\n 'afr',\n 'afraid',\n 'afremov',\n 'africa',\n 'african',\n 'afrikaan',\n 'afriqu',\n 'afrl',\n 'afsuyg',\n 'afterbirth',\n 'afterlif',\n 'aftermarket',\n 'afternoon',\n 'afterqc',\n 'aftership',\n 'afterstep',\n 'afterthought',\n 'afterward',\n 'afu',\n 'afxz',\n 'ag',\n 'aganst',\n 'agarabi',\n 'agari',\n 'agarw',\n 'agd',\n 'age',\n 'agenc',\n 'agenda',\n 'agent',\n 'agentless',\n 'agentoper',\n 'agentredrabbit',\n 'agg',\n 'aggarw',\n 'agglom',\n 'agglomer',\n 'agglutin',\n 'aggreg',\n 'aggress',\n 'agha',\n 'agi',\n 'agil',\n 'agio',\n 'agisoft',\n 'agistrestructuredtext',\n 'agjac',\n 'agm',\n 'agn',\n 'agnost',\n 'agnostic',\n 'agnosticsnp',\n 'ago',\n 'agp',\n 'agpl',\n 'agplv',\n 'agr',\n 'agrangian',\n 'agraw',\n 'agre',\n 'agreeabl',\n 'agreement',\n 'agricultur',\n 'agta',\n 'aguaruna',\n 'aguilera',\n 'agument',\n 'agusan',\n 'agutaynen',\n 'ah',\n 'aha',\n 'ahahahahah',\n 'ahaz',\n 'ahc',\n 'ahci',\n 'ahct',\n 'ahead',\n 'ahjlzj',\n 'ahk',\n 'ahm',\n 'ahmad',\n 'ahmetalpbalkan',\n 'ahn',\n 'ahnam',\n 'ahnoogah',\n 'aho',\n 'ahonen',\n 'ahould',\n 'ahrq',\n 'ahsa',\n 'ai',\n 'aia',\n 'aiaa',\n 'aic',\n 'aid',\n 'aidan',\n 'aiff',\n 'aigp',\n 'aiida',\n 'aik',\n 'aiken',\n 'aikif',\n 'ail',\n 'aildn',\n 'aim',\n 'aimag',\n 'aiml',\n 'aio',\n 'aioamqp',\n 'aioboto',\n 'aiobotocor',\n 'aiochan',\n 'aiodn',\n 'aioelasticsearch',\n 'aiofil',\n 'aiohttp',\n 'aiokafka',\n 'aiokafkaconsum',\n 'aiokafkaproduc',\n 'aiomysql',\n 'aioodbc',\n 'aiop',\n 'aiopg',\n 'aioprocess',\n 'aiopyramid',\n 'aioquic',\n 'aiortc',\n 'aiosocksi',\n 'aiosql',\n 'aiosqlit',\n 'aiotask',\n 'aioxmpp',\n 'aiozmq',\n 'aip',\n 'air',\n 'airbnb',\n 'airborn',\n 'aircirculationmod',\n 'aircrack',\n 'aircraft',\n 'airdat',\n 'airdrop',\n 'airflow',\n 'airgap',\n 'airi',\n 'airlin',\n 'airmar',\n 'airnet',\n 'airnotifi',\n 'airo',\n 'airodump',\n 'airola',\n 'aironet',\n 'airplan',\n 'airplay',\n 'airport',\n 'airpwn',\n 'airship',\n 'airsim',\n 'airspe',\n 'airspi',\n 'airtabl',\n 'airtim',\n 'airtunesd',\n 'aisec',\n 'aishwarya',\n 'aisl',\n 'aissu',\n 'aist',\n 'aistat',\n 'aitken',\n 'aix',\n 'aiy',\n 'aiyproject',\n 'aj',\n 'ajaex',\n 'ajax',\n 'ajaxterm',\n 'ajay',\n 'ajdabiya',\n 'ajem',\n 'ajenti',\n 'ajq',\n 'ajxubmphkadcnx',\n 'ajyksqnczrompf',\n 'ak',\n 'aka',\n 'akademisch',\n 'akahaozhengli',\n 'akam',\n 'akamai',\n 'akash',\n 'akasha',\n 'akawaio',\n 'akb',\n 'akbari',\n 'akbarzadeh',\n 'akdemir',\n 'ake',\n 'akgül',\n 'akh',\n 'akha',\n 'akhdar',\n 'akhtar',\n 'akiaim',\n 'akiajcb',\n 'akin',\n 'akiyama',\n 'akjoujt',\n 'akka',\n 'akkadian',\n 'akkerman',\n 'akoos',\n 'akp',\n 'akret',\n 'aktaion',\n 'aktivm',\n 'aktogay',\n 'aku',\n 'akusok',\n 'akyildiz',\n 'al',\n 'ala',\n 'alabast',\n 'alac',\n 'alacritti',\n 'alaior',\n 'alamblak',\n 'alamosa',\n 'alan',\n 'alangan',\n 'alarm',\n 'alashan',\n 'alastair',\n 'alatest',\n 'alb',\n 'albacor',\n 'alban',\n 'albania',\n 'albanian',\n 'albantaki',\n 'albarrada',\n 'albedo',\n 'albeit',\n 'albert',\n 'alberta',\n 'albiez',\n 'album',\n 'albumgenr',\n 'albumgroup',\n 'albuquerqu',\n 'alcatel',\n 'alcazar',\n 'alchem',\n 'alchemi',\n 'alcohol',\n 'alcuni',\n 'alden',\n 'aldenhoven',\n 'aldiko',\n 'aldjemi',\n 'aldjemymeta',\n 'aldryn',\n 'aldwel',\n 'ale',\n 'aleadi',\n 'alec',\n 'alejandro',\n 'alekano',\n 'aleksand',\n 'aleksey',\n 'alemb',\n 'aleph',\n 'alephnul',\n 'alert',\n 'alertchannel',\n 'alertcondit',\n 'alertdialog',\n 'alerthash',\n 'alertmanag',\n 'alertop',\n 'alertr',\n 'alessandro',\n 'aleutian',\n 'alevin',\n 'alex',\n 'alexa',\n 'alexafsm',\n 'alexand',\n 'alexandr',\n 'alexandro',\n 'alexandru',\n 'alexcov',\n 'alexei',\n 'alexey',\n 'alexi',\n 'alexiu',\n 'alexjc',\n 'alexnet',\n 'alf',\n 'alfabet',\n 'alfiuman',\n 'alfonso',\n 'alfr',\n 'algebra',\n 'algecira',\n 'algeria',\n 'algo',\n 'algobean',\n 'algojamm',\n 'algolia',\n 'algopi',\n 'algorhytm',\n 'algorithim',\n 'algorithm',\n 'algorithmia',\n 'algoritm',\n 'algortihtm',\n 'algostack',\n 'algum',\n 'ali',\n 'alia',\n 'aliaksandr',\n 'aliaksei',\n 'alias',\n 'alibaba',\n 'alic',\n 'alicenseset',\n 'alicloud',\n 'alien',\n 'alienspi',\n 'alienvault',\n 'aliexpress',\n 'alif',\n 'align',\n 'alignak',\n 'alignbuddi',\n 'aligngan',\n 'aligntab',\n 'aligulac',\n 'alik',\n 'alimo',\n 'alina',\n 'alio',\n 'alipay',\n 'alipi',\n 'alir',\n 'alison',\n 'alisson',\n 'alisu',\n 'aliv',\n 'aliyun',\n 'alj',\n 'aljaraf',\n 'allan',\n 'allaun',\n 'allauth',\n 'allay',\n 'alldifferentconstraint',\n 'alldump',\n 'alleg',\n 'allegedli',\n 'allegori',\n 'allegro',\n 'allel',\n 'alleman',\n 'allen',\n 'allennlp',\n 'allequalconstraint',\n 'allergi',\n 'allevi',\n 'alley',\n 'allfro',\n 'allguesserreport',\n 'alli',\n 'allianc',\n 'allison',\n 'allknn',\n 'alll',\n 'allmap',\n 'allnoconfig',\n 'allo',\n 'alloc',\n 'allocat',\n 'allocatequbitg',\n 'allocemumem',\n 'allocin',\n 'allot',\n 'allouch',\n 'allout',\n 'allow',\n 'allowani',\n 'allowlist',\n 'alloyimag',\n 'alloystick',\n 'alloyteam',\n 'alloyteam代码规范',\n 'alloytimer定时器',\n 'allpairtest',\n 'allreduc',\n 'allsopp',\n 'alltogeth',\n 'allur',\n 'allura',\n 'alluxio',\n 'allx',\n 'allyesconfig',\n 'almanac',\n 'almar',\n 'almighti',\n 'almutawa',\n 'alo',\n 'alogorithm',\n ...]"
        },
        "execution_count": 44,
        "metadata": {},
        "output_type": "execute_result"
       }
      ],
      "source": "vectoriser.get_feature_names()",
      "start_time": "2020-03-23T14:42:44.210Z"
     },
     {
      "end_time": "2020-03-23T14:44:29.530Z",
      "execution_time": "47ms",
      "outputs": [
       {
        "data": {
         "text/plain": "['1',\n '10',\n '11',\n '12',\n '13',\n '2',\n '22',\n '3',\n '4',\n '5',\n '6',\n '7',\n '8',\n '9',\n 'aa',\n 'aaa',\n 'aaaa',\n 'aaaaaaaaaaaa',\n 'aaaaaaand',\n 'aaaabbbccdaa',\n 'aaab',\n 'aaabbc',\n 'aaai',\n 'aabb',\n 'aabcdcb',\n 'aac',\n 'aachen',\n 'aad',\n 'aada',\n 'aae',\n 'aaeaf',\n 'aafm',\n 'aag',\n 'aai',\n 'aak',\n 'aakash',\n 'aam',\n 'aambb',\n 'aame',\n 'aamport',\n 'aapl',\n 'aar',\n 'aarch',\n 'aardvark',\n 'aargau',\n 'aarhu',\n 'aaron',\n 'aarrggbb',\n 'aaru',\n 'aau',\n 'aauto',\n 'aaz',\n 'ab',\n 'ababa',\n 'ababac',\n 'abaca',\n 'abacab',\n 'abandon',\n 'abap',\n 'abaqu',\n 'abau',\n 'abb',\n 'abbc',\n 'abbeel',\n 'abbey',\n 'abbott',\n 'abbr',\n 'abbrevi',\n 'abbrseri',\n 'abbyy',\n 'abc',\n 'abcba',\n 'abcd',\n 'abcdef',\n 'abcdefghi',\n 'abcdv',\n 'abd',\n 'abda',\n 'abdallah',\n 'abdcef',\n 'abdera',\n 'abdulla',\n 'abe',\n 'abel',\n 'abelson',\n 'abenaki',\n 'abenez',\n 'aberr',\n 'abess',\n 'abgerufen',\n 'abhinav',\n 'abi',\n 'abid',\n 'abidin',\n 'abil',\n 'abilian',\n 'abililti',\n 'abilti',\n 'abinit',\n 'abinlinut',\n 'abitrari',\n 'abiword',\n 'abjanha',\n 'abl',\n 'ablat',\n 'ableton',\n 'ablil',\n 'abm',\n 'abnorm',\n 'abod',\n 'abojaepubiadvv',\n 'abomin',\n 'abort',\n 'aboukir',\n 'abour',\n 'abov',\n 'abovement',\n 'abp',\n 'abpeoplepickernavigationcontrollerdeleg',\n 'abr',\n 'abracadabra',\n 'abraham',\n 'abreast',\n 'abroad',\n 'abrog',\n 'abruptli',\n 'absa',\n 'absenc',\n 'absent',\n 'absente',\n 'absolut',\n 'absoluteoffset',\n 'absoluteprecrop',\n 'absorb',\n 'absorpt',\n 'abspath',\n 'absract',\n 'abstact',\n 'abstract',\n 'abstractbaseus',\n 'abstractfeatur',\n 'abstractfunct',\n 'abstractmodel',\n 'abstractpath',\n 'abstractsolv',\n 'abstrat',\n 'absurd',\n 'absurdli',\n 'abt',\n 'abu',\n 'abun',\n 'abund',\n 'abundantli',\n 'abus',\n 'abusehelp',\n 'abxaba',\n 'ac',\n 'aca',\n 'academ',\n 'academi',\n 'academia',\n 'academichonesti',\n 'acamar',\n 'acampo',\n 'acap',\n 'acar',\n 'acbkpsjnltexm',\n 'acbkpsjnltq',\n 'acbkpsjnmcaylji',\n 'acbkpsjnmtygoc',\n 'acbmawxspsijmzi',\n 'acc',\n 'accattoli',\n 'acccuraci',\n 'accdb',\n 'accel',\n 'accelar',\n 'acceler',\n 'acceleromet',\n 'acceleromt',\n 'acceller',\n 'accent',\n 'accepi',\n 'accept',\n 'accesor',\n 'access',\n 'accessibilitydisplayshoulddifferentiatewithoutcolor',\n 'accessibilityformat',\n 'accessibilitylabel',\n 'accessibilitysourc',\n 'accessiblilti',\n 'accessor',\n 'accessori',\n 'accid',\n 'accident',\n 'accidenti',\n 'accler',\n 'accommod',\n 'accomod',\n 'accompani',\n 'accomplish',\n 'accomponi',\n 'accord',\n 'accordingli',\n 'accordion',\n 'account',\n 'accountlist',\n 'accountnam',\n 'accountnumb',\n 'accredit',\n 'accret',\n 'accross',\n 'acctual',\n 'accuarci',\n 'accumul',\n 'accumulo',\n 'accur',\n 'accuraaci',\n 'accuraci',\n 'accuraterip',\n 'accuravi',\n 'accuray',\n 'accuri',\n 'accus',\n 'accustom',\n 'accv',\n 'acd',\n 'ace',\n 'aceh',\n 'aceitação',\n 'acejump',\n 'acer',\n 'acess',\n 'acestream',\n 'acetyl',\n 'acf',\n 'acfun',\n 'acg',\n 'acgan',\n 'ach',\n 'achael',\n 'achaemenid',\n 'achang',\n 'achanta',\n 'acheiv',\n 'achi',\n 'achiev',\n 'achitectur',\n 'achiv',\n 'achivev',\n 'aché',\n 'aci',\n 'acid',\n 'acinq',\n 'ack',\n 'acket',\n 'ackley',\n 'acklin',\n 'acknoledg',\n 'acknowledg',\n 'acknowledgelibfm',\n 'acktr',\n 'acl',\n 'aclass',\n 'aclean',\n 'aclos',\n 'acm',\n 'acmeappconf',\n 'acmebot',\n 'acmev',\n 'acml',\n 'acn',\n 'aco',\n 'acoli',\n 'acollationsattribut',\n 'acolyt',\n 'acommod',\n 'acomul',\n 'acoord',\n 'acora',\n 'acordingli',\n 'acosh',\n 'acoular',\n 'acoust',\n 'acoustician',\n 'acp',\n 'acpi',\n 'acqknowledg',\n 'acquaint',\n 'acquiaint',\n 'acquir',\n 'acquisit',\n 'acr',\n 'acrn',\n 'acrobat',\n 'acronym',\n 'acroread',\n 'acrosslit',\n 'acrosstim',\n 'acrylamid',\n 'acsti',\n 'act',\n 'action',\n 'actionaz',\n 'actionscript',\n 'actionsheet',\n 'actionspac',\n 'actionx',\n 'activ',\n 'activationfunct',\n 'activationist',\n 'activedata',\n 'activelli',\n 'activemq',\n 'activerecord',\n 'activest',\n 'activesync',\n 'activetask',\n 'activist',\n 'activit',\n 'activitynet',\n 'activitypub',\n 'actor',\n 'actorcrit',\n 'actual',\n 'actuali',\n 'actualvim',\n 'actuari',\n 'actuat',\n 'actulli',\n 'acu',\n 'acura',\n 'acurit',\n 'acut',\n 'acycl',\n 'ad',\n 'ada',\n 'adaboost',\n 'adachi',\n 'adad',\n 'adadelta',\n 'adafruit',\n 'adag',\n 'adagan',\n 'adagio',\n 'adagrad',\n 'adagradclassifi',\n 'adagradregressor',\n 'adagram',\n 'adain',\n 'adal',\n 'adam',\n 'adamoptim',\n 'adamw',\n 'adanet',\n 'adap',\n 'adapt',\n 'adaptionseg',\n 'adaptivegraphicallasso',\n 'adaptivesoftmax',\n 'adaptor',\n 'adasyn',\n 'adaszewski',\n 'adavantag',\n 'adaway',\n 'adb',\n 'adbannerview',\n 'adbba',\n 'adbf',\n 'adbiti',\n 'adblock',\n 'adblockpars',\n 'adbullah',\n 'adbview',\n 'adc',\n 'add',\n 'addapihook',\n 'addbom',\n 'addclitag',\n 'addendum',\n 'adder',\n 'addfirewal',\n 'addi',\n 'addic',\n 'addict',\n 'addig',\n 'addirittura',\n 'addit',\n 'additin',\n 'additionalautofield',\n 'additionali',\n 'additionalproperti',\n 'additionn',\n 'additon',\n 'addiv',\n 'addnetclifilt',\n 'addnettag',\n 'addon',\n 'addpoint',\n 'addr',\n 'address',\n 'addressbook',\n 'addresse',\n 'addressfield',\n 'addressnotfounderror',\n 'addresssanit',\n 'addresswithmapwidget',\n 'addrtyp',\n 'addscsvjinja',\n 'addslot',\n 'addsourc',\n 'addtagid',\n 'addtion',\n 'addtrackerfilt',\n 'addus',\n 'ade',\n 'adel',\n 'adelstein',\n 'adequ',\n 'adetokunbo',\n 'adf',\n 'adguard',\n 'adh',\n 'adher',\n 'adhikari',\n 'adhoc',\n 'adhocraci',\n 'adhola',\n 'adhrit',\n 'adi',\n 'adiac',\n 'adida',\n 'adioukr',\n 'adipisc',\n 'adit',\n 'aditya',\n 'adityaksood',\n 'adj',\n 'adjac',\n 'adject',\n 'adjoint',\n 'adjud',\n 'adjunct',\n 'adjust',\n 'adjustfunc',\n 'adjustmet',\n 'adjustor',\n 'adk',\n 'adl',\n 'adm',\n 'admin',\n 'admincli',\n 'adminip',\n 'administ',\n 'administartor',\n 'administr',\n 'adminkeynam',\n 'adminmodel',\n 'admino',\n 'adminpag',\n 'adminplu',\n 'adminrout',\n 'adminstr',\n 'admir',\n 'admiss',\n 'admit',\n 'admittedli',\n 'admm',\n 'admonit',\n 'adnan',\n 'ado',\n 'adob',\n 'adolesc',\n 'adolf',\n 'adopt',\n 'adpat',\n 'adrar',\n 'adress',\n 'adressess',\n 'adrian',\n 'adriana',\n 'adsi',\n 'adsr',\n 'adt',\n 'adu',\n 'adult',\n 'adultpasseng',\n 'adulyasak',\n 'adump',\n 'adv',\n 'adva',\n 'advanc',\n 'advancedfilt',\n 'advancedfilteradmin',\n 'advanceskeleton',\n 'advand',\n 'advanscen',\n 'advantag',\n 'advapi',\n 'advect',\n 'advent',\n 'adventur',\n 'adverb',\n 'advers',\n 'adversari',\n 'adversarialmodel',\n 'adversarialoptim',\n 'adversarialoptimizeraltern',\n 'adversarialoptimizerschedul',\n 'adversarialoptimizersimultan',\n 'adverseri',\n 'advertis',\n 'advic',\n 'advis',\n 'advisor',\n 'advisori',\n 'advoc',\n 'advocaci',\n 'advpng',\n 'advprop',\n 'advtruststor',\n 'adwar',\n 'adwind',\n 'adword',\n 'adx',\n 'adxl',\n 'adyen',\n 'adzok',\n 'ae',\n 'aecd',\n 'aeci',\n 'aeff',\n 'aegan',\n 'aegisub',\n 'aeidon',\n 'ael',\n 'aem',\n 'aen',\n 'aenea',\n 'aeneaact',\n 'aeneacontext',\n 'aenhanc',\n 'aequita',\n 'aerat',\n 'aerc',\n 'aercu',\n 'aerial',\n 'aerodynam',\n 'aeronet',\n 'aeroplan',\n 'aert',\n 'aesthet',\n 'aether',\n 'aethet',\n 'aey',\n 'af',\n 'afaan',\n 'afaik',\n 'afar',\n 'afari',\n 'afb',\n 'afc',\n 'afe',\n 'afew',\n 'affair',\n 'affect',\n 'affection',\n 'affero',\n 'affgan',\n 'affil',\n 'affili',\n 'affin',\n 'affirm',\n 'affix',\n 'afford',\n 'affus',\n 'afghanistan',\n 'afip',\n 'afl',\n 'afm',\n 'afn',\n 'afni',\n 'afor',\n 'aforement',\n 'aforment',\n 'afowl',\n 'afp',\n 'afr',\n 'afraid',\n 'afremov',\n 'africa',\n 'african',\n 'afrikaan',\n 'afriqu',\n 'afrl',\n 'afsuyg',\n 'afterbirth',\n 'afterlif',\n 'aftermarket',\n 'afternoon',\n 'afterqc',\n 'aftership',\n 'afterstep',\n 'afterthought',\n 'afterward',\n 'afu',\n 'afxz',\n 'ag',\n 'aganst',\n 'agarabi',\n 'agari',\n 'agarw',\n 'agd',\n 'age',\n 'agenc',\n 'agenda',\n 'agent',\n 'agentless',\n 'agentoper',\n 'agentredrabbit',\n 'agg',\n 'aggarw',\n 'agglom',\n 'agglomer',\n 'agglutin',\n 'aggreg',\n 'aggress',\n 'agha',\n 'agi',\n 'agil',\n 'agio',\n 'agisoft',\n 'agistrestructuredtext',\n 'agjac',\n 'agm',\n 'agn',\n 'agnost',\n 'agnostic',\n 'agnosticsnp',\n 'ago',\n 'agp',\n 'agpl',\n 'agplv',\n 'agr',\n 'agrangian',\n 'agraw',\n 'agre',\n 'agreeabl',\n 'agreement',\n 'agricultur',\n 'agta',\n 'aguaruna',\n 'aguilera',\n 'agument',\n 'agusan',\n 'agutaynen',\n 'ah',\n 'aha',\n 'ahahahahah',\n 'ahaz',\n 'ahc',\n 'ahci',\n 'ahct',\n 'ahead',\n 'ahjlzj',\n 'ahk',\n 'ahm',\n 'ahmad',\n 'ahmetalpbalkan',\n 'ahn',\n 'ahnam',\n 'ahnoogah',\n 'aho',\n 'ahonen',\n 'ahould',\n 'ahrq',\n 'ahsa',\n 'ai',\n 'aia',\n 'aiaa',\n 'aic',\n 'aid',\n 'aidan',\n 'aiff',\n 'aigp',\n 'aiida',\n 'aik',\n 'aiken',\n 'aikif',\n 'ail',\n 'aildn',\n 'aim',\n 'aimag',\n 'aiml',\n 'aio',\n 'aioamqp',\n 'aioboto',\n 'aiobotocor',\n 'aiochan',\n 'aiodn',\n 'aioelasticsearch',\n 'aiofil',\n 'aiohttp',\n 'aiokafka',\n 'aiokafkaconsum',\n 'aiokafkaproduc',\n 'aiomysql',\n 'aioodbc',\n 'aiop',\n 'aiopg',\n 'aioprocess',\n 'aiopyramid',\n 'aioquic',\n 'aiortc',\n 'aiosocksi',\n 'aiosql',\n 'aiosqlit',\n 'aiotask',\n 'aioxmpp',\n 'aiozmq',\n 'aip',\n 'air',\n 'airbnb',\n 'airborn',\n 'aircirculationmod',\n 'aircrack',\n 'aircraft',\n 'airdat',\n 'airdrop',\n 'airflow',\n 'airgap',\n 'airi',\n 'airlin',\n 'airmar',\n 'airnet',\n 'airnotifi',\n 'airo',\n 'airodump',\n 'airola',\n 'aironet',\n 'airplan',\n 'airplay',\n 'airport',\n 'airpwn',\n 'airship',\n 'airsim',\n 'airspe',\n 'airspi',\n 'airtabl',\n 'airtim',\n 'airtunesd',\n 'aisec',\n 'aishwarya',\n 'aisl',\n 'aissu',\n 'aist',\n 'aistat',\n 'aitken',\n 'aix',\n 'aiy',\n 'aiyproject',\n 'aj',\n 'ajaex',\n 'ajax',\n 'ajaxterm',\n 'ajay',\n 'ajdabiya',\n 'ajem',\n 'ajenti',\n 'ajq',\n 'ajxubmphkadcnx',\n 'ajyksqnczrompf',\n 'ak',\n 'aka',\n 'akademisch',\n 'akahaozhengli',\n 'akam',\n 'akamai',\n 'akash',\n 'akasha',\n 'akawaio',\n 'akb',\n 'akbari',\n 'akbarzadeh',\n 'akdemir',\n 'ake',\n 'akgül',\n 'akh',\n 'akha',\n 'akhdar',\n 'akhtar',\n 'akiaim',\n 'akiajcb',\n 'akin',\n 'akiyama',\n 'akjoujt',\n 'akka',\n 'akkadian',\n 'akkerman',\n 'akoos',\n 'akp',\n 'akret',\n 'aktaion',\n 'aktivm',\n 'aktogay',\n 'aku',\n 'akusok',\n 'akyildiz',\n 'al',\n 'ala',\n 'alabast',\n 'alac',\n 'alacritti',\n 'alaior',\n 'alamblak',\n 'alamosa',\n 'alan',\n 'alangan',\n 'alarm',\n 'alashan',\n 'alastair',\n 'alatest',\n 'alb',\n 'albacor',\n 'alban',\n 'albania',\n 'albanian',\n 'albantaki',\n 'albarrada',\n 'albedo',\n 'albeit',\n 'albert',\n 'alberta',\n 'albiez',\n 'album',\n 'albumgenr',\n 'albumgroup',\n 'albuquerqu',\n 'alcatel',\n 'alcazar',\n 'alchem',\n 'alchemi',\n 'alcohol',\n 'alcuni',\n 'alden',\n 'aldenhoven',\n 'aldiko',\n 'aldjemi',\n 'aldjemymeta',\n 'aldryn',\n 'aldwel',\n 'ale',\n 'aleadi',\n 'alec',\n 'alejandro',\n 'alekano',\n 'aleksand',\n 'aleksey',\n 'alemb',\n 'aleph',\n 'alephnul',\n 'alert',\n 'alertchannel',\n 'alertcondit',\n 'alertdialog',\n 'alerthash',\n 'alertmanag',\n 'alertop',\n 'alertr',\n 'alessandro',\n 'aleutian',\n 'alevin',\n 'alex',\n 'alexa',\n 'alexafsm',\n 'alexand',\n 'alexandr',\n 'alexandro',\n 'alexandru',\n 'alexcov',\n 'alexei',\n 'alexey',\n 'alexi',\n 'alexiu',\n 'alexjc',\n 'alexnet',\n 'alf',\n 'alfabet',\n 'alfiuman',\n 'alfonso',\n 'alfr',\n 'algebra',\n 'algecira',\n 'algeria',\n 'algo',\n 'algobean',\n 'algojamm',\n 'algolia',\n 'algopi',\n 'algorhytm',\n 'algorithim',\n 'algorithm',\n 'algorithmia',\n 'algoritm',\n 'algortihtm',\n 'algostack',\n 'algum',\n 'ali',\n 'alia',\n 'aliaksandr',\n 'aliaksei',\n 'alias',\n 'alibaba',\n 'alic',\n 'alicenseset',\n 'alicloud',\n 'alien',\n 'alienspi',\n 'alienvault',\n 'aliexpress',\n 'alif',\n 'align',\n 'alignak',\n 'alignbuddi',\n 'aligngan',\n 'aligntab',\n 'aligulac',\n 'alik',\n 'alimo',\n 'alina',\n 'alio',\n 'alipay',\n 'alipi',\n 'alir',\n 'alison',\n 'alisson',\n 'alisu',\n 'aliv',\n 'aliyun',\n 'alj',\n 'aljaraf',\n 'allan',\n 'allaun',\n 'allauth',\n 'allay',\n 'alldifferentconstraint',\n 'alldump',\n 'alleg',\n 'allegedli',\n 'allegori',\n 'allegro',\n 'allel',\n 'alleman',\n 'allen',\n 'allennlp',\n 'allequalconstraint',\n 'allergi',\n 'allevi',\n 'alley',\n 'allfro',\n 'allguesserreport',\n 'alli',\n 'allianc',\n 'allison',\n 'allknn',\n 'alll',\n 'allmap',\n 'allnoconfig',\n 'allo',\n 'alloc',\n 'allocat',\n 'allocatequbitg',\n 'allocemumem',\n 'allocin',\n 'allot',\n 'allouch',\n 'allout',\n 'allow',\n 'allowani',\n 'allowlist',\n 'alloyimag',\n 'alloystick',\n 'alloyteam',\n 'alloyteam代码规范',\n 'alloytimer定时器',\n 'allpairtest',\n 'allreduc',\n 'allsopp',\n 'alltogeth',\n 'allur',\n 'allura',\n 'alluxio',\n 'allx',\n 'allyesconfig',\n 'almanac',\n 'almar',\n 'almighti',\n 'almutawa',\n 'alo',\n 'alogorithm',\n ...]"
        },
        "execution_count": 49,
        "metadata": {},
        "output_type": "execute_result"
       }
      ],
      "source": "vectoriser.get_feature_names()",
      "start_time": "2020-03-23T14:44:29.483Z"
     },
     {
      "end_time": "2020-03-23T14:47:28.776Z",
      "execution_time": "27ms",
      "outputs": [
       {
        "data": {
         "text/plain": "1446600"
        },
        "execution_count": 50,
        "metadata": {},
        "output_type": "execute_result"
       }
      ],
      "source": "document_topic_mat.size",
      "start_time": "2020-03-23T14:47:28.749Z"
     },
     {
      "end_time": "2020-03-23T14:47:51.908Z",
      "execution_time": "15ms",
      "outputs": [
       {
        "data": {
         "text/plain": "(28932, 50)"
        },
        "execution_count": 51,
        "metadata": {},
        "output_type": "execute_result"
       }
      ],
      "source": "document_topic_mat.shape",
      "start_time": "2020-03-23T14:47:51.893Z"
     },
     {
      "end_time": "2020-03-23T14:49:15.553Z",
      "execution_time": "109ms",
      "outputs": [
       {
        "ename": "ValueError",
        "evalue": "Shape of passed values is (28932, 50), indices imply (28932, 44703)",
        "output_type": "error",
        "traceback": [
         "\u001b[1;31m---------------------------------------------------------------------------\u001b[0m",
         "\u001b[1;31mValueError\u001b[0m                                Traceback (most recent call last)",
         "\u001b[1;32m~\\AppData\\Roaming\\Python\\Python37\\site-packages\\pandas\\core\\internals\\managers.py\u001b[0m in \u001b[0;36mcreate_block_manager_from_blocks\u001b[1;34m(blocks, axes)\u001b[0m\n\u001b[0;32m   1677\u001b[0m                 blocks = [\n\u001b[1;32m-> 1678\u001b[1;33m                     \u001b[0mmake_block\u001b[0m\u001b[1;33m(\u001b[0m\u001b[0mvalues\u001b[0m\u001b[1;33m=\u001b[0m\u001b[0mblocks\u001b[0m\u001b[1;33m[\u001b[0m\u001b[1;36m0\u001b[0m\u001b[1;33m]\u001b[0m\u001b[1;33m,\u001b[0m \u001b[0mplacement\u001b[0m\u001b[1;33m=\u001b[0m\u001b[0mslice\u001b[0m\u001b[1;33m(\u001b[0m\u001b[1;36m0\u001b[0m\u001b[1;33m,\u001b[0m \u001b[0mlen\u001b[0m\u001b[1;33m(\u001b[0m\u001b[0maxes\u001b[0m\u001b[1;33m[\u001b[0m\u001b[1;36m0\u001b[0m\u001b[1;33m]\u001b[0m\u001b[1;33m)\u001b[0m\u001b[1;33m)\u001b[0m\u001b[1;33m)\u001b[0m\u001b[1;33m\u001b[0m\u001b[1;33m\u001b[0m\u001b[0m\n\u001b[0m\u001b[0;32m   1679\u001b[0m                 ]\n",
         "\u001b[1;32m~\\AppData\\Roaming\\Python\\Python37\\site-packages\\pandas\\core\\internals\\blocks.py\u001b[0m in \u001b[0;36mmake_block\u001b[1;34m(values, placement, klass, ndim, dtype, fastpath)\u001b[0m\n\u001b[0;32m   3283\u001b[0m \u001b[1;33m\u001b[0m\u001b[0m\n\u001b[1;32m-> 3284\u001b[1;33m     \u001b[1;32mreturn\u001b[0m \u001b[0mklass\u001b[0m\u001b[1;33m(\u001b[0m\u001b[0mvalues\u001b[0m\u001b[1;33m,\u001b[0m \u001b[0mndim\u001b[0m\u001b[1;33m=\u001b[0m\u001b[0mndim\u001b[0m\u001b[1;33m,\u001b[0m \u001b[0mplacement\u001b[0m\u001b[1;33m=\u001b[0m\u001b[0mplacement\u001b[0m\u001b[1;33m)\u001b[0m\u001b[1;33m\u001b[0m\u001b[1;33m\u001b[0m\u001b[0m\n\u001b[0m\u001b[0;32m   3285\u001b[0m \u001b[1;33m\u001b[0m\u001b[0m\n",
         "\u001b[1;32m~\\AppData\\Roaming\\Python\\Python37\\site-packages\\pandas\\core\\internals\\blocks.py\u001b[0m in \u001b[0;36m__init__\u001b[1;34m(self, values, placement, ndim)\u001b[0m\n\u001b[0;32m    127\u001b[0m                 \u001b[1;34m\"Wrong number of items passed {val}, placement implies \"\u001b[0m\u001b[1;33m\u001b[0m\u001b[1;33m\u001b[0m\u001b[0m\n\u001b[1;32m--> 128\u001b[1;33m                 \u001b[1;34m\"{mgr}\"\u001b[0m\u001b[1;33m.\u001b[0m\u001b[0mformat\u001b[0m\u001b[1;33m(\u001b[0m\u001b[0mval\u001b[0m\u001b[1;33m=\u001b[0m\u001b[0mlen\u001b[0m\u001b[1;33m(\u001b[0m\u001b[0mself\u001b[0m\u001b[1;33m.\u001b[0m\u001b[0mvalues\u001b[0m\u001b[1;33m)\u001b[0m\u001b[1;33m,\u001b[0m \u001b[0mmgr\u001b[0m\u001b[1;33m=\u001b[0m\u001b[0mlen\u001b[0m\u001b[1;33m(\u001b[0m\u001b[0mself\u001b[0m\u001b[1;33m.\u001b[0m\u001b[0mmgr_locs\u001b[0m\u001b[1;33m)\u001b[0m\u001b[1;33m)\u001b[0m\u001b[1;33m\u001b[0m\u001b[1;33m\u001b[0m\u001b[0m\n\u001b[0m\u001b[0;32m    129\u001b[0m             )\n",
         "\u001b[1;31mValueError\u001b[0m: Wrong number of items passed 50, placement implies 44703",
         "\nDuring handling of the above exception, another exception occurred:\n",
         "\u001b[1;31mValueError\u001b[0m                                Traceback (most recent call last)",
         "\u001b[1;32m<ipython-input-53-1b8c2cecb41b>\u001b[0m in \u001b[0;36m<module>\u001b[1;34m\u001b[0m\n\u001b[1;32m----> 1\u001b[1;33m \u001b[0mdocument_topic_frame\u001b[0m \u001b[1;33m=\u001b[0m \u001b[0mpd\u001b[0m\u001b[1;33m.\u001b[0m\u001b[0mDataFrame\u001b[0m\u001b[1;33m(\u001b[0m\u001b[0mdocument_topic_mat\u001b[0m\u001b[1;33m,\u001b[0m \u001b[0mcolumns\u001b[0m\u001b[1;33m=\u001b[0m\u001b[0mvectoriser\u001b[0m\u001b[1;33m.\u001b[0m\u001b[0mget_feature_names\u001b[0m\u001b[1;33m(\u001b[0m\u001b[1;33m)\u001b[0m\u001b[1;33m)\u001b[0m\u001b[1;33m\u001b[0m\u001b[1;33m\u001b[0m\u001b[0m\n\u001b[0m",
         "\u001b[1;32m~\\AppData\\Roaming\\Python\\Python37\\site-packages\\pandas\\core\\frame.py\u001b[0m in \u001b[0;36m__init__\u001b[1;34m(self, data, index, columns, dtype, copy)\u001b[0m\n\u001b[0;32m    438\u001b[0m                 \u001b[0mmgr\u001b[0m \u001b[1;33m=\u001b[0m \u001b[0minit_dict\u001b[0m\u001b[1;33m(\u001b[0m\u001b[1;33m{\u001b[0m\u001b[0mdata\u001b[0m\u001b[1;33m.\u001b[0m\u001b[0mname\u001b[0m\u001b[1;33m:\u001b[0m \u001b[0mdata\u001b[0m\u001b[1;33m}\u001b[0m\u001b[1;33m,\u001b[0m \u001b[0mindex\u001b[0m\u001b[1;33m,\u001b[0m \u001b[0mcolumns\u001b[0m\u001b[1;33m,\u001b[0m \u001b[0mdtype\u001b[0m\u001b[1;33m=\u001b[0m\u001b[0mdtype\u001b[0m\u001b[1;33m)\u001b[0m\u001b[1;33m\u001b[0m\u001b[1;33m\u001b[0m\u001b[0m\n\u001b[0;32m    439\u001b[0m             \u001b[1;32melse\u001b[0m\u001b[1;33m:\u001b[0m\u001b[1;33m\u001b[0m\u001b[1;33m\u001b[0m\u001b[0m\n\u001b[1;32m--> 440\u001b[1;33m                 \u001b[0mmgr\u001b[0m \u001b[1;33m=\u001b[0m \u001b[0minit_ndarray\u001b[0m\u001b[1;33m(\u001b[0m\u001b[0mdata\u001b[0m\u001b[1;33m,\u001b[0m \u001b[0mindex\u001b[0m\u001b[1;33m,\u001b[0m \u001b[0mcolumns\u001b[0m\u001b[1;33m,\u001b[0m \u001b[0mdtype\u001b[0m\u001b[1;33m=\u001b[0m\u001b[0mdtype\u001b[0m\u001b[1;33m,\u001b[0m \u001b[0mcopy\u001b[0m\u001b[1;33m=\u001b[0m\u001b[0mcopy\u001b[0m\u001b[1;33m)\u001b[0m\u001b[1;33m\u001b[0m\u001b[1;33m\u001b[0m\u001b[0m\n\u001b[0m\u001b[0;32m    441\u001b[0m \u001b[1;33m\u001b[0m\u001b[0m\n\u001b[0;32m    442\u001b[0m         \u001b[1;31m# For data is list-like, or Iterable (will consume into list)\u001b[0m\u001b[1;33m\u001b[0m\u001b[1;33m\u001b[0m\u001b[1;33m\u001b[0m\u001b[0m\n",
         "\u001b[1;32m~\\AppData\\Roaming\\Python\\Python37\\site-packages\\pandas\\core\\internals\\construction.py\u001b[0m in \u001b[0;36minit_ndarray\u001b[1;34m(values, index, columns, dtype, copy)\u001b[0m\n\u001b[0;32m    211\u001b[0m         \u001b[0mblock_values\u001b[0m \u001b[1;33m=\u001b[0m \u001b[1;33m[\u001b[0m\u001b[0mvalues\u001b[0m\u001b[1;33m]\u001b[0m\u001b[1;33m\u001b[0m\u001b[1;33m\u001b[0m\u001b[0m\n\u001b[0;32m    212\u001b[0m \u001b[1;33m\u001b[0m\u001b[0m\n\u001b[1;32m--> 213\u001b[1;33m     \u001b[1;32mreturn\u001b[0m \u001b[0mcreate_block_manager_from_blocks\u001b[0m\u001b[1;33m(\u001b[0m\u001b[0mblock_values\u001b[0m\u001b[1;33m,\u001b[0m \u001b[1;33m[\u001b[0m\u001b[0mcolumns\u001b[0m\u001b[1;33m,\u001b[0m \u001b[0mindex\u001b[0m\u001b[1;33m]\u001b[0m\u001b[1;33m)\u001b[0m\u001b[1;33m\u001b[0m\u001b[1;33m\u001b[0m\u001b[0m\n\u001b[0m\u001b[0;32m    214\u001b[0m \u001b[1;33m\u001b[0m\u001b[0m\n\u001b[0;32m    215\u001b[0m \u001b[1;33m\u001b[0m\u001b[0m\n",
         "\u001b[1;32m~\\AppData\\Roaming\\Python\\Python37\\site-packages\\pandas\\core\\internals\\managers.py\u001b[0m in \u001b[0;36mcreate_block_manager_from_blocks\u001b[1;34m(blocks, axes)\u001b[0m\n\u001b[0;32m   1686\u001b[0m         \u001b[0mblocks\u001b[0m \u001b[1;33m=\u001b[0m \u001b[1;33m[\u001b[0m\u001b[0mgetattr\u001b[0m\u001b[1;33m(\u001b[0m\u001b[0mb\u001b[0m\u001b[1;33m,\u001b[0m \u001b[1;34m\"values\"\u001b[0m\u001b[1;33m,\u001b[0m \u001b[0mb\u001b[0m\u001b[1;33m)\u001b[0m \u001b[1;32mfor\u001b[0m \u001b[0mb\u001b[0m \u001b[1;32min\u001b[0m \u001b[0mblocks\u001b[0m\u001b[1;33m]\u001b[0m\u001b[1;33m\u001b[0m\u001b[1;33m\u001b[0m\u001b[0m\n\u001b[0;32m   1687\u001b[0m         \u001b[0mtot_items\u001b[0m \u001b[1;33m=\u001b[0m \u001b[0msum\u001b[0m\u001b[1;33m(\u001b[0m\u001b[0mb\u001b[0m\u001b[1;33m.\u001b[0m\u001b[0mshape\u001b[0m\u001b[1;33m[\u001b[0m\u001b[1;36m0\u001b[0m\u001b[1;33m]\u001b[0m \u001b[1;32mfor\u001b[0m \u001b[0mb\u001b[0m \u001b[1;32min\u001b[0m \u001b[0mblocks\u001b[0m\u001b[1;33m)\u001b[0m\u001b[1;33m\u001b[0m\u001b[1;33m\u001b[0m\u001b[0m\n\u001b[1;32m-> 1688\u001b[1;33m         \u001b[0mconstruction_error\u001b[0m\u001b[1;33m(\u001b[0m\u001b[0mtot_items\u001b[0m\u001b[1;33m,\u001b[0m \u001b[0mblocks\u001b[0m\u001b[1;33m[\u001b[0m\u001b[1;36m0\u001b[0m\u001b[1;33m]\u001b[0m\u001b[1;33m.\u001b[0m\u001b[0mshape\u001b[0m\u001b[1;33m[\u001b[0m\u001b[1;36m1\u001b[0m\u001b[1;33m:\u001b[0m\u001b[1;33m]\u001b[0m\u001b[1;33m,\u001b[0m \u001b[0maxes\u001b[0m\u001b[1;33m,\u001b[0m \u001b[0me\u001b[0m\u001b[1;33m)\u001b[0m\u001b[1;33m\u001b[0m\u001b[1;33m\u001b[0m\u001b[0m\n\u001b[0m\u001b[0;32m   1689\u001b[0m \u001b[1;33m\u001b[0m\u001b[0m\n\u001b[0;32m   1690\u001b[0m \u001b[1;33m\u001b[0m\u001b[0m\n",
         "\u001b[1;32m~\\AppData\\Roaming\\Python\\Python37\\site-packages\\pandas\\core\\internals\\managers.py\u001b[0m in \u001b[0;36mconstruction_error\u001b[1;34m(tot_items, block_shape, axes, e)\u001b[0m\n\u001b[0;32m   1717\u001b[0m         \u001b[1;32mraise\u001b[0m \u001b[0mValueError\u001b[0m\u001b[1;33m(\u001b[0m\u001b[1;34m\"Empty data passed with indices specified.\"\u001b[0m\u001b[1;33m)\u001b[0m\u001b[1;33m\u001b[0m\u001b[1;33m\u001b[0m\u001b[0m\n\u001b[0;32m   1718\u001b[0m     raise ValueError(\n\u001b[1;32m-> 1719\u001b[1;33m         \u001b[1;34m\"Shape of passed values is {0}, indices imply {1}\"\u001b[0m\u001b[1;33m.\u001b[0m\u001b[0mformat\u001b[0m\u001b[1;33m(\u001b[0m\u001b[0mpassed\u001b[0m\u001b[1;33m,\u001b[0m \u001b[0mimplied\u001b[0m\u001b[1;33m)\u001b[0m\u001b[1;33m\u001b[0m\u001b[1;33m\u001b[0m\u001b[0m\n\u001b[0m\u001b[0;32m   1720\u001b[0m     )\n\u001b[0;32m   1721\u001b[0m \u001b[1;33m\u001b[0m\u001b[0m\n",
         "\u001b[1;31mValueError\u001b[0m: Shape of passed values is (28932, 50), indices imply (28932, 44703)"
        ]
       }
      ],
      "source": "document_topic_frame = pd.DataFrame(document_topic_mat, columns=vectoriser.get_feature_names())",
      "start_time": "2020-03-23T14:49:15.444Z"
     },
     {
      "end_time": "2020-03-23T14:50:22.682Z",
      "execution_time": "50ms",
      "outputs": [
       {
        "ename": "ValueError",
        "evalue": "DataFrame constructor not properly called!",
        "output_type": "error",
        "traceback": [
         "\u001b[1;31m---------------------------------------------------------------------------\u001b[0m",
         "\u001b[1;31mValueError\u001b[0m                                Traceback (most recent call last)",
         "\u001b[1;32m<ipython-input-54-9a530cbcb8bd>\u001b[0m in \u001b[0;36m<module>\u001b[1;34m\u001b[0m\n\u001b[1;32m----> 1\u001b[1;33m \u001b[0mdocument_topic_frame\u001b[0m \u001b[1;33m=\u001b[0m \u001b[0mpd\u001b[0m\u001b[1;33m.\u001b[0m\u001b[0mDataFrame\u001b[0m\u001b[1;33m(\u001b[0m\u001b[0mdocument_topic_mat\u001b[0m\u001b[1;33m.\u001b[0m\u001b[0mtranspose\u001b[0m\u001b[1;33m,\u001b[0m \u001b[0mcolumns\u001b[0m\u001b[1;33m=\u001b[0m\u001b[0mvectoriser\u001b[0m\u001b[1;33m.\u001b[0m\u001b[0mget_feature_names\u001b[0m\u001b[1;33m(\u001b[0m\u001b[1;33m)\u001b[0m\u001b[1;33m)\u001b[0m\u001b[1;33m\u001b[0m\u001b[1;33m\u001b[0m\u001b[0m\n\u001b[0m",
         "\u001b[1;32m~\\AppData\\Roaming\\Python\\Python37\\site-packages\\pandas\\core\\frame.py\u001b[0m in \u001b[0;36m__init__\u001b[1;34m(self, data, index, columns, dtype, copy)\u001b[0m\n\u001b[0;32m    483\u001b[0m                 )\n\u001b[0;32m    484\u001b[0m             \u001b[1;32melse\u001b[0m\u001b[1;33m:\u001b[0m\u001b[1;33m\u001b[0m\u001b[1;33m\u001b[0m\u001b[0m\n\u001b[1;32m--> 485\u001b[1;33m                 \u001b[1;32mraise\u001b[0m \u001b[0mValueError\u001b[0m\u001b[1;33m(\u001b[0m\u001b[1;34m\"DataFrame constructor not properly called!\"\u001b[0m\u001b[1;33m)\u001b[0m\u001b[1;33m\u001b[0m\u001b[1;33m\u001b[0m\u001b[0m\n\u001b[0m\u001b[0;32m    486\u001b[0m \u001b[1;33m\u001b[0m\u001b[0m\n\u001b[0;32m    487\u001b[0m         \u001b[0mNDFrame\u001b[0m\u001b[1;33m.\u001b[0m\u001b[0m__init__\u001b[0m\u001b[1;33m(\u001b[0m\u001b[0mself\u001b[0m\u001b[1;33m,\u001b[0m \u001b[0mmgr\u001b[0m\u001b[1;33m,\u001b[0m \u001b[0mfastpath\u001b[0m\u001b[1;33m=\u001b[0m\u001b[1;32mTrue\u001b[0m\u001b[1;33m)\u001b[0m\u001b[1;33m\u001b[0m\u001b[1;33m\u001b[0m\u001b[0m\n",
         "\u001b[1;31mValueError\u001b[0m: DataFrame constructor not properly called!"
        ]
       }
      ],
      "source": "document_topic_frame = pd.DataFrame(document_topic_mat.transpose, columns=vectoriser.get_feature_names())",
      "start_time": "2020-03-23T14:50:22.632Z"
     },
     {
      "end_time": "2020-03-23T14:50:31.229Z",
      "execution_time": "75ms",
      "outputs": [
       {
        "ename": "ValueError",
        "evalue": "Shape of passed values is (50, 28932), indices imply (50, 44703)",
        "output_type": "error",
        "traceback": [
         "\u001b[1;31m---------------------------------------------------------------------------\u001b[0m",
         "\u001b[1;31mValueError\u001b[0m                                Traceback (most recent call last)",
         "\u001b[1;32m~\\AppData\\Roaming\\Python\\Python37\\site-packages\\pandas\\core\\internals\\managers.py\u001b[0m in \u001b[0;36mcreate_block_manager_from_blocks\u001b[1;34m(blocks, axes)\u001b[0m\n\u001b[0;32m   1677\u001b[0m                 blocks = [\n\u001b[1;32m-> 1678\u001b[1;33m                     \u001b[0mmake_block\u001b[0m\u001b[1;33m(\u001b[0m\u001b[0mvalues\u001b[0m\u001b[1;33m=\u001b[0m\u001b[0mblocks\u001b[0m\u001b[1;33m[\u001b[0m\u001b[1;36m0\u001b[0m\u001b[1;33m]\u001b[0m\u001b[1;33m,\u001b[0m \u001b[0mplacement\u001b[0m\u001b[1;33m=\u001b[0m\u001b[0mslice\u001b[0m\u001b[1;33m(\u001b[0m\u001b[1;36m0\u001b[0m\u001b[1;33m,\u001b[0m \u001b[0mlen\u001b[0m\u001b[1;33m(\u001b[0m\u001b[0maxes\u001b[0m\u001b[1;33m[\u001b[0m\u001b[1;36m0\u001b[0m\u001b[1;33m]\u001b[0m\u001b[1;33m)\u001b[0m\u001b[1;33m)\u001b[0m\u001b[1;33m)\u001b[0m\u001b[1;33m\u001b[0m\u001b[1;33m\u001b[0m\u001b[0m\n\u001b[0m\u001b[0;32m   1679\u001b[0m                 ]\n",
         "\u001b[1;32m~\\AppData\\Roaming\\Python\\Python37\\site-packages\\pandas\\core\\internals\\blocks.py\u001b[0m in \u001b[0;36mmake_block\u001b[1;34m(values, placement, klass, ndim, dtype, fastpath)\u001b[0m\n\u001b[0;32m   3283\u001b[0m \u001b[1;33m\u001b[0m\u001b[0m\n\u001b[1;32m-> 3284\u001b[1;33m     \u001b[1;32mreturn\u001b[0m \u001b[0mklass\u001b[0m\u001b[1;33m(\u001b[0m\u001b[0mvalues\u001b[0m\u001b[1;33m,\u001b[0m \u001b[0mndim\u001b[0m\u001b[1;33m=\u001b[0m\u001b[0mndim\u001b[0m\u001b[1;33m,\u001b[0m \u001b[0mplacement\u001b[0m\u001b[1;33m=\u001b[0m\u001b[0mplacement\u001b[0m\u001b[1;33m)\u001b[0m\u001b[1;33m\u001b[0m\u001b[1;33m\u001b[0m\u001b[0m\n\u001b[0m\u001b[0;32m   3285\u001b[0m \u001b[1;33m\u001b[0m\u001b[0m\n",
         "\u001b[1;32m~\\AppData\\Roaming\\Python\\Python37\\site-packages\\pandas\\core\\internals\\blocks.py\u001b[0m in \u001b[0;36m__init__\u001b[1;34m(self, values, placement, ndim)\u001b[0m\n\u001b[0;32m    127\u001b[0m                 \u001b[1;34m\"Wrong number of items passed {val}, placement implies \"\u001b[0m\u001b[1;33m\u001b[0m\u001b[1;33m\u001b[0m\u001b[0m\n\u001b[1;32m--> 128\u001b[1;33m                 \u001b[1;34m\"{mgr}\"\u001b[0m\u001b[1;33m.\u001b[0m\u001b[0mformat\u001b[0m\u001b[1;33m(\u001b[0m\u001b[0mval\u001b[0m\u001b[1;33m=\u001b[0m\u001b[0mlen\u001b[0m\u001b[1;33m(\u001b[0m\u001b[0mself\u001b[0m\u001b[1;33m.\u001b[0m\u001b[0mvalues\u001b[0m\u001b[1;33m)\u001b[0m\u001b[1;33m,\u001b[0m \u001b[0mmgr\u001b[0m\u001b[1;33m=\u001b[0m\u001b[0mlen\u001b[0m\u001b[1;33m(\u001b[0m\u001b[0mself\u001b[0m\u001b[1;33m.\u001b[0m\u001b[0mmgr_locs\u001b[0m\u001b[1;33m)\u001b[0m\u001b[1;33m)\u001b[0m\u001b[1;33m\u001b[0m\u001b[1;33m\u001b[0m\u001b[0m\n\u001b[0m\u001b[0;32m    129\u001b[0m             )\n",
         "\u001b[1;31mValueError\u001b[0m: Wrong number of items passed 28932, placement implies 44703",
         "\nDuring handling of the above exception, another exception occurred:\n",
         "\u001b[1;31mValueError\u001b[0m                                Traceback (most recent call last)",
         "\u001b[1;32m<ipython-input-55-d45b364cf06a>\u001b[0m in \u001b[0;36m<module>\u001b[1;34m\u001b[0m\n\u001b[1;32m----> 1\u001b[1;33m \u001b[0mdocument_topic_frame\u001b[0m \u001b[1;33m=\u001b[0m \u001b[0mpd\u001b[0m\u001b[1;33m.\u001b[0m\u001b[0mDataFrame\u001b[0m\u001b[1;33m(\u001b[0m\u001b[0mdocument_topic_mat\u001b[0m\u001b[1;33m.\u001b[0m\u001b[0mtranspose\u001b[0m\u001b[1;33m(\u001b[0m\u001b[1;33m)\u001b[0m\u001b[1;33m,\u001b[0m \u001b[0mcolumns\u001b[0m\u001b[1;33m=\u001b[0m\u001b[0mvectoriser\u001b[0m\u001b[1;33m.\u001b[0m\u001b[0mget_feature_names\u001b[0m\u001b[1;33m(\u001b[0m\u001b[1;33m)\u001b[0m\u001b[1;33m)\u001b[0m\u001b[1;33m\u001b[0m\u001b[1;33m\u001b[0m\u001b[0m\n\u001b[0m",
         "\u001b[1;32m~\\AppData\\Roaming\\Python\\Python37\\site-packages\\pandas\\core\\frame.py\u001b[0m in \u001b[0;36m__init__\u001b[1;34m(self, data, index, columns, dtype, copy)\u001b[0m\n\u001b[0;32m    438\u001b[0m                 \u001b[0mmgr\u001b[0m \u001b[1;33m=\u001b[0m \u001b[0minit_dict\u001b[0m\u001b[1;33m(\u001b[0m\u001b[1;33m{\u001b[0m\u001b[0mdata\u001b[0m\u001b[1;33m.\u001b[0m\u001b[0mname\u001b[0m\u001b[1;33m:\u001b[0m \u001b[0mdata\u001b[0m\u001b[1;33m}\u001b[0m\u001b[1;33m,\u001b[0m \u001b[0mindex\u001b[0m\u001b[1;33m,\u001b[0m \u001b[0mcolumns\u001b[0m\u001b[1;33m,\u001b[0m \u001b[0mdtype\u001b[0m\u001b[1;33m=\u001b[0m\u001b[0mdtype\u001b[0m\u001b[1;33m)\u001b[0m\u001b[1;33m\u001b[0m\u001b[1;33m\u001b[0m\u001b[0m\n\u001b[0;32m    439\u001b[0m             \u001b[1;32melse\u001b[0m\u001b[1;33m:\u001b[0m\u001b[1;33m\u001b[0m\u001b[1;33m\u001b[0m\u001b[0m\n\u001b[1;32m--> 440\u001b[1;33m                 \u001b[0mmgr\u001b[0m \u001b[1;33m=\u001b[0m \u001b[0minit_ndarray\u001b[0m\u001b[1;33m(\u001b[0m\u001b[0mdata\u001b[0m\u001b[1;33m,\u001b[0m \u001b[0mindex\u001b[0m\u001b[1;33m,\u001b[0m \u001b[0mcolumns\u001b[0m\u001b[1;33m,\u001b[0m \u001b[0mdtype\u001b[0m\u001b[1;33m=\u001b[0m\u001b[0mdtype\u001b[0m\u001b[1;33m,\u001b[0m \u001b[0mcopy\u001b[0m\u001b[1;33m=\u001b[0m\u001b[0mcopy\u001b[0m\u001b[1;33m)\u001b[0m\u001b[1;33m\u001b[0m\u001b[1;33m\u001b[0m\u001b[0m\n\u001b[0m\u001b[0;32m    441\u001b[0m \u001b[1;33m\u001b[0m\u001b[0m\n\u001b[0;32m    442\u001b[0m         \u001b[1;31m# For data is list-like, or Iterable (will consume into list)\u001b[0m\u001b[1;33m\u001b[0m\u001b[1;33m\u001b[0m\u001b[1;33m\u001b[0m\u001b[0m\n",
         "\u001b[1;32m~\\AppData\\Roaming\\Python\\Python37\\site-packages\\pandas\\core\\internals\\construction.py\u001b[0m in \u001b[0;36minit_ndarray\u001b[1;34m(values, index, columns, dtype, copy)\u001b[0m\n\u001b[0;32m    211\u001b[0m         \u001b[0mblock_values\u001b[0m \u001b[1;33m=\u001b[0m \u001b[1;33m[\u001b[0m\u001b[0mvalues\u001b[0m\u001b[1;33m]\u001b[0m\u001b[1;33m\u001b[0m\u001b[1;33m\u001b[0m\u001b[0m\n\u001b[0;32m    212\u001b[0m \u001b[1;33m\u001b[0m\u001b[0m\n\u001b[1;32m--> 213\u001b[1;33m     \u001b[1;32mreturn\u001b[0m \u001b[0mcreate_block_manager_from_blocks\u001b[0m\u001b[1;33m(\u001b[0m\u001b[0mblock_values\u001b[0m\u001b[1;33m,\u001b[0m \u001b[1;33m[\u001b[0m\u001b[0mcolumns\u001b[0m\u001b[1;33m,\u001b[0m \u001b[0mindex\u001b[0m\u001b[1;33m]\u001b[0m\u001b[1;33m)\u001b[0m\u001b[1;33m\u001b[0m\u001b[1;33m\u001b[0m\u001b[0m\n\u001b[0m\u001b[0;32m    214\u001b[0m \u001b[1;33m\u001b[0m\u001b[0m\n\u001b[0;32m    215\u001b[0m \u001b[1;33m\u001b[0m\u001b[0m\n",
         "\u001b[1;32m~\\AppData\\Roaming\\Python\\Python37\\site-packages\\pandas\\core\\internals\\managers.py\u001b[0m in \u001b[0;36mcreate_block_manager_from_blocks\u001b[1;34m(blocks, axes)\u001b[0m\n\u001b[0;32m   1686\u001b[0m         \u001b[0mblocks\u001b[0m \u001b[1;33m=\u001b[0m \u001b[1;33m[\u001b[0m\u001b[0mgetattr\u001b[0m\u001b[1;33m(\u001b[0m\u001b[0mb\u001b[0m\u001b[1;33m,\u001b[0m \u001b[1;34m\"values\"\u001b[0m\u001b[1;33m,\u001b[0m \u001b[0mb\u001b[0m\u001b[1;33m)\u001b[0m \u001b[1;32mfor\u001b[0m \u001b[0mb\u001b[0m \u001b[1;32min\u001b[0m \u001b[0mblocks\u001b[0m\u001b[1;33m]\u001b[0m\u001b[1;33m\u001b[0m\u001b[1;33m\u001b[0m\u001b[0m\n\u001b[0;32m   1687\u001b[0m         \u001b[0mtot_items\u001b[0m \u001b[1;33m=\u001b[0m \u001b[0msum\u001b[0m\u001b[1;33m(\u001b[0m\u001b[0mb\u001b[0m\u001b[1;33m.\u001b[0m\u001b[0mshape\u001b[0m\u001b[1;33m[\u001b[0m\u001b[1;36m0\u001b[0m\u001b[1;33m]\u001b[0m \u001b[1;32mfor\u001b[0m \u001b[0mb\u001b[0m \u001b[1;32min\u001b[0m \u001b[0mblocks\u001b[0m\u001b[1;33m)\u001b[0m\u001b[1;33m\u001b[0m\u001b[1;33m\u001b[0m\u001b[0m\n\u001b[1;32m-> 1688\u001b[1;33m         \u001b[0mconstruction_error\u001b[0m\u001b[1;33m(\u001b[0m\u001b[0mtot_items\u001b[0m\u001b[1;33m,\u001b[0m \u001b[0mblocks\u001b[0m\u001b[1;33m[\u001b[0m\u001b[1;36m0\u001b[0m\u001b[1;33m]\u001b[0m\u001b[1;33m.\u001b[0m\u001b[0mshape\u001b[0m\u001b[1;33m[\u001b[0m\u001b[1;36m1\u001b[0m\u001b[1;33m:\u001b[0m\u001b[1;33m]\u001b[0m\u001b[1;33m,\u001b[0m \u001b[0maxes\u001b[0m\u001b[1;33m,\u001b[0m \u001b[0me\u001b[0m\u001b[1;33m)\u001b[0m\u001b[1;33m\u001b[0m\u001b[1;33m\u001b[0m\u001b[0m\n\u001b[0m\u001b[0;32m   1689\u001b[0m \u001b[1;33m\u001b[0m\u001b[0m\n\u001b[0;32m   1690\u001b[0m \u001b[1;33m\u001b[0m\u001b[0m\n",
         "\u001b[1;32m~\\AppData\\Roaming\\Python\\Python37\\site-packages\\pandas\\core\\internals\\managers.py\u001b[0m in \u001b[0;36mconstruction_error\u001b[1;34m(tot_items, block_shape, axes, e)\u001b[0m\n\u001b[0;32m   1717\u001b[0m         \u001b[1;32mraise\u001b[0m \u001b[0mValueError\u001b[0m\u001b[1;33m(\u001b[0m\u001b[1;34m\"Empty data passed with indices specified.\"\u001b[0m\u001b[1;33m)\u001b[0m\u001b[1;33m\u001b[0m\u001b[1;33m\u001b[0m\u001b[0m\n\u001b[0;32m   1718\u001b[0m     raise ValueError(\n\u001b[1;32m-> 1719\u001b[1;33m         \u001b[1;34m\"Shape of passed values is {0}, indices imply {1}\"\u001b[0m\u001b[1;33m.\u001b[0m\u001b[0mformat\u001b[0m\u001b[1;33m(\u001b[0m\u001b[0mpassed\u001b[0m\u001b[1;33m,\u001b[0m \u001b[0mimplied\u001b[0m\u001b[1;33m)\u001b[0m\u001b[1;33m\u001b[0m\u001b[1;33m\u001b[0m\u001b[0m\n\u001b[0m\u001b[0;32m   1720\u001b[0m     )\n\u001b[0;32m   1721\u001b[0m \u001b[1;33m\u001b[0m\u001b[0m\n",
         "\u001b[1;31mValueError\u001b[0m: Shape of passed values is (50, 28932), indices imply (50, 44703)"
        ]
       }
      ],
      "source": "document_topic_frame = pd.DataFrame(document_topic_mat.transpose(), columns=vectoriser.get_feature_names())",
      "start_time": "2020-03-23T14:50:31.154Z"
     },
     {
      "end_time": "2020-03-23T14:51:43.884Z",
      "execution_time": "30ms",
      "outputs": [],
      "source": "document_topic_frame = pd.DataFrame(document_topic_mat)",
      "start_time": "2020-03-23T14:51:43.854Z"
     },
     {
      "end_time": "2020-03-23T14:52:51.998Z",
      "execution_time": "31ms",
      "outputs": [
       {
        "ename": "AttributeError",
        "evalue": "module 'pandas' has no attribute 'write_csv'",
        "output_type": "error",
        "traceback": [
         "\u001b[1;31m---------------------------------------------------------------------------\u001b[0m",
         "\u001b[1;31mAttributeError\u001b[0m                            Traceback (most recent call last)",
         "\u001b[1;32m<ipython-input-57-8c7b502f82c0>\u001b[0m in \u001b[0;36m<module>\u001b[1;34m\u001b[0m\n\u001b[1;32m----> 1\u001b[1;33m \u001b[0mpd\u001b[0m\u001b[1;33m.\u001b[0m\u001b[0mDataFrame\u001b[0m\u001b[1;33m(\u001b[0m\u001b[0mdocument_topic_mat\u001b[0m\u001b[1;33m)\u001b[0m\u001b[1;33m.\u001b[0m\u001b[0mpipe\u001b[0m\u001b[1;33m(\u001b[0m\u001b[0mpd\u001b[0m\u001b[1;33m.\u001b[0m\u001b[0mwrite_csv\u001b[0m\u001b[1;33m(\u001b[0m\u001b[1;34m\"nmf_document_topics_50.csv\"\u001b[0m\u001b[1;33m)\u001b[0m\u001b[1;33m)\u001b[0m\u001b[1;33m\u001b[0m\u001b[1;33m\u001b[0m\u001b[0m\n\u001b[0m",
         "\u001b[1;32m~\\AppData\\Roaming\\Python\\Python37\\site-packages\\pandas\\__init__.py\u001b[0m in \u001b[0;36m__getattr__\u001b[1;34m(name)\u001b[0m\n\u001b[0;32m    212\u001b[0m \u001b[1;33m\u001b[0m\u001b[0m\n\u001b[0;32m    213\u001b[0m             \u001b[1;32mreturn\u001b[0m \u001b[0mPanel\u001b[0m\u001b[1;33m\u001b[0m\u001b[1;33m\u001b[0m\u001b[0m\n\u001b[1;32m--> 214\u001b[1;33m         \u001b[1;32mraise\u001b[0m \u001b[0mAttributeError\u001b[0m\u001b[1;33m(\u001b[0m\u001b[1;34m\"module 'pandas' has no attribute '{}'\"\u001b[0m\u001b[1;33m.\u001b[0m\u001b[0mformat\u001b[0m\u001b[1;33m(\u001b[0m\u001b[0mname\u001b[0m\u001b[1;33m)\u001b[0m\u001b[1;33m)\u001b[0m\u001b[1;33m\u001b[0m\u001b[1;33m\u001b[0m\u001b[0m\n\u001b[0m\u001b[0;32m    215\u001b[0m \u001b[1;33m\u001b[0m\u001b[0m\n\u001b[0;32m    216\u001b[0m \u001b[1;33m\u001b[0m\u001b[0m\n",
         "\u001b[1;31mAttributeError\u001b[0m: module 'pandas' has no attribute 'write_csv'"
        ]
       }
      ],
      "source": "pd.DataFrame(document_topic_mat).pipe(pd.write_csv(\"nmf_document_topics_50.csv\"))",
      "start_time": "2020-03-23T14:52:51.967Z"
     },
     {
      "end_time": "2020-03-23T14:54:35.881Z",
      "execution_time": "16ms",
      "outputs": [
       {
        "ename": "SyntaxError",
        "evalue": "invalid syntax (<ipython-input-58-89dfe5396422>, line 1)",
        "output_type": "error",
        "traceback": [
         "\u001b[1;36m  File \u001b[1;32m\"<ipython-input-58-89dfe5396422>\"\u001b[1;36m, line \u001b[1;32m1\u001b[0m\n\u001b[1;33m    pd.DataFrame(document_topic_mat).to_csv(\"../data/feature_extraction/nmf_document_topics_50.csv\"))\u001b[0m\n\u001b[1;37m                                                                                                    ^\u001b[0m\n\u001b[1;31mSyntaxError\u001b[0m\u001b[1;31m:\u001b[0m invalid syntax\n"
        ]
       }
      ],
      "source": "pd.DataFrame(document_topic_mat).to_csv(\"../data/feature_extraction/nmf_document_topics_50.csv\"))",
      "start_time": "2020-03-23T14:54:35.865Z"
     },
     {
      "end_time": "2020-03-23T14:57:03.512Z",
      "execution_time": "2m 23s",
      "outputs": [],
      "source": "pd.DataFrame(document_topic_mat).to_csv(\"../data/feature_extraction/nmf_document_topics_50.csv\")",
      "start_time": "2020-03-23T14:54:40.621Z"
     }
    ]
   },
   "outputs": [],
   "source": [
    "#pd.DataFrame(document_topic_mat).to_csv(\"../../data/feature_extraction/nmf_document_topics_50.csv\")"
   ]
  },
  {
   "cell_type": "code",
   "execution_count": null,
   "metadata": {
    "ExecutionTime": {
     "end_time": "2020-03-23T14:57:17.755914Z",
     "start_time": "2020-03-23T14:57:03.512688Z"
    },
    "provenance": [
     {
      "end_time": "2020-03-23T14:48:03.730Z",
      "execution_time": "16ms",
      "outputs": [
       {
        "data": {
         "text/plain": "(50, 44703)"
        },
        "execution_count": 52,
        "metadata": {},
        "output_type": "execute_result"
       }
      ],
      "source": "topic_word_mat.shape",
      "start_time": "2020-03-23T14:48:03.714Z"
     },
     {
      "end_time": "2020-03-23T14:57:17.755Z",
      "execution_time": "14.2s",
      "outputs": [],
      "source": "pd.DataFrame(topic_word_mat, columns=vectoriser.get_feature_names()).to_csv(\"../data/feature_extraction/nmf_topic_words_50.csv\")",
      "start_time": "2020-03-23T14:57:03.512Z"
     }
    ]
   },
   "outputs": [],
   "source": [
    "#pd.DataFrame(topic_word_mat, columns=vectoriser.get_feature_names()).to_csv(\"../../data/feature_extraction/nmf_topic_words_50.csv\")"
   ]
  }
 ],
 "metadata": {
  "kernelspec": {
   "display_name": "Python 3",
   "language": "python",
   "name": "python3"
  },
  "language_info": {
   "codemirror_mode": {
    "name": "ipython",
    "version": 3
   },
   "file_extension": ".py",
   "mimetype": "text/x-python",
   "name": "python",
   "nbconvert_exporter": "python",
   "pygments_lexer": "ipython3",
   "version": "3.7.3"
  }
 },
 "nbformat": 4,
 "nbformat_minor": 4
}
